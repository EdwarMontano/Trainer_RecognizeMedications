{
  "cells": [
    {
      "cell_type": "code",
      "source": [
        "!pip install ultralytics\n",
        "!pip install optuna"
      ],
      "metadata": {
        "colab": {
          "base_uri": "https://localhost:8080/"
        },
        "id": "g_jXt_DXp0tG",
        "outputId": "b3fbcdd2-d6f5-48cf-f64e-fa7a77eea1e1"
      },
      "id": "g_jXt_DXp0tG",
      "execution_count": 1,
      "outputs": [
        {
          "output_type": "stream",
          "name": "stdout",
          "text": [
            "Collecting ultralytics\n",
            "  Downloading ultralytics-8.2.28-py3-none-any.whl (779 kB)\n",
            "\u001b[2K     \u001b[90m━━━━━━━━━━━━━━━━━━━━━━━━━━━━━━━━━━━━━━━━\u001b[0m \u001b[32m779.6/779.6 kB\u001b[0m \u001b[31m10.4 MB/s\u001b[0m eta \u001b[36m0:00:00\u001b[0m\n",
            "\u001b[?25hRequirement already satisfied: matplotlib>=3.3.0 in /usr/local/lib/python3.10/dist-packages (from ultralytics) (3.7.1)\n",
            "Requirement already satisfied: opencv-python>=4.6.0 in /usr/local/lib/python3.10/dist-packages (from ultralytics) (4.8.0.76)\n",
            "Requirement already satisfied: pillow>=7.1.2 in /usr/local/lib/python3.10/dist-packages (from ultralytics) (9.4.0)\n",
            "Requirement already satisfied: pyyaml>=5.3.1 in /usr/local/lib/python3.10/dist-packages (from ultralytics) (6.0.1)\n",
            "Requirement already satisfied: requests>=2.23.0 in /usr/local/lib/python3.10/dist-packages (from ultralytics) (2.31.0)\n",
            "Requirement already satisfied: scipy>=1.4.1 in /usr/local/lib/python3.10/dist-packages (from ultralytics) (1.11.4)\n",
            "Requirement already satisfied: torch>=1.8.0 in /usr/local/lib/python3.10/dist-packages (from ultralytics) (2.3.0+cu121)\n",
            "Requirement already satisfied: torchvision>=0.9.0 in /usr/local/lib/python3.10/dist-packages (from ultralytics) (0.18.0+cu121)\n",
            "Requirement already satisfied: tqdm>=4.64.0 in /usr/local/lib/python3.10/dist-packages (from ultralytics) (4.66.4)\n",
            "Requirement already satisfied: psutil in /usr/local/lib/python3.10/dist-packages (from ultralytics) (5.9.5)\n",
            "Requirement already satisfied: py-cpuinfo in /usr/local/lib/python3.10/dist-packages (from ultralytics) (9.0.0)\n",
            "Requirement already satisfied: pandas>=1.1.4 in /usr/local/lib/python3.10/dist-packages (from ultralytics) (2.0.3)\n",
            "Requirement already satisfied: seaborn>=0.11.0 in /usr/local/lib/python3.10/dist-packages (from ultralytics) (0.13.1)\n",
            "Collecting ultralytics-thop>=0.2.5 (from ultralytics)\n",
            "  Downloading ultralytics_thop-0.2.7-py3-none-any.whl (25 kB)\n",
            "Requirement already satisfied: contourpy>=1.0.1 in /usr/local/lib/python3.10/dist-packages (from matplotlib>=3.3.0->ultralytics) (1.2.1)\n",
            "Requirement already satisfied: cycler>=0.10 in /usr/local/lib/python3.10/dist-packages (from matplotlib>=3.3.0->ultralytics) (0.12.1)\n",
            "Requirement already satisfied: fonttools>=4.22.0 in /usr/local/lib/python3.10/dist-packages (from matplotlib>=3.3.0->ultralytics) (4.52.4)\n",
            "Requirement already satisfied: kiwisolver>=1.0.1 in /usr/local/lib/python3.10/dist-packages (from matplotlib>=3.3.0->ultralytics) (1.4.5)\n",
            "Requirement already satisfied: numpy>=1.20 in /usr/local/lib/python3.10/dist-packages (from matplotlib>=3.3.0->ultralytics) (1.25.2)\n",
            "Requirement already satisfied: packaging>=20.0 in /usr/local/lib/python3.10/dist-packages (from matplotlib>=3.3.0->ultralytics) (24.0)\n",
            "Requirement already satisfied: pyparsing>=2.3.1 in /usr/local/lib/python3.10/dist-packages (from matplotlib>=3.3.0->ultralytics) (3.1.2)\n",
            "Requirement already satisfied: python-dateutil>=2.7 in /usr/local/lib/python3.10/dist-packages (from matplotlib>=3.3.0->ultralytics) (2.8.2)\n",
            "Requirement already satisfied: pytz>=2020.1 in /usr/local/lib/python3.10/dist-packages (from pandas>=1.1.4->ultralytics) (2023.4)\n",
            "Requirement already satisfied: tzdata>=2022.1 in /usr/local/lib/python3.10/dist-packages (from pandas>=1.1.4->ultralytics) (2024.1)\n",
            "Requirement already satisfied: charset-normalizer<4,>=2 in /usr/local/lib/python3.10/dist-packages (from requests>=2.23.0->ultralytics) (3.3.2)\n",
            "Requirement already satisfied: idna<4,>=2.5 in /usr/local/lib/python3.10/dist-packages (from requests>=2.23.0->ultralytics) (3.7)\n",
            "Requirement already satisfied: urllib3<3,>=1.21.1 in /usr/local/lib/python3.10/dist-packages (from requests>=2.23.0->ultralytics) (2.0.7)\n",
            "Requirement already satisfied: certifi>=2017.4.17 in /usr/local/lib/python3.10/dist-packages (from requests>=2.23.0->ultralytics) (2024.2.2)\n",
            "Requirement already satisfied: filelock in /usr/local/lib/python3.10/dist-packages (from torch>=1.8.0->ultralytics) (3.14.0)\n",
            "Requirement already satisfied: typing-extensions>=4.8.0 in /usr/local/lib/python3.10/dist-packages (from torch>=1.8.0->ultralytics) (4.12.0)\n",
            "Requirement already satisfied: sympy in /usr/local/lib/python3.10/dist-packages (from torch>=1.8.0->ultralytics) (1.12.1)\n",
            "Requirement already satisfied: networkx in /usr/local/lib/python3.10/dist-packages (from torch>=1.8.0->ultralytics) (3.3)\n",
            "Requirement already satisfied: jinja2 in /usr/local/lib/python3.10/dist-packages (from torch>=1.8.0->ultralytics) (3.1.4)\n",
            "Requirement already satisfied: fsspec in /usr/local/lib/python3.10/dist-packages (from torch>=1.8.0->ultralytics) (2023.6.0)\n",
            "Collecting nvidia-cuda-nvrtc-cu12==12.1.105 (from torch>=1.8.0->ultralytics)\n",
            "  Using cached nvidia_cuda_nvrtc_cu12-12.1.105-py3-none-manylinux1_x86_64.whl (23.7 MB)\n",
            "Collecting nvidia-cuda-runtime-cu12==12.1.105 (from torch>=1.8.0->ultralytics)\n",
            "  Using cached nvidia_cuda_runtime_cu12-12.1.105-py3-none-manylinux1_x86_64.whl (823 kB)\n",
            "Collecting nvidia-cuda-cupti-cu12==12.1.105 (from torch>=1.8.0->ultralytics)\n",
            "  Using cached nvidia_cuda_cupti_cu12-12.1.105-py3-none-manylinux1_x86_64.whl (14.1 MB)\n",
            "Collecting nvidia-cudnn-cu12==8.9.2.26 (from torch>=1.8.0->ultralytics)\n",
            "  Using cached nvidia_cudnn_cu12-8.9.2.26-py3-none-manylinux1_x86_64.whl (731.7 MB)\n",
            "Collecting nvidia-cublas-cu12==12.1.3.1 (from torch>=1.8.0->ultralytics)\n",
            "  Using cached nvidia_cublas_cu12-12.1.3.1-py3-none-manylinux1_x86_64.whl (410.6 MB)\n",
            "Collecting nvidia-cufft-cu12==11.0.2.54 (from torch>=1.8.0->ultralytics)\n",
            "  Using cached nvidia_cufft_cu12-11.0.2.54-py3-none-manylinux1_x86_64.whl (121.6 MB)\n",
            "Collecting nvidia-curand-cu12==10.3.2.106 (from torch>=1.8.0->ultralytics)\n",
            "  Using cached nvidia_curand_cu12-10.3.2.106-py3-none-manylinux1_x86_64.whl (56.5 MB)\n",
            "Collecting nvidia-cusolver-cu12==11.4.5.107 (from torch>=1.8.0->ultralytics)\n",
            "  Using cached nvidia_cusolver_cu12-11.4.5.107-py3-none-manylinux1_x86_64.whl (124.2 MB)\n",
            "Collecting nvidia-cusparse-cu12==12.1.0.106 (from torch>=1.8.0->ultralytics)\n",
            "  Using cached nvidia_cusparse_cu12-12.1.0.106-py3-none-manylinux1_x86_64.whl (196.0 MB)\n",
            "Collecting nvidia-nccl-cu12==2.20.5 (from torch>=1.8.0->ultralytics)\n",
            "  Using cached nvidia_nccl_cu12-2.20.5-py3-none-manylinux2014_x86_64.whl (176.2 MB)\n",
            "Collecting nvidia-nvtx-cu12==12.1.105 (from torch>=1.8.0->ultralytics)\n",
            "  Using cached nvidia_nvtx_cu12-12.1.105-py3-none-manylinux1_x86_64.whl (99 kB)\n",
            "Requirement already satisfied: triton==2.3.0 in /usr/local/lib/python3.10/dist-packages (from torch>=1.8.0->ultralytics) (2.3.0)\n",
            "Collecting nvidia-nvjitlink-cu12 (from nvidia-cusolver-cu12==11.4.5.107->torch>=1.8.0->ultralytics)\n",
            "  Downloading nvidia_nvjitlink_cu12-12.5.40-py3-none-manylinux2014_x86_64.whl (21.3 MB)\n",
            "\u001b[2K     \u001b[90m━━━━━━━━━━━━━━━━━━━━━━━━━━━━━━━━━━━━━━━━\u001b[0m \u001b[32m21.3/21.3 MB\u001b[0m \u001b[31m69.1 MB/s\u001b[0m eta \u001b[36m0:00:00\u001b[0m\n",
            "\u001b[?25hRequirement already satisfied: six>=1.5 in /usr/local/lib/python3.10/dist-packages (from python-dateutil>=2.7->matplotlib>=3.3.0->ultralytics) (1.16.0)\n",
            "Requirement already satisfied: MarkupSafe>=2.0 in /usr/local/lib/python3.10/dist-packages (from jinja2->torch>=1.8.0->ultralytics) (2.1.5)\n",
            "Requirement already satisfied: mpmath<1.4.0,>=1.1.0 in /usr/local/lib/python3.10/dist-packages (from sympy->torch>=1.8.0->ultralytics) (1.3.0)\n",
            "Installing collected packages: nvidia-nvtx-cu12, nvidia-nvjitlink-cu12, nvidia-nccl-cu12, nvidia-curand-cu12, nvidia-cufft-cu12, nvidia-cuda-runtime-cu12, nvidia-cuda-nvrtc-cu12, nvidia-cuda-cupti-cu12, nvidia-cublas-cu12, nvidia-cusparse-cu12, nvidia-cudnn-cu12, nvidia-cusolver-cu12, ultralytics-thop, ultralytics\n",
            "Successfully installed nvidia-cublas-cu12-12.1.3.1 nvidia-cuda-cupti-cu12-12.1.105 nvidia-cuda-nvrtc-cu12-12.1.105 nvidia-cuda-runtime-cu12-12.1.105 nvidia-cudnn-cu12-8.9.2.26 nvidia-cufft-cu12-11.0.2.54 nvidia-curand-cu12-10.3.2.106 nvidia-cusolver-cu12-11.4.5.107 nvidia-cusparse-cu12-12.1.0.106 nvidia-nccl-cu12-2.20.5 nvidia-nvjitlink-cu12-12.5.40 nvidia-nvtx-cu12-12.1.105 ultralytics-8.2.28 ultralytics-thop-0.2.7\n"
          ]
        }
      ]
    },
    {
      "cell_type": "code",
      "source": [
        "!ls '/content/DATASET3.zip'\n",
        "!unzip '/content/DATASET3.zip' -d dataset"
      ],
      "metadata": {
        "colab": {
          "base_uri": "https://localhost:8080/"
        },
        "id": "VB8EdKX1rga2",
        "outputId": "40590f87-96cd-4e79-c99a-448412b0588c"
      },
      "id": "VB8EdKX1rga2",
      "execution_count": 2,
      "outputs": [
        {
          "output_type": "stream",
          "name": "stdout",
          "text": [
            "/content/DATASET3.zip\n",
            "Archive:  /content/DATASET3.zip\n",
            "  inflating: dataset/README.dataset.txt  \n",
            "  inflating: dataset/README.roboflow.txt  \n",
            "  inflating: dataset/data.yaml       \n",
            "   creating: dataset/test/\n",
            "   creating: dataset/test/images/\n",
            " extracting: dataset/test/images/008BE35A-ED85-43FA-BFD5-8344139510A8_jpeg.rf.36908adaf34f6631423c41b6f5fff7db.jpg  \n",
            " extracting: dataset/test/images/00BBDD2C-C2A1-463B-8D00-992EB02D6EC2_jpeg.rf.e0c4df7d27de86254dedac365ff1c7d4.jpg  \n",
            " extracting: dataset/test/images/01D0AD14-E522-4737-85C9-551BF4FF9D96_jpeg.rf.bff626e61ed25516b6b2de262afd7a19.jpg  \n",
            " extracting: dataset/test/images/067ACD18-F150-4040-AC28-5E64B7FA4799_jpeg.rf.77ba8b2ed0c9ccd79398fb07e45d2ca9.jpg  \n",
            " extracting: dataset/test/images/0C7149D2-80E6-4D03-96D5-066D8308CA15_jpeg.rf.2f0eac5c8877981a5f5cf1c1d87511fb.jpg  \n",
            " extracting: dataset/test/images/0E7C212C-F026-4668-8C36-E59BDCD8A677_jpeg.rf.e3e551560066c23e43c91c2c80dc6884.jpg  \n",
            " extracting: dataset/test/images/127E44CB-1D40-4740-B907-90DB3F827E7E_jpeg.rf.ecd7903c05f26226bef07bfc40915856.jpg  \n",
            " extracting: dataset/test/images/13DF653A-4DD7-4A56-9B0D-2FB44C139513_jpeg.rf.a339c5cd2feb8dfb65665bd9217d7504.jpg  \n",
            " extracting: dataset/test/images/18A8618E-7840-40E0-903B-70EE6256D339_jpeg.rf.d0e63616981b93baad666cff374f974e.jpg  \n",
            " extracting: dataset/test/images/31212482-43E8-45FB-AAE7-4202F0ABB767_jpeg.rf.b3f7d746902d2adac5bac0b87b220c2d.jpg  \n",
            " extracting: dataset/test/images/35C887FE-ABF1-4EFB-8CD2-1D27B18365A4_jpeg.rf.6ffbb34964c5d37ecc8124a39b19e7f3.jpg  \n",
            " extracting: dataset/test/images/35E12B98-3639-4B86-A013-76031C6E5599_jpeg.rf.b596249175bdca3e7afd6ac125b1a81c.jpg  \n",
            " extracting: dataset/test/images/3B2711E6-0E64-4F5E-8250-BA5558DCCA75_jpeg.rf.b572efbfbe68f9c8748a4a694f7970d1.jpg  \n",
            " extracting: dataset/test/images/3E0DD733-3A3B-4CE9-86FB-009840C8D8F7_jpeg.rf.70bc2214a39e979f4d941d14fae568dc.jpg  \n",
            " extracting: dataset/test/images/43778302-F2EA-4158-BBC3-E08BE63E49B9_jpeg.rf.7a5ce6360483d02913be0fc28a349405.jpg  \n",
            " extracting: dataset/test/images/448C196E-BC9D-495D-8D59-3BDC1F7B5D57_jpeg.rf.83e0050b9abf6cd1b5f76322f9e4ca5e.jpg  \n",
            " extracting: dataset/test/images/457ACA4B-BC2C-4957-ADED-5B98F569081D_jpeg.rf.a4ba5aa5e6a792385c336ed8f354c255.jpg  \n",
            " extracting: dataset/test/images/4687AA17-CD84-425D-BC33-D4E8FBD77AC1_jpeg.rf.cedaaeddba8828c8ebc5edd0112ca51b.jpg  \n",
            " extracting: dataset/test/images/5A079C2F-609F-4746-9D39-29D0E1E1968D_jpeg.rf.8de0fe31061b73cfa242b35f01adb432.jpg  \n",
            " extracting: dataset/test/images/5EC540EC-AD58-4189-A852-16F686474B49_jpeg.rf.99f3078cb78e2bbd7817aae53703c632.jpg  \n",
            " extracting: dataset/test/images/602A34D0-1B0E-4F38-BCF3-785C604592CE_jpeg.rf.aeab212b91f4f3b0e0f3c478276a70f8.jpg  \n",
            " extracting: dataset/test/images/6738A1B5-C8EA-452B-9080-E6D16D1217E5_jpeg.rf.2722a723ec3e37c0ef51af2ca729adc4.jpg  \n",
            " extracting: dataset/test/images/6EEB8D24-C7A9-407E-8A4A-0078E1604490_jpeg.rf.66f12cf0e4d91cca991be827e57c1884.jpg  \n",
            " extracting: dataset/test/images/732D3317-B72B-4236-8FDF-BB245229E0B3_jpeg.rf.fd92c3b1d19253e88b0fccafe2f80cce.jpg  \n",
            " extracting: dataset/test/images/75627534-44C7-464B-B978-E81D793A8DB0_jpeg.rf.c05e8742b9fa200182e7dae4389d6436.jpg  \n",
            " extracting: dataset/test/images/835E1086-D083-45FD-B2DE-B950059D469A_jpeg.rf.0a8da0d654a7ec643eb672e5d2b4c5e7.jpg  \n",
            " extracting: dataset/test/images/85B46A91-12C1-4510-8444-78BA271D63E3_jpeg.rf.1c9d1869b8d07d629821debf5df4db0f.jpg  \n",
            " extracting: dataset/test/images/87E05FF9-FF80-4055-B53F-EEA39C992273_jpeg.rf.48f227246da85dcef0405a08474958be.jpg  \n",
            " extracting: dataset/test/images/8828E56D-ECF9-4C41-B579-0F97A7102D59_jpeg.rf.7001db0cf1f04505681bec61c03a7b4d.jpg  \n",
            " extracting: dataset/test/images/882A01C8-0283-49CB-9E61-62C197572086_jpeg.rf.d42dd13511256e9c889ad1aada9ee73f.jpg  \n",
            " extracting: dataset/test/images/8D16C079-383C-4DE4-B127-4CDB44D54C9B_jpeg.rf.139106fc919910ee29a2b8ff6588e368.jpg  \n",
            " extracting: dataset/test/images/908098B0-655C-4620-93F1-18803A67E320_jpeg.rf.f24a9576d374811ae5ebfd92fbd221f4.jpg  \n",
            " extracting: dataset/test/images/94B71B07-9E38-45D8-A598-AD7E16EB2A93_jpeg.rf.8ba7377a6bfd1b3eca27f59373cd87f2.jpg  \n",
            " extracting: dataset/test/images/974551B1-D525-4D46-ACB9-76F4910C19E2_jpeg.rf.1c5d7104da4496439efdb9883d9635e2.jpg  \n",
            " extracting: dataset/test/images/992D0732-CEB4-48B4-B917-8496D153DC67_jpeg.rf.52f9559448483be903a90240c22cb91d.jpg  \n",
            " extracting: dataset/test/images/9A306E53-0CE5-4F49-BEC6-203A859781FB_jpeg.rf.5a89893de2919abc6ec6429d7add464e.jpg  \n",
            " extracting: dataset/test/images/9CCEE114-F43C-48CC-A384-F8F7523D6693_jpeg.rf.e0d0b0bec19d7d99e0e8cd73ebb51ac6.jpg  \n",
            " extracting: dataset/test/images/AC40C9CE-34B4-4A41-BA23-553E7B860984_jpeg.rf.330913e136432542cc55c5d205ddd0b9.jpg  \n",
            " extracting: dataset/test/images/AD76C67E-5B88-463C-B2D9-8C5912290E66_jpeg.rf.c90ec291e67fbb30252bac99ab71b7fb.jpg  \n",
            " extracting: dataset/test/images/B55E46DD-67B5-4A86-96E5-28C322975E82_jpeg.rf.a0798b803408775ddbe691a24654d16b.jpg  \n",
            " extracting: dataset/test/images/B5B09234-F8F3-4260-8719-D59B2D6DC0E7_jpeg.rf.2d0a1e9903fa73719ec720eba218ecdf.jpg  \n",
            " extracting: dataset/test/images/B9E404E7-12FF-4816-8085-5F8560943A36_jpeg.rf.dccfa7dd0605bef0caba2ccb0f06effd.jpg  \n",
            " extracting: dataset/test/images/C047A195-826E-4171-B074-BA47CC6C5DD5_jpeg.rf.105dddd112a304128fec3e08457e031e.jpg  \n",
            " extracting: dataset/test/images/C1245D6E-C683-4FE1-8AAB-32E67C0BFC4D_jpeg.rf.45ffcd575fa28b9e0ad657868b47b4d8.jpg  \n",
            " extracting: dataset/test/images/C4F18DA9-E1B3-4A94-AE2D-88DAEF8F1741_jpeg.rf.c650fbc1b4af0a15a0bed4d9a682048d.jpg  \n",
            " extracting: dataset/test/images/CDE1A274-3DEA-4B81-ACC8-712C6F3D52D7_jpeg.rf.13f8889fdbdedc645fd02c443f31a2fa.jpg  \n",
            " extracting: dataset/test/images/CF01125B-D604-45E9-904B-15D7641F16D2_jpeg.rf.4258258c89d53cc879f2671daa0cab70.jpg  \n",
            " extracting: dataset/test/images/D0190303-0B6B-4BF1-BCFC-35DD0306EEFE_jpeg.rf.627d67cc1e5100daa6c1200dd5fd4d29.jpg  \n",
            " extracting: dataset/test/images/DA48C051-FE16-4123-ADFC-EB7EE2AE25E1_jpeg.rf.3f0af8854b38d54b5640174ad4d37def.jpg  \n",
            " extracting: dataset/test/images/DAA96DC2-8149-42B9-8B3C-FF3BF5FC9053_jpeg.rf.d5e424d2061f140a77a857c434285966.jpg  \n",
            " extracting: dataset/test/images/DEC50E3B-A846-46D2-A9E7-98E4463C0D2A_jpeg.rf.fadde46153a391bc6c6271e6e3570405.jpg  \n",
            " extracting: dataset/test/images/E2C41AB8-87B8-4E57-93AD-C7C84216000D_jpeg.rf.810b4cda6a76b916e25ee0bad76a4f2a.jpg  \n",
            " extracting: dataset/test/images/F6340F98-E64A-43C7-8E5A-FAFC96D68B7B_jpeg.rf.1f86d372ea2d09e42e8a01faf684d76f.jpg  \n",
            " extracting: dataset/test/images/F7617134-A97D-449F-A381-FAB77A4A0C72_jpeg.rf.1ceac065fc103a8119bb1a7a83974f80.jpg  \n",
            " extracting: dataset/test/images/FB61DAF2-7435-469C-87F4-090631382EA9_jpeg.rf.a23fc244f8e318a668c9f38eaadaf7e7.jpg  \n",
            " extracting: dataset/test/images/FCC405E6-BF5D-48C7-BCC4-5CFD9A5F8FC2_jpeg.rf.125b15b2b3bfc5b9778522b8ab0d1733.jpg  \n",
            " extracting: dataset/test/images/FECB6EF9-E9CC-4F1B-BFB6-176E55426E14_jpeg.rf.47ee908d073a769453e041eac55bab38.jpg  \n",
            "   creating: dataset/test/labels/\n",
            "  inflating: dataset/test/labels/008BE35A-ED85-43FA-BFD5-8344139510A8_jpeg.rf.36908adaf34f6631423c41b6f5fff7db.txt  \n",
            "  inflating: dataset/test/labels/00BBDD2C-C2A1-463B-8D00-992EB02D6EC2_jpeg.rf.e0c4df7d27de86254dedac365ff1c7d4.txt  \n",
            "  inflating: dataset/test/labels/01D0AD14-E522-4737-85C9-551BF4FF9D96_jpeg.rf.bff626e61ed25516b6b2de262afd7a19.txt  \n",
            "  inflating: dataset/test/labels/067ACD18-F150-4040-AC28-5E64B7FA4799_jpeg.rf.77ba8b2ed0c9ccd79398fb07e45d2ca9.txt  \n",
            "  inflating: dataset/test/labels/0C7149D2-80E6-4D03-96D5-066D8308CA15_jpeg.rf.2f0eac5c8877981a5f5cf1c1d87511fb.txt  \n",
            "  inflating: dataset/test/labels/0E7C212C-F026-4668-8C36-E59BDCD8A677_jpeg.rf.e3e551560066c23e43c91c2c80dc6884.txt  \n",
            "  inflating: dataset/test/labels/127E44CB-1D40-4740-B907-90DB3F827E7E_jpeg.rf.ecd7903c05f26226bef07bfc40915856.txt  \n",
            "  inflating: dataset/test/labels/13DF653A-4DD7-4A56-9B0D-2FB44C139513_jpeg.rf.a339c5cd2feb8dfb65665bd9217d7504.txt  \n",
            "  inflating: dataset/test/labels/18A8618E-7840-40E0-903B-70EE6256D339_jpeg.rf.d0e63616981b93baad666cff374f974e.txt  \n",
            "  inflating: dataset/test/labels/31212482-43E8-45FB-AAE7-4202F0ABB767_jpeg.rf.b3f7d746902d2adac5bac0b87b220c2d.txt  \n",
            "  inflating: dataset/test/labels/35C887FE-ABF1-4EFB-8CD2-1D27B18365A4_jpeg.rf.6ffbb34964c5d37ecc8124a39b19e7f3.txt  \n",
            "  inflating: dataset/test/labels/35E12B98-3639-4B86-A013-76031C6E5599_jpeg.rf.b596249175bdca3e7afd6ac125b1a81c.txt  \n",
            "  inflating: dataset/test/labels/3B2711E6-0E64-4F5E-8250-BA5558DCCA75_jpeg.rf.b572efbfbe68f9c8748a4a694f7970d1.txt  \n",
            "  inflating: dataset/test/labels/3E0DD733-3A3B-4CE9-86FB-009840C8D8F7_jpeg.rf.70bc2214a39e979f4d941d14fae568dc.txt  \n",
            "  inflating: dataset/test/labels/43778302-F2EA-4158-BBC3-E08BE63E49B9_jpeg.rf.7a5ce6360483d02913be0fc28a349405.txt  \n",
            "  inflating: dataset/test/labels/448C196E-BC9D-495D-8D59-3BDC1F7B5D57_jpeg.rf.83e0050b9abf6cd1b5f76322f9e4ca5e.txt  \n",
            "  inflating: dataset/test/labels/457ACA4B-BC2C-4957-ADED-5B98F569081D_jpeg.rf.a4ba5aa5e6a792385c336ed8f354c255.txt  \n",
            "  inflating: dataset/test/labels/4687AA17-CD84-425D-BC33-D4E8FBD77AC1_jpeg.rf.cedaaeddba8828c8ebc5edd0112ca51b.txt  \n",
            "  inflating: dataset/test/labels/5A079C2F-609F-4746-9D39-29D0E1E1968D_jpeg.rf.8de0fe31061b73cfa242b35f01adb432.txt  \n",
            "  inflating: dataset/test/labels/5EC540EC-AD58-4189-A852-16F686474B49_jpeg.rf.99f3078cb78e2bbd7817aae53703c632.txt  \n",
            "  inflating: dataset/test/labels/602A34D0-1B0E-4F38-BCF3-785C604592CE_jpeg.rf.aeab212b91f4f3b0e0f3c478276a70f8.txt  \n",
            "  inflating: dataset/test/labels/6738A1B5-C8EA-452B-9080-E6D16D1217E5_jpeg.rf.2722a723ec3e37c0ef51af2ca729adc4.txt  \n",
            "  inflating: dataset/test/labels/6EEB8D24-C7A9-407E-8A4A-0078E1604490_jpeg.rf.66f12cf0e4d91cca991be827e57c1884.txt  \n",
            "  inflating: dataset/test/labels/732D3317-B72B-4236-8FDF-BB245229E0B3_jpeg.rf.fd92c3b1d19253e88b0fccafe2f80cce.txt  \n",
            "  inflating: dataset/test/labels/75627534-44C7-464B-B978-E81D793A8DB0_jpeg.rf.c05e8742b9fa200182e7dae4389d6436.txt  \n",
            "  inflating: dataset/test/labels/835E1086-D083-45FD-B2DE-B950059D469A_jpeg.rf.0a8da0d654a7ec643eb672e5d2b4c5e7.txt  \n",
            "  inflating: dataset/test/labels/85B46A91-12C1-4510-8444-78BA271D63E3_jpeg.rf.1c9d1869b8d07d629821debf5df4db0f.txt  \n",
            "  inflating: dataset/test/labels/87E05FF9-FF80-4055-B53F-EEA39C992273_jpeg.rf.48f227246da85dcef0405a08474958be.txt  \n",
            "  inflating: dataset/test/labels/8828E56D-ECF9-4C41-B579-0F97A7102D59_jpeg.rf.7001db0cf1f04505681bec61c03a7b4d.txt  \n",
            "  inflating: dataset/test/labels/882A01C8-0283-49CB-9E61-62C197572086_jpeg.rf.d42dd13511256e9c889ad1aada9ee73f.txt  \n",
            "  inflating: dataset/test/labels/8D16C079-383C-4DE4-B127-4CDB44D54C9B_jpeg.rf.139106fc919910ee29a2b8ff6588e368.txt  \n",
            "  inflating: dataset/test/labels/908098B0-655C-4620-93F1-18803A67E320_jpeg.rf.f24a9576d374811ae5ebfd92fbd221f4.txt  \n",
            "  inflating: dataset/test/labels/94B71B07-9E38-45D8-A598-AD7E16EB2A93_jpeg.rf.8ba7377a6bfd1b3eca27f59373cd87f2.txt  \n",
            "  inflating: dataset/test/labels/974551B1-D525-4D46-ACB9-76F4910C19E2_jpeg.rf.1c5d7104da4496439efdb9883d9635e2.txt  \n",
            "  inflating: dataset/test/labels/992D0732-CEB4-48B4-B917-8496D153DC67_jpeg.rf.52f9559448483be903a90240c22cb91d.txt  \n",
            "  inflating: dataset/test/labels/9A306E53-0CE5-4F49-BEC6-203A859781FB_jpeg.rf.5a89893de2919abc6ec6429d7add464e.txt  \n",
            "  inflating: dataset/test/labels/9CCEE114-F43C-48CC-A384-F8F7523D6693_jpeg.rf.e0d0b0bec19d7d99e0e8cd73ebb51ac6.txt  \n",
            "  inflating: dataset/test/labels/AC40C9CE-34B4-4A41-BA23-553E7B860984_jpeg.rf.330913e136432542cc55c5d205ddd0b9.txt  \n",
            "  inflating: dataset/test/labels/AD76C67E-5B88-463C-B2D9-8C5912290E66_jpeg.rf.c90ec291e67fbb30252bac99ab71b7fb.txt  \n",
            "  inflating: dataset/test/labels/B55E46DD-67B5-4A86-96E5-28C322975E82_jpeg.rf.a0798b803408775ddbe691a24654d16b.txt  \n",
            "  inflating: dataset/test/labels/B5B09234-F8F3-4260-8719-D59B2D6DC0E7_jpeg.rf.2d0a1e9903fa73719ec720eba218ecdf.txt  \n",
            "  inflating: dataset/test/labels/B9E404E7-12FF-4816-8085-5F8560943A36_jpeg.rf.dccfa7dd0605bef0caba2ccb0f06effd.txt  \n",
            " extracting: dataset/test/labels/C047A195-826E-4171-B074-BA47CC6C5DD5_jpeg.rf.105dddd112a304128fec3e08457e031e.txt  \n",
            "  inflating: dataset/test/labels/C1245D6E-C683-4FE1-8AAB-32E67C0BFC4D_jpeg.rf.45ffcd575fa28b9e0ad657868b47b4d8.txt  \n",
            "  inflating: dataset/test/labels/C4F18DA9-E1B3-4A94-AE2D-88DAEF8F1741_jpeg.rf.c650fbc1b4af0a15a0bed4d9a682048d.txt  \n",
            "  inflating: dataset/test/labels/CDE1A274-3DEA-4B81-ACC8-712C6F3D52D7_jpeg.rf.13f8889fdbdedc645fd02c443f31a2fa.txt  \n",
            "  inflating: dataset/test/labels/CF01125B-D604-45E9-904B-15D7641F16D2_jpeg.rf.4258258c89d53cc879f2671daa0cab70.txt  \n",
            " extracting: dataset/test/labels/D0190303-0B6B-4BF1-BCFC-35DD0306EEFE_jpeg.rf.627d67cc1e5100daa6c1200dd5fd4d29.txt  \n",
            "  inflating: dataset/test/labels/DA48C051-FE16-4123-ADFC-EB7EE2AE25E1_jpeg.rf.3f0af8854b38d54b5640174ad4d37def.txt  \n",
            "  inflating: dataset/test/labels/DAA96DC2-8149-42B9-8B3C-FF3BF5FC9053_jpeg.rf.d5e424d2061f140a77a857c434285966.txt  \n",
            "  inflating: dataset/test/labels/DEC50E3B-A846-46D2-A9E7-98E4463C0D2A_jpeg.rf.fadde46153a391bc6c6271e6e3570405.txt  \n",
            "  inflating: dataset/test/labels/E2C41AB8-87B8-4E57-93AD-C7C84216000D_jpeg.rf.810b4cda6a76b916e25ee0bad76a4f2a.txt  \n",
            "  inflating: dataset/test/labels/F6340F98-E64A-43C7-8E5A-FAFC96D68B7B_jpeg.rf.1f86d372ea2d09e42e8a01faf684d76f.txt  \n",
            "  inflating: dataset/test/labels/F7617134-A97D-449F-A381-FAB77A4A0C72_jpeg.rf.1ceac065fc103a8119bb1a7a83974f80.txt  \n",
            "  inflating: dataset/test/labels/FB61DAF2-7435-469C-87F4-090631382EA9_jpeg.rf.a23fc244f8e318a668c9f38eaadaf7e7.txt  \n",
            "  inflating: dataset/test/labels/FCC405E6-BF5D-48C7-BCC4-5CFD9A5F8FC2_jpeg.rf.125b15b2b3bfc5b9778522b8ab0d1733.txt  \n",
            "  inflating: dataset/test/labels/FECB6EF9-E9CC-4F1B-BFB6-176E55426E14_jpeg.rf.47ee908d073a769453e041eac55bab38.txt  \n",
            "   creating: dataset/train/\n",
            "   creating: dataset/train/images/\n",
            " extracting: dataset/train/images/002968A7-AA66-46A8-A4B2-BB5473A3E7C7_jpeg.rf.2d13947ebd6e54989813ea214390e1ed.jpg  \n",
            " extracting: dataset/train/images/002968A7-AA66-46A8-A4B2-BB5473A3E7C7_jpeg.rf.716ffcfeb9d21febbbcb7ced91f8dfa7.jpg  \n",
            " extracting: dataset/train/images/002968A7-AA66-46A8-A4B2-BB5473A3E7C7_jpeg.rf.a1c346513095d3c55ac684f53a7514a7.jpg  \n",
            " extracting: dataset/train/images/0056C089-9E18-4C86-B966-D216A543F08E_jpeg.rf.4b800ce20f6eb2e98e2c4fc83cc7d3db.jpg  \n",
            " extracting: dataset/train/images/0056C089-9E18-4C86-B966-D216A543F08E_jpeg.rf.a5d176f44befea4bf813051b9f052a28.jpg  \n",
            " extracting: dataset/train/images/0056C089-9E18-4C86-B966-D216A543F08E_jpeg.rf.c1f69687655ff1bc90c844998f17a205.jpg  \n",
            " extracting: dataset/train/images/011535C8-D7B8-47DF-A4CE-A26C0C9D1B33_jpeg.rf.03f0679b7c2946e2b1dff063b32a91f7.jpg  \n",
            " extracting: dataset/train/images/011535C8-D7B8-47DF-A4CE-A26C0C9D1B33_jpeg.rf.37009c8949eefec17c5beb0700f42cfb.jpg  \n",
            " extracting: dataset/train/images/011535C8-D7B8-47DF-A4CE-A26C0C9D1B33_jpeg.rf.70b52f74d6d2eeb3d80107620314ff04.jpg  \n",
            " extracting: dataset/train/images/01C8FAAC-D02B-4CD1-9136-4B38BB9342DF_jpeg.rf.61db47286a966cffbe1474940f4cd4ea.jpg  \n",
            " extracting: dataset/train/images/01C8FAAC-D02B-4CD1-9136-4B38BB9342DF_jpeg.rf.abd30bd0f414a2b84bf2d209127d1474.jpg  \n",
            " extracting: dataset/train/images/01C8FAAC-D02B-4CD1-9136-4B38BB9342DF_jpeg.rf.f349c69735f2ddcaae24bbc350125cb8.jpg  \n",
            " extracting: dataset/train/images/01D371F1-2666-468B-AB06-72BF0747F10E_jpeg.rf.0ade8da60687d7733b98b22c93a97d59.jpg  \n",
            " extracting: dataset/train/images/01D371F1-2666-468B-AB06-72BF0747F10E_jpeg.rf.6ac2c82bad4e6b2d42778a5c69b64191.jpg  \n",
            " extracting: dataset/train/images/01D371F1-2666-468B-AB06-72BF0747F10E_jpeg.rf.957a37584645a4ea5a2737120a551217.jpg  \n",
            " extracting: dataset/train/images/01DBCB8D-7BC9-4B82-A2DF-B46736F9BC10_jpeg.rf.01d1567ce42d01ad0d48a5d1a495cd9e.jpg  \n",
            " extracting: dataset/train/images/01DBCB8D-7BC9-4B82-A2DF-B46736F9BC10_jpeg.rf.23f06d37445ea7284577ad71f61447a0.jpg  \n",
            " extracting: dataset/train/images/01DBCB8D-7BC9-4B82-A2DF-B46736F9BC10_jpeg.rf.36890f074a350f6f803ce293b8d8b63c.jpg  \n",
            " extracting: dataset/train/images/020CA8B7-892B-492B-A054-31575B661539_jpeg.rf.39596f4ff4b1b18241669391fbf0547f.jpg  \n",
            " extracting: dataset/train/images/020CA8B7-892B-492B-A054-31575B661539_jpeg.rf.7195d1095f65b04c234cc7a97487c1fa.jpg  \n",
            " extracting: dataset/train/images/020CA8B7-892B-492B-A054-31575B661539_jpeg.rf.b7c11eced5e8ef4a24c71a4bfe7e78d6.jpg  \n",
            " extracting: dataset/train/images/023DD2D5-9285-494E-9498-696F506A47C4_jpeg.rf.14c68d951555ca552f989ac71b9b8a72.jpg  \n",
            " extracting: dataset/train/images/023DD2D5-9285-494E-9498-696F506A47C4_jpeg.rf.9e245b12accb340a7ac67a3ce11b309a.jpg  \n",
            " extracting: dataset/train/images/023DD2D5-9285-494E-9498-696F506A47C4_jpeg.rf.e077a93923b2f5c6b63c25399fc814aa.jpg  \n",
            " extracting: dataset/train/images/035277D1-49FD-4B79-B304-2E5792F46B63_jpeg.rf.9f35eba1dcc0c2d687e8f481da1f4c9d.jpg  \n",
            " extracting: dataset/train/images/035277D1-49FD-4B79-B304-2E5792F46B63_jpeg.rf.f277520593c03cd87f696aa8f36218fd.jpg  \n",
            " extracting: dataset/train/images/035277D1-49FD-4B79-B304-2E5792F46B63_jpeg.rf.f30a8296d1a2eaa897ed54e61a8238d9.jpg  \n",
            " extracting: dataset/train/images/038C8FD2-3AFD-4E99-A94B-575A7F72C9C9_jpeg.rf.3a9335d562e64dd0397cbfff5c2e9b0c.jpg  \n",
            " extracting: dataset/train/images/038C8FD2-3AFD-4E99-A94B-575A7F72C9C9_jpeg.rf.4ecdc0ecd1d08ec42f588f30f026e247.jpg  \n",
            " extracting: dataset/train/images/038C8FD2-3AFD-4E99-A94B-575A7F72C9C9_jpeg.rf.a48053cbfd2fedde98cb814d47349598.jpg  \n",
            " extracting: dataset/train/images/051907F9-FE56-42D5-9502-C540BD38F666_jpeg.rf.08ac77e7b4f61ac127e0bd6bfc6f39c1.jpg  \n",
            " extracting: dataset/train/images/051907F9-FE56-42D5-9502-C540BD38F666_jpeg.rf.583ab890c340f43c779d33f4adfab9ad.jpg  \n",
            " extracting: dataset/train/images/051907F9-FE56-42D5-9502-C540BD38F666_jpeg.rf.c9f519e1898712596269cf7d9f5c1056.jpg  \n",
            " extracting: dataset/train/images/05703C5F-FFB4-4DCB-A93D-6E3A1DDCB8F4_jpeg.rf.30d42e28484d365713b9110382653330.jpg  \n",
            " extracting: dataset/train/images/05703C5F-FFB4-4DCB-A93D-6E3A1DDCB8F4_jpeg.rf.a6c618f24f8d65e76545fc3760afe378.jpg  \n",
            " extracting: dataset/train/images/05703C5F-FFB4-4DCB-A93D-6E3A1DDCB8F4_jpeg.rf.d6dc14e8eea085bd109067df45757ead.jpg  \n",
            " extracting: dataset/train/images/05BB38C6-D15E-4C85-A460-E6B3A0C9A5F8_jpeg.rf.5887bfda570c97093da8f0b59da1a706.jpg  \n",
            " extracting: dataset/train/images/05BB38C6-D15E-4C85-A460-E6B3A0C9A5F8_jpeg.rf.befd2830bc836c5958c6be1eb0f85c90.jpg  \n",
            " extracting: dataset/train/images/05BB38C6-D15E-4C85-A460-E6B3A0C9A5F8_jpeg.rf.c08838311d35fc045a1e00ab8adeacd1.jpg  \n",
            " extracting: dataset/train/images/05F8A8F8-F506-4EAD-9A80-060DC31E3033_jpeg.rf.1f099f5837854a76178e357ace86070a.jpg  \n",
            " extracting: dataset/train/images/05F8A8F8-F506-4EAD-9A80-060DC31E3033_jpeg.rf.bb9a05b95501c60026efdb41ba91cf30.jpg  \n",
            " extracting: dataset/train/images/05F8A8F8-F506-4EAD-9A80-060DC31E3033_jpeg.rf.ca03c9569a3dd8e3429d1f65ecc884f8.jpg  \n",
            " extracting: dataset/train/images/06626FF1-3536-4BCA-A3F4-A74F95389078_jpeg.rf.1317038624efe914908ad10f7cb10cf5.jpg  \n",
            " extracting: dataset/train/images/06626FF1-3536-4BCA-A3F4-A74F95389078_jpeg.rf.21b5d492e9e301ad4a9fad8a1ef3760d.jpg  \n",
            " extracting: dataset/train/images/06626FF1-3536-4BCA-A3F4-A74F95389078_jpeg.rf.6d48444fb764f6254df3997fb2b5240a.jpg  \n",
            " extracting: dataset/train/images/068A0A32-FF65-4E75-8057-6609FB0D141B_jpeg.rf.7d0c832a783f9cfeb0c421c1ddc154f7.jpg  \n",
            " extracting: dataset/train/images/068A0A32-FF65-4E75-8057-6609FB0D141B_jpeg.rf.d0edc84d649712d98b8d970700f894a9.jpg  \n",
            " extracting: dataset/train/images/068A0A32-FF65-4E75-8057-6609FB0D141B_jpeg.rf.ee33f0b76fc6e81211fabcc8f532e69f.jpg  \n",
            " extracting: dataset/train/images/06AAF86B-8FD4-4108-AFDF-8042F9275643_jpeg.rf.1569c3ff3f6887207107c9d96d0abf7b.jpg  \n",
            " extracting: dataset/train/images/06AAF86B-8FD4-4108-AFDF-8042F9275643_jpeg.rf.c419553f623019e1e49d5ed68e6501c7.jpg  \n",
            " extracting: dataset/train/images/06AAF86B-8FD4-4108-AFDF-8042F9275643_jpeg.rf.e80498dc8a9f8115ccbeebd0d84a900e.jpg  \n",
            " extracting: dataset/train/images/07369B5F-1354-4DEB-B2EC-A3DE4036CB8F_jpeg.rf.5935f01b9b9586af1614401acb525243.jpg  \n",
            " extracting: dataset/train/images/07369B5F-1354-4DEB-B2EC-A3DE4036CB8F_jpeg.rf.a50519293c56e5ddbbff8ad7aa606c25.jpg  \n",
            " extracting: dataset/train/images/07369B5F-1354-4DEB-B2EC-A3DE4036CB8F_jpeg.rf.f4cb6a7280c959fa3002f7b857a5389c.jpg  \n",
            " extracting: dataset/train/images/086482C6-4F97-479F-A500-3270D6FA4D2D_jpeg.rf.0d6e00459f2a2091e1d69a3483926027.jpg  \n",
            " extracting: dataset/train/images/086482C6-4F97-479F-A500-3270D6FA4D2D_jpeg.rf.850e2b6db83942b1191c226eeb8cbada.jpg  \n",
            " extracting: dataset/train/images/086482C6-4F97-479F-A500-3270D6FA4D2D_jpeg.rf.e25ebc58c5e7d754397bcca3d71af20c.jpg  \n",
            " extracting: dataset/train/images/0967212C-C6FC-446C-BA08-182BB16789FD_jpeg.rf.0f245748c88863413debea54d1d43deb.jpg  \n",
            " extracting: dataset/train/images/0967212C-C6FC-446C-BA08-182BB16789FD_jpeg.rf.1ff3737d3060863c8290f1976930d1d6.jpg  \n",
            " extracting: dataset/train/images/0967212C-C6FC-446C-BA08-182BB16789FD_jpeg.rf.f96b70b46daba0b7a7b08963ac963b1b.jpg  \n",
            " extracting: dataset/train/images/0A8BEBF3-1BDF-4AB0-8809-AA97F929EB4E_jpeg.rf.7dbe9437e110e669c51f9986a965454f.jpg  \n",
            " extracting: dataset/train/images/0A8BEBF3-1BDF-4AB0-8809-AA97F929EB4E_jpeg.rf.aa2645feaac73fdbfa3c13c928d13a8d.jpg  \n",
            " extracting: dataset/train/images/0A8BEBF3-1BDF-4AB0-8809-AA97F929EB4E_jpeg.rf.cf91ea86cf2fb8785b495c8acc3d9b5f.jpg  \n",
            " extracting: dataset/train/images/0B26D927-3AEF-4702-922D-F7B3FD497D31_jpeg.rf.77f750ab4b4c660077a39fbf5f5e94d0.jpg  \n",
            " extracting: dataset/train/images/0B26D927-3AEF-4702-922D-F7B3FD497D31_jpeg.rf.9290afe98a0110fde662f86f116b7698.jpg  \n",
            " extracting: dataset/train/images/0B26D927-3AEF-4702-922D-F7B3FD497D31_jpeg.rf.bfb94bf8fb18076a48a447f92e8aee6b.jpg  \n",
            " extracting: dataset/train/images/0B877B19-CB18-4505-BEFE-4335228AAA8D_jpeg.rf.263065e995a51a503f2ae1b2c5107414.jpg  \n",
            " extracting: dataset/train/images/0B877B19-CB18-4505-BEFE-4335228AAA8D_jpeg.rf.310e1a70a917bb13edfd1790a8a99381.jpg  \n",
            " extracting: dataset/train/images/0B877B19-CB18-4505-BEFE-4335228AAA8D_jpeg.rf.7275a9c74691cedce8e4296d3fbe4fa3.jpg  \n",
            " extracting: dataset/train/images/0BBEE74B-541F-4EAC-9C18-E5B362C103DF_jpeg.rf.b90c48fcf78f9c430a067ede1ed7e5a8.jpg  \n",
            " extracting: dataset/train/images/0BBEE74B-541F-4EAC-9C18-E5B362C103DF_jpeg.rf.c23890f9b142bb1ee97688614a8ce266.jpg  \n",
            " extracting: dataset/train/images/0BBEE74B-541F-4EAC-9C18-E5B362C103DF_jpeg.rf.d255ebef854c21563400bdab95095c1d.jpg  \n",
            " extracting: dataset/train/images/0CEFAFDB-7D12-46D1-905F-52795AEE9550_jpeg.rf.11cbc6d2b7c59f28dc2709c1685ff490.jpg  \n",
            " extracting: dataset/train/images/0CEFAFDB-7D12-46D1-905F-52795AEE9550_jpeg.rf.22f32a8471606489962968e6d384fd4f.jpg  \n",
            " extracting: dataset/train/images/0CEFAFDB-7D12-46D1-905F-52795AEE9550_jpeg.rf.3543c3e11980515c788bf0b65b5886df.jpg  \n",
            " extracting: dataset/train/images/0D462910-DB2E-42D0-BF51-1C288556D274_jpeg.rf.26292daf6aa04a5529e30194d1fda7e4.jpg  \n",
            " extracting: dataset/train/images/0D462910-DB2E-42D0-BF51-1C288556D274_jpeg.rf.42308d0e98d21057e341c6e8e5563f82.jpg  \n",
            " extracting: dataset/train/images/0D462910-DB2E-42D0-BF51-1C288556D274_jpeg.rf.9086303df9f64ef08433fc2e75239752.jpg  \n",
            " extracting: dataset/train/images/0D8A7934-EDF2-4815-87A8-E93FD22F0834_jpeg.rf.4c4d7ea122294f0f3a8ed4e48745b6e5.jpg  \n",
            " extracting: dataset/train/images/0D8A7934-EDF2-4815-87A8-E93FD22F0834_jpeg.rf.5606c9e2dc34d0af8d87f4dc21c61ad1.jpg  \n",
            " extracting: dataset/train/images/0D8A7934-EDF2-4815-87A8-E93FD22F0834_jpeg.rf.674dfdfd5f598b09599b6b90e09a31e4.jpg  \n",
            " extracting: dataset/train/images/0DA6FEFF-7E3A-4456-BC1F-E7E551E5935E_jpeg.rf.7e61e96f990c85202dc5bcf2e8ba3b72.jpg  \n",
            " extracting: dataset/train/images/0DA6FEFF-7E3A-4456-BC1F-E7E551E5935E_jpeg.rf.92e8dc04eba39abce56792f0e4487696.jpg  \n",
            " extracting: dataset/train/images/0DA6FEFF-7E3A-4456-BC1F-E7E551E5935E_jpeg.rf.fd840c74d5ec743d860a1f26efa1047f.jpg  \n",
            " extracting: dataset/train/images/0EE56446-5E11-4F5C-808B-74E2E90429E3_jpeg.rf.66ae64222f053d3223249b48eab70e2e.jpg  \n",
            " extracting: dataset/train/images/0EE56446-5E11-4F5C-808B-74E2E90429E3_jpeg.rf.aa141975487c1a21e094af5e7033eaca.jpg  \n",
            " extracting: dataset/train/images/0EE56446-5E11-4F5C-808B-74E2E90429E3_jpeg.rf.d332b37cfa2ef9085b192504ce03031c.jpg  \n",
            " extracting: dataset/train/images/0F431231-C370-4B7C-931D-06FEF48164EB_jpeg.rf.31ca05e0b935ec2bebac8896be428cbe.jpg  \n",
            " extracting: dataset/train/images/0F431231-C370-4B7C-931D-06FEF48164EB_jpeg.rf.33c3af5ca1bdae563123758d1a73915e.jpg  \n",
            " extracting: dataset/train/images/0F431231-C370-4B7C-931D-06FEF48164EB_jpeg.rf.899fdf16457e6374fc22604fe0c7f187.jpg  \n",
            " extracting: dataset/train/images/0F85A433-9CE8-4006-A070-8E8940CF4D44_jpeg.rf.2fec493ac7af9e7c8d710e956255df16.jpg  \n",
            " extracting: dataset/train/images/0F85A433-9CE8-4006-A070-8E8940CF4D44_jpeg.rf.7ad560d48667cedf038d4a47b3bec12c.jpg  \n",
            " extracting: dataset/train/images/0F85A433-9CE8-4006-A070-8E8940CF4D44_jpeg.rf.fcc57922b1788dbdf208cf9930ed15c4.jpg  \n",
            " extracting: dataset/train/images/0FB01943-6F28-42AC-915F-ABBEF862F513_1_102_o_jpeg.rf.3e8a2e0dd0f778b521ee894d3240b6b9.jpg  \n",
            " extracting: dataset/train/images/0FB01943-6F28-42AC-915F-ABBEF862F513_1_102_o_jpeg.rf.a7d80eff3590c8f9a07587d97de59109.jpg  \n",
            " extracting: dataset/train/images/0FB01943-6F28-42AC-915F-ABBEF862F513_1_102_o_jpeg.rf.f57ac5a75b0b6b4594ab27d2551c6f6d.jpg  \n",
            " extracting: dataset/train/images/1073EFFA-C0DC-4947-89C8-4668B5BD712C_jpeg.rf.6e814e42c1c8a98c34c26d332c80de23.jpg  \n",
            " extracting: dataset/train/images/1073EFFA-C0DC-4947-89C8-4668B5BD712C_jpeg.rf.b12ac8baa06e6fe4abf471c7623f3038.jpg  \n",
            " extracting: dataset/train/images/1073EFFA-C0DC-4947-89C8-4668B5BD712C_jpeg.rf.c6c0abc5edc3d33c743a8c20dae09426.jpg  \n",
            " extracting: dataset/train/images/115185E0-D3DA-44A2-9442-0D0FAC8440FA_jpeg.rf.1a6f5e73c415e3d81be432bb50c96af4.jpg  \n",
            " extracting: dataset/train/images/115185E0-D3DA-44A2-9442-0D0FAC8440FA_jpeg.rf.acec57435c0d2ecad282435d6f0c3043.jpg  \n",
            " extracting: dataset/train/images/115185E0-D3DA-44A2-9442-0D0FAC8440FA_jpeg.rf.cbfb9774605fab7b9878dea3dd703f33.jpg  \n",
            " extracting: dataset/train/images/12686BEA-D1F4-4E1B-931B-2472C55812E1_jpeg.rf.035c386676b49642c7a77394ced3cae2.jpg  \n",
            " extracting: dataset/train/images/12686BEA-D1F4-4E1B-931B-2472C55812E1_jpeg.rf.753141ee8c43bdb9991fe103ff83fdf6.jpg  \n",
            " extracting: dataset/train/images/12686BEA-D1F4-4E1B-931B-2472C55812E1_jpeg.rf.c8a4697571dade6be517de28f4e19fb0.jpg  \n",
            " extracting: dataset/train/images/128B76D5-EE4D-4AA7-996B-59547ACFC1F7_jpeg.rf.b04c9aac0cfd2b6e48e747e267a6fabf.jpg  \n",
            " extracting: dataset/train/images/128B76D5-EE4D-4AA7-996B-59547ACFC1F7_jpeg.rf.bfe5cc8d5fcdcf69f581301f9fe6cf32.jpg  \n",
            " extracting: dataset/train/images/128B76D5-EE4D-4AA7-996B-59547ACFC1F7_jpeg.rf.f0c1a56c072c4de50270711e86957811.jpg  \n",
            " extracting: dataset/train/images/128F6C9B-E27B-4E8C-90D7-677645E95EBA_jpeg.rf.0280e30c255e5dadf349a984b7771948.jpg  \n",
            " extracting: dataset/train/images/128F6C9B-E27B-4E8C-90D7-677645E95EBA_jpeg.rf.386fdfedb13fdf950e31802d0d9e1efe.jpg  \n",
            " extracting: dataset/train/images/128F6C9B-E27B-4E8C-90D7-677645E95EBA_jpeg.rf.763f3fa8a447f46adab61baa1d011280.jpg  \n",
            " extracting: dataset/train/images/1384EE84-E10B-4CDE-ABC5-31FC98FE9C7B_jpeg.rf.2376f1de6c87b53b9d38f945f4388102.jpg  \n",
            " extracting: dataset/train/images/1384EE84-E10B-4CDE-ABC5-31FC98FE9C7B_jpeg.rf.3f62d61b8a0c4427a62e8f80fc4c0dc4.jpg  \n",
            " extracting: dataset/train/images/1384EE84-E10B-4CDE-ABC5-31FC98FE9C7B_jpeg.rf.a5e552f04415afae8be4a4865eeca05c.jpg  \n",
            " extracting: dataset/train/images/13C641AD-98ED-41BB-8FB5-5D67ECBF4C72_jpeg.rf.0ee35bb1b23d0bb2f4d57cd126512258.jpg  \n",
            " extracting: dataset/train/images/13C641AD-98ED-41BB-8FB5-5D67ECBF4C72_jpeg.rf.332669ec48d95d13e6cb965129a377ca.jpg  \n",
            " extracting: dataset/train/images/13C641AD-98ED-41BB-8FB5-5D67ECBF4C72_jpeg.rf.67a97c5fec27718fe0e7ed99c2ef7462.jpg  \n",
            " extracting: dataset/train/images/13E03B05-2427-4BC3-AD40-5BD23D48C5C3_jpeg.rf.96355ef6cab16e2a0cc35d1c16d0b18f.jpg  \n",
            " extracting: dataset/train/images/13E03B05-2427-4BC3-AD40-5BD23D48C5C3_jpeg.rf.9c5fc3832e08991297e8195d493d1bb3.jpg  \n",
            " extracting: dataset/train/images/13E03B05-2427-4BC3-AD40-5BD23D48C5C3_jpeg.rf.fece9d86888ba119dfe14adcc0e47d0d.jpg  \n",
            " extracting: dataset/train/images/1684D8D5-8979-4B4A-9EE5-0A2A0DE337BC_jpeg.rf.bcf22b732dd46d82189fa849e2dab041.jpg  \n",
            " extracting: dataset/train/images/1684D8D5-8979-4B4A-9EE5-0A2A0DE337BC_jpeg.rf.c2462adffa8efb2e38d8557388612e14.jpg  \n",
            " extracting: dataset/train/images/1684D8D5-8979-4B4A-9EE5-0A2A0DE337BC_jpeg.rf.c5fbaf1f6ba43f3e95820d19e2e611ab.jpg  \n",
            " extracting: dataset/train/images/16943899-2AA3-4ECD-A16C-78956F718891_jpeg.rf.18116de66729d1465c17f1e12b3642e9.jpg  \n",
            " extracting: dataset/train/images/16943899-2AA3-4ECD-A16C-78956F718891_jpeg.rf.520167baa87451f49cdd957e8cddfbe6.jpg  \n",
            " extracting: dataset/train/images/16943899-2AA3-4ECD-A16C-78956F718891_jpeg.rf.fb4694ecf5530d030741e900061f2358.jpg  \n",
            " extracting: dataset/train/images/173E5DFA-0A5D-4F28-AED6-D5F71692603F_jpeg.rf.13c816ea3752a5694305d19dbd162810.jpg  \n",
            " extracting: dataset/train/images/173E5DFA-0A5D-4F28-AED6-D5F71692603F_jpeg.rf.29addb040d18dc8d738651bd7e8714fa.jpg  \n",
            " extracting: dataset/train/images/173E5DFA-0A5D-4F28-AED6-D5F71692603F_jpeg.rf.f1676248e36d8b728817d8653f2e7d8e.jpg  \n",
            " extracting: dataset/train/images/17A15164-46E7-459D-B5D6-48DB3233F4CB_jpeg.rf.5fa50740fd17fdeef8f53fdfc0f3eb99.jpg  \n",
            " extracting: dataset/train/images/17A15164-46E7-459D-B5D6-48DB3233F4CB_jpeg.rf.63fcdabc7f7f730b2c741746ba1a5932.jpg  \n",
            " extracting: dataset/train/images/17A15164-46E7-459D-B5D6-48DB3233F4CB_jpeg.rf.a41f291697a978bbadfaf4648c03a396.jpg  \n",
            " extracting: dataset/train/images/188CC42B-6B2C-4266-89B6-DCC18C073963_jpeg.rf.0850bfffc83f36c110b80463e977f24a.jpg  \n",
            " extracting: dataset/train/images/188CC42B-6B2C-4266-89B6-DCC18C073963_jpeg.rf.355ffc8662a9c399bf97e483c01f2fa1.jpg  \n",
            " extracting: dataset/train/images/188CC42B-6B2C-4266-89B6-DCC18C073963_jpeg.rf.aec4befbfac7aeea5141dea928b09e4c.jpg  \n",
            " extracting: dataset/train/images/1898765E-2D63-4A43-9597-D03994935144_jpeg.rf.4518c779f083427a72b37eb24c2f56b6.jpg  \n",
            " extracting: dataset/train/images/1898765E-2D63-4A43-9597-D03994935144_jpeg.rf.4d140770a0e1c22df0d32ed26e938707.jpg  \n",
            " extracting: dataset/train/images/1898765E-2D63-4A43-9597-D03994935144_jpeg.rf.796748f62d949e8cc04051769765ba04.jpg  \n",
            " extracting: dataset/train/images/19673264-216F-47E8-A19F-CB0F6171DC1A_jpeg.rf.1e2165a6bf69b9876ff62861e5456797.jpg  \n",
            " extracting: dataset/train/images/19673264-216F-47E8-A19F-CB0F6171DC1A_jpeg.rf.dd787f5e20bbcbdd80f529088d97ca25.jpg  \n",
            " extracting: dataset/train/images/19673264-216F-47E8-A19F-CB0F6171DC1A_jpeg.rf.e7a508abd608d361e647f2737de7a336.jpg  \n",
            " extracting: dataset/train/images/199E8FFF-3464-4FC0-A6A9-D0E9CE708545_jpeg.rf.04c1885df71f355ce43f3e9b11bae214.jpg  \n",
            " extracting: dataset/train/images/199E8FFF-3464-4FC0-A6A9-D0E9CE708545_jpeg.rf.4a727dc2c73bcf329b8df8f99407ea95.jpg  \n",
            " extracting: dataset/train/images/199E8FFF-3464-4FC0-A6A9-D0E9CE708545_jpeg.rf.bfd1ff4de5aa2d1622f51c090163505c.jpg  \n",
            " extracting: dataset/train/images/1BDDE8A1-66B7-450E-84BB-EB3B211C3DDB_jpeg.rf.9145d99731c0cd821c3374db5df83a7b.jpg  \n",
            " extracting: dataset/train/images/1BDDE8A1-66B7-450E-84BB-EB3B211C3DDB_jpeg.rf.d857e61759575ccc48ed9ae14b9c9e2c.jpg  \n",
            " extracting: dataset/train/images/1BDDE8A1-66B7-450E-84BB-EB3B211C3DDB_jpeg.rf.ecbcf29a6ce8cc62da40652f2d9fcee7.jpg  \n",
            " extracting: dataset/train/images/1C117695-7E6F-41BC-B9B8-2A99B2EA8EAA_jpeg.rf.16d09fc5a20d8cf959fbe33d4065a42c.jpg  \n",
            " extracting: dataset/train/images/1C117695-7E6F-41BC-B9B8-2A99B2EA8EAA_jpeg.rf.47185ab4b9fd7833a8240d490367ff05.jpg  \n",
            " extracting: dataset/train/images/1C117695-7E6F-41BC-B9B8-2A99B2EA8EAA_jpeg.rf.fe3587d7c8275e9940af0df48eea67a0.jpg  \n",
            " extracting: dataset/train/images/1DE4B4E7-2D8F-4548-AEEA-E1BAC0757104_jpeg.rf.ac87d9ac3ab76fe945d18231d8b87070.jpg  \n",
            " extracting: dataset/train/images/1DE4B4E7-2D8F-4548-AEEA-E1BAC0757104_jpeg.rf.bd1894fb328ee9fe3098a3dbf78e8e89.jpg  \n",
            " extracting: dataset/train/images/1DE4B4E7-2D8F-4548-AEEA-E1BAC0757104_jpeg.rf.e3bd569f68a6d9ccc9ffd4294b722018.jpg  \n",
            " extracting: dataset/train/images/1DEACDEC-C072-4F12-AADD-AA48DE1B90CB_jpeg.rf.3f8ae9e2e80bc98721cb28abbc132e7e.jpg  \n",
            " extracting: dataset/train/images/1DEACDEC-C072-4F12-AADD-AA48DE1B90CB_jpeg.rf.cec5a546cf267f4461729268f37992d4.jpg  \n",
            " extracting: dataset/train/images/1DEACDEC-C072-4F12-AADD-AA48DE1B90CB_jpeg.rf.f0baef0477635cca9a6f63792602a533.jpg  \n",
            " extracting: dataset/train/images/1E341C5D-0810-405D-8ED0-AA9156BBAC5F_jpeg.rf.1a688b27b2882bd1b7fd26c95ced0704.jpg  \n",
            " extracting: dataset/train/images/1E341C5D-0810-405D-8ED0-AA9156BBAC5F_jpeg.rf.24014b5508412026cd89c5aa73e51045.jpg  \n",
            " extracting: dataset/train/images/1E341C5D-0810-405D-8ED0-AA9156BBAC5F_jpeg.rf.89740fb8c878074bf98edd9a62852a60.jpg  \n",
            " extracting: dataset/train/images/1EBFBCD4-70CC-4896-87C4-0C7213A8252E_jpeg.rf.884f31a07971b4fca9f29e90885b8322.jpg  \n",
            " extracting: dataset/train/images/1EBFBCD4-70CC-4896-87C4-0C7213A8252E_jpeg.rf.c43cc558611ce89d86a86992fff71988.jpg  \n",
            " extracting: dataset/train/images/1EBFBCD4-70CC-4896-87C4-0C7213A8252E_jpeg.rf.d9cc992745123619de402ca340e22c72.jpg  \n",
            " extracting: dataset/train/images/1ED832F5-2B81-4105-B453-73501B683914_jpeg.rf.70cacc3261a3e599f96d412b8b915afa.jpg  \n",
            " extracting: dataset/train/images/1ED832F5-2B81-4105-B453-73501B683914_jpeg.rf.8089bf72c9b8db93a937573d193fb743.jpg  \n",
            " extracting: dataset/train/images/1ED832F5-2B81-4105-B453-73501B683914_jpeg.rf.b219e55e8ce218bd9d490ee07b87d8ed.jpg  \n",
            " extracting: dataset/train/images/1EE5BF9C-4BD6-47BD-8CBF-BEB91AF7506B_jpeg.rf.528226dabf5871b25d240f45705872b6.jpg  \n",
            " extracting: dataset/train/images/1EE5BF9C-4BD6-47BD-8CBF-BEB91AF7506B_jpeg.rf.b3608d4056c78b3e007e40477427e622.jpg  \n",
            " extracting: dataset/train/images/1EE5BF9C-4BD6-47BD-8CBF-BEB91AF7506B_jpeg.rf.b5a5924aa935db751fda03a2ca542425.jpg  \n",
            " extracting: dataset/train/images/1FA475DF-DEC8-46F5-8DA6-70BA59EEC155_jpeg.rf.12bdb07c928621ddfeb8c65923957ab5.jpg  \n",
            " extracting: dataset/train/images/1FA475DF-DEC8-46F5-8DA6-70BA59EEC155_jpeg.rf.36568fe285eafbd5e4130c416c7fdc6e.jpg  \n",
            " extracting: dataset/train/images/1FA475DF-DEC8-46F5-8DA6-70BA59EEC155_jpeg.rf.98e86a8cc34280ff2309f662b30fab06.jpg  \n",
            " extracting: dataset/train/images/1FA76CFB-0D5D-407D-8C35-53E110CA7BE3_jpeg.rf.921560ab6e2f092ac456880c5b9313cb.jpg  \n",
            " extracting: dataset/train/images/1FA76CFB-0D5D-407D-8C35-53E110CA7BE3_jpeg.rf.b94804a4c9bb72898b511bd3358fdb5b.jpg  \n",
            " extracting: dataset/train/images/1FA76CFB-0D5D-407D-8C35-53E110CA7BE3_jpeg.rf.e0e2dac6d3ba5ce4d326baf00f23e1c9.jpg  \n",
            " extracting: dataset/train/images/1_jpeg.rf.4c0ae265d1e7f12e4ce598e4be8e4ccf.jpg  \n",
            " extracting: dataset/train/images/1_jpeg.rf.b0612b9812b191ee9c2806eb25d358d1.jpg  \n",
            " extracting: dataset/train/images/1_jpeg.rf.ec122d161e1ef53f5a684852f2c3db7e.jpg  \n",
            " extracting: dataset/train/images/205A3D56-9F15-4477-AF2E-D7C449179B8A_jpeg.rf.290cdcfbca07568abfedc630e9d9252d.jpg  \n",
            " extracting: dataset/train/images/205A3D56-9F15-4477-AF2E-D7C449179B8A_jpeg.rf.677f445afd2a40846b43a334b82cf1c5.jpg  \n",
            " extracting: dataset/train/images/205A3D56-9F15-4477-AF2E-D7C449179B8A_jpeg.rf.cedad302eb7cfcbdefcec0cd61761711.jpg  \n",
            " extracting: dataset/train/images/220C1ECC-AA78-4681-A236-883C1953C4CA_jpeg.rf.4bc7ef2643e05ad7691977e30453cdb2.jpg  \n",
            " extracting: dataset/train/images/220C1ECC-AA78-4681-A236-883C1953C4CA_jpeg.rf.4ce1bf6ba97a6482229df006fb73b99c.jpg  \n",
            " extracting: dataset/train/images/220C1ECC-AA78-4681-A236-883C1953C4CA_jpeg.rf.ec30a4b28200e7272f83b8103de053c4.jpg  \n",
            " extracting: dataset/train/images/2247A08C-0ABC-4863-8201-56750780DBF9_jpeg.rf.9a89f864e58f69037a1233abbace5a99.jpg  \n",
            " extracting: dataset/train/images/2247A08C-0ABC-4863-8201-56750780DBF9_jpeg.rf.a8b82e39a9e80de3a00fd03f1b64bd20.jpg  \n",
            " extracting: dataset/train/images/2247A08C-0ABC-4863-8201-56750780DBF9_jpeg.rf.e26e62a515e8f19d32ab1a84c20e513f.jpg  \n",
            " extracting: dataset/train/images/22F52CFA-771C-45EE-9461-DCFFDC591EA2_jpeg.rf.36cda59c66b157167263ae43f7b55807.jpg  \n",
            " extracting: dataset/train/images/22F52CFA-771C-45EE-9461-DCFFDC591EA2_jpeg.rf.850746722d0def54e818b42e4db829c3.jpg  \n",
            " extracting: dataset/train/images/22F52CFA-771C-45EE-9461-DCFFDC591EA2_jpeg.rf.cb701f2981370035b5e6c7c962882e3c.jpg  \n",
            " extracting: dataset/train/images/260AF771-8063-4DAC-8029-A8DDF29C2645_jpeg.rf.41af710ed241da69314752af9ff8e64e.jpg  \n",
            " extracting: dataset/train/images/260AF771-8063-4DAC-8029-A8DDF29C2645_jpeg.rf.432843e04ff6fb35d52cea7c55e60fa2.jpg  \n",
            " extracting: dataset/train/images/260AF771-8063-4DAC-8029-A8DDF29C2645_jpeg.rf.cfa7887be7c283b704dfa4e17a72596e.jpg  \n",
            " extracting: dataset/train/images/263A1412-F43A-453A-8BCB-BD25076C2EEF_jpeg.rf.4bcf16fa302957b58d5c95e983fca99b.jpg  \n",
            " extracting: dataset/train/images/263A1412-F43A-453A-8BCB-BD25076C2EEF_jpeg.rf.84976a5ab8e1d1ceb1bbfd591f1e6b71.jpg  \n",
            " extracting: dataset/train/images/263A1412-F43A-453A-8BCB-BD25076C2EEF_jpeg.rf.c8ea181d0692295f08c60af0dd56629e.jpg  \n",
            " extracting: dataset/train/images/26500A0D-727A-41E6-A60A-979EC69E1DB5_jpeg.rf.089a90c005ca317e51d0c502d5a2faea.jpg  \n",
            " extracting: dataset/train/images/26500A0D-727A-41E6-A60A-979EC69E1DB5_jpeg.rf.0cca927eb74950e72a90feb43657baa5.jpg  \n",
            " extracting: dataset/train/images/26500A0D-727A-41E6-A60A-979EC69E1DB5_jpeg.rf.dc4aa961c995f91d5f9b57e2adda8eb5.jpg  \n",
            " extracting: dataset/train/images/2666863A-A698-4284-A926-AC591B74FBF1_jpeg.rf.3f1aa5b6ba857044d0de24dd7d94ecf4.jpg  \n",
            " extracting: dataset/train/images/2666863A-A698-4284-A926-AC591B74FBF1_jpeg.rf.708e228f12ff553ade453bc186dc7317.jpg  \n",
            " extracting: dataset/train/images/2666863A-A698-4284-A926-AC591B74FBF1_jpeg.rf.8e4177ac90ac1f4fe0d2788a65feee41.jpg  \n",
            " extracting: dataset/train/images/26B3A105-29B0-45B3-913F-D6D3100F4277_jpeg.rf.058a317ffdc6c7d3ac6ba4b4ab4fe006.jpg  \n",
            " extracting: dataset/train/images/26B3A105-29B0-45B3-913F-D6D3100F4277_jpeg.rf.47bc624c6b733bf584871f5b9a9854f1.jpg  \n",
            " extracting: dataset/train/images/26B3A105-29B0-45B3-913F-D6D3100F4277_jpeg.rf.fef93787779a51457d36a64988679437.jpg  \n",
            " extracting: dataset/train/images/26B91DFA-0643-4083-A28C-0B70999B1CC6_jpeg.rf.5f01fb2dde6d66a2d586f048559b94a5.jpg  \n",
            " extracting: dataset/train/images/26B91DFA-0643-4083-A28C-0B70999B1CC6_jpeg.rf.85d145174f98fdc3ebc292351bbff61a.jpg  \n",
            " extracting: dataset/train/images/26B91DFA-0643-4083-A28C-0B70999B1CC6_jpeg.rf.cba6c22a65553c376d8fd95bbcced543.jpg  \n",
            " extracting: dataset/train/images/26F7E198-71CE-473D-8BF2-F4C49E3D8A75_jpeg.rf.50636f92f8a449bf0e00b31d877486e3.jpg  \n",
            " extracting: dataset/train/images/26F7E198-71CE-473D-8BF2-F4C49E3D8A75_jpeg.rf.c3738ec846199c4d9331367fdba9ab47.jpg  \n",
            " extracting: dataset/train/images/26F7E198-71CE-473D-8BF2-F4C49E3D8A75_jpeg.rf.efd67b08a1d6f7f91bf1b4a15cf0accd.jpg  \n",
            " extracting: dataset/train/images/270499B2-EED5-4B99-854A-834201C7171E_jpeg.rf.035916c7a1339adde4aaaaa005e68211.jpg  \n",
            " extracting: dataset/train/images/270499B2-EED5-4B99-854A-834201C7171E_jpeg.rf.3026bad034b2895e06305d081fa69a18.jpg  \n",
            " extracting: dataset/train/images/270499B2-EED5-4B99-854A-834201C7171E_jpeg.rf.47296ab99779b3da4846cf2e17c8f8df.jpg  \n",
            " extracting: dataset/train/images/285CFD7E-16F8-463A-BF41-4EA2F6450073_jpeg.rf.406d54169a4f3d017a0fcf7501248b04.jpg  \n",
            " extracting: dataset/train/images/285CFD7E-16F8-463A-BF41-4EA2F6450073_jpeg.rf.5560ad0c98263a08aa0070bf66d3f3b1.jpg  \n",
            " extracting: dataset/train/images/285CFD7E-16F8-463A-BF41-4EA2F6450073_jpeg.rf.c94c10206b2ad18f9e379b1b5fe64e0c.jpg  \n",
            " extracting: dataset/train/images/2948EC4B-EEB7-4B56-8C31-7027D62DC95C_jpeg.rf.1177e4b2a0a64c898cb41663abf68663.jpg  \n",
            " extracting: dataset/train/images/2948EC4B-EEB7-4B56-8C31-7027D62DC95C_jpeg.rf.1ea65ffab93f068da0c6b3a557ce69de.jpg  \n",
            " extracting: dataset/train/images/2948EC4B-EEB7-4B56-8C31-7027D62DC95C_jpeg.rf.37bc48a7063959ef8b34ca906685bf5c.jpg  \n",
            " extracting: dataset/train/images/298D2FC4-8943-4DEA-A579-93442753486F_jpeg.rf.945ca381ff0eadf37ddc6d7fc46a9edc.jpg  \n",
            " extracting: dataset/train/images/298D2FC4-8943-4DEA-A579-93442753486F_jpeg.rf.955a3a4218267861f42237f26b0d162d.jpg  \n",
            " extracting: dataset/train/images/298D2FC4-8943-4DEA-A579-93442753486F_jpeg.rf.f7d9d3d897e1ab8c16c279ea209264b2.jpg  \n",
            " extracting: dataset/train/images/2ADF9EC3-62EA-4A9D-A743-2F37B95AC33F_jpeg.rf.3808a683ff48007e3c1f97c5ee97c86d.jpg  \n",
            " extracting: dataset/train/images/2ADF9EC3-62EA-4A9D-A743-2F37B95AC33F_jpeg.rf.67d6be1ca758da116d978c00743f5fbc.jpg  \n",
            " extracting: dataset/train/images/2ADF9EC3-62EA-4A9D-A743-2F37B95AC33F_jpeg.rf.bb78d89eefd7cdd85750696d964e99af.jpg  \n",
            " extracting: dataset/train/images/2BA043EA-DEC8-42D9-B756-5C60A1C301A7_jpeg.rf.0c89358a046f6018a116b9853243a7c0.jpg  \n",
            " extracting: dataset/train/images/2BA043EA-DEC8-42D9-B756-5C60A1C301A7_jpeg.rf.8d2e53e3d417ccee30a310e26b2436b2.jpg  \n",
            " extracting: dataset/train/images/2BA043EA-DEC8-42D9-B756-5C60A1C301A7_jpeg.rf.92ad192d7a0b1ceeb7b43ad8e9bb14b2.jpg  \n",
            " extracting: dataset/train/images/2C1F3119-ECFF-4E74-96AC-07F3497E15DB_jpeg.rf.317bd0bf8498df5af194addd221a649b.jpg  \n",
            " extracting: dataset/train/images/2C1F3119-ECFF-4E74-96AC-07F3497E15DB_jpeg.rf.3fbc5ab5f3dbb3000205a90b8dd65e0d.jpg  \n",
            " extracting: dataset/train/images/2C1F3119-ECFF-4E74-96AC-07F3497E15DB_jpeg.rf.8e0849a1bdad51acb633ee37ab5946fb.jpg  \n",
            " extracting: dataset/train/images/2CCDA652-14DA-4C30-8DFD-65119E6607E3_jpeg.rf.446e2f8d15897ae7b68e8fd93253559a.jpg  \n",
            " extracting: dataset/train/images/2CCDA652-14DA-4C30-8DFD-65119E6607E3_jpeg.rf.98ce1ea3befacf6f3888e7dcb13616bd.jpg  \n",
            " extracting: dataset/train/images/2CCDA652-14DA-4C30-8DFD-65119E6607E3_jpeg.rf.c235b8772bf56ce5a98d0cc75ac9a060.jpg  \n",
            " extracting: dataset/train/images/2DE21995-171D-450E-8CC4-866A12954C91_jpeg.rf.5afc497a3dfca1c74a85f1629dc7f980.jpg  \n",
            " extracting: dataset/train/images/2DE21995-171D-450E-8CC4-866A12954C91_jpeg.rf.859643c734509655e8a9cfd99e92a163.jpg  \n",
            " extracting: dataset/train/images/2DE21995-171D-450E-8CC4-866A12954C91_jpeg.rf.a6723356879460b33faa839268c72b96.jpg  \n",
            " extracting: dataset/train/images/2E282108-A428-4ADB-882F-577881D7EF9B_jpeg.rf.29c8bf61ea6548e37a3a60bd6c76aa09.jpg  \n",
            " extracting: dataset/train/images/2E282108-A428-4ADB-882F-577881D7EF9B_jpeg.rf.eead3e1f4d7f80cc504c9dfcf4c4566c.jpg  \n",
            " extracting: dataset/train/images/2E282108-A428-4ADB-882F-577881D7EF9B_jpeg.rf.f0395c637fc9eceacf1dc78c97f3f400.jpg  \n",
            " extracting: dataset/train/images/2E8A8D42-307A-441B-9E25-B72509E4CD68_jpeg.rf.23645456cca197a4eaf100553ca4a202.jpg  \n",
            " extracting: dataset/train/images/2E8A8D42-307A-441B-9E25-B72509E4CD68_jpeg.rf.5e3b1464996811e42ac007b37399b005.jpg  \n",
            " extracting: dataset/train/images/2E8A8D42-307A-441B-9E25-B72509E4CD68_jpeg.rf.74ae624b70a93bc2f47fd2e094f04b5a.jpg  \n",
            " extracting: dataset/train/images/2E92F1D5-7A21-4030-9512-5D7912CF267C_jpeg.rf.0df146cbd50804bb4f558bf7cb2b1fec.jpg  \n",
            " extracting: dataset/train/images/2E92F1D5-7A21-4030-9512-5D7912CF267C_jpeg.rf.6b030800c088dc2a3129c5a0f0e008e2.jpg  \n",
            " extracting: dataset/train/images/2E92F1D5-7A21-4030-9512-5D7912CF267C_jpeg.rf.e69d277471a4530d99ab56b8c692e0a6.jpg  \n",
            " extracting: dataset/train/images/2F1E2C11-9C23-40C3-B845-85905BCCB2C7_jpeg.rf.61784381e958567d049a581e0d35a8e8.jpg  \n",
            " extracting: dataset/train/images/2F1E2C11-9C23-40C3-B845-85905BCCB2C7_jpeg.rf.9085638350d0f4b64b34ed95503d6991.jpg  \n",
            " extracting: dataset/train/images/2F1E2C11-9C23-40C3-B845-85905BCCB2C7_jpeg.rf.e630f772887b2187412de89b72b9c4a3.jpg  \n",
            " extracting: dataset/train/images/2F7B2351-0E91-4B71-B004-C012E0B40148_jpeg.rf.602bde090d1aedf634097bdacc66fc7b.jpg  \n",
            " extracting: dataset/train/images/2F7B2351-0E91-4B71-B004-C012E0B40148_jpeg.rf.7ce6d1febd9e3d2304a5cf0f437dc0bc.jpg  \n",
            " extracting: dataset/train/images/2F7B2351-0E91-4B71-B004-C012E0B40148_jpeg.rf.fcae8afb68278b9b7d48e25f359797b1.jpg  \n",
            " extracting: dataset/train/images/2F962B0C-BD9C-4557-8BAC-5AF1583E49EF_jpeg.rf.8b8e1b9307f5867eee2a993bf5dae7fb.jpg  \n",
            " extracting: dataset/train/images/2F962B0C-BD9C-4557-8BAC-5AF1583E49EF_jpeg.rf.90155ae1bfc70a3e8dd854389ab34e18.jpg  \n",
            " extracting: dataset/train/images/2F962B0C-BD9C-4557-8BAC-5AF1583E49EF_jpeg.rf.da66d9789ccb8c075b03133f4d66c2a4.jpg  \n",
            " extracting: dataset/train/images/2FE2D26F-42FA-471B-879E-31CFDA66C45E_jpeg.rf.6e6d55d970a4884bb79767449e015b7b.jpg  \n",
            " extracting: dataset/train/images/2FE2D26F-42FA-471B-879E-31CFDA66C45E_jpeg.rf.86d888370084f5db68905a9e84e0887d.jpg  \n",
            " extracting: dataset/train/images/2FE2D26F-42FA-471B-879E-31CFDA66C45E_jpeg.rf.ffdae187d83b297dac8efb501ae15482.jpg  \n",
            " extracting: dataset/train/images/3002315F-76F8-43A6-A000-8D0151559A25_jpeg.rf.06ca3006d69a3482705430fe557da4dd.jpg  \n",
            " extracting: dataset/train/images/3002315F-76F8-43A6-A000-8D0151559A25_jpeg.rf.62dd09bc413bcf103d0a33e3a10b5978.jpg  \n",
            " extracting: dataset/train/images/3002315F-76F8-43A6-A000-8D0151559A25_jpeg.rf.9aa1085cc6710b1e4a9d083f83e94ebe.jpg  \n",
            " extracting: dataset/train/images/30332216-7179-41CE-8B6B-8F58A44C2989_jpeg.rf.12e0bfa2c07bdab575b6e1223a5d4c85.jpg  \n",
            " extracting: dataset/train/images/30332216-7179-41CE-8B6B-8F58A44C2989_jpeg.rf.4905aa8003219be9997e462b9265adca.jpg  \n",
            " extracting: dataset/train/images/30332216-7179-41CE-8B6B-8F58A44C2989_jpeg.rf.7038fad6c5600ddb59711c104629d4d7.jpg  \n",
            " extracting: dataset/train/images/309009B8-FC8A-43B2-A24B-C879CFDCF396_jpeg.rf.156ad95cc1ecb6520df40e08c7a5024a.jpg  \n",
            " extracting: dataset/train/images/309009B8-FC8A-43B2-A24B-C879CFDCF396_jpeg.rf.a75f4589e75dff05bf6f0bd75736974c.jpg  \n",
            " extracting: dataset/train/images/309009B8-FC8A-43B2-A24B-C879CFDCF396_jpeg.rf.f398f18d90503852f587cc115652a6f7.jpg  \n",
            " extracting: dataset/train/images/3116DE04-D5C8-4925-9109-E649DEBF5DFE_jpeg.rf.071bd50cd73716eb4bd478e1144ce8d0.jpg  \n",
            " extracting: dataset/train/images/3116DE04-D5C8-4925-9109-E649DEBF5DFE_jpeg.rf.38c1bcb385882710f5c1fa2a2765669b.jpg  \n",
            " extracting: dataset/train/images/3116DE04-D5C8-4925-9109-E649DEBF5DFE_jpeg.rf.9d4613ddf03ea0971b08917bc8726491.jpg  \n",
            " extracting: dataset/train/images/31B12363-03E8-4473-8AC9-B7D0836CA3BE_jpeg.rf.4466e9b51572a1f2c426a9fddcd4e719.jpg  \n",
            " extracting: dataset/train/images/31B12363-03E8-4473-8AC9-B7D0836CA3BE_jpeg.rf.8ba52659f1705111b4888aed52d1de56.jpg  \n",
            " extracting: dataset/train/images/31B12363-03E8-4473-8AC9-B7D0836CA3BE_jpeg.rf.9fee44c4312165a542fb2b7b1ca62234.jpg  \n",
            " extracting: dataset/train/images/31F4A206-ACCB-457F-BF06-1A20E7F233EA_jpeg.rf.9e637c919652c20a6a127c5f1d00e146.jpg  \n",
            " extracting: dataset/train/images/31F4A206-ACCB-457F-BF06-1A20E7F233EA_jpeg.rf.d88750ac04bcc2c2d80b0fd77de198b6.jpg  \n",
            " extracting: dataset/train/images/31F4A206-ACCB-457F-BF06-1A20E7F233EA_jpeg.rf.db9dda62c931c9b438966201ee95d459.jpg  \n",
            " extracting: dataset/train/images/325E8A3E-EC16-4CFD-AE03-B82B3A3B41E5_jpeg.rf.1262d7f8622c4cb83471942d73ea0bed.jpg  \n",
            " extracting: dataset/train/images/325E8A3E-EC16-4CFD-AE03-B82B3A3B41E5_jpeg.rf.62d415dc11972022e90b6691254f8ba5.jpg  \n",
            " extracting: dataset/train/images/325E8A3E-EC16-4CFD-AE03-B82B3A3B41E5_jpeg.rf.67a924f1906ad05e9fe17c4b2033133e.jpg  \n",
            " extracting: dataset/train/images/33984C49-3895-454D-9F79-8B960E2F12C0_jpeg.rf.088cfee8ce06e328d159a1222df5431c.jpg  \n",
            " extracting: dataset/train/images/33984C49-3895-454D-9F79-8B960E2F12C0_jpeg.rf.1c15ff8a63bdfaf7ffb061bf878cd42b.jpg  \n",
            " extracting: dataset/train/images/33984C49-3895-454D-9F79-8B960E2F12C0_jpeg.rf.f57f43af886561f6f1e0acb62c5aef24.jpg  \n",
            " extracting: dataset/train/images/3599A4CD-2ECC-481A-83D3-D988091E799F_jpeg.rf.10b3978cb4e7d54efe3dd749d6a07400.jpg  \n",
            " extracting: dataset/train/images/3599A4CD-2ECC-481A-83D3-D988091E799F_jpeg.rf.598466216f137f730f8ccf1057314ca9.jpg  \n",
            " extracting: dataset/train/images/3599A4CD-2ECC-481A-83D3-D988091E799F_jpeg.rf.e15812d26fe3c6421ce836e78ae84684.jpg  \n",
            " extracting: dataset/train/images/368DA12B-638C-4038-A625-2CD299946EB3_jpeg.rf.308ef8cbf70db62a8847105af8869fb5.jpg  \n",
            " extracting: dataset/train/images/368DA12B-638C-4038-A625-2CD299946EB3_jpeg.rf.692dfe6272b951f281a28cd85a009f9e.jpg  \n",
            " extracting: dataset/train/images/368DA12B-638C-4038-A625-2CD299946EB3_jpeg.rf.7061f721e00a62a013277f975b13302d.jpg  \n",
            " extracting: dataset/train/images/36E8639F-8202-47A5-8EA4-944213CF5291_jpeg.rf.4108d6c3d33d1d10de00ca472f456527.jpg  \n",
            " extracting: dataset/train/images/36E8639F-8202-47A5-8EA4-944213CF5291_jpeg.rf.4cc632a505940695874a572ec8822e8c.jpg  \n",
            " extracting: dataset/train/images/36E8639F-8202-47A5-8EA4-944213CF5291_jpeg.rf.6d5f26b9e35fe6100a12bccf305318be.jpg  \n",
            " extracting: dataset/train/images/36E8D050-01EE-43D9-BCF1-607BB543A494_jpeg.rf.0039bfaf11c38e5d928b8a1b5e5c939d.jpg  \n",
            " extracting: dataset/train/images/36E8D050-01EE-43D9-BCF1-607BB543A494_jpeg.rf.10bba44c5f633124978f7d4866fd1cde.jpg  \n",
            " extracting: dataset/train/images/36E8D050-01EE-43D9-BCF1-607BB543A494_jpeg.rf.7e509f2ce2ed761dcc5b67ae66a5cfdf.jpg  \n",
            " extracting: dataset/train/images/3791FB9C-7F15-4803-9154-8BAF9B23B49D_jpeg.rf.062877a00f6e87cf5471a22424efe8bc.jpg  \n",
            " extracting: dataset/train/images/3791FB9C-7F15-4803-9154-8BAF9B23B49D_jpeg.rf.e320681fec72f1af1f5fda0a76f6b77c.jpg  \n",
            " extracting: dataset/train/images/3791FB9C-7F15-4803-9154-8BAF9B23B49D_jpeg.rf.f2d1ad41a0dd00f8563c43a4acbd3da8.jpg  \n",
            " extracting: dataset/train/images/38384EF7-CE28-450C-8FC9-908DD7D7F9D9_jpeg.rf.257bd5b40dad5fce9f51f3dcd52d13d7.jpg  \n",
            " extracting: dataset/train/images/38384EF7-CE28-450C-8FC9-908DD7D7F9D9_jpeg.rf.744a1314ec82edc61d0736955722e6f7.jpg  \n",
            " extracting: dataset/train/images/38384EF7-CE28-450C-8FC9-908DD7D7F9D9_jpeg.rf.a657617067b3d1a983590b3d02831ed8.jpg  \n",
            " extracting: dataset/train/images/3916BFA1-F2EE-44A2-8335-8CD6D771F454_jpeg.rf.29b08a0f3ede4be3dd4f3e133e852d36.jpg  \n",
            " extracting: dataset/train/images/3916BFA1-F2EE-44A2-8335-8CD6D771F454_jpeg.rf.7a63c44a4efdbca3bd2349bbfb751b91.jpg  \n",
            " extracting: dataset/train/images/3916BFA1-F2EE-44A2-8335-8CD6D771F454_jpeg.rf.e55a004b64a982b6065075e2cfb1424c.jpg  \n",
            " extracting: dataset/train/images/3942A50D-B879-492C-9066-FF70C3649D6E_jpeg.rf.5c93d42dcf4f04f1e48a9cbd3b34ee43.jpg  \n",
            " extracting: dataset/train/images/3942A50D-B879-492C-9066-FF70C3649D6E_jpeg.rf.8951f3ba5481c2456e07fed379e15e66.jpg  \n",
            " extracting: dataset/train/images/3942A50D-B879-492C-9066-FF70C3649D6E_jpeg.rf.8ae1b7f7334f83eb4933380729b2eadd.jpg  \n",
            " extracting: dataset/train/images/3BF8306D-C2AA-4CE6-8B16-13ADF17A807B_jpeg.rf.3af22bba934e8f0d4f68b904ec77c000.jpg  \n",
            " extracting: dataset/train/images/3BF8306D-C2AA-4CE6-8B16-13ADF17A807B_jpeg.rf.47765c25eaa3b5456d9a28980a58f113.jpg  \n",
            " extracting: dataset/train/images/3BF8306D-C2AA-4CE6-8B16-13ADF17A807B_jpeg.rf.dcb18242ab003eeeb17aaa5f6244f11d.jpg  \n",
            " extracting: dataset/train/images/3D16011E-9E73-4A22-BA82-C40E92A28721_jpeg.rf.906ea8b56184604a399ade762d6b845b.jpg  \n",
            " extracting: dataset/train/images/3D16011E-9E73-4A22-BA82-C40E92A28721_jpeg.rf.a1c95278a11b16f80e7a69d5cef0c636.jpg  \n",
            " extracting: dataset/train/images/3D16011E-9E73-4A22-BA82-C40E92A28721_jpeg.rf.fff23e3b6dbd4bdbbed275fd1bfd5e7d.jpg  \n",
            " extracting: dataset/train/images/3D34AF75-90A5-416C-AB9F-A023EE881D23_jpeg.rf.1cde8543db167d8e9ce33551ecea41a1.jpg  \n",
            " extracting: dataset/train/images/3D34AF75-90A5-416C-AB9F-A023EE881D23_jpeg.rf.2e6ce6e47d27111e884e49016d1a1626.jpg  \n",
            " extracting: dataset/train/images/3D34AF75-90A5-416C-AB9F-A023EE881D23_jpeg.rf.86f924de01e74e9a8a022698959c44d1.jpg  \n",
            " extracting: dataset/train/images/3E267F3A-C629-4CAA-A632-45EE0DCD854E_jpeg.rf.06baf81ccfd23dc6985c1cb90132cb21.jpg  \n",
            " extracting: dataset/train/images/3E267F3A-C629-4CAA-A632-45EE0DCD854E_jpeg.rf.3b506b8ebb9a1b1dcce8ce6e592139cf.jpg  \n",
            " extracting: dataset/train/images/3E267F3A-C629-4CAA-A632-45EE0DCD854E_jpeg.rf.a0fc1b5611fef903946af180e3a564d2.jpg  \n",
            " extracting: dataset/train/images/3EE448B5-61C8-4774-8600-86B3FD9D6C2F_jpeg.rf.b9bc0b03870f9fe8c99e1af1b567e90e.jpg  \n",
            " extracting: dataset/train/images/3EE448B5-61C8-4774-8600-86B3FD9D6C2F_jpeg.rf.c67114413cdb4d98071d89ce82190f8b.jpg  \n",
            " extracting: dataset/train/images/3EE448B5-61C8-4774-8600-86B3FD9D6C2F_jpeg.rf.f4719b910026aff1e815dd4979663bac.jpg  \n",
            " extracting: dataset/train/images/3FB796DE-7585-4A77-AD7E-DDC3C8D3B17C_jpeg.rf.654d26fce68c397c957fa3fbdbde1a07.jpg  \n",
            " extracting: dataset/train/images/3FB796DE-7585-4A77-AD7E-DDC3C8D3B17C_jpeg.rf.840f1c3145ace2a0fa744b9535fd8947.jpg  \n",
            " extracting: dataset/train/images/3FB796DE-7585-4A77-AD7E-DDC3C8D3B17C_jpeg.rf.ae8526e7af1bd7e2c92d54368fc1ecb9.jpg  \n",
            " extracting: dataset/train/images/4077432B-B9CE-4680-B208-4FDA68369987_jpeg.rf.534ec6b7968022159bcb168a93cbbcaf.jpg  \n",
            " extracting: dataset/train/images/4077432B-B9CE-4680-B208-4FDA68369987_jpeg.rf.bdeb1d7d34bdfc97f2494de03469b809.jpg  \n",
            " extracting: dataset/train/images/4077432B-B9CE-4680-B208-4FDA68369987_jpeg.rf.efe9c95777f8fc10ed9aa98ae280bb13.jpg  \n",
            " extracting: dataset/train/images/40EF657F-1B73-4A33-A322-11AE5E4B3872_jpeg.rf.1a0484c9a4fffec9ff606ce048098b19.jpg  \n",
            " extracting: dataset/train/images/40EF657F-1B73-4A33-A322-11AE5E4B3872_jpeg.rf.581509c181a25f79c6e36543864d66fb.jpg  \n",
            " extracting: dataset/train/images/40EF657F-1B73-4A33-A322-11AE5E4B3872_jpeg.rf.95ee54c866e10cf66b22d3bd0cde4f1f.jpg  \n",
            " extracting: dataset/train/images/4299EFB0-BFF0-4FDA-BB4E-266954DBFD86_jpeg.rf.4735aa23bb30fa1db6dc0212bf5d1659.jpg  \n",
            " extracting: dataset/train/images/4299EFB0-BFF0-4FDA-BB4E-266954DBFD86_jpeg.rf.5e90ac25d2d8725a2bbc43f02de9fd40.jpg  \n",
            " extracting: dataset/train/images/4299EFB0-BFF0-4FDA-BB4E-266954DBFD86_jpeg.rf.6f60f704820826720c8a0f4cee6f7959.jpg  \n",
            " extracting: dataset/train/images/450B6AA7-240C-41E3-9BC5-14939E9D8BED_jpeg.rf.27384822f9731d315675f52d5a80416b.jpg  \n",
            " extracting: dataset/train/images/450B6AA7-240C-41E3-9BC5-14939E9D8BED_jpeg.rf.cb6e41a4ffc55ef7b61519b968ad8439.jpg  \n",
            " extracting: dataset/train/images/450B6AA7-240C-41E3-9BC5-14939E9D8BED_jpeg.rf.fc068e158a2102c7f7d7161780698e40.jpg  \n",
            " extracting: dataset/train/images/45270E8A-23B4-4A69-9084-9DBEA875A957_jpeg.rf.26f382cb641822ddf89c8841a45a85ca.jpg  \n",
            " extracting: dataset/train/images/45270E8A-23B4-4A69-9084-9DBEA875A957_jpeg.rf.270f0ac94121ac678d9f53cf80681a6f.jpg  \n",
            " extracting: dataset/train/images/45270E8A-23B4-4A69-9084-9DBEA875A957_jpeg.rf.482bcb2b3c4b2f5c5e0136ae0b60efd4.jpg  \n",
            " extracting: dataset/train/images/455F7F30-2500-4207-8549-53B82F6AB5FC_jpeg.rf.1c1e9a9c2c979d7d76c5fdabb5fb5505.jpg  \n",
            " extracting: dataset/train/images/455F7F30-2500-4207-8549-53B82F6AB5FC_jpeg.rf.29fa01120e9692711d8eac8a352d65dc.jpg  \n",
            " extracting: dataset/train/images/455F7F30-2500-4207-8549-53B82F6AB5FC_jpeg.rf.dd2084562e24ab17722023d10a529e51.jpg  \n",
            " extracting: dataset/train/images/45709900-5704-41CA-A012-BEF6C4606962_jpeg.rf.168575745651baf302d24e67a755af57.jpg  \n",
            " extracting: dataset/train/images/45709900-5704-41CA-A012-BEF6C4606962_jpeg.rf.b20464c00e9bdc952203697d13cef206.jpg  \n",
            " extracting: dataset/train/images/45709900-5704-41CA-A012-BEF6C4606962_jpeg.rf.df1ee1daa2c746d5f29f7125a6eb82f6.jpg  \n",
            " extracting: dataset/train/images/457D1558-4BCD-4755-A0C2-CD328CD46DA7_jpeg.rf.45200bc1fb1ec8c2fc66a1270c8636d0.jpg  \n",
            " extracting: dataset/train/images/457D1558-4BCD-4755-A0C2-CD328CD46DA7_jpeg.rf.6f10038ef1034bb4d9415972112fc456.jpg  \n",
            " extracting: dataset/train/images/457D1558-4BCD-4755-A0C2-CD328CD46DA7_jpeg.rf.fda8d42c7f6d1d994b508acbe6f15df7.jpg  \n",
            " extracting: dataset/train/images/4598B898-4FAE-4068-B5E5-39C739DCDAFC_jpeg.rf.084529024adcc4a95f5ddd9cf0fff12d.jpg  \n",
            " extracting: dataset/train/images/4598B898-4FAE-4068-B5E5-39C739DCDAFC_jpeg.rf.169d73ae9d422cfba3199f57cfd7d877.jpg  \n",
            " extracting: dataset/train/images/4598B898-4FAE-4068-B5E5-39C739DCDAFC_jpeg.rf.61460a52305a2418259c0ca9f766a43c.jpg  \n",
            " extracting: dataset/train/images/45C30EC4-DD22-4D99-BC48-CE865EE2A800_jpeg.rf.0a99e3f166b59d8dcff103731a22a807.jpg  \n",
            " extracting: dataset/train/images/45C30EC4-DD22-4D99-BC48-CE865EE2A800_jpeg.rf.8534b9479eea81e27a771e2d45f2609b.jpg  \n",
            " extracting: dataset/train/images/45C30EC4-DD22-4D99-BC48-CE865EE2A800_jpeg.rf.ed8fef6d2e0e175b9bea19096b35badf.jpg  \n",
            " extracting: dataset/train/images/47CF208B-E21D-4394-A986-5FB46D69C7CB_jpeg.rf.159d553484b828c2784a7ab9108e6974.jpg  \n",
            " extracting: dataset/train/images/47CF208B-E21D-4394-A986-5FB46D69C7CB_jpeg.rf.341dcad452c8002de7fd08e98f8bc994.jpg  \n",
            " extracting: dataset/train/images/47CF208B-E21D-4394-A986-5FB46D69C7CB_jpeg.rf.d362eb7b77b3d18a1696bebe046dcfb6.jpg  \n",
            " extracting: dataset/train/images/47F8B139-C03D-41C9-A790-F7C686BDC21B_jpeg.rf.0b2aa220f8618259147a850bab4089da.jpg  \n",
            " extracting: dataset/train/images/47F8B139-C03D-41C9-A790-F7C686BDC21B_jpeg.rf.6323880f08b6048075c9dd5bf2eaee67.jpg  \n",
            " extracting: dataset/train/images/47F8B139-C03D-41C9-A790-F7C686BDC21B_jpeg.rf.fb27e24e746fc4f49f0feeb82d0d4751.jpg  \n",
            " extracting: dataset/train/images/48ABC639-0E77-4798-8350-1A27C056047A_jpeg.rf.4eee6e3a476535c13e8b8b31af16c400.jpg  \n",
            " extracting: dataset/train/images/48ABC639-0E77-4798-8350-1A27C056047A_jpeg.rf.6634494543348f52c300c43087b98896.jpg  \n",
            " extracting: dataset/train/images/48ABC639-0E77-4798-8350-1A27C056047A_jpeg.rf.726104470bc641599801c6b8910682d7.jpg  \n",
            " extracting: dataset/train/images/48CA2CAC-6068-4E4A-9BF4-43923DC0A2D9_jpeg.rf.57138c7ec7eeaa9f04eb2770accc6571.jpg  \n",
            " extracting: dataset/train/images/48CA2CAC-6068-4E4A-9BF4-43923DC0A2D9_jpeg.rf.758b5ffde87548b2597c5ff3993f1ca0.jpg  \n",
            " extracting: dataset/train/images/48CA2CAC-6068-4E4A-9BF4-43923DC0A2D9_jpeg.rf.9449649470ca692c0ce736b042043688.jpg  \n",
            " extracting: dataset/train/images/48E2E9A6-B233-4D2A-B323-C6C13D3F8212_jpeg.rf.38189fb9b23401663c64b775212511c5.jpg  \n",
            " extracting: dataset/train/images/48E2E9A6-B233-4D2A-B323-C6C13D3F8212_jpeg.rf.46e63e8fd2ff6254d45b5c2e0907478d.jpg  \n",
            " extracting: dataset/train/images/48E2E9A6-B233-4D2A-B323-C6C13D3F8212_jpeg.rf.bd494bd3bddb02224fe691fbbae49cb6.jpg  \n",
            " extracting: dataset/train/images/48F943F7-AD6D-45D7-8FEC-C5C44A1E3B5A_jpeg.rf.7bf4653b7d66aac20ec1f3c3d1bf0997.jpg  \n",
            " extracting: dataset/train/images/48F943F7-AD6D-45D7-8FEC-C5C44A1E3B5A_jpeg.rf.ad0584170fa84147cffe2ea087dba805.jpg  \n",
            " extracting: dataset/train/images/48F943F7-AD6D-45D7-8FEC-C5C44A1E3B5A_jpeg.rf.d6af549431269849cea9ddcad073e2fd.jpg  \n",
            " extracting: dataset/train/images/491167F9-9803-4D40-94F6-810176B54C5F_jpeg.rf.1b28f145aa75bbaef560cad0d75c4208.jpg  \n",
            " extracting: dataset/train/images/491167F9-9803-4D40-94F6-810176B54C5F_jpeg.rf.e3b0ac4264aa5287d67c0a9fa8bc84f1.jpg  \n",
            " extracting: dataset/train/images/491167F9-9803-4D40-94F6-810176B54C5F_jpeg.rf.f3b94e8c3c67f6c082b52b99ea368672.jpg  \n",
            " extracting: dataset/train/images/49D0FE1B-F39D-4429-AF4E-C83642BE2E40_jpeg.rf.4335ebebeaeaca23f723c597da03e36e.jpg  \n",
            " extracting: dataset/train/images/49D0FE1B-F39D-4429-AF4E-C83642BE2E40_jpeg.rf.59876a492591b1f045d83d8487cf7845.jpg  \n",
            " extracting: dataset/train/images/49D0FE1B-F39D-4429-AF4E-C83642BE2E40_jpeg.rf.fcda3f16a1582d49424e5991b519a26a.jpg  \n",
            " extracting: dataset/train/images/49FD0336-A341-4B01-9BAC-B65D9381FF93_jpeg.rf.115d953acfc3b10e4c75b3dc90e086ff.jpg  \n",
            " extracting: dataset/train/images/49FD0336-A341-4B01-9BAC-B65D9381FF93_jpeg.rf.3c3e65e166c3cf0ca02b6b6a6f50011d.jpg  \n",
            " extracting: dataset/train/images/49FD0336-A341-4B01-9BAC-B65D9381FF93_jpeg.rf.4cdacbc5202f51c5ee9eac203b5549ab.jpg  \n",
            " extracting: dataset/train/images/4A2FB4C9-061C-4125-9D42-4478044A3232_jpeg.rf.17471bd2d2bebf8547ca718d19dc7038.jpg  \n",
            " extracting: dataset/train/images/4A2FB4C9-061C-4125-9D42-4478044A3232_jpeg.rf.6f9e595293611d1694dc471d6cddcee7.jpg  \n",
            " extracting: dataset/train/images/4A2FB4C9-061C-4125-9D42-4478044A3232_jpeg.rf.cd5a5aa8e14ac1bdc4d4fe8857c7a29b.jpg  \n",
            " extracting: dataset/train/images/4AAA22EF-7333-464C-878C-7122016878AD_jpeg.rf.45f593a64b629b08798c20db0045a2cf.jpg  \n",
            " extracting: dataset/train/images/4AAA22EF-7333-464C-878C-7122016878AD_jpeg.rf.b2ce09c60b665af9461f5e2ab32f26c6.jpg  \n",
            " extracting: dataset/train/images/4AAA22EF-7333-464C-878C-7122016878AD_jpeg.rf.bff728c441b6a10d39ba54bcffbb11ca.jpg  \n",
            " extracting: dataset/train/images/4AC43431-81F2-4172-8181-8074E95463A6_jpeg.rf.11ddb8b95cc473cc307a2eea8d16ac13.jpg  \n",
            " extracting: dataset/train/images/4AC43431-81F2-4172-8181-8074E95463A6_jpeg.rf.46bddca32f79f496900e68a09a77a308.jpg  \n",
            " extracting: dataset/train/images/4AC43431-81F2-4172-8181-8074E95463A6_jpeg.rf.b19d63dbf21f654a89d55d7181614a59.jpg  \n",
            " extracting: dataset/train/images/4AEC2E58-8105-4FEE-A6C7-D24CAC486AF6_jpeg.rf.3ed639a818f04a0333eab48f0a781324.jpg  \n",
            " extracting: dataset/train/images/4AEC2E58-8105-4FEE-A6C7-D24CAC486AF6_jpeg.rf.de8af3ef1fd90b67a7a141d6e8b182b0.jpg  \n",
            " extracting: dataset/train/images/4AEC2E58-8105-4FEE-A6C7-D24CAC486AF6_jpeg.rf.ed44902ce372e980636167f26e307361.jpg  \n",
            " extracting: dataset/train/images/4B973ED4-510B-4A14-85EC-D44726732FE6_jpeg.rf.b478cdbc1d9546d765c18bcdf4cc4255.jpg  \n",
            " extracting: dataset/train/images/4B973ED4-510B-4A14-85EC-D44726732FE6_jpeg.rf.c3f95c78bb86ac1add2e0668879e3060.jpg  \n",
            " extracting: dataset/train/images/4B973ED4-510B-4A14-85EC-D44726732FE6_jpeg.rf.ecf8443d775af43ffeb3302eec6c0eb0.jpg  \n",
            " extracting: dataset/train/images/4C90B85B-2290-40E9-9DF5-78C0B04BBC35_jpeg.rf.2921e7d911402fca85c56fa7e72dacb0.jpg  \n",
            " extracting: dataset/train/images/4C90B85B-2290-40E9-9DF5-78C0B04BBC35_jpeg.rf.69ff20e494f6f2e993160cf671322af4.jpg  \n",
            " extracting: dataset/train/images/4C90B85B-2290-40E9-9DF5-78C0B04BBC35_jpeg.rf.e3f95c8a579fbda96def075607d144bb.jpg  \n",
            " extracting: dataset/train/images/4D25DC92-619F-45BA-8B3C-E913451A2D9E_jpeg.rf.337af056312bc561b49138cb213a4e5d.jpg  \n",
            " extracting: dataset/train/images/4D25DC92-619F-45BA-8B3C-E913451A2D9E_jpeg.rf.41fc7c510ca69e85238e2a26797cbed1.jpg  \n",
            " extracting: dataset/train/images/4D25DC92-619F-45BA-8B3C-E913451A2D9E_jpeg.rf.ee4b85fff25fb0f814a84632317452aa.jpg  \n",
            " extracting: dataset/train/images/4D4B4C05-50ED-4002-A537-B0983D907782_jpeg.rf.2eedd9fe74c77e0e8cc7482167954d40.jpg  \n",
            " extracting: dataset/train/images/4D4B4C05-50ED-4002-A537-B0983D907782_jpeg.rf.ce3bc392f388a42de1b9afba740fe356.jpg  \n",
            " extracting: dataset/train/images/4D4B4C05-50ED-4002-A537-B0983D907782_jpeg.rf.e9de48f0727998a5d97836043c286040.jpg  \n",
            " extracting: dataset/train/images/4D961DAB-AEAD-4210-8279-2133A75DFEF4_jpeg.rf.342cc27a31ecf71be0c5931f02a77685.jpg  \n",
            " extracting: dataset/train/images/4D961DAB-AEAD-4210-8279-2133A75DFEF4_jpeg.rf.67827ec96b741b6f698ae0cef2787a5c.jpg  \n",
            " extracting: dataset/train/images/4D961DAB-AEAD-4210-8279-2133A75DFEF4_jpeg.rf.c0dcdf3679cf757ab4941f7d21d1657e.jpg  \n",
            " extracting: dataset/train/images/4E467065-1777-4105-BA3F-02575E68AC96_jpeg.rf.a44ef6449bac5dca984e0b6267c620b4.jpg  \n",
            " extracting: dataset/train/images/4E467065-1777-4105-BA3F-02575E68AC96_jpeg.rf.a7660ee72422f288c73e89a3669ad9d7.jpg  \n",
            " extracting: dataset/train/images/4E467065-1777-4105-BA3F-02575E68AC96_jpeg.rf.dcdc391483da788594143ee67a020b50.jpg  \n",
            " extracting: dataset/train/images/4EE148DD-4C87-4FBC-8B73-A574F9ACCD5C_jpeg.rf.0944cf761156b1ecef8578667c835688.jpg  \n",
            " extracting: dataset/train/images/4EE148DD-4C87-4FBC-8B73-A574F9ACCD5C_jpeg.rf.2dc73c19a4cea22970eb788c1c035f5b.jpg  \n",
            " extracting: dataset/train/images/4EE148DD-4C87-4FBC-8B73-A574F9ACCD5C_jpeg.rf.3564ba800ef1f59277f2a6a889638815.jpg  \n",
            " extracting: dataset/train/images/50D82001-D873-418A-958D-DBB514BF21D0_jpeg.rf.0d5485ee7bd91d704d4f4bcad17ab8da.jpg  \n",
            " extracting: dataset/train/images/50D82001-D873-418A-958D-DBB514BF21D0_jpeg.rf.db4563cdc42266f284996972821597e9.jpg  \n",
            " extracting: dataset/train/images/50D82001-D873-418A-958D-DBB514BF21D0_jpeg.rf.f0ddbb13bc1a318f24899c4d4cbd5326.jpg  \n",
            " extracting: dataset/train/images/5167AF7B-1A8B-4910-89E9-0A6DC4A1ED0B_jpeg.rf.02e04d3bc97d6e0b36821f42aa10c3c1.jpg  \n",
            " extracting: dataset/train/images/5167AF7B-1A8B-4910-89E9-0A6DC4A1ED0B_jpeg.rf.8edcbb0d9b7fcb19001905baaca49267.jpg  \n",
            " extracting: dataset/train/images/5167AF7B-1A8B-4910-89E9-0A6DC4A1ED0B_jpeg.rf.cc745b6a36c5e38285cebb38cf92b3a5.jpg  \n",
            " extracting: dataset/train/images/52CCAFDC-BFB6-454C-8E1D-E7644BF22E2E_jpeg.rf.1fb8495a449e83b014bfd4ba9e9a3d99.jpg  \n",
            " extracting: dataset/train/images/52CCAFDC-BFB6-454C-8E1D-E7644BF22E2E_jpeg.rf.667ca2754ee5d2e5f23a7f18859a4d0e.jpg  \n",
            " extracting: dataset/train/images/52CCAFDC-BFB6-454C-8E1D-E7644BF22E2E_jpeg.rf.e3b142560cf757a35d90f0feb30a67b4.jpg  \n",
            " extracting: dataset/train/images/532F92DD-D965-4F23-9D07-6B269610A291_jpeg.rf.be1a525c6ca6f0b6292e0f4857e0cae0.jpg  \n",
            " extracting: dataset/train/images/532F92DD-D965-4F23-9D07-6B269610A291_jpeg.rf.c12a9a1796620658bf508b528428cbfc.jpg  \n",
            " extracting: dataset/train/images/532F92DD-D965-4F23-9D07-6B269610A291_jpeg.rf.d003dbb40dbd04c91ace9e8cfdce54cb.jpg  \n",
            " extracting: dataset/train/images/53BDE74C-35FE-4303-B0A6-BF39BFEF58F6_jpeg.rf.03d233d9a56f04284eea849f3eb9459d.jpg  \n",
            " extracting: dataset/train/images/53BDE74C-35FE-4303-B0A6-BF39BFEF58F6_jpeg.rf.7632b54bc9ec4af2c372c7318a575189.jpg  \n",
            " extracting: dataset/train/images/53BDE74C-35FE-4303-B0A6-BF39BFEF58F6_jpeg.rf.f0bc36aa19dd1951f8b0cb737f9d13c9.jpg  \n",
            " extracting: dataset/train/images/540A2555-2215-4259-85CE-D605516A66DE_jpeg.rf.4b9a03bb30ea38e4cba3d5090a259536.jpg  \n",
            " extracting: dataset/train/images/540A2555-2215-4259-85CE-D605516A66DE_jpeg.rf.52d8a40a39186ccd29c84809e0469e08.jpg  \n",
            " extracting: dataset/train/images/540A2555-2215-4259-85CE-D605516A66DE_jpeg.rf.79f1decbe3133c9b7ada9f2e9a95b4d2.jpg  \n",
            " extracting: dataset/train/images/5475D8DA-EF62-47BB-87EA-D4E69C1F87B4_jpeg.rf.2be9ed3b258b1611477401ef1a3177f7.jpg  \n",
            " extracting: dataset/train/images/5475D8DA-EF62-47BB-87EA-D4E69C1F87B4_jpeg.rf.8c86a84513e6f9f91f80cd3785e84801.jpg  \n",
            " extracting: dataset/train/images/5475D8DA-EF62-47BB-87EA-D4E69C1F87B4_jpeg.rf.fb647666018a36475f4c7a790105e64c.jpg  \n",
            " extracting: dataset/train/images/564DF028-77B0-482E-B846-169B23294014_jpeg.rf.7e30e3c0287d6dff38883a9fac96d554.jpg  \n",
            " extracting: dataset/train/images/564DF028-77B0-482E-B846-169B23294014_jpeg.rf.92ee2387e91e491ffd8f4344eaccc624.jpg  \n",
            " extracting: dataset/train/images/564DF028-77B0-482E-B846-169B23294014_jpeg.rf.a53d41654a0ed87eb0e5ef9e8b7020f1.jpg  \n",
            " extracting: dataset/train/images/577C73A3-86DF-4FEA-9CB4-8B351F650B27_jpeg.rf.988216dd26e2c5ba4a311b8b3488f4c0.jpg  \n",
            " extracting: dataset/train/images/577C73A3-86DF-4FEA-9CB4-8B351F650B27_jpeg.rf.d81e91c78e2bbeffadba55b728d7d1ba.jpg  \n",
            " extracting: dataset/train/images/577C73A3-86DF-4FEA-9CB4-8B351F650B27_jpeg.rf.fc2342410b295bb61b2eb7342b7ca96e.jpg  \n",
            " extracting: dataset/train/images/582E6A36-5316-443C-BC3C-E4856F3A8C59_jpeg.rf.65a687306d56650030d70b5bacc0a1cd.jpg  \n",
            " extracting: dataset/train/images/582E6A36-5316-443C-BC3C-E4856F3A8C59_jpeg.rf.65f015e1f2c567b6c5240e74582382e1.jpg  \n",
            " extracting: dataset/train/images/582E6A36-5316-443C-BC3C-E4856F3A8C59_jpeg.rf.86c8cf11f5804c477fd3e89ee09d0a14.jpg  \n",
            " extracting: dataset/train/images/5974730B-9148-43F6-B04A-390A28B24B5B_jpeg.rf.0cb7b28455d8ae76f0e7f73ca0b03877.jpg  \n",
            " extracting: dataset/train/images/5974730B-9148-43F6-B04A-390A28B24B5B_jpeg.rf.16e738ad105803865c48405e68b83e50.jpg  \n",
            " extracting: dataset/train/images/5974730B-9148-43F6-B04A-390A28B24B5B_jpeg.rf.7566acfb39a48502b63e138b37e62685.jpg  \n",
            " extracting: dataset/train/images/59F0BB9E-E8A7-42EA-8F1C-A8987FEA93CC_jpeg.rf.55b2202ce44a599d5d5e5146542d649a.jpg  \n",
            " extracting: dataset/train/images/59F0BB9E-E8A7-42EA-8F1C-A8987FEA93CC_jpeg.rf.739b702d15b67bbb85946e21e07a391e.jpg  \n",
            " extracting: dataset/train/images/59F0BB9E-E8A7-42EA-8F1C-A8987FEA93CC_jpeg.rf.93ff1fd75578f78c0ac84664022ddb5c.jpg  \n",
            " extracting: dataset/train/images/5A2E004B-969D-4F3A-9DDE-3D725CEC3538_jpeg.rf.03686fdc28fc84b316a71fb10b351d08.jpg  \n",
            " extracting: dataset/train/images/5A2E004B-969D-4F3A-9DDE-3D725CEC3538_jpeg.rf.15504a420b0e3261670d5fc1e0392e36.jpg  \n",
            " extracting: dataset/train/images/5A2E004B-969D-4F3A-9DDE-3D725CEC3538_jpeg.rf.e7781ffc0072cfde7e56b7d6860720f6.jpg  \n",
            " extracting: dataset/train/images/5A87323E-067C-4606-A0CA-23CB5B2F264E_jpeg.rf.0638846d44e6cf212bb2115d38cc8bc6.jpg  \n",
            " extracting: dataset/train/images/5A87323E-067C-4606-A0CA-23CB5B2F264E_jpeg.rf.3f23812ab0a7267a75fc9139dc4188f3.jpg  \n",
            " extracting: dataset/train/images/5A87323E-067C-4606-A0CA-23CB5B2F264E_jpeg.rf.e526dfca437aec469ecb75905ce07a1c.jpg  \n",
            " extracting: dataset/train/images/5AF16151-CC62-4A8A-890A-5AC7B56AD352_jpeg.rf.058f07ff70920aeb345266e50300e9fd.jpg  \n",
            " extracting: dataset/train/images/5AF16151-CC62-4A8A-890A-5AC7B56AD352_jpeg.rf.5b9531367fe657f584b7b0d9576160f0.jpg  \n",
            " extracting: dataset/train/images/5AF16151-CC62-4A8A-890A-5AC7B56AD352_jpeg.rf.605105bbcb4758c63cbffd426808191b.jpg  \n",
            " extracting: dataset/train/images/5B492829-C0BA-4841-9EC4-1ED6B267DB6B_jpeg.rf.3f75d231b85adbf56bcda0c55c9034fa.jpg  \n",
            " extracting: dataset/train/images/5B492829-C0BA-4841-9EC4-1ED6B267DB6B_jpeg.rf.53e4af35e2b3cb214d24b740387ce701.jpg  \n",
            " extracting: dataset/train/images/5B492829-C0BA-4841-9EC4-1ED6B267DB6B_jpeg.rf.ece0b226d1560e8eee4187621375c6aa.jpg  \n",
            " extracting: dataset/train/images/5BEC371F-10C7-4E19-907F-1CFE2F895A8B_jpeg.rf.6449576bcbf8b5e3e49118d94bb68587.jpg  \n",
            " extracting: dataset/train/images/5BEC371F-10C7-4E19-907F-1CFE2F895A8B_jpeg.rf.8b242626e311fd8b892e3f50f97ab092.jpg  \n",
            " extracting: dataset/train/images/5BEC371F-10C7-4E19-907F-1CFE2F895A8B_jpeg.rf.f56e84c013914e03525fe3e3dfc9c9b5.jpg  \n",
            " extracting: dataset/train/images/5E0A2244-9614-4967-B443-D85C6E216A40_jpeg.rf.01dbd9f9d64cb1b16fbaa74e4a6cb264.jpg  \n",
            " extracting: dataset/train/images/5E0A2244-9614-4967-B443-D85C6E216A40_jpeg.rf.2bc518ec28cafe4738913e56fe859413.jpg  \n",
            " extracting: dataset/train/images/5E0A2244-9614-4967-B443-D85C6E216A40_jpeg.rf.7570db4c407c7221b8859ceea28943f8.jpg  \n",
            " extracting: dataset/train/images/5E44FBC8-A187-443F-95A3-442E059A64E1_jpeg.rf.43710db4c2922918f8c17dcbdd3ec0ba.jpg  \n",
            " extracting: dataset/train/images/5E44FBC8-A187-443F-95A3-442E059A64E1_jpeg.rf.e282891eea5c98b4b50e75a485b6b267.jpg  \n",
            " extracting: dataset/train/images/5E44FBC8-A187-443F-95A3-442E059A64E1_jpeg.rf.f787d94086f21126e4b6594653886a41.jpg  \n",
            " extracting: dataset/train/images/5E5A67E5-C8A0-45B6-83E9-985CDE2CF6C4_jpeg.rf.4125c249c4e337422d8a469064f199f7.jpg  \n",
            " extracting: dataset/train/images/5E5A67E5-C8A0-45B6-83E9-985CDE2CF6C4_jpeg.rf.526341b77c833cda75662d6b3f196320.jpg  \n",
            " extracting: dataset/train/images/5E5A67E5-C8A0-45B6-83E9-985CDE2CF6C4_jpeg.rf.e0c199eab584984b76707c0d1fcafcb7.jpg  \n",
            " extracting: dataset/train/images/5EAC15CA-B5DE-487D-885D-0C2ABD1178C9_jpeg.rf.067fc3e5f410443baddb603fba9653f1.jpg  \n",
            " extracting: dataset/train/images/5EAC15CA-B5DE-487D-885D-0C2ABD1178C9_jpeg.rf.1abf5c8396a1c56193a234df7b73ca71.jpg  \n",
            " extracting: dataset/train/images/5EAC15CA-B5DE-487D-885D-0C2ABD1178C9_jpeg.rf.91ceca0110382474b9584ab0b8bf19db.jpg  \n",
            " extracting: dataset/train/images/5EF124C5-AE2A-407B-AE7E-7A91E81D7A30_jpeg.rf.822cb66fd619826f330d90ab811c71aa.jpg  \n",
            " extracting: dataset/train/images/5EF124C5-AE2A-407B-AE7E-7A91E81D7A30_jpeg.rf.ccc61c592c28b4bb4ca3f864da57ff72.jpg  \n",
            " extracting: dataset/train/images/5EF124C5-AE2A-407B-AE7E-7A91E81D7A30_jpeg.rf.d8487ef2024991a2ef9b456c67d0b3f4.jpg  \n",
            " extracting: dataset/train/images/5F1931CE-D3F6-4FEC-9E4E-AA5C5D45FB80_jpeg.rf.0084d308cc55435c6d21a8a0a50769d4.jpg  \n",
            " extracting: dataset/train/images/5F1931CE-D3F6-4FEC-9E4E-AA5C5D45FB80_jpeg.rf.1032eca67dc7117688e75336f002f6f7.jpg  \n",
            " extracting: dataset/train/images/5F1931CE-D3F6-4FEC-9E4E-AA5C5D45FB80_jpeg.rf.ce0476176f6e1259e392b1d1ba53edb7.jpg  \n",
            " extracting: dataset/train/images/60A1F596-571A-4A27-8124-ADFA8E68D1C6_jpeg.rf.1d8e7f0896597a0388d98403f15ba6ec.jpg  \n",
            " extracting: dataset/train/images/60A1F596-571A-4A27-8124-ADFA8E68D1C6_jpeg.rf.52f8ca16cda57c2e0f9303905cf6ea6e.jpg  \n",
            " extracting: dataset/train/images/60A1F596-571A-4A27-8124-ADFA8E68D1C6_jpeg.rf.e9146230229b9796af59ff7a6818916f.jpg  \n",
            " extracting: dataset/train/images/6110E783-F5B8-4999-8A00-2C279F465CA6_jpeg.rf.0d3fdd7724a60541b1e7fd213cb528b0.jpg  \n",
            " extracting: dataset/train/images/6110E783-F5B8-4999-8A00-2C279F465CA6_jpeg.rf.1285d8fafe8a691ac0924f2b559b26b8.jpg  \n",
            " extracting: dataset/train/images/6110E783-F5B8-4999-8A00-2C279F465CA6_jpeg.rf.c47d2af2bf85ac739bc3bcf0699e38be.jpg  \n",
            " extracting: dataset/train/images/616B5D14-93E7-4120-94C4-4132122EB5E8_jpeg.rf.063ed673297e1ad6640f3ca68a7d429c.jpg  \n",
            " extracting: dataset/train/images/616B5D14-93E7-4120-94C4-4132122EB5E8_jpeg.rf.45c25e7dad6f9a790030d5f99ebc7106.jpg  \n",
            " extracting: dataset/train/images/616B5D14-93E7-4120-94C4-4132122EB5E8_jpeg.rf.483bf36aa6001c9e0d2d1e71804c71ce.jpg  \n",
            " extracting: dataset/train/images/61E83279-37FB-4AD4-8894-F09988709D58_jpeg.rf.5e347a7e61ecc56a0c1a4de3bf367bf5.jpg  \n",
            " extracting: dataset/train/images/61E83279-37FB-4AD4-8894-F09988709D58_jpeg.rf.dfa7407817a6cca915d76d6a2824adc1.jpg  \n",
            " extracting: dataset/train/images/61E83279-37FB-4AD4-8894-F09988709D58_jpeg.rf.ea7708a08ce48ae398c3c145b2f0a097.jpg  \n",
            " extracting: dataset/train/images/65823A97-F2E9-4861-BE40-437FECAA7D10_jpeg.rf.25a6e421822ec2b1103e33fdc79e2645.jpg  \n",
            " extracting: dataset/train/images/65823A97-F2E9-4861-BE40-437FECAA7D10_jpeg.rf.77e434d0e8c3e226340067d52ea8b052.jpg  \n",
            " extracting: dataset/train/images/65823A97-F2E9-4861-BE40-437FECAA7D10_jpeg.rf.86edfd48c126334ef51bf4c691f6c8cc.jpg  \n",
            " extracting: dataset/train/images/6595D931-B125-4453-96C3-16FADDA4DA29_jpeg.rf.022dbaa03c6bc3b4d745918ccac064fd.jpg  \n",
            " extracting: dataset/train/images/6595D931-B125-4453-96C3-16FADDA4DA29_jpeg.rf.4e81ec59f7d05ee15927e458360f0c89.jpg  \n",
            " extracting: dataset/train/images/6595D931-B125-4453-96C3-16FADDA4DA29_jpeg.rf.cb871cbdeea530bdabef97117be64b31.jpg  \n",
            " extracting: dataset/train/images/66A2D5E9-1747-4B98-8591-60C37BF2B77D_jpeg.rf.abb64cb7e3f8958591c5b547fb708518.jpg  \n",
            " extracting: dataset/train/images/66A2D5E9-1747-4B98-8591-60C37BF2B77D_jpeg.rf.b871554a421dcd157755706a03773166.jpg  \n",
            " extracting: dataset/train/images/66A2D5E9-1747-4B98-8591-60C37BF2B77D_jpeg.rf.d85c217a6476f32960f2995344a191fe.jpg  \n",
            " extracting: dataset/train/images/684C4C12-8283-4949-AFFF-A0CA8A576251_jpeg.rf.30a76159f1ee997cdc1c3fa222055f48.jpg  \n",
            " extracting: dataset/train/images/684C4C12-8283-4949-AFFF-A0CA8A576251_jpeg.rf.cce536e1111176a61f8cdb5b5497c60c.jpg  \n",
            " extracting: dataset/train/images/684C4C12-8283-4949-AFFF-A0CA8A576251_jpeg.rf.e6e87c55b204ef38d03fe8ab999f3c72.jpg  \n",
            " extracting: dataset/train/images/6868A4D1-A1C7-4B1F-9F80-74FB5B84313D_jpeg.rf.0657afc6bd6011cf9022fa2e159ca596.jpg  \n",
            " extracting: dataset/train/images/6868A4D1-A1C7-4B1F-9F80-74FB5B84313D_jpeg.rf.103b10cfef6a82df40a33d900f6bc978.jpg  \n",
            " extracting: dataset/train/images/6868A4D1-A1C7-4B1F-9F80-74FB5B84313D_jpeg.rf.9e88f9f717206475af364a524d4e947a.jpg  \n",
            " extracting: dataset/train/images/6881FC34-F55A-47BD-AD8A-2AE7C3246CB8_jpeg.rf.8ee0eea7d22274be9c10f4e158b5d7ac.jpg  \n",
            " extracting: dataset/train/images/6881FC34-F55A-47BD-AD8A-2AE7C3246CB8_jpeg.rf.dcdc498a0541493c88462cf266653b2c.jpg  \n",
            " extracting: dataset/train/images/6881FC34-F55A-47BD-AD8A-2AE7C3246CB8_jpeg.rf.e28519bb6ca36613e50a580517197ca3.jpg  \n",
            " extracting: dataset/train/images/68A60308-12B8-4613-8B86-76B4B061B331_jpeg.rf.a4f7eea1f97f188785874686e2b41b8a.jpg  \n",
            " extracting: dataset/train/images/68A60308-12B8-4613-8B86-76B4B061B331_jpeg.rf.a84b4318afc7cc3d784171627d1a0d6a.jpg  \n",
            " extracting: dataset/train/images/68A60308-12B8-4613-8B86-76B4B061B331_jpeg.rf.d158954610738273bda53c0853fcd204.jpg  \n",
            " extracting: dataset/train/images/68FE5BB0-18A5-4E5E-9877-EB02E3310694_jpeg.rf.85bd402859588e16947034d2958d95d6.jpg  \n",
            " extracting: dataset/train/images/68FE5BB0-18A5-4E5E-9877-EB02E3310694_jpeg.rf.e333dd92e8faa5528ef1df80775363ad.jpg  \n",
            " extracting: dataset/train/images/68FE5BB0-18A5-4E5E-9877-EB02E3310694_jpeg.rf.ed0fd228f2616b2f86694283af42b6e0.jpg  \n",
            " extracting: dataset/train/images/6948BC25-A133-434C-A8A1-2F1BFF46CFD8_jpeg.rf.0435a9e919229963fda871e59963b170.jpg  \n",
            " extracting: dataset/train/images/6948BC25-A133-434C-A8A1-2F1BFF46CFD8_jpeg.rf.5549b1e25f55b6225bb4e2ac976d0595.jpg  \n",
            " extracting: dataset/train/images/6948BC25-A133-434C-A8A1-2F1BFF46CFD8_jpeg.rf.5878b165098c99917d3be04f01092503.jpg  \n",
            " extracting: dataset/train/images/6A55F547-0ACD-4FEF-8B17-B3C17B7CDCD1_jpeg.rf.2de51add8bf0a27fe87793d2596e2a95.jpg  \n",
            " extracting: dataset/train/images/6A55F547-0ACD-4FEF-8B17-B3C17B7CDCD1_jpeg.rf.70e440fba5453baa6ef615c3198285ae.jpg  \n",
            " extracting: dataset/train/images/6A55F547-0ACD-4FEF-8B17-B3C17B7CDCD1_jpeg.rf.8ca9773f97dab215d4d9411c1ec8fd8f.jpg  \n",
            " extracting: dataset/train/images/6A991B3A-DB22-4E4E-AE90-A7DADB1172F3_jpeg.rf.7caa513e1c9940b29b6749fbc80207c3.jpg  \n",
            " extracting: dataset/train/images/6A991B3A-DB22-4E4E-AE90-A7DADB1172F3_jpeg.rf.7fcfc6fb3adbdbd4f300acdb898f7708.jpg  \n",
            " extracting: dataset/train/images/6A991B3A-DB22-4E4E-AE90-A7DADB1172F3_jpeg.rf.eeaaf8d42d5d26961903bbf39a0f8a50.jpg  \n",
            " extracting: dataset/train/images/6AD7550E-CB63-4C48-A9A2-62929A48B87E_jpeg.rf.482b78b2cca96d71420c228c411ad35c.jpg  \n",
            " extracting: dataset/train/images/6AD7550E-CB63-4C48-A9A2-62929A48B87E_jpeg.rf.aa3bd4450caec419ae72ff9a1efb357e.jpg  \n",
            " extracting: dataset/train/images/6AD7550E-CB63-4C48-A9A2-62929A48B87E_jpeg.rf.cbdef776ea7778862d72afbc71aace9d.jpg  \n",
            " extracting: dataset/train/images/6ADBE40F-C585-42A4-BA8E-FEBA7256FD0F_jpeg.rf.1185d635088fb678a9e690468f03fb8b.jpg  \n",
            " extracting: dataset/train/images/6ADBE40F-C585-42A4-BA8E-FEBA7256FD0F_jpeg.rf.5174723cf46d643cc6406ea0cdb25a02.jpg  \n",
            " extracting: dataset/train/images/6ADBE40F-C585-42A4-BA8E-FEBA7256FD0F_jpeg.rf.aa4993054e1d91b50b81a3cdee2e5deb.jpg  \n",
            " extracting: dataset/train/images/6AE695F5-9072-46CB-81BE-77FD207F9B3A_jpeg.rf.421e83b7cdb63071734632d13b731bd0.jpg  \n",
            " extracting: dataset/train/images/6AE695F5-9072-46CB-81BE-77FD207F9B3A_jpeg.rf.7f9cfcd7e55af49b1fd1f9498e32c84c.jpg  \n",
            " extracting: dataset/train/images/6AE695F5-9072-46CB-81BE-77FD207F9B3A_jpeg.rf.91e741c6aa4681e8daa4c5f17e041d08.jpg  \n",
            " extracting: dataset/train/images/6B198F28-DB0B-455B-9F29-901DCB0D3254_jpeg.rf.4bc8477262d561a362fab1e70bbb2daa.jpg  \n",
            " extracting: dataset/train/images/6B198F28-DB0B-455B-9F29-901DCB0D3254_jpeg.rf.a2f74f182f470bf33dac3500f869a3d2.jpg  \n",
            " extracting: dataset/train/images/6B198F28-DB0B-455B-9F29-901DCB0D3254_jpeg.rf.e0af3b9f592818419d07e85b9853b881.jpg  \n",
            " extracting: dataset/train/images/6B3D4118-FBAE-4836-B9E8-8014208C078D_jpeg.rf.1258d464165e4f58467f42c303c27e04.jpg  \n",
            " extracting: dataset/train/images/6B3D4118-FBAE-4836-B9E8-8014208C078D_jpeg.rf.6a4ed31e610d8a833ab7f4e50c1d2473.jpg  \n",
            " extracting: dataset/train/images/6B3D4118-FBAE-4836-B9E8-8014208C078D_jpeg.rf.842da28335a8c60ea2a68f6f5f444863.jpg  \n",
            " extracting: dataset/train/images/6B6A1CDB-13AD-4A97-A8BB-701C3649763F_jpeg.rf.84a013fdc073881541517e689d1e792f.jpg  \n",
            " extracting: dataset/train/images/6B6A1CDB-13AD-4A97-A8BB-701C3649763F_jpeg.rf.a7d33f40892a12843ffde126a0e0827a.jpg  \n",
            " extracting: dataset/train/images/6B6A1CDB-13AD-4A97-A8BB-701C3649763F_jpeg.rf.dbee56033c7b8a039e56550ac86d39f6.jpg  \n",
            " extracting: dataset/train/images/701C9191-95BC-46C6-B676-ACC783F90E26_jpeg.rf.0bfba170735726d36ec681550b97626f.jpg  \n",
            " extracting: dataset/train/images/701C9191-95BC-46C6-B676-ACC783F90E26_jpeg.rf.2f51200fffbab10aee34ddcdb496d183.jpg  \n",
            " extracting: dataset/train/images/701C9191-95BC-46C6-B676-ACC783F90E26_jpeg.rf.6333aabe124f024b5685d801372b3e53.jpg  \n",
            " extracting: dataset/train/images/7057B393-DEE8-4677-B005-0D825DBBD48B_jpeg.rf.0a4a1c6c9ed3bef3138efae5831f41ec.jpg  \n",
            " extracting: dataset/train/images/7057B393-DEE8-4677-B005-0D825DBBD48B_jpeg.rf.4d201433cf0908b384cb1b93faccebbe.jpg  \n",
            " extracting: dataset/train/images/7057B393-DEE8-4677-B005-0D825DBBD48B_jpeg.rf.5e2b329509f20c41d47db0b35dfec075.jpg  \n",
            " extracting: dataset/train/images/71AC32F2-4DCC-4CCE-A12D-DB6E4D760608_jpeg.rf.08344a892577e22f5c8467a3fea596a9.jpg  \n",
            " extracting: dataset/train/images/71AC32F2-4DCC-4CCE-A12D-DB6E4D760608_jpeg.rf.4b79b56812b75d0fa1e264eb885b86b6.jpg  \n",
            " extracting: dataset/train/images/71AC32F2-4DCC-4CCE-A12D-DB6E4D760608_jpeg.rf.d6c6b5add39bf530d469809ecdcd1783.jpg  \n",
            " extracting: dataset/train/images/7213CA21-B80A-4400-81B8-618B81596E15_jpeg.rf.50c91fdc7ac24a3348676301e7456f65.jpg  \n",
            " extracting: dataset/train/images/7213CA21-B80A-4400-81B8-618B81596E15_jpeg.rf.bb067144144c6a5995e40b68763813fd.jpg  \n",
            " extracting: dataset/train/images/7213CA21-B80A-4400-81B8-618B81596E15_jpeg.rf.cc6593af37255b6e08a748b4d1b6abd3.jpg  \n",
            " extracting: dataset/train/images/7458A227-65F3-41F5-8BBD-F61D7A8B4622_jpeg.rf.0478b206e62bf9b2ab0aecd10372e1ec.jpg  \n",
            " extracting: dataset/train/images/7458A227-65F3-41F5-8BBD-F61D7A8B4622_jpeg.rf.f1c2dd496d9f7ad3f228a90fe22b592e.jpg  \n",
            " extracting: dataset/train/images/7458A227-65F3-41F5-8BBD-F61D7A8B4622_jpeg.rf.fd1ef31391b33a00a7f67b322afc735d.jpg  \n",
            " extracting: dataset/train/images/776E6DAF-A5B1-4935-8931-213DA38C37A8_jpeg.rf.096741fa6c2c105ee24dbe2174fea1e6.jpg  \n",
            " extracting: dataset/train/images/776E6DAF-A5B1-4935-8931-213DA38C37A8_jpeg.rf.1437c3f0bafe4fe8683fa800f5f13154.jpg  \n",
            " extracting: dataset/train/images/776E6DAF-A5B1-4935-8931-213DA38C37A8_jpeg.rf.3979b667053cc197263c2f1aabcce43f.jpg  \n",
            " extracting: dataset/train/images/77A8AEC1-C128-4F44-BE9A-932F7921452D_jpeg.rf.2ee20fa67fd0faefa00cfe6f784ffb2e.jpg  \n",
            " extracting: dataset/train/images/77A8AEC1-C128-4F44-BE9A-932F7921452D_jpeg.rf.4078ba8c8ecfc0a1e92fd7ef3dd13607.jpg  \n",
            " extracting: dataset/train/images/77A8AEC1-C128-4F44-BE9A-932F7921452D_jpeg.rf.8fae44dd36952c6b291f2aeaab88fbc6.jpg  \n",
            " extracting: dataset/train/images/77E916D2-5D7C-4EE2-B47C-E03FDBF09811_jpeg.rf.0e35ee76e7ae06418b76c53415800d21.jpg  \n",
            " extracting: dataset/train/images/77E916D2-5D7C-4EE2-B47C-E03FDBF09811_jpeg.rf.cca1b66e033cb9f92691cad95ed905b8.jpg  \n",
            " extracting: dataset/train/images/77E916D2-5D7C-4EE2-B47C-E03FDBF09811_jpeg.rf.dd3f2ff009549ab8dae067189fec5b47.jpg  \n",
            " extracting: dataset/train/images/789CE46D-1CB6-412B-88E2-C10FB134BE8E_jpeg.rf.062140caacda671a5aec1eef08a650a4.jpg  \n",
            " extracting: dataset/train/images/789CE46D-1CB6-412B-88E2-C10FB134BE8E_jpeg.rf.3878ce7175f01893d2446b8a4639e0c4.jpg  \n",
            " extracting: dataset/train/images/789CE46D-1CB6-412B-88E2-C10FB134BE8E_jpeg.rf.4ce3d1a62e5f346cc8bcef3966d2d01d.jpg  \n",
            " extracting: dataset/train/images/79A68FE7-A13B-4550-AB62-BDA278FE5E48_jpeg.rf.686436c664013ce7ecd822181f4e31f9.jpg  \n",
            " extracting: dataset/train/images/79A68FE7-A13B-4550-AB62-BDA278FE5E48_jpeg.rf.6900c5f4600bdc3019a457d501629de1.jpg  \n",
            " extracting: dataset/train/images/79A68FE7-A13B-4550-AB62-BDA278FE5E48_jpeg.rf.ee613dbbc8f5bb39980dfedc1a73c71a.jpg  \n",
            " extracting: dataset/train/images/79F91931-F592-4B5D-9F45-15795BF8DEDC_jpeg.rf.4968e12d931a72bf5f59502b539665b9.jpg  \n",
            " extracting: dataset/train/images/79F91931-F592-4B5D-9F45-15795BF8DEDC_jpeg.rf.6def0bd0933da1cf46f49bfef04a5053.jpg  \n",
            " extracting: dataset/train/images/79F91931-F592-4B5D-9F45-15795BF8DEDC_jpeg.rf.cf560bbd01c5d4cdc6e43df860e72434.jpg  \n",
            " extracting: dataset/train/images/7B9295A3-99C4-4527-9AEE-EDFBFA7EB401_jpeg.rf.02c6c5724db0cdf4af74e526a5380225.jpg  \n",
            " extracting: dataset/train/images/7B9295A3-99C4-4527-9AEE-EDFBFA7EB401_jpeg.rf.30c5a11724eb2c22ace15e89cda159d5.jpg  \n",
            " extracting: dataset/train/images/7B9295A3-99C4-4527-9AEE-EDFBFA7EB401_jpeg.rf.b25aa88c4d2fc1d702b740a226218b6a.jpg  \n",
            " extracting: dataset/train/images/7BA0E837-3B3A-4A27-B440-C752C87CFE2F_jpeg.rf.468350f6f62a29269b3c2cb993e3d6ba.jpg  \n",
            " extracting: dataset/train/images/7BA0E837-3B3A-4A27-B440-C752C87CFE2F_jpeg.rf.5244f49c3222122a4cbb0f7afd52125e.jpg  \n",
            " extracting: dataset/train/images/7BA0E837-3B3A-4A27-B440-C752C87CFE2F_jpeg.rf.ca719d77f6e9fe22f1982c02b6092961.jpg  \n",
            " extracting: dataset/train/images/7BD1B7B5-6898-4781-B3AE-EF47716581A4_jpeg.rf.31550cd892ca8fd5a0e687e897c7302f.jpg  \n",
            " extracting: dataset/train/images/7BD1B7B5-6898-4781-B3AE-EF47716581A4_jpeg.rf.3e9da4e19bf4568efa18990d25572965.jpg  \n",
            " extracting: dataset/train/images/7BD1B7B5-6898-4781-B3AE-EF47716581A4_jpeg.rf.40beef775b95226d13cc0a2eea7c4e1d.jpg  \n",
            " extracting: dataset/train/images/7C0C5755-C15A-4047-9A70-3ACEBD96270F_jpeg.rf.4651f6449b7f2107c69832735e8614aa.jpg  \n",
            " extracting: dataset/train/images/7C0C5755-C15A-4047-9A70-3ACEBD96270F_jpeg.rf.9eeaf32a893b9c11b1db2d14d7e360c4.jpg  \n",
            " extracting: dataset/train/images/7C0C5755-C15A-4047-9A70-3ACEBD96270F_jpeg.rf.dddca0570cbfcdbf3a52a96786f30dad.jpg  \n",
            " extracting: dataset/train/images/7CB4199F-D232-4B3D-9C7D-3AFD41235C56_jpeg.rf.437c232408ab993afc0fcad86ff6c00c.jpg  \n",
            " extracting: dataset/train/images/7CB4199F-D232-4B3D-9C7D-3AFD41235C56_jpeg.rf.78e01552baabf09fa93b4640c5ab827c.jpg  \n",
            " extracting: dataset/train/images/7CB4199F-D232-4B3D-9C7D-3AFD41235C56_jpeg.rf.8847754961d451cb7410e76cce05fb65.jpg  \n",
            " extracting: dataset/train/images/7CD7AAD7-3676-4937-BDA0-BD74FB82D14C_jpeg.rf.6d6c94935cf34674d26597cc35198914.jpg  \n",
            " extracting: dataset/train/images/7CD7AAD7-3676-4937-BDA0-BD74FB82D14C_jpeg.rf.7ef88f0fe0230543debc01c6f96d66e9.jpg  \n",
            " extracting: dataset/train/images/7CD7AAD7-3676-4937-BDA0-BD74FB82D14C_jpeg.rf.867981c304f13fe2386dd220601a18e7.jpg  \n",
            " extracting: dataset/train/images/7D51EC90-739D-4165-8070-5A71AF2D597B_jpeg.rf.050c5e429d49d5f2f0610dc92758b853.jpg  \n",
            " extracting: dataset/train/images/7D51EC90-739D-4165-8070-5A71AF2D597B_jpeg.rf.bde30b31f19166b2dee52adf3bdd26aa.jpg  \n",
            " extracting: dataset/train/images/7D51EC90-739D-4165-8070-5A71AF2D597B_jpeg.rf.c945bacd6bdac8662b39cfac45c70201.jpg  \n",
            " extracting: dataset/train/images/7D6B7CB6-A9B5-4D4E-B6D8-C8E031C59139_jpeg.rf.2cd092fee2ce3639a3c09a304327b5dd.jpg  \n",
            " extracting: dataset/train/images/7D6B7CB6-A9B5-4D4E-B6D8-C8E031C59139_jpeg.rf.91a1de57abc90582f817b01e3ee30978.jpg  \n",
            " extracting: dataset/train/images/7D6B7CB6-A9B5-4D4E-B6D8-C8E031C59139_jpeg.rf.d7a648406270b85c2e9ba75f00ffce5c.jpg  \n",
            " extracting: dataset/train/images/7DD1B543-A7C8-4385-B870-DAFF2BDCB38D_jpeg.rf.524d2832bea817d0e45055153420c6d8.jpg  \n",
            " extracting: dataset/train/images/7DD1B543-A7C8-4385-B870-DAFF2BDCB38D_jpeg.rf.54de1f865204ddf69c33aa5eabb498b7.jpg  \n",
            " extracting: dataset/train/images/7DD1B543-A7C8-4385-B870-DAFF2BDCB38D_jpeg.rf.84e7b411c2392d9258cce64f422f7ad5.jpg  \n",
            " extracting: dataset/train/images/7DD59037-DBA8-40FC-8F50-15D325A0358F_jpeg.rf.5c72e3bf99f79ac5803fc4db64755d65.jpg  \n",
            " extracting: dataset/train/images/7DD59037-DBA8-40FC-8F50-15D325A0358F_jpeg.rf.910b039ddef4b967c9c33cdbe0635379.jpg  \n",
            " extracting: dataset/train/images/7DD59037-DBA8-40FC-8F50-15D325A0358F_jpeg.rf.eafcb910c781712b5403b196ea256fba.jpg  \n",
            " extracting: dataset/train/images/7DE393DE-D0CF-4B28-9A64-F9E0458E8B78_jpeg.rf.ad0a6fb13d1686b198ce5957a838808d.jpg  \n",
            " extracting: dataset/train/images/7DE393DE-D0CF-4B28-9A64-F9E0458E8B78_jpeg.rf.d9af4dfca15f91661876c7b1c4592e0f.jpg  \n",
            " extracting: dataset/train/images/7DE393DE-D0CF-4B28-9A64-F9E0458E8B78_jpeg.rf.f750f081e085d0e4d3f68caecfffe8a6.jpg  \n",
            " extracting: dataset/train/images/7E62137A-75A2-42B4-849E-26A154231D97_jpeg.rf.27c163bb5f8f3dfbcfbce2d68f3d348a.jpg  \n",
            " extracting: dataset/train/images/7E62137A-75A2-42B4-849E-26A154231D97_jpeg.rf.313116601b0a8f88edda0912df493390.jpg  \n",
            " extracting: dataset/train/images/7E62137A-75A2-42B4-849E-26A154231D97_jpeg.rf.a923ebd2856ecb4acc12cf71ab1968f6.jpg  \n",
            " extracting: dataset/train/images/7F4CFE8A-8163-4DCC-A854-7280B6A3A7D3_jpeg.rf.bfd73d20c26f59aeb360d455821ccfd1.jpg  \n",
            " extracting: dataset/train/images/7F4CFE8A-8163-4DCC-A854-7280B6A3A7D3_jpeg.rf.dfcc93c10dbc2e64f4b8d4b1a80f2bd0.jpg  \n",
            " extracting: dataset/train/images/7F4CFE8A-8163-4DCC-A854-7280B6A3A7D3_jpeg.rf.eda2ff278b523ab6d777f282606bb406.jpg  \n",
            " extracting: dataset/train/images/8098B030-737E-4682-BD4A-6F7AD76995CC_jpeg.rf.8b0238ad0c0f0fb5d0891dc26c161219.jpg  \n",
            " extracting: dataset/train/images/8098B030-737E-4682-BD4A-6F7AD76995CC_jpeg.rf.a4ab0709f7f10479680dbad2528e422a.jpg  \n",
            " extracting: dataset/train/images/8098B030-737E-4682-BD4A-6F7AD76995CC_jpeg.rf.a8620f97acdeff20379d16e131fab68a.jpg  \n",
            " extracting: dataset/train/images/817BB045-1868-44FB-BE9A-EC6338E60628_jpeg.rf.bf6bbc09e46e650ff69bc88b0e221cef.jpg  \n",
            " extracting: dataset/train/images/817BB045-1868-44FB-BE9A-EC6338E60628_jpeg.rf.e65fd67235a679d04f73aea322de33d5.jpg  \n",
            " extracting: dataset/train/images/817BB045-1868-44FB-BE9A-EC6338E60628_jpeg.rf.eaabb205741fdf788ce8c4c0d32236d3.jpg  \n",
            " extracting: dataset/train/images/81AD464F-2A3E-48CD-BD4E-703901686D8C_jpeg.rf.5e0cf0cd925e8f06adb586f9f3ac2c72.jpg  \n",
            " extracting: dataset/train/images/81AD464F-2A3E-48CD-BD4E-703901686D8C_jpeg.rf.822dcfc9ae4c70e8de96547d4e4f93df.jpg  \n",
            " extracting: dataset/train/images/81AD464F-2A3E-48CD-BD4E-703901686D8C_jpeg.rf.f14886fffb487470249b1e098113f6f5.jpg  \n",
            " extracting: dataset/train/images/81C6A470-F125-40F0-8F46-4785AB64E2E5_jpeg.rf.920967c437bcca32e4aaff4abfe54782.jpg  \n",
            " extracting: dataset/train/images/81C6A470-F125-40F0-8F46-4785AB64E2E5_jpeg.rf.b5d03f76317853c4d116146c58fa0b81.jpg  \n",
            " extracting: dataset/train/images/81C6A470-F125-40F0-8F46-4785AB64E2E5_jpeg.rf.d3af015200dcc6bafcef31d6c9a1c7b7.jpg  \n",
            " extracting: dataset/train/images/820407A2-C366-4B86-8B5B-8BA9965F71B5_jpeg.rf.459cbb2f4d627906750e52ad1900a2ed.jpg  \n",
            " extracting: dataset/train/images/820407A2-C366-4B86-8B5B-8BA9965F71B5_jpeg.rf.7893169f0ed43b4324a77ff33cb1092e.jpg  \n",
            " extracting: dataset/train/images/820407A2-C366-4B86-8B5B-8BA9965F71B5_jpeg.rf.edb80b9637d5f79619e2d5bf26558c2a.jpg  \n",
            " extracting: dataset/train/images/832748FC-5E88-4453-9905-8B246E68B29E_jpeg.rf.6836bb8cfaa9418b416c7ef8706cb39a.jpg  \n",
            " extracting: dataset/train/images/832748FC-5E88-4453-9905-8B246E68B29E_jpeg.rf.baeaef52d61a95dfa2dcbee6d4f522bc.jpg  \n",
            " extracting: dataset/train/images/832748FC-5E88-4453-9905-8B246E68B29E_jpeg.rf.ef3e296321d91a7ec26fe1a4c57dda9e.jpg  \n",
            " extracting: dataset/train/images/8336FE8A-251D-4877-AD83-E7D825C5330C_jpeg.rf.4bacc4f1c5c9e3fe1d8f8201f23ff424.jpg  \n",
            " extracting: dataset/train/images/8336FE8A-251D-4877-AD83-E7D825C5330C_jpeg.rf.7d16599b1c2c71959b6aa2a177a2838b.jpg  \n",
            " extracting: dataset/train/images/8336FE8A-251D-4877-AD83-E7D825C5330C_jpeg.rf.be70f3ef3f6466743f11073c65e4e8b7.jpg  \n",
            " extracting: dataset/train/images/843EB796-6BA3-4DD5-B8CC-B1F1817CA1A7_jpeg.rf.5fd9d6f7c2c15bd91b7a1804bac2f97c.jpg  \n",
            " extracting: dataset/train/images/843EB796-6BA3-4DD5-B8CC-B1F1817CA1A7_jpeg.rf.98a27d01c2cb2f13fa50d457d00f0cf3.jpg  \n",
            " extracting: dataset/train/images/843EB796-6BA3-4DD5-B8CC-B1F1817CA1A7_jpeg.rf.dab43c65cf91f4f9d1b37ec5c15a62d5.jpg  \n",
            " extracting: dataset/train/images/84D5C4FD-A63F-431F-9D53-ACCBE9097AD5_jpeg.rf.2c469a8eef1255a9a26da0e0ff42759a.jpg  \n",
            " extracting: dataset/train/images/84D5C4FD-A63F-431F-9D53-ACCBE9097AD5_jpeg.rf.561d164b340f23dcc2d73284427c311e.jpg  \n",
            " extracting: dataset/train/images/84D5C4FD-A63F-431F-9D53-ACCBE9097AD5_jpeg.rf.640822dbfa13ec5815be21dd4fad6ce3.jpg  \n",
            " extracting: dataset/train/images/86B88C92-CC69-4527-B693-8EE3C9A636CB_jpeg.rf.213551b582d83223ced81fadc1d72596.jpg  \n",
            " extracting: dataset/train/images/86B88C92-CC69-4527-B693-8EE3C9A636CB_jpeg.rf.32d23f75db2cd0725abf798e3a64f671.jpg  \n",
            " extracting: dataset/train/images/86B88C92-CC69-4527-B693-8EE3C9A636CB_jpeg.rf.9acde6b25d6e254422ee36ef2a923d92.jpg  \n",
            " extracting: dataset/train/images/86BFFAF6-EC54-474A-9518-052EC76F814C_jpeg.rf.04c8c65c09374aa37b9d5366312a248f.jpg  \n",
            " extracting: dataset/train/images/86BFFAF6-EC54-474A-9518-052EC76F814C_jpeg.rf.259c34fda02c306550566b566a07d76c.jpg  \n",
            " extracting: dataset/train/images/86BFFAF6-EC54-474A-9518-052EC76F814C_jpeg.rf.2d3bc82d6e7259430277262d65fc65f8.jpg  \n",
            " extracting: dataset/train/images/88449C9F-4752-4CC7-82A6-EFE8AF5327F1_jpeg.rf.3a2ffcc09131f0501083d8df042a5ecf.jpg  \n",
            " extracting: dataset/train/images/88449C9F-4752-4CC7-82A6-EFE8AF5327F1_jpeg.rf.a1e910a56eb40def3b743e5615ff87fb.jpg  \n",
            " extracting: dataset/train/images/88449C9F-4752-4CC7-82A6-EFE8AF5327F1_jpeg.rf.f59aaed1edfc9e5d2e7756b57a17e909.jpg  \n",
            " extracting: dataset/train/images/886E4A8C-BEEA-44B7-90DF-629243427F2A_jpeg.rf.9db1d87c503dc5c18fb603305741f8f8.jpg  \n",
            " extracting: dataset/train/images/886E4A8C-BEEA-44B7-90DF-629243427F2A_jpeg.rf.b61ad2cead2a5df3b03657f5d857a06a.jpg  \n",
            " extracting: dataset/train/images/886E4A8C-BEEA-44B7-90DF-629243427F2A_jpeg.rf.d5126edba2b0ae772a81a6a933021864.jpg  \n",
            " extracting: dataset/train/images/89C0EB0F-7C3B-4A84-913A-FF7D967C7C16_jpeg.rf.1826f77e618b57c89cbd55d086751042.jpg  \n",
            " extracting: dataset/train/images/89C0EB0F-7C3B-4A84-913A-FF7D967C7C16_jpeg.rf.9ec47c08317706a79ddcd17ebedb0aca.jpg  \n",
            " extracting: dataset/train/images/89C0EB0F-7C3B-4A84-913A-FF7D967C7C16_jpeg.rf.ae2553c0a308d2ce366bbd370335823e.jpg  \n",
            " extracting: dataset/train/images/8A0F9E09-6102-4718-9FCC-BE35F2103AAE_jpeg.rf.a7862a0fa5fa45f5ad3465a6c8a18d34.jpg  \n",
            " extracting: dataset/train/images/8A0F9E09-6102-4718-9FCC-BE35F2103AAE_jpeg.rf.c0e84443d1f74d020cd597957e018ac8.jpg  \n",
            " extracting: dataset/train/images/8A0F9E09-6102-4718-9FCC-BE35F2103AAE_jpeg.rf.c94177cde12505568ceed6479026b371.jpg  \n",
            " extracting: dataset/train/images/8ABD0238-1569-451D-8BE1-1956826B885D_jpeg.rf.0a604e1c2523ba63a1ce9dec422a8b86.jpg  \n",
            " extracting: dataset/train/images/8ABD0238-1569-451D-8BE1-1956826B885D_jpeg.rf.baf843764fd229227e60f799fcb25f12.jpg  \n",
            " extracting: dataset/train/images/8ABD0238-1569-451D-8BE1-1956826B885D_jpeg.rf.f4fbc04a5e6a133efecd7858f236f4bc.jpg  \n",
            " extracting: dataset/train/images/8AC668F4-EB2C-4863-A2B8-0A25C111F8BF_jpeg.rf.4bc88164a9a2c450ae4c05206c951c09.jpg  \n",
            " extracting: dataset/train/images/8AC668F4-EB2C-4863-A2B8-0A25C111F8BF_jpeg.rf.8ef1215b2cc2a0eefc66f661a81b5846.jpg  \n",
            " extracting: dataset/train/images/8AC668F4-EB2C-4863-A2B8-0A25C111F8BF_jpeg.rf.bb16632070b764526d87c7cf0dafe47e.jpg  \n",
            " extracting: dataset/train/images/8B46B3D9-70C3-442E-9032-1CB20129A8C5_jpeg.rf.638da41ee190de0fc23cf8c54f2ac951.jpg  \n",
            " extracting: dataset/train/images/8B46B3D9-70C3-442E-9032-1CB20129A8C5_jpeg.rf.a5089cecbd49d1d058e258b0f575260d.jpg  \n",
            " extracting: dataset/train/images/8B46B3D9-70C3-442E-9032-1CB20129A8C5_jpeg.rf.d5c4f14574867d7b071cdee7448d6294.jpg  \n",
            " extracting: dataset/train/images/8B9F4B17-D4EA-4048-B343-82AA8602B94F_jpeg.rf.84a36c62207ff6183f62aab889e165b6.jpg  \n",
            " extracting: dataset/train/images/8B9F4B17-D4EA-4048-B343-82AA8602B94F_jpeg.rf.c6ad391a7df6fad4191188a7ce4b3db0.jpg  \n",
            " extracting: dataset/train/images/8B9F4B17-D4EA-4048-B343-82AA8602B94F_jpeg.rf.c6b585a2ee61cf7c4e9067b93c500a1f.jpg  \n",
            " extracting: dataset/train/images/8BC550B4-8D08-4BF8-9C41-3D5F817033CA_jpeg.rf.34e863ad1911c3cc035b26f79ec80aba.jpg  \n",
            " extracting: dataset/train/images/8BC550B4-8D08-4BF8-9C41-3D5F817033CA_jpeg.rf.59ee85e24f9d55a1b09cf42055fecc80.jpg  \n",
            " extracting: dataset/train/images/8BC550B4-8D08-4BF8-9C41-3D5F817033CA_jpeg.rf.e64c075072cdea15e452cebe8b9aa95d.jpg  \n",
            " extracting: dataset/train/images/8BEC6094-EF94-4A11-A73E-564C1FBD571A_jpeg.rf.1c12695a2bc115be30732fd0954d2c17.jpg  \n",
            " extracting: dataset/train/images/8BEC6094-EF94-4A11-A73E-564C1FBD571A_jpeg.rf.35bf1b71b63c48779a1da97101dca1b3.jpg  \n",
            " extracting: dataset/train/images/8BEC6094-EF94-4A11-A73E-564C1FBD571A_jpeg.rf.e298b7450c5359752fb552b56b0c0ee5.jpg  \n",
            " extracting: dataset/train/images/8C8E9AA2-04E2-4C79-8C8E-AC0D477FB890_jpeg.rf.0442d30aeae0f0e6fef24988d611bea4.jpg  \n",
            " extracting: dataset/train/images/8C8E9AA2-04E2-4C79-8C8E-AC0D477FB890_jpeg.rf.929d45be37290499ae1a533eafb72d52.jpg  \n",
            " extracting: dataset/train/images/8C8E9AA2-04E2-4C79-8C8E-AC0D477FB890_jpeg.rf.f2ec3c2f4ade59bdaa8157473cdb9b8d.jpg  \n",
            " extracting: dataset/train/images/8D444828-1FA9-45B8-8401-1DA313072AA9_jpeg.rf.5e25adaa05ab6a9e29d395bce4cf2db5.jpg  \n",
            " extracting: dataset/train/images/8D444828-1FA9-45B8-8401-1DA313072AA9_jpeg.rf.d933a633d4e521292dc69bb224a35c0d.jpg  \n",
            " extracting: dataset/train/images/8D444828-1FA9-45B8-8401-1DA313072AA9_jpeg.rf.faf4e7c27e56d83100a226559cb47053.jpg  \n",
            " extracting: dataset/train/images/8E2CDB8E-8434-4F62-89F7-5453C9BFEAF0_jpeg.rf.041f46f9d23a09eae95cfb39fc42e35a.jpg  \n",
            " extracting: dataset/train/images/8E2CDB8E-8434-4F62-89F7-5453C9BFEAF0_jpeg.rf.12881d7d257944a20bcc9a6e94aa8159.jpg  \n",
            " extracting: dataset/train/images/8E2CDB8E-8434-4F62-89F7-5453C9BFEAF0_jpeg.rf.2bc75854bf0d0a31d9dbac0111c44cd1.jpg  \n",
            " extracting: dataset/train/images/8F5022DC-0FE1-42B8-B04D-859EECA73484_jpeg.rf.56ba93ca661ef81a28afac610f6efba8.jpg  \n",
            " extracting: dataset/train/images/8F5022DC-0FE1-42B8-B04D-859EECA73484_jpeg.rf.ca1ea3b4f3a484e6163a0b3f5dd7efe6.jpg  \n",
            " extracting: dataset/train/images/8F5022DC-0FE1-42B8-B04D-859EECA73484_jpeg.rf.d7d5f7a5e47b042913277ea2fae0def6.jpg  \n",
            " extracting: dataset/train/images/8F5734E1-D00E-4FBD-B888-F8430A9482BF_jpeg.rf.5eb3bebd92c27c4e09435e80775c5309.jpg  \n",
            " extracting: dataset/train/images/8F5734E1-D00E-4FBD-B888-F8430A9482BF_jpeg.rf.e93dea99de7f23dc6a82fa548aaa42f8.jpg  \n",
            " extracting: dataset/train/images/8F5734E1-D00E-4FBD-B888-F8430A9482BF_jpeg.rf.eb0b18c9eb4aae943cfd27291e493ab0.jpg  \n",
            " extracting: dataset/train/images/8F625785-CBD2-423D-BE27-8EB50A683EAD_jpeg.rf.2c4c46bb5ac159e3d9c3725e62e953b2.jpg  \n",
            " extracting: dataset/train/images/8F625785-CBD2-423D-BE27-8EB50A683EAD_jpeg.rf.51b843930ef24c6f4b541cec58bae517.jpg  \n",
            " extracting: dataset/train/images/8F625785-CBD2-423D-BE27-8EB50A683EAD_jpeg.rf.f3da6b9c8b2a04fc9450669f456177df.jpg  \n",
            " extracting: dataset/train/images/8FCB821D-6D30-445F-A7C3-9FD3B068EB31_jpeg.rf.11f0e8f383187f645570e4b1fa3e723b.jpg  \n",
            " extracting: dataset/train/images/8FCB821D-6D30-445F-A7C3-9FD3B068EB31_jpeg.rf.99f459d328072decd5f8a5153ecf0b59.jpg  \n",
            " extracting: dataset/train/images/8FCB821D-6D30-445F-A7C3-9FD3B068EB31_jpeg.rf.a8bbf70e272a57bb62c2136dac4f0895.jpg  \n",
            " extracting: dataset/train/images/91413E1E-89EF-4C74-988F-74721AAB74FB_jpeg.rf.6300a6afabac3fbf54ee724ebea37923.jpg  \n",
            " extracting: dataset/train/images/91413E1E-89EF-4C74-988F-74721AAB74FB_jpeg.rf.7eb9641240126cf15d9f97301c6f8f0f.jpg  \n",
            " extracting: dataset/train/images/91413E1E-89EF-4C74-988F-74721AAB74FB_jpeg.rf.ceb96c9a3c3df1dff5f28f587a6046fd.jpg  \n",
            " extracting: dataset/train/images/935460E0-A50A-44C4-B8D7-D2A9C2860471_jpeg.rf.374952a678031d7de55c2769fc5c4303.jpg  \n",
            " extracting: dataset/train/images/935460E0-A50A-44C4-B8D7-D2A9C2860471_jpeg.rf.652998d994b7ff613d4b41dd3fee8b7e.jpg  \n",
            " extracting: dataset/train/images/935460E0-A50A-44C4-B8D7-D2A9C2860471_jpeg.rf.692c3d0ffebee096c4eee32891597ed5.jpg  \n",
            " extracting: dataset/train/images/942BAAF3-0E71-41C8-B5A3-6E05154A1CE2_jpeg.rf.4f9c91d5cf7f643f1db8e95cb2126399.jpg  \n",
            " extracting: dataset/train/images/942BAAF3-0E71-41C8-B5A3-6E05154A1CE2_jpeg.rf.85b607e9d9fa3884aafd59eb6ca6faec.jpg  \n",
            " extracting: dataset/train/images/942BAAF3-0E71-41C8-B5A3-6E05154A1CE2_jpeg.rf.d427cbd01d06062e2b6d06e19530669d.jpg  \n",
            " extracting: dataset/train/images/949C00B9-0D7E-4AD5-95E6-DA9DB63E2C1B_jpeg.rf.50c8d60785110694d56b80db09ee524a.jpg  \n",
            " extracting: dataset/train/images/949C00B9-0D7E-4AD5-95E6-DA9DB63E2C1B_jpeg.rf.7aff40e930a7ccad2ae03d9fa8f8579b.jpg  \n",
            " extracting: dataset/train/images/949C00B9-0D7E-4AD5-95E6-DA9DB63E2C1B_jpeg.rf.7cf4911175846c85d5b63f1b658460f1.jpg  \n",
            " extracting: dataset/train/images/95D89108-7B41-4F21-90DC-493418DC1D4C_jpeg.rf.2e7a0c68cb4a1ab3171e3523b4c92e76.jpg  \n",
            " extracting: dataset/train/images/95D89108-7B41-4F21-90DC-493418DC1D4C_jpeg.rf.c96a5801d1fbb50be0ff72e209c2b94b.jpg  \n",
            " extracting: dataset/train/images/95D89108-7B41-4F21-90DC-493418DC1D4C_jpeg.rf.e306b9eba57bb3c20af05ba363454ff2.jpg  \n",
            " extracting: dataset/train/images/96868757-D600-4A59-B8D8-4ABF5331B709_jpeg.rf.76bac62469394bd13c745562ea98783b.jpg  \n",
            " extracting: dataset/train/images/96868757-D600-4A59-B8D8-4ABF5331B709_jpeg.rf.e3b250cec2ab30644c82fb01640276b1.jpg  \n",
            " extracting: dataset/train/images/96868757-D600-4A59-B8D8-4ABF5331B709_jpeg.rf.f5829233990e1e7105f0bf71bec53631.jpg  \n",
            " extracting: dataset/train/images/96CE8743-0DF9-4C09-9506-5FB4950EC52C_jpeg.rf.aeb05a779ae20f7e44b40ad22a6b5d9f.jpg  \n",
            " extracting: dataset/train/images/96CE8743-0DF9-4C09-9506-5FB4950EC52C_jpeg.rf.b58d347e0b0187d203bd2eba5b2886a3.jpg  \n",
            " extracting: dataset/train/images/96CE8743-0DF9-4C09-9506-5FB4950EC52C_jpeg.rf.e91535380009141fdc9d982f0d56dfa2.jpg  \n",
            " extracting: dataset/train/images/97F14081-B9A0-46C9-996F-E41123C1104B_jpeg.rf.036a5a6a154ba0c1b9963e45b4d26c5d.jpg  \n",
            " extracting: dataset/train/images/97F14081-B9A0-46C9-996F-E41123C1104B_jpeg.rf.0c83abd9e49c14c813d94345262e4e0c.jpg  \n",
            " extracting: dataset/train/images/97F14081-B9A0-46C9-996F-E41123C1104B_jpeg.rf.c923b7dc48c9acde1deedbb92cc583cf.jpg  \n",
            " extracting: dataset/train/images/98CD4E93-EB19-4D26-94DD-6D549E02DE57_jpeg.rf.39b9394fc8da30e050570fd90a76f076.jpg  \n",
            " extracting: dataset/train/images/98CD4E93-EB19-4D26-94DD-6D549E02DE57_jpeg.rf.ac10bfdb33ad3c85dce43895aee50b23.jpg  \n",
            " extracting: dataset/train/images/98CD4E93-EB19-4D26-94DD-6D549E02DE57_jpeg.rf.fbf780d3778265896001279095042a09.jpg  \n",
            " extracting: dataset/train/images/99A50B8E-0373-4356-88E6-453899F9F27E_jpeg.rf.091803d7ce337ebe6c498490a5c67420.jpg  \n",
            " extracting: dataset/train/images/99A50B8E-0373-4356-88E6-453899F9F27E_jpeg.rf.48df4bab7dd9e48f947c18a87feb95a2.jpg  \n",
            " extracting: dataset/train/images/99A50B8E-0373-4356-88E6-453899F9F27E_jpeg.rf.9f29cf73f7d483fe5dd82eb1aed046e7.jpg  \n",
            " extracting: dataset/train/images/9AB346FF-DA54-421F-AD9B-AB6175FC050B_jpeg.rf.197cc02e9a950e1f2ef80f9a45485ec0.jpg  \n",
            " extracting: dataset/train/images/9AB346FF-DA54-421F-AD9B-AB6175FC050B_jpeg.rf.2f8a409566807d7b98a50d64ba357faa.jpg  \n",
            " extracting: dataset/train/images/9AB346FF-DA54-421F-AD9B-AB6175FC050B_jpeg.rf.dddc5785ce02ada228c61ab14a0c49ab.jpg  \n",
            " extracting: dataset/train/images/9B4818E5-EA46-4B9D-87B5-2A5BB3BE2B17_jpeg.rf.3e91dbba48a6017740a4176c623d29a5.jpg  \n",
            " extracting: dataset/train/images/9B4818E5-EA46-4B9D-87B5-2A5BB3BE2B17_jpeg.rf.bff0bb43431ef1d6b5af938e992a9d06.jpg  \n",
            " extracting: dataset/train/images/9B4818E5-EA46-4B9D-87B5-2A5BB3BE2B17_jpeg.rf.db6edf0423312674677a12f13c2324c7.jpg  \n",
            " extracting: dataset/train/images/9B59050B-BE16-49D2-B1BB-B3CC7F3DDF38_jpeg.rf.0ee70a8f2f43d96860b34a08b770b57a.jpg  \n",
            " extracting: dataset/train/images/9B59050B-BE16-49D2-B1BB-B3CC7F3DDF38_jpeg.rf.a5bd310ed9d444b1495b6b7fa41844ed.jpg  \n",
            " extracting: dataset/train/images/9B59050B-BE16-49D2-B1BB-B3CC7F3DDF38_jpeg.rf.b9c8e58d57d0c8e4290117a305e3bfa9.jpg  \n",
            " extracting: dataset/train/images/9B6E0D20-5D79-4DA2-BFD3-51D279770DC5_jpeg.rf.bd63c67ac2e81d53ea53d5f0d6ea27c0.jpg  \n",
            " extracting: dataset/train/images/9B6E0D20-5D79-4DA2-BFD3-51D279770DC5_jpeg.rf.dc8f08f79b93125626046caf92956d0a.jpg  \n",
            " extracting: dataset/train/images/9B6E0D20-5D79-4DA2-BFD3-51D279770DC5_jpeg.rf.eff23dc4fe97edf9ecd6b3bb917441b6.jpg  \n",
            " extracting: dataset/train/images/9BD2378F-C610-46F4-B7A3-61B8C4317F00_jpeg.rf.5ff41d1a1add54d24ac3f1022cc9efab.jpg  \n",
            " extracting: dataset/train/images/9BD2378F-C610-46F4-B7A3-61B8C4317F00_jpeg.rf.6f4ddec286aeea8d7c5c44e4ef6182f9.jpg  \n",
            " extracting: dataset/train/images/9BD2378F-C610-46F4-B7A3-61B8C4317F00_jpeg.rf.f927daf2c8532edbd2000b030dc9a9ab.jpg  \n",
            " extracting: dataset/train/images/9BDBD372-E7A8-4EFC-97F9-1802DAADE9F0_jpeg.rf.2484a1940d1ce26290d0ccfea56f5dd7.jpg  \n",
            " extracting: dataset/train/images/9BDBD372-E7A8-4EFC-97F9-1802DAADE9F0_jpeg.rf.869618d45f14c10565845c1ca8a9e52d.jpg  \n",
            " extracting: dataset/train/images/9BDBD372-E7A8-4EFC-97F9-1802DAADE9F0_jpeg.rf.abcc6049841fef2b288e8ba0d5ba6b99.jpg  \n",
            " extracting: dataset/train/images/9CA71049-07B1-4DD9-852F-0ACB417CFF99_jpeg.rf.447df44c4fd105cb156606fcf78dbb06.jpg  \n",
            " extracting: dataset/train/images/9CA71049-07B1-4DD9-852F-0ACB417CFF99_jpeg.rf.c6a36091c8d664cef349c20bb7fc1ac1.jpg  \n",
            " extracting: dataset/train/images/9CA71049-07B1-4DD9-852F-0ACB417CFF99_jpeg.rf.e3acdc351398e419bc670da62bac5654.jpg  \n",
            " extracting: dataset/train/images/9E4DA4D1-B0E6-4EB5-A005-09BA2E4DCF33_jpeg.rf.1c8d4cb83f7bbf74fab57dd3838c6c48.jpg  \n",
            " extracting: dataset/train/images/9E4DA4D1-B0E6-4EB5-A005-09BA2E4DCF33_jpeg.rf.2f449c98513b10d8e71be9275195b453.jpg  \n",
            " extracting: dataset/train/images/9E4DA4D1-B0E6-4EB5-A005-09BA2E4DCF33_jpeg.rf.4fbe3c9817771562bc3bc9479eccf448.jpg  \n",
            " extracting: dataset/train/images/9EC6FEEF-AC98-4C88-ABE7-FEF11C071DA5_jpeg.rf.01b3035be6691ae4614d8c67f3cf6aad.jpg  \n",
            " extracting: dataset/train/images/9EC6FEEF-AC98-4C88-ABE7-FEF11C071DA5_jpeg.rf.f374e9e905726c5a9fad3c691481397e.jpg  \n",
            " extracting: dataset/train/images/9EC6FEEF-AC98-4C88-ABE7-FEF11C071DA5_jpeg.rf.f9637ff4b24e201d5a1a300781b9ccaf.jpg  \n",
            " extracting: dataset/train/images/A08830F3-61CE-4D35-925F-9258024257DB_jpeg.rf.4276ecab5cfe7ec4909dcf01010443e9.jpg  \n",
            " extracting: dataset/train/images/A08830F3-61CE-4D35-925F-9258024257DB_jpeg.rf.631ec26cdd6796f89b04d4dbb1ee6cdd.jpg  \n",
            " extracting: dataset/train/images/A08830F3-61CE-4D35-925F-9258024257DB_jpeg.rf.d6d4e5a410417da0dc87130f5f06363d.jpg  \n",
            " extracting: dataset/train/images/A1634088-3F1A-4DDF-BD20-5F51779E61DD_jpeg.rf.6603a622d70af5f95eda16fdc0d99aee.jpg  \n",
            " extracting: dataset/train/images/A1634088-3F1A-4DDF-BD20-5F51779E61DD_jpeg.rf.a04bd3c0bdeca30ef39eeda8348770c1.jpg  \n",
            " extracting: dataset/train/images/A1634088-3F1A-4DDF-BD20-5F51779E61DD_jpeg.rf.b3004415635b26d44b635578f18ece06.jpg  \n",
            " extracting: dataset/train/images/A2292AB7-D4B7-4B1D-A609-59DDA6F7F5DD_jpeg.rf.133c0dcc035dc4e99287b42bd849a525.jpg  \n",
            " extracting: dataset/train/images/A2292AB7-D4B7-4B1D-A609-59DDA6F7F5DD_jpeg.rf.3e15ffff33380c94d4fc1328a4ffb4a6.jpg  \n",
            " extracting: dataset/train/images/A2292AB7-D4B7-4B1D-A609-59DDA6F7F5DD_jpeg.rf.bbac023340c8463911b457dd4655233a.jpg  \n",
            " extracting: dataset/train/images/A2794CBD-6754-4C74-8CEC-EBFA7A452B62_jpeg.rf.7e2a4845661a83b771ea1e9f41f7d1f6.jpg  \n",
            " extracting: dataset/train/images/A2794CBD-6754-4C74-8CEC-EBFA7A452B62_jpeg.rf.ab32d27b2fd4659505c0f35917f94743.jpg  \n",
            " extracting: dataset/train/images/A2794CBD-6754-4C74-8CEC-EBFA7A452B62_jpeg.rf.b1086cc5dfd2d94d48003cc44bdfe451.jpg  \n",
            " extracting: dataset/train/images/A2B473FC-876C-4CDC-9D2B-FE340B93E319_jpeg.rf.3a5ead1da117cb1813e5ebd56431f76e.jpg  \n",
            " extracting: dataset/train/images/A2B473FC-876C-4CDC-9D2B-FE340B93E319_jpeg.rf.4bdf148c425b4c553ad3894ecb59b45a.jpg  \n",
            " extracting: dataset/train/images/A2B473FC-876C-4CDC-9D2B-FE340B93E319_jpeg.rf.712f168aaefdbe77736bc53b9d77ddf9.jpg  \n",
            " extracting: dataset/train/images/A2F98C07-6E4D-4C5D-A56F-8C8BCA4DDFF3_jpeg.rf.0b42151c0f8850378ffcdf90e087b70b.jpg  \n",
            " extracting: dataset/train/images/A2F98C07-6E4D-4C5D-A56F-8C8BCA4DDFF3_jpeg.rf.7d176f559a034e2bb4f59925677737f6.jpg  \n",
            " extracting: dataset/train/images/A2F98C07-6E4D-4C5D-A56F-8C8BCA4DDFF3_jpeg.rf.814471421708cbf51eebfc6101608b33.jpg  \n",
            " extracting: dataset/train/images/A3628620-D077-4CBB-8AC3-FDFCECC44F1F_jpeg.rf.1ff185a95e75c8502b0dbe65a0404c5f.jpg  \n",
            " extracting: dataset/train/images/A3628620-D077-4CBB-8AC3-FDFCECC44F1F_jpeg.rf.73c2e03e788753e417cd3ca539aa3af9.jpg  \n",
            " extracting: dataset/train/images/A3628620-D077-4CBB-8AC3-FDFCECC44F1F_jpeg.rf.7cd02fce8768045d55b9623a3d4419d8.jpg  \n",
            " extracting: dataset/train/images/A54F8707-C870-459F-BC9D-1FD8B40890CA_jpeg.rf.1ada919bb8252a5a3f39faf71b7510ee.jpg  \n",
            " extracting: dataset/train/images/A54F8707-C870-459F-BC9D-1FD8B40890CA_jpeg.rf.2a388e79f5c980e855d357ef2a22a342.jpg  \n",
            " extracting: dataset/train/images/A54F8707-C870-459F-BC9D-1FD8B40890CA_jpeg.rf.7be0a9d9afa85685119cd7a6a639b1ff.jpg  \n",
            " extracting: dataset/train/images/A6C95A0D-916C-4868-8E5E-D090CA8FA1AB_jpeg.rf.4ba815cf159659ca84495da08cf10102.jpg  \n",
            " extracting: dataset/train/images/A6C95A0D-916C-4868-8E5E-D090CA8FA1AB_jpeg.rf.a3a659d4e1445fdb15df4e8b69910edc.jpg  \n",
            " extracting: dataset/train/images/A6C95A0D-916C-4868-8E5E-D090CA8FA1AB_jpeg.rf.c17f755f013cdb2b19348b3c72e7328b.jpg  \n",
            " extracting: dataset/train/images/A7FCA373-9EDF-4811-95B7-1882594E8DFD_jpeg.rf.10b72c400819de719cb40c58622fc83e.jpg  \n",
            " extracting: dataset/train/images/A7FCA373-9EDF-4811-95B7-1882594E8DFD_jpeg.rf.2b14a0b0065fb4732ca5298748b46351.jpg  \n",
            " extracting: dataset/train/images/A7FCA373-9EDF-4811-95B7-1882594E8DFD_jpeg.rf.e7d4b219794eca6c0cbc73c1eef7fe74.jpg  \n",
            " extracting: dataset/train/images/A96185E0-1E0F-4ADA-8110-308A86A3A6BC_jpeg.rf.3eb654849539fad556eba9c1f99de138.jpg  \n",
            " extracting: dataset/train/images/A96185E0-1E0F-4ADA-8110-308A86A3A6BC_jpeg.rf.7439683b119255a488c14c7cc82b1cfe.jpg  \n",
            " extracting: dataset/train/images/A96185E0-1E0F-4ADA-8110-308A86A3A6BC_jpeg.rf.b4440935676bcc2710db4466643b4b71.jpg  \n",
            " extracting: dataset/train/images/A9900972-6826-4EE9-8615-90600ADD67D7_jpeg.rf.3e3ee595c4c013991894789980989f55.jpg  \n",
            " extracting: dataset/train/images/A9900972-6826-4EE9-8615-90600ADD67D7_jpeg.rf.9b54b819921204783864785279f9a5a2.jpg  \n",
            " extracting: dataset/train/images/A9900972-6826-4EE9-8615-90600ADD67D7_jpeg.rf.bce7f802bf77e097045b26f862bbe845.jpg  \n",
            " extracting: dataset/train/images/A995EAA1-C4ED-427E-A94E-FC877CA48835_jpeg.rf.3315ee46bfcd198cd8a17d800dcca4a8.jpg  \n",
            " extracting: dataset/train/images/A995EAA1-C4ED-427E-A94E-FC877CA48835_jpeg.rf.a903b27c37b3e9ee685f1206a48d5c4d.jpg  \n",
            " extracting: dataset/train/images/A995EAA1-C4ED-427E-A94E-FC877CA48835_jpeg.rf.b1f79e3ff4cb7cc0ba1364221e84e654.jpg  \n",
            " extracting: dataset/train/images/AAAA7E5D-1509-4D64-A5C6-B6F3D8749B1E_jpeg.rf.2352dcaae5838d0f0192e3f5970e0693.jpg  \n",
            " extracting: dataset/train/images/AAAA7E5D-1509-4D64-A5C6-B6F3D8749B1E_jpeg.rf.c78dfe3c0a3ca2217af522a6b4c1d5c1.jpg  \n",
            " extracting: dataset/train/images/AAAA7E5D-1509-4D64-A5C6-B6F3D8749B1E_jpeg.rf.deb8d4575fc62f8260f7bc0b60912fbb.jpg  \n",
            " extracting: dataset/train/images/AABC3AED-ECE0-4E79-8A93-BE09B568D5BC_jpeg.rf.3e7f2d7c650890280c9bdd1b4534551c.jpg  \n",
            " extracting: dataset/train/images/AABC3AED-ECE0-4E79-8A93-BE09B568D5BC_jpeg.rf.96b1dbe4e6d10e8a659009ae74908ed3.jpg  \n",
            " extracting: dataset/train/images/AABC3AED-ECE0-4E79-8A93-BE09B568D5BC_jpeg.rf.caf269cde2dd601087760dd97742ca85.jpg  \n",
            " extracting: dataset/train/images/AAEC5866-B067-4DB4-8E33-885B6C4FC0E5_jpeg.rf.4781a42ef473a61a2541e8ffd90ae4af.jpg  \n",
            " extracting: dataset/train/images/AAEC5866-B067-4DB4-8E33-885B6C4FC0E5_jpeg.rf.a030dc432c1d36893ff554b21239daba.jpg  \n",
            " extracting: dataset/train/images/AAEC5866-B067-4DB4-8E33-885B6C4FC0E5_jpeg.rf.adbd1fcaa504cc219b9d0acf700826f3.jpg  \n",
            " extracting: dataset/train/images/AB9428B5-39A8-4A01-AAD0-CAA94D732986_jpeg.rf.00f1e88380fd0531b06cef02844da22d.jpg  \n",
            " extracting: dataset/train/images/AB9428B5-39A8-4A01-AAD0-CAA94D732986_jpeg.rf.cabc02a6a3f166d243bcaabe63bf9b2e.jpg  \n",
            " extracting: dataset/train/images/AB9428B5-39A8-4A01-AAD0-CAA94D732986_jpeg.rf.cf65df297f41031b2f6003e11656b8f9.jpg  \n",
            " extracting: dataset/train/images/AC92F76D-94EE-4417-ADF9-696F6822D985_jpeg.rf.64eb2a7cc29eab7a7d5d164ceedab631.jpg  \n",
            " extracting: dataset/train/images/AC92F76D-94EE-4417-ADF9-696F6822D985_jpeg.rf.b32b945b56fef68eeda668996566228a.jpg  \n",
            " extracting: dataset/train/images/AC92F76D-94EE-4417-ADF9-696F6822D985_jpeg.rf.e5722d9bca1820385db1c95a63d142a0.jpg  \n",
            " extracting: dataset/train/images/AD7A85FF-A451-4A67-999D-9AD15CA89D90_jpeg.rf.6b7166332a666f94ffbb9fdb7987e158.jpg  \n",
            " extracting: dataset/train/images/AD7A85FF-A451-4A67-999D-9AD15CA89D90_jpeg.rf.94f1b97b48aa5c07d52e5c441b0b525c.jpg  \n",
            " extracting: dataset/train/images/AD7A85FF-A451-4A67-999D-9AD15CA89D90_jpeg.rf.ce28b377a22b05cc1c193bbcd1a65b7e.jpg  \n",
            " extracting: dataset/train/images/AE26955D-CC30-48B5-9B5D-A380F598A72F_jpeg.rf.2ce2ae0451738e221cd13fcc9289eaee.jpg  \n",
            " extracting: dataset/train/images/AE26955D-CC30-48B5-9B5D-A380F598A72F_jpeg.rf.65750ef84e408ac223545c678897a5cd.jpg  \n",
            " extracting: dataset/train/images/AE26955D-CC30-48B5-9B5D-A380F598A72F_jpeg.rf.d1f292c6263e6632cdf045a15694185f.jpg  \n",
            " extracting: dataset/train/images/AEECFCAC-D50D-41E5-8B94-543EF3F6D756_jpeg.rf.1c253e76c6671f7ec0b698672dfd06e9.jpg  \n",
            " extracting: dataset/train/images/AEECFCAC-D50D-41E5-8B94-543EF3F6D756_jpeg.rf.8eb5307f9c39ef4cc6dc9374f87d7df4.jpg  \n",
            " extracting: dataset/train/images/AEECFCAC-D50D-41E5-8B94-543EF3F6D756_jpeg.rf.dd19a5cb1a2f28d118aaa82460aeefd4.jpg  \n",
            " extracting: dataset/train/images/AF1C606B-3C82-4ED8-92D5-9542090AF447_jpeg.rf.0d6efa43bd3cc5bfffecd39565d6fb51.jpg  \n",
            " extracting: dataset/train/images/AF1C606B-3C82-4ED8-92D5-9542090AF447_jpeg.rf.3672e90f725f35e8bf64cbf17821cc64.jpg  \n",
            " extracting: dataset/train/images/AF1C606B-3C82-4ED8-92D5-9542090AF447_jpeg.rf.3ea5545ba6b4f49c04c76ed2aa9af40e.jpg  \n",
            " extracting: dataset/train/images/AFD00538-039B-4251-B3B6-6912275B1E85_jpeg.rf.05f3d30cfaaee1c744531d7037295da7.jpg  \n",
            " extracting: dataset/train/images/AFD00538-039B-4251-B3B6-6912275B1E85_jpeg.rf.3ddb734ed6cba9dc4050737d13a29ca7.jpg  \n",
            " extracting: dataset/train/images/AFD00538-039B-4251-B3B6-6912275B1E85_jpeg.rf.c619c8c8db52e316e8831b626a66f768.jpg  \n",
            " extracting: dataset/train/images/B0692A47-99BF-483A-829E-D575E46B1B0C_jpeg.rf.91d1276c225bb35d0e7cfcff4ee83c53.jpg  \n",
            " extracting: dataset/train/images/B0692A47-99BF-483A-829E-D575E46B1B0C_jpeg.rf.cca8f4453eafa56654ac9fdd92e2e19b.jpg  \n",
            " extracting: dataset/train/images/B0692A47-99BF-483A-829E-D575E46B1B0C_jpeg.rf.e0338ed4c19b0d86bbe7be21ed9cad7a.jpg  \n",
            " extracting: dataset/train/images/B0EB6D7E-F882-4060-988A-0F094763DAF3_jpeg.rf.99d0f46cb19374a5c853ff0497951244.jpg  \n",
            " extracting: dataset/train/images/B0EB6D7E-F882-4060-988A-0F094763DAF3_jpeg.rf.9b52975a262337a665d9e6faf9edbd7f.jpg  \n",
            " extracting: dataset/train/images/B0EB6D7E-F882-4060-988A-0F094763DAF3_jpeg.rf.bec5dbe37cecc55ac78d29cc7d9d58cd.jpg  \n",
            " extracting: dataset/train/images/B1239529-68B2-4D77-B7B6-48AB78D24512_jpeg.rf.1dd59af0fb4dfc45df535b38835a245e.jpg  \n",
            " extracting: dataset/train/images/B1239529-68B2-4D77-B7B6-48AB78D24512_jpeg.rf.cae34ab9f02e6ff73a6b142cf7abeac9.jpg  \n",
            " extracting: dataset/train/images/B1239529-68B2-4D77-B7B6-48AB78D24512_jpeg.rf.cd058877e61fa26197adab6fe126c04b.jpg  \n",
            " extracting: dataset/train/images/B18577F5-9170-444A-81EC-11414BEC1D34_jpeg.rf.0579be95d126a80d96883f0782c19b2c.jpg  \n",
            " extracting: dataset/train/images/B18577F5-9170-444A-81EC-11414BEC1D34_jpeg.rf.0c4cd200a32eb9f07a86e1118d4bb8b8.jpg  \n",
            " extracting: dataset/train/images/B18577F5-9170-444A-81EC-11414BEC1D34_jpeg.rf.9ecbcd60f88eec85d6ba939a594db7e2.jpg  \n",
            " extracting: dataset/train/images/B1A0A919-CC15-4F76-8054-CE6A8E1DFACB_jpeg.rf.2c576cc3f8c654da942ad886606aca39.jpg  \n",
            " extracting: dataset/train/images/B1A0A919-CC15-4F76-8054-CE6A8E1DFACB_jpeg.rf.5c6eb40bdea328cc5e41b0f9b053ced7.jpg  \n",
            " extracting: dataset/train/images/B1A0A919-CC15-4F76-8054-CE6A8E1DFACB_jpeg.rf.d3ca0ec3721b1562ed40cf8a065efe2e.jpg  \n",
            " extracting: dataset/train/images/B1AA8398-79EE-47FD-8315-F0B9A1B0F146_jpeg.rf.25c8a5b359375ab18feeca34007e087e.jpg  \n",
            " extracting: dataset/train/images/B1AA8398-79EE-47FD-8315-F0B9A1B0F146_jpeg.rf.b56135bfb656c50b917a2422547f5f33.jpg  \n",
            " extracting: dataset/train/images/B1AA8398-79EE-47FD-8315-F0B9A1B0F146_jpeg.rf.ec60af5e06d8816d7fcb467a08c9f6cd.jpg  \n",
            " extracting: dataset/train/images/B1BF65C4-DBE9-423A-BFF5-07FA3EA58730_jpeg.rf.d219054af8eb81a7f8daadfd9b799a1a.jpg  \n",
            " extracting: dataset/train/images/B1BF65C4-DBE9-423A-BFF5-07FA3EA58730_jpeg.rf.dcb9a290d71548cdfa5cf6fed2e3f3c1.jpg  \n",
            " extracting: dataset/train/images/B1BF65C4-DBE9-423A-BFF5-07FA3EA58730_jpeg.rf.e1763ff9697eeb9b51a842f5970dbc3c.jpg  \n",
            " extracting: dataset/train/images/B2A31857-EC18-41D3-86DF-525AE0473186_jpeg.rf.37b516ec651315d15d161fe600e855ab.jpg  \n",
            " extracting: dataset/train/images/B2A31857-EC18-41D3-86DF-525AE0473186_jpeg.rf.d994f4e42a9ef74cdaf289a9e8be427a.jpg  \n",
            " extracting: dataset/train/images/B2A31857-EC18-41D3-86DF-525AE0473186_jpeg.rf.e1fc79300802a65da226bd4656c4050f.jpg  \n",
            " extracting: dataset/train/images/B2CF3BFD-0BBF-460A-9949-A46B4919AF09_jpeg.rf.80eaef6b29bcf3b75a44e1ed59606b31.jpg  \n",
            " extracting: dataset/train/images/B2CF3BFD-0BBF-460A-9949-A46B4919AF09_jpeg.rf.8f583d2c55c01cde28b2100e48bd06c7.jpg  \n",
            " extracting: dataset/train/images/B2CF3BFD-0BBF-460A-9949-A46B4919AF09_jpeg.rf.e3ac36421ef428078c16c7e0fd7dee28.jpg  \n",
            " extracting: dataset/train/images/B3D541BD-86F2-43C1-965D-2973B57AA838_jpeg.rf.0e2ca211daadb2c8111c5f430614f914.jpg  \n",
            " extracting: dataset/train/images/B3D541BD-86F2-43C1-965D-2973B57AA838_jpeg.rf.2edcbcc222ef0a9fe8a1ff0f03a14fdc.jpg  \n",
            " extracting: dataset/train/images/B3D541BD-86F2-43C1-965D-2973B57AA838_jpeg.rf.fc2bdbb129be42b6eb6ab0474e6d5ebc.jpg  \n",
            " extracting: dataset/train/images/B433EB74-4D99-415F-89BB-E79FB4478CC3_jpeg.rf.762bd6928da5ba9c8ac4db70f00f3905.jpg  \n",
            " extracting: dataset/train/images/B433EB74-4D99-415F-89BB-E79FB4478CC3_jpeg.rf.aca700a6727562450d28c44497968c46.jpg  \n",
            " extracting: dataset/train/images/B433EB74-4D99-415F-89BB-E79FB4478CC3_jpeg.rf.e6a9302bfb3702820c88366f7d4bc8b4.jpg  \n",
            " extracting: dataset/train/images/B4AC9C01-0C0A-4359-82D3-A4A26FADC97D_jpeg.rf.4947487293f01636531944fd34eefd2f.jpg  \n",
            " extracting: dataset/train/images/B4AC9C01-0C0A-4359-82D3-A4A26FADC97D_jpeg.rf.8ee6847437751393953abe23084db21b.jpg  \n",
            " extracting: dataset/train/images/B4AC9C01-0C0A-4359-82D3-A4A26FADC97D_jpeg.rf.aeda483c283f744ae735a8e4bd3e76ba.jpg  \n",
            " extracting: dataset/train/images/B5119125-4F28-416A-B4B3-65697003434C_jpeg.rf.9339b2b6d600c2ce97298f445beaab46.jpg  \n",
            " extracting: dataset/train/images/B5119125-4F28-416A-B4B3-65697003434C_jpeg.rf.9b9d0c5a0aaf5980187f74a27869abbf.jpg  \n",
            " extracting: dataset/train/images/B5119125-4F28-416A-B4B3-65697003434C_jpeg.rf.ea8eec426fa4e3347976d4e2a7575c3a.jpg  \n",
            " extracting: dataset/train/images/B8205A2A-C64C-410D-9037-F5031489A74B_jpeg.rf.1507709e2c2b77841c5d073517a81890.jpg  \n",
            " extracting: dataset/train/images/B8205A2A-C64C-410D-9037-F5031489A74B_jpeg.rf.af6b761f9ba2b2855c90e977daa80cb4.jpg  \n",
            " extracting: dataset/train/images/B8205A2A-C64C-410D-9037-F5031489A74B_jpeg.rf.c6234ccca7f67c6eeecb5aa27756deed.jpg  \n",
            " extracting: dataset/train/images/B858DB47-7444-4BA2-AA70-BE47BCEB4C36_jpeg.rf.18d64208c637d52d9be16d444e8cd0a4.jpg  \n",
            " extracting: dataset/train/images/B858DB47-7444-4BA2-AA70-BE47BCEB4C36_jpeg.rf.2c1c0bc5fe8e8a1aa1b494d8acb6d3c0.jpg  \n",
            " extracting: dataset/train/images/B858DB47-7444-4BA2-AA70-BE47BCEB4C36_jpeg.rf.3dfef97f9e35ad7c0ae2fdf1877c47d4.jpg  \n",
            " extracting: dataset/train/images/BA8A34C1-D470-4187-B915-663C44CBFD07_jpeg.rf.1f44f62309c4f094d25eb31ca41d9595.jpg  \n",
            " extracting: dataset/train/images/BA8A34C1-D470-4187-B915-663C44CBFD07_jpeg.rf.3186c1964dc81cc9d1aaed7ba875feb9.jpg  \n",
            " extracting: dataset/train/images/BA8A34C1-D470-4187-B915-663C44CBFD07_jpeg.rf.de233be6f9913c595c5fa70390fe54be.jpg  \n",
            " extracting: dataset/train/images/BBA2730F-C6B2-46E7-9377-D18B0930321A_jpeg.rf.47b8cfca6548f66cad4fe8114f9fa85d.jpg  \n",
            " extracting: dataset/train/images/BBA2730F-C6B2-46E7-9377-D18B0930321A_jpeg.rf.76d4b7a6ff48ae520b085cbe6f9d1df0.jpg  \n",
            " extracting: dataset/train/images/BBA2730F-C6B2-46E7-9377-D18B0930321A_jpeg.rf.f9923048848a53dfd2edd36739050571.jpg  \n",
            " extracting: dataset/train/images/BCA2ED72-02F6-455B-9327-8C9534CD731D_jpeg.rf.0c7845b0117c0110d5233344331cd3b7.jpg  \n",
            " extracting: dataset/train/images/BCA2ED72-02F6-455B-9327-8C9534CD731D_jpeg.rf.36f39b4b2a567d899807cba305743891.jpg  \n",
            " extracting: dataset/train/images/BCA2ED72-02F6-455B-9327-8C9534CD731D_jpeg.rf.bdba5ac92330bb6396647e14432699e0.jpg  \n",
            " extracting: dataset/train/images/BCAC7627-A9D7-4195-AD15-810EB81A5A5C_jpeg.rf.16c022ba10ff8fee814a04b435c9af7d.jpg  \n",
            " extracting: dataset/train/images/BCAC7627-A9D7-4195-AD15-810EB81A5A5C_jpeg.rf.6f2d5653f635eea95bc11af940f0b991.jpg  \n",
            " extracting: dataset/train/images/BCAC7627-A9D7-4195-AD15-810EB81A5A5C_jpeg.rf.99c4e0dd43fe4e2e8784c6dd71bc5268.jpg  \n",
            " extracting: dataset/train/images/BCE0F4F3-B097-4D21-8E22-A4E7E3D9F40E_jpeg.rf.3b94e47e5ba5cd0bd7fd350f0a114b38.jpg  \n",
            " extracting: dataset/train/images/BCE0F4F3-B097-4D21-8E22-A4E7E3D9F40E_jpeg.rf.6cc7b2f327937294fe5e6dd7142a102b.jpg  \n",
            " extracting: dataset/train/images/BCE0F4F3-B097-4D21-8E22-A4E7E3D9F40E_jpeg.rf.96c2168d3447f667571481e3bf6ea27d.jpg  \n",
            " extracting: dataset/train/images/BD692330-726F-402F-B4F5-A6A7FCD7FC0D_jpeg.rf.28172a64b60a9f6db5d0d3b12abfeabd.jpg  \n",
            " extracting: dataset/train/images/BD692330-726F-402F-B4F5-A6A7FCD7FC0D_jpeg.rf.aa3074fd0868f22574f9a153174e0019.jpg  \n",
            " extracting: dataset/train/images/BD692330-726F-402F-B4F5-A6A7FCD7FC0D_jpeg.rf.f9114fbb1724fd5de3da8e5f31f0b4a5.jpg  \n",
            " extracting: dataset/train/images/BD8BB941-2CC4-45A2-969A-1F87DB8A7C43_jpeg.rf.83d3e8b08e780451afd35a4e750d6c6b.jpg  \n",
            " extracting: dataset/train/images/BD8BB941-2CC4-45A2-969A-1F87DB8A7C43_jpeg.rf.98483ccb53b0c56e6e1885efb32c7378.jpg  \n",
            " extracting: dataset/train/images/BD8BB941-2CC4-45A2-969A-1F87DB8A7C43_jpeg.rf.9c1bb43c0272a7095ca70d87805efbee.jpg  \n",
            " extracting: dataset/train/images/BDDBBFEC-C178-4FCF-9293-F9DFECAA1534_jpeg.rf.6ef9045b45ee7f5b193d0208816cf373.jpg  \n",
            " extracting: dataset/train/images/BDDBBFEC-C178-4FCF-9293-F9DFECAA1534_jpeg.rf.95644cbf868de368b6ff78a88e6a9477.jpg  \n",
            " extracting: dataset/train/images/BDDBBFEC-C178-4FCF-9293-F9DFECAA1534_jpeg.rf.a897c82bd07c41021eff311c29b32104.jpg  \n",
            " extracting: dataset/train/images/BE3A0C0C-DE50-49AA-806D-9426B4802512_jpeg.rf.4c11734b30a6c6b18208b3d78d518082.jpg  \n",
            " extracting: dataset/train/images/BE3A0C0C-DE50-49AA-806D-9426B4802512_jpeg.rf.d77b5da27d6cc30c4988680679a4d171.jpg  \n",
            " extracting: dataset/train/images/BE3A0C0C-DE50-49AA-806D-9426B4802512_jpeg.rf.f74d92c6b1912bb24215034cf39698d4.jpg  \n",
            " extracting: dataset/train/images/BEE3E014-AA62-442B-92B9-1A2A30C0A3F1_jpeg.rf.853973d1c6318f6e56f463d1879b175b.jpg  \n",
            " extracting: dataset/train/images/BEE3E014-AA62-442B-92B9-1A2A30C0A3F1_jpeg.rf.9de6a1706a7a7030d4f79ea1a2ffc1e4.jpg  \n",
            " extracting: dataset/train/images/BEE3E014-AA62-442B-92B9-1A2A30C0A3F1_jpeg.rf.9f3e75c6ea3c8c2c6326cbb0c0a588cd.jpg  \n",
            " extracting: dataset/train/images/C01D0847-FAB5-4ED0-9463-AA2F7BA78CC4_jpeg.rf.16858b2ae4c2cde703565afbc87542b4.jpg  \n",
            " extracting: dataset/train/images/C01D0847-FAB5-4ED0-9463-AA2F7BA78CC4_jpeg.rf.63ee524cf08c7ca3ed1d807b5e310a25.jpg  \n",
            " extracting: dataset/train/images/C01D0847-FAB5-4ED0-9463-AA2F7BA78CC4_jpeg.rf.713615ccdd0a6b3ed216c3397aeeebbf.jpg  \n",
            " extracting: dataset/train/images/C11058A2-7355-40EE-B54D-EE95FB28F226_jpeg.rf.047bbddacf7fd21ff98f833e23ce2c46.jpg  \n",
            " extracting: dataset/train/images/C11058A2-7355-40EE-B54D-EE95FB28F226_jpeg.rf.eeacf17aa983c07ca53d60d84b932ad3.jpg  \n",
            " extracting: dataset/train/images/C11058A2-7355-40EE-B54D-EE95FB28F226_jpeg.rf.ff2fd409b192edbb215e2ae37f7683a5.jpg  \n",
            " extracting: dataset/train/images/C123506D-9B99-4ADD-B315-7FEA838DC362_jpeg.rf.59bf0207d621ae0627961b6f6486f8f3.jpg  \n",
            " extracting: dataset/train/images/C123506D-9B99-4ADD-B315-7FEA838DC362_jpeg.rf.8e6d2c693e6720486517df6ca1377818.jpg  \n",
            " extracting: dataset/train/images/C123506D-9B99-4ADD-B315-7FEA838DC362_jpeg.rf.b2aff439e7175456c41676c9c2fa9d19.jpg  \n",
            " extracting: dataset/train/images/C2587A47-EE17-45D4-88E4-E9CAFA0E8AB4_jpeg.rf.74549c84cd61824ef5ed0d05cf8ddfad.jpg  \n",
            " extracting: dataset/train/images/C2587A47-EE17-45D4-88E4-E9CAFA0E8AB4_jpeg.rf.a2a5c1e10d352d8b880679ec0649bfbd.jpg  \n",
            " extracting: dataset/train/images/C2587A47-EE17-45D4-88E4-E9CAFA0E8AB4_jpeg.rf.abd042d5d7b1a96192a1a24bc113147f.jpg  \n",
            " extracting: dataset/train/images/C3208384-FCA3-4C15-A00D-E2317250D64D_jpeg.rf.0f0fe787dcd44ef1971393dbee9ae0c2.jpg  \n",
            " extracting: dataset/train/images/C3208384-FCA3-4C15-A00D-E2317250D64D_jpeg.rf.760d57fdb290cf40b26a1bd33a066670.jpg  \n",
            " extracting: dataset/train/images/C3208384-FCA3-4C15-A00D-E2317250D64D_jpeg.rf.a998458895f855de2b9d74aa4c11ba00.jpg  \n",
            " extracting: dataset/train/images/C35570F9-2196-497F-AA05-C0DDCA596BAA_jpeg.rf.0f07f5dab1e007c66f6ee3dced611815.jpg  \n",
            " extracting: dataset/train/images/C35570F9-2196-497F-AA05-C0DDCA596BAA_jpeg.rf.47de23e28da8cb330fe70968cdb85c5b.jpg  \n",
            " extracting: dataset/train/images/C35570F9-2196-497F-AA05-C0DDCA596BAA_jpeg.rf.8a5e78283bacfb02bdbb04868fef331e.jpg  \n",
            " extracting: dataset/train/images/C3861363-CE7E-4872-A3DC-7E3522752E1E_jpeg.rf.0e770f1eae8bd8d4ddd4242da11ec24d.jpg  \n",
            " extracting: dataset/train/images/C3861363-CE7E-4872-A3DC-7E3522752E1E_jpeg.rf.16ede8ec3bf24f03615760c26c5246a7.jpg  \n",
            " extracting: dataset/train/images/C3861363-CE7E-4872-A3DC-7E3522752E1E_jpeg.rf.95e713c5d5d57a4fb4ecc23b3d6529b5.jpg  \n",
            " extracting: dataset/train/images/C3AC407B-700E-4A52-8232-4DEB322D9736_jpeg.rf.0c97cdf53bc244fecbb827931b8fbdce.jpg  \n",
            " extracting: dataset/train/images/C3AC407B-700E-4A52-8232-4DEB322D9736_jpeg.rf.32a117103c684f7e93c89b746fd069ed.jpg  \n",
            " extracting: dataset/train/images/C3AC407B-700E-4A52-8232-4DEB322D9736_jpeg.rf.4d301eb372bdf9bec8b52e07dda6a32b.jpg  \n",
            " extracting: dataset/train/images/C3E2B560-0415-455D-967B-F1BF7A3BC4FA_jpeg.rf.1f911168ec72faae73a80fb15d0464c4.jpg  \n",
            " extracting: dataset/train/images/C3E2B560-0415-455D-967B-F1BF7A3BC4FA_jpeg.rf.d675128cb33d0391033e8c6fcb67fd72.jpg  \n",
            " extracting: dataset/train/images/C3E2B560-0415-455D-967B-F1BF7A3BC4FA_jpeg.rf.f9b32ebd6bfabaccee8ac473b809064f.jpg  \n",
            " extracting: dataset/train/images/C40E1101-5748-43B5-97B3-313A19AE3347_jpeg.rf.3d64ad607208fa4b970f512cc8031ad4.jpg  \n",
            " extracting: dataset/train/images/C40E1101-5748-43B5-97B3-313A19AE3347_jpeg.rf.e01fea500ddd3f2a838b5403b179eace.jpg  \n",
            " extracting: dataset/train/images/C40E1101-5748-43B5-97B3-313A19AE3347_jpeg.rf.fa44d963ee1d0db0ba3c5a61a9152aa5.jpg  \n",
            " extracting: dataset/train/images/C714108C-C833-40B9-B1C7-0B210EBCBEC5_jpeg.rf.964fba435f3e64cc481c96e1f5e51e74.jpg  \n",
            " extracting: dataset/train/images/C714108C-C833-40B9-B1C7-0B210EBCBEC5_jpeg.rf.dccd75b18bc14b9fcba6375f66719752.jpg  \n",
            " extracting: dataset/train/images/C714108C-C833-40B9-B1C7-0B210EBCBEC5_jpeg.rf.fdc5adc3512d40172e2c0d15195e05b1.jpg  \n",
            " extracting: dataset/train/images/C81B6461-3855-4559-AB0D-FE87B521B80A_jpeg.rf.3610ea543304c8113242cce243c1dc03.jpg  \n",
            " extracting: dataset/train/images/C81B6461-3855-4559-AB0D-FE87B521B80A_jpeg.rf.3cd0140c6977d5912179fd18d732276e.jpg  \n",
            " extracting: dataset/train/images/C81B6461-3855-4559-AB0D-FE87B521B80A_jpeg.rf.bf7d194b020c054edd94193ee5c96fe2.jpg  \n",
            " extracting: dataset/train/images/C8882E9E-2FDC-4AF1-86B3-5AA3E7338E85_jpeg.rf.47e7572c491199ccce7b7811a7dcbe47.jpg  \n",
            " extracting: dataset/train/images/C8882E9E-2FDC-4AF1-86B3-5AA3E7338E85_jpeg.rf.78cc05350fc234ef538f5199a1469eff.jpg  \n",
            " extracting: dataset/train/images/C8882E9E-2FDC-4AF1-86B3-5AA3E7338E85_jpeg.rf.82d351b194774e6ac7a3627dddc700d1.jpg  \n",
            " extracting: dataset/train/images/C8F7A526-35AE-46C6-B797-8177C624FECB_jpeg.rf.02740899ac7590f924da5509167c4f9c.jpg  \n",
            " extracting: dataset/train/images/C8F7A526-35AE-46C6-B797-8177C624FECB_jpeg.rf.3ba37ce6d74c8ad0793f283e29668d3e.jpg  \n",
            " extracting: dataset/train/images/C8F7A526-35AE-46C6-B797-8177C624FECB_jpeg.rf.80bba3d4a799ce1b2fcda552a33dc24b.jpg  \n",
            " extracting: dataset/train/images/CA289BFA-0CDB-4FA3-AA16-8A680C3B979C_jpeg.rf.a5376f905f08c7ddc4efa692dbb2b1ae.jpg  \n",
            " extracting: dataset/train/images/CA289BFA-0CDB-4FA3-AA16-8A680C3B979C_jpeg.rf.a707d1756f3ec52e0745a90729b2a8db.jpg  \n",
            " extracting: dataset/train/images/CA289BFA-0CDB-4FA3-AA16-8A680C3B979C_jpeg.rf.c30163d97ff298829ca676a20a287612.jpg  \n",
            " extracting: dataset/train/images/CB0D68F5-3249-4FB3-9862-A485F3FF81D0_jpeg.rf.8c0f0cc9861c3882dc4dab3b0707832f.jpg  \n",
            " extracting: dataset/train/images/CB0D68F5-3249-4FB3-9862-A485F3FF81D0_jpeg.rf.cd4929c64c6f780dcc744ab2ffb15728.jpg  \n",
            " extracting: dataset/train/images/CB0D68F5-3249-4FB3-9862-A485F3FF81D0_jpeg.rf.de09d434e12bb9e67acec905e9728ae1.jpg  \n",
            " extracting: dataset/train/images/CB147B8A-8F37-4B5A-861F-D3ECADA0EC98_jpeg.rf.16ad7558d807ac5bd966b1cb14e63ac2.jpg  \n",
            " extracting: dataset/train/images/CB147B8A-8F37-4B5A-861F-D3ECADA0EC98_jpeg.rf.40951d9f82a5d7ac29665ada0d54c79f.jpg  \n",
            " extracting: dataset/train/images/CB147B8A-8F37-4B5A-861F-D3ECADA0EC98_jpeg.rf.a68f92b6bfce7ff14b89220b31468d4f.jpg  \n",
            " extracting: dataset/train/images/CB359A52-BF93-4056-8F56-12A0943E5D25_jpeg.rf.185613b92aa82a1c45826a3906845087.jpg  \n",
            " extracting: dataset/train/images/CB359A52-BF93-4056-8F56-12A0943E5D25_jpeg.rf.3ac8304f0009b8ea4abae9ede0c8df71.jpg  \n",
            " extracting: dataset/train/images/CB359A52-BF93-4056-8F56-12A0943E5D25_jpeg.rf.c3b7ad78360bd81d8ef8db85dd0c8c59.jpg  \n",
            " extracting: dataset/train/images/CB58844E-E97A-41E9-80A1-466E1A0A277A_jpeg.rf.6b83a4c41891d37311441ea6f66a2594.jpg  \n",
            " extracting: dataset/train/images/CB58844E-E97A-41E9-80A1-466E1A0A277A_jpeg.rf.8ca8615dfd9a5df619ec8a661b7ae30c.jpg  \n",
            " extracting: dataset/train/images/CB58844E-E97A-41E9-80A1-466E1A0A277A_jpeg.rf.b423f1f86e072441735b0ea98da7178c.jpg  \n",
            " extracting: dataset/train/images/CBB3F745-D4D0-45E7-9F01-2D9EDBF17E9C_jpeg.rf.5c1a2389c3a812ee4f23761a230f08a8.jpg  \n",
            " extracting: dataset/train/images/CBB3F745-D4D0-45E7-9F01-2D9EDBF17E9C_jpeg.rf.7a2105ef2cbe086507902a045e2e7058.jpg  \n",
            " extracting: dataset/train/images/CBB3F745-D4D0-45E7-9F01-2D9EDBF17E9C_jpeg.rf.94c3b1046f02b99327a408fffaa4971e.jpg  \n",
            " extracting: dataset/train/images/CC98B396-13D3-43F6-96C7-3D9493DDC863_jpeg.rf.842b420c8f93e26d1f60caf9366fe69d.jpg  \n",
            " extracting: dataset/train/images/CC98B396-13D3-43F6-96C7-3D9493DDC863_jpeg.rf.9dd87b19e9b28a5221a0179c31b75a13.jpg  \n",
            " extracting: dataset/train/images/CC98B396-13D3-43F6-96C7-3D9493DDC863_jpeg.rf.9f1914317f2a98ca81a97375e436b229.jpg  \n",
            " extracting: dataset/train/images/CCC87A5A-558C-4C2B-A37A-A760FE62EDAA_jpeg.rf.6e3789565022de316a18d272f6d3a892.jpg  \n",
            " extracting: dataset/train/images/CCC87A5A-558C-4C2B-A37A-A760FE62EDAA_jpeg.rf.8a4cc901594543df6fc408954c3a7803.jpg  \n",
            " extracting: dataset/train/images/CCC87A5A-558C-4C2B-A37A-A760FE62EDAA_jpeg.rf.cc088a88f83ce09cd190d950f25d1abf.jpg  \n",
            " extracting: dataset/train/images/CD2EECDB-CC83-4566-9807-32C00EA11D15_jpeg.rf.6ee84e7fe2a400bed7eeb2f3f861c19a.jpg  \n",
            " extracting: dataset/train/images/CD2EECDB-CC83-4566-9807-32C00EA11D15_jpeg.rf.7f0a74e7d97bfa66a8ebcb76ca63e578.jpg  \n",
            " extracting: dataset/train/images/CD2EECDB-CC83-4566-9807-32C00EA11D15_jpeg.rf.92f8e169d5850e6f30421045fa3086c6.jpg  \n",
            " extracting: dataset/train/images/CD42598B-3165-4958-81FC-E8BB5971CE66_jpeg.rf.3a332a58c3c41d9f2030d012c0311bb1.jpg  \n",
            " extracting: dataset/train/images/CD42598B-3165-4958-81FC-E8BB5971CE66_jpeg.rf.43a71034e5245af6dede5f35bf21fc54.jpg  \n",
            " extracting: dataset/train/images/CD42598B-3165-4958-81FC-E8BB5971CE66_jpeg.rf.e03f4ab63e42d3f437e1056cc4e520ec.jpg  \n",
            " extracting: dataset/train/images/CE08E323-D57C-4FF8-A30E-24F8E44FA8F2_jpeg.rf.75ce7c7e44a9e6c072bb09afafe28444.jpg  \n",
            " extracting: dataset/train/images/CE08E323-D57C-4FF8-A30E-24F8E44FA8F2_jpeg.rf.80da30e65262e5f35781d584d13cfaf6.jpg  \n",
            " extracting: dataset/train/images/CE08E323-D57C-4FF8-A30E-24F8E44FA8F2_jpeg.rf.e86a2130ce81584add07b88e156a1188.jpg  \n",
            " extracting: dataset/train/images/CE4DE07F-F57F-4397-B69F-D5514DA12647_jpeg.rf.05d8bc15fc3b4de0332afe66ed27dfc5.jpg  \n",
            " extracting: dataset/train/images/CE4DE07F-F57F-4397-B69F-D5514DA12647_jpeg.rf.b5fbff24f2aa5824f6cdc8480e1e1ad4.jpg  \n",
            " extracting: dataset/train/images/CE4DE07F-F57F-4397-B69F-D5514DA12647_jpeg.rf.c4d231fedb0a959cc610cbf7e9d443fb.jpg  \n",
            " extracting: dataset/train/images/CE6EE121-AEEB-4548-B822-5FB57FDB3B66_jpeg.rf.2ee12728c7761753a46b434a6e857d80.jpg  \n",
            " extracting: dataset/train/images/CE6EE121-AEEB-4548-B822-5FB57FDB3B66_jpeg.rf.9c58bdbd3bd40c9fc08019081c31eedf.jpg  \n",
            " extracting: dataset/train/images/CE6EE121-AEEB-4548-B822-5FB57FDB3B66_jpeg.rf.a1ed25ea0a4963ad025e15276a85692c.jpg  \n",
            " extracting: dataset/train/images/D389F7DC-90B5-46BF-9E20-CD7152694C21_jpeg.rf.1bc7d3e83940fa28408ddc90b0b4e645.jpg  \n",
            " extracting: dataset/train/images/D389F7DC-90B5-46BF-9E20-CD7152694C21_jpeg.rf.50fe27abafc2a6914d11368249dc5540.jpg  \n",
            " extracting: dataset/train/images/D389F7DC-90B5-46BF-9E20-CD7152694C21_jpeg.rf.adc613f510d6d04cf64eb0a1936693f9.jpg  \n",
            " extracting: dataset/train/images/D391B5D2-2583-432A-9AA3-12EAA0B3DD7F_jpeg.rf.05c13279b21834b1217377af44cc1bf8.jpg  \n",
            " extracting: dataset/train/images/D391B5D2-2583-432A-9AA3-12EAA0B3DD7F_jpeg.rf.e011750f5e6d0ad62578a8d0d9191217.jpg  \n",
            " extracting: dataset/train/images/D391B5D2-2583-432A-9AA3-12EAA0B3DD7F_jpeg.rf.f0a43ff03811550dfa306e58e59e5742.jpg  \n",
            " extracting: dataset/train/images/D4DB38E2-CBED-4F08-8E08-5BE7CB310A88_jpeg.rf.822ddf1dc7b914728f485732a71977cf.jpg  \n",
            " extracting: dataset/train/images/D4DB38E2-CBED-4F08-8E08-5BE7CB310A88_jpeg.rf.9b2a598a0b3b05b2c214cb5a2b2c0ca7.jpg  \n",
            " extracting: dataset/train/images/D4DB38E2-CBED-4F08-8E08-5BE7CB310A88_jpeg.rf.e946381ca244b33ddd088d137a3d76fb.jpg  \n",
            " extracting: dataset/train/images/D5091FF4-2B3F-4485-80C3-2A1BFC05688B_jpeg.rf.16e52b4237b37395acadc4083a4a9178.jpg  \n",
            " extracting: dataset/train/images/D5091FF4-2B3F-4485-80C3-2A1BFC05688B_jpeg.rf.2b833405ee94e5e0943ed074d3bac67d.jpg  \n",
            " extracting: dataset/train/images/D5091FF4-2B3F-4485-80C3-2A1BFC05688B_jpeg.rf.8facd2d13b52126c96381ed2e24efe86.jpg  \n",
            " extracting: dataset/train/images/D5B66685-80EE-47B5-B70C-5BB2E7329C89_jpeg.rf.061809de3eb8b6048c5cebf4e4901216.jpg  \n",
            " extracting: dataset/train/images/D5B66685-80EE-47B5-B70C-5BB2E7329C89_jpeg.rf.0f02bdb5022385820c20e374e5435a92.jpg  \n",
            " extracting: dataset/train/images/D5B66685-80EE-47B5-B70C-5BB2E7329C89_jpeg.rf.1744f5dd400523c5755e84c0b2c7d578.jpg  \n",
            " extracting: dataset/train/images/D61E243F-F8B7-4027-A861-2908439DF771_jpeg.rf.32508520728eb85d989dc241da4a542e.jpg  \n",
            " extracting: dataset/train/images/D61E243F-F8B7-4027-A861-2908439DF771_jpeg.rf.682e516d2f36f67b78dda9fb17b10021.jpg  \n",
            " extracting: dataset/train/images/D61E243F-F8B7-4027-A861-2908439DF771_jpeg.rf.daad9a7b1ab7f9d1091527c6edaa374d.jpg  \n",
            " extracting: dataset/train/images/D628AC6B-29C0-4053-A6F0-B1410739F549_jpeg.rf.2795f3c2a86bfcbcfbc58ec2fad56402.jpg  \n",
            " extracting: dataset/train/images/D628AC6B-29C0-4053-A6F0-B1410739F549_jpeg.rf.297cb35085bcf3bef4c5c59dd292985f.jpg  \n",
            " extracting: dataset/train/images/D628AC6B-29C0-4053-A6F0-B1410739F549_jpeg.rf.3ec11ba79d3ae2017ce78067efe6096f.jpg  \n",
            " extracting: dataset/train/images/D66AB120-11E5-4E9C-9EB5-B6F657AE96E7_jpeg.rf.4f7ac9f2667b178f11843762a1e08bec.jpg  \n",
            " extracting: dataset/train/images/D66AB120-11E5-4E9C-9EB5-B6F657AE96E7_jpeg.rf.7917775ab7a0343e05fab6e04356f6df.jpg  \n",
            " extracting: dataset/train/images/D66AB120-11E5-4E9C-9EB5-B6F657AE96E7_jpeg.rf.d609a7efe26da434b9796f956efb15f9.jpg  \n",
            " extracting: dataset/train/images/D66AC734-22B4-4902-8C0F-6253FAAA17FF_jpeg.rf.28da3d4085ec8abf21e6980bbf2bde4b.jpg  \n",
            " extracting: dataset/train/images/D66AC734-22B4-4902-8C0F-6253FAAA17FF_jpeg.rf.e43695ea82ef4c074816151f700cd358.jpg  \n",
            " extracting: dataset/train/images/D66AC734-22B4-4902-8C0F-6253FAAA17FF_jpeg.rf.ec38e688bc280e78a963cfffd2411900.jpg  \n",
            " extracting: dataset/train/images/D6801DAC-2B7C-434E-9985-B6B076FE9459_jpeg.rf.159511c1cbf60e4250eb652cbab451ac.jpg  \n",
            " extracting: dataset/train/images/D6801DAC-2B7C-434E-9985-B6B076FE9459_jpeg.rf.4be0938c48040eb638cde07a26203d71.jpg  \n",
            " extracting: dataset/train/images/D6801DAC-2B7C-434E-9985-B6B076FE9459_jpeg.rf.a382fd60dd0973631a77e75f8e3f539c.jpg  \n",
            " extracting: dataset/train/images/D78132FF-1846-42C2-8003-AC094EAB7B81_jpeg.rf.24cddea5fd34035cc14b3848ceca1be2.jpg  \n",
            " extracting: dataset/train/images/D78132FF-1846-42C2-8003-AC094EAB7B81_jpeg.rf.24fddcd9296d9f2e536d16c4cf679402.jpg  \n",
            " extracting: dataset/train/images/D78132FF-1846-42C2-8003-AC094EAB7B81_jpeg.rf.876f9569ee82c28a329c4357f60e62a0.jpg  \n",
            " extracting: dataset/train/images/D79AD35C-430C-4EFD-9B6D-32BD6FCDC5C8_jpeg.rf.1ea06e3c5d7f694a8cca7b0eafbcc012.jpg  \n",
            " extracting: dataset/train/images/D79AD35C-430C-4EFD-9B6D-32BD6FCDC5C8_jpeg.rf.e4d2946ad2d8440eb25749e0e6b70f36.jpg  \n",
            " extracting: dataset/train/images/D79AD35C-430C-4EFD-9B6D-32BD6FCDC5C8_jpeg.rf.fc93178a82782b09dd0216f8edea6a9f.jpg  \n",
            " extracting: dataset/train/images/D7AA81AA-42AF-4F52-8FE0-2FF4CD8E2F60_jpeg.rf.0adf4deb2b0f6b6eca95cbbf920fb34e.jpg  \n",
            " extracting: dataset/train/images/D7AA81AA-42AF-4F52-8FE0-2FF4CD8E2F60_jpeg.rf.3728f1d2153d3f70a2f2e7f39ab1aea0.jpg  \n",
            " extracting: dataset/train/images/D7AA81AA-42AF-4F52-8FE0-2FF4CD8E2F60_jpeg.rf.4c1d644c97dd08b0ab28ca2d2087ed23.jpg  \n",
            " extracting: dataset/train/images/D8438E23-A8EF-4D02-8B53-AE622CE4B58F_jpeg.rf.7145c75240e4cee5bf9a9fac24b9250a.jpg  \n",
            " extracting: dataset/train/images/D8438E23-A8EF-4D02-8B53-AE622CE4B58F_jpeg.rf.8817640e41b86d329a84b055a3624a67.jpg  \n",
            " extracting: dataset/train/images/D8438E23-A8EF-4D02-8B53-AE622CE4B58F_jpeg.rf.d605876a39b74de3c25966dda57c8274.jpg  \n",
            " extracting: dataset/train/images/D88212B1-9C84-4FB7-BBFF-96ED2552EFEC_jpeg.rf.a7a8fec0ab77efe9380570cdcfe18546.jpg  \n",
            " extracting: dataset/train/images/D88212B1-9C84-4FB7-BBFF-96ED2552EFEC_jpeg.rf.aafda89c82690585f26ea27b83619f1c.jpg  \n",
            " extracting: dataset/train/images/D88212B1-9C84-4FB7-BBFF-96ED2552EFEC_jpeg.rf.df3008008929ae9380b0a8184217c6ee.jpg  \n",
            " extracting: dataset/train/images/D8985911-1A35-4AB9-9A06-2DA4FEE531E1_jpeg.rf.5efb29c4e4e09094c7034fc43e5a6952.jpg  \n",
            " extracting: dataset/train/images/D8985911-1A35-4AB9-9A06-2DA4FEE531E1_jpeg.rf.6eaec4abe2dd6add860cfd8ec6d61dad.jpg  \n",
            " extracting: dataset/train/images/D8985911-1A35-4AB9-9A06-2DA4FEE531E1_jpeg.rf.7b35c454cebb7057e33ac52fec96a54e.jpg  \n",
            " extracting: dataset/train/images/D9DE6681-FA65-4D23-BB73-17A1DFEFFFC1_jpeg.rf.1f5e65d06272c59ae7b2cf1528295c1a.jpg  \n",
            " extracting: dataset/train/images/D9DE6681-FA65-4D23-BB73-17A1DFEFFFC1_jpeg.rf.a9beff4b9d992ddc38bac683fc9af1c9.jpg  \n",
            " extracting: dataset/train/images/D9DE6681-FA65-4D23-BB73-17A1DFEFFFC1_jpeg.rf.dddcce7ab3d7c2de7c8b725ec013fb48.jpg  \n",
            " extracting: dataset/train/images/DB694874-940A-4385-9A43-1E96B9D310ED_jpeg.rf.88487f4ef3d045b8c6c3d5700f35de6a.jpg  \n",
            " extracting: dataset/train/images/DB694874-940A-4385-9A43-1E96B9D310ED_jpeg.rf.c25f05a0eadf178271578d32dc460f11.jpg  \n",
            " extracting: dataset/train/images/DB694874-940A-4385-9A43-1E96B9D310ED_jpeg.rf.eeb1cfd9eb2ba79fb3c7469d929502fd.jpg  \n",
            " extracting: dataset/train/images/DC0AC492-A79D-4AB6-9868-30B58A262EEC_jpeg.rf.02a7b67ea3964ea95322a496104217bc.jpg  \n",
            " extracting: dataset/train/images/DC0AC492-A79D-4AB6-9868-30B58A262EEC_jpeg.rf.21cde095a6d31ff7a4723a2577ab5b88.jpg  \n",
            " extracting: dataset/train/images/DC0AC492-A79D-4AB6-9868-30B58A262EEC_jpeg.rf.a551c1df6ac85695496c0f9782595e39.jpg  \n",
            " extracting: dataset/train/images/DC7F0959-517A-4323-9153-D97370CFAD8B_jpeg.rf.26a256910b70272efb73ffe66b6eb4a6.jpg  \n",
            " extracting: dataset/train/images/DC7F0959-517A-4323-9153-D97370CFAD8B_jpeg.rf.5bab14386f7eedca5281df416a7de7f2.jpg  \n",
            " extracting: dataset/train/images/DC7F0959-517A-4323-9153-D97370CFAD8B_jpeg.rf.af21b42adb4707f4c7a09ad69d0dc63a.jpg  \n",
            " extracting: dataset/train/images/DC892A51-DE4C-4C30-877F-DCF16E620296_jpeg.rf.3b1d0fa7e4f7e85198169b39223cb7a9.jpg  \n",
            " extracting: dataset/train/images/DC892A51-DE4C-4C30-877F-DCF16E620296_jpeg.rf.834028f6dd62d7f996509be07d5098e7.jpg  \n",
            " extracting: dataset/train/images/DC892A51-DE4C-4C30-877F-DCF16E620296_jpeg.rf.84a9e3242e0e5cf5bcc4debc88e18e94.jpg  \n",
            " extracting: dataset/train/images/DD0BFB9C-3D39-476C-816A-6A8AE384EA7B_jpeg.rf.1d2e1a6f4b8711c24a832f021fb52bbe.jpg  \n",
            " extracting: dataset/train/images/DD0BFB9C-3D39-476C-816A-6A8AE384EA7B_jpeg.rf.5538f4766d4b7dd98f4b64be49c0d5ba.jpg  \n",
            " extracting: dataset/train/images/DD0BFB9C-3D39-476C-816A-6A8AE384EA7B_jpeg.rf.ec0df1869c6d46773fd52cdff53a00f7.jpg  \n",
            " extracting: dataset/train/images/DD58547B-8C50-48C8-8370-9130CE7718F6_jpeg.rf.66a6466123fccddbe0be6dad53c1db8f.jpg  \n",
            " extracting: dataset/train/images/DD58547B-8C50-48C8-8370-9130CE7718F6_jpeg.rf.c3820d21347fbaa8d36a0e871fd46aaa.jpg  \n",
            " extracting: dataset/train/images/DD58547B-8C50-48C8-8370-9130CE7718F6_jpeg.rf.cf55aab3bdc786d6543c58c60724cfb6.jpg  \n",
            " extracting: dataset/train/images/DECB4B03-BE06-42FA-BDD0-3E5B44D778F4_jpeg.rf.1527093096b29d651f990444cdd446cd.jpg  \n",
            " extracting: dataset/train/images/DECB4B03-BE06-42FA-BDD0-3E5B44D778F4_jpeg.rf.384c81e7587a193c8cb4f857750eaedc.jpg  \n",
            " extracting: dataset/train/images/DECB4B03-BE06-42FA-BDD0-3E5B44D778F4_jpeg.rf.3c980aa93ce6f4fe53de08ee927bfbcd.jpg  \n",
            " extracting: dataset/train/images/DEFD8B2C-1B18-4DFF-B0DD-1DF7A66274D3_jpeg.rf.4a606f602d222187059388c06e5673bb.jpg  \n",
            " extracting: dataset/train/images/DEFD8B2C-1B18-4DFF-B0DD-1DF7A66274D3_jpeg.rf.8ada213f6ca3727ce2d05a65c3622435.jpg  \n",
            " extracting: dataset/train/images/DEFD8B2C-1B18-4DFF-B0DD-1DF7A66274D3_jpeg.rf.a82a5c153650bcc79d65884cbd655a57.jpg  \n",
            " extracting: dataset/train/images/DF36DBF5-2E74-442D-AC1E-019C605F2BC0_jpeg.rf.5aca0a4becaee59e5d93393f4157554a.jpg  \n",
            " extracting: dataset/train/images/DF36DBF5-2E74-442D-AC1E-019C605F2BC0_jpeg.rf.9453970d5469233f61a4f0957d8fa31e.jpg  \n",
            " extracting: dataset/train/images/DF36DBF5-2E74-442D-AC1E-019C605F2BC0_jpeg.rf.c9ed1ce616f9459cba60b569ebcfa24b.jpg  \n",
            " extracting: dataset/train/images/DF69EF93-FC27-40C4-B313-9387B956B03E_jpeg.rf.5e11816b23e7b4778af4144457f46e19.jpg  \n",
            " extracting: dataset/train/images/DF69EF93-FC27-40C4-B313-9387B956B03E_jpeg.rf.88e598b3eb1b7c8e5682a800c620ec1c.jpg  \n",
            " extracting: dataset/train/images/DF69EF93-FC27-40C4-B313-9387B956B03E_jpeg.rf.9ec59ae7f6954753242ad7ebc683baf2.jpg  \n",
            " extracting: dataset/train/images/DFA0AA30-CAEF-4917-A9A9-4ED303B44A4C_jpeg.rf.93e7ca30d2929f4fcb82cda3f900bccc.jpg  \n",
            " extracting: dataset/train/images/DFA0AA30-CAEF-4917-A9A9-4ED303B44A4C_jpeg.rf.ba7e0f8d273cd352522534b249f6ab0f.jpg  \n",
            " extracting: dataset/train/images/DFA0AA30-CAEF-4917-A9A9-4ED303B44A4C_jpeg.rf.db154367dc32bc5e4d625e4439f0b466.jpg  \n",
            " extracting: dataset/train/images/E093F613-FA90-4C13-8B8F-7BA7354F40BC_jpeg.rf.9fefc2d42f4da6ee29415e59f44b228d.jpg  \n",
            " extracting: dataset/train/images/E093F613-FA90-4C13-8B8F-7BA7354F40BC_jpeg.rf.a5d30bdd989e0daaddb5f0afef5b397c.jpg  \n",
            " extracting: dataset/train/images/E093F613-FA90-4C13-8B8F-7BA7354F40BC_jpeg.rf.cbac5efc380bb03bf7928e555ac48c9c.jpg  \n",
            " extracting: dataset/train/images/E104ED61-85FB-4B74-823F-E494E84724EF_jpeg.rf.1e9e1aa9ee7743b474075437a31611a2.jpg  \n",
            " extracting: dataset/train/images/E104ED61-85FB-4B74-823F-E494E84724EF_jpeg.rf.2045c2bd856bce93eddb540cb546367f.jpg  \n",
            " extracting: dataset/train/images/E104ED61-85FB-4B74-823F-E494E84724EF_jpeg.rf.47ae904c8f8ebbda5d27debe43e7fd3a.jpg  \n",
            " extracting: dataset/train/images/E10FFFE5-77FA-40CE-8443-E9B1330C83AB_jpeg.rf.69f597bb452514e4a5f9addcb1c83364.jpg  \n",
            " extracting: dataset/train/images/E10FFFE5-77FA-40CE-8443-E9B1330C83AB_jpeg.rf.c040785927fb8cbf9f1f81132a045a2d.jpg  \n",
            " extracting: dataset/train/images/E10FFFE5-77FA-40CE-8443-E9B1330C83AB_jpeg.rf.e284db2d53b4357268b2f553566db6f6.jpg  \n",
            " extracting: dataset/train/images/E28758E2-C35E-4086-A990-FC638C7B643C_jpeg.rf.661526e57a265039c0695a1c3f3b4b95.jpg  \n",
            " extracting: dataset/train/images/E28758E2-C35E-4086-A990-FC638C7B643C_jpeg.rf.79f7bb5f2ceb5a3c20882f84d43df0c9.jpg  \n",
            " extracting: dataset/train/images/E28758E2-C35E-4086-A990-FC638C7B643C_jpeg.rf.7f916408434ae4e0459346a07db463bb.jpg  \n",
            " extracting: dataset/train/images/E2A63498-3E27-41E4-BC89-B070F8FCC917_jpeg.rf.a3edca343ca5a3d351245606dc07c769.jpg  \n",
            " extracting: dataset/train/images/E2A63498-3E27-41E4-BC89-B070F8FCC917_jpeg.rf.b5f1fce3cc81256b339ec38365a65360.jpg  \n",
            " extracting: dataset/train/images/E2A63498-3E27-41E4-BC89-B070F8FCC917_jpeg.rf.c44fb51318c8307cbc5fd39462a4693a.jpg  \n",
            " extracting: dataset/train/images/E36EC51D-CE05-40A6-B34B-D661EDA4DBF4_jpeg.rf.5cfcf3cf2fd4f60524505b5590233c02.jpg  \n",
            " extracting: dataset/train/images/E36EC51D-CE05-40A6-B34B-D661EDA4DBF4_jpeg.rf.b7af63635797dafeeb3391c2d4c0365d.jpg  \n",
            " extracting: dataset/train/images/E36EC51D-CE05-40A6-B34B-D661EDA4DBF4_jpeg.rf.ca791cd031a215f28ac07000fba76a54.jpg  \n",
            " extracting: dataset/train/images/E44808CD-50C7-4E4E-A0B6-507BDFFBEF7E_jpeg.rf.25e1889580a99e5a4008c0174a39df6a.jpg  \n",
            " extracting: dataset/train/images/E44808CD-50C7-4E4E-A0B6-507BDFFBEF7E_jpeg.rf.a73c52f1ce266a0ae5939de82b828c0e.jpg  \n",
            " extracting: dataset/train/images/E44808CD-50C7-4E4E-A0B6-507BDFFBEF7E_jpeg.rf.b1f92a8463df9524e8c71ecc3298239a.jpg  \n",
            " extracting: dataset/train/images/E56AD0D0-715E-4A4F-B884-22B638BA8298_jpeg.rf.30ba8b349bfc08297681bfd30a5d0c42.jpg  \n",
            " extracting: dataset/train/images/E56AD0D0-715E-4A4F-B884-22B638BA8298_jpeg.rf.9dc5326dee47a8c215c619bae5fd1459.jpg  \n",
            " extracting: dataset/train/images/E56AD0D0-715E-4A4F-B884-22B638BA8298_jpeg.rf.b7490e9ad63bdef741ce12fc19e42e20.jpg  \n",
            " extracting: dataset/train/images/E6C1B489-D8D0-4EA3-9160-69972E6BA584_jpeg.rf.0d737d1c7bea7449a6204aca634305cc.jpg  \n",
            " extracting: dataset/train/images/E6C1B489-D8D0-4EA3-9160-69972E6BA584_jpeg.rf.6a767a9f585c05f88518ef8130866978.jpg  \n",
            " extracting: dataset/train/images/E6C1B489-D8D0-4EA3-9160-69972E6BA584_jpeg.rf.a88a5a87abc473fe3875db9d906ef8b4.jpg  \n",
            " extracting: dataset/train/images/E72B368D-6949-404B-8310-0CEA975F3DEA_jpeg.rf.2e232debf87e6f46a3cc3a2f402441d4.jpg  \n",
            " extracting: dataset/train/images/E72B368D-6949-404B-8310-0CEA975F3DEA_jpeg.rf.7e050a2e56cda7bfe4d2b6544cc34611.jpg  \n",
            " extracting: dataset/train/images/E72B368D-6949-404B-8310-0CEA975F3DEA_jpeg.rf.c09a5979e718263955b2ccf7a07b7044.jpg  \n",
            " extracting: dataset/train/images/E82CE2C0-D3E1-490F-ACE6-CB9DCB56CEFC_jpeg.rf.e7e8b25bdaa8e77c8ec6a2b57d8de5f6.jpg  \n",
            " extracting: dataset/train/images/E82CE2C0-D3E1-490F-ACE6-CB9DCB56CEFC_jpeg.rf.f454aec01a176b67c92fdd3358d2f2e7.jpg  \n",
            " extracting: dataset/train/images/E82CE2C0-D3E1-490F-ACE6-CB9DCB56CEFC_jpeg.rf.ff10ca3cbbfc9587ca502ebd7a2240e8.jpg  \n",
            " extracting: dataset/train/images/E89FC4BA-EC02-48EB-A631-E7A601B7AC28_jpeg.rf.13552852075849ed81d9dba2af47a621.jpg  \n",
            " extracting: dataset/train/images/E89FC4BA-EC02-48EB-A631-E7A601B7AC28_jpeg.rf.23dc1d0c6870a7f4d981f97ffe6ed7e4.jpg  \n",
            " extracting: dataset/train/images/E89FC4BA-EC02-48EB-A631-E7A601B7AC28_jpeg.rf.4494aa92cb010c31e57a6989dafc10ec.jpg  \n",
            " extracting: dataset/train/images/E8DEDD5C-6858-4DD3-ADFE-04D6ED6D8125_jpeg.rf.011b2bf483906437b8fbf7bdeec266ae.jpg  \n",
            " extracting: dataset/train/images/E8DEDD5C-6858-4DD3-ADFE-04D6ED6D8125_jpeg.rf.12cccd85ece4a578082cf00a0fed9742.jpg  \n",
            " extracting: dataset/train/images/E8DEDD5C-6858-4DD3-ADFE-04D6ED6D8125_jpeg.rf.48314d9e8e0dd8d3e71a34fb906968b4.jpg  \n",
            " extracting: dataset/train/images/E8E94FB4-A951-44F5-B5A7-F9CC4B7391CD_jpeg.rf.62b37ec4e1dd26b50d25eee0ac4183e2.jpg  \n",
            " extracting: dataset/train/images/E8E94FB4-A951-44F5-B5A7-F9CC4B7391CD_jpeg.rf.aea3fc1167c6f020af12ac143fed5fa2.jpg  \n",
            " extracting: dataset/train/images/E8E94FB4-A951-44F5-B5A7-F9CC4B7391CD_jpeg.rf.bab2ead37e9f9066514f3313a4c369cf.jpg  \n",
            " extracting: dataset/train/images/E9789DF4-CA2B-4AEA-83EE-FF94381FCEED_jpeg.rf.54cc368d835562aefcc3743bbc5baddf.jpg  \n",
            " extracting: dataset/train/images/E9789DF4-CA2B-4AEA-83EE-FF94381FCEED_jpeg.rf.61eaf810d70b34b1976bb119f16f4b41.jpg  \n",
            " extracting: dataset/train/images/E9789DF4-CA2B-4AEA-83EE-FF94381FCEED_jpeg.rf.681e06b9d65e4f0ade659b49e800a6b2.jpg  \n",
            " extracting: dataset/train/images/E994B322-A6F2-47FE-B739-0E9509532409_jpeg.rf.a6b3612ebc6b0ca9a047de0011bbc3c0.jpg  \n",
            " extracting: dataset/train/images/E994B322-A6F2-47FE-B739-0E9509532409_jpeg.rf.e30cab4b23044386d92e5036124f8e84.jpg  \n",
            " extracting: dataset/train/images/E994B322-A6F2-47FE-B739-0E9509532409_jpeg.rf.f3107ee945aa29cebda6dae9608cc802.jpg  \n",
            " extracting: dataset/train/images/EA35EBDB-A01A-4FAC-B292-29DDE704C84C_jpeg.rf.68546b7722c74a75b0adb620ce4ff97d.jpg  \n",
            " extracting: dataset/train/images/EA35EBDB-A01A-4FAC-B292-29DDE704C84C_jpeg.rf.98a712edc834e35dfa67726d98eaf2c8.jpg  \n",
            " extracting: dataset/train/images/EA35EBDB-A01A-4FAC-B292-29DDE704C84C_jpeg.rf.a0aa54583f39b9f2c0980c1c168dd497.jpg  \n",
            " extracting: dataset/train/images/ECC0ABDC-D459-4B6B-BA10-3A96C5075E01_jpeg.rf.4bf65f1e478509d2f201d3277fcafa05.jpg  \n",
            " extracting: dataset/train/images/ECC0ABDC-D459-4B6B-BA10-3A96C5075E01_jpeg.rf.da353d66bb6658bfa15b52076cb692bc.jpg  \n",
            " extracting: dataset/train/images/ECC0ABDC-D459-4B6B-BA10-3A96C5075E01_jpeg.rf.eca07478eb739f0fcce41cc4263c9d67.jpg  \n",
            " extracting: dataset/train/images/ED6736A0-DC05-457C-9EF1-CA17309CB28C_jpeg.rf.10cb77afb03a733380317f265565642f.jpg  \n",
            " extracting: dataset/train/images/ED6736A0-DC05-457C-9EF1-CA17309CB28C_jpeg.rf.7300f9239b0dfab482559a5decd9a86b.jpg  \n",
            " extracting: dataset/train/images/ED6736A0-DC05-457C-9EF1-CA17309CB28C_jpeg.rf.9a32abd65529f1f80b7c4d3c267ea948.jpg  \n",
            " extracting: dataset/train/images/EE6CFE01-999C-4FAD-B777-23B45E9C3690_jpeg.rf.380a6945e1edaa4c249d1d4ab168412c.jpg  \n",
            " extracting: dataset/train/images/EE6CFE01-999C-4FAD-B777-23B45E9C3690_jpeg.rf.c61a28d6d50467098f35c8d19266c0cb.jpg  \n",
            " extracting: dataset/train/images/EE6CFE01-999C-4FAD-B777-23B45E9C3690_jpeg.rf.f18c00f8872d9116b438274767868b26.jpg  \n",
            " extracting: dataset/train/images/F3582907-BF21-46CD-8369-7526DAD7C9C5_jpeg.rf.05ba331e126b4aa5b03fd233694f7d48.jpg  \n",
            " extracting: dataset/train/images/F3582907-BF21-46CD-8369-7526DAD7C9C5_jpeg.rf.1aef56a1fa89039a8a4ea2b488f026cf.jpg  \n",
            " extracting: dataset/train/images/F3582907-BF21-46CD-8369-7526DAD7C9C5_jpeg.rf.239f51a3fc6ff188a6f1c538a242a86d.jpg  \n",
            " extracting: dataset/train/images/F3C710EA-AAF5-4776-87E6-C78888585A7B_jpeg.rf.21580c529e537f147c7de06fe81d89fc.jpg  \n",
            " extracting: dataset/train/images/F3C710EA-AAF5-4776-87E6-C78888585A7B_jpeg.rf.93ede15cf2b655f3f5f98e992ee86559.jpg  \n",
            " extracting: dataset/train/images/F3C710EA-AAF5-4776-87E6-C78888585A7B_jpeg.rf.c04e43d890c853a027be38f6bc23f78a.jpg  \n",
            " extracting: dataset/train/images/F4DE1EC6-6B4F-4233-BE0F-BAB0913BC1A7_jpeg.rf.676f4fb88a612d7fc5a8097fb199514d.jpg  \n",
            " extracting: dataset/train/images/F4DE1EC6-6B4F-4233-BE0F-BAB0913BC1A7_jpeg.rf.b72ea2b8c78433cf0a503733d44b8be1.jpg  \n",
            " extracting: dataset/train/images/F4DE1EC6-6B4F-4233-BE0F-BAB0913BC1A7_jpeg.rf.c14d3bfaa6134d98be9e3d30ebb3e47e.jpg  \n",
            " extracting: dataset/train/images/F503B78C-3BAD-4550-B43C-14FDFB685164_jpeg.rf.0731fcf944762257ee7e42c07843e854.jpg  \n",
            " extracting: dataset/train/images/F503B78C-3BAD-4550-B43C-14FDFB685164_jpeg.rf.71cb7e86dc7b69c44912525a08c75d84.jpg  \n",
            " extracting: dataset/train/images/F503B78C-3BAD-4550-B43C-14FDFB685164_jpeg.rf.a426357fb498e0b5583ebebfce5463ce.jpg  \n",
            " extracting: dataset/train/images/F62B42F0-0169-405F-AB12-E262227D0378_jpeg.rf.220460fb9cfacaa6fefbc96927f5b2ab.jpg  \n",
            " extracting: dataset/train/images/F62B42F0-0169-405F-AB12-E262227D0378_jpeg.rf.418b90b7ae7c497651c9e3d9758b6211.jpg  \n",
            " extracting: dataset/train/images/F62B42F0-0169-405F-AB12-E262227D0378_jpeg.rf.80d3cb4a4144e0410b7259e2d730a06d.jpg  \n",
            " extracting: dataset/train/images/F6E69E23-4AC8-42CB-A866-E533BC3A4116_jpeg.rf.02a9c732f242963861bfdfbc56ecece3.jpg  \n",
            " extracting: dataset/train/images/F6E69E23-4AC8-42CB-A866-E533BC3A4116_jpeg.rf.33173f322f61670c202bae730a5c370c.jpg  \n",
            " extracting: dataset/train/images/F6E69E23-4AC8-42CB-A866-E533BC3A4116_jpeg.rf.74a50b8842bb072510575fe4c9b5a1c8.jpg  \n",
            " extracting: dataset/train/images/F73B8992-8751-4511-9394-17A75A9E6624_jpeg.rf.35ea85ca37d6a5c0d09d27e7ac470fee.jpg  \n",
            " extracting: dataset/train/images/F73B8992-8751-4511-9394-17A75A9E6624_jpeg.rf.84b4580b80d763ed31f8687614a10b74.jpg  \n",
            " extracting: dataset/train/images/F73B8992-8751-4511-9394-17A75A9E6624_jpeg.rf.b7fa075fa678ccfa4536af8cb7c15dd5.jpg  \n",
            " extracting: dataset/train/images/F7AACFFF-F2D5-4DE3-8CB7-0C80264785EA_jpeg.rf.34a74a357b8be60cb96bd8661f71c2b4.jpg  \n",
            " extracting: dataset/train/images/F7AACFFF-F2D5-4DE3-8CB7-0C80264785EA_jpeg.rf.3a374534e68cabc3fc1f793b1c84ad2d.jpg  \n",
            " extracting: dataset/train/images/F7AACFFF-F2D5-4DE3-8CB7-0C80264785EA_jpeg.rf.f81dd630092bd4601da4b344ed331375.jpg  \n",
            " extracting: dataset/train/images/F856B007-7A5E-4C1B-A774-5D1ADB09899A_jpeg.rf.0fd632f89a9146c0a6ee7fc8eb496e3f.jpg  \n",
            " extracting: dataset/train/images/F856B007-7A5E-4C1B-A774-5D1ADB09899A_jpeg.rf.2c6a136f9fadf7bbd69a2b4d5c323151.jpg  \n",
            " extracting: dataset/train/images/F856B007-7A5E-4C1B-A774-5D1ADB09899A_jpeg.rf.7b3228f4a94f13924e7bc5183f7c1989.jpg  \n",
            " extracting: dataset/train/images/FA4A678F-04C9-431B-8C6D-4940BB9920C7_jpeg.rf.3ee1930f4da2466fd663c8a6f6040f4d.jpg  \n",
            " extracting: dataset/train/images/FA4A678F-04C9-431B-8C6D-4940BB9920C7_jpeg.rf.dd7cd3ceacbdfdd120e97a4406696aa0.jpg  \n",
            " extracting: dataset/train/images/FA4A678F-04C9-431B-8C6D-4940BB9920C7_jpeg.rf.f0ec4c639272c88d84482ee35e66b474.jpg  \n",
            " extracting: dataset/train/images/FAF6B68B-DB86-495B-AFCE-3574D9858CD4_jpeg.rf.07533174d2144eb6270446a3bfe85691.jpg  \n",
            " extracting: dataset/train/images/FAF6B68B-DB86-495B-AFCE-3574D9858CD4_jpeg.rf.3a75c63de3246875a542775ff195a1de.jpg  \n",
            " extracting: dataset/train/images/FAF6B68B-DB86-495B-AFCE-3574D9858CD4_jpeg.rf.9a51d670bef47c155ba5c104ad492fa6.jpg  \n",
            " extracting: dataset/train/images/FB3FE8DC-AECA-4F28-868C-ACFAD27CE790_jpeg.rf.436f0e3ee4aa9aee53b34ebef90e3131.jpg  \n",
            " extracting: dataset/train/images/FB3FE8DC-AECA-4F28-868C-ACFAD27CE790_jpeg.rf.d40e05ce748e9ed316fe6acbab650607.jpg  \n",
            " extracting: dataset/train/images/FB3FE8DC-AECA-4F28-868C-ACFAD27CE790_jpeg.rf.f4f695967913d0dc83ef25705ed1829d.jpg  \n",
            " extracting: dataset/train/images/FBAB4DBE-5B80-4E89-9754-F133D730F685_jpeg.rf.031de912406058821a3a3f0f72a8ccbd.jpg  \n",
            " extracting: dataset/train/images/FBAB4DBE-5B80-4E89-9754-F133D730F685_jpeg.rf.27362d5a52be2a3affc7548c60721634.jpg  \n",
            " extracting: dataset/train/images/FBAB4DBE-5B80-4E89-9754-F133D730F685_jpeg.rf.41f03a53c2234e6c6e5e09824be55c28.jpg  \n",
            " extracting: dataset/train/images/FBB55BA8-BB04-429F-98DB-064622E3643C_jpeg.rf.52cec5f0363ac3c14cbb029a7dbd7eb4.jpg  \n",
            " extracting: dataset/train/images/FBB55BA8-BB04-429F-98DB-064622E3643C_jpeg.rf.540361f9f1a5d6e92d7de61739c905eb.jpg  \n",
            " extracting: dataset/train/images/FBB55BA8-BB04-429F-98DB-064622E3643C_jpeg.rf.83a45728fd6629ab37f9693efd8c150a.jpg  \n",
            " extracting: dataset/train/images/FBEA414B-27C9-40C7-AF57-9019849846F8_jpeg.rf.2ec988fe3f46af74f2b88037468b679f.jpg  \n",
            " extracting: dataset/train/images/FBEA414B-27C9-40C7-AF57-9019849846F8_jpeg.rf.671f9712316a751a5571f94499ad8444.jpg  \n",
            " extracting: dataset/train/images/FBEA414B-27C9-40C7-AF57-9019849846F8_jpeg.rf.ad2af53bc6f92c9d345381408708f2fa.jpg  \n",
            " extracting: dataset/train/images/FD94F45E-E482-4CD9-B797-A437E3496720_jpeg.rf.76fd47b821ae55c4f9ba7188bb8c5dbb.jpg  \n",
            " extracting: dataset/train/images/FD94F45E-E482-4CD9-B797-A437E3496720_jpeg.rf.cdbd20cf397429159bb1e378fbe6d0a8.jpg  \n",
            " extracting: dataset/train/images/FD94F45E-E482-4CD9-B797-A437E3496720_jpeg.rf.f37dbb81c57d69b5e367a0ffdc25229e.jpg  \n",
            " extracting: dataset/train/images/FDC96F39-01BF-44C7-9302-EAD0D4FA85D2_jpeg.rf.01cd59e25c1d48b13d77a8f11c8c0ed4.jpg  \n",
            " extracting: dataset/train/images/FDC96F39-01BF-44C7-9302-EAD0D4FA85D2_jpeg.rf.5a38f476e71a2f29eed8089f2f70687a.jpg  \n",
            " extracting: dataset/train/images/FDC96F39-01BF-44C7-9302-EAD0D4FA85D2_jpeg.rf.fe10acb293ae01c91c797bbb5682d545.jpg  \n",
            " extracting: dataset/train/images/FEE09DC5-35D1-4C5A-AEC7-F5A3B1EE8F9F_jpeg.rf.29cb2576bbaaae495267efd6387fbf09.jpg  \n",
            " extracting: dataset/train/images/FEE09DC5-35D1-4C5A-AEC7-F5A3B1EE8F9F_jpeg.rf.445b2662133f2322bd476a01c54a1cd2.jpg  \n",
            " extracting: dataset/train/images/FEE09DC5-35D1-4C5A-AEC7-F5A3B1EE8F9F_jpeg.rf.545b75dc1d6de5bf3e090fd034a8b5f1.jpg  \n",
            " extracting: dataset/train/images/FF3C0A55-3AB2-42B3-B214-8E3D4D89E306_jpeg.rf.8916b00c16a93ebc0f411d96520490d8.jpg  \n",
            " extracting: dataset/train/images/FF3C0A55-3AB2-42B3-B214-8E3D4D89E306_jpeg.rf.ba7b299770948c0ee75379e08d807c23.jpg  \n",
            " extracting: dataset/train/images/FF3C0A55-3AB2-42B3-B214-8E3D4D89E306_jpeg.rf.e077189bf78d742f02e3ed2fe3cfac50.jpg  \n",
            "   creating: dataset/train/labels/\n",
            "  inflating: dataset/train/labels/002968A7-AA66-46A8-A4B2-BB5473A3E7C7_jpeg.rf.2d13947ebd6e54989813ea214390e1ed.txt  \n",
            "  inflating: dataset/train/labels/002968A7-AA66-46A8-A4B2-BB5473A3E7C7_jpeg.rf.716ffcfeb9d21febbbcb7ced91f8dfa7.txt  \n",
            "  inflating: dataset/train/labels/002968A7-AA66-46A8-A4B2-BB5473A3E7C7_jpeg.rf.a1c346513095d3c55ac684f53a7514a7.txt  \n",
            "  inflating: dataset/train/labels/0056C089-9E18-4C86-B966-D216A543F08E_jpeg.rf.4b800ce20f6eb2e98e2c4fc83cc7d3db.txt  \n",
            "  inflating: dataset/train/labels/0056C089-9E18-4C86-B966-D216A543F08E_jpeg.rf.a5d176f44befea4bf813051b9f052a28.txt  \n",
            "  inflating: dataset/train/labels/0056C089-9E18-4C86-B966-D216A543F08E_jpeg.rf.c1f69687655ff1bc90c844998f17a205.txt  \n",
            "  inflating: dataset/train/labels/011535C8-D7B8-47DF-A4CE-A26C0C9D1B33_jpeg.rf.03f0679b7c2946e2b1dff063b32a91f7.txt  \n",
            "  inflating: dataset/train/labels/011535C8-D7B8-47DF-A4CE-A26C0C9D1B33_jpeg.rf.37009c8949eefec17c5beb0700f42cfb.txt  \n",
            "  inflating: dataset/train/labels/011535C8-D7B8-47DF-A4CE-A26C0C9D1B33_jpeg.rf.70b52f74d6d2eeb3d80107620314ff04.txt  \n",
            "  inflating: dataset/train/labels/01C8FAAC-D02B-4CD1-9136-4B38BB9342DF_jpeg.rf.61db47286a966cffbe1474940f4cd4ea.txt  \n",
            "  inflating: dataset/train/labels/01C8FAAC-D02B-4CD1-9136-4B38BB9342DF_jpeg.rf.abd30bd0f414a2b84bf2d209127d1474.txt  \n",
            "  inflating: dataset/train/labels/01C8FAAC-D02B-4CD1-9136-4B38BB9342DF_jpeg.rf.f349c69735f2ddcaae24bbc350125cb8.txt  \n",
            "  inflating: dataset/train/labels/01D371F1-2666-468B-AB06-72BF0747F10E_jpeg.rf.0ade8da60687d7733b98b22c93a97d59.txt  \n",
            "  inflating: dataset/train/labels/01D371F1-2666-468B-AB06-72BF0747F10E_jpeg.rf.6ac2c82bad4e6b2d42778a5c69b64191.txt  \n",
            "  inflating: dataset/train/labels/01D371F1-2666-468B-AB06-72BF0747F10E_jpeg.rf.957a37584645a4ea5a2737120a551217.txt  \n",
            "  inflating: dataset/train/labels/01DBCB8D-7BC9-4B82-A2DF-B46736F9BC10_jpeg.rf.01d1567ce42d01ad0d48a5d1a495cd9e.txt  \n",
            "  inflating: dataset/train/labels/01DBCB8D-7BC9-4B82-A2DF-B46736F9BC10_jpeg.rf.23f06d37445ea7284577ad71f61447a0.txt  \n",
            "  inflating: dataset/train/labels/01DBCB8D-7BC9-4B82-A2DF-B46736F9BC10_jpeg.rf.36890f074a350f6f803ce293b8d8b63c.txt  \n",
            "  inflating: dataset/train/labels/020CA8B7-892B-492B-A054-31575B661539_jpeg.rf.39596f4ff4b1b18241669391fbf0547f.txt  \n",
            "  inflating: dataset/train/labels/020CA8B7-892B-492B-A054-31575B661539_jpeg.rf.7195d1095f65b04c234cc7a97487c1fa.txt  \n",
            "  inflating: dataset/train/labels/020CA8B7-892B-492B-A054-31575B661539_jpeg.rf.b7c11eced5e8ef4a24c71a4bfe7e78d6.txt  \n",
            "  inflating: dataset/train/labels/023DD2D5-9285-494E-9498-696F506A47C4_jpeg.rf.14c68d951555ca552f989ac71b9b8a72.txt  \n",
            "  inflating: dataset/train/labels/023DD2D5-9285-494E-9498-696F506A47C4_jpeg.rf.9e245b12accb340a7ac67a3ce11b309a.txt  \n",
            "  inflating: dataset/train/labels/023DD2D5-9285-494E-9498-696F506A47C4_jpeg.rf.e077a93923b2f5c6b63c25399fc814aa.txt  \n",
            "  inflating: dataset/train/labels/035277D1-49FD-4B79-B304-2E5792F46B63_jpeg.rf.9f35eba1dcc0c2d687e8f481da1f4c9d.txt  \n",
            " extracting: dataset/train/labels/035277D1-49FD-4B79-B304-2E5792F46B63_jpeg.rf.f277520593c03cd87f696aa8f36218fd.txt  \n",
            "  inflating: dataset/train/labels/035277D1-49FD-4B79-B304-2E5792F46B63_jpeg.rf.f30a8296d1a2eaa897ed54e61a8238d9.txt  \n",
            "  inflating: dataset/train/labels/038C8FD2-3AFD-4E99-A94B-575A7F72C9C9_jpeg.rf.3a9335d562e64dd0397cbfff5c2e9b0c.txt  \n",
            "  inflating: dataset/train/labels/038C8FD2-3AFD-4E99-A94B-575A7F72C9C9_jpeg.rf.4ecdc0ecd1d08ec42f588f30f026e247.txt  \n",
            "  inflating: dataset/train/labels/038C8FD2-3AFD-4E99-A94B-575A7F72C9C9_jpeg.rf.a48053cbfd2fedde98cb814d47349598.txt  \n",
            "  inflating: dataset/train/labels/051907F9-FE56-42D5-9502-C540BD38F666_jpeg.rf.08ac77e7b4f61ac127e0bd6bfc6f39c1.txt  \n",
            "  inflating: dataset/train/labels/051907F9-FE56-42D5-9502-C540BD38F666_jpeg.rf.583ab890c340f43c779d33f4adfab9ad.txt  \n",
            "  inflating: dataset/train/labels/051907F9-FE56-42D5-9502-C540BD38F666_jpeg.rf.c9f519e1898712596269cf7d9f5c1056.txt  \n",
            "  inflating: dataset/train/labels/05703C5F-FFB4-4DCB-A93D-6E3A1DDCB8F4_jpeg.rf.30d42e28484d365713b9110382653330.txt  \n",
            "  inflating: dataset/train/labels/05703C5F-FFB4-4DCB-A93D-6E3A1DDCB8F4_jpeg.rf.a6c618f24f8d65e76545fc3760afe378.txt  \n",
            "  inflating: dataset/train/labels/05703C5F-FFB4-4DCB-A93D-6E3A1DDCB8F4_jpeg.rf.d6dc14e8eea085bd109067df45757ead.txt  \n",
            "  inflating: dataset/train/labels/05BB38C6-D15E-4C85-A460-E6B3A0C9A5F8_jpeg.rf.5887bfda570c97093da8f0b59da1a706.txt  \n",
            "  inflating: dataset/train/labels/05BB38C6-D15E-4C85-A460-E6B3A0C9A5F8_jpeg.rf.befd2830bc836c5958c6be1eb0f85c90.txt  \n",
            "  inflating: dataset/train/labels/05BB38C6-D15E-4C85-A460-E6B3A0C9A5F8_jpeg.rf.c08838311d35fc045a1e00ab8adeacd1.txt  \n",
            "  inflating: dataset/train/labels/05F8A8F8-F506-4EAD-9A80-060DC31E3033_jpeg.rf.1f099f5837854a76178e357ace86070a.txt  \n",
            "  inflating: dataset/train/labels/05F8A8F8-F506-4EAD-9A80-060DC31E3033_jpeg.rf.bb9a05b95501c60026efdb41ba91cf30.txt  \n",
            "  inflating: dataset/train/labels/05F8A8F8-F506-4EAD-9A80-060DC31E3033_jpeg.rf.ca03c9569a3dd8e3429d1f65ecc884f8.txt  \n",
            "  inflating: dataset/train/labels/06626FF1-3536-4BCA-A3F4-A74F95389078_jpeg.rf.1317038624efe914908ad10f7cb10cf5.txt  \n",
            "  inflating: dataset/train/labels/06626FF1-3536-4BCA-A3F4-A74F95389078_jpeg.rf.21b5d492e9e301ad4a9fad8a1ef3760d.txt  \n",
            "  inflating: dataset/train/labels/06626FF1-3536-4BCA-A3F4-A74F95389078_jpeg.rf.6d48444fb764f6254df3997fb2b5240a.txt  \n",
            "  inflating: dataset/train/labels/068A0A32-FF65-4E75-8057-6609FB0D141B_jpeg.rf.7d0c832a783f9cfeb0c421c1ddc154f7.txt  \n",
            "  inflating: dataset/train/labels/068A0A32-FF65-4E75-8057-6609FB0D141B_jpeg.rf.d0edc84d649712d98b8d970700f894a9.txt  \n",
            "  inflating: dataset/train/labels/068A0A32-FF65-4E75-8057-6609FB0D141B_jpeg.rf.ee33f0b76fc6e81211fabcc8f532e69f.txt  \n",
            "  inflating: dataset/train/labels/06AAF86B-8FD4-4108-AFDF-8042F9275643_jpeg.rf.1569c3ff3f6887207107c9d96d0abf7b.txt  \n",
            "  inflating: dataset/train/labels/06AAF86B-8FD4-4108-AFDF-8042F9275643_jpeg.rf.c419553f623019e1e49d5ed68e6501c7.txt  \n",
            "  inflating: dataset/train/labels/06AAF86B-8FD4-4108-AFDF-8042F9275643_jpeg.rf.e80498dc8a9f8115ccbeebd0d84a900e.txt  \n",
            "  inflating: dataset/train/labels/07369B5F-1354-4DEB-B2EC-A3DE4036CB8F_jpeg.rf.5935f01b9b9586af1614401acb525243.txt  \n",
            "  inflating: dataset/train/labels/07369B5F-1354-4DEB-B2EC-A3DE4036CB8F_jpeg.rf.a50519293c56e5ddbbff8ad7aa606c25.txt  \n",
            "  inflating: dataset/train/labels/07369B5F-1354-4DEB-B2EC-A3DE4036CB8F_jpeg.rf.f4cb6a7280c959fa3002f7b857a5389c.txt  \n",
            "  inflating: dataset/train/labels/086482C6-4F97-479F-A500-3270D6FA4D2D_jpeg.rf.0d6e00459f2a2091e1d69a3483926027.txt  \n",
            "  inflating: dataset/train/labels/086482C6-4F97-479F-A500-3270D6FA4D2D_jpeg.rf.850e2b6db83942b1191c226eeb8cbada.txt  \n",
            "  inflating: dataset/train/labels/086482C6-4F97-479F-A500-3270D6FA4D2D_jpeg.rf.e25ebc58c5e7d754397bcca3d71af20c.txt  \n",
            "  inflating: dataset/train/labels/0967212C-C6FC-446C-BA08-182BB16789FD_jpeg.rf.0f245748c88863413debea54d1d43deb.txt  \n",
            "  inflating: dataset/train/labels/0967212C-C6FC-446C-BA08-182BB16789FD_jpeg.rf.1ff3737d3060863c8290f1976930d1d6.txt  \n",
            "  inflating: dataset/train/labels/0967212C-C6FC-446C-BA08-182BB16789FD_jpeg.rf.f96b70b46daba0b7a7b08963ac963b1b.txt  \n",
            "  inflating: dataset/train/labels/0A8BEBF3-1BDF-4AB0-8809-AA97F929EB4E_jpeg.rf.7dbe9437e110e669c51f9986a965454f.txt  \n",
            "  inflating: dataset/train/labels/0A8BEBF3-1BDF-4AB0-8809-AA97F929EB4E_jpeg.rf.aa2645feaac73fdbfa3c13c928d13a8d.txt  \n",
            "  inflating: dataset/train/labels/0A8BEBF3-1BDF-4AB0-8809-AA97F929EB4E_jpeg.rf.cf91ea86cf2fb8785b495c8acc3d9b5f.txt  \n",
            "  inflating: dataset/train/labels/0B26D927-3AEF-4702-922D-F7B3FD497D31_jpeg.rf.77f750ab4b4c660077a39fbf5f5e94d0.txt  \n",
            "  inflating: dataset/train/labels/0B26D927-3AEF-4702-922D-F7B3FD497D31_jpeg.rf.9290afe98a0110fde662f86f116b7698.txt  \n",
            "  inflating: dataset/train/labels/0B26D927-3AEF-4702-922D-F7B3FD497D31_jpeg.rf.bfb94bf8fb18076a48a447f92e8aee6b.txt  \n",
            "  inflating: dataset/train/labels/0B877B19-CB18-4505-BEFE-4335228AAA8D_jpeg.rf.263065e995a51a503f2ae1b2c5107414.txt  \n",
            "  inflating: dataset/train/labels/0B877B19-CB18-4505-BEFE-4335228AAA8D_jpeg.rf.310e1a70a917bb13edfd1790a8a99381.txt  \n",
            "  inflating: dataset/train/labels/0B877B19-CB18-4505-BEFE-4335228AAA8D_jpeg.rf.7275a9c74691cedce8e4296d3fbe4fa3.txt  \n",
            "  inflating: dataset/train/labels/0BBEE74B-541F-4EAC-9C18-E5B362C103DF_jpeg.rf.b90c48fcf78f9c430a067ede1ed7e5a8.txt  \n",
            "  inflating: dataset/train/labels/0BBEE74B-541F-4EAC-9C18-E5B362C103DF_jpeg.rf.c23890f9b142bb1ee97688614a8ce266.txt  \n",
            "  inflating: dataset/train/labels/0BBEE74B-541F-4EAC-9C18-E5B362C103DF_jpeg.rf.d255ebef854c21563400bdab95095c1d.txt  \n",
            "  inflating: dataset/train/labels/0CEFAFDB-7D12-46D1-905F-52795AEE9550_jpeg.rf.11cbc6d2b7c59f28dc2709c1685ff490.txt  \n",
            "  inflating: dataset/train/labels/0CEFAFDB-7D12-46D1-905F-52795AEE9550_jpeg.rf.22f32a8471606489962968e6d384fd4f.txt  \n",
            "  inflating: dataset/train/labels/0CEFAFDB-7D12-46D1-905F-52795AEE9550_jpeg.rf.3543c3e11980515c788bf0b65b5886df.txt  \n",
            "  inflating: dataset/train/labels/0D462910-DB2E-42D0-BF51-1C288556D274_jpeg.rf.26292daf6aa04a5529e30194d1fda7e4.txt  \n",
            "  inflating: dataset/train/labels/0D462910-DB2E-42D0-BF51-1C288556D274_jpeg.rf.42308d0e98d21057e341c6e8e5563f82.txt  \n",
            "  inflating: dataset/train/labels/0D462910-DB2E-42D0-BF51-1C288556D274_jpeg.rf.9086303df9f64ef08433fc2e75239752.txt  \n",
            "  inflating: dataset/train/labels/0D8A7934-EDF2-4815-87A8-E93FD22F0834_jpeg.rf.4c4d7ea122294f0f3a8ed4e48745b6e5.txt  \n",
            "  inflating: dataset/train/labels/0D8A7934-EDF2-4815-87A8-E93FD22F0834_jpeg.rf.5606c9e2dc34d0af8d87f4dc21c61ad1.txt  \n",
            "  inflating: dataset/train/labels/0D8A7934-EDF2-4815-87A8-E93FD22F0834_jpeg.rf.674dfdfd5f598b09599b6b90e09a31e4.txt  \n",
            "  inflating: dataset/train/labels/0DA6FEFF-7E3A-4456-BC1F-E7E551E5935E_jpeg.rf.7e61e96f990c85202dc5bcf2e8ba3b72.txt  \n",
            "  inflating: dataset/train/labels/0DA6FEFF-7E3A-4456-BC1F-E7E551E5935E_jpeg.rf.92e8dc04eba39abce56792f0e4487696.txt  \n",
            "  inflating: dataset/train/labels/0DA6FEFF-7E3A-4456-BC1F-E7E551E5935E_jpeg.rf.fd840c74d5ec743d860a1f26efa1047f.txt  \n",
            "  inflating: dataset/train/labels/0EE56446-5E11-4F5C-808B-74E2E90429E3_jpeg.rf.66ae64222f053d3223249b48eab70e2e.txt  \n",
            "  inflating: dataset/train/labels/0EE56446-5E11-4F5C-808B-74E2E90429E3_jpeg.rf.aa141975487c1a21e094af5e7033eaca.txt  \n",
            "  inflating: dataset/train/labels/0EE56446-5E11-4F5C-808B-74E2E90429E3_jpeg.rf.d332b37cfa2ef9085b192504ce03031c.txt  \n",
            "  inflating: dataset/train/labels/0F431231-C370-4B7C-931D-06FEF48164EB_jpeg.rf.31ca05e0b935ec2bebac8896be428cbe.txt  \n",
            "  inflating: dataset/train/labels/0F431231-C370-4B7C-931D-06FEF48164EB_jpeg.rf.33c3af5ca1bdae563123758d1a73915e.txt  \n",
            "  inflating: dataset/train/labels/0F431231-C370-4B7C-931D-06FEF48164EB_jpeg.rf.899fdf16457e6374fc22604fe0c7f187.txt  \n",
            "  inflating: dataset/train/labels/0F85A433-9CE8-4006-A070-8E8940CF4D44_jpeg.rf.2fec493ac7af9e7c8d710e956255df16.txt  \n",
            "  inflating: dataset/train/labels/0F85A433-9CE8-4006-A070-8E8940CF4D44_jpeg.rf.7ad560d48667cedf038d4a47b3bec12c.txt  \n",
            "  inflating: dataset/train/labels/0F85A433-9CE8-4006-A070-8E8940CF4D44_jpeg.rf.fcc57922b1788dbdf208cf9930ed15c4.txt  \n",
            "  inflating: dataset/train/labels/0FB01943-6F28-42AC-915F-ABBEF862F513_1_102_o_jpeg.rf.3e8a2e0dd0f778b521ee894d3240b6b9.txt  \n",
            "  inflating: dataset/train/labels/0FB01943-6F28-42AC-915F-ABBEF862F513_1_102_o_jpeg.rf.a7d80eff3590c8f9a07587d97de59109.txt  \n",
            "  inflating: dataset/train/labels/0FB01943-6F28-42AC-915F-ABBEF862F513_1_102_o_jpeg.rf.f57ac5a75b0b6b4594ab27d2551c6f6d.txt  \n",
            "  inflating: dataset/train/labels/1073EFFA-C0DC-4947-89C8-4668B5BD712C_jpeg.rf.6e814e42c1c8a98c34c26d332c80de23.txt  \n",
            "  inflating: dataset/train/labels/1073EFFA-C0DC-4947-89C8-4668B5BD712C_jpeg.rf.b12ac8baa06e6fe4abf471c7623f3038.txt  \n",
            "  inflating: dataset/train/labels/1073EFFA-C0DC-4947-89C8-4668B5BD712C_jpeg.rf.c6c0abc5edc3d33c743a8c20dae09426.txt  \n",
            "  inflating: dataset/train/labels/115185E0-D3DA-44A2-9442-0D0FAC8440FA_jpeg.rf.1a6f5e73c415e3d81be432bb50c96af4.txt  \n",
            "  inflating: dataset/train/labels/115185E0-D3DA-44A2-9442-0D0FAC8440FA_jpeg.rf.acec57435c0d2ecad282435d6f0c3043.txt  \n",
            "  inflating: dataset/train/labels/115185E0-D3DA-44A2-9442-0D0FAC8440FA_jpeg.rf.cbfb9774605fab7b9878dea3dd703f33.txt  \n",
            "  inflating: dataset/train/labels/12686BEA-D1F4-4E1B-931B-2472C55812E1_jpeg.rf.035c386676b49642c7a77394ced3cae2.txt  \n",
            "  inflating: dataset/train/labels/12686BEA-D1F4-4E1B-931B-2472C55812E1_jpeg.rf.753141ee8c43bdb9991fe103ff83fdf6.txt  \n",
            "  inflating: dataset/train/labels/12686BEA-D1F4-4E1B-931B-2472C55812E1_jpeg.rf.c8a4697571dade6be517de28f4e19fb0.txt  \n",
            "  inflating: dataset/train/labels/128B76D5-EE4D-4AA7-996B-59547ACFC1F7_jpeg.rf.b04c9aac0cfd2b6e48e747e267a6fabf.txt  \n",
            "  inflating: dataset/train/labels/128B76D5-EE4D-4AA7-996B-59547ACFC1F7_jpeg.rf.bfe5cc8d5fcdcf69f581301f9fe6cf32.txt  \n",
            "  inflating: dataset/train/labels/128B76D5-EE4D-4AA7-996B-59547ACFC1F7_jpeg.rf.f0c1a56c072c4de50270711e86957811.txt  \n",
            "  inflating: dataset/train/labels/128F6C9B-E27B-4E8C-90D7-677645E95EBA_jpeg.rf.0280e30c255e5dadf349a984b7771948.txt  \n",
            "  inflating: dataset/train/labels/128F6C9B-E27B-4E8C-90D7-677645E95EBA_jpeg.rf.386fdfedb13fdf950e31802d0d9e1efe.txt  \n",
            "  inflating: dataset/train/labels/128F6C9B-E27B-4E8C-90D7-677645E95EBA_jpeg.rf.763f3fa8a447f46adab61baa1d011280.txt  \n",
            "  inflating: dataset/train/labels/1384EE84-E10B-4CDE-ABC5-31FC98FE9C7B_jpeg.rf.2376f1de6c87b53b9d38f945f4388102.txt  \n",
            "  inflating: dataset/train/labels/1384EE84-E10B-4CDE-ABC5-31FC98FE9C7B_jpeg.rf.3f62d61b8a0c4427a62e8f80fc4c0dc4.txt  \n",
            "  inflating: dataset/train/labels/1384EE84-E10B-4CDE-ABC5-31FC98FE9C7B_jpeg.rf.a5e552f04415afae8be4a4865eeca05c.txt  \n",
            "  inflating: dataset/train/labels/13C641AD-98ED-41BB-8FB5-5D67ECBF4C72_jpeg.rf.0ee35bb1b23d0bb2f4d57cd126512258.txt  \n",
            "  inflating: dataset/train/labels/13C641AD-98ED-41BB-8FB5-5D67ECBF4C72_jpeg.rf.332669ec48d95d13e6cb965129a377ca.txt  \n",
            "  inflating: dataset/train/labels/13C641AD-98ED-41BB-8FB5-5D67ECBF4C72_jpeg.rf.67a97c5fec27718fe0e7ed99c2ef7462.txt  \n",
            "  inflating: dataset/train/labels/13E03B05-2427-4BC3-AD40-5BD23D48C5C3_jpeg.rf.96355ef6cab16e2a0cc35d1c16d0b18f.txt  \n",
            "  inflating: dataset/train/labels/13E03B05-2427-4BC3-AD40-5BD23D48C5C3_jpeg.rf.9c5fc3832e08991297e8195d493d1bb3.txt  \n",
            "  inflating: dataset/train/labels/13E03B05-2427-4BC3-AD40-5BD23D48C5C3_jpeg.rf.fece9d86888ba119dfe14adcc0e47d0d.txt  \n",
            "  inflating: dataset/train/labels/1684D8D5-8979-4B4A-9EE5-0A2A0DE337BC_jpeg.rf.bcf22b732dd46d82189fa849e2dab041.txt  \n",
            "  inflating: dataset/train/labels/1684D8D5-8979-4B4A-9EE5-0A2A0DE337BC_jpeg.rf.c2462adffa8efb2e38d8557388612e14.txt  \n",
            "  inflating: dataset/train/labels/1684D8D5-8979-4B4A-9EE5-0A2A0DE337BC_jpeg.rf.c5fbaf1f6ba43f3e95820d19e2e611ab.txt  \n",
            "  inflating: dataset/train/labels/16943899-2AA3-4ECD-A16C-78956F718891_jpeg.rf.18116de66729d1465c17f1e12b3642e9.txt  \n",
            "  inflating: dataset/train/labels/16943899-2AA3-4ECD-A16C-78956F718891_jpeg.rf.520167baa87451f49cdd957e8cddfbe6.txt  \n",
            "  inflating: dataset/train/labels/16943899-2AA3-4ECD-A16C-78956F718891_jpeg.rf.fb4694ecf5530d030741e900061f2358.txt  \n",
            "  inflating: dataset/train/labels/173E5DFA-0A5D-4F28-AED6-D5F71692603F_jpeg.rf.13c816ea3752a5694305d19dbd162810.txt  \n",
            "  inflating: dataset/train/labels/173E5DFA-0A5D-4F28-AED6-D5F71692603F_jpeg.rf.29addb040d18dc8d738651bd7e8714fa.txt  \n",
            "  inflating: dataset/train/labels/173E5DFA-0A5D-4F28-AED6-D5F71692603F_jpeg.rf.f1676248e36d8b728817d8653f2e7d8e.txt  \n",
            "  inflating: dataset/train/labels/17A15164-46E7-459D-B5D6-48DB3233F4CB_jpeg.rf.5fa50740fd17fdeef8f53fdfc0f3eb99.txt  \n",
            "  inflating: dataset/train/labels/17A15164-46E7-459D-B5D6-48DB3233F4CB_jpeg.rf.63fcdabc7f7f730b2c741746ba1a5932.txt  \n",
            "  inflating: dataset/train/labels/17A15164-46E7-459D-B5D6-48DB3233F4CB_jpeg.rf.a41f291697a978bbadfaf4648c03a396.txt  \n",
            "  inflating: dataset/train/labels/188CC42B-6B2C-4266-89B6-DCC18C073963_jpeg.rf.0850bfffc83f36c110b80463e977f24a.txt  \n",
            "  inflating: dataset/train/labels/188CC42B-6B2C-4266-89B6-DCC18C073963_jpeg.rf.355ffc8662a9c399bf97e483c01f2fa1.txt  \n",
            "  inflating: dataset/train/labels/188CC42B-6B2C-4266-89B6-DCC18C073963_jpeg.rf.aec4befbfac7aeea5141dea928b09e4c.txt  \n",
            "  inflating: dataset/train/labels/1898765E-2D63-4A43-9597-D03994935144_jpeg.rf.4518c779f083427a72b37eb24c2f56b6.txt  \n",
            "  inflating: dataset/train/labels/1898765E-2D63-4A43-9597-D03994935144_jpeg.rf.4d140770a0e1c22df0d32ed26e938707.txt  \n",
            "  inflating: dataset/train/labels/1898765E-2D63-4A43-9597-D03994935144_jpeg.rf.796748f62d949e8cc04051769765ba04.txt  \n",
            "  inflating: dataset/train/labels/19673264-216F-47E8-A19F-CB0F6171DC1A_jpeg.rf.1e2165a6bf69b9876ff62861e5456797.txt  \n",
            "  inflating: dataset/train/labels/19673264-216F-47E8-A19F-CB0F6171DC1A_jpeg.rf.dd787f5e20bbcbdd80f529088d97ca25.txt  \n",
            "  inflating: dataset/train/labels/19673264-216F-47E8-A19F-CB0F6171DC1A_jpeg.rf.e7a508abd608d361e647f2737de7a336.txt  \n",
            "  inflating: dataset/train/labels/199E8FFF-3464-4FC0-A6A9-D0E9CE708545_jpeg.rf.04c1885df71f355ce43f3e9b11bae214.txt  \n",
            "  inflating: dataset/train/labels/199E8FFF-3464-4FC0-A6A9-D0E9CE708545_jpeg.rf.4a727dc2c73bcf329b8df8f99407ea95.txt  \n",
            "  inflating: dataset/train/labels/199E8FFF-3464-4FC0-A6A9-D0E9CE708545_jpeg.rf.bfd1ff4de5aa2d1622f51c090163505c.txt  \n",
            "  inflating: dataset/train/labels/1BDDE8A1-66B7-450E-84BB-EB3B211C3DDB_jpeg.rf.9145d99731c0cd821c3374db5df83a7b.txt  \n",
            "  inflating: dataset/train/labels/1BDDE8A1-66B7-450E-84BB-EB3B211C3DDB_jpeg.rf.d857e61759575ccc48ed9ae14b9c9e2c.txt  \n",
            "  inflating: dataset/train/labels/1BDDE8A1-66B7-450E-84BB-EB3B211C3DDB_jpeg.rf.ecbcf29a6ce8cc62da40652f2d9fcee7.txt  \n",
            "  inflating: dataset/train/labels/1C117695-7E6F-41BC-B9B8-2A99B2EA8EAA_jpeg.rf.16d09fc5a20d8cf959fbe33d4065a42c.txt  \n",
            "  inflating: dataset/train/labels/1C117695-7E6F-41BC-B9B8-2A99B2EA8EAA_jpeg.rf.47185ab4b9fd7833a8240d490367ff05.txt  \n",
            "  inflating: dataset/train/labels/1C117695-7E6F-41BC-B9B8-2A99B2EA8EAA_jpeg.rf.fe3587d7c8275e9940af0df48eea67a0.txt  \n",
            "  inflating: dataset/train/labels/1DE4B4E7-2D8F-4548-AEEA-E1BAC0757104_jpeg.rf.ac87d9ac3ab76fe945d18231d8b87070.txt  \n",
            "  inflating: dataset/train/labels/1DE4B4E7-2D8F-4548-AEEA-E1BAC0757104_jpeg.rf.bd1894fb328ee9fe3098a3dbf78e8e89.txt  \n",
            "  inflating: dataset/train/labels/1DE4B4E7-2D8F-4548-AEEA-E1BAC0757104_jpeg.rf.e3bd569f68a6d9ccc9ffd4294b722018.txt  \n",
            "  inflating: dataset/train/labels/1DEACDEC-C072-4F12-AADD-AA48DE1B90CB_jpeg.rf.3f8ae9e2e80bc98721cb28abbc132e7e.txt  \n",
            "  inflating: dataset/train/labels/1DEACDEC-C072-4F12-AADD-AA48DE1B90CB_jpeg.rf.cec5a546cf267f4461729268f37992d4.txt  \n",
            "  inflating: dataset/train/labels/1DEACDEC-C072-4F12-AADD-AA48DE1B90CB_jpeg.rf.f0baef0477635cca9a6f63792602a533.txt  \n",
            "  inflating: dataset/train/labels/1E341C5D-0810-405D-8ED0-AA9156BBAC5F_jpeg.rf.1a688b27b2882bd1b7fd26c95ced0704.txt  \n",
            "  inflating: dataset/train/labels/1E341C5D-0810-405D-8ED0-AA9156BBAC5F_jpeg.rf.24014b5508412026cd89c5aa73e51045.txt  \n",
            "  inflating: dataset/train/labels/1E341C5D-0810-405D-8ED0-AA9156BBAC5F_jpeg.rf.89740fb8c878074bf98edd9a62852a60.txt  \n",
            "  inflating: dataset/train/labels/1EBFBCD4-70CC-4896-87C4-0C7213A8252E_jpeg.rf.884f31a07971b4fca9f29e90885b8322.txt  \n",
            "  inflating: dataset/train/labels/1EBFBCD4-70CC-4896-87C4-0C7213A8252E_jpeg.rf.c43cc558611ce89d86a86992fff71988.txt  \n",
            "  inflating: dataset/train/labels/1EBFBCD4-70CC-4896-87C4-0C7213A8252E_jpeg.rf.d9cc992745123619de402ca340e22c72.txt  \n",
            "  inflating: dataset/train/labels/1ED832F5-2B81-4105-B453-73501B683914_jpeg.rf.70cacc3261a3e599f96d412b8b915afa.txt  \n",
            "  inflating: dataset/train/labels/1ED832F5-2B81-4105-B453-73501B683914_jpeg.rf.8089bf72c9b8db93a937573d193fb743.txt  \n",
            "  inflating: dataset/train/labels/1ED832F5-2B81-4105-B453-73501B683914_jpeg.rf.b219e55e8ce218bd9d490ee07b87d8ed.txt  \n",
            "  inflating: dataset/train/labels/1EE5BF9C-4BD6-47BD-8CBF-BEB91AF7506B_jpeg.rf.528226dabf5871b25d240f45705872b6.txt  \n",
            "  inflating: dataset/train/labels/1EE5BF9C-4BD6-47BD-8CBF-BEB91AF7506B_jpeg.rf.b3608d4056c78b3e007e40477427e622.txt  \n",
            "  inflating: dataset/train/labels/1EE5BF9C-4BD6-47BD-8CBF-BEB91AF7506B_jpeg.rf.b5a5924aa935db751fda03a2ca542425.txt  \n",
            "  inflating: dataset/train/labels/1FA475DF-DEC8-46F5-8DA6-70BA59EEC155_jpeg.rf.12bdb07c928621ddfeb8c65923957ab5.txt  \n",
            "  inflating: dataset/train/labels/1FA475DF-DEC8-46F5-8DA6-70BA59EEC155_jpeg.rf.36568fe285eafbd5e4130c416c7fdc6e.txt  \n",
            "  inflating: dataset/train/labels/1FA475DF-DEC8-46F5-8DA6-70BA59EEC155_jpeg.rf.98e86a8cc34280ff2309f662b30fab06.txt  \n",
            "  inflating: dataset/train/labels/1FA76CFB-0D5D-407D-8C35-53E110CA7BE3_jpeg.rf.921560ab6e2f092ac456880c5b9313cb.txt  \n",
            "  inflating: dataset/train/labels/1FA76CFB-0D5D-407D-8C35-53E110CA7BE3_jpeg.rf.b94804a4c9bb72898b511bd3358fdb5b.txt  \n",
            "  inflating: dataset/train/labels/1FA76CFB-0D5D-407D-8C35-53E110CA7BE3_jpeg.rf.e0e2dac6d3ba5ce4d326baf00f23e1c9.txt  \n",
            "  inflating: dataset/train/labels/1_jpeg.rf.4c0ae265d1e7f12e4ce598e4be8e4ccf.txt  \n",
            "  inflating: dataset/train/labels/1_jpeg.rf.b0612b9812b191ee9c2806eb25d358d1.txt  \n",
            "  inflating: dataset/train/labels/1_jpeg.rf.ec122d161e1ef53f5a684852f2c3db7e.txt  \n",
            " extracting: dataset/train/labels/205A3D56-9F15-4477-AF2E-D7C449179B8A_jpeg.rf.290cdcfbca07568abfedc630e9d9252d.txt  \n",
            "  inflating: dataset/train/labels/205A3D56-9F15-4477-AF2E-D7C449179B8A_jpeg.rf.677f445afd2a40846b43a334b82cf1c5.txt  \n",
            "  inflating: dataset/train/labels/205A3D56-9F15-4477-AF2E-D7C449179B8A_jpeg.rf.cedad302eb7cfcbdefcec0cd61761711.txt  \n",
            "  inflating: dataset/train/labels/220C1ECC-AA78-4681-A236-883C1953C4CA_jpeg.rf.4bc7ef2643e05ad7691977e30453cdb2.txt  \n",
            "  inflating: dataset/train/labels/220C1ECC-AA78-4681-A236-883C1953C4CA_jpeg.rf.4ce1bf6ba97a6482229df006fb73b99c.txt  \n",
            "  inflating: dataset/train/labels/220C1ECC-AA78-4681-A236-883C1953C4CA_jpeg.rf.ec30a4b28200e7272f83b8103de053c4.txt  \n",
            "  inflating: dataset/train/labels/2247A08C-0ABC-4863-8201-56750780DBF9_jpeg.rf.9a89f864e58f69037a1233abbace5a99.txt  \n",
            "  inflating: dataset/train/labels/2247A08C-0ABC-4863-8201-56750780DBF9_jpeg.rf.a8b82e39a9e80de3a00fd03f1b64bd20.txt  \n",
            "  inflating: dataset/train/labels/2247A08C-0ABC-4863-8201-56750780DBF9_jpeg.rf.e26e62a515e8f19d32ab1a84c20e513f.txt  \n",
            "  inflating: dataset/train/labels/22F52CFA-771C-45EE-9461-DCFFDC591EA2_jpeg.rf.36cda59c66b157167263ae43f7b55807.txt  \n",
            "  inflating: dataset/train/labels/22F52CFA-771C-45EE-9461-DCFFDC591EA2_jpeg.rf.850746722d0def54e818b42e4db829c3.txt  \n",
            "  inflating: dataset/train/labels/22F52CFA-771C-45EE-9461-DCFFDC591EA2_jpeg.rf.cb701f2981370035b5e6c7c962882e3c.txt  \n",
            "  inflating: dataset/train/labels/260AF771-8063-4DAC-8029-A8DDF29C2645_jpeg.rf.41af710ed241da69314752af9ff8e64e.txt  \n",
            "  inflating: dataset/train/labels/260AF771-8063-4DAC-8029-A8DDF29C2645_jpeg.rf.432843e04ff6fb35d52cea7c55e60fa2.txt  \n",
            "  inflating: dataset/train/labels/260AF771-8063-4DAC-8029-A8DDF29C2645_jpeg.rf.cfa7887be7c283b704dfa4e17a72596e.txt  \n",
            "  inflating: dataset/train/labels/263A1412-F43A-453A-8BCB-BD25076C2EEF_jpeg.rf.4bcf16fa302957b58d5c95e983fca99b.txt  \n",
            "  inflating: dataset/train/labels/263A1412-F43A-453A-8BCB-BD25076C2EEF_jpeg.rf.84976a5ab8e1d1ceb1bbfd591f1e6b71.txt  \n",
            " extracting: dataset/train/labels/263A1412-F43A-453A-8BCB-BD25076C2EEF_jpeg.rf.c8ea181d0692295f08c60af0dd56629e.txt  \n",
            "  inflating: dataset/train/labels/26500A0D-727A-41E6-A60A-979EC69E1DB5_jpeg.rf.089a90c005ca317e51d0c502d5a2faea.txt  \n",
            "  inflating: dataset/train/labels/26500A0D-727A-41E6-A60A-979EC69E1DB5_jpeg.rf.0cca927eb74950e72a90feb43657baa5.txt  \n",
            "  inflating: dataset/train/labels/26500A0D-727A-41E6-A60A-979EC69E1DB5_jpeg.rf.dc4aa961c995f91d5f9b57e2adda8eb5.txt  \n",
            "  inflating: dataset/train/labels/2666863A-A698-4284-A926-AC591B74FBF1_jpeg.rf.3f1aa5b6ba857044d0de24dd7d94ecf4.txt  \n",
            "  inflating: dataset/train/labels/2666863A-A698-4284-A926-AC591B74FBF1_jpeg.rf.708e228f12ff553ade453bc186dc7317.txt  \n",
            "  inflating: dataset/train/labels/2666863A-A698-4284-A926-AC591B74FBF1_jpeg.rf.8e4177ac90ac1f4fe0d2788a65feee41.txt  \n",
            "  inflating: dataset/train/labels/26B3A105-29B0-45B3-913F-D6D3100F4277_jpeg.rf.058a317ffdc6c7d3ac6ba4b4ab4fe006.txt  \n",
            "  inflating: dataset/train/labels/26B3A105-29B0-45B3-913F-D6D3100F4277_jpeg.rf.47bc624c6b733bf584871f5b9a9854f1.txt  \n",
            "  inflating: dataset/train/labels/26B3A105-29B0-45B3-913F-D6D3100F4277_jpeg.rf.fef93787779a51457d36a64988679437.txt  \n",
            "  inflating: dataset/train/labels/26B91DFA-0643-4083-A28C-0B70999B1CC6_jpeg.rf.5f01fb2dde6d66a2d586f048559b94a5.txt  \n",
            "  inflating: dataset/train/labels/26B91DFA-0643-4083-A28C-0B70999B1CC6_jpeg.rf.85d145174f98fdc3ebc292351bbff61a.txt  \n",
            "  inflating: dataset/train/labels/26B91DFA-0643-4083-A28C-0B70999B1CC6_jpeg.rf.cba6c22a65553c376d8fd95bbcced543.txt  \n",
            "  inflating: dataset/train/labels/26F7E198-71CE-473D-8BF2-F4C49E3D8A75_jpeg.rf.50636f92f8a449bf0e00b31d877486e3.txt  \n",
            "  inflating: dataset/train/labels/26F7E198-71CE-473D-8BF2-F4C49E3D8A75_jpeg.rf.c3738ec846199c4d9331367fdba9ab47.txt  \n",
            "  inflating: dataset/train/labels/26F7E198-71CE-473D-8BF2-F4C49E3D8A75_jpeg.rf.efd67b08a1d6f7f91bf1b4a15cf0accd.txt  \n",
            "  inflating: dataset/train/labels/270499B2-EED5-4B99-854A-834201C7171E_jpeg.rf.035916c7a1339adde4aaaaa005e68211.txt  \n",
            "  inflating: dataset/train/labels/270499B2-EED5-4B99-854A-834201C7171E_jpeg.rf.3026bad034b2895e06305d081fa69a18.txt  \n",
            "  inflating: dataset/train/labels/270499B2-EED5-4B99-854A-834201C7171E_jpeg.rf.47296ab99779b3da4846cf2e17c8f8df.txt  \n",
            "  inflating: dataset/train/labels/285CFD7E-16F8-463A-BF41-4EA2F6450073_jpeg.rf.406d54169a4f3d017a0fcf7501248b04.txt  \n",
            "  inflating: dataset/train/labels/285CFD7E-16F8-463A-BF41-4EA2F6450073_jpeg.rf.5560ad0c98263a08aa0070bf66d3f3b1.txt  \n",
            "  inflating: dataset/train/labels/285CFD7E-16F8-463A-BF41-4EA2F6450073_jpeg.rf.c94c10206b2ad18f9e379b1b5fe64e0c.txt  \n",
            "  inflating: dataset/train/labels/2948EC4B-EEB7-4B56-8C31-7027D62DC95C_jpeg.rf.1177e4b2a0a64c898cb41663abf68663.txt  \n",
            "  inflating: dataset/train/labels/2948EC4B-EEB7-4B56-8C31-7027D62DC95C_jpeg.rf.1ea65ffab93f068da0c6b3a557ce69de.txt  \n",
            "  inflating: dataset/train/labels/2948EC4B-EEB7-4B56-8C31-7027D62DC95C_jpeg.rf.37bc48a7063959ef8b34ca906685bf5c.txt  \n",
            "  inflating: dataset/train/labels/298D2FC4-8943-4DEA-A579-93442753486F_jpeg.rf.945ca381ff0eadf37ddc6d7fc46a9edc.txt  \n",
            "  inflating: dataset/train/labels/298D2FC4-8943-4DEA-A579-93442753486F_jpeg.rf.955a3a4218267861f42237f26b0d162d.txt  \n",
            "  inflating: dataset/train/labels/298D2FC4-8943-4DEA-A579-93442753486F_jpeg.rf.f7d9d3d897e1ab8c16c279ea209264b2.txt  \n",
            "  inflating: dataset/train/labels/2ADF9EC3-62EA-4A9D-A743-2F37B95AC33F_jpeg.rf.3808a683ff48007e3c1f97c5ee97c86d.txt  \n",
            "  inflating: dataset/train/labels/2ADF9EC3-62EA-4A9D-A743-2F37B95AC33F_jpeg.rf.67d6be1ca758da116d978c00743f5fbc.txt  \n",
            "  inflating: dataset/train/labels/2ADF9EC3-62EA-4A9D-A743-2F37B95AC33F_jpeg.rf.bb78d89eefd7cdd85750696d964e99af.txt  \n",
            "  inflating: dataset/train/labels/2BA043EA-DEC8-42D9-B756-5C60A1C301A7_jpeg.rf.0c89358a046f6018a116b9853243a7c0.txt  \n",
            "  inflating: dataset/train/labels/2BA043EA-DEC8-42D9-B756-5C60A1C301A7_jpeg.rf.8d2e53e3d417ccee30a310e26b2436b2.txt  \n",
            "  inflating: dataset/train/labels/2BA043EA-DEC8-42D9-B756-5C60A1C301A7_jpeg.rf.92ad192d7a0b1ceeb7b43ad8e9bb14b2.txt  \n",
            "  inflating: dataset/train/labels/2C1F3119-ECFF-4E74-96AC-07F3497E15DB_jpeg.rf.317bd0bf8498df5af194addd221a649b.txt  \n",
            "  inflating: dataset/train/labels/2C1F3119-ECFF-4E74-96AC-07F3497E15DB_jpeg.rf.3fbc5ab5f3dbb3000205a90b8dd65e0d.txt  \n",
            "  inflating: dataset/train/labels/2C1F3119-ECFF-4E74-96AC-07F3497E15DB_jpeg.rf.8e0849a1bdad51acb633ee37ab5946fb.txt  \n",
            "  inflating: dataset/train/labels/2CCDA652-14DA-4C30-8DFD-65119E6607E3_jpeg.rf.446e2f8d15897ae7b68e8fd93253559a.txt  \n",
            "  inflating: dataset/train/labels/2CCDA652-14DA-4C30-8DFD-65119E6607E3_jpeg.rf.98ce1ea3befacf6f3888e7dcb13616bd.txt  \n",
            "  inflating: dataset/train/labels/2CCDA652-14DA-4C30-8DFD-65119E6607E3_jpeg.rf.c235b8772bf56ce5a98d0cc75ac9a060.txt  \n",
            "  inflating: dataset/train/labels/2DE21995-171D-450E-8CC4-866A12954C91_jpeg.rf.5afc497a3dfca1c74a85f1629dc7f980.txt  \n",
            "  inflating: dataset/train/labels/2DE21995-171D-450E-8CC4-866A12954C91_jpeg.rf.859643c734509655e8a9cfd99e92a163.txt  \n",
            "  inflating: dataset/train/labels/2DE21995-171D-450E-8CC4-866A12954C91_jpeg.rf.a6723356879460b33faa839268c72b96.txt  \n",
            "  inflating: dataset/train/labels/2E282108-A428-4ADB-882F-577881D7EF9B_jpeg.rf.29c8bf61ea6548e37a3a60bd6c76aa09.txt  \n",
            "  inflating: dataset/train/labels/2E282108-A428-4ADB-882F-577881D7EF9B_jpeg.rf.eead3e1f4d7f80cc504c9dfcf4c4566c.txt  \n",
            "  inflating: dataset/train/labels/2E282108-A428-4ADB-882F-577881D7EF9B_jpeg.rf.f0395c637fc9eceacf1dc78c97f3f400.txt  \n",
            "  inflating: dataset/train/labels/2E8A8D42-307A-441B-9E25-B72509E4CD68_jpeg.rf.23645456cca197a4eaf100553ca4a202.txt  \n",
            "  inflating: dataset/train/labels/2E8A8D42-307A-441B-9E25-B72509E4CD68_jpeg.rf.5e3b1464996811e42ac007b37399b005.txt  \n",
            "  inflating: dataset/train/labels/2E8A8D42-307A-441B-9E25-B72509E4CD68_jpeg.rf.74ae624b70a93bc2f47fd2e094f04b5a.txt  \n",
            "  inflating: dataset/train/labels/2E92F1D5-7A21-4030-9512-5D7912CF267C_jpeg.rf.0df146cbd50804bb4f558bf7cb2b1fec.txt  \n",
            "  inflating: dataset/train/labels/2E92F1D5-7A21-4030-9512-5D7912CF267C_jpeg.rf.6b030800c088dc2a3129c5a0f0e008e2.txt  \n",
            "  inflating: dataset/train/labels/2E92F1D5-7A21-4030-9512-5D7912CF267C_jpeg.rf.e69d277471a4530d99ab56b8c692e0a6.txt  \n",
            "  inflating: dataset/train/labels/2F1E2C11-9C23-40C3-B845-85905BCCB2C7_jpeg.rf.61784381e958567d049a581e0d35a8e8.txt  \n",
            "  inflating: dataset/train/labels/2F1E2C11-9C23-40C3-B845-85905BCCB2C7_jpeg.rf.9085638350d0f4b64b34ed95503d6991.txt  \n",
            "  inflating: dataset/train/labels/2F1E2C11-9C23-40C3-B845-85905BCCB2C7_jpeg.rf.e630f772887b2187412de89b72b9c4a3.txt  \n",
            "  inflating: dataset/train/labels/2F7B2351-0E91-4B71-B004-C012E0B40148_jpeg.rf.602bde090d1aedf634097bdacc66fc7b.txt  \n",
            "  inflating: dataset/train/labels/2F7B2351-0E91-4B71-B004-C012E0B40148_jpeg.rf.7ce6d1febd9e3d2304a5cf0f437dc0bc.txt  \n",
            "  inflating: dataset/train/labels/2F7B2351-0E91-4B71-B004-C012E0B40148_jpeg.rf.fcae8afb68278b9b7d48e25f359797b1.txt  \n",
            "  inflating: dataset/train/labels/2F962B0C-BD9C-4557-8BAC-5AF1583E49EF_jpeg.rf.8b8e1b9307f5867eee2a993bf5dae7fb.txt  \n",
            "  inflating: dataset/train/labels/2F962B0C-BD9C-4557-8BAC-5AF1583E49EF_jpeg.rf.90155ae1bfc70a3e8dd854389ab34e18.txt  \n",
            "  inflating: dataset/train/labels/2F962B0C-BD9C-4557-8BAC-5AF1583E49EF_jpeg.rf.da66d9789ccb8c075b03133f4d66c2a4.txt  \n",
            "  inflating: dataset/train/labels/2FE2D26F-42FA-471B-879E-31CFDA66C45E_jpeg.rf.6e6d55d970a4884bb79767449e015b7b.txt  \n",
            "  inflating: dataset/train/labels/2FE2D26F-42FA-471B-879E-31CFDA66C45E_jpeg.rf.86d888370084f5db68905a9e84e0887d.txt  \n",
            "  inflating: dataset/train/labels/2FE2D26F-42FA-471B-879E-31CFDA66C45E_jpeg.rf.ffdae187d83b297dac8efb501ae15482.txt  \n",
            "  inflating: dataset/train/labels/3002315F-76F8-43A6-A000-8D0151559A25_jpeg.rf.06ca3006d69a3482705430fe557da4dd.txt  \n",
            " extracting: dataset/train/labels/3002315F-76F8-43A6-A000-8D0151559A25_jpeg.rf.62dd09bc413bcf103d0a33e3a10b5978.txt  \n",
            "  inflating: dataset/train/labels/3002315F-76F8-43A6-A000-8D0151559A25_jpeg.rf.9aa1085cc6710b1e4a9d083f83e94ebe.txt  \n",
            "  inflating: dataset/train/labels/30332216-7179-41CE-8B6B-8F58A44C2989_jpeg.rf.12e0bfa2c07bdab575b6e1223a5d4c85.txt  \n",
            "  inflating: dataset/train/labels/30332216-7179-41CE-8B6B-8F58A44C2989_jpeg.rf.4905aa8003219be9997e462b9265adca.txt  \n",
            "  inflating: dataset/train/labels/30332216-7179-41CE-8B6B-8F58A44C2989_jpeg.rf.7038fad6c5600ddb59711c104629d4d7.txt  \n",
            "  inflating: dataset/train/labels/309009B8-FC8A-43B2-A24B-C879CFDCF396_jpeg.rf.156ad95cc1ecb6520df40e08c7a5024a.txt  \n",
            "  inflating: dataset/train/labels/309009B8-FC8A-43B2-A24B-C879CFDCF396_jpeg.rf.a75f4589e75dff05bf6f0bd75736974c.txt  \n",
            "  inflating: dataset/train/labels/309009B8-FC8A-43B2-A24B-C879CFDCF396_jpeg.rf.f398f18d90503852f587cc115652a6f7.txt  \n",
            "  inflating: dataset/train/labels/3116DE04-D5C8-4925-9109-E649DEBF5DFE_jpeg.rf.071bd50cd73716eb4bd478e1144ce8d0.txt  \n",
            "  inflating: dataset/train/labels/3116DE04-D5C8-4925-9109-E649DEBF5DFE_jpeg.rf.38c1bcb385882710f5c1fa2a2765669b.txt  \n",
            "  inflating: dataset/train/labels/3116DE04-D5C8-4925-9109-E649DEBF5DFE_jpeg.rf.9d4613ddf03ea0971b08917bc8726491.txt  \n",
            "  inflating: dataset/train/labels/31B12363-03E8-4473-8AC9-B7D0836CA3BE_jpeg.rf.4466e9b51572a1f2c426a9fddcd4e719.txt  \n",
            "  inflating: dataset/train/labels/31B12363-03E8-4473-8AC9-B7D0836CA3BE_jpeg.rf.8ba52659f1705111b4888aed52d1de56.txt  \n",
            "  inflating: dataset/train/labels/31B12363-03E8-4473-8AC9-B7D0836CA3BE_jpeg.rf.9fee44c4312165a542fb2b7b1ca62234.txt  \n",
            "  inflating: dataset/train/labels/31F4A206-ACCB-457F-BF06-1A20E7F233EA_jpeg.rf.9e637c919652c20a6a127c5f1d00e146.txt  \n",
            "  inflating: dataset/train/labels/31F4A206-ACCB-457F-BF06-1A20E7F233EA_jpeg.rf.d88750ac04bcc2c2d80b0fd77de198b6.txt  \n",
            "  inflating: dataset/train/labels/31F4A206-ACCB-457F-BF06-1A20E7F233EA_jpeg.rf.db9dda62c931c9b438966201ee95d459.txt  \n",
            "  inflating: dataset/train/labels/325E8A3E-EC16-4CFD-AE03-B82B3A3B41E5_jpeg.rf.1262d7f8622c4cb83471942d73ea0bed.txt  \n",
            "  inflating: dataset/train/labels/325E8A3E-EC16-4CFD-AE03-B82B3A3B41E5_jpeg.rf.62d415dc11972022e90b6691254f8ba5.txt  \n",
            "  inflating: dataset/train/labels/325E8A3E-EC16-4CFD-AE03-B82B3A3B41E5_jpeg.rf.67a924f1906ad05e9fe17c4b2033133e.txt  \n",
            "  inflating: dataset/train/labels/33984C49-3895-454D-9F79-8B960E2F12C0_jpeg.rf.088cfee8ce06e328d159a1222df5431c.txt  \n",
            "  inflating: dataset/train/labels/33984C49-3895-454D-9F79-8B960E2F12C0_jpeg.rf.1c15ff8a63bdfaf7ffb061bf878cd42b.txt  \n",
            "  inflating: dataset/train/labels/33984C49-3895-454D-9F79-8B960E2F12C0_jpeg.rf.f57f43af886561f6f1e0acb62c5aef24.txt  \n",
            "  inflating: dataset/train/labels/3599A4CD-2ECC-481A-83D3-D988091E799F_jpeg.rf.10b3978cb4e7d54efe3dd749d6a07400.txt  \n",
            "  inflating: dataset/train/labels/3599A4CD-2ECC-481A-83D3-D988091E799F_jpeg.rf.598466216f137f730f8ccf1057314ca9.txt  \n",
            "  inflating: dataset/train/labels/3599A4CD-2ECC-481A-83D3-D988091E799F_jpeg.rf.e15812d26fe3c6421ce836e78ae84684.txt  \n",
            "  inflating: dataset/train/labels/368DA12B-638C-4038-A625-2CD299946EB3_jpeg.rf.308ef8cbf70db62a8847105af8869fb5.txt  \n",
            "  inflating: dataset/train/labels/368DA12B-638C-4038-A625-2CD299946EB3_jpeg.rf.692dfe6272b951f281a28cd85a009f9e.txt  \n",
            "  inflating: dataset/train/labels/368DA12B-638C-4038-A625-2CD299946EB3_jpeg.rf.7061f721e00a62a013277f975b13302d.txt  \n",
            "  inflating: dataset/train/labels/36E8639F-8202-47A5-8EA4-944213CF5291_jpeg.rf.4108d6c3d33d1d10de00ca472f456527.txt  \n",
            "  inflating: dataset/train/labels/36E8639F-8202-47A5-8EA4-944213CF5291_jpeg.rf.4cc632a505940695874a572ec8822e8c.txt  \n",
            "  inflating: dataset/train/labels/36E8639F-8202-47A5-8EA4-944213CF5291_jpeg.rf.6d5f26b9e35fe6100a12bccf305318be.txt  \n",
            "  inflating: dataset/train/labels/36E8D050-01EE-43D9-BCF1-607BB543A494_jpeg.rf.0039bfaf11c38e5d928b8a1b5e5c939d.txt  \n",
            "  inflating: dataset/train/labels/36E8D050-01EE-43D9-BCF1-607BB543A494_jpeg.rf.10bba44c5f633124978f7d4866fd1cde.txt  \n",
            "  inflating: dataset/train/labels/36E8D050-01EE-43D9-BCF1-607BB543A494_jpeg.rf.7e509f2ce2ed761dcc5b67ae66a5cfdf.txt  \n",
            "  inflating: dataset/train/labels/3791FB9C-7F15-4803-9154-8BAF9B23B49D_jpeg.rf.062877a00f6e87cf5471a22424efe8bc.txt  \n",
            "  inflating: dataset/train/labels/3791FB9C-7F15-4803-9154-8BAF9B23B49D_jpeg.rf.e320681fec72f1af1f5fda0a76f6b77c.txt  \n",
            "  inflating: dataset/train/labels/3791FB9C-7F15-4803-9154-8BAF9B23B49D_jpeg.rf.f2d1ad41a0dd00f8563c43a4acbd3da8.txt  \n",
            "  inflating: dataset/train/labels/38384EF7-CE28-450C-8FC9-908DD7D7F9D9_jpeg.rf.257bd5b40dad5fce9f51f3dcd52d13d7.txt  \n",
            "  inflating: dataset/train/labels/38384EF7-CE28-450C-8FC9-908DD7D7F9D9_jpeg.rf.744a1314ec82edc61d0736955722e6f7.txt  \n",
            "  inflating: dataset/train/labels/38384EF7-CE28-450C-8FC9-908DD7D7F9D9_jpeg.rf.a657617067b3d1a983590b3d02831ed8.txt  \n",
            "  inflating: dataset/train/labels/3916BFA1-F2EE-44A2-8335-8CD6D771F454_jpeg.rf.29b08a0f3ede4be3dd4f3e133e852d36.txt  \n",
            "  inflating: dataset/train/labels/3916BFA1-F2EE-44A2-8335-8CD6D771F454_jpeg.rf.7a63c44a4efdbca3bd2349bbfb751b91.txt  \n",
            "  inflating: dataset/train/labels/3916BFA1-F2EE-44A2-8335-8CD6D771F454_jpeg.rf.e55a004b64a982b6065075e2cfb1424c.txt  \n",
            "  inflating: dataset/train/labels/3942A50D-B879-492C-9066-FF70C3649D6E_jpeg.rf.5c93d42dcf4f04f1e48a9cbd3b34ee43.txt  \n",
            "  inflating: dataset/train/labels/3942A50D-B879-492C-9066-FF70C3649D6E_jpeg.rf.8951f3ba5481c2456e07fed379e15e66.txt  \n",
            "  inflating: dataset/train/labels/3942A50D-B879-492C-9066-FF70C3649D6E_jpeg.rf.8ae1b7f7334f83eb4933380729b2eadd.txt  \n",
            "  inflating: dataset/train/labels/3BF8306D-C2AA-4CE6-8B16-13ADF17A807B_jpeg.rf.3af22bba934e8f0d4f68b904ec77c000.txt  \n",
            "  inflating: dataset/train/labels/3BF8306D-C2AA-4CE6-8B16-13ADF17A807B_jpeg.rf.47765c25eaa3b5456d9a28980a58f113.txt  \n",
            "  inflating: dataset/train/labels/3BF8306D-C2AA-4CE6-8B16-13ADF17A807B_jpeg.rf.dcb18242ab003eeeb17aaa5f6244f11d.txt  \n",
            "  inflating: dataset/train/labels/3D16011E-9E73-4A22-BA82-C40E92A28721_jpeg.rf.906ea8b56184604a399ade762d6b845b.txt  \n",
            "  inflating: dataset/train/labels/3D16011E-9E73-4A22-BA82-C40E92A28721_jpeg.rf.a1c95278a11b16f80e7a69d5cef0c636.txt  \n",
            "  inflating: dataset/train/labels/3D16011E-9E73-4A22-BA82-C40E92A28721_jpeg.rf.fff23e3b6dbd4bdbbed275fd1bfd5e7d.txt  \n",
            "  inflating: dataset/train/labels/3D34AF75-90A5-416C-AB9F-A023EE881D23_jpeg.rf.1cde8543db167d8e9ce33551ecea41a1.txt  \n",
            "  inflating: dataset/train/labels/3D34AF75-90A5-416C-AB9F-A023EE881D23_jpeg.rf.2e6ce6e47d27111e884e49016d1a1626.txt  \n",
            "  inflating: dataset/train/labels/3D34AF75-90A5-416C-AB9F-A023EE881D23_jpeg.rf.86f924de01e74e9a8a022698959c44d1.txt  \n",
            "  inflating: dataset/train/labels/3E267F3A-C629-4CAA-A632-45EE0DCD854E_jpeg.rf.06baf81ccfd23dc6985c1cb90132cb21.txt  \n",
            "  inflating: dataset/train/labels/3E267F3A-C629-4CAA-A632-45EE0DCD854E_jpeg.rf.3b506b8ebb9a1b1dcce8ce6e592139cf.txt  \n",
            "  inflating: dataset/train/labels/3E267F3A-C629-4CAA-A632-45EE0DCD854E_jpeg.rf.a0fc1b5611fef903946af180e3a564d2.txt  \n",
            "  inflating: dataset/train/labels/3EE448B5-61C8-4774-8600-86B3FD9D6C2F_jpeg.rf.b9bc0b03870f9fe8c99e1af1b567e90e.txt  \n",
            "  inflating: dataset/train/labels/3EE448B5-61C8-4774-8600-86B3FD9D6C2F_jpeg.rf.c67114413cdb4d98071d89ce82190f8b.txt  \n",
            "  inflating: dataset/train/labels/3EE448B5-61C8-4774-8600-86B3FD9D6C2F_jpeg.rf.f4719b910026aff1e815dd4979663bac.txt  \n",
            "  inflating: dataset/train/labels/3FB796DE-7585-4A77-AD7E-DDC3C8D3B17C_jpeg.rf.654d26fce68c397c957fa3fbdbde1a07.txt  \n",
            "  inflating: dataset/train/labels/3FB796DE-7585-4A77-AD7E-DDC3C8D3B17C_jpeg.rf.840f1c3145ace2a0fa744b9535fd8947.txt  \n",
            "  inflating: dataset/train/labels/3FB796DE-7585-4A77-AD7E-DDC3C8D3B17C_jpeg.rf.ae8526e7af1bd7e2c92d54368fc1ecb9.txt  \n",
            "  inflating: dataset/train/labels/4077432B-B9CE-4680-B208-4FDA68369987_jpeg.rf.534ec6b7968022159bcb168a93cbbcaf.txt  \n",
            "  inflating: dataset/train/labels/4077432B-B9CE-4680-B208-4FDA68369987_jpeg.rf.bdeb1d7d34bdfc97f2494de03469b809.txt  \n",
            "  inflating: dataset/train/labels/4077432B-B9CE-4680-B208-4FDA68369987_jpeg.rf.efe9c95777f8fc10ed9aa98ae280bb13.txt  \n",
            "  inflating: dataset/train/labels/40EF657F-1B73-4A33-A322-11AE5E4B3872_jpeg.rf.1a0484c9a4fffec9ff606ce048098b19.txt  \n",
            "  inflating: dataset/train/labels/40EF657F-1B73-4A33-A322-11AE5E4B3872_jpeg.rf.581509c181a25f79c6e36543864d66fb.txt  \n",
            "  inflating: dataset/train/labels/40EF657F-1B73-4A33-A322-11AE5E4B3872_jpeg.rf.95ee54c866e10cf66b22d3bd0cde4f1f.txt  \n",
            "  inflating: dataset/train/labels/4299EFB0-BFF0-4FDA-BB4E-266954DBFD86_jpeg.rf.4735aa23bb30fa1db6dc0212bf5d1659.txt  \n",
            "  inflating: dataset/train/labels/4299EFB0-BFF0-4FDA-BB4E-266954DBFD86_jpeg.rf.5e90ac25d2d8725a2bbc43f02de9fd40.txt  \n",
            "  inflating: dataset/train/labels/4299EFB0-BFF0-4FDA-BB4E-266954DBFD86_jpeg.rf.6f60f704820826720c8a0f4cee6f7959.txt  \n",
            "  inflating: dataset/train/labels/450B6AA7-240C-41E3-9BC5-14939E9D8BED_jpeg.rf.27384822f9731d315675f52d5a80416b.txt  \n",
            "  inflating: dataset/train/labels/450B6AA7-240C-41E3-9BC5-14939E9D8BED_jpeg.rf.cb6e41a4ffc55ef7b61519b968ad8439.txt  \n",
            "  inflating: dataset/train/labels/450B6AA7-240C-41E3-9BC5-14939E9D8BED_jpeg.rf.fc068e158a2102c7f7d7161780698e40.txt  \n",
            "  inflating: dataset/train/labels/45270E8A-23B4-4A69-9084-9DBEA875A957_jpeg.rf.26f382cb641822ddf89c8841a45a85ca.txt  \n",
            "  inflating: dataset/train/labels/45270E8A-23B4-4A69-9084-9DBEA875A957_jpeg.rf.270f0ac94121ac678d9f53cf80681a6f.txt  \n",
            "  inflating: dataset/train/labels/45270E8A-23B4-4A69-9084-9DBEA875A957_jpeg.rf.482bcb2b3c4b2f5c5e0136ae0b60efd4.txt  \n",
            "  inflating: dataset/train/labels/455F7F30-2500-4207-8549-53B82F6AB5FC_jpeg.rf.1c1e9a9c2c979d7d76c5fdabb5fb5505.txt  \n",
            "  inflating: dataset/train/labels/455F7F30-2500-4207-8549-53B82F6AB5FC_jpeg.rf.29fa01120e9692711d8eac8a352d65dc.txt  \n",
            "  inflating: dataset/train/labels/455F7F30-2500-4207-8549-53B82F6AB5FC_jpeg.rf.dd2084562e24ab17722023d10a529e51.txt  \n",
            "  inflating: dataset/train/labels/45709900-5704-41CA-A012-BEF6C4606962_jpeg.rf.168575745651baf302d24e67a755af57.txt  \n",
            "  inflating: dataset/train/labels/45709900-5704-41CA-A012-BEF6C4606962_jpeg.rf.b20464c00e9bdc952203697d13cef206.txt  \n",
            "  inflating: dataset/train/labels/45709900-5704-41CA-A012-BEF6C4606962_jpeg.rf.df1ee1daa2c746d5f29f7125a6eb82f6.txt  \n",
            "  inflating: dataset/train/labels/457D1558-4BCD-4755-A0C2-CD328CD46DA7_jpeg.rf.45200bc1fb1ec8c2fc66a1270c8636d0.txt  \n",
            " extracting: dataset/train/labels/457D1558-4BCD-4755-A0C2-CD328CD46DA7_jpeg.rf.6f10038ef1034bb4d9415972112fc456.txt  \n",
            "  inflating: dataset/train/labels/457D1558-4BCD-4755-A0C2-CD328CD46DA7_jpeg.rf.fda8d42c7f6d1d994b508acbe6f15df7.txt  \n",
            "  inflating: dataset/train/labels/4598B898-4FAE-4068-B5E5-39C739DCDAFC_jpeg.rf.084529024adcc4a95f5ddd9cf0fff12d.txt  \n",
            "  inflating: dataset/train/labels/4598B898-4FAE-4068-B5E5-39C739DCDAFC_jpeg.rf.169d73ae9d422cfba3199f57cfd7d877.txt  \n",
            "  inflating: dataset/train/labels/4598B898-4FAE-4068-B5E5-39C739DCDAFC_jpeg.rf.61460a52305a2418259c0ca9f766a43c.txt  \n",
            "  inflating: dataset/train/labels/45C30EC4-DD22-4D99-BC48-CE865EE2A800_jpeg.rf.0a99e3f166b59d8dcff103731a22a807.txt  \n",
            "  inflating: dataset/train/labels/45C30EC4-DD22-4D99-BC48-CE865EE2A800_jpeg.rf.8534b9479eea81e27a771e2d45f2609b.txt  \n",
            "  inflating: dataset/train/labels/45C30EC4-DD22-4D99-BC48-CE865EE2A800_jpeg.rf.ed8fef6d2e0e175b9bea19096b35badf.txt  \n",
            "  inflating: dataset/train/labels/47CF208B-E21D-4394-A986-5FB46D69C7CB_jpeg.rf.159d553484b828c2784a7ab9108e6974.txt  \n",
            "  inflating: dataset/train/labels/47CF208B-E21D-4394-A986-5FB46D69C7CB_jpeg.rf.341dcad452c8002de7fd08e98f8bc994.txt  \n",
            "  inflating: dataset/train/labels/47CF208B-E21D-4394-A986-5FB46D69C7CB_jpeg.rf.d362eb7b77b3d18a1696bebe046dcfb6.txt  \n",
            "  inflating: dataset/train/labels/47F8B139-C03D-41C9-A790-F7C686BDC21B_jpeg.rf.0b2aa220f8618259147a850bab4089da.txt  \n",
            "  inflating: dataset/train/labels/47F8B139-C03D-41C9-A790-F7C686BDC21B_jpeg.rf.6323880f08b6048075c9dd5bf2eaee67.txt  \n",
            "  inflating: dataset/train/labels/47F8B139-C03D-41C9-A790-F7C686BDC21B_jpeg.rf.fb27e24e746fc4f49f0feeb82d0d4751.txt  \n",
            "  inflating: dataset/train/labels/48ABC639-0E77-4798-8350-1A27C056047A_jpeg.rf.4eee6e3a476535c13e8b8b31af16c400.txt  \n",
            "  inflating: dataset/train/labels/48ABC639-0E77-4798-8350-1A27C056047A_jpeg.rf.6634494543348f52c300c43087b98896.txt  \n",
            "  inflating: dataset/train/labels/48ABC639-0E77-4798-8350-1A27C056047A_jpeg.rf.726104470bc641599801c6b8910682d7.txt  \n",
            "  inflating: dataset/train/labels/48CA2CAC-6068-4E4A-9BF4-43923DC0A2D9_jpeg.rf.57138c7ec7eeaa9f04eb2770accc6571.txt  \n",
            "  inflating: dataset/train/labels/48CA2CAC-6068-4E4A-9BF4-43923DC0A2D9_jpeg.rf.758b5ffde87548b2597c5ff3993f1ca0.txt  \n",
            "  inflating: dataset/train/labels/48CA2CAC-6068-4E4A-9BF4-43923DC0A2D9_jpeg.rf.9449649470ca692c0ce736b042043688.txt  \n",
            "  inflating: dataset/train/labels/48E2E9A6-B233-4D2A-B323-C6C13D3F8212_jpeg.rf.38189fb9b23401663c64b775212511c5.txt  \n",
            "  inflating: dataset/train/labels/48E2E9A6-B233-4D2A-B323-C6C13D3F8212_jpeg.rf.46e63e8fd2ff6254d45b5c2e0907478d.txt  \n",
            "  inflating: dataset/train/labels/48E2E9A6-B233-4D2A-B323-C6C13D3F8212_jpeg.rf.bd494bd3bddb02224fe691fbbae49cb6.txt  \n",
            "  inflating: dataset/train/labels/48F943F7-AD6D-45D7-8FEC-C5C44A1E3B5A_jpeg.rf.7bf4653b7d66aac20ec1f3c3d1bf0997.txt  \n",
            "  inflating: dataset/train/labels/48F943F7-AD6D-45D7-8FEC-C5C44A1E3B5A_jpeg.rf.ad0584170fa84147cffe2ea087dba805.txt  \n",
            "  inflating: dataset/train/labels/48F943F7-AD6D-45D7-8FEC-C5C44A1E3B5A_jpeg.rf.d6af549431269849cea9ddcad073e2fd.txt  \n",
            "  inflating: dataset/train/labels/491167F9-9803-4D40-94F6-810176B54C5F_jpeg.rf.1b28f145aa75bbaef560cad0d75c4208.txt  \n",
            "  inflating: dataset/train/labels/491167F9-9803-4D40-94F6-810176B54C5F_jpeg.rf.e3b0ac4264aa5287d67c0a9fa8bc84f1.txt  \n",
            "  inflating: dataset/train/labels/491167F9-9803-4D40-94F6-810176B54C5F_jpeg.rf.f3b94e8c3c67f6c082b52b99ea368672.txt  \n",
            "  inflating: dataset/train/labels/49D0FE1B-F39D-4429-AF4E-C83642BE2E40_jpeg.rf.4335ebebeaeaca23f723c597da03e36e.txt  \n",
            "  inflating: dataset/train/labels/49D0FE1B-F39D-4429-AF4E-C83642BE2E40_jpeg.rf.59876a492591b1f045d83d8487cf7845.txt  \n",
            "  inflating: dataset/train/labels/49D0FE1B-F39D-4429-AF4E-C83642BE2E40_jpeg.rf.fcda3f16a1582d49424e5991b519a26a.txt  \n",
            "  inflating: dataset/train/labels/49FD0336-A341-4B01-9BAC-B65D9381FF93_jpeg.rf.115d953acfc3b10e4c75b3dc90e086ff.txt  \n",
            "  inflating: dataset/train/labels/49FD0336-A341-4B01-9BAC-B65D9381FF93_jpeg.rf.3c3e65e166c3cf0ca02b6b6a6f50011d.txt  \n",
            "  inflating: dataset/train/labels/49FD0336-A341-4B01-9BAC-B65D9381FF93_jpeg.rf.4cdacbc5202f51c5ee9eac203b5549ab.txt  \n",
            "  inflating: dataset/train/labels/4A2FB4C9-061C-4125-9D42-4478044A3232_jpeg.rf.17471bd2d2bebf8547ca718d19dc7038.txt  \n",
            "  inflating: dataset/train/labels/4A2FB4C9-061C-4125-9D42-4478044A3232_jpeg.rf.6f9e595293611d1694dc471d6cddcee7.txt  \n",
            "  inflating: dataset/train/labels/4A2FB4C9-061C-4125-9D42-4478044A3232_jpeg.rf.cd5a5aa8e14ac1bdc4d4fe8857c7a29b.txt  \n",
            "  inflating: dataset/train/labels/4AAA22EF-7333-464C-878C-7122016878AD_jpeg.rf.45f593a64b629b08798c20db0045a2cf.txt  \n",
            "  inflating: dataset/train/labels/4AAA22EF-7333-464C-878C-7122016878AD_jpeg.rf.b2ce09c60b665af9461f5e2ab32f26c6.txt  \n",
            "  inflating: dataset/train/labels/4AAA22EF-7333-464C-878C-7122016878AD_jpeg.rf.bff728c441b6a10d39ba54bcffbb11ca.txt  \n",
            "  inflating: dataset/train/labels/4AC43431-81F2-4172-8181-8074E95463A6_jpeg.rf.11ddb8b95cc473cc307a2eea8d16ac13.txt  \n",
            "  inflating: dataset/train/labels/4AC43431-81F2-4172-8181-8074E95463A6_jpeg.rf.46bddca32f79f496900e68a09a77a308.txt  \n",
            "  inflating: dataset/train/labels/4AC43431-81F2-4172-8181-8074E95463A6_jpeg.rf.b19d63dbf21f654a89d55d7181614a59.txt  \n",
            "  inflating: dataset/train/labels/4AEC2E58-8105-4FEE-A6C7-D24CAC486AF6_jpeg.rf.3ed639a818f04a0333eab48f0a781324.txt  \n",
            "  inflating: dataset/train/labels/4AEC2E58-8105-4FEE-A6C7-D24CAC486AF6_jpeg.rf.de8af3ef1fd90b67a7a141d6e8b182b0.txt  \n",
            "  inflating: dataset/train/labels/4AEC2E58-8105-4FEE-A6C7-D24CAC486AF6_jpeg.rf.ed44902ce372e980636167f26e307361.txt  \n",
            "  inflating: dataset/train/labels/4B973ED4-510B-4A14-85EC-D44726732FE6_jpeg.rf.b478cdbc1d9546d765c18bcdf4cc4255.txt  \n",
            "  inflating: dataset/train/labels/4B973ED4-510B-4A14-85EC-D44726732FE6_jpeg.rf.c3f95c78bb86ac1add2e0668879e3060.txt  \n",
            "  inflating: dataset/train/labels/4B973ED4-510B-4A14-85EC-D44726732FE6_jpeg.rf.ecf8443d775af43ffeb3302eec6c0eb0.txt  \n",
            "  inflating: dataset/train/labels/4C90B85B-2290-40E9-9DF5-78C0B04BBC35_jpeg.rf.2921e7d911402fca85c56fa7e72dacb0.txt  \n",
            "  inflating: dataset/train/labels/4C90B85B-2290-40E9-9DF5-78C0B04BBC35_jpeg.rf.69ff20e494f6f2e993160cf671322af4.txt  \n",
            "  inflating: dataset/train/labels/4C90B85B-2290-40E9-9DF5-78C0B04BBC35_jpeg.rf.e3f95c8a579fbda96def075607d144bb.txt  \n",
            "  inflating: dataset/train/labels/4D25DC92-619F-45BA-8B3C-E913451A2D9E_jpeg.rf.337af056312bc561b49138cb213a4e5d.txt  \n",
            "  inflating: dataset/train/labels/4D25DC92-619F-45BA-8B3C-E913451A2D9E_jpeg.rf.41fc7c510ca69e85238e2a26797cbed1.txt  \n",
            "  inflating: dataset/train/labels/4D25DC92-619F-45BA-8B3C-E913451A2D9E_jpeg.rf.ee4b85fff25fb0f814a84632317452aa.txt  \n",
            "  inflating: dataset/train/labels/4D4B4C05-50ED-4002-A537-B0983D907782_jpeg.rf.2eedd9fe74c77e0e8cc7482167954d40.txt  \n",
            "  inflating: dataset/train/labels/4D4B4C05-50ED-4002-A537-B0983D907782_jpeg.rf.ce3bc392f388a42de1b9afba740fe356.txt  \n",
            "  inflating: dataset/train/labels/4D4B4C05-50ED-4002-A537-B0983D907782_jpeg.rf.e9de48f0727998a5d97836043c286040.txt  \n",
            "  inflating: dataset/train/labels/4D961DAB-AEAD-4210-8279-2133A75DFEF4_jpeg.rf.342cc27a31ecf71be0c5931f02a77685.txt  \n",
            "  inflating: dataset/train/labels/4D961DAB-AEAD-4210-8279-2133A75DFEF4_jpeg.rf.67827ec96b741b6f698ae0cef2787a5c.txt  \n",
            "  inflating: dataset/train/labels/4D961DAB-AEAD-4210-8279-2133A75DFEF4_jpeg.rf.c0dcdf3679cf757ab4941f7d21d1657e.txt  \n",
            " extracting: dataset/train/labels/4E467065-1777-4105-BA3F-02575E68AC96_jpeg.rf.a44ef6449bac5dca984e0b6267c620b4.txt  \n",
            "  inflating: dataset/train/labels/4E467065-1777-4105-BA3F-02575E68AC96_jpeg.rf.a7660ee72422f288c73e89a3669ad9d7.txt  \n",
            "  inflating: dataset/train/labels/4E467065-1777-4105-BA3F-02575E68AC96_jpeg.rf.dcdc391483da788594143ee67a020b50.txt  \n",
            "  inflating: dataset/train/labels/4EE148DD-4C87-4FBC-8B73-A574F9ACCD5C_jpeg.rf.0944cf761156b1ecef8578667c835688.txt  \n",
            "  inflating: dataset/train/labels/4EE148DD-4C87-4FBC-8B73-A574F9ACCD5C_jpeg.rf.2dc73c19a4cea22970eb788c1c035f5b.txt  \n",
            "  inflating: dataset/train/labels/4EE148DD-4C87-4FBC-8B73-A574F9ACCD5C_jpeg.rf.3564ba800ef1f59277f2a6a889638815.txt  \n",
            "  inflating: dataset/train/labels/50D82001-D873-418A-958D-DBB514BF21D0_jpeg.rf.0d5485ee7bd91d704d4f4bcad17ab8da.txt  \n",
            "  inflating: dataset/train/labels/50D82001-D873-418A-958D-DBB514BF21D0_jpeg.rf.db4563cdc42266f284996972821597e9.txt  \n",
            "  inflating: dataset/train/labels/50D82001-D873-418A-958D-DBB514BF21D0_jpeg.rf.f0ddbb13bc1a318f24899c4d4cbd5326.txt  \n",
            "  inflating: dataset/train/labels/5167AF7B-1A8B-4910-89E9-0A6DC4A1ED0B_jpeg.rf.02e04d3bc97d6e0b36821f42aa10c3c1.txt  \n",
            "  inflating: dataset/train/labels/5167AF7B-1A8B-4910-89E9-0A6DC4A1ED0B_jpeg.rf.8edcbb0d9b7fcb19001905baaca49267.txt  \n",
            "  inflating: dataset/train/labels/5167AF7B-1A8B-4910-89E9-0A6DC4A1ED0B_jpeg.rf.cc745b6a36c5e38285cebb38cf92b3a5.txt  \n",
            "  inflating: dataset/train/labels/52CCAFDC-BFB6-454C-8E1D-E7644BF22E2E_jpeg.rf.1fb8495a449e83b014bfd4ba9e9a3d99.txt  \n",
            "  inflating: dataset/train/labels/52CCAFDC-BFB6-454C-8E1D-E7644BF22E2E_jpeg.rf.667ca2754ee5d2e5f23a7f18859a4d0e.txt  \n",
            "  inflating: dataset/train/labels/52CCAFDC-BFB6-454C-8E1D-E7644BF22E2E_jpeg.rf.e3b142560cf757a35d90f0feb30a67b4.txt  \n",
            "  inflating: dataset/train/labels/532F92DD-D965-4F23-9D07-6B269610A291_jpeg.rf.be1a525c6ca6f0b6292e0f4857e0cae0.txt  \n",
            "  inflating: dataset/train/labels/532F92DD-D965-4F23-9D07-6B269610A291_jpeg.rf.c12a9a1796620658bf508b528428cbfc.txt  \n",
            "  inflating: dataset/train/labels/532F92DD-D965-4F23-9D07-6B269610A291_jpeg.rf.d003dbb40dbd04c91ace9e8cfdce54cb.txt  \n",
            "  inflating: dataset/train/labels/53BDE74C-35FE-4303-B0A6-BF39BFEF58F6_jpeg.rf.03d233d9a56f04284eea849f3eb9459d.txt  \n",
            "  inflating: dataset/train/labels/53BDE74C-35FE-4303-B0A6-BF39BFEF58F6_jpeg.rf.7632b54bc9ec4af2c372c7318a575189.txt  \n",
            "  inflating: dataset/train/labels/53BDE74C-35FE-4303-B0A6-BF39BFEF58F6_jpeg.rf.f0bc36aa19dd1951f8b0cb737f9d13c9.txt  \n",
            "  inflating: dataset/train/labels/540A2555-2215-4259-85CE-D605516A66DE_jpeg.rf.4b9a03bb30ea38e4cba3d5090a259536.txt  \n",
            "  inflating: dataset/train/labels/540A2555-2215-4259-85CE-D605516A66DE_jpeg.rf.52d8a40a39186ccd29c84809e0469e08.txt  \n",
            "  inflating: dataset/train/labels/540A2555-2215-4259-85CE-D605516A66DE_jpeg.rf.79f1decbe3133c9b7ada9f2e9a95b4d2.txt  \n",
            "  inflating: dataset/train/labels/5475D8DA-EF62-47BB-87EA-D4E69C1F87B4_jpeg.rf.2be9ed3b258b1611477401ef1a3177f7.txt  \n",
            "  inflating: dataset/train/labels/5475D8DA-EF62-47BB-87EA-D4E69C1F87B4_jpeg.rf.8c86a84513e6f9f91f80cd3785e84801.txt  \n",
            "  inflating: dataset/train/labels/5475D8DA-EF62-47BB-87EA-D4E69C1F87B4_jpeg.rf.fb647666018a36475f4c7a790105e64c.txt  \n",
            "  inflating: dataset/train/labels/564DF028-77B0-482E-B846-169B23294014_jpeg.rf.7e30e3c0287d6dff38883a9fac96d554.txt  \n",
            "  inflating: dataset/train/labels/564DF028-77B0-482E-B846-169B23294014_jpeg.rf.92ee2387e91e491ffd8f4344eaccc624.txt  \n",
            "  inflating: dataset/train/labels/564DF028-77B0-482E-B846-169B23294014_jpeg.rf.a53d41654a0ed87eb0e5ef9e8b7020f1.txt  \n",
            "  inflating: dataset/train/labels/577C73A3-86DF-4FEA-9CB4-8B351F650B27_jpeg.rf.988216dd26e2c5ba4a311b8b3488f4c0.txt  \n",
            "  inflating: dataset/train/labels/577C73A3-86DF-4FEA-9CB4-8B351F650B27_jpeg.rf.d81e91c78e2bbeffadba55b728d7d1ba.txt  \n",
            "  inflating: dataset/train/labels/577C73A3-86DF-4FEA-9CB4-8B351F650B27_jpeg.rf.fc2342410b295bb61b2eb7342b7ca96e.txt  \n",
            "  inflating: dataset/train/labels/582E6A36-5316-443C-BC3C-E4856F3A8C59_jpeg.rf.65a687306d56650030d70b5bacc0a1cd.txt  \n",
            "  inflating: dataset/train/labels/582E6A36-5316-443C-BC3C-E4856F3A8C59_jpeg.rf.65f015e1f2c567b6c5240e74582382e1.txt  \n",
            "  inflating: dataset/train/labels/582E6A36-5316-443C-BC3C-E4856F3A8C59_jpeg.rf.86c8cf11f5804c477fd3e89ee09d0a14.txt  \n",
            "  inflating: dataset/train/labels/5974730B-9148-43F6-B04A-390A28B24B5B_jpeg.rf.0cb7b28455d8ae76f0e7f73ca0b03877.txt  \n",
            "  inflating: dataset/train/labels/5974730B-9148-43F6-B04A-390A28B24B5B_jpeg.rf.16e738ad105803865c48405e68b83e50.txt  \n",
            "  inflating: dataset/train/labels/5974730B-9148-43F6-B04A-390A28B24B5B_jpeg.rf.7566acfb39a48502b63e138b37e62685.txt  \n",
            "  inflating: dataset/train/labels/59F0BB9E-E8A7-42EA-8F1C-A8987FEA93CC_jpeg.rf.55b2202ce44a599d5d5e5146542d649a.txt  \n",
            "  inflating: dataset/train/labels/59F0BB9E-E8A7-42EA-8F1C-A8987FEA93CC_jpeg.rf.739b702d15b67bbb85946e21e07a391e.txt  \n",
            "  inflating: dataset/train/labels/59F0BB9E-E8A7-42EA-8F1C-A8987FEA93CC_jpeg.rf.93ff1fd75578f78c0ac84664022ddb5c.txt  \n",
            "  inflating: dataset/train/labels/5A2E004B-969D-4F3A-9DDE-3D725CEC3538_jpeg.rf.03686fdc28fc84b316a71fb10b351d08.txt  \n",
            "  inflating: dataset/train/labels/5A2E004B-969D-4F3A-9DDE-3D725CEC3538_jpeg.rf.15504a420b0e3261670d5fc1e0392e36.txt  \n",
            "  inflating: dataset/train/labels/5A2E004B-969D-4F3A-9DDE-3D725CEC3538_jpeg.rf.e7781ffc0072cfde7e56b7d6860720f6.txt  \n",
            "  inflating: dataset/train/labels/5A87323E-067C-4606-A0CA-23CB5B2F264E_jpeg.rf.0638846d44e6cf212bb2115d38cc8bc6.txt  \n",
            "  inflating: dataset/train/labels/5A87323E-067C-4606-A0CA-23CB5B2F264E_jpeg.rf.3f23812ab0a7267a75fc9139dc4188f3.txt  \n",
            "  inflating: dataset/train/labels/5A87323E-067C-4606-A0CA-23CB5B2F264E_jpeg.rf.e526dfca437aec469ecb75905ce07a1c.txt  \n",
            "  inflating: dataset/train/labels/5AF16151-CC62-4A8A-890A-5AC7B56AD352_jpeg.rf.058f07ff70920aeb345266e50300e9fd.txt  \n",
            "  inflating: dataset/train/labels/5AF16151-CC62-4A8A-890A-5AC7B56AD352_jpeg.rf.5b9531367fe657f584b7b0d9576160f0.txt  \n",
            "  inflating: dataset/train/labels/5AF16151-CC62-4A8A-890A-5AC7B56AD352_jpeg.rf.605105bbcb4758c63cbffd426808191b.txt  \n",
            "  inflating: dataset/train/labels/5B492829-C0BA-4841-9EC4-1ED6B267DB6B_jpeg.rf.3f75d231b85adbf56bcda0c55c9034fa.txt  \n",
            "  inflating: dataset/train/labels/5B492829-C0BA-4841-9EC4-1ED6B267DB6B_jpeg.rf.53e4af35e2b3cb214d24b740387ce701.txt  \n",
            "  inflating: dataset/train/labels/5B492829-C0BA-4841-9EC4-1ED6B267DB6B_jpeg.rf.ece0b226d1560e8eee4187621375c6aa.txt  \n",
            "  inflating: dataset/train/labels/5BEC371F-10C7-4E19-907F-1CFE2F895A8B_jpeg.rf.6449576bcbf8b5e3e49118d94bb68587.txt  \n",
            "  inflating: dataset/train/labels/5BEC371F-10C7-4E19-907F-1CFE2F895A8B_jpeg.rf.8b242626e311fd8b892e3f50f97ab092.txt  \n",
            "  inflating: dataset/train/labels/5BEC371F-10C7-4E19-907F-1CFE2F895A8B_jpeg.rf.f56e84c013914e03525fe3e3dfc9c9b5.txt  \n",
            "  inflating: dataset/train/labels/5E0A2244-9614-4967-B443-D85C6E216A40_jpeg.rf.01dbd9f9d64cb1b16fbaa74e4a6cb264.txt  \n",
            "  inflating: dataset/train/labels/5E0A2244-9614-4967-B443-D85C6E216A40_jpeg.rf.2bc518ec28cafe4738913e56fe859413.txt  \n",
            "  inflating: dataset/train/labels/5E0A2244-9614-4967-B443-D85C6E216A40_jpeg.rf.7570db4c407c7221b8859ceea28943f8.txt  \n",
            "  inflating: dataset/train/labels/5E44FBC8-A187-443F-95A3-442E059A64E1_jpeg.rf.43710db4c2922918f8c17dcbdd3ec0ba.txt  \n",
            "  inflating: dataset/train/labels/5E44FBC8-A187-443F-95A3-442E059A64E1_jpeg.rf.e282891eea5c98b4b50e75a485b6b267.txt  \n",
            "  inflating: dataset/train/labels/5E44FBC8-A187-443F-95A3-442E059A64E1_jpeg.rf.f787d94086f21126e4b6594653886a41.txt  \n",
            "  inflating: dataset/train/labels/5E5A67E5-C8A0-45B6-83E9-985CDE2CF6C4_jpeg.rf.4125c249c4e337422d8a469064f199f7.txt  \n",
            "  inflating: dataset/train/labels/5E5A67E5-C8A0-45B6-83E9-985CDE2CF6C4_jpeg.rf.526341b77c833cda75662d6b3f196320.txt  \n",
            "  inflating: dataset/train/labels/5E5A67E5-C8A0-45B6-83E9-985CDE2CF6C4_jpeg.rf.e0c199eab584984b76707c0d1fcafcb7.txt  \n",
            "  inflating: dataset/train/labels/5EAC15CA-B5DE-487D-885D-0C2ABD1178C9_jpeg.rf.067fc3e5f410443baddb603fba9653f1.txt  \n",
            "  inflating: dataset/train/labels/5EAC15CA-B5DE-487D-885D-0C2ABD1178C9_jpeg.rf.1abf5c8396a1c56193a234df7b73ca71.txt  \n",
            "  inflating: dataset/train/labels/5EAC15CA-B5DE-487D-885D-0C2ABD1178C9_jpeg.rf.91ceca0110382474b9584ab0b8bf19db.txt  \n",
            "  inflating: dataset/train/labels/5EF124C5-AE2A-407B-AE7E-7A91E81D7A30_jpeg.rf.822cb66fd619826f330d90ab811c71aa.txt  \n",
            "  inflating: dataset/train/labels/5EF124C5-AE2A-407B-AE7E-7A91E81D7A30_jpeg.rf.ccc61c592c28b4bb4ca3f864da57ff72.txt  \n",
            "  inflating: dataset/train/labels/5EF124C5-AE2A-407B-AE7E-7A91E81D7A30_jpeg.rf.d8487ef2024991a2ef9b456c67d0b3f4.txt  \n",
            "  inflating: dataset/train/labels/5F1931CE-D3F6-4FEC-9E4E-AA5C5D45FB80_jpeg.rf.0084d308cc55435c6d21a8a0a50769d4.txt  \n",
            "  inflating: dataset/train/labels/5F1931CE-D3F6-4FEC-9E4E-AA5C5D45FB80_jpeg.rf.1032eca67dc7117688e75336f002f6f7.txt  \n",
            "  inflating: dataset/train/labels/5F1931CE-D3F6-4FEC-9E4E-AA5C5D45FB80_jpeg.rf.ce0476176f6e1259e392b1d1ba53edb7.txt  \n",
            "  inflating: dataset/train/labels/60A1F596-571A-4A27-8124-ADFA8E68D1C6_jpeg.rf.1d8e7f0896597a0388d98403f15ba6ec.txt  \n",
            "  inflating: dataset/train/labels/60A1F596-571A-4A27-8124-ADFA8E68D1C6_jpeg.rf.52f8ca16cda57c2e0f9303905cf6ea6e.txt  \n",
            "  inflating: dataset/train/labels/60A1F596-571A-4A27-8124-ADFA8E68D1C6_jpeg.rf.e9146230229b9796af59ff7a6818916f.txt  \n",
            "  inflating: dataset/train/labels/6110E783-F5B8-4999-8A00-2C279F465CA6_jpeg.rf.0d3fdd7724a60541b1e7fd213cb528b0.txt  \n",
            "  inflating: dataset/train/labels/6110E783-F5B8-4999-8A00-2C279F465CA6_jpeg.rf.1285d8fafe8a691ac0924f2b559b26b8.txt  \n",
            "  inflating: dataset/train/labels/6110E783-F5B8-4999-8A00-2C279F465CA6_jpeg.rf.c47d2af2bf85ac739bc3bcf0699e38be.txt  \n",
            "  inflating: dataset/train/labels/616B5D14-93E7-4120-94C4-4132122EB5E8_jpeg.rf.063ed673297e1ad6640f3ca68a7d429c.txt  \n",
            "  inflating: dataset/train/labels/616B5D14-93E7-4120-94C4-4132122EB5E8_jpeg.rf.45c25e7dad6f9a790030d5f99ebc7106.txt  \n",
            "  inflating: dataset/train/labels/616B5D14-93E7-4120-94C4-4132122EB5E8_jpeg.rf.483bf36aa6001c9e0d2d1e71804c71ce.txt  \n",
            "  inflating: dataset/train/labels/61E83279-37FB-4AD4-8894-F09988709D58_jpeg.rf.5e347a7e61ecc56a0c1a4de3bf367bf5.txt  \n",
            "  inflating: dataset/train/labels/61E83279-37FB-4AD4-8894-F09988709D58_jpeg.rf.dfa7407817a6cca915d76d6a2824adc1.txt  \n",
            "  inflating: dataset/train/labels/61E83279-37FB-4AD4-8894-F09988709D58_jpeg.rf.ea7708a08ce48ae398c3c145b2f0a097.txt  \n",
            "  inflating: dataset/train/labels/65823A97-F2E9-4861-BE40-437FECAA7D10_jpeg.rf.25a6e421822ec2b1103e33fdc79e2645.txt  \n",
            "  inflating: dataset/train/labels/65823A97-F2E9-4861-BE40-437FECAA7D10_jpeg.rf.77e434d0e8c3e226340067d52ea8b052.txt  \n",
            "  inflating: dataset/train/labels/65823A97-F2E9-4861-BE40-437FECAA7D10_jpeg.rf.86edfd48c126334ef51bf4c691f6c8cc.txt  \n",
            "  inflating: dataset/train/labels/6595D931-B125-4453-96C3-16FADDA4DA29_jpeg.rf.022dbaa03c6bc3b4d745918ccac064fd.txt  \n",
            " extracting: dataset/train/labels/6595D931-B125-4453-96C3-16FADDA4DA29_jpeg.rf.4e81ec59f7d05ee15927e458360f0c89.txt  \n",
            "  inflating: dataset/train/labels/6595D931-B125-4453-96C3-16FADDA4DA29_jpeg.rf.cb871cbdeea530bdabef97117be64b31.txt  \n",
            "  inflating: dataset/train/labels/66A2D5E9-1747-4B98-8591-60C37BF2B77D_jpeg.rf.abb64cb7e3f8958591c5b547fb708518.txt  \n",
            "  inflating: dataset/train/labels/66A2D5E9-1747-4B98-8591-60C37BF2B77D_jpeg.rf.b871554a421dcd157755706a03773166.txt  \n",
            "  inflating: dataset/train/labels/66A2D5E9-1747-4B98-8591-60C37BF2B77D_jpeg.rf.d85c217a6476f32960f2995344a191fe.txt  \n",
            "  inflating: dataset/train/labels/684C4C12-8283-4949-AFFF-A0CA8A576251_jpeg.rf.30a76159f1ee997cdc1c3fa222055f48.txt  \n",
            "  inflating: dataset/train/labels/684C4C12-8283-4949-AFFF-A0CA8A576251_jpeg.rf.cce536e1111176a61f8cdb5b5497c60c.txt  \n",
            "  inflating: dataset/train/labels/684C4C12-8283-4949-AFFF-A0CA8A576251_jpeg.rf.e6e87c55b204ef38d03fe8ab999f3c72.txt  \n",
            "  inflating: dataset/train/labels/6868A4D1-A1C7-4B1F-9F80-74FB5B84313D_jpeg.rf.0657afc6bd6011cf9022fa2e159ca596.txt  \n",
            "  inflating: dataset/train/labels/6868A4D1-A1C7-4B1F-9F80-74FB5B84313D_jpeg.rf.103b10cfef6a82df40a33d900f6bc978.txt  \n",
            "  inflating: dataset/train/labels/6868A4D1-A1C7-4B1F-9F80-74FB5B84313D_jpeg.rf.9e88f9f717206475af364a524d4e947a.txt  \n",
            "  inflating: dataset/train/labels/6881FC34-F55A-47BD-AD8A-2AE7C3246CB8_jpeg.rf.8ee0eea7d22274be9c10f4e158b5d7ac.txt  \n",
            "  inflating: dataset/train/labels/6881FC34-F55A-47BD-AD8A-2AE7C3246CB8_jpeg.rf.dcdc498a0541493c88462cf266653b2c.txt  \n",
            "  inflating: dataset/train/labels/6881FC34-F55A-47BD-AD8A-2AE7C3246CB8_jpeg.rf.e28519bb6ca36613e50a580517197ca3.txt  \n",
            "  inflating: dataset/train/labels/68A60308-12B8-4613-8B86-76B4B061B331_jpeg.rf.a4f7eea1f97f188785874686e2b41b8a.txt  \n",
            "  inflating: dataset/train/labels/68A60308-12B8-4613-8B86-76B4B061B331_jpeg.rf.a84b4318afc7cc3d784171627d1a0d6a.txt  \n",
            "  inflating: dataset/train/labels/68A60308-12B8-4613-8B86-76B4B061B331_jpeg.rf.d158954610738273bda53c0853fcd204.txt  \n",
            "  inflating: dataset/train/labels/68FE5BB0-18A5-4E5E-9877-EB02E3310694_jpeg.rf.85bd402859588e16947034d2958d95d6.txt  \n",
            "  inflating: dataset/train/labels/68FE5BB0-18A5-4E5E-9877-EB02E3310694_jpeg.rf.e333dd92e8faa5528ef1df80775363ad.txt  \n",
            "  inflating: dataset/train/labels/68FE5BB0-18A5-4E5E-9877-EB02E3310694_jpeg.rf.ed0fd228f2616b2f86694283af42b6e0.txt  \n",
            "  inflating: dataset/train/labels/6948BC25-A133-434C-A8A1-2F1BFF46CFD8_jpeg.rf.0435a9e919229963fda871e59963b170.txt  \n",
            "  inflating: dataset/train/labels/6948BC25-A133-434C-A8A1-2F1BFF46CFD8_jpeg.rf.5549b1e25f55b6225bb4e2ac976d0595.txt  \n",
            "  inflating: dataset/train/labels/6948BC25-A133-434C-A8A1-2F1BFF46CFD8_jpeg.rf.5878b165098c99917d3be04f01092503.txt  \n",
            "  inflating: dataset/train/labels/6A55F547-0ACD-4FEF-8B17-B3C17B7CDCD1_jpeg.rf.2de51add8bf0a27fe87793d2596e2a95.txt  \n",
            "  inflating: dataset/train/labels/6A55F547-0ACD-4FEF-8B17-B3C17B7CDCD1_jpeg.rf.70e440fba5453baa6ef615c3198285ae.txt  \n",
            "  inflating: dataset/train/labels/6A55F547-0ACD-4FEF-8B17-B3C17B7CDCD1_jpeg.rf.8ca9773f97dab215d4d9411c1ec8fd8f.txt  \n",
            "  inflating: dataset/train/labels/6A991B3A-DB22-4E4E-AE90-A7DADB1172F3_jpeg.rf.7caa513e1c9940b29b6749fbc80207c3.txt  \n",
            "  inflating: dataset/train/labels/6A991B3A-DB22-4E4E-AE90-A7DADB1172F3_jpeg.rf.7fcfc6fb3adbdbd4f300acdb898f7708.txt  \n",
            "  inflating: dataset/train/labels/6A991B3A-DB22-4E4E-AE90-A7DADB1172F3_jpeg.rf.eeaaf8d42d5d26961903bbf39a0f8a50.txt  \n",
            "  inflating: dataset/train/labels/6AD7550E-CB63-4C48-A9A2-62929A48B87E_jpeg.rf.482b78b2cca96d71420c228c411ad35c.txt  \n",
            "  inflating: dataset/train/labels/6AD7550E-CB63-4C48-A9A2-62929A48B87E_jpeg.rf.aa3bd4450caec419ae72ff9a1efb357e.txt  \n",
            "  inflating: dataset/train/labels/6AD7550E-CB63-4C48-A9A2-62929A48B87E_jpeg.rf.cbdef776ea7778862d72afbc71aace9d.txt  \n",
            "  inflating: dataset/train/labels/6ADBE40F-C585-42A4-BA8E-FEBA7256FD0F_jpeg.rf.1185d635088fb678a9e690468f03fb8b.txt  \n",
            "  inflating: dataset/train/labels/6ADBE40F-C585-42A4-BA8E-FEBA7256FD0F_jpeg.rf.5174723cf46d643cc6406ea0cdb25a02.txt  \n",
            "  inflating: dataset/train/labels/6ADBE40F-C585-42A4-BA8E-FEBA7256FD0F_jpeg.rf.aa4993054e1d91b50b81a3cdee2e5deb.txt  \n",
            "  inflating: dataset/train/labels/6AE695F5-9072-46CB-81BE-77FD207F9B3A_jpeg.rf.421e83b7cdb63071734632d13b731bd0.txt  \n",
            "  inflating: dataset/train/labels/6AE695F5-9072-46CB-81BE-77FD207F9B3A_jpeg.rf.7f9cfcd7e55af49b1fd1f9498e32c84c.txt  \n",
            "  inflating: dataset/train/labels/6AE695F5-9072-46CB-81BE-77FD207F9B3A_jpeg.rf.91e741c6aa4681e8daa4c5f17e041d08.txt  \n",
            "  inflating: dataset/train/labels/6B198F28-DB0B-455B-9F29-901DCB0D3254_jpeg.rf.4bc8477262d561a362fab1e70bbb2daa.txt  \n",
            "  inflating: dataset/train/labels/6B198F28-DB0B-455B-9F29-901DCB0D3254_jpeg.rf.a2f74f182f470bf33dac3500f869a3d2.txt  \n",
            "  inflating: dataset/train/labels/6B198F28-DB0B-455B-9F29-901DCB0D3254_jpeg.rf.e0af3b9f592818419d07e85b9853b881.txt  \n",
            "  inflating: dataset/train/labels/6B3D4118-FBAE-4836-B9E8-8014208C078D_jpeg.rf.1258d464165e4f58467f42c303c27e04.txt  \n",
            "  inflating: dataset/train/labels/6B3D4118-FBAE-4836-B9E8-8014208C078D_jpeg.rf.6a4ed31e610d8a833ab7f4e50c1d2473.txt  \n",
            "  inflating: dataset/train/labels/6B3D4118-FBAE-4836-B9E8-8014208C078D_jpeg.rf.842da28335a8c60ea2a68f6f5f444863.txt  \n",
            "  inflating: dataset/train/labels/6B6A1CDB-13AD-4A97-A8BB-701C3649763F_jpeg.rf.84a013fdc073881541517e689d1e792f.txt  \n",
            "  inflating: dataset/train/labels/6B6A1CDB-13AD-4A97-A8BB-701C3649763F_jpeg.rf.a7d33f40892a12843ffde126a0e0827a.txt  \n",
            "  inflating: dataset/train/labels/6B6A1CDB-13AD-4A97-A8BB-701C3649763F_jpeg.rf.dbee56033c7b8a039e56550ac86d39f6.txt  \n",
            "  inflating: dataset/train/labels/701C9191-95BC-46C6-B676-ACC783F90E26_jpeg.rf.0bfba170735726d36ec681550b97626f.txt  \n",
            "  inflating: dataset/train/labels/701C9191-95BC-46C6-B676-ACC783F90E26_jpeg.rf.2f51200fffbab10aee34ddcdb496d183.txt  \n",
            "  inflating: dataset/train/labels/701C9191-95BC-46C6-B676-ACC783F90E26_jpeg.rf.6333aabe124f024b5685d801372b3e53.txt  \n",
            "  inflating: dataset/train/labels/7057B393-DEE8-4677-B005-0D825DBBD48B_jpeg.rf.0a4a1c6c9ed3bef3138efae5831f41ec.txt  \n",
            "  inflating: dataset/train/labels/7057B393-DEE8-4677-B005-0D825DBBD48B_jpeg.rf.4d201433cf0908b384cb1b93faccebbe.txt  \n",
            "  inflating: dataset/train/labels/7057B393-DEE8-4677-B005-0D825DBBD48B_jpeg.rf.5e2b329509f20c41d47db0b35dfec075.txt  \n",
            "  inflating: dataset/train/labels/71AC32F2-4DCC-4CCE-A12D-DB6E4D760608_jpeg.rf.08344a892577e22f5c8467a3fea596a9.txt  \n",
            "  inflating: dataset/train/labels/71AC32F2-4DCC-4CCE-A12D-DB6E4D760608_jpeg.rf.4b79b56812b75d0fa1e264eb885b86b6.txt  \n",
            "  inflating: dataset/train/labels/71AC32F2-4DCC-4CCE-A12D-DB6E4D760608_jpeg.rf.d6c6b5add39bf530d469809ecdcd1783.txt  \n",
            "  inflating: dataset/train/labels/7213CA21-B80A-4400-81B8-618B81596E15_jpeg.rf.50c91fdc7ac24a3348676301e7456f65.txt  \n",
            "  inflating: dataset/train/labels/7213CA21-B80A-4400-81B8-618B81596E15_jpeg.rf.bb067144144c6a5995e40b68763813fd.txt  \n",
            "  inflating: dataset/train/labels/7213CA21-B80A-4400-81B8-618B81596E15_jpeg.rf.cc6593af37255b6e08a748b4d1b6abd3.txt  \n",
            "  inflating: dataset/train/labels/7458A227-65F3-41F5-8BBD-F61D7A8B4622_jpeg.rf.0478b206e62bf9b2ab0aecd10372e1ec.txt  \n",
            "  inflating: dataset/train/labels/7458A227-65F3-41F5-8BBD-F61D7A8B4622_jpeg.rf.f1c2dd496d9f7ad3f228a90fe22b592e.txt  \n",
            "  inflating: dataset/train/labels/7458A227-65F3-41F5-8BBD-F61D7A8B4622_jpeg.rf.fd1ef31391b33a00a7f67b322afc735d.txt  \n",
            "  inflating: dataset/train/labels/776E6DAF-A5B1-4935-8931-213DA38C37A8_jpeg.rf.096741fa6c2c105ee24dbe2174fea1e6.txt  \n",
            "  inflating: dataset/train/labels/776E6DAF-A5B1-4935-8931-213DA38C37A8_jpeg.rf.1437c3f0bafe4fe8683fa800f5f13154.txt  \n",
            "  inflating: dataset/train/labels/776E6DAF-A5B1-4935-8931-213DA38C37A8_jpeg.rf.3979b667053cc197263c2f1aabcce43f.txt  \n",
            "  inflating: dataset/train/labels/77A8AEC1-C128-4F44-BE9A-932F7921452D_jpeg.rf.2ee20fa67fd0faefa00cfe6f784ffb2e.txt  \n",
            "  inflating: dataset/train/labels/77A8AEC1-C128-4F44-BE9A-932F7921452D_jpeg.rf.4078ba8c8ecfc0a1e92fd7ef3dd13607.txt  \n",
            "  inflating: dataset/train/labels/77A8AEC1-C128-4F44-BE9A-932F7921452D_jpeg.rf.8fae44dd36952c6b291f2aeaab88fbc6.txt  \n",
            "  inflating: dataset/train/labels/77E916D2-5D7C-4EE2-B47C-E03FDBF09811_jpeg.rf.0e35ee76e7ae06418b76c53415800d21.txt  \n",
            "  inflating: dataset/train/labels/77E916D2-5D7C-4EE2-B47C-E03FDBF09811_jpeg.rf.cca1b66e033cb9f92691cad95ed905b8.txt  \n",
            "  inflating: dataset/train/labels/77E916D2-5D7C-4EE2-B47C-E03FDBF09811_jpeg.rf.dd3f2ff009549ab8dae067189fec5b47.txt  \n",
            "  inflating: dataset/train/labels/789CE46D-1CB6-412B-88E2-C10FB134BE8E_jpeg.rf.062140caacda671a5aec1eef08a650a4.txt  \n",
            "  inflating: dataset/train/labels/789CE46D-1CB6-412B-88E2-C10FB134BE8E_jpeg.rf.3878ce7175f01893d2446b8a4639e0c4.txt  \n",
            "  inflating: dataset/train/labels/789CE46D-1CB6-412B-88E2-C10FB134BE8E_jpeg.rf.4ce3d1a62e5f346cc8bcef3966d2d01d.txt  \n",
            "  inflating: dataset/train/labels/79A68FE7-A13B-4550-AB62-BDA278FE5E48_jpeg.rf.686436c664013ce7ecd822181f4e31f9.txt  \n",
            "  inflating: dataset/train/labels/79A68FE7-A13B-4550-AB62-BDA278FE5E48_jpeg.rf.6900c5f4600bdc3019a457d501629de1.txt  \n",
            "  inflating: dataset/train/labels/79A68FE7-A13B-4550-AB62-BDA278FE5E48_jpeg.rf.ee613dbbc8f5bb39980dfedc1a73c71a.txt  \n",
            "  inflating: dataset/train/labels/79F91931-F592-4B5D-9F45-15795BF8DEDC_jpeg.rf.4968e12d931a72bf5f59502b539665b9.txt  \n",
            "  inflating: dataset/train/labels/79F91931-F592-4B5D-9F45-15795BF8DEDC_jpeg.rf.6def0bd0933da1cf46f49bfef04a5053.txt  \n",
            "  inflating: dataset/train/labels/79F91931-F592-4B5D-9F45-15795BF8DEDC_jpeg.rf.cf560bbd01c5d4cdc6e43df860e72434.txt  \n",
            "  inflating: dataset/train/labels/7B9295A3-99C4-4527-9AEE-EDFBFA7EB401_jpeg.rf.02c6c5724db0cdf4af74e526a5380225.txt  \n",
            "  inflating: dataset/train/labels/7B9295A3-99C4-4527-9AEE-EDFBFA7EB401_jpeg.rf.30c5a11724eb2c22ace15e89cda159d5.txt  \n",
            "  inflating: dataset/train/labels/7B9295A3-99C4-4527-9AEE-EDFBFA7EB401_jpeg.rf.b25aa88c4d2fc1d702b740a226218b6a.txt  \n",
            "  inflating: dataset/train/labels/7BA0E837-3B3A-4A27-B440-C752C87CFE2F_jpeg.rf.468350f6f62a29269b3c2cb993e3d6ba.txt  \n",
            "  inflating: dataset/train/labels/7BA0E837-3B3A-4A27-B440-C752C87CFE2F_jpeg.rf.5244f49c3222122a4cbb0f7afd52125e.txt  \n",
            "  inflating: dataset/train/labels/7BA0E837-3B3A-4A27-B440-C752C87CFE2F_jpeg.rf.ca719d77f6e9fe22f1982c02b6092961.txt  \n",
            "  inflating: dataset/train/labels/7BD1B7B5-6898-4781-B3AE-EF47716581A4_jpeg.rf.31550cd892ca8fd5a0e687e897c7302f.txt  \n",
            "  inflating: dataset/train/labels/7BD1B7B5-6898-4781-B3AE-EF47716581A4_jpeg.rf.3e9da4e19bf4568efa18990d25572965.txt  \n",
            "  inflating: dataset/train/labels/7BD1B7B5-6898-4781-B3AE-EF47716581A4_jpeg.rf.40beef775b95226d13cc0a2eea7c4e1d.txt  \n",
            "  inflating: dataset/train/labels/7C0C5755-C15A-4047-9A70-3ACEBD96270F_jpeg.rf.4651f6449b7f2107c69832735e8614aa.txt  \n",
            "  inflating: dataset/train/labels/7C0C5755-C15A-4047-9A70-3ACEBD96270F_jpeg.rf.9eeaf32a893b9c11b1db2d14d7e360c4.txt  \n",
            "  inflating: dataset/train/labels/7C0C5755-C15A-4047-9A70-3ACEBD96270F_jpeg.rf.dddca0570cbfcdbf3a52a96786f30dad.txt  \n",
            "  inflating: dataset/train/labels/7CB4199F-D232-4B3D-9C7D-3AFD41235C56_jpeg.rf.437c232408ab993afc0fcad86ff6c00c.txt  \n",
            "  inflating: dataset/train/labels/7CB4199F-D232-4B3D-9C7D-3AFD41235C56_jpeg.rf.78e01552baabf09fa93b4640c5ab827c.txt  \n",
            "  inflating: dataset/train/labels/7CB4199F-D232-4B3D-9C7D-3AFD41235C56_jpeg.rf.8847754961d451cb7410e76cce05fb65.txt  \n",
            "  inflating: dataset/train/labels/7CD7AAD7-3676-4937-BDA0-BD74FB82D14C_jpeg.rf.6d6c94935cf34674d26597cc35198914.txt  \n",
            "  inflating: dataset/train/labels/7CD7AAD7-3676-4937-BDA0-BD74FB82D14C_jpeg.rf.7ef88f0fe0230543debc01c6f96d66e9.txt  \n",
            "  inflating: dataset/train/labels/7CD7AAD7-3676-4937-BDA0-BD74FB82D14C_jpeg.rf.867981c304f13fe2386dd220601a18e7.txt  \n",
            "  inflating: dataset/train/labels/7D51EC90-739D-4165-8070-5A71AF2D597B_jpeg.rf.050c5e429d49d5f2f0610dc92758b853.txt  \n",
            "  inflating: dataset/train/labels/7D51EC90-739D-4165-8070-5A71AF2D597B_jpeg.rf.bde30b31f19166b2dee52adf3bdd26aa.txt  \n",
            "  inflating: dataset/train/labels/7D51EC90-739D-4165-8070-5A71AF2D597B_jpeg.rf.c945bacd6bdac8662b39cfac45c70201.txt  \n",
            "  inflating: dataset/train/labels/7D6B7CB6-A9B5-4D4E-B6D8-C8E031C59139_jpeg.rf.2cd092fee2ce3639a3c09a304327b5dd.txt  \n",
            "  inflating: dataset/train/labels/7D6B7CB6-A9B5-4D4E-B6D8-C8E031C59139_jpeg.rf.91a1de57abc90582f817b01e3ee30978.txt  \n",
            "  inflating: dataset/train/labels/7D6B7CB6-A9B5-4D4E-B6D8-C8E031C59139_jpeg.rf.d7a648406270b85c2e9ba75f00ffce5c.txt  \n",
            "  inflating: dataset/train/labels/7DD1B543-A7C8-4385-B870-DAFF2BDCB38D_jpeg.rf.524d2832bea817d0e45055153420c6d8.txt  \n",
            "  inflating: dataset/train/labels/7DD1B543-A7C8-4385-B870-DAFF2BDCB38D_jpeg.rf.54de1f865204ddf69c33aa5eabb498b7.txt  \n",
            "  inflating: dataset/train/labels/7DD1B543-A7C8-4385-B870-DAFF2BDCB38D_jpeg.rf.84e7b411c2392d9258cce64f422f7ad5.txt  \n",
            "  inflating: dataset/train/labels/7DD59037-DBA8-40FC-8F50-15D325A0358F_jpeg.rf.5c72e3bf99f79ac5803fc4db64755d65.txt  \n",
            "  inflating: dataset/train/labels/7DD59037-DBA8-40FC-8F50-15D325A0358F_jpeg.rf.910b039ddef4b967c9c33cdbe0635379.txt  \n",
            "  inflating: dataset/train/labels/7DD59037-DBA8-40FC-8F50-15D325A0358F_jpeg.rf.eafcb910c781712b5403b196ea256fba.txt  \n",
            "  inflating: dataset/train/labels/7DE393DE-D0CF-4B28-9A64-F9E0458E8B78_jpeg.rf.ad0a6fb13d1686b198ce5957a838808d.txt  \n",
            "  inflating: dataset/train/labels/7DE393DE-D0CF-4B28-9A64-F9E0458E8B78_jpeg.rf.d9af4dfca15f91661876c7b1c4592e0f.txt  \n",
            "  inflating: dataset/train/labels/7DE393DE-D0CF-4B28-9A64-F9E0458E8B78_jpeg.rf.f750f081e085d0e4d3f68caecfffe8a6.txt  \n",
            "  inflating: dataset/train/labels/7E62137A-75A2-42B4-849E-26A154231D97_jpeg.rf.27c163bb5f8f3dfbcfbce2d68f3d348a.txt  \n",
            "  inflating: dataset/train/labels/7E62137A-75A2-42B4-849E-26A154231D97_jpeg.rf.313116601b0a8f88edda0912df493390.txt  \n",
            "  inflating: dataset/train/labels/7E62137A-75A2-42B4-849E-26A154231D97_jpeg.rf.a923ebd2856ecb4acc12cf71ab1968f6.txt  \n",
            "  inflating: dataset/train/labels/7F4CFE8A-8163-4DCC-A854-7280B6A3A7D3_jpeg.rf.bfd73d20c26f59aeb360d455821ccfd1.txt  \n",
            "  inflating: dataset/train/labels/7F4CFE8A-8163-4DCC-A854-7280B6A3A7D3_jpeg.rf.dfcc93c10dbc2e64f4b8d4b1a80f2bd0.txt  \n",
            "  inflating: dataset/train/labels/7F4CFE8A-8163-4DCC-A854-7280B6A3A7D3_jpeg.rf.eda2ff278b523ab6d777f282606bb406.txt  \n",
            "  inflating: dataset/train/labels/8098B030-737E-4682-BD4A-6F7AD76995CC_jpeg.rf.8b0238ad0c0f0fb5d0891dc26c161219.txt  \n",
            "  inflating: dataset/train/labels/8098B030-737E-4682-BD4A-6F7AD76995CC_jpeg.rf.a4ab0709f7f10479680dbad2528e422a.txt  \n",
            "  inflating: dataset/train/labels/8098B030-737E-4682-BD4A-6F7AD76995CC_jpeg.rf.a8620f97acdeff20379d16e131fab68a.txt  \n",
            "  inflating: dataset/train/labels/817BB045-1868-44FB-BE9A-EC6338E60628_jpeg.rf.bf6bbc09e46e650ff69bc88b0e221cef.txt  \n",
            "  inflating: dataset/train/labels/817BB045-1868-44FB-BE9A-EC6338E60628_jpeg.rf.e65fd67235a679d04f73aea322de33d5.txt  \n",
            "  inflating: dataset/train/labels/817BB045-1868-44FB-BE9A-EC6338E60628_jpeg.rf.eaabb205741fdf788ce8c4c0d32236d3.txt  \n",
            "  inflating: dataset/train/labels/81AD464F-2A3E-48CD-BD4E-703901686D8C_jpeg.rf.5e0cf0cd925e8f06adb586f9f3ac2c72.txt  \n",
            "  inflating: dataset/train/labels/81AD464F-2A3E-48CD-BD4E-703901686D8C_jpeg.rf.822dcfc9ae4c70e8de96547d4e4f93df.txt  \n",
            "  inflating: dataset/train/labels/81AD464F-2A3E-48CD-BD4E-703901686D8C_jpeg.rf.f14886fffb487470249b1e098113f6f5.txt  \n",
            "  inflating: dataset/train/labels/81C6A470-F125-40F0-8F46-4785AB64E2E5_jpeg.rf.920967c437bcca32e4aaff4abfe54782.txt  \n",
            "  inflating: dataset/train/labels/81C6A470-F125-40F0-8F46-4785AB64E2E5_jpeg.rf.b5d03f76317853c4d116146c58fa0b81.txt  \n",
            "  inflating: dataset/train/labels/81C6A470-F125-40F0-8F46-4785AB64E2E5_jpeg.rf.d3af015200dcc6bafcef31d6c9a1c7b7.txt  \n",
            "  inflating: dataset/train/labels/820407A2-C366-4B86-8B5B-8BA9965F71B5_jpeg.rf.459cbb2f4d627906750e52ad1900a2ed.txt  \n",
            "  inflating: dataset/train/labels/820407A2-C366-4B86-8B5B-8BA9965F71B5_jpeg.rf.7893169f0ed43b4324a77ff33cb1092e.txt  \n",
            "  inflating: dataset/train/labels/820407A2-C366-4B86-8B5B-8BA9965F71B5_jpeg.rf.edb80b9637d5f79619e2d5bf26558c2a.txt  \n",
            " extracting: dataset/train/labels/832748FC-5E88-4453-9905-8B246E68B29E_jpeg.rf.6836bb8cfaa9418b416c7ef8706cb39a.txt  \n",
            "  inflating: dataset/train/labels/832748FC-5E88-4453-9905-8B246E68B29E_jpeg.rf.baeaef52d61a95dfa2dcbee6d4f522bc.txt  \n",
            "  inflating: dataset/train/labels/832748FC-5E88-4453-9905-8B246E68B29E_jpeg.rf.ef3e296321d91a7ec26fe1a4c57dda9e.txt  \n",
            "  inflating: dataset/train/labels/8336FE8A-251D-4877-AD83-E7D825C5330C_jpeg.rf.4bacc4f1c5c9e3fe1d8f8201f23ff424.txt  \n",
            "  inflating: dataset/train/labels/8336FE8A-251D-4877-AD83-E7D825C5330C_jpeg.rf.7d16599b1c2c71959b6aa2a177a2838b.txt  \n",
            "  inflating: dataset/train/labels/8336FE8A-251D-4877-AD83-E7D825C5330C_jpeg.rf.be70f3ef3f6466743f11073c65e4e8b7.txt  \n",
            "  inflating: dataset/train/labels/843EB796-6BA3-4DD5-B8CC-B1F1817CA1A7_jpeg.rf.5fd9d6f7c2c15bd91b7a1804bac2f97c.txt  \n",
            "  inflating: dataset/train/labels/843EB796-6BA3-4DD5-B8CC-B1F1817CA1A7_jpeg.rf.98a27d01c2cb2f13fa50d457d00f0cf3.txt  \n",
            "  inflating: dataset/train/labels/843EB796-6BA3-4DD5-B8CC-B1F1817CA1A7_jpeg.rf.dab43c65cf91f4f9d1b37ec5c15a62d5.txt  \n",
            "  inflating: dataset/train/labels/84D5C4FD-A63F-431F-9D53-ACCBE9097AD5_jpeg.rf.2c469a8eef1255a9a26da0e0ff42759a.txt  \n",
            "  inflating: dataset/train/labels/84D5C4FD-A63F-431F-9D53-ACCBE9097AD5_jpeg.rf.561d164b340f23dcc2d73284427c311e.txt  \n",
            "  inflating: dataset/train/labels/84D5C4FD-A63F-431F-9D53-ACCBE9097AD5_jpeg.rf.640822dbfa13ec5815be21dd4fad6ce3.txt  \n",
            "  inflating: dataset/train/labels/86B88C92-CC69-4527-B693-8EE3C9A636CB_jpeg.rf.213551b582d83223ced81fadc1d72596.txt  \n",
            "  inflating: dataset/train/labels/86B88C92-CC69-4527-B693-8EE3C9A636CB_jpeg.rf.32d23f75db2cd0725abf798e3a64f671.txt  \n",
            "  inflating: dataset/train/labels/86B88C92-CC69-4527-B693-8EE3C9A636CB_jpeg.rf.9acde6b25d6e254422ee36ef2a923d92.txt  \n",
            "  inflating: dataset/train/labels/86BFFAF6-EC54-474A-9518-052EC76F814C_jpeg.rf.04c8c65c09374aa37b9d5366312a248f.txt  \n",
            "  inflating: dataset/train/labels/86BFFAF6-EC54-474A-9518-052EC76F814C_jpeg.rf.259c34fda02c306550566b566a07d76c.txt  \n",
            "  inflating: dataset/train/labels/86BFFAF6-EC54-474A-9518-052EC76F814C_jpeg.rf.2d3bc82d6e7259430277262d65fc65f8.txt  \n",
            "  inflating: dataset/train/labels/88449C9F-4752-4CC7-82A6-EFE8AF5327F1_jpeg.rf.3a2ffcc09131f0501083d8df042a5ecf.txt  \n",
            "  inflating: dataset/train/labels/88449C9F-4752-4CC7-82A6-EFE8AF5327F1_jpeg.rf.a1e910a56eb40def3b743e5615ff87fb.txt  \n",
            "  inflating: dataset/train/labels/88449C9F-4752-4CC7-82A6-EFE8AF5327F1_jpeg.rf.f59aaed1edfc9e5d2e7756b57a17e909.txt  \n",
            "  inflating: dataset/train/labels/886E4A8C-BEEA-44B7-90DF-629243427F2A_jpeg.rf.9db1d87c503dc5c18fb603305741f8f8.txt  \n",
            "  inflating: dataset/train/labels/886E4A8C-BEEA-44B7-90DF-629243427F2A_jpeg.rf.b61ad2cead2a5df3b03657f5d857a06a.txt  \n",
            "  inflating: dataset/train/labels/886E4A8C-BEEA-44B7-90DF-629243427F2A_jpeg.rf.d5126edba2b0ae772a81a6a933021864.txt  \n",
            "  inflating: dataset/train/labels/89C0EB0F-7C3B-4A84-913A-FF7D967C7C16_jpeg.rf.1826f77e618b57c89cbd55d086751042.txt  \n",
            "  inflating: dataset/train/labels/89C0EB0F-7C3B-4A84-913A-FF7D967C7C16_jpeg.rf.9ec47c08317706a79ddcd17ebedb0aca.txt  \n",
            "  inflating: dataset/train/labels/89C0EB0F-7C3B-4A84-913A-FF7D967C7C16_jpeg.rf.ae2553c0a308d2ce366bbd370335823e.txt  \n",
            "  inflating: dataset/train/labels/8A0F9E09-6102-4718-9FCC-BE35F2103AAE_jpeg.rf.a7862a0fa5fa45f5ad3465a6c8a18d34.txt  \n",
            "  inflating: dataset/train/labels/8A0F9E09-6102-4718-9FCC-BE35F2103AAE_jpeg.rf.c0e84443d1f74d020cd597957e018ac8.txt  \n",
            "  inflating: dataset/train/labels/8A0F9E09-6102-4718-9FCC-BE35F2103AAE_jpeg.rf.c94177cde12505568ceed6479026b371.txt  \n",
            "  inflating: dataset/train/labels/8ABD0238-1569-451D-8BE1-1956826B885D_jpeg.rf.0a604e1c2523ba63a1ce9dec422a8b86.txt  \n",
            "  inflating: dataset/train/labels/8ABD0238-1569-451D-8BE1-1956826B885D_jpeg.rf.baf843764fd229227e60f799fcb25f12.txt  \n",
            "  inflating: dataset/train/labels/8ABD0238-1569-451D-8BE1-1956826B885D_jpeg.rf.f4fbc04a5e6a133efecd7858f236f4bc.txt  \n",
            "  inflating: dataset/train/labels/8AC668F4-EB2C-4863-A2B8-0A25C111F8BF_jpeg.rf.4bc88164a9a2c450ae4c05206c951c09.txt  \n",
            "  inflating: dataset/train/labels/8AC668F4-EB2C-4863-A2B8-0A25C111F8BF_jpeg.rf.8ef1215b2cc2a0eefc66f661a81b5846.txt  \n",
            "  inflating: dataset/train/labels/8AC668F4-EB2C-4863-A2B8-0A25C111F8BF_jpeg.rf.bb16632070b764526d87c7cf0dafe47e.txt  \n",
            "  inflating: dataset/train/labels/8B46B3D9-70C3-442E-9032-1CB20129A8C5_jpeg.rf.638da41ee190de0fc23cf8c54f2ac951.txt  \n",
            "  inflating: dataset/train/labels/8B46B3D9-70C3-442E-9032-1CB20129A8C5_jpeg.rf.a5089cecbd49d1d058e258b0f575260d.txt  \n",
            "  inflating: dataset/train/labels/8B46B3D9-70C3-442E-9032-1CB20129A8C5_jpeg.rf.d5c4f14574867d7b071cdee7448d6294.txt  \n",
            "  inflating: dataset/train/labels/8B9F4B17-D4EA-4048-B343-82AA8602B94F_jpeg.rf.84a36c62207ff6183f62aab889e165b6.txt  \n",
            "  inflating: dataset/train/labels/8B9F4B17-D4EA-4048-B343-82AA8602B94F_jpeg.rf.c6ad391a7df6fad4191188a7ce4b3db0.txt  \n",
            "  inflating: dataset/train/labels/8B9F4B17-D4EA-4048-B343-82AA8602B94F_jpeg.rf.c6b585a2ee61cf7c4e9067b93c500a1f.txt  \n",
            "  inflating: dataset/train/labels/8BC550B4-8D08-4BF8-9C41-3D5F817033CA_jpeg.rf.34e863ad1911c3cc035b26f79ec80aba.txt  \n",
            "  inflating: dataset/train/labels/8BC550B4-8D08-4BF8-9C41-3D5F817033CA_jpeg.rf.59ee85e24f9d55a1b09cf42055fecc80.txt  \n",
            "  inflating: dataset/train/labels/8BC550B4-8D08-4BF8-9C41-3D5F817033CA_jpeg.rf.e64c075072cdea15e452cebe8b9aa95d.txt  \n",
            "  inflating: dataset/train/labels/8BEC6094-EF94-4A11-A73E-564C1FBD571A_jpeg.rf.1c12695a2bc115be30732fd0954d2c17.txt  \n",
            "  inflating: dataset/train/labels/8BEC6094-EF94-4A11-A73E-564C1FBD571A_jpeg.rf.35bf1b71b63c48779a1da97101dca1b3.txt  \n",
            "  inflating: dataset/train/labels/8BEC6094-EF94-4A11-A73E-564C1FBD571A_jpeg.rf.e298b7450c5359752fb552b56b0c0ee5.txt  \n",
            "  inflating: dataset/train/labels/8C8E9AA2-04E2-4C79-8C8E-AC0D477FB890_jpeg.rf.0442d30aeae0f0e6fef24988d611bea4.txt  \n",
            "  inflating: dataset/train/labels/8C8E9AA2-04E2-4C79-8C8E-AC0D477FB890_jpeg.rf.929d45be37290499ae1a533eafb72d52.txt  \n",
            "  inflating: dataset/train/labels/8C8E9AA2-04E2-4C79-8C8E-AC0D477FB890_jpeg.rf.f2ec3c2f4ade59bdaa8157473cdb9b8d.txt  \n",
            "  inflating: dataset/train/labels/8D444828-1FA9-45B8-8401-1DA313072AA9_jpeg.rf.5e25adaa05ab6a9e29d395bce4cf2db5.txt  \n",
            "  inflating: dataset/train/labels/8D444828-1FA9-45B8-8401-1DA313072AA9_jpeg.rf.d933a633d4e521292dc69bb224a35c0d.txt  \n",
            "  inflating: dataset/train/labels/8D444828-1FA9-45B8-8401-1DA313072AA9_jpeg.rf.faf4e7c27e56d83100a226559cb47053.txt  \n",
            "  inflating: dataset/train/labels/8E2CDB8E-8434-4F62-89F7-5453C9BFEAF0_jpeg.rf.041f46f9d23a09eae95cfb39fc42e35a.txt  \n",
            "  inflating: dataset/train/labels/8E2CDB8E-8434-4F62-89F7-5453C9BFEAF0_jpeg.rf.12881d7d257944a20bcc9a6e94aa8159.txt  \n",
            "  inflating: dataset/train/labels/8E2CDB8E-8434-4F62-89F7-5453C9BFEAF0_jpeg.rf.2bc75854bf0d0a31d9dbac0111c44cd1.txt  \n",
            "  inflating: dataset/train/labels/8F5022DC-0FE1-42B8-B04D-859EECA73484_jpeg.rf.56ba93ca661ef81a28afac610f6efba8.txt  \n",
            "  inflating: dataset/train/labels/8F5022DC-0FE1-42B8-B04D-859EECA73484_jpeg.rf.ca1ea3b4f3a484e6163a0b3f5dd7efe6.txt  \n",
            "  inflating: dataset/train/labels/8F5022DC-0FE1-42B8-B04D-859EECA73484_jpeg.rf.d7d5f7a5e47b042913277ea2fae0def6.txt  \n",
            "  inflating: dataset/train/labels/8F5734E1-D00E-4FBD-B888-F8430A9482BF_jpeg.rf.5eb3bebd92c27c4e09435e80775c5309.txt  \n",
            "  inflating: dataset/train/labels/8F5734E1-D00E-4FBD-B888-F8430A9482BF_jpeg.rf.e93dea99de7f23dc6a82fa548aaa42f8.txt  \n",
            "  inflating: dataset/train/labels/8F5734E1-D00E-4FBD-B888-F8430A9482BF_jpeg.rf.eb0b18c9eb4aae943cfd27291e493ab0.txt  \n",
            "  inflating: dataset/train/labels/8F625785-CBD2-423D-BE27-8EB50A683EAD_jpeg.rf.2c4c46bb5ac159e3d9c3725e62e953b2.txt  \n",
            "  inflating: dataset/train/labels/8F625785-CBD2-423D-BE27-8EB50A683EAD_jpeg.rf.51b843930ef24c6f4b541cec58bae517.txt  \n",
            "  inflating: dataset/train/labels/8F625785-CBD2-423D-BE27-8EB50A683EAD_jpeg.rf.f3da6b9c8b2a04fc9450669f456177df.txt  \n",
            "  inflating: dataset/train/labels/8FCB821D-6D30-445F-A7C3-9FD3B068EB31_jpeg.rf.11f0e8f383187f645570e4b1fa3e723b.txt  \n",
            "  inflating: dataset/train/labels/8FCB821D-6D30-445F-A7C3-9FD3B068EB31_jpeg.rf.99f459d328072decd5f8a5153ecf0b59.txt  \n",
            "  inflating: dataset/train/labels/8FCB821D-6D30-445F-A7C3-9FD3B068EB31_jpeg.rf.a8bbf70e272a57bb62c2136dac4f0895.txt  \n",
            "  inflating: dataset/train/labels/91413E1E-89EF-4C74-988F-74721AAB74FB_jpeg.rf.6300a6afabac3fbf54ee724ebea37923.txt  \n",
            "  inflating: dataset/train/labels/91413E1E-89EF-4C74-988F-74721AAB74FB_jpeg.rf.7eb9641240126cf15d9f97301c6f8f0f.txt  \n",
            "  inflating: dataset/train/labels/91413E1E-89EF-4C74-988F-74721AAB74FB_jpeg.rf.ceb96c9a3c3df1dff5f28f587a6046fd.txt  \n",
            "  inflating: dataset/train/labels/935460E0-A50A-44C4-B8D7-D2A9C2860471_jpeg.rf.374952a678031d7de55c2769fc5c4303.txt  \n",
            "  inflating: dataset/train/labels/935460E0-A50A-44C4-B8D7-D2A9C2860471_jpeg.rf.652998d994b7ff613d4b41dd3fee8b7e.txt  \n",
            "  inflating: dataset/train/labels/935460E0-A50A-44C4-B8D7-D2A9C2860471_jpeg.rf.692c3d0ffebee096c4eee32891597ed5.txt  \n",
            "  inflating: dataset/train/labels/942BAAF3-0E71-41C8-B5A3-6E05154A1CE2_jpeg.rf.4f9c91d5cf7f643f1db8e95cb2126399.txt  \n",
            "  inflating: dataset/train/labels/942BAAF3-0E71-41C8-B5A3-6E05154A1CE2_jpeg.rf.85b607e9d9fa3884aafd59eb6ca6faec.txt  \n",
            "  inflating: dataset/train/labels/942BAAF3-0E71-41C8-B5A3-6E05154A1CE2_jpeg.rf.d427cbd01d06062e2b6d06e19530669d.txt  \n",
            "  inflating: dataset/train/labels/949C00B9-0D7E-4AD5-95E6-DA9DB63E2C1B_jpeg.rf.50c8d60785110694d56b80db09ee524a.txt  \n",
            "  inflating: dataset/train/labels/949C00B9-0D7E-4AD5-95E6-DA9DB63E2C1B_jpeg.rf.7aff40e930a7ccad2ae03d9fa8f8579b.txt  \n",
            "  inflating: dataset/train/labels/949C00B9-0D7E-4AD5-95E6-DA9DB63E2C1B_jpeg.rf.7cf4911175846c85d5b63f1b658460f1.txt  \n",
            "  inflating: dataset/train/labels/95D89108-7B41-4F21-90DC-493418DC1D4C_jpeg.rf.2e7a0c68cb4a1ab3171e3523b4c92e76.txt  \n",
            "  inflating: dataset/train/labels/95D89108-7B41-4F21-90DC-493418DC1D4C_jpeg.rf.c96a5801d1fbb50be0ff72e209c2b94b.txt  \n",
            "  inflating: dataset/train/labels/95D89108-7B41-4F21-90DC-493418DC1D4C_jpeg.rf.e306b9eba57bb3c20af05ba363454ff2.txt  \n",
            "  inflating: dataset/train/labels/96868757-D600-4A59-B8D8-4ABF5331B709_jpeg.rf.76bac62469394bd13c745562ea98783b.txt  \n",
            "  inflating: dataset/train/labels/96868757-D600-4A59-B8D8-4ABF5331B709_jpeg.rf.e3b250cec2ab30644c82fb01640276b1.txt  \n",
            "  inflating: dataset/train/labels/96868757-D600-4A59-B8D8-4ABF5331B709_jpeg.rf.f5829233990e1e7105f0bf71bec53631.txt  \n",
            "  inflating: dataset/train/labels/96CE8743-0DF9-4C09-9506-5FB4950EC52C_jpeg.rf.aeb05a779ae20f7e44b40ad22a6b5d9f.txt  \n",
            "  inflating: dataset/train/labels/96CE8743-0DF9-4C09-9506-5FB4950EC52C_jpeg.rf.b58d347e0b0187d203bd2eba5b2886a3.txt  \n",
            "  inflating: dataset/train/labels/96CE8743-0DF9-4C09-9506-5FB4950EC52C_jpeg.rf.e91535380009141fdc9d982f0d56dfa2.txt  \n",
            " extracting: dataset/train/labels/97F14081-B9A0-46C9-996F-E41123C1104B_jpeg.rf.036a5a6a154ba0c1b9963e45b4d26c5d.txt  \n",
            "  inflating: dataset/train/labels/97F14081-B9A0-46C9-996F-E41123C1104B_jpeg.rf.0c83abd9e49c14c813d94345262e4e0c.txt  \n",
            "  inflating: dataset/train/labels/97F14081-B9A0-46C9-996F-E41123C1104B_jpeg.rf.c923b7dc48c9acde1deedbb92cc583cf.txt  \n",
            " extracting: dataset/train/labels/98CD4E93-EB19-4D26-94DD-6D549E02DE57_jpeg.rf.39b9394fc8da30e050570fd90a76f076.txt  \n",
            "  inflating: dataset/train/labels/98CD4E93-EB19-4D26-94DD-6D549E02DE57_jpeg.rf.ac10bfdb33ad3c85dce43895aee50b23.txt  \n",
            "  inflating: dataset/train/labels/98CD4E93-EB19-4D26-94DD-6D549E02DE57_jpeg.rf.fbf780d3778265896001279095042a09.txt  \n",
            "  inflating: dataset/train/labels/99A50B8E-0373-4356-88E6-453899F9F27E_jpeg.rf.091803d7ce337ebe6c498490a5c67420.txt  \n",
            "  inflating: dataset/train/labels/99A50B8E-0373-4356-88E6-453899F9F27E_jpeg.rf.48df4bab7dd9e48f947c18a87feb95a2.txt  \n",
            "  inflating: dataset/train/labels/99A50B8E-0373-4356-88E6-453899F9F27E_jpeg.rf.9f29cf73f7d483fe5dd82eb1aed046e7.txt  \n",
            "  inflating: dataset/train/labels/9AB346FF-DA54-421F-AD9B-AB6175FC050B_jpeg.rf.197cc02e9a950e1f2ef80f9a45485ec0.txt  \n",
            "  inflating: dataset/train/labels/9AB346FF-DA54-421F-AD9B-AB6175FC050B_jpeg.rf.2f8a409566807d7b98a50d64ba357faa.txt  \n",
            "  inflating: dataset/train/labels/9AB346FF-DA54-421F-AD9B-AB6175FC050B_jpeg.rf.dddc5785ce02ada228c61ab14a0c49ab.txt  \n",
            "  inflating: dataset/train/labels/9B4818E5-EA46-4B9D-87B5-2A5BB3BE2B17_jpeg.rf.3e91dbba48a6017740a4176c623d29a5.txt  \n",
            "  inflating: dataset/train/labels/9B4818E5-EA46-4B9D-87B5-2A5BB3BE2B17_jpeg.rf.bff0bb43431ef1d6b5af938e992a9d06.txt  \n",
            "  inflating: dataset/train/labels/9B4818E5-EA46-4B9D-87B5-2A5BB3BE2B17_jpeg.rf.db6edf0423312674677a12f13c2324c7.txt  \n",
            "  inflating: dataset/train/labels/9B59050B-BE16-49D2-B1BB-B3CC7F3DDF38_jpeg.rf.0ee70a8f2f43d96860b34a08b770b57a.txt  \n",
            " extracting: dataset/train/labels/9B59050B-BE16-49D2-B1BB-B3CC7F3DDF38_jpeg.rf.a5bd310ed9d444b1495b6b7fa41844ed.txt  \n",
            "  inflating: dataset/train/labels/9B59050B-BE16-49D2-B1BB-B3CC7F3DDF38_jpeg.rf.b9c8e58d57d0c8e4290117a305e3bfa9.txt  \n",
            "  inflating: dataset/train/labels/9B6E0D20-5D79-4DA2-BFD3-51D279770DC5_jpeg.rf.bd63c67ac2e81d53ea53d5f0d6ea27c0.txt  \n",
            "  inflating: dataset/train/labels/9B6E0D20-5D79-4DA2-BFD3-51D279770DC5_jpeg.rf.dc8f08f79b93125626046caf92956d0a.txt  \n",
            "  inflating: dataset/train/labels/9B6E0D20-5D79-4DA2-BFD3-51D279770DC5_jpeg.rf.eff23dc4fe97edf9ecd6b3bb917441b6.txt  \n",
            "  inflating: dataset/train/labels/9BD2378F-C610-46F4-B7A3-61B8C4317F00_jpeg.rf.5ff41d1a1add54d24ac3f1022cc9efab.txt  \n",
            "  inflating: dataset/train/labels/9BD2378F-C610-46F4-B7A3-61B8C4317F00_jpeg.rf.6f4ddec286aeea8d7c5c44e4ef6182f9.txt  \n",
            " extracting: dataset/train/labels/9BD2378F-C610-46F4-B7A3-61B8C4317F00_jpeg.rf.f927daf2c8532edbd2000b030dc9a9ab.txt  \n",
            "  inflating: dataset/train/labels/9BDBD372-E7A8-4EFC-97F9-1802DAADE9F0_jpeg.rf.2484a1940d1ce26290d0ccfea56f5dd7.txt  \n",
            "  inflating: dataset/train/labels/9BDBD372-E7A8-4EFC-97F9-1802DAADE9F0_jpeg.rf.869618d45f14c10565845c1ca8a9e52d.txt  \n",
            "  inflating: dataset/train/labels/9BDBD372-E7A8-4EFC-97F9-1802DAADE9F0_jpeg.rf.abcc6049841fef2b288e8ba0d5ba6b99.txt  \n",
            "  inflating: dataset/train/labels/9CA71049-07B1-4DD9-852F-0ACB417CFF99_jpeg.rf.447df44c4fd105cb156606fcf78dbb06.txt  \n",
            "  inflating: dataset/train/labels/9CA71049-07B1-4DD9-852F-0ACB417CFF99_jpeg.rf.c6a36091c8d664cef349c20bb7fc1ac1.txt  \n",
            "  inflating: dataset/train/labels/9CA71049-07B1-4DD9-852F-0ACB417CFF99_jpeg.rf.e3acdc351398e419bc670da62bac5654.txt  \n",
            "  inflating: dataset/train/labels/9E4DA4D1-B0E6-4EB5-A005-09BA2E4DCF33_jpeg.rf.1c8d4cb83f7bbf74fab57dd3838c6c48.txt  \n",
            "  inflating: dataset/train/labels/9E4DA4D1-B0E6-4EB5-A005-09BA2E4DCF33_jpeg.rf.2f449c98513b10d8e71be9275195b453.txt  \n",
            "  inflating: dataset/train/labels/9E4DA4D1-B0E6-4EB5-A005-09BA2E4DCF33_jpeg.rf.4fbe3c9817771562bc3bc9479eccf448.txt  \n",
            "  inflating: dataset/train/labels/9EC6FEEF-AC98-4C88-ABE7-FEF11C071DA5_jpeg.rf.01b3035be6691ae4614d8c67f3cf6aad.txt  \n",
            "  inflating: dataset/train/labels/9EC6FEEF-AC98-4C88-ABE7-FEF11C071DA5_jpeg.rf.f374e9e905726c5a9fad3c691481397e.txt  \n",
            "  inflating: dataset/train/labels/9EC6FEEF-AC98-4C88-ABE7-FEF11C071DA5_jpeg.rf.f9637ff4b24e201d5a1a300781b9ccaf.txt  \n",
            "  inflating: dataset/train/labels/A08830F3-61CE-4D35-925F-9258024257DB_jpeg.rf.4276ecab5cfe7ec4909dcf01010443e9.txt  \n",
            "  inflating: dataset/train/labels/A08830F3-61CE-4D35-925F-9258024257DB_jpeg.rf.631ec26cdd6796f89b04d4dbb1ee6cdd.txt  \n",
            "  inflating: dataset/train/labels/A08830F3-61CE-4D35-925F-9258024257DB_jpeg.rf.d6d4e5a410417da0dc87130f5f06363d.txt  \n",
            "  inflating: dataset/train/labels/A1634088-3F1A-4DDF-BD20-5F51779E61DD_jpeg.rf.6603a622d70af5f95eda16fdc0d99aee.txt  \n",
            "  inflating: dataset/train/labels/A1634088-3F1A-4DDF-BD20-5F51779E61DD_jpeg.rf.a04bd3c0bdeca30ef39eeda8348770c1.txt  \n",
            "  inflating: dataset/train/labels/A1634088-3F1A-4DDF-BD20-5F51779E61DD_jpeg.rf.b3004415635b26d44b635578f18ece06.txt  \n",
            "  inflating: dataset/train/labels/A2292AB7-D4B7-4B1D-A609-59DDA6F7F5DD_jpeg.rf.133c0dcc035dc4e99287b42bd849a525.txt  \n",
            "  inflating: dataset/train/labels/A2292AB7-D4B7-4B1D-A609-59DDA6F7F5DD_jpeg.rf.3e15ffff33380c94d4fc1328a4ffb4a6.txt  \n",
            "  inflating: dataset/train/labels/A2292AB7-D4B7-4B1D-A609-59DDA6F7F5DD_jpeg.rf.bbac023340c8463911b457dd4655233a.txt  \n",
            "  inflating: dataset/train/labels/A2794CBD-6754-4C74-8CEC-EBFA7A452B62_jpeg.rf.7e2a4845661a83b771ea1e9f41f7d1f6.txt  \n",
            "  inflating: dataset/train/labels/A2794CBD-6754-4C74-8CEC-EBFA7A452B62_jpeg.rf.ab32d27b2fd4659505c0f35917f94743.txt  \n",
            "  inflating: dataset/train/labels/A2794CBD-6754-4C74-8CEC-EBFA7A452B62_jpeg.rf.b1086cc5dfd2d94d48003cc44bdfe451.txt  \n",
            "  inflating: dataset/train/labels/A2B473FC-876C-4CDC-9D2B-FE340B93E319_jpeg.rf.3a5ead1da117cb1813e5ebd56431f76e.txt  \n",
            "  inflating: dataset/train/labels/A2B473FC-876C-4CDC-9D2B-FE340B93E319_jpeg.rf.4bdf148c425b4c553ad3894ecb59b45a.txt  \n",
            "  inflating: dataset/train/labels/A2B473FC-876C-4CDC-9D2B-FE340B93E319_jpeg.rf.712f168aaefdbe77736bc53b9d77ddf9.txt  \n",
            "  inflating: dataset/train/labels/A2F98C07-6E4D-4C5D-A56F-8C8BCA4DDFF3_jpeg.rf.0b42151c0f8850378ffcdf90e087b70b.txt  \n",
            "  inflating: dataset/train/labels/A2F98C07-6E4D-4C5D-A56F-8C8BCA4DDFF3_jpeg.rf.7d176f559a034e2bb4f59925677737f6.txt  \n",
            "  inflating: dataset/train/labels/A2F98C07-6E4D-4C5D-A56F-8C8BCA4DDFF3_jpeg.rf.814471421708cbf51eebfc6101608b33.txt  \n",
            "  inflating: dataset/train/labels/A3628620-D077-4CBB-8AC3-FDFCECC44F1F_jpeg.rf.1ff185a95e75c8502b0dbe65a0404c5f.txt  \n",
            "  inflating: dataset/train/labels/A3628620-D077-4CBB-8AC3-FDFCECC44F1F_jpeg.rf.73c2e03e788753e417cd3ca539aa3af9.txt  \n",
            " extracting: dataset/train/labels/A3628620-D077-4CBB-8AC3-FDFCECC44F1F_jpeg.rf.7cd02fce8768045d55b9623a3d4419d8.txt  \n",
            "  inflating: dataset/train/labels/A54F8707-C870-459F-BC9D-1FD8B40890CA_jpeg.rf.1ada919bb8252a5a3f39faf71b7510ee.txt  \n",
            "  inflating: dataset/train/labels/A54F8707-C870-459F-BC9D-1FD8B40890CA_jpeg.rf.2a388e79f5c980e855d357ef2a22a342.txt  \n",
            "  inflating: dataset/train/labels/A54F8707-C870-459F-BC9D-1FD8B40890CA_jpeg.rf.7be0a9d9afa85685119cd7a6a639b1ff.txt  \n",
            "  inflating: dataset/train/labels/A6C95A0D-916C-4868-8E5E-D090CA8FA1AB_jpeg.rf.4ba815cf159659ca84495da08cf10102.txt  \n",
            "  inflating: dataset/train/labels/A6C95A0D-916C-4868-8E5E-D090CA8FA1AB_jpeg.rf.a3a659d4e1445fdb15df4e8b69910edc.txt  \n",
            "  inflating: dataset/train/labels/A6C95A0D-916C-4868-8E5E-D090CA8FA1AB_jpeg.rf.c17f755f013cdb2b19348b3c72e7328b.txt  \n",
            "  inflating: dataset/train/labels/A7FCA373-9EDF-4811-95B7-1882594E8DFD_jpeg.rf.10b72c400819de719cb40c58622fc83e.txt  \n",
            "  inflating: dataset/train/labels/A7FCA373-9EDF-4811-95B7-1882594E8DFD_jpeg.rf.2b14a0b0065fb4732ca5298748b46351.txt  \n",
            "  inflating: dataset/train/labels/A7FCA373-9EDF-4811-95B7-1882594E8DFD_jpeg.rf.e7d4b219794eca6c0cbc73c1eef7fe74.txt  \n",
            "  inflating: dataset/train/labels/A96185E0-1E0F-4ADA-8110-308A86A3A6BC_jpeg.rf.3eb654849539fad556eba9c1f99de138.txt  \n",
            "  inflating: dataset/train/labels/A96185E0-1E0F-4ADA-8110-308A86A3A6BC_jpeg.rf.7439683b119255a488c14c7cc82b1cfe.txt  \n",
            "  inflating: dataset/train/labels/A96185E0-1E0F-4ADA-8110-308A86A3A6BC_jpeg.rf.b4440935676bcc2710db4466643b4b71.txt  \n",
            "  inflating: dataset/train/labels/A9900972-6826-4EE9-8615-90600ADD67D7_jpeg.rf.3e3ee595c4c013991894789980989f55.txt  \n",
            "  inflating: dataset/train/labels/A9900972-6826-4EE9-8615-90600ADD67D7_jpeg.rf.9b54b819921204783864785279f9a5a2.txt  \n",
            "  inflating: dataset/train/labels/A9900972-6826-4EE9-8615-90600ADD67D7_jpeg.rf.bce7f802bf77e097045b26f862bbe845.txt  \n",
            "  inflating: dataset/train/labels/A995EAA1-C4ED-427E-A94E-FC877CA48835_jpeg.rf.3315ee46bfcd198cd8a17d800dcca4a8.txt  \n",
            "  inflating: dataset/train/labels/A995EAA1-C4ED-427E-A94E-FC877CA48835_jpeg.rf.a903b27c37b3e9ee685f1206a48d5c4d.txt  \n",
            "  inflating: dataset/train/labels/A995EAA1-C4ED-427E-A94E-FC877CA48835_jpeg.rf.b1f79e3ff4cb7cc0ba1364221e84e654.txt  \n",
            "  inflating: dataset/train/labels/AAAA7E5D-1509-4D64-A5C6-B6F3D8749B1E_jpeg.rf.2352dcaae5838d0f0192e3f5970e0693.txt  \n",
            "  inflating: dataset/train/labels/AAAA7E5D-1509-4D64-A5C6-B6F3D8749B1E_jpeg.rf.c78dfe3c0a3ca2217af522a6b4c1d5c1.txt  \n",
            "  inflating: dataset/train/labels/AAAA7E5D-1509-4D64-A5C6-B6F3D8749B1E_jpeg.rf.deb8d4575fc62f8260f7bc0b60912fbb.txt  \n",
            "  inflating: dataset/train/labels/AABC3AED-ECE0-4E79-8A93-BE09B568D5BC_jpeg.rf.3e7f2d7c650890280c9bdd1b4534551c.txt  \n",
            "  inflating: dataset/train/labels/AABC3AED-ECE0-4E79-8A93-BE09B568D5BC_jpeg.rf.96b1dbe4e6d10e8a659009ae74908ed3.txt  \n",
            "  inflating: dataset/train/labels/AABC3AED-ECE0-4E79-8A93-BE09B568D5BC_jpeg.rf.caf269cde2dd601087760dd97742ca85.txt  \n",
            "  inflating: dataset/train/labels/AAEC5866-B067-4DB4-8E33-885B6C4FC0E5_jpeg.rf.4781a42ef473a61a2541e8ffd90ae4af.txt  \n",
            "  inflating: dataset/train/labels/AAEC5866-B067-4DB4-8E33-885B6C4FC0E5_jpeg.rf.a030dc432c1d36893ff554b21239daba.txt  \n",
            "  inflating: dataset/train/labels/AAEC5866-B067-4DB4-8E33-885B6C4FC0E5_jpeg.rf.adbd1fcaa504cc219b9d0acf700826f3.txt  \n",
            "  inflating: dataset/train/labels/AB9428B5-39A8-4A01-AAD0-CAA94D732986_jpeg.rf.00f1e88380fd0531b06cef02844da22d.txt  \n",
            "  inflating: dataset/train/labels/AB9428B5-39A8-4A01-AAD0-CAA94D732986_jpeg.rf.cabc02a6a3f166d243bcaabe63bf9b2e.txt  \n",
            "  inflating: dataset/train/labels/AB9428B5-39A8-4A01-AAD0-CAA94D732986_jpeg.rf.cf65df297f41031b2f6003e11656b8f9.txt  \n",
            "  inflating: dataset/train/labels/AC92F76D-94EE-4417-ADF9-696F6822D985_jpeg.rf.64eb2a7cc29eab7a7d5d164ceedab631.txt  \n",
            "  inflating: dataset/train/labels/AC92F76D-94EE-4417-ADF9-696F6822D985_jpeg.rf.b32b945b56fef68eeda668996566228a.txt  \n",
            "  inflating: dataset/train/labels/AC92F76D-94EE-4417-ADF9-696F6822D985_jpeg.rf.e5722d9bca1820385db1c95a63d142a0.txt  \n",
            "  inflating: dataset/train/labels/AD7A85FF-A451-4A67-999D-9AD15CA89D90_jpeg.rf.6b7166332a666f94ffbb9fdb7987e158.txt  \n",
            "  inflating: dataset/train/labels/AD7A85FF-A451-4A67-999D-9AD15CA89D90_jpeg.rf.94f1b97b48aa5c07d52e5c441b0b525c.txt  \n",
            "  inflating: dataset/train/labels/AD7A85FF-A451-4A67-999D-9AD15CA89D90_jpeg.rf.ce28b377a22b05cc1c193bbcd1a65b7e.txt  \n",
            "  inflating: dataset/train/labels/AE26955D-CC30-48B5-9B5D-A380F598A72F_jpeg.rf.2ce2ae0451738e221cd13fcc9289eaee.txt  \n",
            "  inflating: dataset/train/labels/AE26955D-CC30-48B5-9B5D-A380F598A72F_jpeg.rf.65750ef84e408ac223545c678897a5cd.txt  \n",
            "  inflating: dataset/train/labels/AE26955D-CC30-48B5-9B5D-A380F598A72F_jpeg.rf.d1f292c6263e6632cdf045a15694185f.txt  \n",
            "  inflating: dataset/train/labels/AEECFCAC-D50D-41E5-8B94-543EF3F6D756_jpeg.rf.1c253e76c6671f7ec0b698672dfd06e9.txt  \n",
            "  inflating: dataset/train/labels/AEECFCAC-D50D-41E5-8B94-543EF3F6D756_jpeg.rf.8eb5307f9c39ef4cc6dc9374f87d7df4.txt  \n",
            "  inflating: dataset/train/labels/AEECFCAC-D50D-41E5-8B94-543EF3F6D756_jpeg.rf.dd19a5cb1a2f28d118aaa82460aeefd4.txt  \n",
            "  inflating: dataset/train/labels/AF1C606B-3C82-4ED8-92D5-9542090AF447_jpeg.rf.0d6efa43bd3cc5bfffecd39565d6fb51.txt  \n",
            "  inflating: dataset/train/labels/AF1C606B-3C82-4ED8-92D5-9542090AF447_jpeg.rf.3672e90f725f35e8bf64cbf17821cc64.txt  \n",
            "  inflating: dataset/train/labels/AF1C606B-3C82-4ED8-92D5-9542090AF447_jpeg.rf.3ea5545ba6b4f49c04c76ed2aa9af40e.txt  \n",
            "  inflating: dataset/train/labels/AFD00538-039B-4251-B3B6-6912275B1E85_jpeg.rf.05f3d30cfaaee1c744531d7037295da7.txt  \n",
            "  inflating: dataset/train/labels/AFD00538-039B-4251-B3B6-6912275B1E85_jpeg.rf.3ddb734ed6cba9dc4050737d13a29ca7.txt  \n",
            "  inflating: dataset/train/labels/AFD00538-039B-4251-B3B6-6912275B1E85_jpeg.rf.c619c8c8db52e316e8831b626a66f768.txt  \n",
            "  inflating: dataset/train/labels/B0692A47-99BF-483A-829E-D575E46B1B0C_jpeg.rf.91d1276c225bb35d0e7cfcff4ee83c53.txt  \n",
            "  inflating: dataset/train/labels/B0692A47-99BF-483A-829E-D575E46B1B0C_jpeg.rf.cca8f4453eafa56654ac9fdd92e2e19b.txt  \n",
            "  inflating: dataset/train/labels/B0692A47-99BF-483A-829E-D575E46B1B0C_jpeg.rf.e0338ed4c19b0d86bbe7be21ed9cad7a.txt  \n",
            "  inflating: dataset/train/labels/B0EB6D7E-F882-4060-988A-0F094763DAF3_jpeg.rf.99d0f46cb19374a5c853ff0497951244.txt  \n",
            "  inflating: dataset/train/labels/B0EB6D7E-F882-4060-988A-0F094763DAF3_jpeg.rf.9b52975a262337a665d9e6faf9edbd7f.txt  \n",
            "  inflating: dataset/train/labels/B0EB6D7E-F882-4060-988A-0F094763DAF3_jpeg.rf.bec5dbe37cecc55ac78d29cc7d9d58cd.txt  \n",
            "  inflating: dataset/train/labels/B1239529-68B2-4D77-B7B6-48AB78D24512_jpeg.rf.1dd59af0fb4dfc45df535b38835a245e.txt  \n",
            "  inflating: dataset/train/labels/B1239529-68B2-4D77-B7B6-48AB78D24512_jpeg.rf.cae34ab9f02e6ff73a6b142cf7abeac9.txt  \n",
            "  inflating: dataset/train/labels/B1239529-68B2-4D77-B7B6-48AB78D24512_jpeg.rf.cd058877e61fa26197adab6fe126c04b.txt  \n",
            "  inflating: dataset/train/labels/B18577F5-9170-444A-81EC-11414BEC1D34_jpeg.rf.0579be95d126a80d96883f0782c19b2c.txt  \n",
            "  inflating: dataset/train/labels/B18577F5-9170-444A-81EC-11414BEC1D34_jpeg.rf.0c4cd200a32eb9f07a86e1118d4bb8b8.txt  \n",
            "  inflating: dataset/train/labels/B18577F5-9170-444A-81EC-11414BEC1D34_jpeg.rf.9ecbcd60f88eec85d6ba939a594db7e2.txt  \n",
            "  inflating: dataset/train/labels/B1A0A919-CC15-4F76-8054-CE6A8E1DFACB_jpeg.rf.2c576cc3f8c654da942ad886606aca39.txt  \n",
            "  inflating: dataset/train/labels/B1A0A919-CC15-4F76-8054-CE6A8E1DFACB_jpeg.rf.5c6eb40bdea328cc5e41b0f9b053ced7.txt  \n",
            "  inflating: dataset/train/labels/B1A0A919-CC15-4F76-8054-CE6A8E1DFACB_jpeg.rf.d3ca0ec3721b1562ed40cf8a065efe2e.txt  \n",
            "  inflating: dataset/train/labels/B1AA8398-79EE-47FD-8315-F0B9A1B0F146_jpeg.rf.25c8a5b359375ab18feeca34007e087e.txt  \n",
            "  inflating: dataset/train/labels/B1AA8398-79EE-47FD-8315-F0B9A1B0F146_jpeg.rf.b56135bfb656c50b917a2422547f5f33.txt  \n",
            "  inflating: dataset/train/labels/B1AA8398-79EE-47FD-8315-F0B9A1B0F146_jpeg.rf.ec60af5e06d8816d7fcb467a08c9f6cd.txt  \n",
            "  inflating: dataset/train/labels/B1BF65C4-DBE9-423A-BFF5-07FA3EA58730_jpeg.rf.d219054af8eb81a7f8daadfd9b799a1a.txt  \n",
            "  inflating: dataset/train/labels/B1BF65C4-DBE9-423A-BFF5-07FA3EA58730_jpeg.rf.dcb9a290d71548cdfa5cf6fed2e3f3c1.txt  \n",
            "  inflating: dataset/train/labels/B1BF65C4-DBE9-423A-BFF5-07FA3EA58730_jpeg.rf.e1763ff9697eeb9b51a842f5970dbc3c.txt  \n",
            "  inflating: dataset/train/labels/B2A31857-EC18-41D3-86DF-525AE0473186_jpeg.rf.37b516ec651315d15d161fe600e855ab.txt  \n",
            "  inflating: dataset/train/labels/B2A31857-EC18-41D3-86DF-525AE0473186_jpeg.rf.d994f4e42a9ef74cdaf289a9e8be427a.txt  \n",
            "  inflating: dataset/train/labels/B2A31857-EC18-41D3-86DF-525AE0473186_jpeg.rf.e1fc79300802a65da226bd4656c4050f.txt  \n",
            "  inflating: dataset/train/labels/B2CF3BFD-0BBF-460A-9949-A46B4919AF09_jpeg.rf.80eaef6b29bcf3b75a44e1ed59606b31.txt  \n",
            "  inflating: dataset/train/labels/B2CF3BFD-0BBF-460A-9949-A46B4919AF09_jpeg.rf.8f583d2c55c01cde28b2100e48bd06c7.txt  \n",
            "  inflating: dataset/train/labels/B2CF3BFD-0BBF-460A-9949-A46B4919AF09_jpeg.rf.e3ac36421ef428078c16c7e0fd7dee28.txt  \n",
            "  inflating: dataset/train/labels/B3D541BD-86F2-43C1-965D-2973B57AA838_jpeg.rf.0e2ca211daadb2c8111c5f430614f914.txt  \n",
            "  inflating: dataset/train/labels/B3D541BD-86F2-43C1-965D-2973B57AA838_jpeg.rf.2edcbcc222ef0a9fe8a1ff0f03a14fdc.txt  \n",
            "  inflating: dataset/train/labels/B3D541BD-86F2-43C1-965D-2973B57AA838_jpeg.rf.fc2bdbb129be42b6eb6ab0474e6d5ebc.txt  \n",
            "  inflating: dataset/train/labels/B433EB74-4D99-415F-89BB-E79FB4478CC3_jpeg.rf.762bd6928da5ba9c8ac4db70f00f3905.txt  \n",
            "  inflating: dataset/train/labels/B433EB74-4D99-415F-89BB-E79FB4478CC3_jpeg.rf.aca700a6727562450d28c44497968c46.txt  \n",
            "  inflating: dataset/train/labels/B433EB74-4D99-415F-89BB-E79FB4478CC3_jpeg.rf.e6a9302bfb3702820c88366f7d4bc8b4.txt  \n",
            "  inflating: dataset/train/labels/B4AC9C01-0C0A-4359-82D3-A4A26FADC97D_jpeg.rf.4947487293f01636531944fd34eefd2f.txt  \n",
            "  inflating: dataset/train/labels/B4AC9C01-0C0A-4359-82D3-A4A26FADC97D_jpeg.rf.8ee6847437751393953abe23084db21b.txt  \n",
            "  inflating: dataset/train/labels/B4AC9C01-0C0A-4359-82D3-A4A26FADC97D_jpeg.rf.aeda483c283f744ae735a8e4bd3e76ba.txt  \n",
            "  inflating: dataset/train/labels/B5119125-4F28-416A-B4B3-65697003434C_jpeg.rf.9339b2b6d600c2ce97298f445beaab46.txt  \n",
            "  inflating: dataset/train/labels/B5119125-4F28-416A-B4B3-65697003434C_jpeg.rf.9b9d0c5a0aaf5980187f74a27869abbf.txt  \n",
            "  inflating: dataset/train/labels/B5119125-4F28-416A-B4B3-65697003434C_jpeg.rf.ea8eec426fa4e3347976d4e2a7575c3a.txt  \n",
            "  inflating: dataset/train/labels/B8205A2A-C64C-410D-9037-F5031489A74B_jpeg.rf.1507709e2c2b77841c5d073517a81890.txt  \n",
            "  inflating: dataset/train/labels/B8205A2A-C64C-410D-9037-F5031489A74B_jpeg.rf.af6b761f9ba2b2855c90e977daa80cb4.txt  \n",
            "  inflating: dataset/train/labels/B8205A2A-C64C-410D-9037-F5031489A74B_jpeg.rf.c6234ccca7f67c6eeecb5aa27756deed.txt  \n",
            "  inflating: dataset/train/labels/B858DB47-7444-4BA2-AA70-BE47BCEB4C36_jpeg.rf.18d64208c637d52d9be16d444e8cd0a4.txt  \n",
            "  inflating: dataset/train/labels/B858DB47-7444-4BA2-AA70-BE47BCEB4C36_jpeg.rf.2c1c0bc5fe8e8a1aa1b494d8acb6d3c0.txt  \n",
            "  inflating: dataset/train/labels/B858DB47-7444-4BA2-AA70-BE47BCEB4C36_jpeg.rf.3dfef97f9e35ad7c0ae2fdf1877c47d4.txt  \n",
            "  inflating: dataset/train/labels/BA8A34C1-D470-4187-B915-663C44CBFD07_jpeg.rf.1f44f62309c4f094d25eb31ca41d9595.txt  \n",
            "  inflating: dataset/train/labels/BA8A34C1-D470-4187-B915-663C44CBFD07_jpeg.rf.3186c1964dc81cc9d1aaed7ba875feb9.txt  \n",
            "  inflating: dataset/train/labels/BA8A34C1-D470-4187-B915-663C44CBFD07_jpeg.rf.de233be6f9913c595c5fa70390fe54be.txt  \n",
            "  inflating: dataset/train/labels/BBA2730F-C6B2-46E7-9377-D18B0930321A_jpeg.rf.47b8cfca6548f66cad4fe8114f9fa85d.txt  \n",
            "  inflating: dataset/train/labels/BBA2730F-C6B2-46E7-9377-D18B0930321A_jpeg.rf.76d4b7a6ff48ae520b085cbe6f9d1df0.txt  \n",
            "  inflating: dataset/train/labels/BBA2730F-C6B2-46E7-9377-D18B0930321A_jpeg.rf.f9923048848a53dfd2edd36739050571.txt  \n",
            "  inflating: dataset/train/labels/BCA2ED72-02F6-455B-9327-8C9534CD731D_jpeg.rf.0c7845b0117c0110d5233344331cd3b7.txt  \n",
            "  inflating: dataset/train/labels/BCA2ED72-02F6-455B-9327-8C9534CD731D_jpeg.rf.36f39b4b2a567d899807cba305743891.txt  \n",
            "  inflating: dataset/train/labels/BCA2ED72-02F6-455B-9327-8C9534CD731D_jpeg.rf.bdba5ac92330bb6396647e14432699e0.txt  \n",
            "  inflating: dataset/train/labels/BCAC7627-A9D7-4195-AD15-810EB81A5A5C_jpeg.rf.16c022ba10ff8fee814a04b435c9af7d.txt  \n",
            "  inflating: dataset/train/labels/BCAC7627-A9D7-4195-AD15-810EB81A5A5C_jpeg.rf.6f2d5653f635eea95bc11af940f0b991.txt  \n",
            "  inflating: dataset/train/labels/BCAC7627-A9D7-4195-AD15-810EB81A5A5C_jpeg.rf.99c4e0dd43fe4e2e8784c6dd71bc5268.txt  \n",
            "  inflating: dataset/train/labels/BCE0F4F3-B097-4D21-8E22-A4E7E3D9F40E_jpeg.rf.3b94e47e5ba5cd0bd7fd350f0a114b38.txt  \n",
            "  inflating: dataset/train/labels/BCE0F4F3-B097-4D21-8E22-A4E7E3D9F40E_jpeg.rf.6cc7b2f327937294fe5e6dd7142a102b.txt  \n",
            "  inflating: dataset/train/labels/BCE0F4F3-B097-4D21-8E22-A4E7E3D9F40E_jpeg.rf.96c2168d3447f667571481e3bf6ea27d.txt  \n",
            "  inflating: dataset/train/labels/BD692330-726F-402F-B4F5-A6A7FCD7FC0D_jpeg.rf.28172a64b60a9f6db5d0d3b12abfeabd.txt  \n",
            "  inflating: dataset/train/labels/BD692330-726F-402F-B4F5-A6A7FCD7FC0D_jpeg.rf.aa3074fd0868f22574f9a153174e0019.txt  \n",
            "  inflating: dataset/train/labels/BD692330-726F-402F-B4F5-A6A7FCD7FC0D_jpeg.rf.f9114fbb1724fd5de3da8e5f31f0b4a5.txt  \n",
            "  inflating: dataset/train/labels/BD8BB941-2CC4-45A2-969A-1F87DB8A7C43_jpeg.rf.83d3e8b08e780451afd35a4e750d6c6b.txt  \n",
            "  inflating: dataset/train/labels/BD8BB941-2CC4-45A2-969A-1F87DB8A7C43_jpeg.rf.98483ccb53b0c56e6e1885efb32c7378.txt  \n",
            "  inflating: dataset/train/labels/BD8BB941-2CC4-45A2-969A-1F87DB8A7C43_jpeg.rf.9c1bb43c0272a7095ca70d87805efbee.txt  \n",
            "  inflating: dataset/train/labels/BDDBBFEC-C178-4FCF-9293-F9DFECAA1534_jpeg.rf.6ef9045b45ee7f5b193d0208816cf373.txt  \n",
            "  inflating: dataset/train/labels/BDDBBFEC-C178-4FCF-9293-F9DFECAA1534_jpeg.rf.95644cbf868de368b6ff78a88e6a9477.txt  \n",
            "  inflating: dataset/train/labels/BDDBBFEC-C178-4FCF-9293-F9DFECAA1534_jpeg.rf.a897c82bd07c41021eff311c29b32104.txt  \n",
            "  inflating: dataset/train/labels/BE3A0C0C-DE50-49AA-806D-9426B4802512_jpeg.rf.4c11734b30a6c6b18208b3d78d518082.txt  \n",
            "  inflating: dataset/train/labels/BE3A0C0C-DE50-49AA-806D-9426B4802512_jpeg.rf.d77b5da27d6cc30c4988680679a4d171.txt  \n",
            "  inflating: dataset/train/labels/BE3A0C0C-DE50-49AA-806D-9426B4802512_jpeg.rf.f74d92c6b1912bb24215034cf39698d4.txt  \n",
            "  inflating: dataset/train/labels/BEE3E014-AA62-442B-92B9-1A2A30C0A3F1_jpeg.rf.853973d1c6318f6e56f463d1879b175b.txt  \n",
            "  inflating: dataset/train/labels/BEE3E014-AA62-442B-92B9-1A2A30C0A3F1_jpeg.rf.9de6a1706a7a7030d4f79ea1a2ffc1e4.txt  \n",
            "  inflating: dataset/train/labels/BEE3E014-AA62-442B-92B9-1A2A30C0A3F1_jpeg.rf.9f3e75c6ea3c8c2c6326cbb0c0a588cd.txt  \n",
            "  inflating: dataset/train/labels/C01D0847-FAB5-4ED0-9463-AA2F7BA78CC4_jpeg.rf.16858b2ae4c2cde703565afbc87542b4.txt  \n",
            "  inflating: dataset/train/labels/C01D0847-FAB5-4ED0-9463-AA2F7BA78CC4_jpeg.rf.63ee524cf08c7ca3ed1d807b5e310a25.txt  \n",
            "  inflating: dataset/train/labels/C01D0847-FAB5-4ED0-9463-AA2F7BA78CC4_jpeg.rf.713615ccdd0a6b3ed216c3397aeeebbf.txt  \n",
            "  inflating: dataset/train/labels/C11058A2-7355-40EE-B54D-EE95FB28F226_jpeg.rf.047bbddacf7fd21ff98f833e23ce2c46.txt  \n",
            "  inflating: dataset/train/labels/C11058A2-7355-40EE-B54D-EE95FB28F226_jpeg.rf.eeacf17aa983c07ca53d60d84b932ad3.txt  \n",
            "  inflating: dataset/train/labels/C11058A2-7355-40EE-B54D-EE95FB28F226_jpeg.rf.ff2fd409b192edbb215e2ae37f7683a5.txt  \n",
            "  inflating: dataset/train/labels/C123506D-9B99-4ADD-B315-7FEA838DC362_jpeg.rf.59bf0207d621ae0627961b6f6486f8f3.txt  \n",
            "  inflating: dataset/train/labels/C123506D-9B99-4ADD-B315-7FEA838DC362_jpeg.rf.8e6d2c693e6720486517df6ca1377818.txt  \n",
            "  inflating: dataset/train/labels/C123506D-9B99-4ADD-B315-7FEA838DC362_jpeg.rf.b2aff439e7175456c41676c9c2fa9d19.txt  \n",
            "  inflating: dataset/train/labels/C2587A47-EE17-45D4-88E4-E9CAFA0E8AB4_jpeg.rf.74549c84cd61824ef5ed0d05cf8ddfad.txt  \n",
            "  inflating: dataset/train/labels/C2587A47-EE17-45D4-88E4-E9CAFA0E8AB4_jpeg.rf.a2a5c1e10d352d8b880679ec0649bfbd.txt  \n",
            "  inflating: dataset/train/labels/C2587A47-EE17-45D4-88E4-E9CAFA0E8AB4_jpeg.rf.abd042d5d7b1a96192a1a24bc113147f.txt  \n",
            "  inflating: dataset/train/labels/C3208384-FCA3-4C15-A00D-E2317250D64D_jpeg.rf.0f0fe787dcd44ef1971393dbee9ae0c2.txt  \n",
            "  inflating: dataset/train/labels/C3208384-FCA3-4C15-A00D-E2317250D64D_jpeg.rf.760d57fdb290cf40b26a1bd33a066670.txt  \n",
            "  inflating: dataset/train/labels/C3208384-FCA3-4C15-A00D-E2317250D64D_jpeg.rf.a998458895f855de2b9d74aa4c11ba00.txt  \n",
            "  inflating: dataset/train/labels/C35570F9-2196-497F-AA05-C0DDCA596BAA_jpeg.rf.0f07f5dab1e007c66f6ee3dced611815.txt  \n",
            "  inflating: dataset/train/labels/C35570F9-2196-497F-AA05-C0DDCA596BAA_jpeg.rf.47de23e28da8cb330fe70968cdb85c5b.txt  \n",
            "  inflating: dataset/train/labels/C35570F9-2196-497F-AA05-C0DDCA596BAA_jpeg.rf.8a5e78283bacfb02bdbb04868fef331e.txt  \n",
            "  inflating: dataset/train/labels/C3861363-CE7E-4872-A3DC-7E3522752E1E_jpeg.rf.0e770f1eae8bd8d4ddd4242da11ec24d.txt  \n",
            "  inflating: dataset/train/labels/C3861363-CE7E-4872-A3DC-7E3522752E1E_jpeg.rf.16ede8ec3bf24f03615760c26c5246a7.txt  \n",
            "  inflating: dataset/train/labels/C3861363-CE7E-4872-A3DC-7E3522752E1E_jpeg.rf.95e713c5d5d57a4fb4ecc23b3d6529b5.txt  \n",
            "  inflating: dataset/train/labels/C3AC407B-700E-4A52-8232-4DEB322D9736_jpeg.rf.0c97cdf53bc244fecbb827931b8fbdce.txt  \n",
            "  inflating: dataset/train/labels/C3AC407B-700E-4A52-8232-4DEB322D9736_jpeg.rf.32a117103c684f7e93c89b746fd069ed.txt  \n",
            "  inflating: dataset/train/labels/C3AC407B-700E-4A52-8232-4DEB322D9736_jpeg.rf.4d301eb372bdf9bec8b52e07dda6a32b.txt  \n",
            "  inflating: dataset/train/labels/C3E2B560-0415-455D-967B-F1BF7A3BC4FA_jpeg.rf.1f911168ec72faae73a80fb15d0464c4.txt  \n",
            "  inflating: dataset/train/labels/C3E2B560-0415-455D-967B-F1BF7A3BC4FA_jpeg.rf.d675128cb33d0391033e8c6fcb67fd72.txt  \n",
            "  inflating: dataset/train/labels/C3E2B560-0415-455D-967B-F1BF7A3BC4FA_jpeg.rf.f9b32ebd6bfabaccee8ac473b809064f.txt  \n",
            "  inflating: dataset/train/labels/C40E1101-5748-43B5-97B3-313A19AE3347_jpeg.rf.3d64ad607208fa4b970f512cc8031ad4.txt  \n",
            "  inflating: dataset/train/labels/C40E1101-5748-43B5-97B3-313A19AE3347_jpeg.rf.e01fea500ddd3f2a838b5403b179eace.txt  \n",
            "  inflating: dataset/train/labels/C40E1101-5748-43B5-97B3-313A19AE3347_jpeg.rf.fa44d963ee1d0db0ba3c5a61a9152aa5.txt  \n",
            "  inflating: dataset/train/labels/C714108C-C833-40B9-B1C7-0B210EBCBEC5_jpeg.rf.964fba435f3e64cc481c96e1f5e51e74.txt  \n",
            "  inflating: dataset/train/labels/C714108C-C833-40B9-B1C7-0B210EBCBEC5_jpeg.rf.dccd75b18bc14b9fcba6375f66719752.txt  \n",
            "  inflating: dataset/train/labels/C714108C-C833-40B9-B1C7-0B210EBCBEC5_jpeg.rf.fdc5adc3512d40172e2c0d15195e05b1.txt  \n",
            "  inflating: dataset/train/labels/C81B6461-3855-4559-AB0D-FE87B521B80A_jpeg.rf.3610ea543304c8113242cce243c1dc03.txt  \n",
            "  inflating: dataset/train/labels/C81B6461-3855-4559-AB0D-FE87B521B80A_jpeg.rf.3cd0140c6977d5912179fd18d732276e.txt  \n",
            "  inflating: dataset/train/labels/C81B6461-3855-4559-AB0D-FE87B521B80A_jpeg.rf.bf7d194b020c054edd94193ee5c96fe2.txt  \n",
            "  inflating: dataset/train/labels/C8882E9E-2FDC-4AF1-86B3-5AA3E7338E85_jpeg.rf.47e7572c491199ccce7b7811a7dcbe47.txt  \n",
            "  inflating: dataset/train/labels/C8882E9E-2FDC-4AF1-86B3-5AA3E7338E85_jpeg.rf.78cc05350fc234ef538f5199a1469eff.txt  \n",
            "  inflating: dataset/train/labels/C8882E9E-2FDC-4AF1-86B3-5AA3E7338E85_jpeg.rf.82d351b194774e6ac7a3627dddc700d1.txt  \n",
            "  inflating: dataset/train/labels/C8F7A526-35AE-46C6-B797-8177C624FECB_jpeg.rf.02740899ac7590f924da5509167c4f9c.txt  \n",
            "  inflating: dataset/train/labels/C8F7A526-35AE-46C6-B797-8177C624FECB_jpeg.rf.3ba37ce6d74c8ad0793f283e29668d3e.txt  \n",
            "  inflating: dataset/train/labels/C8F7A526-35AE-46C6-B797-8177C624FECB_jpeg.rf.80bba3d4a799ce1b2fcda552a33dc24b.txt  \n",
            "  inflating: dataset/train/labels/CA289BFA-0CDB-4FA3-AA16-8A680C3B979C_jpeg.rf.a5376f905f08c7ddc4efa692dbb2b1ae.txt  \n",
            "  inflating: dataset/train/labels/CA289BFA-0CDB-4FA3-AA16-8A680C3B979C_jpeg.rf.a707d1756f3ec52e0745a90729b2a8db.txt  \n",
            "  inflating: dataset/train/labels/CA289BFA-0CDB-4FA3-AA16-8A680C3B979C_jpeg.rf.c30163d97ff298829ca676a20a287612.txt  \n",
            "  inflating: dataset/train/labels/CB0D68F5-3249-4FB3-9862-A485F3FF81D0_jpeg.rf.8c0f0cc9861c3882dc4dab3b0707832f.txt  \n",
            "  inflating: dataset/train/labels/CB0D68F5-3249-4FB3-9862-A485F3FF81D0_jpeg.rf.cd4929c64c6f780dcc744ab2ffb15728.txt  \n",
            "  inflating: dataset/train/labels/CB0D68F5-3249-4FB3-9862-A485F3FF81D0_jpeg.rf.de09d434e12bb9e67acec905e9728ae1.txt  \n",
            "  inflating: dataset/train/labels/CB147B8A-8F37-4B5A-861F-D3ECADA0EC98_jpeg.rf.16ad7558d807ac5bd966b1cb14e63ac2.txt  \n",
            "  inflating: dataset/train/labels/CB147B8A-8F37-4B5A-861F-D3ECADA0EC98_jpeg.rf.40951d9f82a5d7ac29665ada0d54c79f.txt  \n",
            "  inflating: dataset/train/labels/CB147B8A-8F37-4B5A-861F-D3ECADA0EC98_jpeg.rf.a68f92b6bfce7ff14b89220b31468d4f.txt  \n",
            "  inflating: dataset/train/labels/CB359A52-BF93-4056-8F56-12A0943E5D25_jpeg.rf.185613b92aa82a1c45826a3906845087.txt  \n",
            "  inflating: dataset/train/labels/CB359A52-BF93-4056-8F56-12A0943E5D25_jpeg.rf.3ac8304f0009b8ea4abae9ede0c8df71.txt  \n",
            "  inflating: dataset/train/labels/CB359A52-BF93-4056-8F56-12A0943E5D25_jpeg.rf.c3b7ad78360bd81d8ef8db85dd0c8c59.txt  \n",
            "  inflating: dataset/train/labels/CB58844E-E97A-41E9-80A1-466E1A0A277A_jpeg.rf.6b83a4c41891d37311441ea6f66a2594.txt  \n",
            "  inflating: dataset/train/labels/CB58844E-E97A-41E9-80A1-466E1A0A277A_jpeg.rf.8ca8615dfd9a5df619ec8a661b7ae30c.txt  \n",
            "  inflating: dataset/train/labels/CB58844E-E97A-41E9-80A1-466E1A0A277A_jpeg.rf.b423f1f86e072441735b0ea98da7178c.txt  \n",
            "  inflating: dataset/train/labels/CBB3F745-D4D0-45E7-9F01-2D9EDBF17E9C_jpeg.rf.5c1a2389c3a812ee4f23761a230f08a8.txt  \n",
            "  inflating: dataset/train/labels/CBB3F745-D4D0-45E7-9F01-2D9EDBF17E9C_jpeg.rf.7a2105ef2cbe086507902a045e2e7058.txt  \n",
            "  inflating: dataset/train/labels/CBB3F745-D4D0-45E7-9F01-2D9EDBF17E9C_jpeg.rf.94c3b1046f02b99327a408fffaa4971e.txt  \n",
            "  inflating: dataset/train/labels/CC98B396-13D3-43F6-96C7-3D9493DDC863_jpeg.rf.842b420c8f93e26d1f60caf9366fe69d.txt  \n",
            "  inflating: dataset/train/labels/CC98B396-13D3-43F6-96C7-3D9493DDC863_jpeg.rf.9dd87b19e9b28a5221a0179c31b75a13.txt  \n",
            "  inflating: dataset/train/labels/CC98B396-13D3-43F6-96C7-3D9493DDC863_jpeg.rf.9f1914317f2a98ca81a97375e436b229.txt  \n",
            "  inflating: dataset/train/labels/CCC87A5A-558C-4C2B-A37A-A760FE62EDAA_jpeg.rf.6e3789565022de316a18d272f6d3a892.txt  \n",
            "  inflating: dataset/train/labels/CCC87A5A-558C-4C2B-A37A-A760FE62EDAA_jpeg.rf.8a4cc901594543df6fc408954c3a7803.txt  \n",
            "  inflating: dataset/train/labels/CCC87A5A-558C-4C2B-A37A-A760FE62EDAA_jpeg.rf.cc088a88f83ce09cd190d950f25d1abf.txt  \n",
            "  inflating: dataset/train/labels/CD2EECDB-CC83-4566-9807-32C00EA11D15_jpeg.rf.6ee84e7fe2a400bed7eeb2f3f861c19a.txt  \n",
            "  inflating: dataset/train/labels/CD2EECDB-CC83-4566-9807-32C00EA11D15_jpeg.rf.7f0a74e7d97bfa66a8ebcb76ca63e578.txt  \n",
            "  inflating: dataset/train/labels/CD2EECDB-CC83-4566-9807-32C00EA11D15_jpeg.rf.92f8e169d5850e6f30421045fa3086c6.txt  \n",
            "  inflating: dataset/train/labels/CD42598B-3165-4958-81FC-E8BB5971CE66_jpeg.rf.3a332a58c3c41d9f2030d012c0311bb1.txt  \n",
            "  inflating: dataset/train/labels/CD42598B-3165-4958-81FC-E8BB5971CE66_jpeg.rf.43a71034e5245af6dede5f35bf21fc54.txt  \n",
            "  inflating: dataset/train/labels/CD42598B-3165-4958-81FC-E8BB5971CE66_jpeg.rf.e03f4ab63e42d3f437e1056cc4e520ec.txt  \n",
            "  inflating: dataset/train/labels/CE08E323-D57C-4FF8-A30E-24F8E44FA8F2_jpeg.rf.75ce7c7e44a9e6c072bb09afafe28444.txt  \n",
            "  inflating: dataset/train/labels/CE08E323-D57C-4FF8-A30E-24F8E44FA8F2_jpeg.rf.80da30e65262e5f35781d584d13cfaf6.txt  \n",
            "  inflating: dataset/train/labels/CE08E323-D57C-4FF8-A30E-24F8E44FA8F2_jpeg.rf.e86a2130ce81584add07b88e156a1188.txt  \n",
            "  inflating: dataset/train/labels/CE4DE07F-F57F-4397-B69F-D5514DA12647_jpeg.rf.05d8bc15fc3b4de0332afe66ed27dfc5.txt  \n",
            "  inflating: dataset/train/labels/CE4DE07F-F57F-4397-B69F-D5514DA12647_jpeg.rf.b5fbff24f2aa5824f6cdc8480e1e1ad4.txt  \n",
            "  inflating: dataset/train/labels/CE4DE07F-F57F-4397-B69F-D5514DA12647_jpeg.rf.c4d231fedb0a959cc610cbf7e9d443fb.txt  \n",
            "  inflating: dataset/train/labels/CE6EE121-AEEB-4548-B822-5FB57FDB3B66_jpeg.rf.2ee12728c7761753a46b434a6e857d80.txt  \n",
            "  inflating: dataset/train/labels/CE6EE121-AEEB-4548-B822-5FB57FDB3B66_jpeg.rf.9c58bdbd3bd40c9fc08019081c31eedf.txt  \n",
            "  inflating: dataset/train/labels/CE6EE121-AEEB-4548-B822-5FB57FDB3B66_jpeg.rf.a1ed25ea0a4963ad025e15276a85692c.txt  \n",
            "  inflating: dataset/train/labels/D389F7DC-90B5-46BF-9E20-CD7152694C21_jpeg.rf.1bc7d3e83940fa28408ddc90b0b4e645.txt  \n",
            "  inflating: dataset/train/labels/D389F7DC-90B5-46BF-9E20-CD7152694C21_jpeg.rf.50fe27abafc2a6914d11368249dc5540.txt  \n",
            "  inflating: dataset/train/labels/D389F7DC-90B5-46BF-9E20-CD7152694C21_jpeg.rf.adc613f510d6d04cf64eb0a1936693f9.txt  \n",
            "  inflating: dataset/train/labels/D391B5D2-2583-432A-9AA3-12EAA0B3DD7F_jpeg.rf.05c13279b21834b1217377af44cc1bf8.txt  \n",
            "  inflating: dataset/train/labels/D391B5D2-2583-432A-9AA3-12EAA0B3DD7F_jpeg.rf.e011750f5e6d0ad62578a8d0d9191217.txt  \n",
            "  inflating: dataset/train/labels/D391B5D2-2583-432A-9AA3-12EAA0B3DD7F_jpeg.rf.f0a43ff03811550dfa306e58e59e5742.txt  \n",
            "  inflating: dataset/train/labels/D4DB38E2-CBED-4F08-8E08-5BE7CB310A88_jpeg.rf.822ddf1dc7b914728f485732a71977cf.txt  \n",
            "  inflating: dataset/train/labels/D4DB38E2-CBED-4F08-8E08-5BE7CB310A88_jpeg.rf.9b2a598a0b3b05b2c214cb5a2b2c0ca7.txt  \n",
            "  inflating: dataset/train/labels/D4DB38E2-CBED-4F08-8E08-5BE7CB310A88_jpeg.rf.e946381ca244b33ddd088d137a3d76fb.txt  \n",
            "  inflating: dataset/train/labels/D5091FF4-2B3F-4485-80C3-2A1BFC05688B_jpeg.rf.16e52b4237b37395acadc4083a4a9178.txt  \n",
            "  inflating: dataset/train/labels/D5091FF4-2B3F-4485-80C3-2A1BFC05688B_jpeg.rf.2b833405ee94e5e0943ed074d3bac67d.txt  \n",
            "  inflating: dataset/train/labels/D5091FF4-2B3F-4485-80C3-2A1BFC05688B_jpeg.rf.8facd2d13b52126c96381ed2e24efe86.txt  \n",
            "  inflating: dataset/train/labels/D5B66685-80EE-47B5-B70C-5BB2E7329C89_jpeg.rf.061809de3eb8b6048c5cebf4e4901216.txt  \n",
            "  inflating: dataset/train/labels/D5B66685-80EE-47B5-B70C-5BB2E7329C89_jpeg.rf.0f02bdb5022385820c20e374e5435a92.txt  \n",
            "  inflating: dataset/train/labels/D5B66685-80EE-47B5-B70C-5BB2E7329C89_jpeg.rf.1744f5dd400523c5755e84c0b2c7d578.txt  \n",
            "  inflating: dataset/train/labels/D61E243F-F8B7-4027-A861-2908439DF771_jpeg.rf.32508520728eb85d989dc241da4a542e.txt  \n",
            "  inflating: dataset/train/labels/D61E243F-F8B7-4027-A861-2908439DF771_jpeg.rf.682e516d2f36f67b78dda9fb17b10021.txt  \n",
            "  inflating: dataset/train/labels/D61E243F-F8B7-4027-A861-2908439DF771_jpeg.rf.daad9a7b1ab7f9d1091527c6edaa374d.txt  \n",
            "  inflating: dataset/train/labels/D628AC6B-29C0-4053-A6F0-B1410739F549_jpeg.rf.2795f3c2a86bfcbcfbc58ec2fad56402.txt  \n",
            "  inflating: dataset/train/labels/D628AC6B-29C0-4053-A6F0-B1410739F549_jpeg.rf.297cb35085bcf3bef4c5c59dd292985f.txt  \n",
            "  inflating: dataset/train/labels/D628AC6B-29C0-4053-A6F0-B1410739F549_jpeg.rf.3ec11ba79d3ae2017ce78067efe6096f.txt  \n",
            "  inflating: dataset/train/labels/D66AB120-11E5-4E9C-9EB5-B6F657AE96E7_jpeg.rf.4f7ac9f2667b178f11843762a1e08bec.txt  \n",
            "  inflating: dataset/train/labels/D66AB120-11E5-4E9C-9EB5-B6F657AE96E7_jpeg.rf.7917775ab7a0343e05fab6e04356f6df.txt  \n",
            "  inflating: dataset/train/labels/D66AB120-11E5-4E9C-9EB5-B6F657AE96E7_jpeg.rf.d609a7efe26da434b9796f956efb15f9.txt  \n",
            "  inflating: dataset/train/labels/D66AC734-22B4-4902-8C0F-6253FAAA17FF_jpeg.rf.28da3d4085ec8abf21e6980bbf2bde4b.txt  \n",
            "  inflating: dataset/train/labels/D66AC734-22B4-4902-8C0F-6253FAAA17FF_jpeg.rf.e43695ea82ef4c074816151f700cd358.txt  \n",
            "  inflating: dataset/train/labels/D66AC734-22B4-4902-8C0F-6253FAAA17FF_jpeg.rf.ec38e688bc280e78a963cfffd2411900.txt  \n",
            "  inflating: dataset/train/labels/D6801DAC-2B7C-434E-9985-B6B076FE9459_jpeg.rf.159511c1cbf60e4250eb652cbab451ac.txt  \n",
            "  inflating: dataset/train/labels/D6801DAC-2B7C-434E-9985-B6B076FE9459_jpeg.rf.4be0938c48040eb638cde07a26203d71.txt  \n",
            "  inflating: dataset/train/labels/D6801DAC-2B7C-434E-9985-B6B076FE9459_jpeg.rf.a382fd60dd0973631a77e75f8e3f539c.txt  \n",
            "  inflating: dataset/train/labels/D78132FF-1846-42C2-8003-AC094EAB7B81_jpeg.rf.24cddea5fd34035cc14b3848ceca1be2.txt  \n",
            "  inflating: dataset/train/labels/D78132FF-1846-42C2-8003-AC094EAB7B81_jpeg.rf.24fddcd9296d9f2e536d16c4cf679402.txt  \n",
            "  inflating: dataset/train/labels/D78132FF-1846-42C2-8003-AC094EAB7B81_jpeg.rf.876f9569ee82c28a329c4357f60e62a0.txt  \n",
            "  inflating: dataset/train/labels/D79AD35C-430C-4EFD-9B6D-32BD6FCDC5C8_jpeg.rf.1ea06e3c5d7f694a8cca7b0eafbcc012.txt  \n",
            "  inflating: dataset/train/labels/D79AD35C-430C-4EFD-9B6D-32BD6FCDC5C8_jpeg.rf.e4d2946ad2d8440eb25749e0e6b70f36.txt  \n",
            "  inflating: dataset/train/labels/D79AD35C-430C-4EFD-9B6D-32BD6FCDC5C8_jpeg.rf.fc93178a82782b09dd0216f8edea6a9f.txt  \n",
            "  inflating: dataset/train/labels/D7AA81AA-42AF-4F52-8FE0-2FF4CD8E2F60_jpeg.rf.0adf4deb2b0f6b6eca95cbbf920fb34e.txt  \n",
            "  inflating: dataset/train/labels/D7AA81AA-42AF-4F52-8FE0-2FF4CD8E2F60_jpeg.rf.3728f1d2153d3f70a2f2e7f39ab1aea0.txt  \n",
            "  inflating: dataset/train/labels/D7AA81AA-42AF-4F52-8FE0-2FF4CD8E2F60_jpeg.rf.4c1d644c97dd08b0ab28ca2d2087ed23.txt  \n",
            "  inflating: dataset/train/labels/D8438E23-A8EF-4D02-8B53-AE622CE4B58F_jpeg.rf.7145c75240e4cee5bf9a9fac24b9250a.txt  \n",
            "  inflating: dataset/train/labels/D8438E23-A8EF-4D02-8B53-AE622CE4B58F_jpeg.rf.8817640e41b86d329a84b055a3624a67.txt  \n",
            "  inflating: dataset/train/labels/D8438E23-A8EF-4D02-8B53-AE622CE4B58F_jpeg.rf.d605876a39b74de3c25966dda57c8274.txt  \n",
            "  inflating: dataset/train/labels/D88212B1-9C84-4FB7-BBFF-96ED2552EFEC_jpeg.rf.a7a8fec0ab77efe9380570cdcfe18546.txt  \n",
            "  inflating: dataset/train/labels/D88212B1-9C84-4FB7-BBFF-96ED2552EFEC_jpeg.rf.aafda89c82690585f26ea27b83619f1c.txt  \n",
            "  inflating: dataset/train/labels/D88212B1-9C84-4FB7-BBFF-96ED2552EFEC_jpeg.rf.df3008008929ae9380b0a8184217c6ee.txt  \n",
            "  inflating: dataset/train/labels/D8985911-1A35-4AB9-9A06-2DA4FEE531E1_jpeg.rf.5efb29c4e4e09094c7034fc43e5a6952.txt  \n",
            "  inflating: dataset/train/labels/D8985911-1A35-4AB9-9A06-2DA4FEE531E1_jpeg.rf.6eaec4abe2dd6add860cfd8ec6d61dad.txt  \n",
            "  inflating: dataset/train/labels/D8985911-1A35-4AB9-9A06-2DA4FEE531E1_jpeg.rf.7b35c454cebb7057e33ac52fec96a54e.txt  \n",
            "  inflating: dataset/train/labels/D9DE6681-FA65-4D23-BB73-17A1DFEFFFC1_jpeg.rf.1f5e65d06272c59ae7b2cf1528295c1a.txt  \n",
            "  inflating: dataset/train/labels/D9DE6681-FA65-4D23-BB73-17A1DFEFFFC1_jpeg.rf.a9beff4b9d992ddc38bac683fc9af1c9.txt  \n",
            "  inflating: dataset/train/labels/D9DE6681-FA65-4D23-BB73-17A1DFEFFFC1_jpeg.rf.dddcce7ab3d7c2de7c8b725ec013fb48.txt  \n",
            "  inflating: dataset/train/labels/DB694874-940A-4385-9A43-1E96B9D310ED_jpeg.rf.88487f4ef3d045b8c6c3d5700f35de6a.txt  \n",
            "  inflating: dataset/train/labels/DB694874-940A-4385-9A43-1E96B9D310ED_jpeg.rf.c25f05a0eadf178271578d32dc460f11.txt  \n",
            "  inflating: dataset/train/labels/DB694874-940A-4385-9A43-1E96B9D310ED_jpeg.rf.eeb1cfd9eb2ba79fb3c7469d929502fd.txt  \n",
            "  inflating: dataset/train/labels/DC0AC492-A79D-4AB6-9868-30B58A262EEC_jpeg.rf.02a7b67ea3964ea95322a496104217bc.txt  \n",
            "  inflating: dataset/train/labels/DC0AC492-A79D-4AB6-9868-30B58A262EEC_jpeg.rf.21cde095a6d31ff7a4723a2577ab5b88.txt  \n",
            "  inflating: dataset/train/labels/DC0AC492-A79D-4AB6-9868-30B58A262EEC_jpeg.rf.a551c1df6ac85695496c0f9782595e39.txt  \n",
            "  inflating: dataset/train/labels/DC7F0959-517A-4323-9153-D97370CFAD8B_jpeg.rf.26a256910b70272efb73ffe66b6eb4a6.txt  \n",
            "  inflating: dataset/train/labels/DC7F0959-517A-4323-9153-D97370CFAD8B_jpeg.rf.5bab14386f7eedca5281df416a7de7f2.txt  \n",
            "  inflating: dataset/train/labels/DC7F0959-517A-4323-9153-D97370CFAD8B_jpeg.rf.af21b42adb4707f4c7a09ad69d0dc63a.txt  \n",
            "  inflating: dataset/train/labels/DC892A51-DE4C-4C30-877F-DCF16E620296_jpeg.rf.3b1d0fa7e4f7e85198169b39223cb7a9.txt  \n",
            "  inflating: dataset/train/labels/DC892A51-DE4C-4C30-877F-DCF16E620296_jpeg.rf.834028f6dd62d7f996509be07d5098e7.txt  \n",
            "  inflating: dataset/train/labels/DC892A51-DE4C-4C30-877F-DCF16E620296_jpeg.rf.84a9e3242e0e5cf5bcc4debc88e18e94.txt  \n",
            "  inflating: dataset/train/labels/DD0BFB9C-3D39-476C-816A-6A8AE384EA7B_jpeg.rf.1d2e1a6f4b8711c24a832f021fb52bbe.txt  \n",
            "  inflating: dataset/train/labels/DD0BFB9C-3D39-476C-816A-6A8AE384EA7B_jpeg.rf.5538f4766d4b7dd98f4b64be49c0d5ba.txt  \n",
            "  inflating: dataset/train/labels/DD0BFB9C-3D39-476C-816A-6A8AE384EA7B_jpeg.rf.ec0df1869c6d46773fd52cdff53a00f7.txt  \n",
            "  inflating: dataset/train/labels/DD58547B-8C50-48C8-8370-9130CE7718F6_jpeg.rf.66a6466123fccddbe0be6dad53c1db8f.txt  \n",
            "  inflating: dataset/train/labels/DD58547B-8C50-48C8-8370-9130CE7718F6_jpeg.rf.c3820d21347fbaa8d36a0e871fd46aaa.txt  \n",
            "  inflating: dataset/train/labels/DD58547B-8C50-48C8-8370-9130CE7718F6_jpeg.rf.cf55aab3bdc786d6543c58c60724cfb6.txt  \n",
            "  inflating: dataset/train/labels/DECB4B03-BE06-42FA-BDD0-3E5B44D778F4_jpeg.rf.1527093096b29d651f990444cdd446cd.txt  \n",
            "  inflating: dataset/train/labels/DECB4B03-BE06-42FA-BDD0-3E5B44D778F4_jpeg.rf.384c81e7587a193c8cb4f857750eaedc.txt  \n",
            "  inflating: dataset/train/labels/DECB4B03-BE06-42FA-BDD0-3E5B44D778F4_jpeg.rf.3c980aa93ce6f4fe53de08ee927bfbcd.txt  \n",
            "  inflating: dataset/train/labels/DEFD8B2C-1B18-4DFF-B0DD-1DF7A66274D3_jpeg.rf.4a606f602d222187059388c06e5673bb.txt  \n",
            "  inflating: dataset/train/labels/DEFD8B2C-1B18-4DFF-B0DD-1DF7A66274D3_jpeg.rf.8ada213f6ca3727ce2d05a65c3622435.txt  \n",
            "  inflating: dataset/train/labels/DEFD8B2C-1B18-4DFF-B0DD-1DF7A66274D3_jpeg.rf.a82a5c153650bcc79d65884cbd655a57.txt  \n",
            "  inflating: dataset/train/labels/DF36DBF5-2E74-442D-AC1E-019C605F2BC0_jpeg.rf.5aca0a4becaee59e5d93393f4157554a.txt  \n",
            "  inflating: dataset/train/labels/DF36DBF5-2E74-442D-AC1E-019C605F2BC0_jpeg.rf.9453970d5469233f61a4f0957d8fa31e.txt  \n",
            "  inflating: dataset/train/labels/DF36DBF5-2E74-442D-AC1E-019C605F2BC0_jpeg.rf.c9ed1ce616f9459cba60b569ebcfa24b.txt  \n",
            "  inflating: dataset/train/labels/DF69EF93-FC27-40C4-B313-9387B956B03E_jpeg.rf.5e11816b23e7b4778af4144457f46e19.txt  \n",
            "  inflating: dataset/train/labels/DF69EF93-FC27-40C4-B313-9387B956B03E_jpeg.rf.88e598b3eb1b7c8e5682a800c620ec1c.txt  \n",
            "  inflating: dataset/train/labels/DF69EF93-FC27-40C4-B313-9387B956B03E_jpeg.rf.9ec59ae7f6954753242ad7ebc683baf2.txt  \n",
            "  inflating: dataset/train/labels/DFA0AA30-CAEF-4917-A9A9-4ED303B44A4C_jpeg.rf.93e7ca30d2929f4fcb82cda3f900bccc.txt  \n",
            "  inflating: dataset/train/labels/DFA0AA30-CAEF-4917-A9A9-4ED303B44A4C_jpeg.rf.ba7e0f8d273cd352522534b249f6ab0f.txt  \n",
            "  inflating: dataset/train/labels/DFA0AA30-CAEF-4917-A9A9-4ED303B44A4C_jpeg.rf.db154367dc32bc5e4d625e4439f0b466.txt  \n",
            "  inflating: dataset/train/labels/E093F613-FA90-4C13-8B8F-7BA7354F40BC_jpeg.rf.9fefc2d42f4da6ee29415e59f44b228d.txt  \n",
            "  inflating: dataset/train/labels/E093F613-FA90-4C13-8B8F-7BA7354F40BC_jpeg.rf.a5d30bdd989e0daaddb5f0afef5b397c.txt  \n",
            "  inflating: dataset/train/labels/E093F613-FA90-4C13-8B8F-7BA7354F40BC_jpeg.rf.cbac5efc380bb03bf7928e555ac48c9c.txt  \n",
            "  inflating: dataset/train/labels/E104ED61-85FB-4B74-823F-E494E84724EF_jpeg.rf.1e9e1aa9ee7743b474075437a31611a2.txt  \n",
            "  inflating: dataset/train/labels/E104ED61-85FB-4B74-823F-E494E84724EF_jpeg.rf.2045c2bd856bce93eddb540cb546367f.txt  \n",
            "  inflating: dataset/train/labels/E104ED61-85FB-4B74-823F-E494E84724EF_jpeg.rf.47ae904c8f8ebbda5d27debe43e7fd3a.txt  \n",
            "  inflating: dataset/train/labels/E10FFFE5-77FA-40CE-8443-E9B1330C83AB_jpeg.rf.69f597bb452514e4a5f9addcb1c83364.txt  \n",
            "  inflating: dataset/train/labels/E10FFFE5-77FA-40CE-8443-E9B1330C83AB_jpeg.rf.c040785927fb8cbf9f1f81132a045a2d.txt  \n",
            "  inflating: dataset/train/labels/E10FFFE5-77FA-40CE-8443-E9B1330C83AB_jpeg.rf.e284db2d53b4357268b2f553566db6f6.txt  \n",
            "  inflating: dataset/train/labels/E28758E2-C35E-4086-A990-FC638C7B643C_jpeg.rf.661526e57a265039c0695a1c3f3b4b95.txt  \n",
            "  inflating: dataset/train/labels/E28758E2-C35E-4086-A990-FC638C7B643C_jpeg.rf.79f7bb5f2ceb5a3c20882f84d43df0c9.txt  \n",
            "  inflating: dataset/train/labels/E28758E2-C35E-4086-A990-FC638C7B643C_jpeg.rf.7f916408434ae4e0459346a07db463bb.txt  \n",
            "  inflating: dataset/train/labels/E2A63498-3E27-41E4-BC89-B070F8FCC917_jpeg.rf.a3edca343ca5a3d351245606dc07c769.txt  \n",
            "  inflating: dataset/train/labels/E2A63498-3E27-41E4-BC89-B070F8FCC917_jpeg.rf.b5f1fce3cc81256b339ec38365a65360.txt  \n",
            "  inflating: dataset/train/labels/E2A63498-3E27-41E4-BC89-B070F8FCC917_jpeg.rf.c44fb51318c8307cbc5fd39462a4693a.txt  \n",
            " extracting: dataset/train/labels/E36EC51D-CE05-40A6-B34B-D661EDA4DBF4_jpeg.rf.5cfcf3cf2fd4f60524505b5590233c02.txt  \n",
            "  inflating: dataset/train/labels/E36EC51D-CE05-40A6-B34B-D661EDA4DBF4_jpeg.rf.b7af63635797dafeeb3391c2d4c0365d.txt  \n",
            "  inflating: dataset/train/labels/E36EC51D-CE05-40A6-B34B-D661EDA4DBF4_jpeg.rf.ca791cd031a215f28ac07000fba76a54.txt  \n",
            "  inflating: dataset/train/labels/E44808CD-50C7-4E4E-A0B6-507BDFFBEF7E_jpeg.rf.25e1889580a99e5a4008c0174a39df6a.txt  \n",
            "  inflating: dataset/train/labels/E44808CD-50C7-4E4E-A0B6-507BDFFBEF7E_jpeg.rf.a73c52f1ce266a0ae5939de82b828c0e.txt  \n",
            "  inflating: dataset/train/labels/E44808CD-50C7-4E4E-A0B6-507BDFFBEF7E_jpeg.rf.b1f92a8463df9524e8c71ecc3298239a.txt  \n",
            "  inflating: dataset/train/labels/E56AD0D0-715E-4A4F-B884-22B638BA8298_jpeg.rf.30ba8b349bfc08297681bfd30a5d0c42.txt  \n",
            "  inflating: dataset/train/labels/E56AD0D0-715E-4A4F-B884-22B638BA8298_jpeg.rf.9dc5326dee47a8c215c619bae5fd1459.txt  \n",
            "  inflating: dataset/train/labels/E56AD0D0-715E-4A4F-B884-22B638BA8298_jpeg.rf.b7490e9ad63bdef741ce12fc19e42e20.txt  \n",
            "  inflating: dataset/train/labels/E6C1B489-D8D0-4EA3-9160-69972E6BA584_jpeg.rf.0d737d1c7bea7449a6204aca634305cc.txt  \n",
            "  inflating: dataset/train/labels/E6C1B489-D8D0-4EA3-9160-69972E6BA584_jpeg.rf.6a767a9f585c05f88518ef8130866978.txt  \n",
            "  inflating: dataset/train/labels/E6C1B489-D8D0-4EA3-9160-69972E6BA584_jpeg.rf.a88a5a87abc473fe3875db9d906ef8b4.txt  \n",
            "  inflating: dataset/train/labels/E72B368D-6949-404B-8310-0CEA975F3DEA_jpeg.rf.2e232debf87e6f46a3cc3a2f402441d4.txt  \n",
            "  inflating: dataset/train/labels/E72B368D-6949-404B-8310-0CEA975F3DEA_jpeg.rf.7e050a2e56cda7bfe4d2b6544cc34611.txt  \n",
            "  inflating: dataset/train/labels/E72B368D-6949-404B-8310-0CEA975F3DEA_jpeg.rf.c09a5979e718263955b2ccf7a07b7044.txt  \n",
            " extracting: dataset/train/labels/E82CE2C0-D3E1-490F-ACE6-CB9DCB56CEFC_jpeg.rf.e7e8b25bdaa8e77c8ec6a2b57d8de5f6.txt  \n",
            "  inflating: dataset/train/labels/E82CE2C0-D3E1-490F-ACE6-CB9DCB56CEFC_jpeg.rf.f454aec01a176b67c92fdd3358d2f2e7.txt  \n",
            "  inflating: dataset/train/labels/E82CE2C0-D3E1-490F-ACE6-CB9DCB56CEFC_jpeg.rf.ff10ca3cbbfc9587ca502ebd7a2240e8.txt  \n",
            "  inflating: dataset/train/labels/E89FC4BA-EC02-48EB-A631-E7A601B7AC28_jpeg.rf.13552852075849ed81d9dba2af47a621.txt  \n",
            "  inflating: dataset/train/labels/E89FC4BA-EC02-48EB-A631-E7A601B7AC28_jpeg.rf.23dc1d0c6870a7f4d981f97ffe6ed7e4.txt  \n",
            "  inflating: dataset/train/labels/E89FC4BA-EC02-48EB-A631-E7A601B7AC28_jpeg.rf.4494aa92cb010c31e57a6989dafc10ec.txt  \n",
            "  inflating: dataset/train/labels/E8DEDD5C-6858-4DD3-ADFE-04D6ED6D8125_jpeg.rf.011b2bf483906437b8fbf7bdeec266ae.txt  \n",
            "  inflating: dataset/train/labels/E8DEDD5C-6858-4DD3-ADFE-04D6ED6D8125_jpeg.rf.12cccd85ece4a578082cf00a0fed9742.txt  \n",
            "  inflating: dataset/train/labels/E8DEDD5C-6858-4DD3-ADFE-04D6ED6D8125_jpeg.rf.48314d9e8e0dd8d3e71a34fb906968b4.txt  \n",
            "  inflating: dataset/train/labels/E8E94FB4-A951-44F5-B5A7-F9CC4B7391CD_jpeg.rf.62b37ec4e1dd26b50d25eee0ac4183e2.txt  \n",
            "  inflating: dataset/train/labels/E8E94FB4-A951-44F5-B5A7-F9CC4B7391CD_jpeg.rf.aea3fc1167c6f020af12ac143fed5fa2.txt  \n",
            "  inflating: dataset/train/labels/E8E94FB4-A951-44F5-B5A7-F9CC4B7391CD_jpeg.rf.bab2ead37e9f9066514f3313a4c369cf.txt  \n",
            "  inflating: dataset/train/labels/E9789DF4-CA2B-4AEA-83EE-FF94381FCEED_jpeg.rf.54cc368d835562aefcc3743bbc5baddf.txt  \n",
            "  inflating: dataset/train/labels/E9789DF4-CA2B-4AEA-83EE-FF94381FCEED_jpeg.rf.61eaf810d70b34b1976bb119f16f4b41.txt  \n",
            "  inflating: dataset/train/labels/E9789DF4-CA2B-4AEA-83EE-FF94381FCEED_jpeg.rf.681e06b9d65e4f0ade659b49e800a6b2.txt  \n",
            "  inflating: dataset/train/labels/E994B322-A6F2-47FE-B739-0E9509532409_jpeg.rf.a6b3612ebc6b0ca9a047de0011bbc3c0.txt  \n",
            "  inflating: dataset/train/labels/E994B322-A6F2-47FE-B739-0E9509532409_jpeg.rf.e30cab4b23044386d92e5036124f8e84.txt  \n",
            "  inflating: dataset/train/labels/E994B322-A6F2-47FE-B739-0E9509532409_jpeg.rf.f3107ee945aa29cebda6dae9608cc802.txt  \n",
            "  inflating: dataset/train/labels/EA35EBDB-A01A-4FAC-B292-29DDE704C84C_jpeg.rf.68546b7722c74a75b0adb620ce4ff97d.txt  \n",
            "  inflating: dataset/train/labels/EA35EBDB-A01A-4FAC-B292-29DDE704C84C_jpeg.rf.98a712edc834e35dfa67726d98eaf2c8.txt  \n",
            "  inflating: dataset/train/labels/EA35EBDB-A01A-4FAC-B292-29DDE704C84C_jpeg.rf.a0aa54583f39b9f2c0980c1c168dd497.txt  \n",
            "  inflating: dataset/train/labels/ECC0ABDC-D459-4B6B-BA10-3A96C5075E01_jpeg.rf.4bf65f1e478509d2f201d3277fcafa05.txt  \n",
            "  inflating: dataset/train/labels/ECC0ABDC-D459-4B6B-BA10-3A96C5075E01_jpeg.rf.da353d66bb6658bfa15b52076cb692bc.txt  \n",
            "  inflating: dataset/train/labels/ECC0ABDC-D459-4B6B-BA10-3A96C5075E01_jpeg.rf.eca07478eb739f0fcce41cc4263c9d67.txt  \n",
            "  inflating: dataset/train/labels/ED6736A0-DC05-457C-9EF1-CA17309CB28C_jpeg.rf.10cb77afb03a733380317f265565642f.txt  \n",
            "  inflating: dataset/train/labels/ED6736A0-DC05-457C-9EF1-CA17309CB28C_jpeg.rf.7300f9239b0dfab482559a5decd9a86b.txt  \n",
            "  inflating: dataset/train/labels/ED6736A0-DC05-457C-9EF1-CA17309CB28C_jpeg.rf.9a32abd65529f1f80b7c4d3c267ea948.txt  \n",
            "  inflating: dataset/train/labels/EE6CFE01-999C-4FAD-B777-23B45E9C3690_jpeg.rf.380a6945e1edaa4c249d1d4ab168412c.txt  \n",
            "  inflating: dataset/train/labels/EE6CFE01-999C-4FAD-B777-23B45E9C3690_jpeg.rf.c61a28d6d50467098f35c8d19266c0cb.txt  \n",
            "  inflating: dataset/train/labels/EE6CFE01-999C-4FAD-B777-23B45E9C3690_jpeg.rf.f18c00f8872d9116b438274767868b26.txt  \n",
            "  inflating: dataset/train/labels/F3582907-BF21-46CD-8369-7526DAD7C9C5_jpeg.rf.05ba331e126b4aa5b03fd233694f7d48.txt  \n",
            "  inflating: dataset/train/labels/F3582907-BF21-46CD-8369-7526DAD7C9C5_jpeg.rf.1aef56a1fa89039a8a4ea2b488f026cf.txt  \n",
            "  inflating: dataset/train/labels/F3582907-BF21-46CD-8369-7526DAD7C9C5_jpeg.rf.239f51a3fc6ff188a6f1c538a242a86d.txt  \n",
            "  inflating: dataset/train/labels/F3C710EA-AAF5-4776-87E6-C78888585A7B_jpeg.rf.21580c529e537f147c7de06fe81d89fc.txt  \n",
            "  inflating: dataset/train/labels/F3C710EA-AAF5-4776-87E6-C78888585A7B_jpeg.rf.93ede15cf2b655f3f5f98e992ee86559.txt  \n",
            "  inflating: dataset/train/labels/F3C710EA-AAF5-4776-87E6-C78888585A7B_jpeg.rf.c04e43d890c853a027be38f6bc23f78a.txt  \n",
            "  inflating: dataset/train/labels/F4DE1EC6-6B4F-4233-BE0F-BAB0913BC1A7_jpeg.rf.676f4fb88a612d7fc5a8097fb199514d.txt  \n",
            "  inflating: dataset/train/labels/F4DE1EC6-6B4F-4233-BE0F-BAB0913BC1A7_jpeg.rf.b72ea2b8c78433cf0a503733d44b8be1.txt  \n",
            "  inflating: dataset/train/labels/F4DE1EC6-6B4F-4233-BE0F-BAB0913BC1A7_jpeg.rf.c14d3bfaa6134d98be9e3d30ebb3e47e.txt  \n",
            "  inflating: dataset/train/labels/F503B78C-3BAD-4550-B43C-14FDFB685164_jpeg.rf.0731fcf944762257ee7e42c07843e854.txt  \n",
            "  inflating: dataset/train/labels/F503B78C-3BAD-4550-B43C-14FDFB685164_jpeg.rf.71cb7e86dc7b69c44912525a08c75d84.txt  \n",
            "  inflating: dataset/train/labels/F503B78C-3BAD-4550-B43C-14FDFB685164_jpeg.rf.a426357fb498e0b5583ebebfce5463ce.txt  \n",
            "  inflating: dataset/train/labels/F62B42F0-0169-405F-AB12-E262227D0378_jpeg.rf.220460fb9cfacaa6fefbc96927f5b2ab.txt  \n",
            "  inflating: dataset/train/labels/F62B42F0-0169-405F-AB12-E262227D0378_jpeg.rf.418b90b7ae7c497651c9e3d9758b6211.txt  \n",
            "  inflating: dataset/train/labels/F62B42F0-0169-405F-AB12-E262227D0378_jpeg.rf.80d3cb4a4144e0410b7259e2d730a06d.txt  \n",
            "  inflating: dataset/train/labels/F6E69E23-4AC8-42CB-A866-E533BC3A4116_jpeg.rf.02a9c732f242963861bfdfbc56ecece3.txt  \n",
            "  inflating: dataset/train/labels/F6E69E23-4AC8-42CB-A866-E533BC3A4116_jpeg.rf.33173f322f61670c202bae730a5c370c.txt  \n",
            "  inflating: dataset/train/labels/F6E69E23-4AC8-42CB-A866-E533BC3A4116_jpeg.rf.74a50b8842bb072510575fe4c9b5a1c8.txt  \n",
            "  inflating: dataset/train/labels/F73B8992-8751-4511-9394-17A75A9E6624_jpeg.rf.35ea85ca37d6a5c0d09d27e7ac470fee.txt  \n",
            "  inflating: dataset/train/labels/F73B8992-8751-4511-9394-17A75A9E6624_jpeg.rf.84b4580b80d763ed31f8687614a10b74.txt  \n",
            "  inflating: dataset/train/labels/F73B8992-8751-4511-9394-17A75A9E6624_jpeg.rf.b7fa075fa678ccfa4536af8cb7c15dd5.txt  \n",
            "  inflating: dataset/train/labels/F7AACFFF-F2D5-4DE3-8CB7-0C80264785EA_jpeg.rf.34a74a357b8be60cb96bd8661f71c2b4.txt  \n",
            "  inflating: dataset/train/labels/F7AACFFF-F2D5-4DE3-8CB7-0C80264785EA_jpeg.rf.3a374534e68cabc3fc1f793b1c84ad2d.txt  \n",
            "  inflating: dataset/train/labels/F7AACFFF-F2D5-4DE3-8CB7-0C80264785EA_jpeg.rf.f81dd630092bd4601da4b344ed331375.txt  \n",
            "  inflating: dataset/train/labels/F856B007-7A5E-4C1B-A774-5D1ADB09899A_jpeg.rf.0fd632f89a9146c0a6ee7fc8eb496e3f.txt  \n",
            "  inflating: dataset/train/labels/F856B007-7A5E-4C1B-A774-5D1ADB09899A_jpeg.rf.2c6a136f9fadf7bbd69a2b4d5c323151.txt  \n",
            "  inflating: dataset/train/labels/F856B007-7A5E-4C1B-A774-5D1ADB09899A_jpeg.rf.7b3228f4a94f13924e7bc5183f7c1989.txt  \n",
            "  inflating: dataset/train/labels/FA4A678F-04C9-431B-8C6D-4940BB9920C7_jpeg.rf.3ee1930f4da2466fd663c8a6f6040f4d.txt  \n",
            "  inflating: dataset/train/labels/FA4A678F-04C9-431B-8C6D-4940BB9920C7_jpeg.rf.dd7cd3ceacbdfdd120e97a4406696aa0.txt  \n",
            "  inflating: dataset/train/labels/FA4A678F-04C9-431B-8C6D-4940BB9920C7_jpeg.rf.f0ec4c639272c88d84482ee35e66b474.txt  \n",
            " extracting: dataset/train/labels/FAF6B68B-DB86-495B-AFCE-3574D9858CD4_jpeg.rf.07533174d2144eb6270446a3bfe85691.txt  \n",
            "  inflating: dataset/train/labels/FAF6B68B-DB86-495B-AFCE-3574D9858CD4_jpeg.rf.3a75c63de3246875a542775ff195a1de.txt  \n",
            "  inflating: dataset/train/labels/FAF6B68B-DB86-495B-AFCE-3574D9858CD4_jpeg.rf.9a51d670bef47c155ba5c104ad492fa6.txt  \n",
            "  inflating: dataset/train/labels/FB3FE8DC-AECA-4F28-868C-ACFAD27CE790_jpeg.rf.436f0e3ee4aa9aee53b34ebef90e3131.txt  \n",
            "  inflating: dataset/train/labels/FB3FE8DC-AECA-4F28-868C-ACFAD27CE790_jpeg.rf.d40e05ce748e9ed316fe6acbab650607.txt  \n",
            "  inflating: dataset/train/labels/FB3FE8DC-AECA-4F28-868C-ACFAD27CE790_jpeg.rf.f4f695967913d0dc83ef25705ed1829d.txt  \n",
            "  inflating: dataset/train/labels/FBAB4DBE-5B80-4E89-9754-F133D730F685_jpeg.rf.031de912406058821a3a3f0f72a8ccbd.txt  \n",
            "  inflating: dataset/train/labels/FBAB4DBE-5B80-4E89-9754-F133D730F685_jpeg.rf.27362d5a52be2a3affc7548c60721634.txt  \n",
            "  inflating: dataset/train/labels/FBAB4DBE-5B80-4E89-9754-F133D730F685_jpeg.rf.41f03a53c2234e6c6e5e09824be55c28.txt  \n",
            "  inflating: dataset/train/labels/FBB55BA8-BB04-429F-98DB-064622E3643C_jpeg.rf.52cec5f0363ac3c14cbb029a7dbd7eb4.txt  \n",
            "  inflating: dataset/train/labels/FBB55BA8-BB04-429F-98DB-064622E3643C_jpeg.rf.540361f9f1a5d6e92d7de61739c905eb.txt  \n",
            "  inflating: dataset/train/labels/FBB55BA8-BB04-429F-98DB-064622E3643C_jpeg.rf.83a45728fd6629ab37f9693efd8c150a.txt  \n",
            "  inflating: dataset/train/labels/FBEA414B-27C9-40C7-AF57-9019849846F8_jpeg.rf.2ec988fe3f46af74f2b88037468b679f.txt  \n",
            "  inflating: dataset/train/labels/FBEA414B-27C9-40C7-AF57-9019849846F8_jpeg.rf.671f9712316a751a5571f94499ad8444.txt  \n",
            "  inflating: dataset/train/labels/FBEA414B-27C9-40C7-AF57-9019849846F8_jpeg.rf.ad2af53bc6f92c9d345381408708f2fa.txt  \n",
            "  inflating: dataset/train/labels/FD94F45E-E482-4CD9-B797-A437E3496720_jpeg.rf.76fd47b821ae55c4f9ba7188bb8c5dbb.txt  \n",
            "  inflating: dataset/train/labels/FD94F45E-E482-4CD9-B797-A437E3496720_jpeg.rf.cdbd20cf397429159bb1e378fbe6d0a8.txt  \n",
            "  inflating: dataset/train/labels/FD94F45E-E482-4CD9-B797-A437E3496720_jpeg.rf.f37dbb81c57d69b5e367a0ffdc25229e.txt  \n",
            "  inflating: dataset/train/labels/FDC96F39-01BF-44C7-9302-EAD0D4FA85D2_jpeg.rf.01cd59e25c1d48b13d77a8f11c8c0ed4.txt  \n",
            "  inflating: dataset/train/labels/FDC96F39-01BF-44C7-9302-EAD0D4FA85D2_jpeg.rf.5a38f476e71a2f29eed8089f2f70687a.txt  \n",
            "  inflating: dataset/train/labels/FDC96F39-01BF-44C7-9302-EAD0D4FA85D2_jpeg.rf.fe10acb293ae01c91c797bbb5682d545.txt  \n",
            "  inflating: dataset/train/labels/FEE09DC5-35D1-4C5A-AEC7-F5A3B1EE8F9F_jpeg.rf.29cb2576bbaaae495267efd6387fbf09.txt  \n",
            "  inflating: dataset/train/labels/FEE09DC5-35D1-4C5A-AEC7-F5A3B1EE8F9F_jpeg.rf.445b2662133f2322bd476a01c54a1cd2.txt  \n",
            "  inflating: dataset/train/labels/FEE09DC5-35D1-4C5A-AEC7-F5A3B1EE8F9F_jpeg.rf.545b75dc1d6de5bf3e090fd034a8b5f1.txt  \n",
            "  inflating: dataset/train/labels/FF3C0A55-3AB2-42B3-B214-8E3D4D89E306_jpeg.rf.8916b00c16a93ebc0f411d96520490d8.txt  \n",
            "  inflating: dataset/train/labels/FF3C0A55-3AB2-42B3-B214-8E3D4D89E306_jpeg.rf.ba7b299770948c0ee75379e08d807c23.txt  \n",
            "  inflating: dataset/train/labels/FF3C0A55-3AB2-42B3-B214-8E3D4D89E306_jpeg.rf.e077189bf78d742f02e3ed2fe3cfac50.txt  \n",
            "   creating: dataset/valid/\n",
            "   creating: dataset/valid/images/\n",
            " extracting: dataset/valid/images/02EB3D0C-DB7C-4941-933F-45D7A1C73D21_jpeg.rf.acff585b98c992546dc2e1a4d3f23229.jpg  \n",
            " extracting: dataset/valid/images/035ED70C-49CD-4231-885B-E23FCAF5E06B_jpeg.rf.ea8e4fa8e2fde455367e47454afd0656.jpg  \n",
            " extracting: dataset/valid/images/0580DA93-FB4E-46FB-9311-2EC8F1FAEFCC_jpeg.rf.53ed26cc23948e15ec8958fe3d5c4a2c.jpg  \n",
            " extracting: dataset/valid/images/06B9F645-E2D1-4C5C-A4F7-BB9D0D534DB5_jpeg.rf.dc01519c37a2c6d4b2451c4a532f60d3.jpg  \n",
            " extracting: dataset/valid/images/06CCBEB0-DB51-4764-9BAC-3570BB831260_jpeg.rf.d97d1a9114548f0e95d6e98baa2d6306.jpg  \n",
            " extracting: dataset/valid/images/09B61C7C-9CC8-4CC3-96E4-4C7E023BABA1_jpeg.rf.a906d82b6700016b210aea4a4a670142.jpg  \n",
            " extracting: dataset/valid/images/0A88BB37-13F0-4952-BA26-A6DC831D3EFC_jpeg.rf.21e224da5342f1ff09dca81543ed42bb.jpg  \n",
            " extracting: dataset/valid/images/0BB65B16-41CC-43DB-8428-17FFC213F222_jpeg.rf.c8481be238568dc1643d14ce56e0def3.jpg  \n",
            " extracting: dataset/valid/images/0E8885D2-7BC1-4CD6-AA01-21CBE179CFA0_jpeg.rf.cbcbdb99b21baf2bde1417e5a560961d.jpg  \n",
            " extracting: dataset/valid/images/0F866176-E35E-4600-B30E-3132D61BC2F4_jpeg.rf.e0a25ea0381d9e8d0dfcd2d87d9a4439.jpg  \n",
            " extracting: dataset/valid/images/14053554-4925-4BCB-8C0B-BCE85D2FBC4A_jpeg.rf.b71c2caed8840a2cf6d78a6fa48eb2ff.jpg  \n",
            " extracting: dataset/valid/images/169CB2E9-6212-402C-994B-1DF7B0B662B4_jpeg.rf.9be13fb364b47c1a0c6c2c503af96376.jpg  \n",
            " extracting: dataset/valid/images/19FB0764-7AFC-4B4D-B533-0E5BC05A415E_jpeg.rf.aa1497b95fa161dd8a2ebfa948fe7932.jpg  \n",
            " extracting: dataset/valid/images/1C592C1D-9D6C-4EB6-984F-C7D1A8824060_jpeg.rf.49836c948aa43282615eddbc5639f921.jpg  \n",
            " extracting: dataset/valid/images/1CAF21DE-61CB-47AF-919E-01A97E82F3C9_jpeg.rf.d6f5ad23d7ee80b0629d612054142c4d.jpg  \n",
            " extracting: dataset/valid/images/1FC73828-16C4-4A51-93CD-52B5C2C38D7F_jpeg.rf.8d15411b872385190a60256f824401c1.jpg  \n",
            " extracting: dataset/valid/images/23933CB7-781C-4A3A-B4D6-F4D78161CFE6_jpeg.rf.06b15a9609aedc143260c92d36483432.jpg  \n",
            " extracting: dataset/valid/images/25DAADC0-6B5F-4CC5-BBD7-ECB999E4AAA7_jpeg.rf.f969002fa9b2635479d44fc1508adb21.jpg  \n",
            " extracting: dataset/valid/images/2746EEC5-70BE-479E-B4FC-1035FB0FF209_jpeg.rf.1935d73d2e3aaa354a0b85c82a905250.jpg  \n",
            " extracting: dataset/valid/images/27DEFC67-2793-4B20-BEFC-ACC1F6D9188A_jpeg.rf.0f0757b0876f04df869649a3fd0a7a0a.jpg  \n",
            " extracting: dataset/valid/images/28E9A53B-FA82-4F12-9780-E7419DD052DF_jpeg.rf.21e2799ac7ac94503ac75146eb2d08f7.jpg  \n",
            " extracting: dataset/valid/images/29F2DD7C-3989-443D-ADF8-8CFFA246C9FE_jpeg.rf.1bd05b6413f9ef18a0bc0e6a8945a125.jpg  \n",
            " extracting: dataset/valid/images/2C782C4C-10F4-4386-83F5-4BD80ABCF55C_jpeg.rf.1b5f317fcf65607d40b36d986296d070.jpg  \n",
            " extracting: dataset/valid/images/2E4BB805-42E0-4A3D-AACE-E1DA9E074EC8_jpeg.rf.23808b88cef592a05535b44420d3c343.jpg  \n",
            " extracting: dataset/valid/images/2F69FD72-7150-4EA0-A5B9-E8AC6C7FABE8_jpeg.rf.36176701af6fa8d6982e4bd406dcd82f.jpg  \n",
            " extracting: dataset/valid/images/31985053-9D4F-4775-BFE6-5C93ECA1B1FB_jpeg.rf.9ffd819601b1f8a00c06b8a5c8a26234.jpg  \n",
            " extracting: dataset/valid/images/31AC3E79-E88E-4E0E-9F78-33B4D30DD1E0_jpeg.rf.e7b4a191e80fdc896ed36e92b4930851.jpg  \n",
            " extracting: dataset/valid/images/32D5D552-CD84-414D-A45F-A2DAB93A6EA5_jpeg.rf.bcced8bc50208572d3224dead5045fa9.jpg  \n",
            " extracting: dataset/valid/images/34D74A14-F784-4C54-9F4C-8FFDC889E43B_jpeg.rf.85a62495304cd97ab68dd5a0180fa088.jpg  \n",
            " extracting: dataset/valid/images/36115A5F-4DEF-45C2-BDBB-4FE4BD0E56CF_jpeg.rf.72301abffe6c0404b09a2ced31f7168c.jpg  \n",
            " extracting: dataset/valid/images/36B36B1B-ECBE-4B9C-9928-FFD0D10B7AED_jpeg.rf.7cd724548db52b7c138c2d97e8486044.jpg  \n",
            " extracting: dataset/valid/images/37826B4D-6340-4847-8D29-BB96EE8510DB_jpeg.rf.bdd51a59d6f0b15640c86a021c8cf1ab.jpg  \n",
            " extracting: dataset/valid/images/388F1276-2B81-48F4-AD52-B99CD7310A75_jpeg.rf.1fea3ba0225921a452b5c35575013938.jpg  \n",
            " extracting: dataset/valid/images/39759979-3747-4434-BA18-82A98D65F071_jpeg.rf.a97704f034099f1303fdbaa187752db6.jpg  \n",
            " extracting: dataset/valid/images/3F2397B9-FBA0-4787-9D6C-422E15264BF8_jpeg.rf.16f7d08b84ae72632d8fe5911716527c.jpg  \n",
            " extracting: dataset/valid/images/4292DE3C-D50B-439C-941A-268563802522_jpeg.rf.e42779a37cfd79f7b55874eb7f1b813f.jpg  \n",
            " extracting: dataset/valid/images/4577FFBA-97CB-4DFE-996B-6C3B7AF06AF6_jpeg.rf.ff758475d52009aeb2bf6bce20b20a52.jpg  \n",
            " extracting: dataset/valid/images/477015E3-A724-4798-B29B-CC571F19EB17_jpeg.rf.21827f9d76576543a4759d40c4328ca8.jpg  \n",
            " extracting: dataset/valid/images/48BE709F-5106-4353-8488-32EDA77FAD45_jpeg.rf.e017ed5854c10416af47dfd19c26ea5c.jpg  \n",
            " extracting: dataset/valid/images/49154446-2096-4061-8633-4709711CA57C_jpeg.rf.8b2739e22a4656ddf0180318cf13cf6a.jpg  \n",
            " extracting: dataset/valid/images/4C3413C8-E935-4898-911A-0E708D3D584F_jpeg.rf.00172cb1439a95025c6786c808fe97a8.jpg  \n",
            " extracting: dataset/valid/images/50E56B2E-74DA-4D04-9BA6-056B3D18D3D5_jpeg.rf.3fc28476ed01d7ced53ae0e17ccc223c.jpg  \n",
            " extracting: dataset/valid/images/52F52B6D-E40F-4199-821B-373880465F3D_jpeg.rf.9d5dd25511f4a93a2b581afa230b2a02.jpg  \n",
            " extracting: dataset/valid/images/56D569D8-1A66-4BE3-B43E-A82A6B2BD6EA_jpeg.rf.2f3a5cf2caf2a1d58c4a600f3a8c6ba9.jpg  \n",
            " extracting: dataset/valid/images/5924C1F1-5281-4D8E-8F4F-873ABE7796FE_jpeg.rf.1f38f06dcd0f2a0565c5bed6b9364557.jpg  \n",
            " extracting: dataset/valid/images/5ABA8BD3-755B-404D-9CBD-5C6B7D6DE60D_jpeg.rf.3de5fa75db5a5d2b0ca6bb126ff046c9.jpg  \n",
            " extracting: dataset/valid/images/5E7F9039-CEEF-47A6-AACC-297C5079AB62_jpeg.rf.1aee5452f6459acde9c89b6481e0f408.jpg  \n",
            " extracting: dataset/valid/images/63867033-BBA9-46CD-8595-5EA0D1A521A3_jpeg.rf.0a4840996831e6635579b4f72a530d5a.jpg  \n",
            " extracting: dataset/valid/images/6703A54D-29A9-4662-A33C-02067BB4DFEA_jpeg.rf.a781cf8b449510c97315a999581eff62.jpg  \n",
            " extracting: dataset/valid/images/677B46D8-D349-4764-BC47-A95B2CBCA940_jpeg.rf.f6c618b3726a9d54fb93a6ee8870e16e.jpg  \n",
            " extracting: dataset/valid/images/68f8f132-IMG_2983_jpeg.rf.d4b83a667ec9b1201d27495657bebfba.jpg  \n",
            " extracting: dataset/valid/images/6F2A5F1E-3408-4ED5-B3F3-78CA6FADE918_jpeg.rf.32089f1fe845abde2d3c9eb56cb276ca.jpg  \n",
            " extracting: dataset/valid/images/7021934B-A7EA-4BB2-BE2E-579057B6CDE0_jpeg.rf.e1362153de121eba72a5813fcafb7a58.jpg  \n",
            " extracting: dataset/valid/images/70D70B4E-9C79-462B-8E06-92948CE45FC4_jpeg.rf.3d0daf77e33f781fd07f81df851b4293.jpg  \n",
            " extracting: dataset/valid/images/73DD16E9-6850-4ADB-9ADB-53D3BF2C104F_jpeg.rf.14a786be5bcda07f70fcb0b61830a011.jpg  \n",
            " extracting: dataset/valid/images/783835FF-2B0A-481E-843F-6ADBAD6BECF3_jpeg.rf.5bce4e1f799a270e59e84cdb0c371ef9.jpg  \n",
            " extracting: dataset/valid/images/7BFEE2B5-1AD8-4FF1-87C5-F835D1AE521B_jpeg.rf.907eed584d8f66450127c240c0ebba14.jpg  \n",
            " extracting: dataset/valid/images/7C09B011-DBEF-4CF9-96F2-6905B993A69B_jpeg.rf.2271c85718093c10a4693fc9a94277a5.jpg  \n",
            " extracting: dataset/valid/images/7E421E2E-9997-4C83-9773-758391C11CA8_jpeg.rf.69dba6897ece1d48e425159319998e47.jpg  \n",
            " extracting: dataset/valid/images/852A8885-72CB-4BCB-B32A-E264F52F31A1_jpeg.rf.5fc2ec70a14b6b8d0c35ffc7ad904385.jpg  \n",
            " extracting: dataset/valid/images/85EE1393-D8DB-4FD1-9589-A94ABA92B4F4_jpeg.rf.10686a0c6bd1962c8a52322e0b2feee3.jpg  \n",
            " extracting: dataset/valid/images/8EDA3F65-69B5-45A9-B453-26D5771305B1_jpeg.rf.1d871de8972049169301f7c4e650c074.jpg  \n",
            " extracting: dataset/valid/images/8FE5EF44-E63F-4D63-ADE8-E72083A5B3EA_jpeg.rf.dd54e46d7c692132634e11e7dc64c4b8.jpg  \n",
            " extracting: dataset/valid/images/91B56E82-3731-4B2E-ADC6-A6976FE69A0C_jpeg.rf.9d3aba0b0be4c50543359b1a843f1f53.jpg  \n",
            " extracting: dataset/valid/images/92113005-BA5B-4193-B700-718793BCD777_jpeg.rf.f89bb8562c5212c2a783baaebd85d5b1.jpg  \n",
            " extracting: dataset/valid/images/9828E617-02B2-41E6-9EC2-5FA5BBD82789_jpeg.rf.079ab0e37af39960c409f52a58c8bc08.jpg  \n",
            " extracting: dataset/valid/images/98AC56E0-9BDE-447C-BE1B-0BAD749A0F46_jpeg.rf.52e6ec30779be7ef1aff4297ae437c7b.jpg  \n",
            " extracting: dataset/valid/images/99E3F427-C843-4F27-AD65-1CAC18400202_jpeg.rf.40eaa9783d50792fb5f5d623e2933f3f.jpg  \n",
            " extracting: dataset/valid/images/9BC0DF21-70B5-4BCC-83BD-4DE927F1369A_jpeg.rf.83f8501d399fd02c06e75b4068e2af7a.jpg  \n",
            " extracting: dataset/valid/images/9DEE7246-B5F8-495B-AC72-CE8F0E4EED21_jpeg.rf.4ded3a38366856cc0517d45318204f46.jpg  \n",
            " extracting: dataset/valid/images/9E8499DE-65A3-4E88-B575-DB2998BD6ECA_jpeg.rf.eec03ed3cf5432363c1af3faa8429ee9.jpg  \n",
            " extracting: dataset/valid/images/9F627E26-EDD8-4FC3-AE76-CF4E40DD19EF_jpeg.rf.b66b9bc5c1c4c15b7dba2a0ee6025827.jpg  \n",
            " extracting: dataset/valid/images/9F7BFB15-1F95-49B1-A7ED-F38B6CF7B913_jpeg.rf.f659147488be9ab719d9a6122d0b8126.jpg  \n",
            " extracting: dataset/valid/images/A0791452-B2D1-469C-B46F-8FD447870637_jpeg.rf.f48638a053fc9473e8a2d045b9811348.jpg  \n",
            " extracting: dataset/valid/images/A1B9F49E-C50B-45A3-9B69-649050298457_jpeg.rf.0edb574541b02401c74cf6e3ab9fd4f1.jpg  \n",
            " extracting: dataset/valid/images/A56E1298-BCD0-488F-A484-62D8A5D9A46F_jpeg.rf.1a20c8a134ab57a614f74fca6e01c85a.jpg  \n",
            " extracting: dataset/valid/images/A69A0386-6A48-4EE0-896D-A4081A11D64A_jpeg.rf.61b91989b8a47ec3b38aa980313604ae.jpg  \n",
            " extracting: dataset/valid/images/A71C9F43-3219-4DBB-AD96-00748AF29D01_jpeg.rf.872f12db4e303a9758629078979a05c6.jpg  \n",
            " extracting: dataset/valid/images/ABC967AE-5487-4C90-A0DB-30AB58620E9C_jpeg.rf.e8c37479b4ff70b2cc59b1c7cc2380c1.jpg  \n",
            " extracting: dataset/valid/images/B67BC3D9-2537-471E-AC99-8EAD40200C90_jpeg.rf.206cb71527adc963de6afd5e1e996cee.jpg  \n",
            " extracting: dataset/valid/images/BD0A7B5D-7BE3-47BA-BC9D-C2C85DAAE85F_jpeg.rf.74b032e829c8d14b188ea3e1c15c4489.jpg  \n",
            " extracting: dataset/valid/images/BFD1B58B-14BF-47CE-8009-895D1A0A6814_jpeg.rf.c0fe31d9440c772325c506648cb7f2ea.jpg  \n",
            " extracting: dataset/valid/images/C117569E-9717-44D8-B8A5-7DEAE66D2822_jpeg.rf.4c2859eb3784fbb632606040b55036ed.jpg  \n",
            " extracting: dataset/valid/images/C380DC4D-CAE3-432E-B713-A3202AAB9B0A_jpeg.rf.1e6a676b1483d35f136488a08852db86.jpg  \n",
            " extracting: dataset/valid/images/C6295C02-7502-484F-BD9F-2215F073FE11_jpeg.rf.73ca74db49e03a3b297161d811cd8ec7.jpg  \n",
            " extracting: dataset/valid/images/C660A4D2-F614-49EB-9EA2-65617DAD0528_jpeg.rf.78ca51656993ac468b0686c6bfc2d9b4.jpg  \n",
            " extracting: dataset/valid/images/C690C059-3CE6-40CF-854B-C15ADC6F8131_jpeg.rf.47b45883d6994cddcce157a6492590f1.jpg  \n",
            " extracting: dataset/valid/images/C78FA8A0-9238-43C9-A15F-886D9A07238B_jpeg.rf.4c1790f74fde378472560f80fdf21a16.jpg  \n",
            " extracting: dataset/valid/images/C7A022A5-8FBA-47CF-B73D-65F314BE24C0_jpeg.rf.9de99c79b57760dd8e93a3d2ce294c6e.jpg  \n",
            " extracting: dataset/valid/images/C7E34A79-3588-4F9E-8EFF-36A36C84A292_jpeg.rf.47f9bdcd2f11e69769394993316a0bcc.jpg  \n",
            " extracting: dataset/valid/images/C7E8E01D-BFEB-446F-BE92-D56B08C1FFB7_jpeg.rf.58790e40cd9f816a1016b771ff8d8040.jpg  \n",
            " extracting: dataset/valid/images/C8F3CDA7-EC94-4544-B6AC-9368F451AE29_jpeg.rf.faa6225fa7a0577bf0f628cd49e74beb.jpg  \n",
            " extracting: dataset/valid/images/C9E0A1AA-DA9E-4BF7-9070-0B59859B2BAE_jpeg.rf.a2e393ea2dcdd138ad1417a92d7520f1.jpg  \n",
            " extracting: dataset/valid/images/CD2F294D-0A75-4045-8EFD-55FC580A60E1_jpeg.rf.94ab04c2c9a8aba09781d1375cebb4ae.jpg  \n",
            " extracting: dataset/valid/images/D06E5ABC-0F18-435A-A163-F255DA93317D_jpeg.rf.6dbfaa39cefa1881241dcf61cb4c1bdb.jpg  \n",
            " extracting: dataset/valid/images/D0FB3229-E9FD-4383-A9FA-4664FBE5F9C2_jpeg.rf.7b85deda50e067d3f7bb8f5dda3b114b.jpg  \n",
            " extracting: dataset/valid/images/D2F26460-CE4D-41A8-803F-BE96925AE89B_jpeg.rf.814a65a070368f0321dd5695af889fc3.jpg  \n",
            " extracting: dataset/valid/images/D318E1F1-E76E-48B8-A744-590C5C094C66_jpeg.rf.676ccf68902a6475a84a727e83ffedde.jpg  \n",
            " extracting: dataset/valid/images/D61787DC-4308-4FAD-98D0-AF7609D63262_jpeg.rf.adcb226c233bb7b0ba1997172284316c.jpg  \n",
            " extracting: dataset/valid/images/D79CEA5C-9FC3-49CC-8300-BBF182287D55_jpeg.rf.b5404d3a4e06b07a13dfa2343e5e89cc.jpg  \n",
            " extracting: dataset/valid/images/DAA38D39-388B-47F7-9D0C-E9C70B8EC93E_jpeg.rf.d985b3db7badcf250ef6a4e64f609495.jpg  \n",
            " extracting: dataset/valid/images/DBF1B70E-61A2-4A70-B833-965729858778_jpeg.rf.ff1fc30336f2dc02736ad40446360c1f.jpg  \n",
            " extracting: dataset/valid/images/DF9C7306-A596-4262-B106-7D0E93B0ACD3_jpeg.rf.c1aebf118d0623e53a190267498457fd.jpg  \n",
            " extracting: dataset/valid/images/E7D9BF76-E9C3-44AB-A945-D8A27A243BA9_jpeg.rf.004288e2936f2f264763b00fef327676.jpg  \n",
            " extracting: dataset/valid/images/EDA5BA5A-5E7C-47A3-B503-030872896D45_jpeg.rf.d7bb8f385f86f1d4cfeeaed4d0617a11.jpg  \n",
            " extracting: dataset/valid/images/F0C0DBF7-174D-42EE-BA13-CCD41CA232B8_jpeg.rf.cb86dd4fdbb58238c94e77b3f3133ddc.jpg  \n",
            " extracting: dataset/valid/images/F3BF3827-9EA9-486B-8A77-97AD01283BD4_jpeg.rf.a64e56a31ca8025aaa7e793e4b3f035c.jpg  \n",
            " extracting: dataset/valid/images/F59C0F4B-B246-4989-9819-B7244FE7EB36_jpeg.rf.ab66a8ed80532dc18bad761041519093.jpg  \n",
            " extracting: dataset/valid/images/F8581846-0810-4CDA-848E-C3F43552FE80_jpeg.rf.958040492825d7dbd4e403faaa958d9d.jpg  \n",
            " extracting: dataset/valid/images/F86A520F-BC7C-4407-9FC4-D7B0D8ED7657_jpeg.rf.cdb4d9b4d344421fc280c652c751cfc4.jpg  \n",
            " extracting: dataset/valid/images/F93DE454-CCA4-4188-91E3-5B9B2993A912_jpeg.rf.9b27ebc5b3117eedc0370e9ae370e4b0.jpg  \n",
            " extracting: dataset/valid/images/F9E62740-F0DD-45DD-ADCB-58AA73072AF3_jpeg.rf.8fffbc386594d6b8d366473ccda7e611.jpg  \n",
            " extracting: dataset/valid/images/FE262622-EE4C-4E12-B579-ECFEFFA20A1E_jpeg.rf.d4c7fbb6e0c7a6b699a63bd4d5d726e2.jpg  \n",
            " extracting: dataset/valid/images/caddca4d-IMG_2982_jpeg.rf.2667727cf54c892a7e1e9e81dd35525d.jpg  \n",
            "   creating: dataset/valid/labels/\n",
            "  inflating: dataset/valid/labels/02EB3D0C-DB7C-4941-933F-45D7A1C73D21_jpeg.rf.acff585b98c992546dc2e1a4d3f23229.txt  \n",
            "  inflating: dataset/valid/labels/035ED70C-49CD-4231-885B-E23FCAF5E06B_jpeg.rf.ea8e4fa8e2fde455367e47454afd0656.txt  \n",
            "  inflating: dataset/valid/labels/0580DA93-FB4E-46FB-9311-2EC8F1FAEFCC_jpeg.rf.53ed26cc23948e15ec8958fe3d5c4a2c.txt  \n",
            "  inflating: dataset/valid/labels/06B9F645-E2D1-4C5C-A4F7-BB9D0D534DB5_jpeg.rf.dc01519c37a2c6d4b2451c4a532f60d3.txt  \n",
            "  inflating: dataset/valid/labels/06CCBEB0-DB51-4764-9BAC-3570BB831260_jpeg.rf.d97d1a9114548f0e95d6e98baa2d6306.txt  \n",
            "  inflating: dataset/valid/labels/09B61C7C-9CC8-4CC3-96E4-4C7E023BABA1_jpeg.rf.a906d82b6700016b210aea4a4a670142.txt  \n",
            "  inflating: dataset/valid/labels/0A88BB37-13F0-4952-BA26-A6DC831D3EFC_jpeg.rf.21e224da5342f1ff09dca81543ed42bb.txt  \n",
            "  inflating: dataset/valid/labels/0BB65B16-41CC-43DB-8428-17FFC213F222_jpeg.rf.c8481be238568dc1643d14ce56e0def3.txt  \n",
            "  inflating: dataset/valid/labels/0E8885D2-7BC1-4CD6-AA01-21CBE179CFA0_jpeg.rf.cbcbdb99b21baf2bde1417e5a560961d.txt  \n",
            "  inflating: dataset/valid/labels/0F866176-E35E-4600-B30E-3132D61BC2F4_jpeg.rf.e0a25ea0381d9e8d0dfcd2d87d9a4439.txt  \n",
            "  inflating: dataset/valid/labels/14053554-4925-4BCB-8C0B-BCE85D2FBC4A_jpeg.rf.b71c2caed8840a2cf6d78a6fa48eb2ff.txt  \n",
            "  inflating: dataset/valid/labels/169CB2E9-6212-402C-994B-1DF7B0B662B4_jpeg.rf.9be13fb364b47c1a0c6c2c503af96376.txt  \n",
            "  inflating: dataset/valid/labels/19FB0764-7AFC-4B4D-B533-0E5BC05A415E_jpeg.rf.aa1497b95fa161dd8a2ebfa948fe7932.txt  \n",
            "  inflating: dataset/valid/labels/1C592C1D-9D6C-4EB6-984F-C7D1A8824060_jpeg.rf.49836c948aa43282615eddbc5639f921.txt  \n",
            "  inflating: dataset/valid/labels/1CAF21DE-61CB-47AF-919E-01A97E82F3C9_jpeg.rf.d6f5ad23d7ee80b0629d612054142c4d.txt  \n",
            "  inflating: dataset/valid/labels/1FC73828-16C4-4A51-93CD-52B5C2C38D7F_jpeg.rf.8d15411b872385190a60256f824401c1.txt  \n",
            "  inflating: dataset/valid/labels/23933CB7-781C-4A3A-B4D6-F4D78161CFE6_jpeg.rf.06b15a9609aedc143260c92d36483432.txt  \n",
            " extracting: dataset/valid/labels/25DAADC0-6B5F-4CC5-BBD7-ECB999E4AAA7_jpeg.rf.f969002fa9b2635479d44fc1508adb21.txt  \n",
            "  inflating: dataset/valid/labels/2746EEC5-70BE-479E-B4FC-1035FB0FF209_jpeg.rf.1935d73d2e3aaa354a0b85c82a905250.txt  \n",
            "  inflating: dataset/valid/labels/27DEFC67-2793-4B20-BEFC-ACC1F6D9188A_jpeg.rf.0f0757b0876f04df869649a3fd0a7a0a.txt  \n",
            "  inflating: dataset/valid/labels/28E9A53B-FA82-4F12-9780-E7419DD052DF_jpeg.rf.21e2799ac7ac94503ac75146eb2d08f7.txt  \n",
            "  inflating: dataset/valid/labels/29F2DD7C-3989-443D-ADF8-8CFFA246C9FE_jpeg.rf.1bd05b6413f9ef18a0bc0e6a8945a125.txt  \n",
            "  inflating: dataset/valid/labels/2C782C4C-10F4-4386-83F5-4BD80ABCF55C_jpeg.rf.1b5f317fcf65607d40b36d986296d070.txt  \n",
            " extracting: dataset/valid/labels/2E4BB805-42E0-4A3D-AACE-E1DA9E074EC8_jpeg.rf.23808b88cef592a05535b44420d3c343.txt  \n",
            "  inflating: dataset/valid/labels/2F69FD72-7150-4EA0-A5B9-E8AC6C7FABE8_jpeg.rf.36176701af6fa8d6982e4bd406dcd82f.txt  \n",
            "  inflating: dataset/valid/labels/31985053-9D4F-4775-BFE6-5C93ECA1B1FB_jpeg.rf.9ffd819601b1f8a00c06b8a5c8a26234.txt  \n",
            "  inflating: dataset/valid/labels/31AC3E79-E88E-4E0E-9F78-33B4D30DD1E0_jpeg.rf.e7b4a191e80fdc896ed36e92b4930851.txt  \n",
            "  inflating: dataset/valid/labels/32D5D552-CD84-414D-A45F-A2DAB93A6EA5_jpeg.rf.bcced8bc50208572d3224dead5045fa9.txt  \n",
            "  inflating: dataset/valid/labels/34D74A14-F784-4C54-9F4C-8FFDC889E43B_jpeg.rf.85a62495304cd97ab68dd5a0180fa088.txt  \n",
            "  inflating: dataset/valid/labels/36115A5F-4DEF-45C2-BDBB-4FE4BD0E56CF_jpeg.rf.72301abffe6c0404b09a2ced31f7168c.txt  \n",
            " extracting: dataset/valid/labels/36B36B1B-ECBE-4B9C-9928-FFD0D10B7AED_jpeg.rf.7cd724548db52b7c138c2d97e8486044.txt  \n",
            "  inflating: dataset/valid/labels/37826B4D-6340-4847-8D29-BB96EE8510DB_jpeg.rf.bdd51a59d6f0b15640c86a021c8cf1ab.txt  \n",
            "  inflating: dataset/valid/labels/388F1276-2B81-48F4-AD52-B99CD7310A75_jpeg.rf.1fea3ba0225921a452b5c35575013938.txt  \n",
            "  inflating: dataset/valid/labels/39759979-3747-4434-BA18-82A98D65F071_jpeg.rf.a97704f034099f1303fdbaa187752db6.txt  \n",
            " extracting: dataset/valid/labels/3F2397B9-FBA0-4787-9D6C-422E15264BF8_jpeg.rf.16f7d08b84ae72632d8fe5911716527c.txt  \n",
            "  inflating: dataset/valid/labels/4292DE3C-D50B-439C-941A-268563802522_jpeg.rf.e42779a37cfd79f7b55874eb7f1b813f.txt  \n",
            " extracting: dataset/valid/labels/4577FFBA-97CB-4DFE-996B-6C3B7AF06AF6_jpeg.rf.ff758475d52009aeb2bf6bce20b20a52.txt  \n",
            "  inflating: dataset/valid/labels/477015E3-A724-4798-B29B-CC571F19EB17_jpeg.rf.21827f9d76576543a4759d40c4328ca8.txt  \n",
            "  inflating: dataset/valid/labels/48BE709F-5106-4353-8488-32EDA77FAD45_jpeg.rf.e017ed5854c10416af47dfd19c26ea5c.txt  \n",
            "  inflating: dataset/valid/labels/49154446-2096-4061-8633-4709711CA57C_jpeg.rf.8b2739e22a4656ddf0180318cf13cf6a.txt  \n",
            "  inflating: dataset/valid/labels/4C3413C8-E935-4898-911A-0E708D3D584F_jpeg.rf.00172cb1439a95025c6786c808fe97a8.txt  \n",
            "  inflating: dataset/valid/labels/50E56B2E-74DA-4D04-9BA6-056B3D18D3D5_jpeg.rf.3fc28476ed01d7ced53ae0e17ccc223c.txt  \n",
            "  inflating: dataset/valid/labels/52F52B6D-E40F-4199-821B-373880465F3D_jpeg.rf.9d5dd25511f4a93a2b581afa230b2a02.txt  \n",
            "  inflating: dataset/valid/labels/56D569D8-1A66-4BE3-B43E-A82A6B2BD6EA_jpeg.rf.2f3a5cf2caf2a1d58c4a600f3a8c6ba9.txt  \n",
            "  inflating: dataset/valid/labels/5924C1F1-5281-4D8E-8F4F-873ABE7796FE_jpeg.rf.1f38f06dcd0f2a0565c5bed6b9364557.txt  \n",
            "  inflating: dataset/valid/labels/5ABA8BD3-755B-404D-9CBD-5C6B7D6DE60D_jpeg.rf.3de5fa75db5a5d2b0ca6bb126ff046c9.txt  \n",
            "  inflating: dataset/valid/labels/5E7F9039-CEEF-47A6-AACC-297C5079AB62_jpeg.rf.1aee5452f6459acde9c89b6481e0f408.txt  \n",
            "  inflating: dataset/valid/labels/63867033-BBA9-46CD-8595-5EA0D1A521A3_jpeg.rf.0a4840996831e6635579b4f72a530d5a.txt  \n",
            "  inflating: dataset/valid/labels/6703A54D-29A9-4662-A33C-02067BB4DFEA_jpeg.rf.a781cf8b449510c97315a999581eff62.txt  \n",
            "  inflating: dataset/valid/labels/677B46D8-D349-4764-BC47-A95B2CBCA940_jpeg.rf.f6c618b3726a9d54fb93a6ee8870e16e.txt  \n",
            "  inflating: dataset/valid/labels/68f8f132-IMG_2983_jpeg.rf.d4b83a667ec9b1201d27495657bebfba.txt  \n",
            "  inflating: dataset/valid/labels/6F2A5F1E-3408-4ED5-B3F3-78CA6FADE918_jpeg.rf.32089f1fe845abde2d3c9eb56cb276ca.txt  \n",
            "  inflating: dataset/valid/labels/7021934B-A7EA-4BB2-BE2E-579057B6CDE0_jpeg.rf.e1362153de121eba72a5813fcafb7a58.txt  \n",
            " extracting: dataset/valid/labels/70D70B4E-9C79-462B-8E06-92948CE45FC4_jpeg.rf.3d0daf77e33f781fd07f81df851b4293.txt  \n",
            "  inflating: dataset/valid/labels/73DD16E9-6850-4ADB-9ADB-53D3BF2C104F_jpeg.rf.14a786be5bcda07f70fcb0b61830a011.txt  \n",
            "  inflating: dataset/valid/labels/783835FF-2B0A-481E-843F-6ADBAD6BECF3_jpeg.rf.5bce4e1f799a270e59e84cdb0c371ef9.txt  \n",
            "  inflating: dataset/valid/labels/7BFEE2B5-1AD8-4FF1-87C5-F835D1AE521B_jpeg.rf.907eed584d8f66450127c240c0ebba14.txt  \n",
            "  inflating: dataset/valid/labels/7C09B011-DBEF-4CF9-96F2-6905B993A69B_jpeg.rf.2271c85718093c10a4693fc9a94277a5.txt  \n",
            "  inflating: dataset/valid/labels/7E421E2E-9997-4C83-9773-758391C11CA8_jpeg.rf.69dba6897ece1d48e425159319998e47.txt  \n",
            "  inflating: dataset/valid/labels/852A8885-72CB-4BCB-B32A-E264F52F31A1_jpeg.rf.5fc2ec70a14b6b8d0c35ffc7ad904385.txt  \n",
            " extracting: dataset/valid/labels/85EE1393-D8DB-4FD1-9589-A94ABA92B4F4_jpeg.rf.10686a0c6bd1962c8a52322e0b2feee3.txt  \n",
            "  inflating: dataset/valid/labels/8EDA3F65-69B5-45A9-B453-26D5771305B1_jpeg.rf.1d871de8972049169301f7c4e650c074.txt  \n",
            "  inflating: dataset/valid/labels/8FE5EF44-E63F-4D63-ADE8-E72083A5B3EA_jpeg.rf.dd54e46d7c692132634e11e7dc64c4b8.txt  \n",
            "  inflating: dataset/valid/labels/91B56E82-3731-4B2E-ADC6-A6976FE69A0C_jpeg.rf.9d3aba0b0be4c50543359b1a843f1f53.txt  \n",
            "  inflating: dataset/valid/labels/92113005-BA5B-4193-B700-718793BCD777_jpeg.rf.f89bb8562c5212c2a783baaebd85d5b1.txt  \n",
            "  inflating: dataset/valid/labels/9828E617-02B2-41E6-9EC2-5FA5BBD82789_jpeg.rf.079ab0e37af39960c409f52a58c8bc08.txt  \n",
            " extracting: dataset/valid/labels/98AC56E0-9BDE-447C-BE1B-0BAD749A0F46_jpeg.rf.52e6ec30779be7ef1aff4297ae437c7b.txt  \n",
            "  inflating: dataset/valid/labels/99E3F427-C843-4F27-AD65-1CAC18400202_jpeg.rf.40eaa9783d50792fb5f5d623e2933f3f.txt  \n",
            "  inflating: dataset/valid/labels/9BC0DF21-70B5-4BCC-83BD-4DE927F1369A_jpeg.rf.83f8501d399fd02c06e75b4068e2af7a.txt  \n",
            "  inflating: dataset/valid/labels/9DEE7246-B5F8-495B-AC72-CE8F0E4EED21_jpeg.rf.4ded3a38366856cc0517d45318204f46.txt  \n",
            "  inflating: dataset/valid/labels/9E8499DE-65A3-4E88-B575-DB2998BD6ECA_jpeg.rf.eec03ed3cf5432363c1af3faa8429ee9.txt  \n",
            "  inflating: dataset/valid/labels/9F627E26-EDD8-4FC3-AE76-CF4E40DD19EF_jpeg.rf.b66b9bc5c1c4c15b7dba2a0ee6025827.txt  \n",
            "  inflating: dataset/valid/labels/9F7BFB15-1F95-49B1-A7ED-F38B6CF7B913_jpeg.rf.f659147488be9ab719d9a6122d0b8126.txt  \n",
            " extracting: dataset/valid/labels/A0791452-B2D1-469C-B46F-8FD447870637_jpeg.rf.f48638a053fc9473e8a2d045b9811348.txt  \n",
            "  inflating: dataset/valid/labels/A1B9F49E-C50B-45A3-9B69-649050298457_jpeg.rf.0edb574541b02401c74cf6e3ab9fd4f1.txt  \n",
            "  inflating: dataset/valid/labels/A56E1298-BCD0-488F-A484-62D8A5D9A46F_jpeg.rf.1a20c8a134ab57a614f74fca6e01c85a.txt  \n",
            "  inflating: dataset/valid/labels/A69A0386-6A48-4EE0-896D-A4081A11D64A_jpeg.rf.61b91989b8a47ec3b38aa980313604ae.txt  \n",
            "  inflating: dataset/valid/labels/A71C9F43-3219-4DBB-AD96-00748AF29D01_jpeg.rf.872f12db4e303a9758629078979a05c6.txt  \n",
            "  inflating: dataset/valid/labels/ABC967AE-5487-4C90-A0DB-30AB58620E9C_jpeg.rf.e8c37479b4ff70b2cc59b1c7cc2380c1.txt  \n",
            "  inflating: dataset/valid/labels/B67BC3D9-2537-471E-AC99-8EAD40200C90_jpeg.rf.206cb71527adc963de6afd5e1e996cee.txt  \n",
            "  inflating: dataset/valid/labels/BD0A7B5D-7BE3-47BA-BC9D-C2C85DAAE85F_jpeg.rf.74b032e829c8d14b188ea3e1c15c4489.txt  \n",
            "  inflating: dataset/valid/labels/BFD1B58B-14BF-47CE-8009-895D1A0A6814_jpeg.rf.c0fe31d9440c772325c506648cb7f2ea.txt  \n",
            "  inflating: dataset/valid/labels/C117569E-9717-44D8-B8A5-7DEAE66D2822_jpeg.rf.4c2859eb3784fbb632606040b55036ed.txt  \n",
            "  inflating: dataset/valid/labels/C380DC4D-CAE3-432E-B713-A3202AAB9B0A_jpeg.rf.1e6a676b1483d35f136488a08852db86.txt  \n",
            "  inflating: dataset/valid/labels/C6295C02-7502-484F-BD9F-2215F073FE11_jpeg.rf.73ca74db49e03a3b297161d811cd8ec7.txt  \n",
            "  inflating: dataset/valid/labels/C660A4D2-F614-49EB-9EA2-65617DAD0528_jpeg.rf.78ca51656993ac468b0686c6bfc2d9b4.txt  \n",
            "  inflating: dataset/valid/labels/C690C059-3CE6-40CF-854B-C15ADC6F8131_jpeg.rf.47b45883d6994cddcce157a6492590f1.txt  \n",
            "  inflating: dataset/valid/labels/C78FA8A0-9238-43C9-A15F-886D9A07238B_jpeg.rf.4c1790f74fde378472560f80fdf21a16.txt  \n",
            "  inflating: dataset/valid/labels/C7A022A5-8FBA-47CF-B73D-65F314BE24C0_jpeg.rf.9de99c79b57760dd8e93a3d2ce294c6e.txt  \n",
            "  inflating: dataset/valid/labels/C7E34A79-3588-4F9E-8EFF-36A36C84A292_jpeg.rf.47f9bdcd2f11e69769394993316a0bcc.txt  \n",
            "  inflating: dataset/valid/labels/C7E8E01D-BFEB-446F-BE92-D56B08C1FFB7_jpeg.rf.58790e40cd9f816a1016b771ff8d8040.txt  \n",
            "  inflating: dataset/valid/labels/C8F3CDA7-EC94-4544-B6AC-9368F451AE29_jpeg.rf.faa6225fa7a0577bf0f628cd49e74beb.txt  \n",
            "  inflating: dataset/valid/labels/C9E0A1AA-DA9E-4BF7-9070-0B59859B2BAE_jpeg.rf.a2e393ea2dcdd138ad1417a92d7520f1.txt  \n",
            "  inflating: dataset/valid/labels/CD2F294D-0A75-4045-8EFD-55FC580A60E1_jpeg.rf.94ab04c2c9a8aba09781d1375cebb4ae.txt  \n",
            "  inflating: dataset/valid/labels/D06E5ABC-0F18-435A-A163-F255DA93317D_jpeg.rf.6dbfaa39cefa1881241dcf61cb4c1bdb.txt  \n",
            "  inflating: dataset/valid/labels/D0FB3229-E9FD-4383-A9FA-4664FBE5F9C2_jpeg.rf.7b85deda50e067d3f7bb8f5dda3b114b.txt  \n",
            "  inflating: dataset/valid/labels/D2F26460-CE4D-41A8-803F-BE96925AE89B_jpeg.rf.814a65a070368f0321dd5695af889fc3.txt  \n",
            "  inflating: dataset/valid/labels/D318E1F1-E76E-48B8-A744-590C5C094C66_jpeg.rf.676ccf68902a6475a84a727e83ffedde.txt  \n",
            "  inflating: dataset/valid/labels/D61787DC-4308-4FAD-98D0-AF7609D63262_jpeg.rf.adcb226c233bb7b0ba1997172284316c.txt  \n",
            "  inflating: dataset/valid/labels/D79CEA5C-9FC3-49CC-8300-BBF182287D55_jpeg.rf.b5404d3a4e06b07a13dfa2343e5e89cc.txt  \n",
            "  inflating: dataset/valid/labels/DAA38D39-388B-47F7-9D0C-E9C70B8EC93E_jpeg.rf.d985b3db7badcf250ef6a4e64f609495.txt  \n",
            "  inflating: dataset/valid/labels/DBF1B70E-61A2-4A70-B833-965729858778_jpeg.rf.ff1fc30336f2dc02736ad40446360c1f.txt  \n",
            " extracting: dataset/valid/labels/DF9C7306-A596-4262-B106-7D0E93B0ACD3_jpeg.rf.c1aebf118d0623e53a190267498457fd.txt  \n",
            "  inflating: dataset/valid/labels/E7D9BF76-E9C3-44AB-A945-D8A27A243BA9_jpeg.rf.004288e2936f2f264763b00fef327676.txt  \n",
            "  inflating: dataset/valid/labels/EDA5BA5A-5E7C-47A3-B503-030872896D45_jpeg.rf.d7bb8f385f86f1d4cfeeaed4d0617a11.txt  \n",
            "  inflating: dataset/valid/labels/F0C0DBF7-174D-42EE-BA13-CCD41CA232B8_jpeg.rf.cb86dd4fdbb58238c94e77b3f3133ddc.txt  \n",
            "  inflating: dataset/valid/labels/F3BF3827-9EA9-486B-8A77-97AD01283BD4_jpeg.rf.a64e56a31ca8025aaa7e793e4b3f035c.txt  \n",
            "  inflating: dataset/valid/labels/F59C0F4B-B246-4989-9819-B7244FE7EB36_jpeg.rf.ab66a8ed80532dc18bad761041519093.txt  \n",
            "  inflating: dataset/valid/labels/F8581846-0810-4CDA-848E-C3F43552FE80_jpeg.rf.958040492825d7dbd4e403faaa958d9d.txt  \n",
            "  inflating: dataset/valid/labels/F86A520F-BC7C-4407-9FC4-D7B0D8ED7657_jpeg.rf.cdb4d9b4d344421fc280c652c751cfc4.txt  \n",
            "  inflating: dataset/valid/labels/F93DE454-CCA4-4188-91E3-5B9B2993A912_jpeg.rf.9b27ebc5b3117eedc0370e9ae370e4b0.txt  \n",
            "  inflating: dataset/valid/labels/F9E62740-F0DD-45DD-ADCB-58AA73072AF3_jpeg.rf.8fffbc386594d6b8d366473ccda7e611.txt  \n",
            "  inflating: dataset/valid/labels/FE262622-EE4C-4E12-B579-ECFEFFA20A1E_jpeg.rf.d4c7fbb6e0c7a6b699a63bd4d5d726e2.txt  \n",
            "  inflating: dataset/valid/labels/caddca4d-IMG_2982_jpeg.rf.2667727cf54c892a7e1e9e81dd35525d.txt  \n"
          ]
        }
      ]
    },
    {
      "cell_type": "code",
      "source": [
        "import optuna\n",
        "from ultralytics import YOLO\n",
        "\n",
        "def objective(trial):\n",
        "    # Hiperparámetros que queremos ajustar\n",
        "    lr = trial.suggest_loguniform('lr', 1e-5, 1e-3)\n",
        "    batch_size = trial.suggest_categorical('batch_size', [8, 16, 32])\n",
        "    img_size = trial.suggest_categorical('img_size', [640, 1024])\n",
        "\n",
        "    # Carga el modelo\n",
        "    model = YOLO('yolov8n.pt', device=0)  # Asegúrate de especificar el dispositivo adecuadamente\n",
        "\n",
        "    # Resultados del entrenamiento\n",
        "    results = model.train(data='/content/dataset/data.yaml',\n",
        "                          epochs=50,  # Reducir para pruebas rápidas\n",
        "                          batch_size=batch_size,\n",
        "                          imgsz=img_size,\n",
        "                          lr=lr,\n",
        "                          device=0)\n",
        "\n",
        "    # Obtenemos el mejor resultado de precisión de validación\n",
        "    best_result = results['val/box_loss'].min()  # Asumiendo que queremos minimizar box_loss\n",
        "    return best_result\n",
        "\n",
        "study = optuna.create_study(direction='minimize')\n",
        "study.optimize(objective, n_trials=20)  # Ejecuta 20 pruebas\n",
        "\n",
        "print(\"Best hyperparameters: {}\".format(study.best_params))\n",
        "\n"
      ],
      "metadata": {
        "id": "2G8sgVB6fkQG"
      },
      "id": "2G8sgVB6fkQG",
      "execution_count": null,
      "outputs": []
    },
    {
      "cell_type": "code",
      "execution_count": 4,
      "id": "5e27dd71-2b43-48bf-9f05-eba66c1afe50",
      "metadata": {
        "colab": {
          "base_uri": "https://localhost:8080/"
        },
        "id": "5e27dd71-2b43-48bf-9f05-eba66c1afe50",
        "outputId": "8c578736-fc06-4e05-9930-a9e1430b9691"
      },
      "outputs": [
        {
          "output_type": "stream",
          "name": "stdout",
          "text": [
            "Downloading https://github.com/ultralytics/assets/releases/download/v8.2.0/yolov8n.pt to 'yolov8n.pt'...\n"
          ]
        },
        {
          "output_type": "stream",
          "name": "stderr",
          "text": [
            "100%|██████████| 6.23M/6.23M [00:00<00:00, 21.7MB/s]\n"
          ]
        },
        {
          "output_type": "stream",
          "name": "stdout",
          "text": [
            "Ultralytics YOLOv8.2.28 🚀 Python-3.10.12 torch-2.3.0+cu121 CUDA:0 (Tesla T4, 15102MiB)\n",
            "\u001b[34m\u001b[1mengine/trainer: \u001b[0mtask=detect, mode=train, model=yolov8n.pt, data=/content/dataset/data.yaml, epochs=200, time=None, patience=100, batch=16, imgsz=640, save=True, save_period=-1, cache=False, device=0, workers=8, project=None, name=train, exist_ok=False, pretrained=True, optimizer=auto, verbose=True, seed=0, deterministic=True, single_cls=False, rect=False, cos_lr=False, close_mosaic=10, resume=False, amp=True, fraction=1.0, profile=False, freeze=None, multi_scale=False, overlap_mask=True, mask_ratio=4, dropout=0.0, val=True, split=val, save_json=False, save_hybrid=False, conf=None, iou=0.7, max_det=300, half=False, dnn=False, plots=True, source=None, vid_stride=1, stream_buffer=False, visualize=False, augment=False, agnostic_nms=False, classes=None, retina_masks=False, embed=None, show=False, save_frames=False, save_txt=False, save_conf=False, save_crop=False, show_labels=True, show_conf=True, show_boxes=True, line_width=None, format=torchscript, keras=False, optimize=False, int8=False, dynamic=False, simplify=False, opset=None, workspace=4, nms=False, lr0=0.01, lrf=0.01, momentum=0.937, weight_decay=0.0005, warmup_epochs=3.0, warmup_momentum=0.8, warmup_bias_lr=0.1, box=7.5, cls=0.5, dfl=1.5, pose=12.0, kobj=1.0, label_smoothing=0.0, nbs=64, hsv_h=0.015, hsv_s=0.7, hsv_v=0.4, degrees=0.0, translate=0.1, scale=0.5, shear=0.0, perspective=0.0, flipud=0.0, fliplr=0.5, bgr=0.0, mosaic=1.0, mixup=0.0, copy_paste=0.0, auto_augment=randaugment, erasing=0.4, crop_fraction=1.0, cfg=None, tracker=botsort.yaml, save_dir=runs/detect/train\n",
            "Downloading https://ultralytics.com/assets/Arial.ttf to '/root/.config/Ultralytics/Arial.ttf'...\n"
          ]
        },
        {
          "output_type": "stream",
          "name": "stderr",
          "text": [
            "100%|██████████| 755k/755k [00:00<00:00, 4.70MB/s]\n"
          ]
        },
        {
          "output_type": "stream",
          "name": "stdout",
          "text": [
            "Overriding model.yaml nc=80 with nc=10\n",
            "\n",
            "                   from  n    params  module                                       arguments                     \n",
            "  0                  -1  1       464  ultralytics.nn.modules.conv.Conv             [3, 16, 3, 2]                 \n",
            "  1                  -1  1      4672  ultralytics.nn.modules.conv.Conv             [16, 32, 3, 2]                \n",
            "  2                  -1  1      7360  ultralytics.nn.modules.block.C2f             [32, 32, 1, True]             \n",
            "  3                  -1  1     18560  ultralytics.nn.modules.conv.Conv             [32, 64, 3, 2]                \n",
            "  4                  -1  2     49664  ultralytics.nn.modules.block.C2f             [64, 64, 2, True]             \n",
            "  5                  -1  1     73984  ultralytics.nn.modules.conv.Conv             [64, 128, 3, 2]               \n",
            "  6                  -1  2    197632  ultralytics.nn.modules.block.C2f             [128, 128, 2, True]           \n",
            "  7                  -1  1    295424  ultralytics.nn.modules.conv.Conv             [128, 256, 3, 2]              \n",
            "  8                  -1  1    460288  ultralytics.nn.modules.block.C2f             [256, 256, 1, True]           \n",
            "  9                  -1  1    164608  ultralytics.nn.modules.block.SPPF            [256, 256, 5]                 \n",
            " 10                  -1  1         0  torch.nn.modules.upsampling.Upsample         [None, 2, 'nearest']          \n",
            " 11             [-1, 6]  1         0  ultralytics.nn.modules.conv.Concat           [1]                           \n",
            " 12                  -1  1    148224  ultralytics.nn.modules.block.C2f             [384, 128, 1]                 \n",
            " 13                  -1  1         0  torch.nn.modules.upsampling.Upsample         [None, 2, 'nearest']          \n",
            " 14             [-1, 4]  1         0  ultralytics.nn.modules.conv.Concat           [1]                           \n",
            " 15                  -1  1     37248  ultralytics.nn.modules.block.C2f             [192, 64, 1]                  \n",
            " 16                  -1  1     36992  ultralytics.nn.modules.conv.Conv             [64, 64, 3, 2]                \n",
            " 17            [-1, 12]  1         0  ultralytics.nn.modules.conv.Concat           [1]                           \n",
            " 18                  -1  1    123648  ultralytics.nn.modules.block.C2f             [192, 128, 1]                 \n",
            " 19                  -1  1    147712  ultralytics.nn.modules.conv.Conv             [128, 128, 3, 2]              \n",
            " 20             [-1, 9]  1         0  ultralytics.nn.modules.conv.Concat           [1]                           \n",
            " 21                  -1  1    493056  ultralytics.nn.modules.block.C2f             [384, 256, 1]                 \n",
            " 22        [15, 18, 21]  1    753262  ultralytics.nn.modules.head.Detect           [10, [64, 128, 256]]          \n",
            "Model summary: 225 layers, 3012798 parameters, 3012782 gradients, 8.2 GFLOPs\n",
            "\n",
            "Transferred 319/355 items from pretrained weights\n",
            "\u001b[34m\u001b[1mTensorBoard: \u001b[0mStart with 'tensorboard --logdir runs/detect/train', view at http://localhost:6006/\n",
            "Freezing layer 'model.22.dfl.conv.weight'\n",
            "\u001b[34m\u001b[1mAMP: \u001b[0mrunning Automatic Mixed Precision (AMP) checks with YOLOv8n...\n"
          ]
        },
        {
          "output_type": "stream",
          "name": "stderr",
          "text": [
            "/usr/local/lib/python3.10/dist-packages/torch/nn/modules/conv.py:456: UserWarning: Plan failed with a cudnnException: CUDNN_BACKEND_EXECUTION_PLAN_DESCRIPTOR: cudnnFinalize Descriptor Failed cudnn_status: CUDNN_STATUS_NOT_SUPPORTED (Triggered internally at ../aten/src/ATen/native/cudnn/Conv_v8.cpp:919.)\n",
            "  return F.conv2d(input, weight, bias, self.stride,\n"
          ]
        },
        {
          "output_type": "stream",
          "name": "stdout",
          "text": [
            "\u001b[34m\u001b[1mAMP: \u001b[0mchecks passed ✅\n"
          ]
        },
        {
          "output_type": "stream",
          "name": "stderr",
          "text": [
            "\u001b[34m\u001b[1mtrain: \u001b[0mScanning /content/dataset/train/labels... 1185 images, 0 backgrounds, 0 corrupt: 100%|██████████| 1185/1185 [00:00<00:00, 2131.23it/s]"
          ]
        },
        {
          "output_type": "stream",
          "name": "stdout",
          "text": [
            "\u001b[34m\u001b[1mtrain: \u001b[0mNew cache created: /content/dataset/train/labels.cache\n"
          ]
        },
        {
          "output_type": "stream",
          "name": "stderr",
          "text": [
            "\n"
          ]
        },
        {
          "output_type": "stream",
          "name": "stdout",
          "text": [
            "\u001b[34m\u001b[1malbumentations: \u001b[0mBlur(p=0.01, blur_limit=(3, 7)), MedianBlur(p=0.01, blur_limit=(3, 7)), ToGray(p=0.01), CLAHE(p=0.01, clip_limit=(1, 4.0), tile_grid_size=(8, 8))\n"
          ]
        },
        {
          "output_type": "stream",
          "name": "stderr",
          "text": [
            "/usr/lib/python3.10/multiprocessing/popen_fork.py:66: RuntimeWarning: os.fork() was called. os.fork() is incompatible with multithreaded code, and JAX is multithreaded, so this will likely lead to a deadlock.\n",
            "  self.pid = os.fork()\n",
            "\u001b[34m\u001b[1mval: \u001b[0mScanning /content/dataset/valid/labels... 114 images, 0 backgrounds, 0 corrupt: 100%|██████████| 114/114 [00:00<00:00, 1294.14it/s]"
          ]
        },
        {
          "output_type": "stream",
          "name": "stdout",
          "text": [
            "\u001b[34m\u001b[1mval: \u001b[0mNew cache created: /content/dataset/valid/labels.cache\n"
          ]
        },
        {
          "output_type": "stream",
          "name": "stderr",
          "text": [
            "\n"
          ]
        },
        {
          "output_type": "stream",
          "name": "stdout",
          "text": [
            "Plotting labels to runs/detect/train/labels.jpg... \n",
            "\u001b[34m\u001b[1moptimizer:\u001b[0m 'optimizer=auto' found, ignoring 'lr0=0.01' and 'momentum=0.937' and determining best 'optimizer', 'lr0' and 'momentum' automatically... \n",
            "\u001b[34m\u001b[1moptimizer:\u001b[0m AdamW(lr=0.000714, momentum=0.9) with parameter groups 57 weight(decay=0.0), 64 weight(decay=0.0005), 63 bias(decay=0.0)\n",
            "\u001b[34m\u001b[1mTensorBoard: \u001b[0mmodel graph visualization added ✅\n",
            "Image sizes 640 train, 640 val\n",
            "Using 2 dataloader workers\n",
            "Logging results to \u001b[1mruns/detect/train\u001b[0m\n",
            "Starting training for 200 epochs...\n",
            "\n",
            "      Epoch    GPU_mem   box_loss   cls_loss   dfl_loss  Instances       Size\n"
          ]
        },
        {
          "output_type": "stream",
          "name": "stderr",
          "text": [
            "      1/200       2.5G     0.6954      3.332      1.102          4        640: 100%|██████████| 75/75 [00:29<00:00,  2.56it/s]\n",
            "                 Class     Images  Instances      Box(P          R      mAP50  mAP50-95):   0%|          | 0/4 [00:00<?, ?it/s]/usr/local/lib/python3.10/dist-packages/torch/nn/modules/conv.py:456: UserWarning: Plan failed with a cudnnException: CUDNN_BACKEND_EXECUTION_PLAN_DESCRIPTOR: cudnnFinalize Descriptor Failed cudnn_status: CUDNN_STATUS_NOT_SUPPORTED (Triggered internally at ../aten/src/ATen/native/cudnn/Conv_v8.cpp:919.)\n",
            "  return F.conv2d(input, weight, bias, self.stride,\n",
            "                 Class     Images  Instances      Box(P          R      mAP50  mAP50-95): 100%|██████████| 4/4 [00:02<00:00,  1.41it/s]"
          ]
        },
        {
          "output_type": "stream",
          "name": "stdout",
          "text": [
            "                   all        114        121      0.838      0.573       0.76      0.705\n"
          ]
        },
        {
          "output_type": "stream",
          "name": "stderr",
          "text": [
            "\n"
          ]
        },
        {
          "output_type": "stream",
          "name": "stdout",
          "text": [
            "\n",
            "      Epoch    GPU_mem   box_loss   cls_loss   dfl_loss  Instances       Size\n"
          ]
        },
        {
          "output_type": "stream",
          "name": "stderr",
          "text": [
            "      2/200      2.32G     0.5794      1.785      1.022          4        640: 100%|██████████| 75/75 [00:26<00:00,  2.82it/s]\n",
            "                 Class     Images  Instances      Box(P          R      mAP50  mAP50-95): 100%|██████████| 4/4 [00:01<00:00,  2.63it/s]"
          ]
        },
        {
          "output_type": "stream",
          "name": "stdout",
          "text": [
            "                   all        114        121      0.953      0.909      0.928      0.836\n"
          ]
        },
        {
          "output_type": "stream",
          "name": "stderr",
          "text": [
            "\n"
          ]
        },
        {
          "output_type": "stream",
          "name": "stdout",
          "text": [
            "\n",
            "      Epoch    GPU_mem   box_loss   cls_loss   dfl_loss  Instances       Size\n"
          ]
        },
        {
          "output_type": "stream",
          "name": "stderr",
          "text": [
            "      3/200      2.31G     0.5613      1.328     0.9997          4        640: 100%|██████████| 75/75 [00:24<00:00,  3.06it/s]\n",
            "                 Class     Images  Instances      Box(P          R      mAP50  mAP50-95): 100%|██████████| 4/4 [00:02<00:00,  2.00it/s]"
          ]
        },
        {
          "output_type": "stream",
          "name": "stdout",
          "text": [
            "                   all        114        121      0.913      0.919      0.931      0.862\n"
          ]
        },
        {
          "output_type": "stream",
          "name": "stderr",
          "text": [
            "\n"
          ]
        },
        {
          "output_type": "stream",
          "name": "stdout",
          "text": [
            "\n",
            "      Epoch    GPU_mem   box_loss   cls_loss   dfl_loss  Instances       Size\n"
          ]
        },
        {
          "output_type": "stream",
          "name": "stderr",
          "text": [
            "      4/200       2.3G      0.572      1.218     0.9925          3        640: 100%|██████████| 75/75 [00:25<00:00,  2.89it/s]\n",
            "                 Class     Images  Instances      Box(P          R      mAP50  mAP50-95): 100%|██████████| 4/4 [00:01<00:00,  3.07it/s]\n"
          ]
        },
        {
          "output_type": "stream",
          "name": "stdout",
          "text": [
            "                   all        114        121      0.911      0.934      0.931      0.865\n",
            "\n",
            "      Epoch    GPU_mem   box_loss   cls_loss   dfl_loss  Instances       Size\n"
          ]
        },
        {
          "output_type": "stream",
          "name": "stderr",
          "text": [
            "      5/200      2.31G      0.565      1.071     0.9844          2        640: 100%|██████████| 75/75 [00:24<00:00,  3.05it/s]\n",
            "                 Class     Images  Instances      Box(P          R      mAP50  mAP50-95): 100%|██████████| 4/4 [00:02<00:00,  1.77it/s]"
          ]
        },
        {
          "output_type": "stream",
          "name": "stdout",
          "text": [
            "                   all        114        121      0.979      0.934      0.931      0.885\n"
          ]
        },
        {
          "output_type": "stream",
          "name": "stderr",
          "text": [
            "\n"
          ]
        },
        {
          "output_type": "stream",
          "name": "stdout",
          "text": [
            "\n",
            "      Epoch    GPU_mem   box_loss   cls_loss   dfl_loss  Instances       Size\n"
          ]
        },
        {
          "output_type": "stream",
          "name": "stderr",
          "text": [
            "      6/200      2.31G     0.5288     0.9557      0.972          1        640: 100%|██████████| 75/75 [00:26<00:00,  2.78it/s]\n",
            "                 Class     Images  Instances      Box(P          R      mAP50  mAP50-95): 100%|██████████| 4/4 [00:01<00:00,  2.98it/s]"
          ]
        },
        {
          "output_type": "stream",
          "name": "stdout",
          "text": [
            "                   all        114        121      0.977      0.933      0.931      0.879\n"
          ]
        },
        {
          "output_type": "stream",
          "name": "stderr",
          "text": [
            "\n"
          ]
        },
        {
          "output_type": "stream",
          "name": "stdout",
          "text": [
            "\n",
            "      Epoch    GPU_mem   box_loss   cls_loss   dfl_loss  Instances       Size\n"
          ]
        },
        {
          "output_type": "stream",
          "name": "stderr",
          "text": [
            "      7/200      2.31G     0.5363     0.8463     0.9751          1        640: 100%|██████████| 75/75 [00:24<00:00,  3.07it/s]\n",
            "                 Class     Images  Instances      Box(P          R      mAP50  mAP50-95): 100%|██████████| 4/4 [00:02<00:00,  1.70it/s]"
          ]
        },
        {
          "output_type": "stream",
          "name": "stdout",
          "text": [
            "                   all        114        121       0.98      0.934      0.932       0.87\n"
          ]
        },
        {
          "output_type": "stream",
          "name": "stderr",
          "text": [
            "\n"
          ]
        },
        {
          "output_type": "stream",
          "name": "stdout",
          "text": [
            "\n",
            "      Epoch    GPU_mem   box_loss   cls_loss   dfl_loss  Instances       Size\n"
          ]
        },
        {
          "output_type": "stream",
          "name": "stderr",
          "text": [
            "      8/200       2.3G     0.5171     0.8125     0.9597          1        640: 100%|██████████| 75/75 [00:26<00:00,  2.79it/s]\n",
            "                 Class     Images  Instances      Box(P          R      mAP50  mAP50-95): 100%|██████████| 4/4 [00:01<00:00,  2.57it/s]"
          ]
        },
        {
          "output_type": "stream",
          "name": "stdout",
          "text": [
            "                   all        114        121      0.966      0.923      0.931      0.864\n"
          ]
        },
        {
          "output_type": "stream",
          "name": "stderr",
          "text": [
            "\n"
          ]
        },
        {
          "output_type": "stream",
          "name": "stdout",
          "text": [
            "\n",
            "      Epoch    GPU_mem   box_loss   cls_loss   dfl_loss  Instances       Size\n"
          ]
        },
        {
          "output_type": "stream",
          "name": "stderr",
          "text": [
            "      9/200      2.31G     0.5019     0.7214      0.951          3        640: 100%|██████████| 75/75 [00:24<00:00,  3.06it/s]\n",
            "                 Class     Images  Instances      Box(P          R      mAP50  mAP50-95): 100%|██████████| 4/4 [00:02<00:00,  1.96it/s]"
          ]
        },
        {
          "output_type": "stream",
          "name": "stdout",
          "text": [
            "                   all        114        121      0.988      0.934      0.932      0.893\n"
          ]
        },
        {
          "output_type": "stream",
          "name": "stderr",
          "text": [
            "\n"
          ]
        },
        {
          "output_type": "stream",
          "name": "stdout",
          "text": [
            "\n",
            "      Epoch    GPU_mem   box_loss   cls_loss   dfl_loss  Instances       Size\n"
          ]
        },
        {
          "output_type": "stream",
          "name": "stderr",
          "text": [
            "     10/200      2.31G     0.4935     0.7368       0.94          0        640: 100%|██████████| 75/75 [00:26<00:00,  2.79it/s]\n",
            "                 Class     Images  Instances      Box(P          R      mAP50  mAP50-95): 100%|██████████| 4/4 [00:01<00:00,  3.35it/s]"
          ]
        },
        {
          "output_type": "stream",
          "name": "stdout",
          "text": [
            "                   all        114        121      0.973      0.934      0.932      0.894\n"
          ]
        },
        {
          "output_type": "stream",
          "name": "stderr",
          "text": [
            "\n"
          ]
        },
        {
          "output_type": "stream",
          "name": "stdout",
          "text": [
            "\n",
            "      Epoch    GPU_mem   box_loss   cls_loss   dfl_loss  Instances       Size\n"
          ]
        },
        {
          "output_type": "stream",
          "name": "stderr",
          "text": [
            "     11/200      2.31G     0.4864      0.603     0.9407          2        640: 100%|██████████| 75/75 [00:24<00:00,  3.01it/s]\n",
            "                 Class     Images  Instances      Box(P          R      mAP50  mAP50-95): 100%|██████████| 4/4 [00:02<00:00,  1.56it/s]"
          ]
        },
        {
          "output_type": "stream",
          "name": "stdout",
          "text": [
            "                   all        114        121      0.981      0.934      0.932      0.909\n"
          ]
        },
        {
          "output_type": "stream",
          "name": "stderr",
          "text": [
            "\n"
          ]
        },
        {
          "output_type": "stream",
          "name": "stdout",
          "text": [
            "\n",
            "      Epoch    GPU_mem   box_loss   cls_loss   dfl_loss  Instances       Size\n"
          ]
        },
        {
          "output_type": "stream",
          "name": "stderr",
          "text": [
            "     12/200       2.3G     0.4695     0.6086     0.9352          0        640: 100%|██████████| 75/75 [00:25<00:00,  2.90it/s]\n",
            "                 Class     Images  Instances      Box(P          R      mAP50  mAP50-95): 100%|██████████| 4/4 [00:01<00:00,  3.07it/s]"
          ]
        },
        {
          "output_type": "stream",
          "name": "stdout",
          "text": [
            "                   all        114        121       0.98      0.918      0.932      0.884\n"
          ]
        },
        {
          "output_type": "stream",
          "name": "stderr",
          "text": [
            "\n"
          ]
        },
        {
          "output_type": "stream",
          "name": "stdout",
          "text": [
            "\n",
            "      Epoch    GPU_mem   box_loss   cls_loss   dfl_loss  Instances       Size\n"
          ]
        },
        {
          "output_type": "stream",
          "name": "stderr",
          "text": [
            "     13/200      2.31G     0.4744     0.5603       0.94          2        640: 100%|██████████| 75/75 [00:26<00:00,  2.80it/s]\n",
            "                 Class     Images  Instances      Box(P          R      mAP50  mAP50-95): 100%|██████████| 4/4 [00:02<00:00,  1.52it/s]"
          ]
        },
        {
          "output_type": "stream",
          "name": "stdout",
          "text": [
            "                   all        114        121      0.993      0.934      0.932      0.869\n"
          ]
        },
        {
          "output_type": "stream",
          "name": "stderr",
          "text": [
            "\n"
          ]
        },
        {
          "output_type": "stream",
          "name": "stdout",
          "text": [
            "\n",
            "      Epoch    GPU_mem   box_loss   cls_loss   dfl_loss  Instances       Size\n"
          ]
        },
        {
          "output_type": "stream",
          "name": "stderr",
          "text": [
            "     14/200      2.31G      0.463     0.5346     0.9303          1        640: 100%|██████████| 75/75 [00:25<00:00,  2.98it/s]\n",
            "                 Class     Images  Instances      Box(P          R      mAP50  mAP50-95): 100%|██████████| 4/4 [00:01<00:00,  2.75it/s]"
          ]
        },
        {
          "output_type": "stream",
          "name": "stdout",
          "text": [
            "                   all        114        121       0.99      0.934      0.932      0.898\n"
          ]
        },
        {
          "output_type": "stream",
          "name": "stderr",
          "text": [
            "\n"
          ]
        },
        {
          "output_type": "stream",
          "name": "stdout",
          "text": [
            "\n",
            "      Epoch    GPU_mem   box_loss   cls_loss   dfl_loss  Instances       Size\n"
          ]
        },
        {
          "output_type": "stream",
          "name": "stderr",
          "text": [
            "     15/200      2.31G     0.4683     0.5305     0.9392          1        640: 100%|██████████| 75/75 [00:25<00:00,  2.90it/s]\n",
            "                 Class     Images  Instances      Box(P          R      mAP50  mAP50-95): 100%|██████████| 4/4 [00:02<00:00,  1.54it/s]"
          ]
        },
        {
          "output_type": "stream",
          "name": "stdout",
          "text": [
            "                   all        114        121      0.975      0.934      0.935      0.909\n"
          ]
        },
        {
          "output_type": "stream",
          "name": "stderr",
          "text": [
            "\n"
          ]
        },
        {
          "output_type": "stream",
          "name": "stdout",
          "text": [
            "\n",
            "      Epoch    GPU_mem   box_loss   cls_loss   dfl_loss  Instances       Size\n"
          ]
        },
        {
          "output_type": "stream",
          "name": "stderr",
          "text": [
            "     16/200       2.3G     0.4566      0.509     0.9324          3        640: 100%|██████████| 75/75 [00:26<00:00,  2.84it/s]\n",
            "                 Class     Images  Instances      Box(P          R      mAP50  mAP50-95): 100%|██████████| 4/4 [00:01<00:00,  3.22it/s]"
          ]
        },
        {
          "output_type": "stream",
          "name": "stdout",
          "text": [
            "                   all        114        121       0.99      0.934      0.938      0.896\n"
          ]
        },
        {
          "output_type": "stream",
          "name": "stderr",
          "text": [
            "\n"
          ]
        },
        {
          "output_type": "stream",
          "name": "stdout",
          "text": [
            "\n",
            "      Epoch    GPU_mem   box_loss   cls_loss   dfl_loss  Instances       Size\n"
          ]
        },
        {
          "output_type": "stream",
          "name": "stderr",
          "text": [
            "     17/200      2.31G      0.458     0.4901     0.9401          1        640: 100%|██████████| 75/75 [00:25<00:00,  2.98it/s]\n",
            "                 Class     Images  Instances      Box(P          R      mAP50  mAP50-95): 100%|██████████| 4/4 [00:02<00:00,  1.38it/s]"
          ]
        },
        {
          "output_type": "stream",
          "name": "stdout",
          "text": [
            "                   all        114        121      0.986      0.934      0.934      0.896\n"
          ]
        },
        {
          "output_type": "stream",
          "name": "stderr",
          "text": [
            "\n"
          ]
        },
        {
          "output_type": "stream",
          "name": "stdout",
          "text": [
            "\n",
            "      Epoch    GPU_mem   box_loss   cls_loss   dfl_loss  Instances       Size\n"
          ]
        },
        {
          "output_type": "stream",
          "name": "stderr",
          "text": [
            "     18/200      2.31G     0.4526     0.4983     0.9304          1        640: 100%|██████████| 75/75 [00:25<00:00,  2.93it/s]\n",
            "                 Class     Images  Instances      Box(P          R      mAP50  mAP50-95): 100%|██████████| 4/4 [00:01<00:00,  2.96it/s]"
          ]
        },
        {
          "output_type": "stream",
          "name": "stdout",
          "text": [
            "                   all        114        121      0.988      0.927      0.937      0.892\n"
          ]
        },
        {
          "output_type": "stream",
          "name": "stderr",
          "text": [
            "\n"
          ]
        },
        {
          "output_type": "stream",
          "name": "stdout",
          "text": [
            "\n",
            "      Epoch    GPU_mem   box_loss   cls_loss   dfl_loss  Instances       Size\n"
          ]
        },
        {
          "output_type": "stream",
          "name": "stderr",
          "text": [
            "     19/200      2.32G     0.4362     0.4717     0.9174          0        640: 100%|██████████| 75/75 [00:25<00:00,  2.90it/s]\n",
            "                 Class     Images  Instances      Box(P          R      mAP50  mAP50-95): 100%|██████████| 4/4 [00:02<00:00,  1.58it/s]"
          ]
        },
        {
          "output_type": "stream",
          "name": "stdout",
          "text": [
            "                   all        114        121      0.983      0.934      0.936      0.907\n"
          ]
        },
        {
          "output_type": "stream",
          "name": "stderr",
          "text": [
            "\n"
          ]
        },
        {
          "output_type": "stream",
          "name": "stdout",
          "text": [
            "\n",
            "      Epoch    GPU_mem   box_loss   cls_loss   dfl_loss  Instances       Size\n"
          ]
        },
        {
          "output_type": "stream",
          "name": "stderr",
          "text": [
            "     20/200      2.31G      0.438     0.4465     0.9279          1        640: 100%|██████████| 75/75 [00:24<00:00,  3.03it/s]\n",
            "                 Class     Images  Instances      Box(P          R      mAP50  mAP50-95): 100%|██████████| 4/4 [00:01<00:00,  2.81it/s]"
          ]
        },
        {
          "output_type": "stream",
          "name": "stdout",
          "text": [
            "                   all        114        121      0.988      0.934      0.935      0.913\n"
          ]
        },
        {
          "output_type": "stream",
          "name": "stderr",
          "text": [
            "\n"
          ]
        },
        {
          "output_type": "stream",
          "name": "stdout",
          "text": [
            "\n",
            "      Epoch    GPU_mem   box_loss   cls_loss   dfl_loss  Instances       Size\n"
          ]
        },
        {
          "output_type": "stream",
          "name": "stderr",
          "text": [
            "     21/200      2.31G     0.4325     0.4267     0.9244          2        640: 100%|██████████| 75/75 [00:25<00:00,  2.90it/s]\n",
            "                 Class     Images  Instances      Box(P          R      mAP50  mAP50-95): 100%|██████████| 4/4 [00:02<00:00,  1.53it/s]"
          ]
        },
        {
          "output_type": "stream",
          "name": "stdout",
          "text": [
            "                   all        114        121      0.991      0.934      0.936       0.91\n"
          ]
        },
        {
          "output_type": "stream",
          "name": "stderr",
          "text": [
            "\n"
          ]
        },
        {
          "output_type": "stream",
          "name": "stdout",
          "text": [
            "\n",
            "      Epoch    GPU_mem   box_loss   cls_loss   dfl_loss  Instances       Size\n"
          ]
        },
        {
          "output_type": "stream",
          "name": "stderr",
          "text": [
            "     22/200      2.31G     0.4323     0.4407     0.9165          2        640: 100%|██████████| 75/75 [00:26<00:00,  2.86it/s]\n",
            "                 Class     Images  Instances      Box(P          R      mAP50  mAP50-95): 100%|██████████| 4/4 [00:01<00:00,  3.02it/s]"
          ]
        },
        {
          "output_type": "stream",
          "name": "stdout",
          "text": [
            "                   all        114        121      0.992      0.934      0.939      0.917\n"
          ]
        },
        {
          "output_type": "stream",
          "name": "stderr",
          "text": [
            "\n"
          ]
        },
        {
          "output_type": "stream",
          "name": "stdout",
          "text": [
            "\n",
            "      Epoch    GPU_mem   box_loss   cls_loss   dfl_loss  Instances       Size\n"
          ]
        },
        {
          "output_type": "stream",
          "name": "stderr",
          "text": [
            "     23/200      2.31G     0.4308      0.406     0.9191          2        640: 100%|██████████| 75/75 [00:25<00:00,  2.94it/s]\n",
            "                 Class     Images  Instances      Box(P          R      mAP50  mAP50-95): 100%|██████████| 4/4 [00:02<00:00,  1.54it/s]"
          ]
        },
        {
          "output_type": "stream",
          "name": "stdout",
          "text": [
            "                   all        114        121      0.984      0.934      0.935      0.917\n"
          ]
        },
        {
          "output_type": "stream",
          "name": "stderr",
          "text": [
            "\n"
          ]
        },
        {
          "output_type": "stream",
          "name": "stdout",
          "text": [
            "\n",
            "      Epoch    GPU_mem   box_loss   cls_loss   dfl_loss  Instances       Size\n"
          ]
        },
        {
          "output_type": "stream",
          "name": "stderr",
          "text": [
            "     24/200       2.3G     0.4263     0.4004     0.9202          2        640: 100%|██████████| 75/75 [00:25<00:00,  2.93it/s]\n",
            "                 Class     Images  Instances      Box(P          R      mAP50  mAP50-95): 100%|██████████| 4/4 [00:01<00:00,  3.20it/s]"
          ]
        },
        {
          "output_type": "stream",
          "name": "stdout",
          "text": [
            "                   all        114        121      0.993      0.934      0.937      0.913\n"
          ]
        },
        {
          "output_type": "stream",
          "name": "stderr",
          "text": [
            "\n"
          ]
        },
        {
          "output_type": "stream",
          "name": "stdout",
          "text": [
            "\n",
            "      Epoch    GPU_mem   box_loss   cls_loss   dfl_loss  Instances       Size\n"
          ]
        },
        {
          "output_type": "stream",
          "name": "stderr",
          "text": [
            "     25/200      2.31G     0.4328     0.3966     0.9253          4        640: 100%|██████████| 75/75 [00:23<00:00,  3.13it/s]\n",
            "                 Class     Images  Instances      Box(P          R      mAP50  mAP50-95): 100%|██████████| 4/4 [00:02<00:00,  1.64it/s]"
          ]
        },
        {
          "output_type": "stream",
          "name": "stdout",
          "text": [
            "                   all        114        121       0.99      0.934      0.938      0.914\n"
          ]
        },
        {
          "output_type": "stream",
          "name": "stderr",
          "text": [
            "\n"
          ]
        },
        {
          "output_type": "stream",
          "name": "stdout",
          "text": [
            "\n",
            "      Epoch    GPU_mem   box_loss   cls_loss   dfl_loss  Instances       Size\n"
          ]
        },
        {
          "output_type": "stream",
          "name": "stderr",
          "text": [
            "     26/200      2.31G     0.4264     0.3782     0.9161          3        640: 100%|██████████| 75/75 [00:24<00:00,  3.03it/s]\n",
            "                 Class     Images  Instances      Box(P          R      mAP50  mAP50-95): 100%|██████████| 4/4 [00:01<00:00,  2.71it/s]"
          ]
        },
        {
          "output_type": "stream",
          "name": "stdout",
          "text": [
            "                   all        114        121      0.983      0.934      0.937       0.91\n"
          ]
        },
        {
          "output_type": "stream",
          "name": "stderr",
          "text": [
            "\n"
          ]
        },
        {
          "output_type": "stream",
          "name": "stdout",
          "text": [
            "\n",
            "      Epoch    GPU_mem   box_loss   cls_loss   dfl_loss  Instances       Size\n"
          ]
        },
        {
          "output_type": "stream",
          "name": "stderr",
          "text": [
            "     27/200      2.32G     0.4216      0.376     0.9221          3        640: 100%|██████████| 75/75 [00:25<00:00,  2.97it/s]\n",
            "                 Class     Images  Instances      Box(P          R      mAP50  mAP50-95): 100%|██████████| 4/4 [00:02<00:00,  1.62it/s]"
          ]
        },
        {
          "output_type": "stream",
          "name": "stdout",
          "text": [
            "                   all        114        121      0.991      0.934       0.94      0.917\n"
          ]
        },
        {
          "output_type": "stream",
          "name": "stderr",
          "text": [
            "\n"
          ]
        },
        {
          "output_type": "stream",
          "name": "stdout",
          "text": [
            "\n",
            "      Epoch    GPU_mem   box_loss   cls_loss   dfl_loss  Instances       Size\n"
          ]
        },
        {
          "output_type": "stream",
          "name": "stderr",
          "text": [
            "     28/200       2.3G     0.4157     0.4036     0.9054          0        640: 100%|██████████| 75/75 [00:25<00:00,  2.94it/s]\n",
            "                 Class     Images  Instances      Box(P          R      mAP50  mAP50-95): 100%|██████████| 4/4 [00:01<00:00,  3.02it/s]"
          ]
        },
        {
          "output_type": "stream",
          "name": "stdout",
          "text": [
            "                   all        114        121      0.989      0.934      0.935      0.893\n"
          ]
        },
        {
          "output_type": "stream",
          "name": "stderr",
          "text": [
            "\n"
          ]
        },
        {
          "output_type": "stream",
          "name": "stdout",
          "text": [
            "\n",
            "      Epoch    GPU_mem   box_loss   cls_loss   dfl_loss  Instances       Size\n"
          ]
        },
        {
          "output_type": "stream",
          "name": "stderr",
          "text": [
            "     29/200      2.31G     0.4058      0.369     0.9191          1        640: 100%|██████████| 75/75 [00:24<00:00,  3.09it/s]\n",
            "                 Class     Images  Instances      Box(P          R      mAP50  mAP50-95): 100%|██████████| 4/4 [00:02<00:00,  1.51it/s]"
          ]
        },
        {
          "output_type": "stream",
          "name": "stdout",
          "text": [
            "                   all        114        121       0.99      0.934      0.945      0.926\n"
          ]
        },
        {
          "output_type": "stream",
          "name": "stderr",
          "text": [
            "\n"
          ]
        },
        {
          "output_type": "stream",
          "name": "stdout",
          "text": [
            "\n",
            "      Epoch    GPU_mem   box_loss   cls_loss   dfl_loss  Instances       Size\n"
          ]
        },
        {
          "output_type": "stream",
          "name": "stderr",
          "text": [
            "     30/200      2.31G     0.4064     0.3635     0.9138          3        640: 100%|██████████| 75/75 [00:24<00:00,  3.04it/s]\n",
            "                 Class     Images  Instances      Box(P          R      mAP50  mAP50-95): 100%|██████████| 4/4 [00:01<00:00,  2.71it/s]"
          ]
        },
        {
          "output_type": "stream",
          "name": "stdout",
          "text": [
            "                   all        114        121      0.984      0.934      0.944      0.921\n"
          ]
        },
        {
          "output_type": "stream",
          "name": "stderr",
          "text": [
            "\n"
          ]
        },
        {
          "output_type": "stream",
          "name": "stdout",
          "text": [
            "\n",
            "      Epoch    GPU_mem   box_loss   cls_loss   dfl_loss  Instances       Size\n"
          ]
        },
        {
          "output_type": "stream",
          "name": "stderr",
          "text": [
            "     31/200      2.31G     0.4021     0.3434     0.9105          4        640: 100%|██████████| 75/75 [00:25<00:00,  2.99it/s]\n",
            "                 Class     Images  Instances      Box(P          R      mAP50  mAP50-95): 100%|██████████| 4/4 [00:02<00:00,  1.80it/s]"
          ]
        },
        {
          "output_type": "stream",
          "name": "stdout",
          "text": [
            "                   all        114        121      0.993      0.934       0.94      0.921\n"
          ]
        },
        {
          "output_type": "stream",
          "name": "stderr",
          "text": [
            "\n"
          ]
        },
        {
          "output_type": "stream",
          "name": "stdout",
          "text": [
            "\n",
            "      Epoch    GPU_mem   box_loss   cls_loss   dfl_loss  Instances       Size\n"
          ]
        },
        {
          "output_type": "stream",
          "name": "stderr",
          "text": [
            "     32/200       2.3G     0.3938     0.3345     0.9109          2        640: 100%|██████████| 75/75 [00:25<00:00,  2.95it/s]\n",
            "                 Class     Images  Instances      Box(P          R      mAP50  mAP50-95): 100%|██████████| 4/4 [00:01<00:00,  2.64it/s]"
          ]
        },
        {
          "output_type": "stream",
          "name": "stdout",
          "text": [
            "                   all        114        121      0.994      0.934      0.948      0.932\n"
          ]
        },
        {
          "output_type": "stream",
          "name": "stderr",
          "text": [
            "\n"
          ]
        },
        {
          "output_type": "stream",
          "name": "stdout",
          "text": [
            "\n",
            "      Epoch    GPU_mem   box_loss   cls_loss   dfl_loss  Instances       Size\n"
          ]
        },
        {
          "output_type": "stream",
          "name": "stderr",
          "text": [
            "     33/200      2.31G     0.4186     0.4072     0.9306          1        640: 100%|██████████| 75/75 [00:25<00:00,  2.97it/s]\n",
            "                 Class     Images  Instances      Box(P          R      mAP50  mAP50-95): 100%|██████████| 4/4 [00:02<00:00,  1.50it/s]"
          ]
        },
        {
          "output_type": "stream",
          "name": "stdout",
          "text": [
            "                   all        114        121      0.992      0.934      0.935      0.914\n"
          ]
        },
        {
          "output_type": "stream",
          "name": "stderr",
          "text": [
            "\n"
          ]
        },
        {
          "output_type": "stream",
          "name": "stdout",
          "text": [
            "\n",
            "      Epoch    GPU_mem   box_loss   cls_loss   dfl_loss  Instances       Size\n"
          ]
        },
        {
          "output_type": "stream",
          "name": "stderr",
          "text": [
            "     34/200      2.31G     0.3946     0.3379     0.9104          2        640: 100%|██████████| 75/75 [00:24<00:00,  3.09it/s]\n",
            "                 Class     Images  Instances      Box(P          R      mAP50  mAP50-95): 100%|██████████| 4/4 [00:01<00:00,  2.90it/s]"
          ]
        },
        {
          "output_type": "stream",
          "name": "stdout",
          "text": [
            "                   all        114        121      0.989      0.934      0.936      0.904\n"
          ]
        },
        {
          "output_type": "stream",
          "name": "stderr",
          "text": [
            "\n"
          ]
        },
        {
          "output_type": "stream",
          "name": "stdout",
          "text": [
            "\n",
            "      Epoch    GPU_mem   box_loss   cls_loss   dfl_loss  Instances       Size\n"
          ]
        },
        {
          "output_type": "stream",
          "name": "stderr",
          "text": [
            "     35/200      2.31G     0.3939     0.3372     0.9186          1        640: 100%|██████████| 75/75 [00:26<00:00,  2.88it/s]\n",
            "                 Class     Images  Instances      Box(P          R      mAP50  mAP50-95): 100%|██████████| 4/4 [00:02<00:00,  1.49it/s]"
          ]
        },
        {
          "output_type": "stream",
          "name": "stdout",
          "text": [
            "                   all        114        121      0.987      0.934      0.942      0.924\n"
          ]
        },
        {
          "output_type": "stream",
          "name": "stderr",
          "text": [
            "\n"
          ]
        },
        {
          "output_type": "stream",
          "name": "stdout",
          "text": [
            "\n",
            "      Epoch    GPU_mem   box_loss   cls_loss   dfl_loss  Instances       Size\n"
          ]
        },
        {
          "output_type": "stream",
          "name": "stderr",
          "text": [
            "     36/200       2.3G     0.3986      0.338       0.91          1        640: 100%|██████████| 75/75 [00:25<00:00,  2.92it/s]\n",
            "                 Class     Images  Instances      Box(P          R      mAP50  mAP50-95): 100%|██████████| 4/4 [00:01<00:00,  2.84it/s]"
          ]
        },
        {
          "output_type": "stream",
          "name": "stdout",
          "text": [
            "                   all        114        121      0.992      0.934      0.948      0.933\n"
          ]
        },
        {
          "output_type": "stream",
          "name": "stderr",
          "text": [
            "\n"
          ]
        },
        {
          "output_type": "stream",
          "name": "stdout",
          "text": [
            "\n",
            "      Epoch    GPU_mem   box_loss   cls_loss   dfl_loss  Instances       Size\n"
          ]
        },
        {
          "output_type": "stream",
          "name": "stderr",
          "text": [
            "     37/200      2.31G     0.3955     0.3266     0.9088          3        640: 100%|██████████| 75/75 [00:26<00:00,  2.81it/s]\n",
            "                 Class     Images  Instances      Box(P          R      mAP50  mAP50-95): 100%|██████████| 4/4 [00:02<00:00,  1.55it/s]"
          ]
        },
        {
          "output_type": "stream",
          "name": "stdout",
          "text": [
            "                   all        114        121      0.982      0.934      0.951      0.932\n"
          ]
        },
        {
          "output_type": "stream",
          "name": "stderr",
          "text": [
            "\n"
          ]
        },
        {
          "output_type": "stream",
          "name": "stdout",
          "text": [
            "\n",
            "      Epoch    GPU_mem   box_loss   cls_loss   dfl_loss  Instances       Size\n"
          ]
        },
        {
          "output_type": "stream",
          "name": "stderr",
          "text": [
            "     38/200      2.31G     0.3901     0.3203     0.9047          1        640: 100%|██████████| 75/75 [00:24<00:00,  3.03it/s]\n",
            "                 Class     Images  Instances      Box(P          R      mAP50  mAP50-95): 100%|██████████| 4/4 [00:01<00:00,  3.00it/s]"
          ]
        },
        {
          "output_type": "stream",
          "name": "stdout",
          "text": [
            "                   all        114        121       0.99      0.934      0.948      0.924\n"
          ]
        },
        {
          "output_type": "stream",
          "name": "stderr",
          "text": [
            "\n"
          ]
        },
        {
          "output_type": "stream",
          "name": "stdout",
          "text": [
            "\n",
            "      Epoch    GPU_mem   box_loss   cls_loss   dfl_loss  Instances       Size\n"
          ]
        },
        {
          "output_type": "stream",
          "name": "stderr",
          "text": [
            "     39/200      2.31G     0.4193     0.3308     0.9346          1        640: 100%|██████████| 75/75 [00:28<00:00,  2.65it/s]\n",
            "                 Class     Images  Instances      Box(P          R      mAP50  mAP50-95): 100%|██████████| 4/4 [00:02<00:00,  1.71it/s]"
          ]
        },
        {
          "output_type": "stream",
          "name": "stdout",
          "text": [
            "                   all        114        121      0.991      0.934      0.944      0.922\n"
          ]
        },
        {
          "output_type": "stream",
          "name": "stderr",
          "text": [
            "\n"
          ]
        },
        {
          "output_type": "stream",
          "name": "stdout",
          "text": [
            "\n",
            "      Epoch    GPU_mem   box_loss   cls_loss   dfl_loss  Instances       Size\n"
          ]
        },
        {
          "output_type": "stream",
          "name": "stderr",
          "text": [
            "     40/200       2.3G     0.3894     0.3215       0.91          3        640: 100%|██████████| 75/75 [00:24<00:00,  3.06it/s]\n",
            "                 Class     Images  Instances      Box(P          R      mAP50  mAP50-95): 100%|██████████| 4/4 [00:01<00:00,  3.07it/s]"
          ]
        },
        {
          "output_type": "stream",
          "name": "stdout",
          "text": [
            "                   all        114        121      0.994      0.934       0.94      0.926\n"
          ]
        },
        {
          "output_type": "stream",
          "name": "stderr",
          "text": [
            "\n"
          ]
        },
        {
          "output_type": "stream",
          "name": "stdout",
          "text": [
            "\n",
            "      Epoch    GPU_mem   box_loss   cls_loss   dfl_loss  Instances       Size\n"
          ]
        },
        {
          "output_type": "stream",
          "name": "stderr",
          "text": [
            "     41/200      2.32G     0.3882     0.3726     0.9113          1        640: 100%|██████████| 75/75 [00:28<00:00,  2.63it/s]\n",
            "                 Class     Images  Instances      Box(P          R      mAP50  mAP50-95): 100%|██████████| 4/4 [00:01<00:00,  2.11it/s]"
          ]
        },
        {
          "output_type": "stream",
          "name": "stdout",
          "text": [
            "                   all        114        121      0.986      0.934      0.938      0.913\n"
          ]
        },
        {
          "output_type": "stream",
          "name": "stderr",
          "text": [
            "\n"
          ]
        },
        {
          "output_type": "stream",
          "name": "stdout",
          "text": [
            "\n",
            "      Epoch    GPU_mem   box_loss   cls_loss   dfl_loss  Instances       Size\n"
          ]
        },
        {
          "output_type": "stream",
          "name": "stderr",
          "text": [
            "     42/200      2.31G     0.3951     0.3198     0.9182          1        640: 100%|██████████| 75/75 [00:24<00:00,  3.06it/s]\n",
            "                 Class     Images  Instances      Box(P          R      mAP50  mAP50-95): 100%|██████████| 4/4 [00:01<00:00,  3.14it/s]"
          ]
        },
        {
          "output_type": "stream",
          "name": "stdout",
          "text": [
            "                   all        114        121      0.992      0.934      0.946      0.931\n"
          ]
        },
        {
          "output_type": "stream",
          "name": "stderr",
          "text": [
            "\n"
          ]
        },
        {
          "output_type": "stream",
          "name": "stdout",
          "text": [
            "\n",
            "      Epoch    GPU_mem   box_loss   cls_loss   dfl_loss  Instances       Size\n"
          ]
        },
        {
          "output_type": "stream",
          "name": "stderr",
          "text": [
            "     43/200      2.31G     0.3776     0.3008     0.8985          1        640: 100%|██████████| 75/75 [00:27<00:00,  2.68it/s]\n",
            "                 Class     Images  Instances      Box(P          R      mAP50  mAP50-95): 100%|██████████| 4/4 [00:02<00:00,  1.60it/s]"
          ]
        },
        {
          "output_type": "stream",
          "name": "stdout",
          "text": [
            "                   all        114        121      0.992      0.934      0.946      0.919\n"
          ]
        },
        {
          "output_type": "stream",
          "name": "stderr",
          "text": [
            "\n"
          ]
        },
        {
          "output_type": "stream",
          "name": "stdout",
          "text": [
            "\n",
            "      Epoch    GPU_mem   box_loss   cls_loss   dfl_loss  Instances       Size\n"
          ]
        },
        {
          "output_type": "stream",
          "name": "stderr",
          "text": [
            "     44/200       2.3G     0.3867       0.31     0.9037          3        640: 100%|██████████| 75/75 [00:23<00:00,  3.19it/s]\n",
            "                 Class     Images  Instances      Box(P          R      mAP50  mAP50-95): 100%|██████████| 4/4 [00:01<00:00,  3.20it/s]"
          ]
        },
        {
          "output_type": "stream",
          "name": "stdout",
          "text": [
            "                   all        114        121      0.991      0.934      0.945      0.934\n"
          ]
        },
        {
          "output_type": "stream",
          "name": "stderr",
          "text": [
            "\n"
          ]
        },
        {
          "output_type": "stream",
          "name": "stdout",
          "text": [
            "\n",
            "      Epoch    GPU_mem   box_loss   cls_loss   dfl_loss  Instances       Size\n"
          ]
        },
        {
          "output_type": "stream",
          "name": "stderr",
          "text": [
            "     45/200      2.31G     0.3817     0.3044     0.9056          1        640: 100%|██████████| 75/75 [00:28<00:00,  2.63it/s]\n",
            "                 Class     Images  Instances      Box(P          R      mAP50  mAP50-95): 100%|██████████| 4/4 [00:01<00:00,  2.90it/s]"
          ]
        },
        {
          "output_type": "stream",
          "name": "stdout",
          "text": [
            "                   all        114        121      0.992      0.934      0.943      0.916\n"
          ]
        },
        {
          "output_type": "stream",
          "name": "stderr",
          "text": [
            "\n"
          ]
        },
        {
          "output_type": "stream",
          "name": "stdout",
          "text": [
            "\n",
            "      Epoch    GPU_mem   box_loss   cls_loss   dfl_loss  Instances       Size\n"
          ]
        },
        {
          "output_type": "stream",
          "name": "stderr",
          "text": [
            "     46/200      2.31G     0.3758     0.3071     0.9026          1        640: 100%|██████████| 75/75 [00:24<00:00,  3.06it/s]\n",
            "                 Class     Images  Instances      Box(P          R      mAP50  mAP50-95): 100%|██████████| 4/4 [00:01<00:00,  3.00it/s]"
          ]
        },
        {
          "output_type": "stream",
          "name": "stdout",
          "text": [
            "                   all        114        121      0.994      0.934      0.948      0.933\n"
          ]
        },
        {
          "output_type": "stream",
          "name": "stderr",
          "text": [
            "\n"
          ]
        },
        {
          "output_type": "stream",
          "name": "stdout",
          "text": [
            "\n",
            "      Epoch    GPU_mem   box_loss   cls_loss   dfl_loss  Instances       Size\n"
          ]
        },
        {
          "output_type": "stream",
          "name": "stderr",
          "text": [
            "     47/200      2.31G      0.398     0.3534      0.913          2        640: 100%|██████████| 75/75 [00:28<00:00,  2.64it/s]\n",
            "                 Class     Images  Instances      Box(P          R      mAP50  mAP50-95): 100%|██████████| 4/4 [00:01<00:00,  2.96it/s]"
          ]
        },
        {
          "output_type": "stream",
          "name": "stdout",
          "text": [
            "                   all        114        121      0.991      0.934       0.94      0.912\n"
          ]
        },
        {
          "output_type": "stream",
          "name": "stderr",
          "text": [
            "\n"
          ]
        },
        {
          "output_type": "stream",
          "name": "stdout",
          "text": [
            "\n",
            "      Epoch    GPU_mem   box_loss   cls_loss   dfl_loss  Instances       Size\n"
          ]
        },
        {
          "output_type": "stream",
          "name": "stderr",
          "text": [
            "     48/200       2.3G     0.3702     0.2958     0.9022          4        640: 100%|██████████| 75/75 [00:24<00:00,  3.07it/s]\n",
            "                 Class     Images  Instances      Box(P          R      mAP50  mAP50-95): 100%|██████████| 4/4 [00:01<00:00,  3.18it/s]"
          ]
        },
        {
          "output_type": "stream",
          "name": "stdout",
          "text": [
            "                   all        114        121      0.991      0.934      0.944      0.925\n"
          ]
        },
        {
          "output_type": "stream",
          "name": "stderr",
          "text": [
            "\n"
          ]
        },
        {
          "output_type": "stream",
          "name": "stdout",
          "text": [
            "\n",
            "      Epoch    GPU_mem   box_loss   cls_loss   dfl_loss  Instances       Size\n"
          ]
        },
        {
          "output_type": "stream",
          "name": "stderr",
          "text": [
            "     49/200      2.31G     0.3898     0.3024     0.9098          1        640: 100%|██████████| 75/75 [00:27<00:00,  2.69it/s]\n",
            "                 Class     Images  Instances      Box(P          R      mAP50  mAP50-95): 100%|██████████| 4/4 [00:01<00:00,  3.29it/s]\n"
          ]
        },
        {
          "output_type": "stream",
          "name": "stdout",
          "text": [
            "                   all        114        121      0.994      0.934      0.944      0.931\n",
            "\n",
            "      Epoch    GPU_mem   box_loss   cls_loss   dfl_loss  Instances       Size\n"
          ]
        },
        {
          "output_type": "stream",
          "name": "stderr",
          "text": [
            "     50/200      2.31G     0.4051     0.3552      0.953          1        640: 100%|██████████| 75/75 [00:24<00:00,  3.09it/s]\n",
            "                 Class     Images  Instances      Box(P          R      mAP50  mAP50-95): 100%|██████████| 4/4 [00:01<00:00,  2.77it/s]"
          ]
        },
        {
          "output_type": "stream",
          "name": "stdout",
          "text": [
            "                   all        114        121      0.994      0.934      0.943      0.936\n"
          ]
        },
        {
          "output_type": "stream",
          "name": "stderr",
          "text": [
            "\n"
          ]
        },
        {
          "output_type": "stream",
          "name": "stdout",
          "text": [
            "\n",
            "      Epoch    GPU_mem   box_loss   cls_loss   dfl_loss  Instances       Size\n"
          ]
        },
        {
          "output_type": "stream",
          "name": "stderr",
          "text": [
            "     51/200      2.31G      0.381      0.297     0.9105          2        640: 100%|██████████| 75/75 [00:27<00:00,  2.74it/s]\n",
            "                 Class     Images  Instances      Box(P          R      mAP50  mAP50-95): 100%|██████████| 4/4 [00:01<00:00,  2.94it/s]\n"
          ]
        },
        {
          "output_type": "stream",
          "name": "stdout",
          "text": [
            "                   all        114        121      0.993      0.934      0.941      0.929\n",
            "\n",
            "      Epoch    GPU_mem   box_loss   cls_loss   dfl_loss  Instances       Size\n"
          ]
        },
        {
          "output_type": "stream",
          "name": "stderr",
          "text": [
            "     52/200       2.3G     0.3685     0.2841     0.9038          2        640: 100%|██████████| 75/75 [00:25<00:00,  2.96it/s]\n",
            "                 Class     Images  Instances      Box(P          R      mAP50  mAP50-95): 100%|██████████| 4/4 [00:01<00:00,  2.74it/s]"
          ]
        },
        {
          "output_type": "stream",
          "name": "stdout",
          "text": [
            "                   all        114        121      0.993      0.934      0.948       0.94\n"
          ]
        },
        {
          "output_type": "stream",
          "name": "stderr",
          "text": [
            "\n"
          ]
        },
        {
          "output_type": "stream",
          "name": "stdout",
          "text": [
            "\n",
            "      Epoch    GPU_mem   box_loss   cls_loss   dfl_loss  Instances       Size\n"
          ]
        },
        {
          "output_type": "stream",
          "name": "stderr",
          "text": [
            "     53/200      2.31G     0.3594     0.2851     0.8993          1        640: 100%|██████████| 75/75 [00:28<00:00,  2.65it/s]\n",
            "                 Class     Images  Instances      Box(P          R      mAP50  mAP50-95): 100%|██████████| 4/4 [00:01<00:00,  3.03it/s]"
          ]
        },
        {
          "output_type": "stream",
          "name": "stdout",
          "text": [
            "                   all        114        121      0.991      0.934      0.941      0.928\n"
          ]
        },
        {
          "output_type": "stream",
          "name": "stderr",
          "text": [
            "\n"
          ]
        },
        {
          "output_type": "stream",
          "name": "stdout",
          "text": [
            "\n",
            "      Epoch    GPU_mem   box_loss   cls_loss   dfl_loss  Instances       Size\n"
          ]
        },
        {
          "output_type": "stream",
          "name": "stderr",
          "text": [
            "     54/200      2.31G     0.3773     0.2931     0.9003          2        640: 100%|██████████| 75/75 [00:24<00:00,  3.01it/s]\n",
            "                 Class     Images  Instances      Box(P          R      mAP50  mAP50-95): 100%|██████████| 4/4 [00:01<00:00,  2.61it/s]"
          ]
        },
        {
          "output_type": "stream",
          "name": "stdout",
          "text": [
            "                   all        114        121      0.993      0.934      0.954      0.938\n"
          ]
        },
        {
          "output_type": "stream",
          "name": "stderr",
          "text": [
            "\n"
          ]
        },
        {
          "output_type": "stream",
          "name": "stdout",
          "text": [
            "\n",
            "      Epoch    GPU_mem   box_loss   cls_loss   dfl_loss  Instances       Size\n"
          ]
        },
        {
          "output_type": "stream",
          "name": "stderr",
          "text": [
            "     55/200      2.31G     0.3662      0.288     0.8985          2        640: 100%|██████████| 75/75 [00:28<00:00,  2.66it/s]\n",
            "                 Class     Images  Instances      Box(P          R      mAP50  mAP50-95): 100%|██████████| 4/4 [00:01<00:00,  2.91it/s]"
          ]
        },
        {
          "output_type": "stream",
          "name": "stdout",
          "text": [
            "                   all        114        121      0.993      0.934      0.949      0.932\n"
          ]
        },
        {
          "output_type": "stream",
          "name": "stderr",
          "text": [
            "\n"
          ]
        },
        {
          "output_type": "stream",
          "name": "stdout",
          "text": [
            "\n",
            "      Epoch    GPU_mem   box_loss   cls_loss   dfl_loss  Instances       Size\n"
          ]
        },
        {
          "output_type": "stream",
          "name": "stderr",
          "text": [
            "     56/200       2.3G     0.3662     0.2902     0.8992          2        640: 100%|██████████| 75/75 [00:23<00:00,  3.17it/s]\n",
            "                 Class     Images  Instances      Box(P          R      mAP50  mAP50-95): 100%|██████████| 4/4 [00:01<00:00,  2.45it/s]"
          ]
        },
        {
          "output_type": "stream",
          "name": "stdout",
          "text": [
            "                   all        114        121      0.991      0.934      0.952      0.935\n"
          ]
        },
        {
          "output_type": "stream",
          "name": "stderr",
          "text": [
            "\n"
          ]
        },
        {
          "output_type": "stream",
          "name": "stdout",
          "text": [
            "\n",
            "      Epoch    GPU_mem   box_loss   cls_loss   dfl_loss  Instances       Size\n"
          ]
        },
        {
          "output_type": "stream",
          "name": "stderr",
          "text": [
            "     57/200      2.31G     0.3649      0.281     0.9018          2        640: 100%|██████████| 75/75 [00:27<00:00,  2.75it/s]\n",
            "                 Class     Images  Instances      Box(P          R      mAP50  mAP50-95): 100%|██████████| 4/4 [00:01<00:00,  3.55it/s]"
          ]
        },
        {
          "output_type": "stream",
          "name": "stdout",
          "text": [
            "                   all        114        121      0.986      0.934      0.948      0.927\n"
          ]
        },
        {
          "output_type": "stream",
          "name": "stderr",
          "text": [
            "\n"
          ]
        },
        {
          "output_type": "stream",
          "name": "stdout",
          "text": [
            "\n",
            "      Epoch    GPU_mem   box_loss   cls_loss   dfl_loss  Instances       Size\n"
          ]
        },
        {
          "output_type": "stream",
          "name": "stderr",
          "text": [
            "     58/200      2.31G     0.3534     0.3065     0.8873          3        640: 100%|██████████| 75/75 [00:24<00:00,  3.05it/s]\n",
            "                 Class     Images  Instances      Box(P          R      mAP50  mAP50-95): 100%|██████████| 4/4 [00:01<00:00,  2.84it/s]"
          ]
        },
        {
          "output_type": "stream",
          "name": "stdout",
          "text": [
            "                   all        114        121      0.995      0.935      0.959      0.941\n"
          ]
        },
        {
          "output_type": "stream",
          "name": "stderr",
          "text": [
            "\n"
          ]
        },
        {
          "output_type": "stream",
          "name": "stdout",
          "text": [
            "\n",
            "      Epoch    GPU_mem   box_loss   cls_loss   dfl_loss  Instances       Size\n"
          ]
        },
        {
          "output_type": "stream",
          "name": "stderr",
          "text": [
            "     59/200      2.31G     0.3567     0.2742     0.8937          2        640: 100%|██████████| 75/75 [00:28<00:00,  2.65it/s]\n",
            "                 Class     Images  Instances      Box(P          R      mAP50  mAP50-95): 100%|██████████| 4/4 [00:01<00:00,  2.76it/s]"
          ]
        },
        {
          "output_type": "stream",
          "name": "stdout",
          "text": [
            "                   all        114        121      0.994      0.935       0.95      0.934\n"
          ]
        },
        {
          "output_type": "stream",
          "name": "stderr",
          "text": [
            "\n"
          ]
        },
        {
          "output_type": "stream",
          "name": "stdout",
          "text": [
            "\n",
            "      Epoch    GPU_mem   box_loss   cls_loss   dfl_loss  Instances       Size\n"
          ]
        },
        {
          "output_type": "stream",
          "name": "stderr",
          "text": [
            "     60/200       2.3G      0.367     0.2744     0.8896          4        640: 100%|██████████| 75/75 [00:24<00:00,  3.06it/s]\n",
            "                 Class     Images  Instances      Box(P          R      mAP50  mAP50-95): 100%|██████████| 4/4 [00:01<00:00,  3.01it/s]"
          ]
        },
        {
          "output_type": "stream",
          "name": "stdout",
          "text": [
            "                   all        114        121      0.995      0.934      0.961      0.946\n"
          ]
        },
        {
          "output_type": "stream",
          "name": "stderr",
          "text": [
            "\n"
          ]
        },
        {
          "output_type": "stream",
          "name": "stdout",
          "text": [
            "\n",
            "      Epoch    GPU_mem   box_loss   cls_loss   dfl_loss  Instances       Size\n"
          ]
        },
        {
          "output_type": "stream",
          "name": "stderr",
          "text": [
            "     61/200      2.31G     0.3528     0.2744     0.8902          3        640: 100%|██████████| 75/75 [00:27<00:00,  2.76it/s]\n",
            "                 Class     Images  Instances      Box(P          R      mAP50  mAP50-95): 100%|██████████| 4/4 [00:02<00:00,  1.84it/s]"
          ]
        },
        {
          "output_type": "stream",
          "name": "stdout",
          "text": [
            "                   all        114        121      0.994      0.934      0.946      0.927\n"
          ]
        },
        {
          "output_type": "stream",
          "name": "stderr",
          "text": [
            "\n"
          ]
        },
        {
          "output_type": "stream",
          "name": "stdout",
          "text": [
            "\n",
            "      Epoch    GPU_mem   box_loss   cls_loss   dfl_loss  Instances       Size\n"
          ]
        },
        {
          "output_type": "stream",
          "name": "stderr",
          "text": [
            "     62/200      2.31G     0.3614      0.279     0.8898          1        640: 100%|██████████| 75/75 [00:24<00:00,  3.12it/s]\n",
            "                 Class     Images  Instances      Box(P          R      mAP50  mAP50-95): 100%|██████████| 4/4 [00:01<00:00,  2.76it/s]\n"
          ]
        },
        {
          "output_type": "stream",
          "name": "stdout",
          "text": [
            "                   all        114        121      0.995      0.934      0.956      0.945\n",
            "\n",
            "      Epoch    GPU_mem   box_loss   cls_loss   dfl_loss  Instances       Size\n"
          ]
        },
        {
          "output_type": "stream",
          "name": "stderr",
          "text": [
            "     63/200      2.31G     0.3475     0.2688     0.8971          1        640: 100%|██████████| 75/75 [00:27<00:00,  2.76it/s]\n",
            "                 Class     Images  Instances      Box(P          R      mAP50  mAP50-95): 100%|██████████| 4/4 [00:01<00:00,  2.94it/s]"
          ]
        },
        {
          "output_type": "stream",
          "name": "stdout",
          "text": [
            "                   all        114        121      0.993      0.934      0.945      0.928\n"
          ]
        },
        {
          "output_type": "stream",
          "name": "stderr",
          "text": [
            "\n"
          ]
        },
        {
          "output_type": "stream",
          "name": "stdout",
          "text": [
            "\n",
            "      Epoch    GPU_mem   box_loss   cls_loss   dfl_loss  Instances       Size\n"
          ]
        },
        {
          "output_type": "stream",
          "name": "stderr",
          "text": [
            "     64/200       2.3G     0.3505     0.2735     0.8942          2        640: 100%|██████████| 75/75 [00:23<00:00,  3.16it/s]\n",
            "                 Class     Images  Instances      Box(P          R      mAP50  mAP50-95): 100%|██████████| 4/4 [00:01<00:00,  2.59it/s]"
          ]
        },
        {
          "output_type": "stream",
          "name": "stdout",
          "text": [
            "                   all        114        121      0.991      0.934      0.953       0.94\n"
          ]
        },
        {
          "output_type": "stream",
          "name": "stderr",
          "text": [
            "\n"
          ]
        },
        {
          "output_type": "stream",
          "name": "stdout",
          "text": [
            "\n",
            "      Epoch    GPU_mem   box_loss   cls_loss   dfl_loss  Instances       Size\n"
          ]
        },
        {
          "output_type": "stream",
          "name": "stderr",
          "text": [
            "     65/200      2.32G     0.3571     0.2881     0.8945          1        640: 100%|██████████| 75/75 [00:28<00:00,  2.67it/s]\n",
            "                 Class     Images  Instances      Box(P          R      mAP50  mAP50-95): 100%|██████████| 4/4 [00:01<00:00,  3.42it/s]"
          ]
        },
        {
          "output_type": "stream",
          "name": "stdout",
          "text": [
            "                   all        114        121      0.994      0.934      0.958       0.94\n"
          ]
        },
        {
          "output_type": "stream",
          "name": "stderr",
          "text": [
            "\n"
          ]
        },
        {
          "output_type": "stream",
          "name": "stdout",
          "text": [
            "\n",
            "      Epoch    GPU_mem   box_loss   cls_loss   dfl_loss  Instances       Size\n"
          ]
        },
        {
          "output_type": "stream",
          "name": "stderr",
          "text": [
            "     66/200      2.31G     0.3495     0.2717     0.8979          1        640: 100%|██████████| 75/75 [00:25<00:00,  2.96it/s]\n",
            "                 Class     Images  Instances      Box(P          R      mAP50  mAP50-95): 100%|██████████| 4/4 [00:01<00:00,  3.23it/s]"
          ]
        },
        {
          "output_type": "stream",
          "name": "stdout",
          "text": [
            "                   all        114        121      0.992      0.934      0.953      0.943\n"
          ]
        },
        {
          "output_type": "stream",
          "name": "stderr",
          "text": [
            "\n"
          ]
        },
        {
          "output_type": "stream",
          "name": "stdout",
          "text": [
            "\n",
            "      Epoch    GPU_mem   box_loss   cls_loss   dfl_loss  Instances       Size\n"
          ]
        },
        {
          "output_type": "stream",
          "name": "stderr",
          "text": [
            "     67/200      2.31G     0.3499     0.2599     0.8944          3        640: 100%|██████████| 75/75 [00:28<00:00,  2.67it/s]\n",
            "                 Class     Images  Instances      Box(P          R      mAP50  mAP50-95): 100%|██████████| 4/4 [00:01<00:00,  2.88it/s]"
          ]
        },
        {
          "output_type": "stream",
          "name": "stdout",
          "text": [
            "                   all        114        121      0.995      0.934      0.958      0.953\n"
          ]
        },
        {
          "output_type": "stream",
          "name": "stderr",
          "text": [
            "\n"
          ]
        },
        {
          "output_type": "stream",
          "name": "stdout",
          "text": [
            "\n",
            "      Epoch    GPU_mem   box_loss   cls_loss   dfl_loss  Instances       Size\n"
          ]
        },
        {
          "output_type": "stream",
          "name": "stderr",
          "text": [
            "     68/200       2.3G     0.3485      0.257     0.8882          1        640: 100%|██████████| 75/75 [00:24<00:00,  3.06it/s]\n",
            "                 Class     Images  Instances      Box(P          R      mAP50  mAP50-95): 100%|██████████| 4/4 [00:01<00:00,  2.13it/s]"
          ]
        },
        {
          "output_type": "stream",
          "name": "stdout",
          "text": [
            "                   all        114        121      0.992      0.934      0.957      0.943\n"
          ]
        },
        {
          "output_type": "stream",
          "name": "stderr",
          "text": [
            "\n"
          ]
        },
        {
          "output_type": "stream",
          "name": "stdout",
          "text": [
            "\n",
            "      Epoch    GPU_mem   box_loss   cls_loss   dfl_loss  Instances       Size\n"
          ]
        },
        {
          "output_type": "stream",
          "name": "stderr",
          "text": [
            "     69/200      2.31G     0.3464     0.2656     0.8929          1        640: 100%|██████████| 75/75 [00:26<00:00,  2.85it/s]\n",
            "                 Class     Images  Instances      Box(P          R      mAP50  mAP50-95): 100%|██████████| 4/4 [00:01<00:00,  2.91it/s]\n"
          ]
        },
        {
          "output_type": "stream",
          "name": "stdout",
          "text": [
            "                   all        114        121      0.994      0.934       0.95      0.935\n",
            "\n",
            "      Epoch    GPU_mem   box_loss   cls_loss   dfl_loss  Instances       Size\n"
          ]
        },
        {
          "output_type": "stream",
          "name": "stderr",
          "text": [
            "     70/200      2.31G     0.3462      0.257      0.894          1        640: 100%|██████████| 75/75 [00:24<00:00,  3.11it/s]\n",
            "                 Class     Images  Instances      Box(P          R      mAP50  mAP50-95): 100%|██████████| 4/4 [00:02<00:00,  1.59it/s]"
          ]
        },
        {
          "output_type": "stream",
          "name": "stdout",
          "text": [
            "                   all        114        121      0.995      0.934      0.962      0.957\n"
          ]
        },
        {
          "output_type": "stream",
          "name": "stderr",
          "text": [
            "\n"
          ]
        },
        {
          "output_type": "stream",
          "name": "stdout",
          "text": [
            "\n",
            "      Epoch    GPU_mem   box_loss   cls_loss   dfl_loss  Instances       Size\n"
          ]
        },
        {
          "output_type": "stream",
          "name": "stderr",
          "text": [
            "     71/200      2.31G     0.3445     0.2912     0.8822          0        640: 100%|██████████| 75/75 [00:26<00:00,  2.84it/s]\n",
            "                 Class     Images  Instances      Box(P          R      mAP50  mAP50-95): 100%|██████████| 4/4 [00:01<00:00,  3.29it/s]\n"
          ]
        },
        {
          "output_type": "stream",
          "name": "stdout",
          "text": [
            "                   all        114        121      0.995      0.935      0.961      0.941\n",
            "\n",
            "      Epoch    GPU_mem   box_loss   cls_loss   dfl_loss  Instances       Size\n"
          ]
        },
        {
          "output_type": "stream",
          "name": "stderr",
          "text": [
            "     72/200       2.3G     0.3445     0.2533     0.8942          1        640: 100%|██████████| 75/75 [00:25<00:00,  2.98it/s]\n",
            "                 Class     Images  Instances      Box(P          R      mAP50  mAP50-95): 100%|██████████| 4/4 [00:02<00:00,  1.83it/s]"
          ]
        },
        {
          "output_type": "stream",
          "name": "stdout",
          "text": [
            "                   all        114        121      0.995      0.934      0.955      0.935\n"
          ]
        },
        {
          "output_type": "stream",
          "name": "stderr",
          "text": [
            "\n"
          ]
        },
        {
          "output_type": "stream",
          "name": "stdout",
          "text": [
            "\n",
            "      Epoch    GPU_mem   box_loss   cls_loss   dfl_loss  Instances       Size\n"
          ]
        },
        {
          "output_type": "stream",
          "name": "stderr",
          "text": [
            "     73/200      2.31G     0.3384     0.2719     0.8904          2        640: 100%|██████████| 75/75 [00:26<00:00,  2.88it/s]\n",
            "                 Class     Images  Instances      Box(P          R      mAP50  mAP50-95): 100%|██████████| 4/4 [00:01<00:00,  3.46it/s]"
          ]
        },
        {
          "output_type": "stream",
          "name": "stdout",
          "text": [
            "                   all        114        121      0.994      0.934      0.952      0.934\n"
          ]
        },
        {
          "output_type": "stream",
          "name": "stderr",
          "text": [
            "\n"
          ]
        },
        {
          "output_type": "stream",
          "name": "stdout",
          "text": [
            "\n",
            "      Epoch    GPU_mem   box_loss   cls_loss   dfl_loss  Instances       Size\n"
          ]
        },
        {
          "output_type": "stream",
          "name": "stderr",
          "text": [
            "     74/200      2.31G     0.3407     0.2574     0.8922          3        640: 100%|██████████| 75/75 [00:24<00:00,  3.01it/s]\n",
            "                 Class     Images  Instances      Box(P          R      mAP50  mAP50-95): 100%|██████████| 4/4 [00:02<00:00,  1.58it/s]"
          ]
        },
        {
          "output_type": "stream",
          "name": "stdout",
          "text": [
            "                   all        114        121      0.993      0.934      0.951      0.939\n"
          ]
        },
        {
          "output_type": "stream",
          "name": "stderr",
          "text": [
            "\n"
          ]
        },
        {
          "output_type": "stream",
          "name": "stdout",
          "text": [
            "\n",
            "      Epoch    GPU_mem   box_loss   cls_loss   dfl_loss  Instances       Size\n"
          ]
        },
        {
          "output_type": "stream",
          "name": "stderr",
          "text": [
            "     75/200      2.31G     0.3448     0.2538     0.8944          1        640: 100%|██████████| 75/75 [00:25<00:00,  2.96it/s]\n",
            "                 Class     Images  Instances      Box(P          R      mAP50  mAP50-95): 100%|██████████| 4/4 [00:01<00:00,  3.11it/s]"
          ]
        },
        {
          "output_type": "stream",
          "name": "stdout",
          "text": [
            "                   all        114        121      0.993      0.934      0.952      0.944\n"
          ]
        },
        {
          "output_type": "stream",
          "name": "stderr",
          "text": [
            "\n"
          ]
        },
        {
          "output_type": "stream",
          "name": "stdout",
          "text": [
            "\n",
            "      Epoch    GPU_mem   box_loss   cls_loss   dfl_loss  Instances       Size\n"
          ]
        },
        {
          "output_type": "stream",
          "name": "stderr",
          "text": [
            "     76/200       2.3G     0.3406     0.2588     0.8924          2        640: 100%|██████████| 75/75 [00:23<00:00,  3.15it/s]\n",
            "                 Class     Images  Instances      Box(P          R      mAP50  mAP50-95): 100%|██████████| 4/4 [00:02<00:00,  1.62it/s]"
          ]
        },
        {
          "output_type": "stream",
          "name": "stdout",
          "text": [
            "                   all        114        121      0.984      0.934      0.945      0.926\n"
          ]
        },
        {
          "output_type": "stream",
          "name": "stderr",
          "text": [
            "\n"
          ]
        },
        {
          "output_type": "stream",
          "name": "stdout",
          "text": [
            "\n",
            "      Epoch    GPU_mem   box_loss   cls_loss   dfl_loss  Instances       Size\n"
          ]
        },
        {
          "output_type": "stream",
          "name": "stderr",
          "text": [
            "     77/200      2.31G     0.3272     0.2513     0.8935          1        640: 100%|██████████| 75/75 [00:25<00:00,  2.91it/s]\n",
            "                 Class     Images  Instances      Box(P          R      mAP50  mAP50-95): 100%|██████████| 4/4 [00:01<00:00,  2.81it/s]"
          ]
        },
        {
          "output_type": "stream",
          "name": "stdout",
          "text": [
            "                   all        114        121      0.994      0.934      0.961      0.943\n"
          ]
        },
        {
          "output_type": "stream",
          "name": "stderr",
          "text": [
            "\n"
          ]
        },
        {
          "output_type": "stream",
          "name": "stdout",
          "text": [
            "\n",
            "      Epoch    GPU_mem   box_loss   cls_loss   dfl_loss  Instances       Size\n"
          ]
        },
        {
          "output_type": "stream",
          "name": "stderr",
          "text": [
            "     78/200      2.31G      0.338     0.2527     0.8936          1        640: 100%|██████████| 75/75 [00:24<00:00,  3.07it/s]\n",
            "                 Class     Images  Instances      Box(P          R      mAP50  mAP50-95): 100%|██████████| 4/4 [00:02<00:00,  1.65it/s]"
          ]
        },
        {
          "output_type": "stream",
          "name": "stdout",
          "text": [
            "                   all        114        121      0.995      0.934      0.955      0.945\n"
          ]
        },
        {
          "output_type": "stream",
          "name": "stderr",
          "text": [
            "\n"
          ]
        },
        {
          "output_type": "stream",
          "name": "stdout",
          "text": [
            "\n",
            "      Epoch    GPU_mem   box_loss   cls_loss   dfl_loss  Instances       Size\n"
          ]
        },
        {
          "output_type": "stream",
          "name": "stderr",
          "text": [
            "     79/200      2.31G     0.3348     0.2569     0.8865          4        640: 100%|██████████| 75/75 [00:25<00:00,  2.95it/s]\n",
            "                 Class     Images  Instances      Box(P          R      mAP50  mAP50-95): 100%|██████████| 4/4 [00:01<00:00,  3.00it/s]"
          ]
        },
        {
          "output_type": "stream",
          "name": "stdout",
          "text": [
            "                   all        114        121      0.994      0.934      0.953      0.942\n"
          ]
        },
        {
          "output_type": "stream",
          "name": "stderr",
          "text": [
            "\n"
          ]
        },
        {
          "output_type": "stream",
          "name": "stdout",
          "text": [
            "\n",
            "      Epoch    GPU_mem   box_loss   cls_loss   dfl_loss  Instances       Size\n"
          ]
        },
        {
          "output_type": "stream",
          "name": "stderr",
          "text": [
            "     80/200       2.3G     0.3346     0.2541     0.8926          3        640: 100%|██████████| 75/75 [00:24<00:00,  3.05it/s]\n",
            "                 Class     Images  Instances      Box(P          R      mAP50  mAP50-95): 100%|██████████| 4/4 [00:02<00:00,  1.57it/s]"
          ]
        },
        {
          "output_type": "stream",
          "name": "stdout",
          "text": [
            "                   all        114        121      0.995      0.934      0.961       0.95\n"
          ]
        },
        {
          "output_type": "stream",
          "name": "stderr",
          "text": [
            "\n"
          ]
        },
        {
          "output_type": "stream",
          "name": "stdout",
          "text": [
            "\n",
            "      Epoch    GPU_mem   box_loss   cls_loss   dfl_loss  Instances       Size\n"
          ]
        },
        {
          "output_type": "stream",
          "name": "stderr",
          "text": [
            "     81/200      2.32G     0.3322     0.2495     0.8833          3        640: 100%|██████████| 75/75 [00:25<00:00,  2.94it/s]\n",
            "                 Class     Images  Instances      Box(P          R      mAP50  mAP50-95): 100%|██████████| 4/4 [00:01<00:00,  3.03it/s]"
          ]
        },
        {
          "output_type": "stream",
          "name": "stdout",
          "text": [
            "                   all        114        121      0.996      0.934       0.95      0.944\n"
          ]
        },
        {
          "output_type": "stream",
          "name": "stderr",
          "text": [
            "\n"
          ]
        },
        {
          "output_type": "stream",
          "name": "stdout",
          "text": [
            "\n",
            "      Epoch    GPU_mem   box_loss   cls_loss   dfl_loss  Instances       Size\n"
          ]
        },
        {
          "output_type": "stream",
          "name": "stderr",
          "text": [
            "     82/200      2.31G     0.3359     0.2474     0.8874          4        640: 100%|██████████| 75/75 [00:23<00:00,  3.16it/s]\n",
            "                 Class     Images  Instances      Box(P          R      mAP50  mAP50-95): 100%|██████████| 4/4 [00:02<00:00,  1.67it/s]"
          ]
        },
        {
          "output_type": "stream",
          "name": "stdout",
          "text": [
            "                   all        114        121      0.993      0.934       0.95      0.932\n"
          ]
        },
        {
          "output_type": "stream",
          "name": "stderr",
          "text": [
            "\n"
          ]
        },
        {
          "output_type": "stream",
          "name": "stdout",
          "text": [
            "\n",
            "      Epoch    GPU_mem   box_loss   cls_loss   dfl_loss  Instances       Size\n"
          ]
        },
        {
          "output_type": "stream",
          "name": "stderr",
          "text": [
            "     83/200      2.31G      0.337     0.2513     0.8932          2        640: 100%|██████████| 75/75 [00:25<00:00,  2.95it/s]\n",
            "                 Class     Images  Instances      Box(P          R      mAP50  mAP50-95): 100%|██████████| 4/4 [00:01<00:00,  2.95it/s]"
          ]
        },
        {
          "output_type": "stream",
          "name": "stdout",
          "text": [
            "                   all        114        121      0.994      0.934      0.948      0.937\n"
          ]
        },
        {
          "output_type": "stream",
          "name": "stderr",
          "text": [
            "\n"
          ]
        },
        {
          "output_type": "stream",
          "name": "stdout",
          "text": [
            "\n",
            "      Epoch    GPU_mem   box_loss   cls_loss   dfl_loss  Instances       Size\n"
          ]
        },
        {
          "output_type": "stream",
          "name": "stderr",
          "text": [
            "     84/200       2.3G     0.3407     0.2415     0.9009          2        640: 100%|██████████| 75/75 [00:24<00:00,  3.03it/s]\n",
            "                 Class     Images  Instances      Box(P          R      mAP50  mAP50-95): 100%|██████████| 4/4 [00:01<00:00,  2.06it/s]"
          ]
        },
        {
          "output_type": "stream",
          "name": "stdout",
          "text": [
            "                   all        114        121      0.994      0.934      0.951      0.935\n"
          ]
        },
        {
          "output_type": "stream",
          "name": "stderr",
          "text": [
            "\n"
          ]
        },
        {
          "output_type": "stream",
          "name": "stdout",
          "text": [
            "\n",
            "      Epoch    GPU_mem   box_loss   cls_loss   dfl_loss  Instances       Size\n"
          ]
        },
        {
          "output_type": "stream",
          "name": "stderr",
          "text": [
            "     85/200      2.31G     0.3293     0.2617     0.8852          3        640: 100%|██████████| 75/75 [00:26<00:00,  2.83it/s]\n",
            "                 Class     Images  Instances      Box(P          R      mAP50  mAP50-95): 100%|██████████| 4/4 [00:01<00:00,  3.20it/s]"
          ]
        },
        {
          "output_type": "stream",
          "name": "stdout",
          "text": [
            "                   all        114        121       0.99      0.934      0.944      0.934\n"
          ]
        },
        {
          "output_type": "stream",
          "name": "stderr",
          "text": [
            "\n"
          ]
        },
        {
          "output_type": "stream",
          "name": "stdout",
          "text": [
            "\n",
            "      Epoch    GPU_mem   box_loss   cls_loss   dfl_loss  Instances       Size\n"
          ]
        },
        {
          "output_type": "stream",
          "name": "stderr",
          "text": [
            "     86/200      2.31G     0.3295     0.2434     0.8832          3        640: 100%|██████████| 75/75 [00:23<00:00,  3.14it/s]\n",
            "                 Class     Images  Instances      Box(P          R      mAP50  mAP50-95): 100%|██████████| 4/4 [00:02<00:00,  1.74it/s]"
          ]
        },
        {
          "output_type": "stream",
          "name": "stdout",
          "text": [
            "                   all        114        121      0.993      0.934       0.95      0.942\n"
          ]
        },
        {
          "output_type": "stream",
          "name": "stderr",
          "text": [
            "\n"
          ]
        },
        {
          "output_type": "stream",
          "name": "stdout",
          "text": [
            "\n",
            "      Epoch    GPU_mem   box_loss   cls_loss   dfl_loss  Instances       Size\n"
          ]
        },
        {
          "output_type": "stream",
          "name": "stderr",
          "text": [
            "     87/200      2.31G     0.3246     0.2354     0.8867          3        640: 100%|██████████| 75/75 [00:28<00:00,  2.66it/s]\n",
            "                 Class     Images  Instances      Box(P          R      mAP50  mAP50-95): 100%|██████████| 4/4 [00:01<00:00,  2.03it/s]"
          ]
        },
        {
          "output_type": "stream",
          "name": "stdout",
          "text": [
            "                   all        114        121      0.994      0.934      0.957      0.944\n"
          ]
        },
        {
          "output_type": "stream",
          "name": "stderr",
          "text": [
            "\n"
          ]
        },
        {
          "output_type": "stream",
          "name": "stdout",
          "text": [
            "\n",
            "      Epoch    GPU_mem   box_loss   cls_loss   dfl_loss  Instances       Size\n"
          ]
        },
        {
          "output_type": "stream",
          "name": "stderr",
          "text": [
            "     88/200       2.3G     0.3318     0.2414     0.8801          3        640: 100%|██████████| 75/75 [00:26<00:00,  2.85it/s]\n",
            "                 Class     Images  Instances      Box(P          R      mAP50  mAP50-95): 100%|██████████| 4/4 [00:02<00:00,  1.51it/s]"
          ]
        },
        {
          "output_type": "stream",
          "name": "stdout",
          "text": [
            "                   all        114        121      0.995      0.934       0.96      0.952\n"
          ]
        },
        {
          "output_type": "stream",
          "name": "stderr",
          "text": [
            "\n"
          ]
        },
        {
          "output_type": "stream",
          "name": "stdout",
          "text": [
            "\n",
            "      Epoch    GPU_mem   box_loss   cls_loss   dfl_loss  Instances       Size\n"
          ]
        },
        {
          "output_type": "stream",
          "name": "stderr",
          "text": [
            "     89/200      2.31G     0.3216      0.244     0.8848          1        640: 100%|██████████| 75/75 [00:24<00:00,  3.09it/s]\n",
            "                 Class     Images  Instances      Box(P          R      mAP50  mAP50-95): 100%|██████████| 4/4 [00:01<00:00,  3.40it/s]"
          ]
        },
        {
          "output_type": "stream",
          "name": "stdout",
          "text": [
            "                   all        114        121      0.994      0.934      0.951      0.944\n"
          ]
        },
        {
          "output_type": "stream",
          "name": "stderr",
          "text": [
            "\n"
          ]
        },
        {
          "output_type": "stream",
          "name": "stdout",
          "text": [
            "\n",
            "      Epoch    GPU_mem   box_loss   cls_loss   dfl_loss  Instances       Size\n"
          ]
        },
        {
          "output_type": "stream",
          "name": "stderr",
          "text": [
            "     90/200      2.31G     0.3225     0.2531      0.884          1        640: 100%|██████████| 75/75 [00:26<00:00,  2.83it/s]\n",
            "                 Class     Images  Instances      Box(P          R      mAP50  mAP50-95): 100%|██████████| 4/4 [00:03<00:00,  1.10it/s]"
          ]
        },
        {
          "output_type": "stream",
          "name": "stdout",
          "text": [
            "                   all        114        121      0.994      0.934      0.956      0.949\n"
          ]
        },
        {
          "output_type": "stream",
          "name": "stderr",
          "text": [
            "\n"
          ]
        },
        {
          "output_type": "stream",
          "name": "stdout",
          "text": [
            "\n",
            "      Epoch    GPU_mem   box_loss   cls_loss   dfl_loss  Instances       Size\n"
          ]
        },
        {
          "output_type": "stream",
          "name": "stderr",
          "text": [
            "     91/200      2.31G     0.3247     0.2308     0.8833          2        640: 100%|██████████| 75/75 [00:24<00:00,  3.07it/s]\n",
            "                 Class     Images  Instances      Box(P          R      mAP50  mAP50-95): 100%|██████████| 4/4 [00:01<00:00,  3.07it/s]"
          ]
        },
        {
          "output_type": "stream",
          "name": "stdout",
          "text": [
            "                   all        114        121      0.994      0.934      0.953       0.94\n"
          ]
        },
        {
          "output_type": "stream",
          "name": "stderr",
          "text": [
            "\n"
          ]
        },
        {
          "output_type": "stream",
          "name": "stdout",
          "text": [
            "\n",
            "      Epoch    GPU_mem   box_loss   cls_loss   dfl_loss  Instances       Size\n"
          ]
        },
        {
          "output_type": "stream",
          "name": "stderr",
          "text": [
            "     92/200       2.3G     0.3323     0.2422     0.8874          4        640: 100%|██████████| 75/75 [00:25<00:00,  2.93it/s]\n",
            "                 Class     Images  Instances      Box(P          R      mAP50  mAP50-95): 100%|██████████| 4/4 [00:01<00:00,  2.19it/s]"
          ]
        },
        {
          "output_type": "stream",
          "name": "stdout",
          "text": [
            "                   all        114        121      0.994      0.935      0.963      0.956\n"
          ]
        },
        {
          "output_type": "stream",
          "name": "stderr",
          "text": [
            "\n"
          ]
        },
        {
          "output_type": "stream",
          "name": "stdout",
          "text": [
            "\n",
            "      Epoch    GPU_mem   box_loss   cls_loss   dfl_loss  Instances       Size\n"
          ]
        },
        {
          "output_type": "stream",
          "name": "stderr",
          "text": [
            "     93/200      2.31G     0.3337     0.2391     0.8866          1        640: 100%|██████████| 75/75 [00:24<00:00,  3.09it/s]\n",
            "                 Class     Images  Instances      Box(P          R      mAP50  mAP50-95): 100%|██████████| 4/4 [00:01<00:00,  2.79it/s]"
          ]
        },
        {
          "output_type": "stream",
          "name": "stdout",
          "text": [
            "                   all        114        121      0.996      0.934      0.962      0.955\n"
          ]
        },
        {
          "output_type": "stream",
          "name": "stderr",
          "text": [
            "\n"
          ]
        },
        {
          "output_type": "stream",
          "name": "stdout",
          "text": [
            "\n",
            "      Epoch    GPU_mem   box_loss   cls_loss   dfl_loss  Instances       Size\n"
          ]
        },
        {
          "output_type": "stream",
          "name": "stderr",
          "text": [
            "     94/200      2.31G     0.3133     0.2289     0.8865          3        640: 100%|██████████| 75/75 [00:27<00:00,  2.74it/s]\n",
            "                 Class     Images  Instances      Box(P          R      mAP50  mAP50-95): 100%|██████████| 4/4 [00:01<00:00,  2.21it/s]"
          ]
        },
        {
          "output_type": "stream",
          "name": "stdout",
          "text": [
            "                   all        114        121       0.99      0.934       0.95       0.94\n"
          ]
        },
        {
          "output_type": "stream",
          "name": "stderr",
          "text": [
            "\n"
          ]
        },
        {
          "output_type": "stream",
          "name": "stdout",
          "text": [
            "\n",
            "      Epoch    GPU_mem   box_loss   cls_loss   dfl_loss  Instances       Size\n"
          ]
        },
        {
          "output_type": "stream",
          "name": "stderr",
          "text": [
            "     95/200      2.31G     0.3169     0.2294     0.8839          2        640: 100%|██████████| 75/75 [00:23<00:00,  3.13it/s]\n",
            "                 Class     Images  Instances      Box(P          R      mAP50  mAP50-95): 100%|██████████| 4/4 [00:01<00:00,  3.46it/s]"
          ]
        },
        {
          "output_type": "stream",
          "name": "stdout",
          "text": [
            "                   all        114        121      0.993      0.935      0.961      0.949\n"
          ]
        },
        {
          "output_type": "stream",
          "name": "stderr",
          "text": [
            "\n"
          ]
        },
        {
          "output_type": "stream",
          "name": "stdout",
          "text": [
            "\n",
            "      Epoch    GPU_mem   box_loss   cls_loss   dfl_loss  Instances       Size\n"
          ]
        },
        {
          "output_type": "stream",
          "name": "stderr",
          "text": [
            "     96/200       2.3G     0.3297     0.2591     0.8939          1        640: 100%|██████████| 75/75 [00:27<00:00,  2.75it/s]\n",
            "                 Class     Images  Instances      Box(P          R      mAP50  mAP50-95): 100%|██████████| 4/4 [00:02<00:00,  1.94it/s]"
          ]
        },
        {
          "output_type": "stream",
          "name": "stdout",
          "text": [
            "                   all        114        121      0.995      0.935      0.963      0.942\n"
          ]
        },
        {
          "output_type": "stream",
          "name": "stderr",
          "text": [
            "\n"
          ]
        },
        {
          "output_type": "stream",
          "name": "stdout",
          "text": [
            "\n",
            "      Epoch    GPU_mem   box_loss   cls_loss   dfl_loss  Instances       Size\n"
          ]
        },
        {
          "output_type": "stream",
          "name": "stderr",
          "text": [
            "     97/200      2.31G     0.3135     0.2599      0.872          0        640: 100%|██████████| 75/75 [00:24<00:00,  3.06it/s]\n",
            "                 Class     Images  Instances      Box(P          R      mAP50  mAP50-95): 100%|██████████| 4/4 [00:01<00:00,  3.01it/s]"
          ]
        },
        {
          "output_type": "stream",
          "name": "stdout",
          "text": [
            "                   all        114        121      0.996      0.935      0.966      0.955\n"
          ]
        },
        {
          "output_type": "stream",
          "name": "stderr",
          "text": [
            "\n"
          ]
        },
        {
          "output_type": "stream",
          "name": "stdout",
          "text": [
            "\n",
            "      Epoch    GPU_mem   box_loss   cls_loss   dfl_loss  Instances       Size\n"
          ]
        },
        {
          "output_type": "stream",
          "name": "stderr",
          "text": [
            "     98/200      2.31G     0.3152     0.2286     0.8842          3        640: 100%|██████████| 75/75 [00:26<00:00,  2.88it/s]\n",
            "                 Class     Images  Instances      Box(P          R      mAP50  mAP50-95): 100%|██████████| 4/4 [00:02<00:00,  1.50it/s]"
          ]
        },
        {
          "output_type": "stream",
          "name": "stdout",
          "text": [
            "                   all        114        121      0.994      0.934      0.961      0.948\n"
          ]
        },
        {
          "output_type": "stream",
          "name": "stderr",
          "text": [
            "\n"
          ]
        },
        {
          "output_type": "stream",
          "name": "stdout",
          "text": [
            "\n",
            "      Epoch    GPU_mem   box_loss   cls_loss   dfl_loss  Instances       Size\n"
          ]
        },
        {
          "output_type": "stream",
          "name": "stderr",
          "text": [
            "     99/200      2.31G     0.3067     0.2268     0.8805          4        640: 100%|██████████| 75/75 [00:23<00:00,  3.16it/s]\n",
            "                 Class     Images  Instances      Box(P          R      mAP50  mAP50-95): 100%|██████████| 4/4 [00:01<00:00,  3.27it/s]"
          ]
        },
        {
          "output_type": "stream",
          "name": "stdout",
          "text": [
            "                   all        114        121      0.996      0.934      0.963      0.957\n"
          ]
        },
        {
          "output_type": "stream",
          "name": "stderr",
          "text": [
            "\n"
          ]
        },
        {
          "output_type": "stream",
          "name": "stdout",
          "text": [
            "\n",
            "      Epoch    GPU_mem   box_loss   cls_loss   dfl_loss  Instances       Size\n"
          ]
        },
        {
          "output_type": "stream",
          "name": "stderr",
          "text": [
            "    100/200       2.3G     0.3182     0.2239     0.8811          2        640: 100%|██████████| 75/75 [00:26<00:00,  2.87it/s]\n",
            "                 Class     Images  Instances      Box(P          R      mAP50  mAP50-95): 100%|██████████| 4/4 [00:02<00:00,  1.71it/s]"
          ]
        },
        {
          "output_type": "stream",
          "name": "stdout",
          "text": [
            "                   all        114        121      0.996      0.934      0.963      0.957\n"
          ]
        },
        {
          "output_type": "stream",
          "name": "stderr",
          "text": [
            "\n"
          ]
        },
        {
          "output_type": "stream",
          "name": "stdout",
          "text": [
            "\n",
            "      Epoch    GPU_mem   box_loss   cls_loss   dfl_loss  Instances       Size\n"
          ]
        },
        {
          "output_type": "stream",
          "name": "stderr",
          "text": [
            "    101/200      2.31G     0.3169     0.2225     0.8802          1        640: 100%|██████████| 75/75 [00:24<00:00,  3.05it/s]\n",
            "                 Class     Images  Instances      Box(P          R      mAP50  mAP50-95): 100%|██████████| 4/4 [00:01<00:00,  2.87it/s]"
          ]
        },
        {
          "output_type": "stream",
          "name": "stdout",
          "text": [
            "                   all        114        121      0.995      0.934      0.966      0.947\n"
          ]
        },
        {
          "output_type": "stream",
          "name": "stderr",
          "text": [
            "\n"
          ]
        },
        {
          "output_type": "stream",
          "name": "stdout",
          "text": [
            "\n",
            "      Epoch    GPU_mem   box_loss   cls_loss   dfl_loss  Instances       Size\n"
          ]
        },
        {
          "output_type": "stream",
          "name": "stderr",
          "text": [
            "    102/200      2.31G     0.3097     0.2274      0.883          4        640: 100%|██████████| 75/75 [00:24<00:00,  3.02it/s]\n",
            "                 Class     Images  Instances      Box(P          R      mAP50  mAP50-95): 100%|██████████| 4/4 [00:02<00:00,  1.68it/s]"
          ]
        },
        {
          "output_type": "stream",
          "name": "stdout",
          "text": [
            "                   all        114        121      0.995      0.934      0.961       0.95\n"
          ]
        },
        {
          "output_type": "stream",
          "name": "stderr",
          "text": [
            "\n"
          ]
        },
        {
          "output_type": "stream",
          "name": "stdout",
          "text": [
            "\n",
            "      Epoch    GPU_mem   box_loss   cls_loss   dfl_loss  Instances       Size\n"
          ]
        },
        {
          "output_type": "stream",
          "name": "stderr",
          "text": [
            "    103/200      2.31G     0.3142     0.2327       0.88          3        640: 100%|██████████| 75/75 [00:25<00:00,  2.99it/s]\n",
            "                 Class     Images  Instances      Box(P          R      mAP50  mAP50-95): 100%|██████████| 4/4 [00:01<00:00,  2.96it/s]\n"
          ]
        },
        {
          "output_type": "stream",
          "name": "stdout",
          "text": [
            "                   all        114        121      0.995      0.934      0.959      0.953\n",
            "\n",
            "      Epoch    GPU_mem   box_loss   cls_loss   dfl_loss  Instances       Size\n"
          ]
        },
        {
          "output_type": "stream",
          "name": "stderr",
          "text": [
            "    104/200       2.3G     0.3193     0.2201     0.8821          3        640: 100%|██████████| 75/75 [00:24<00:00,  3.12it/s]\n",
            "                 Class     Images  Instances      Box(P          R      mAP50  mAP50-95): 100%|██████████| 4/4 [00:01<00:00,  2.12it/s]"
          ]
        },
        {
          "output_type": "stream",
          "name": "stdout",
          "text": [
            "                   all        114        121      0.996      0.934      0.962      0.952\n"
          ]
        },
        {
          "output_type": "stream",
          "name": "stderr",
          "text": [
            "\n"
          ]
        },
        {
          "output_type": "stream",
          "name": "stdout",
          "text": [
            "\n",
            "      Epoch    GPU_mem   box_loss   cls_loss   dfl_loss  Instances       Size\n"
          ]
        },
        {
          "output_type": "stream",
          "name": "stderr",
          "text": [
            "    105/200      2.31G     0.3102     0.2207      0.884          2        640: 100%|██████████| 75/75 [00:29<00:00,  2.57it/s]\n",
            "                 Class     Images  Instances      Box(P          R      mAP50  mAP50-95): 100%|██████████| 4/4 [00:01<00:00,  2.73it/s]"
          ]
        },
        {
          "output_type": "stream",
          "name": "stdout",
          "text": [
            "                   all        114        121      0.992      0.934      0.953       0.94\n"
          ]
        },
        {
          "output_type": "stream",
          "name": "stderr",
          "text": [
            "\n"
          ]
        },
        {
          "output_type": "stream",
          "name": "stdout",
          "text": [
            "\n",
            "      Epoch    GPU_mem   box_loss   cls_loss   dfl_loss  Instances       Size\n"
          ]
        },
        {
          "output_type": "stream",
          "name": "stderr",
          "text": [
            "    106/200      2.31G     0.3095     0.2235     0.8823          4        640: 100%|██████████| 75/75 [00:23<00:00,  3.16it/s]\n",
            "                 Class     Images  Instances      Box(P          R      mAP50  mAP50-95): 100%|██████████| 4/4 [00:01<00:00,  2.66it/s]\n"
          ]
        },
        {
          "output_type": "stream",
          "name": "stdout",
          "text": [
            "                   all        114        121      0.995      0.934      0.958      0.948\n",
            "\n",
            "      Epoch    GPU_mem   box_loss   cls_loss   dfl_loss  Instances       Size\n"
          ]
        },
        {
          "output_type": "stream",
          "name": "stderr",
          "text": [
            "    107/200      2.31G     0.2993     0.2134     0.8744          1        640: 100%|██████████| 75/75 [00:26<00:00,  2.81it/s]\n",
            "                 Class     Images  Instances      Box(P          R      mAP50  mAP50-95): 100%|██████████| 4/4 [00:01<00:00,  2.83it/s]"
          ]
        },
        {
          "output_type": "stream",
          "name": "stdout",
          "text": [
            "                   all        114        121      0.995      0.934      0.957      0.951\n"
          ]
        },
        {
          "output_type": "stream",
          "name": "stderr",
          "text": [
            "\n"
          ]
        },
        {
          "output_type": "stream",
          "name": "stdout",
          "text": [
            "\n",
            "      Epoch    GPU_mem   box_loss   cls_loss   dfl_loss  Instances       Size\n"
          ]
        },
        {
          "output_type": "stream",
          "name": "stderr",
          "text": [
            "    108/200       2.3G     0.3114     0.2237     0.8854          2        640: 100%|██████████| 75/75 [00:24<00:00,  3.07it/s]\n",
            "                 Class     Images  Instances      Box(P          R      mAP50  mAP50-95): 100%|██████████| 4/4 [00:01<00:00,  3.34it/s]"
          ]
        },
        {
          "output_type": "stream",
          "name": "stdout",
          "text": [
            "                   all        114        121      0.993      0.934      0.958      0.953\n"
          ]
        },
        {
          "output_type": "stream",
          "name": "stderr",
          "text": [
            "\n"
          ]
        },
        {
          "output_type": "stream",
          "name": "stdout",
          "text": [
            "\n",
            "      Epoch    GPU_mem   box_loss   cls_loss   dfl_loss  Instances       Size\n"
          ]
        },
        {
          "output_type": "stream",
          "name": "stderr",
          "text": [
            "    109/200      2.31G      0.317     0.2278     0.8794          3        640: 100%|██████████| 75/75 [00:27<00:00,  2.69it/s]\n",
            "                 Class     Images  Instances      Box(P          R      mAP50  mAP50-95): 100%|██████████| 4/4 [00:01<00:00,  3.61it/s]"
          ]
        },
        {
          "output_type": "stream",
          "name": "stdout",
          "text": [
            "                   all        114        121      0.995      0.934      0.958      0.946\n"
          ]
        },
        {
          "output_type": "stream",
          "name": "stderr",
          "text": [
            "\n"
          ]
        },
        {
          "output_type": "stream",
          "name": "stdout",
          "text": [
            "\n",
            "      Epoch    GPU_mem   box_loss   cls_loss   dfl_loss  Instances       Size\n"
          ]
        },
        {
          "output_type": "stream",
          "name": "stderr",
          "text": [
            "    110/200      2.31G     0.3052     0.2206     0.8803          2        640: 100%|██████████| 75/75 [00:24<00:00,  3.10it/s]\n",
            "                 Class     Images  Instances      Box(P          R      mAP50  mAP50-95): 100%|██████████| 4/4 [00:01<00:00,  2.93it/s]"
          ]
        },
        {
          "output_type": "stream",
          "name": "stdout",
          "text": [
            "                   all        114        121      0.995      0.934      0.957      0.952\n"
          ]
        },
        {
          "output_type": "stream",
          "name": "stderr",
          "text": [
            "\n"
          ]
        },
        {
          "output_type": "stream",
          "name": "stdout",
          "text": [
            "\n",
            "      Epoch    GPU_mem   box_loss   cls_loss   dfl_loss  Instances       Size\n"
          ]
        },
        {
          "output_type": "stream",
          "name": "stderr",
          "text": [
            "    111/200      2.31G      0.306     0.2203     0.8876          1        640: 100%|██████████| 75/75 [00:27<00:00,  2.71it/s]\n",
            "                 Class     Images  Instances      Box(P          R      mAP50  mAP50-95): 100%|██████████| 4/4 [00:01<00:00,  2.86it/s]"
          ]
        },
        {
          "output_type": "stream",
          "name": "stdout",
          "text": [
            "                   all        114        121      0.995      0.934      0.956       0.95\n"
          ]
        },
        {
          "output_type": "stream",
          "name": "stderr",
          "text": [
            "\n"
          ]
        },
        {
          "output_type": "stream",
          "name": "stdout",
          "text": [
            "\n",
            "      Epoch    GPU_mem   box_loss   cls_loss   dfl_loss  Instances       Size\n"
          ]
        },
        {
          "output_type": "stream",
          "name": "stderr",
          "text": [
            "    112/200       2.3G     0.3069     0.2213     0.8781          2        640: 100%|██████████| 75/75 [00:24<00:00,  3.09it/s]\n",
            "                 Class     Images  Instances      Box(P          R      mAP50  mAP50-95): 100%|██████████| 4/4 [00:01<00:00,  3.45it/s]"
          ]
        },
        {
          "output_type": "stream",
          "name": "stdout",
          "text": [
            "                   all        114        121      0.995      0.934      0.956       0.95\n"
          ]
        },
        {
          "output_type": "stream",
          "name": "stderr",
          "text": [
            "\n"
          ]
        },
        {
          "output_type": "stream",
          "name": "stdout",
          "text": [
            "\n",
            "      Epoch    GPU_mem   box_loss   cls_loss   dfl_loss  Instances       Size\n"
          ]
        },
        {
          "output_type": "stream",
          "name": "stderr",
          "text": [
            "    113/200      2.31G      0.308     0.2182     0.8768          1        640: 100%|██████████| 75/75 [00:28<00:00,  2.66it/s]\n",
            "                 Class     Images  Instances      Box(P          R      mAP50  mAP50-95): 100%|██████████| 4/4 [00:01<00:00,  2.63it/s]"
          ]
        },
        {
          "output_type": "stream",
          "name": "stdout",
          "text": [
            "                   all        114        121      0.995      0.934      0.964      0.955\n"
          ]
        },
        {
          "output_type": "stream",
          "name": "stderr",
          "text": [
            "\n"
          ]
        },
        {
          "output_type": "stream",
          "name": "stdout",
          "text": [
            "\n",
            "      Epoch    GPU_mem   box_loss   cls_loss   dfl_loss  Instances       Size\n"
          ]
        },
        {
          "output_type": "stream",
          "name": "stderr",
          "text": [
            "    114/200      2.31G     0.3057     0.2172     0.8803          1        640: 100%|██████████| 75/75 [00:23<00:00,  3.16it/s]\n",
            "                 Class     Images  Instances      Box(P          R      mAP50  mAP50-95): 100%|██████████| 4/4 [00:01<00:00,  3.05it/s]"
          ]
        },
        {
          "output_type": "stream",
          "name": "stdout",
          "text": [
            "                   all        114        121      0.996      0.935      0.964      0.952\n"
          ]
        },
        {
          "output_type": "stream",
          "name": "stderr",
          "text": [
            "\n"
          ]
        },
        {
          "output_type": "stream",
          "name": "stdout",
          "text": [
            "\n",
            "      Epoch    GPU_mem   box_loss   cls_loss   dfl_loss  Instances       Size\n"
          ]
        },
        {
          "output_type": "stream",
          "name": "stderr",
          "text": [
            "    115/200      2.31G     0.2948     0.2134     0.8684          0        640: 100%|██████████| 75/75 [00:26<00:00,  2.81it/s]\n",
            "                 Class     Images  Instances      Box(P          R      mAP50  mAP50-95): 100%|██████████| 4/4 [00:01<00:00,  2.99it/s]"
          ]
        },
        {
          "output_type": "stream",
          "name": "stdout",
          "text": [
            "                   all        114        121      0.994      0.934      0.958      0.952\n"
          ]
        },
        {
          "output_type": "stream",
          "name": "stderr",
          "text": [
            "\n"
          ]
        },
        {
          "output_type": "stream",
          "name": "stdout",
          "text": [
            "\n",
            "      Epoch    GPU_mem   box_loss   cls_loss   dfl_loss  Instances       Size\n"
          ]
        },
        {
          "output_type": "stream",
          "name": "stderr",
          "text": [
            "    116/200       2.3G     0.2896     0.2047     0.8774          4        640: 100%|██████████| 75/75 [00:28<00:00,  2.68it/s]\n",
            "                 Class     Images  Instances      Box(P          R      mAP50  mAP50-95): 100%|██████████| 4/4 [00:01<00:00,  2.07it/s]"
          ]
        },
        {
          "output_type": "stream",
          "name": "stdout",
          "text": [
            "                   all        114        121      0.996      0.934      0.964       0.95\n"
          ]
        },
        {
          "output_type": "stream",
          "name": "stderr",
          "text": [
            "\n"
          ]
        },
        {
          "output_type": "stream",
          "name": "stdout",
          "text": [
            "\n",
            "      Epoch    GPU_mem   box_loss   cls_loss   dfl_loss  Instances       Size\n"
          ]
        },
        {
          "output_type": "stream",
          "name": "stderr",
          "text": [
            "    117/200      2.31G     0.3056     0.2206      0.877          4        640: 100%|██████████| 75/75 [00:26<00:00,  2.84it/s]\n",
            "                 Class     Images  Instances      Box(P          R      mAP50  mAP50-95): 100%|██████████| 4/4 [00:01<00:00,  3.73it/s]"
          ]
        },
        {
          "output_type": "stream",
          "name": "stdout",
          "text": [
            "                   all        114        121      0.996      0.935      0.966      0.959\n"
          ]
        },
        {
          "output_type": "stream",
          "name": "stderr",
          "text": [
            "\n"
          ]
        },
        {
          "output_type": "stream",
          "name": "stdout",
          "text": [
            "\n",
            "      Epoch    GPU_mem   box_loss   cls_loss   dfl_loss  Instances       Size\n"
          ]
        },
        {
          "output_type": "stream",
          "name": "stderr",
          "text": [
            "    118/200      2.31G      0.306     0.2161     0.8794          2        640: 100%|██████████| 75/75 [00:24<00:00,  3.09it/s]\n",
            "                 Class     Images  Instances      Box(P          R      mAP50  mAP50-95): 100%|██████████| 4/4 [00:01<00:00,  2.42it/s]"
          ]
        },
        {
          "output_type": "stream",
          "name": "stdout",
          "text": [
            "                   all        114        121      0.996      0.934      0.965      0.957\n"
          ]
        },
        {
          "output_type": "stream",
          "name": "stderr",
          "text": [
            "\n"
          ]
        },
        {
          "output_type": "stream",
          "name": "stdout",
          "text": [
            "\n",
            "      Epoch    GPU_mem   box_loss   cls_loss   dfl_loss  Instances       Size\n"
          ]
        },
        {
          "output_type": "stream",
          "name": "stderr",
          "text": [
            "    119/200      2.31G      0.298      0.221     0.8696          0        640: 100%|██████████| 75/75 [00:27<00:00,  2.76it/s]\n",
            "                 Class     Images  Instances      Box(P          R      mAP50  mAP50-95): 100%|██████████| 4/4 [00:01<00:00,  3.89it/s]"
          ]
        },
        {
          "output_type": "stream",
          "name": "stdout",
          "text": [
            "                   all        114        121      0.996      0.935      0.962      0.953\n"
          ]
        },
        {
          "output_type": "stream",
          "name": "stderr",
          "text": [
            "\n"
          ]
        },
        {
          "output_type": "stream",
          "name": "stdout",
          "text": [
            "\n",
            "      Epoch    GPU_mem   box_loss   cls_loss   dfl_loss  Instances       Size\n"
          ]
        },
        {
          "output_type": "stream",
          "name": "stderr",
          "text": [
            "    120/200       2.3G     0.3069      0.217     0.8759          2        640: 100%|██████████| 75/75 [00:23<00:00,  3.13it/s]\n",
            "                 Class     Images  Instances      Box(P          R      mAP50  mAP50-95): 100%|██████████| 4/4 [00:01<00:00,  2.69it/s]"
          ]
        },
        {
          "output_type": "stream",
          "name": "stdout",
          "text": [
            "                   all        114        121      0.994      0.934      0.953      0.947\n"
          ]
        },
        {
          "output_type": "stream",
          "name": "stderr",
          "text": [
            "\n"
          ]
        },
        {
          "output_type": "stream",
          "name": "stdout",
          "text": [
            "\n",
            "      Epoch    GPU_mem   box_loss   cls_loss   dfl_loss  Instances       Size\n"
          ]
        },
        {
          "output_type": "stream",
          "name": "stderr",
          "text": [
            "    121/200      2.31G     0.3004     0.2114     0.8797          2        640: 100%|██████████| 75/75 [00:27<00:00,  2.71it/s]\n",
            "                 Class     Images  Instances      Box(P          R      mAP50  mAP50-95): 100%|██████████| 4/4 [00:01<00:00,  3.43it/s]"
          ]
        },
        {
          "output_type": "stream",
          "name": "stdout",
          "text": [
            "                   all        114        121      0.996      0.934      0.955      0.947\n"
          ]
        },
        {
          "output_type": "stream",
          "name": "stderr",
          "text": [
            "\n"
          ]
        },
        {
          "output_type": "stream",
          "name": "stdout",
          "text": [
            "\n",
            "      Epoch    GPU_mem   box_loss   cls_loss   dfl_loss  Instances       Size\n"
          ]
        },
        {
          "output_type": "stream",
          "name": "stderr",
          "text": [
            "    122/200      2.31G     0.3044     0.2148     0.8708          2        640: 100%|██████████| 75/75 [00:24<00:00,  3.09it/s]\n",
            "                 Class     Images  Instances      Box(P          R      mAP50  mAP50-95): 100%|██████████| 4/4 [00:01<00:00,  2.75it/s]"
          ]
        },
        {
          "output_type": "stream",
          "name": "stdout",
          "text": [
            "                   all        114        121      0.995      0.934      0.961      0.951\n"
          ]
        },
        {
          "output_type": "stream",
          "name": "stderr",
          "text": [
            "\n"
          ]
        },
        {
          "output_type": "stream",
          "name": "stdout",
          "text": [
            "\n",
            "      Epoch    GPU_mem   box_loss   cls_loss   dfl_loss  Instances       Size\n"
          ]
        },
        {
          "output_type": "stream",
          "name": "stderr",
          "text": [
            "    123/200      2.31G     0.2985     0.2134     0.8825          1        640: 100%|██████████| 75/75 [00:28<00:00,  2.65it/s]\n",
            "                 Class     Images  Instances      Box(P          R      mAP50  mAP50-95): 100%|██████████| 4/4 [00:01<00:00,  3.03it/s]\n"
          ]
        },
        {
          "output_type": "stream",
          "name": "stdout",
          "text": [
            "                   all        114        121      0.995      0.934      0.958       0.94\n",
            "\n",
            "      Epoch    GPU_mem   box_loss   cls_loss   dfl_loss  Instances       Size\n"
          ]
        },
        {
          "output_type": "stream",
          "name": "stderr",
          "text": [
            "    124/200       2.3G     0.2903     0.2262     0.8792          1        640: 100%|██████████| 75/75 [00:23<00:00,  3.23it/s]\n",
            "                 Class     Images  Instances      Box(P          R      mAP50  mAP50-95): 100%|██████████| 4/4 [00:01<00:00,  2.97it/s]"
          ]
        },
        {
          "output_type": "stream",
          "name": "stdout",
          "text": [
            "                   all        114        121      0.994      0.934      0.957      0.945\n"
          ]
        },
        {
          "output_type": "stream",
          "name": "stderr",
          "text": [
            "\n"
          ]
        },
        {
          "output_type": "stream",
          "name": "stdout",
          "text": [
            "\n",
            "      Epoch    GPU_mem   box_loss   cls_loss   dfl_loss  Instances       Size\n"
          ]
        },
        {
          "output_type": "stream",
          "name": "stderr",
          "text": [
            "    125/200      2.31G     0.2892      0.206     0.8697          1        640: 100%|██████████| 75/75 [00:27<00:00,  2.77it/s]\n",
            "                 Class     Images  Instances      Box(P          R      mAP50  mAP50-95): 100%|██████████| 4/4 [00:01<00:00,  3.18it/s]"
          ]
        },
        {
          "output_type": "stream",
          "name": "stdout",
          "text": [
            "                   all        114        121      0.993      0.934      0.959      0.953\n"
          ]
        },
        {
          "output_type": "stream",
          "name": "stderr",
          "text": [
            "\n"
          ]
        },
        {
          "output_type": "stream",
          "name": "stdout",
          "text": [
            "\n",
            "      Epoch    GPU_mem   box_loss   cls_loss   dfl_loss  Instances       Size\n"
          ]
        },
        {
          "output_type": "stream",
          "name": "stderr",
          "text": [
            "    126/200      2.31G      0.291      0.205     0.8761          2        640: 100%|██████████| 75/75 [00:23<00:00,  3.17it/s]\n",
            "                 Class     Images  Instances      Box(P          R      mAP50  mAP50-95): 100%|██████████| 4/4 [00:01<00:00,  2.13it/s]"
          ]
        },
        {
          "output_type": "stream",
          "name": "stdout",
          "text": [
            "                   all        114        121      0.993      0.934      0.958       0.95\n"
          ]
        },
        {
          "output_type": "stream",
          "name": "stderr",
          "text": [
            "\n"
          ]
        },
        {
          "output_type": "stream",
          "name": "stdout",
          "text": [
            "\n",
            "      Epoch    GPU_mem   box_loss   cls_loss   dfl_loss  Instances       Size\n"
          ]
        },
        {
          "output_type": "stream",
          "name": "stderr",
          "text": [
            "    127/200      2.31G     0.2991      0.208      0.873          1        640: 100%|██████████| 75/75 [00:30<00:00,  2.47it/s]\n",
            "                 Class     Images  Instances      Box(P          R      mAP50  mAP50-95): 100%|██████████| 4/4 [00:01<00:00,  3.22it/s]\n"
          ]
        },
        {
          "output_type": "stream",
          "name": "stdout",
          "text": [
            "                   all        114        121      0.995      0.934      0.958      0.949\n",
            "\n",
            "      Epoch    GPU_mem   box_loss   cls_loss   dfl_loss  Instances       Size\n"
          ]
        },
        {
          "output_type": "stream",
          "name": "stderr",
          "text": [
            "    128/200       2.3G     0.2963     0.2114     0.8767          1        640: 100%|██████████| 75/75 [00:24<00:00,  3.08it/s]\n",
            "                 Class     Images  Instances      Box(P          R      mAP50  mAP50-95): 100%|██████████| 4/4 [00:01<00:00,  3.16it/s]"
          ]
        },
        {
          "output_type": "stream",
          "name": "stdout",
          "text": [
            "                   all        114        121      0.994      0.934       0.96      0.955\n"
          ]
        },
        {
          "output_type": "stream",
          "name": "stderr",
          "text": [
            "\n"
          ]
        },
        {
          "output_type": "stream",
          "name": "stdout",
          "text": [
            "\n",
            "      Epoch    GPU_mem   box_loss   cls_loss   dfl_loss  Instances       Size\n"
          ]
        },
        {
          "output_type": "stream",
          "name": "stderr",
          "text": [
            "    129/200      2.31G     0.2959     0.2137      0.884          1        640: 100%|██████████| 75/75 [00:27<00:00,  2.74it/s]\n",
            "                 Class     Images  Instances      Box(P          R      mAP50  mAP50-95): 100%|██████████| 4/4 [00:01<00:00,  3.20it/s]"
          ]
        },
        {
          "output_type": "stream",
          "name": "stdout",
          "text": [
            "                   all        114        121      0.996      0.934      0.961      0.957\n"
          ]
        },
        {
          "output_type": "stream",
          "name": "stderr",
          "text": [
            "\n"
          ]
        },
        {
          "output_type": "stream",
          "name": "stdout",
          "text": [
            "\n",
            "      Epoch    GPU_mem   box_loss   cls_loss   dfl_loss  Instances       Size\n"
          ]
        },
        {
          "output_type": "stream",
          "name": "stderr",
          "text": [
            "    130/200      2.31G     0.2795     0.2188     0.8624          0        640: 100%|██████████| 75/75 [00:24<00:00,  3.12it/s]\n",
            "                 Class     Images  Instances      Box(P          R      mAP50  mAP50-95): 100%|██████████| 4/4 [00:01<00:00,  3.12it/s]"
          ]
        },
        {
          "output_type": "stream",
          "name": "stdout",
          "text": [
            "                   all        114        121      0.992      0.934      0.958      0.948\n"
          ]
        },
        {
          "output_type": "stream",
          "name": "stderr",
          "text": [
            "\n"
          ]
        },
        {
          "output_type": "stream",
          "name": "stdout",
          "text": [
            "\n",
            "      Epoch    GPU_mem   box_loss   cls_loss   dfl_loss  Instances       Size\n"
          ]
        },
        {
          "output_type": "stream",
          "name": "stderr",
          "text": [
            "    131/200      2.31G     0.2958     0.2093      0.877          2        640: 100%|██████████| 75/75 [00:28<00:00,  2.67it/s]\n",
            "                 Class     Images  Instances      Box(P          R      mAP50  mAP50-95): 100%|██████████| 4/4 [00:01<00:00,  2.38it/s]"
          ]
        },
        {
          "output_type": "stream",
          "name": "stdout",
          "text": [
            "                   all        114        121      0.996      0.935      0.966      0.959\n"
          ]
        },
        {
          "output_type": "stream",
          "name": "stderr",
          "text": [
            "\n"
          ]
        },
        {
          "output_type": "stream",
          "name": "stdout",
          "text": [
            "\n",
            "      Epoch    GPU_mem   box_loss   cls_loss   dfl_loss  Instances       Size\n"
          ]
        },
        {
          "output_type": "stream",
          "name": "stderr",
          "text": [
            "    132/200       2.3G     0.2875     0.2015     0.8684          2        640: 100%|██████████| 75/75 [00:24<00:00,  3.07it/s]\n",
            "                 Class     Images  Instances      Box(P          R      mAP50  mAP50-95): 100%|██████████| 4/4 [00:01<00:00,  3.27it/s]"
          ]
        },
        {
          "output_type": "stream",
          "name": "stdout",
          "text": [
            "                   all        114        121      0.996      0.935      0.971       0.96\n"
          ]
        },
        {
          "output_type": "stream",
          "name": "stderr",
          "text": [
            "\n"
          ]
        },
        {
          "output_type": "stream",
          "name": "stdout",
          "text": [
            "\n",
            "      Epoch    GPU_mem   box_loss   cls_loss   dfl_loss  Instances       Size\n"
          ]
        },
        {
          "output_type": "stream",
          "name": "stderr",
          "text": [
            "    133/200      2.32G     0.2854     0.1946     0.8709          1        640: 100%|██████████| 75/75 [00:27<00:00,  2.74it/s]\n",
            "                 Class     Images  Instances      Box(P          R      mAP50  mAP50-95): 100%|██████████| 4/4 [00:02<00:00,  1.87it/s]"
          ]
        },
        {
          "output_type": "stream",
          "name": "stdout",
          "text": [
            "                   all        114        121      0.996      0.935      0.962      0.957\n"
          ]
        },
        {
          "output_type": "stream",
          "name": "stderr",
          "text": [
            "\n"
          ]
        },
        {
          "output_type": "stream",
          "name": "stdout",
          "text": [
            "\n",
            "      Epoch    GPU_mem   box_loss   cls_loss   dfl_loss  Instances       Size\n"
          ]
        },
        {
          "output_type": "stream",
          "name": "stderr",
          "text": [
            "    134/200      2.31G     0.2841     0.1931     0.8717          4        640: 100%|██████████| 75/75 [00:24<00:00,  3.04it/s]\n",
            "                 Class     Images  Instances      Box(P          R      mAP50  mAP50-95): 100%|██████████| 4/4 [00:01<00:00,  2.91it/s]"
          ]
        },
        {
          "output_type": "stream",
          "name": "stdout",
          "text": [
            "                   all        114        121      0.997      0.934       0.96      0.957\n"
          ]
        },
        {
          "output_type": "stream",
          "name": "stderr",
          "text": [
            "\n"
          ]
        },
        {
          "output_type": "stream",
          "name": "stdout",
          "text": [
            "\n",
            "      Epoch    GPU_mem   box_loss   cls_loss   dfl_loss  Instances       Size\n"
          ]
        },
        {
          "output_type": "stream",
          "name": "stderr",
          "text": [
            "    135/200      2.31G     0.2779     0.2068     0.8745          2        640: 100%|██████████| 75/75 [00:27<00:00,  2.77it/s]\n",
            "                 Class     Images  Instances      Box(P          R      mAP50  mAP50-95): 100%|██████████| 4/4 [00:02<00:00,  1.85it/s]"
          ]
        },
        {
          "output_type": "stream",
          "name": "stdout",
          "text": [
            "                   all        114        121      0.995      0.934      0.956      0.951\n"
          ]
        },
        {
          "output_type": "stream",
          "name": "stderr",
          "text": [
            "\n"
          ]
        },
        {
          "output_type": "stream",
          "name": "stdout",
          "text": [
            "\n",
            "      Epoch    GPU_mem   box_loss   cls_loss   dfl_loss  Instances       Size\n"
          ]
        },
        {
          "output_type": "stream",
          "name": "stderr",
          "text": [
            "    136/200       2.3G     0.2867     0.1988     0.8687          3        640: 100%|██████████| 75/75 [00:24<00:00,  3.05it/s]\n",
            "                 Class     Images  Instances      Box(P          R      mAP50  mAP50-95): 100%|██████████| 4/4 [00:01<00:00,  3.09it/s]"
          ]
        },
        {
          "output_type": "stream",
          "name": "stdout",
          "text": [
            "                   all        114        121      0.997      0.934      0.963      0.959\n"
          ]
        },
        {
          "output_type": "stream",
          "name": "stderr",
          "text": [
            "\n"
          ]
        },
        {
          "output_type": "stream",
          "name": "stdout",
          "text": [
            "\n",
            "      Epoch    GPU_mem   box_loss   cls_loss   dfl_loss  Instances       Size\n"
          ]
        },
        {
          "output_type": "stream",
          "name": "stderr",
          "text": [
            "    137/200      2.31G     0.2924     0.2083     0.8706          2        640: 100%|██████████| 75/75 [00:32<00:00,  2.32it/s]\n",
            "                 Class     Images  Instances      Box(P          R      mAP50  mAP50-95): 100%|██████████| 4/4 [00:01<00:00,  2.98it/s]"
          ]
        },
        {
          "output_type": "stream",
          "name": "stdout",
          "text": [
            "                   all        114        121      0.996      0.934       0.96      0.956\n"
          ]
        },
        {
          "output_type": "stream",
          "name": "stderr",
          "text": [
            "\n"
          ]
        },
        {
          "output_type": "stream",
          "name": "stdout",
          "text": [
            "\n",
            "      Epoch    GPU_mem   box_loss   cls_loss   dfl_loss  Instances       Size\n"
          ]
        },
        {
          "output_type": "stream",
          "name": "stderr",
          "text": [
            "    138/200      2.32G     0.2876     0.2018     0.8736          2        640: 100%|██████████| 75/75 [00:24<00:00,  3.05it/s]\n",
            "                 Class     Images  Instances      Box(P          R      mAP50  mAP50-95): 100%|██████████| 4/4 [00:01<00:00,  2.89it/s]"
          ]
        },
        {
          "output_type": "stream",
          "name": "stdout",
          "text": [
            "                   all        114        121      0.997      0.934      0.961      0.955\n"
          ]
        },
        {
          "output_type": "stream",
          "name": "stderr",
          "text": [
            "\n"
          ]
        },
        {
          "output_type": "stream",
          "name": "stdout",
          "text": [
            "\n",
            "      Epoch    GPU_mem   box_loss   cls_loss   dfl_loss  Instances       Size\n"
          ]
        },
        {
          "output_type": "stream",
          "name": "stderr",
          "text": [
            "    139/200      2.31G     0.2833     0.1979     0.8738          3        640: 100%|██████████| 75/75 [00:27<00:00,  2.70it/s]\n",
            "                 Class     Images  Instances      Box(P          R      mAP50  mAP50-95): 100%|██████████| 4/4 [00:01<00:00,  3.13it/s]\n"
          ]
        },
        {
          "output_type": "stream",
          "name": "stdout",
          "text": [
            "                   all        114        121      0.992      0.934      0.957       0.95\n",
            "\n",
            "      Epoch    GPU_mem   box_loss   cls_loss   dfl_loss  Instances       Size\n"
          ]
        },
        {
          "output_type": "stream",
          "name": "stderr",
          "text": [
            "    140/200       2.3G     0.2821      0.197     0.8733          2        640: 100%|██████████| 75/75 [00:24<00:00,  3.12it/s]\n",
            "                 Class     Images  Instances      Box(P          R      mAP50  mAP50-95): 100%|██████████| 4/4 [00:01<00:00,  3.04it/s]"
          ]
        },
        {
          "output_type": "stream",
          "name": "stdout",
          "text": [
            "                   all        114        121      0.995      0.934      0.958      0.952\n"
          ]
        },
        {
          "output_type": "stream",
          "name": "stderr",
          "text": [
            "\n"
          ]
        },
        {
          "output_type": "stream",
          "name": "stdout",
          "text": [
            "\n",
            "      Epoch    GPU_mem   box_loss   cls_loss   dfl_loss  Instances       Size\n"
          ]
        },
        {
          "output_type": "stream",
          "name": "stderr",
          "text": [
            "    141/200      2.31G     0.2737     0.1971       0.86          0        640: 100%|██████████| 75/75 [00:28<00:00,  2.64it/s]\n",
            "                 Class     Images  Instances      Box(P          R      mAP50  mAP50-95): 100%|██████████| 4/4 [00:01<00:00,  2.91it/s]"
          ]
        },
        {
          "output_type": "stream",
          "name": "stdout",
          "text": [
            "                   all        114        121      0.995      0.934      0.957      0.952\n"
          ]
        },
        {
          "output_type": "stream",
          "name": "stderr",
          "text": [
            "\n"
          ]
        },
        {
          "output_type": "stream",
          "name": "stdout",
          "text": [
            "\n",
            "      Epoch    GPU_mem   box_loss   cls_loss   dfl_loss  Instances       Size\n"
          ]
        },
        {
          "output_type": "stream",
          "name": "stderr",
          "text": [
            "    142/200      2.31G     0.2836     0.2082     0.8714          3        640: 100%|██████████| 75/75 [00:24<00:00,  3.07it/s]\n",
            "                 Class     Images  Instances      Box(P          R      mAP50  mAP50-95): 100%|██████████| 4/4 [00:01<00:00,  2.34it/s]"
          ]
        },
        {
          "output_type": "stream",
          "name": "stdout",
          "text": [
            "                   all        114        121      0.996      0.934      0.955      0.951\n"
          ]
        },
        {
          "output_type": "stream",
          "name": "stderr",
          "text": [
            "\n"
          ]
        },
        {
          "output_type": "stream",
          "name": "stdout",
          "text": [
            "\n",
            "      Epoch    GPU_mem   box_loss   cls_loss   dfl_loss  Instances       Size\n"
          ]
        },
        {
          "output_type": "stream",
          "name": "stderr",
          "text": [
            "    143/200      2.31G     0.2702     0.1932     0.8693          2        640: 100%|██████████| 75/75 [00:27<00:00,  2.77it/s]\n",
            "                 Class     Images  Instances      Box(P          R      mAP50  mAP50-95): 100%|██████████| 4/4 [00:01<00:00,  2.73it/s]"
          ]
        },
        {
          "output_type": "stream",
          "name": "stdout",
          "text": [
            "                   all        114        121      0.996      0.934      0.965      0.953\n"
          ]
        },
        {
          "output_type": "stream",
          "name": "stderr",
          "text": [
            "\n"
          ]
        },
        {
          "output_type": "stream",
          "name": "stdout",
          "text": [
            "\n",
            "      Epoch    GPU_mem   box_loss   cls_loss   dfl_loss  Instances       Size\n"
          ]
        },
        {
          "output_type": "stream",
          "name": "stderr",
          "text": [
            "    144/200      2.31G      0.278      0.195     0.8723          2        640: 100%|██████████| 75/75 [00:24<00:00,  3.08it/s]\n",
            "                 Class     Images  Instances      Box(P          R      mAP50  mAP50-95): 100%|██████████| 4/4 [00:02<00:00,  1.91it/s]"
          ]
        },
        {
          "output_type": "stream",
          "name": "stdout",
          "text": [
            "                   all        114        121      0.995      0.934      0.963      0.957\n"
          ]
        },
        {
          "output_type": "stream",
          "name": "stderr",
          "text": [
            "\n"
          ]
        },
        {
          "output_type": "stream",
          "name": "stdout",
          "text": [
            "\n",
            "      Epoch    GPU_mem   box_loss   cls_loss   dfl_loss  Instances       Size\n"
          ]
        },
        {
          "output_type": "stream",
          "name": "stderr",
          "text": [
            "    145/200      2.31G     0.2832     0.1938      0.868          2        640: 100%|██████████| 75/75 [00:26<00:00,  2.82it/s]\n",
            "                 Class     Images  Instances      Box(P          R      mAP50  mAP50-95): 100%|██████████| 4/4 [00:01<00:00,  3.31it/s]"
          ]
        },
        {
          "output_type": "stream",
          "name": "stdout",
          "text": [
            "                   all        114        121      0.997      0.935      0.967      0.961\n"
          ]
        },
        {
          "output_type": "stream",
          "name": "stderr",
          "text": [
            "\n"
          ]
        },
        {
          "output_type": "stream",
          "name": "stdout",
          "text": [
            "\n",
            "      Epoch    GPU_mem   box_loss   cls_loss   dfl_loss  Instances       Size\n"
          ]
        },
        {
          "output_type": "stream",
          "name": "stderr",
          "text": [
            "    146/200      2.31G     0.2735      0.189     0.8734          1        640: 100%|██████████| 75/75 [00:23<00:00,  3.13it/s]\n",
            "                 Class     Images  Instances      Box(P          R      mAP50  mAP50-95): 100%|██████████| 4/4 [00:02<00:00,  1.95it/s]"
          ]
        },
        {
          "output_type": "stream",
          "name": "stdout",
          "text": [
            "                   all        114        121      0.997      0.934      0.964      0.958\n"
          ]
        },
        {
          "output_type": "stream",
          "name": "stderr",
          "text": [
            "\n"
          ]
        },
        {
          "output_type": "stream",
          "name": "stdout",
          "text": [
            "\n",
            "      Epoch    GPU_mem   box_loss   cls_loss   dfl_loss  Instances       Size\n"
          ]
        },
        {
          "output_type": "stream",
          "name": "stderr",
          "text": [
            "    147/200      2.31G     0.2913     0.2413     0.8792          4        640: 100%|██████████| 75/75 [00:27<00:00,  2.76it/s]\n",
            "                 Class     Images  Instances      Box(P          R      mAP50  mAP50-95): 100%|██████████| 4/4 [00:01<00:00,  2.62it/s]"
          ]
        },
        {
          "output_type": "stream",
          "name": "stdout",
          "text": [
            "                   all        114        121      0.997      0.934      0.958      0.952\n"
          ]
        },
        {
          "output_type": "stream",
          "name": "stderr",
          "text": [
            "\n"
          ]
        },
        {
          "output_type": "stream",
          "name": "stdout",
          "text": [
            "\n",
            "      Epoch    GPU_mem   box_loss   cls_loss   dfl_loss  Instances       Size\n"
          ]
        },
        {
          "output_type": "stream",
          "name": "stderr",
          "text": [
            "    148/200       2.3G     0.2913     0.1994     0.8718          1        640: 100%|██████████| 75/75 [00:28<00:00,  2.64it/s]\n",
            "                 Class     Images  Instances      Box(P          R      mAP50  mAP50-95): 100%|██████████| 4/4 [00:02<00:00,  1.51it/s]"
          ]
        },
        {
          "output_type": "stream",
          "name": "stdout",
          "text": [
            "                   all        114        121      0.997      0.934      0.961      0.957\n"
          ]
        },
        {
          "output_type": "stream",
          "name": "stderr",
          "text": [
            "\n"
          ]
        },
        {
          "output_type": "stream",
          "name": "stdout",
          "text": [
            "\n",
            "      Epoch    GPU_mem   box_loss   cls_loss   dfl_loss  Instances       Size\n"
          ]
        },
        {
          "output_type": "stream",
          "name": "stderr",
          "text": [
            "    149/200      2.32G     0.2796     0.1912     0.8751          3        640: 100%|██████████| 75/75 [00:24<00:00,  3.10it/s]\n",
            "                 Class     Images  Instances      Box(P          R      mAP50  mAP50-95): 100%|██████████| 4/4 [00:01<00:00,  2.99it/s]"
          ]
        },
        {
          "output_type": "stream",
          "name": "stdout",
          "text": [
            "                   all        114        121      0.996      0.934      0.963      0.959\n"
          ]
        },
        {
          "output_type": "stream",
          "name": "stderr",
          "text": [
            "\n"
          ]
        },
        {
          "output_type": "stream",
          "name": "stdout",
          "text": [
            "\n",
            "      Epoch    GPU_mem   box_loss   cls_loss   dfl_loss  Instances       Size\n"
          ]
        },
        {
          "output_type": "stream",
          "name": "stderr",
          "text": [
            "    150/200      2.31G     0.2831     0.1989     0.8787          1        640: 100%|██████████| 75/75 [00:26<00:00,  2.88it/s]\n",
            "                 Class     Images  Instances      Box(P          R      mAP50  mAP50-95): 100%|██████████| 4/4 [00:02<00:00,  1.51it/s]"
          ]
        },
        {
          "output_type": "stream",
          "name": "stdout",
          "text": [
            "                   all        114        121      0.996      0.934      0.963      0.958\n"
          ]
        },
        {
          "output_type": "stream",
          "name": "stderr",
          "text": [
            "\n"
          ]
        },
        {
          "output_type": "stream",
          "name": "stdout",
          "text": [
            "\n",
            "      Epoch    GPU_mem   box_loss   cls_loss   dfl_loss  Instances       Size\n"
          ]
        },
        {
          "output_type": "stream",
          "name": "stderr",
          "text": [
            "    151/200      2.31G     0.2641     0.1869     0.8681          4        640: 100%|██████████| 75/75 [00:25<00:00,  2.99it/s]\n",
            "                 Class     Images  Instances      Box(P          R      mAP50  mAP50-95): 100%|██████████| 4/4 [00:01<00:00,  2.82it/s]"
          ]
        },
        {
          "output_type": "stream",
          "name": "stdout",
          "text": [
            "                   all        114        121      0.998      0.934      0.959      0.952\n"
          ]
        },
        {
          "output_type": "stream",
          "name": "stderr",
          "text": [
            "\n"
          ]
        },
        {
          "output_type": "stream",
          "name": "stdout",
          "text": [
            "\n",
            "      Epoch    GPU_mem   box_loss   cls_loss   dfl_loss  Instances       Size\n"
          ]
        },
        {
          "output_type": "stream",
          "name": "stderr",
          "text": [
            "    152/200       2.3G      0.274     0.1913     0.8697          2        640: 100%|██████████| 75/75 [00:27<00:00,  2.75it/s]\n",
            "                 Class     Images  Instances      Box(P          R      mAP50  mAP50-95): 100%|██████████| 4/4 [00:02<00:00,  1.55it/s]"
          ]
        },
        {
          "output_type": "stream",
          "name": "stdout",
          "text": [
            "                   all        114        121      0.997      0.934       0.96      0.953\n"
          ]
        },
        {
          "output_type": "stream",
          "name": "stderr",
          "text": [
            "\n"
          ]
        },
        {
          "output_type": "stream",
          "name": "stdout",
          "text": [
            "\n",
            "      Epoch    GPU_mem   box_loss   cls_loss   dfl_loss  Instances       Size\n"
          ]
        },
        {
          "output_type": "stream",
          "name": "stderr",
          "text": [
            "    153/200      2.31G     0.2765      0.203     0.8719          2        640: 100%|██████████| 75/75 [00:24<00:00,  3.02it/s]\n",
            "                 Class     Images  Instances      Box(P          R      mAP50  mAP50-95): 100%|██████████| 4/4 [00:01<00:00,  3.22it/s]"
          ]
        },
        {
          "output_type": "stream",
          "name": "stdout",
          "text": [
            "                   all        114        121      0.997      0.934      0.962      0.956\n"
          ]
        },
        {
          "output_type": "stream",
          "name": "stderr",
          "text": [
            "\n"
          ]
        },
        {
          "output_type": "stream",
          "name": "stdout",
          "text": [
            "\n",
            "      Epoch    GPU_mem   box_loss   cls_loss   dfl_loss  Instances       Size\n"
          ]
        },
        {
          "output_type": "stream",
          "name": "stderr",
          "text": [
            "    154/200      2.31G     0.2804     0.1926     0.8707          2        640: 100%|██████████| 75/75 [00:26<00:00,  2.82it/s]\n",
            "                 Class     Images  Instances      Box(P          R      mAP50  mAP50-95): 100%|██████████| 4/4 [00:02<00:00,  1.47it/s]"
          ]
        },
        {
          "output_type": "stream",
          "name": "stdout",
          "text": [
            "                   all        114        121      0.996      0.934      0.962      0.957\n"
          ]
        },
        {
          "output_type": "stream",
          "name": "stderr",
          "text": [
            "\n"
          ]
        },
        {
          "output_type": "stream",
          "name": "stdout",
          "text": [
            "\n",
            "      Epoch    GPU_mem   box_loss   cls_loss   dfl_loss  Instances       Size\n"
          ]
        },
        {
          "output_type": "stream",
          "name": "stderr",
          "text": [
            "    155/200      2.31G      0.276     0.1904      0.873          1        640: 100%|██████████| 75/75 [00:24<00:00,  3.02it/s]\n",
            "                 Class     Images  Instances      Box(P          R      mAP50  mAP50-95): 100%|██████████| 4/4 [00:01<00:00,  2.86it/s]"
          ]
        },
        {
          "output_type": "stream",
          "name": "stdout",
          "text": [
            "                   all        114        121      0.996      0.934      0.962      0.953\n"
          ]
        },
        {
          "output_type": "stream",
          "name": "stderr",
          "text": [
            "\n"
          ]
        },
        {
          "output_type": "stream",
          "name": "stdout",
          "text": [
            "\n",
            "      Epoch    GPU_mem   box_loss   cls_loss   dfl_loss  Instances       Size\n"
          ]
        },
        {
          "output_type": "stream",
          "name": "stderr",
          "text": [
            "    156/200       2.3G     0.2692     0.1873     0.8675          1        640: 100%|██████████| 75/75 [00:26<00:00,  2.83it/s]\n",
            "                 Class     Images  Instances      Box(P          R      mAP50  mAP50-95): 100%|██████████| 4/4 [00:02<00:00,  1.53it/s]"
          ]
        },
        {
          "output_type": "stream",
          "name": "stdout",
          "text": [
            "                   all        114        121      0.997      0.934      0.967      0.959\n"
          ]
        },
        {
          "output_type": "stream",
          "name": "stderr",
          "text": [
            "\n"
          ]
        },
        {
          "output_type": "stream",
          "name": "stdout",
          "text": [
            "\n",
            "      Epoch    GPU_mem   box_loss   cls_loss   dfl_loss  Instances       Size\n"
          ]
        },
        {
          "output_type": "stream",
          "name": "stderr",
          "text": [
            "    157/200      2.31G     0.2647     0.1801     0.8683          4        640: 100%|██████████| 75/75 [00:24<00:00,  3.01it/s]\n",
            "                 Class     Images  Instances      Box(P          R      mAP50  mAP50-95): 100%|██████████| 4/4 [00:01<00:00,  3.22it/s]"
          ]
        },
        {
          "output_type": "stream",
          "name": "stdout",
          "text": [
            "                   all        114        121      0.996      0.934      0.963      0.954\n"
          ]
        },
        {
          "output_type": "stream",
          "name": "stderr",
          "text": [
            "\n"
          ]
        },
        {
          "output_type": "stream",
          "name": "stdout",
          "text": [
            "\n",
            "      Epoch    GPU_mem   box_loss   cls_loss   dfl_loss  Instances       Size\n"
          ]
        },
        {
          "output_type": "stream",
          "name": "stderr",
          "text": [
            "    158/200      2.31G     0.2663     0.1836     0.8639          3        640: 100%|██████████| 75/75 [00:32<00:00,  2.28it/s]\n",
            "                 Class     Images  Instances      Box(P          R      mAP50  mAP50-95): 100%|██████████| 4/4 [00:01<00:00,  2.75it/s]"
          ]
        },
        {
          "output_type": "stream",
          "name": "stdout",
          "text": [
            "                   all        114        121      0.995      0.934      0.966      0.954\n"
          ]
        },
        {
          "output_type": "stream",
          "name": "stderr",
          "text": [
            "\n"
          ]
        },
        {
          "output_type": "stream",
          "name": "stdout",
          "text": [
            "\n",
            "      Epoch    GPU_mem   box_loss   cls_loss   dfl_loss  Instances       Size\n"
          ]
        },
        {
          "output_type": "stream",
          "name": "stderr",
          "text": [
            "    159/200      2.31G     0.2619     0.1827     0.8743          1        640: 100%|██████████| 75/75 [00:24<00:00,  3.05it/s]\n",
            "                 Class     Images  Instances      Box(P          R      mAP50  mAP50-95): 100%|██████████| 4/4 [00:02<00:00,  1.89it/s]"
          ]
        },
        {
          "output_type": "stream",
          "name": "stdout",
          "text": [
            "                   all        114        121      0.995      0.934      0.965      0.956\n"
          ]
        },
        {
          "output_type": "stream",
          "name": "stderr",
          "text": [
            "\n"
          ]
        },
        {
          "output_type": "stream",
          "name": "stdout",
          "text": [
            "\n",
            "      Epoch    GPU_mem   box_loss   cls_loss   dfl_loss  Instances       Size\n"
          ]
        },
        {
          "output_type": "stream",
          "name": "stderr",
          "text": [
            "    160/200       2.3G     0.2626     0.1794     0.8696          1        640: 100%|██████████| 75/75 [00:26<00:00,  2.81it/s]\n",
            "                 Class     Images  Instances      Box(P          R      mAP50  mAP50-95): 100%|██████████| 4/4 [00:01<00:00,  3.33it/s]"
          ]
        },
        {
          "output_type": "stream",
          "name": "stdout",
          "text": [
            "                   all        114        121      0.995      0.934      0.962      0.957\n"
          ]
        },
        {
          "output_type": "stream",
          "name": "stderr",
          "text": [
            "\n"
          ]
        },
        {
          "output_type": "stream",
          "name": "stdout",
          "text": [
            "\n",
            "      Epoch    GPU_mem   box_loss   cls_loss   dfl_loss  Instances       Size\n"
          ]
        },
        {
          "output_type": "stream",
          "name": "stderr",
          "text": [
            "    161/200      2.31G     0.2657     0.1788     0.8681          1        640: 100%|██████████| 75/75 [00:24<00:00,  3.07it/s]\n",
            "                 Class     Images  Instances      Box(P          R      mAP50  mAP50-95): 100%|██████████| 4/4 [00:02<00:00,  1.81it/s]"
          ]
        },
        {
          "output_type": "stream",
          "name": "stdout",
          "text": [
            "                   all        114        121      0.995      0.934      0.961      0.954\n"
          ]
        },
        {
          "output_type": "stream",
          "name": "stderr",
          "text": [
            "\n"
          ]
        },
        {
          "output_type": "stream",
          "name": "stdout",
          "text": [
            "\n",
            "      Epoch    GPU_mem   box_loss   cls_loss   dfl_loss  Instances       Size\n"
          ]
        },
        {
          "output_type": "stream",
          "name": "stderr",
          "text": [
            "    162/200      2.31G     0.2659     0.1835     0.8666          3        640: 100%|██████████| 75/75 [00:27<00:00,  2.74it/s]\n",
            "                 Class     Images  Instances      Box(P          R      mAP50  mAP50-95): 100%|██████████| 4/4 [00:01<00:00,  3.13it/s]\n"
          ]
        },
        {
          "output_type": "stream",
          "name": "stdout",
          "text": [
            "                   all        114        121      0.995      0.934       0.96      0.955\n",
            "\n",
            "      Epoch    GPU_mem   box_loss   cls_loss   dfl_loss  Instances       Size\n"
          ]
        },
        {
          "output_type": "stream",
          "name": "stderr",
          "text": [
            "    163/200      2.31G     0.2644     0.1916     0.8671          1        640: 100%|██████████| 75/75 [00:26<00:00,  2.88it/s]\n",
            "                 Class     Images  Instances      Box(P          R      mAP50  mAP50-95): 100%|██████████| 4/4 [00:02<00:00,  1.49it/s]"
          ]
        },
        {
          "output_type": "stream",
          "name": "stdout",
          "text": [
            "                   all        114        121      0.997      0.935      0.966      0.961\n"
          ]
        },
        {
          "output_type": "stream",
          "name": "stderr",
          "text": [
            "\n"
          ]
        },
        {
          "output_type": "stream",
          "name": "stdout",
          "text": [
            "\n",
            "      Epoch    GPU_mem   box_loss   cls_loss   dfl_loss  Instances       Size\n"
          ]
        },
        {
          "output_type": "stream",
          "name": "stderr",
          "text": [
            "    164/200       2.3G     0.2821     0.1944     0.8843          1        640: 100%|██████████| 75/75 [00:25<00:00,  2.91it/s]\n",
            "                 Class     Images  Instances      Box(P          R      mAP50  mAP50-95): 100%|██████████| 4/4 [00:01<00:00,  2.91it/s]\n"
          ]
        },
        {
          "output_type": "stream",
          "name": "stdout",
          "text": [
            "                   all        114        121      0.997      0.935      0.968      0.959\n",
            "\n",
            "      Epoch    GPU_mem   box_loss   cls_loss   dfl_loss  Instances       Size\n"
          ]
        },
        {
          "output_type": "stream",
          "name": "stderr",
          "text": [
            "    165/200      2.32G     0.2647     0.1811     0.8693          4        640: 100%|██████████| 75/75 [00:25<00:00,  2.91it/s]\n",
            "                 Class     Images  Instances      Box(P          R      mAP50  mAP50-95): 100%|██████████| 4/4 [00:02<00:00,  1.75it/s]"
          ]
        },
        {
          "output_type": "stream",
          "name": "stdout",
          "text": [
            "                   all        114        121      0.997      0.935      0.967      0.961\n"
          ]
        },
        {
          "output_type": "stream",
          "name": "stderr",
          "text": [
            "\n"
          ]
        },
        {
          "output_type": "stream",
          "name": "stdout",
          "text": [
            "\n",
            "      Epoch    GPU_mem   box_loss   cls_loss   dfl_loss  Instances       Size\n"
          ]
        },
        {
          "output_type": "stream",
          "name": "stderr",
          "text": [
            "    166/200      2.31G     0.2586     0.1782     0.8688          1        640: 100%|██████████| 75/75 [00:26<00:00,  2.87it/s]\n",
            "                 Class     Images  Instances      Box(P          R      mAP50  mAP50-95): 100%|██████████| 4/4 [00:01<00:00,  2.80it/s]\n"
          ]
        },
        {
          "output_type": "stream",
          "name": "stdout",
          "text": [
            "                   all        114        121      0.997      0.935      0.965      0.959\n",
            "\n",
            "      Epoch    GPU_mem   box_loss   cls_loss   dfl_loss  Instances       Size\n"
          ]
        },
        {
          "output_type": "stream",
          "name": "stderr",
          "text": [
            "    167/200      2.31G     0.2589     0.1753      0.867          1        640: 100%|██████████| 75/75 [00:25<00:00,  2.95it/s]\n",
            "                 Class     Images  Instances      Box(P          R      mAP50  mAP50-95): 100%|██████████| 4/4 [00:02<00:00,  1.62it/s]"
          ]
        },
        {
          "output_type": "stream",
          "name": "stdout",
          "text": [
            "                   all        114        121      0.997      0.935      0.967      0.962\n"
          ]
        },
        {
          "output_type": "stream",
          "name": "stderr",
          "text": [
            "\n"
          ]
        },
        {
          "output_type": "stream",
          "name": "stdout",
          "text": [
            "\n",
            "      Epoch    GPU_mem   box_loss   cls_loss   dfl_loss  Instances       Size\n"
          ]
        },
        {
          "output_type": "stream",
          "name": "stderr",
          "text": [
            "    168/200       2.3G     0.2611     0.1796     0.8651          3        640: 100%|██████████| 75/75 [00:27<00:00,  2.70it/s]\n",
            "                 Class     Images  Instances      Box(P          R      mAP50  mAP50-95): 100%|██████████| 4/4 [00:02<00:00,  1.69it/s]"
          ]
        },
        {
          "output_type": "stream",
          "name": "stdout",
          "text": [
            "                   all        114        121      0.997      0.935      0.967      0.961\n"
          ]
        },
        {
          "output_type": "stream",
          "name": "stderr",
          "text": [
            "\n"
          ]
        },
        {
          "output_type": "stream",
          "name": "stdout",
          "text": [
            "\n",
            "      Epoch    GPU_mem   box_loss   cls_loss   dfl_loss  Instances       Size\n"
          ]
        },
        {
          "output_type": "stream",
          "name": "stderr",
          "text": [
            "    169/200      2.31G     0.2584     0.1785     0.8603          1        640: 100%|██████████| 75/75 [00:28<00:00,  2.68it/s]\n",
            "                 Class     Images  Instances      Box(P          R      mAP50  mAP50-95): 100%|██████████| 4/4 [00:02<00:00,  1.49it/s]"
          ]
        },
        {
          "output_type": "stream",
          "name": "stdout",
          "text": [
            "                   all        114        121      0.997      0.935      0.967      0.962\n"
          ]
        },
        {
          "output_type": "stream",
          "name": "stderr",
          "text": [
            "\n"
          ]
        },
        {
          "output_type": "stream",
          "name": "stdout",
          "text": [
            "\n",
            "      Epoch    GPU_mem   box_loss   cls_loss   dfl_loss  Instances       Size\n"
          ]
        },
        {
          "output_type": "stream",
          "name": "stderr",
          "text": [
            "    170/200      2.31G     0.2563     0.1755      0.865          1        640: 100%|██████████| 75/75 [00:25<00:00,  3.00it/s]\n",
            "                 Class     Images  Instances      Box(P          R      mAP50  mAP50-95): 100%|██████████| 4/4 [00:01<00:00,  2.93it/s]"
          ]
        },
        {
          "output_type": "stream",
          "name": "stdout",
          "text": [
            "                   all        114        121      0.997      0.935      0.965      0.959\n"
          ]
        },
        {
          "output_type": "stream",
          "name": "stderr",
          "text": [
            "\n"
          ]
        },
        {
          "output_type": "stream",
          "name": "stdout",
          "text": [
            "\n",
            "      Epoch    GPU_mem   box_loss   cls_loss   dfl_loss  Instances       Size\n"
          ]
        },
        {
          "output_type": "stream",
          "name": "stderr",
          "text": [
            "    171/200      2.31G      0.257     0.1727     0.8609          3        640: 100%|██████████| 75/75 [00:26<00:00,  2.82it/s]\n",
            "                 Class     Images  Instances      Box(P          R      mAP50  mAP50-95): 100%|██████████| 4/4 [00:02<00:00,  1.45it/s]"
          ]
        },
        {
          "output_type": "stream",
          "name": "stdout",
          "text": [
            "                   all        114        121      0.997      0.935      0.967      0.963\n"
          ]
        },
        {
          "output_type": "stream",
          "name": "stderr",
          "text": [
            "\n"
          ]
        },
        {
          "output_type": "stream",
          "name": "stdout",
          "text": [
            "\n",
            "      Epoch    GPU_mem   box_loss   cls_loss   dfl_loss  Instances       Size\n"
          ]
        },
        {
          "output_type": "stream",
          "name": "stderr",
          "text": [
            "    172/200       2.3G     0.2546      0.196     0.8669          2        640: 100%|██████████| 75/75 [00:24<00:00,  3.05it/s]\n",
            "                 Class     Images  Instances      Box(P          R      mAP50  mAP50-95): 100%|██████████| 4/4 [00:01<00:00,  2.88it/s]"
          ]
        },
        {
          "output_type": "stream",
          "name": "stdout",
          "text": [
            "                   all        114        121      0.997      0.935      0.967      0.961\n"
          ]
        },
        {
          "output_type": "stream",
          "name": "stderr",
          "text": [
            "\n"
          ]
        },
        {
          "output_type": "stream",
          "name": "stdout",
          "text": [
            "\n",
            "      Epoch    GPU_mem   box_loss   cls_loss   dfl_loss  Instances       Size\n"
          ]
        },
        {
          "output_type": "stream",
          "name": "stderr",
          "text": [
            "    173/200      2.31G     0.2577     0.1729     0.8707          1        640: 100%|██████████| 75/75 [00:25<00:00,  2.94it/s]\n",
            "                 Class     Images  Instances      Box(P          R      mAP50  mAP50-95): 100%|██████████| 4/4 [00:02<00:00,  1.49it/s]"
          ]
        },
        {
          "output_type": "stream",
          "name": "stdout",
          "text": [
            "                   all        114        121      0.997      0.935      0.968      0.963\n"
          ]
        },
        {
          "output_type": "stream",
          "name": "stderr",
          "text": [
            "\n"
          ]
        },
        {
          "output_type": "stream",
          "name": "stdout",
          "text": [
            "\n",
            "      Epoch    GPU_mem   box_loss   cls_loss   dfl_loss  Instances       Size\n"
          ]
        },
        {
          "output_type": "stream",
          "name": "stderr",
          "text": [
            "    174/200      2.31G     0.2517     0.1709     0.8587          4        640: 100%|██████████| 75/75 [00:24<00:00,  3.05it/s]\n",
            "                 Class     Images  Instances      Box(P          R      mAP50  mAP50-95): 100%|██████████| 4/4 [00:01<00:00,  3.04it/s]"
          ]
        },
        {
          "output_type": "stream",
          "name": "stdout",
          "text": [
            "                   all        114        121      0.997      0.935      0.968       0.96\n"
          ]
        },
        {
          "output_type": "stream",
          "name": "stderr",
          "text": [
            "\n"
          ]
        },
        {
          "output_type": "stream",
          "name": "stdout",
          "text": [
            "\n",
            "      Epoch    GPU_mem   box_loss   cls_loss   dfl_loss  Instances       Size\n"
          ]
        },
        {
          "output_type": "stream",
          "name": "stderr",
          "text": [
            "    175/200      2.31G     0.2599     0.1751     0.8695          2        640: 100%|██████████| 75/75 [00:25<00:00,  2.90it/s]\n",
            "                 Class     Images  Instances      Box(P          R      mAP50  mAP50-95): 100%|██████████| 4/4 [00:02<00:00,  1.61it/s]"
          ]
        },
        {
          "output_type": "stream",
          "name": "stdout",
          "text": [
            "                   all        114        121      0.997      0.934      0.967      0.963\n"
          ]
        },
        {
          "output_type": "stream",
          "name": "stderr",
          "text": [
            "\n"
          ]
        },
        {
          "output_type": "stream",
          "name": "stdout",
          "text": [
            "\n",
            "      Epoch    GPU_mem   box_loss   cls_loss   dfl_loss  Instances       Size\n"
          ]
        },
        {
          "output_type": "stream",
          "name": "stderr",
          "text": [
            "    176/200       2.3G     0.2581     0.1728     0.8659          4        640: 100%|██████████| 75/75 [00:24<00:00,  3.03it/s]\n",
            "                 Class     Images  Instances      Box(P          R      mAP50  mAP50-95): 100%|██████████| 4/4 [00:01<00:00,  2.99it/s]"
          ]
        },
        {
          "output_type": "stream",
          "name": "stdout",
          "text": [
            "                   all        114        121      0.997      0.935      0.967      0.963\n"
          ]
        },
        {
          "output_type": "stream",
          "name": "stderr",
          "text": [
            "\n"
          ]
        },
        {
          "output_type": "stream",
          "name": "stdout",
          "text": [
            "\n",
            "      Epoch    GPU_mem   box_loss   cls_loss   dfl_loss  Instances       Size\n"
          ]
        },
        {
          "output_type": "stream",
          "name": "stderr",
          "text": [
            "    177/200      2.31G     0.2525     0.2298     0.8499          0        640: 100%|██████████| 75/75 [00:26<00:00,  2.88it/s]\n",
            "                 Class     Images  Instances      Box(P          R      mAP50  mAP50-95): 100%|██████████| 4/4 [00:02<00:00,  1.55it/s]"
          ]
        },
        {
          "output_type": "stream",
          "name": "stdout",
          "text": [
            "                   all        114        121      0.998      0.935      0.968      0.961\n"
          ]
        },
        {
          "output_type": "stream",
          "name": "stderr",
          "text": [
            "\n"
          ]
        },
        {
          "output_type": "stream",
          "name": "stdout",
          "text": [
            "\n",
            "      Epoch    GPU_mem   box_loss   cls_loss   dfl_loss  Instances       Size\n"
          ]
        },
        {
          "output_type": "stream",
          "name": "stderr",
          "text": [
            "    178/200      2.31G     0.2476     0.1712     0.8655          4        640: 100%|██████████| 75/75 [00:25<00:00,  2.95it/s]\n",
            "                 Class     Images  Instances      Box(P          R      mAP50  mAP50-95): 100%|██████████| 4/4 [00:01<00:00,  3.28it/s]"
          ]
        },
        {
          "output_type": "stream",
          "name": "stdout",
          "text": [
            "                   all        114        121      0.998      0.935      0.968       0.96\n"
          ]
        },
        {
          "output_type": "stream",
          "name": "stderr",
          "text": [
            "\n"
          ]
        },
        {
          "output_type": "stream",
          "name": "stdout",
          "text": [
            "\n",
            "      Epoch    GPU_mem   box_loss   cls_loss   dfl_loss  Instances       Size\n"
          ]
        },
        {
          "output_type": "stream",
          "name": "stderr",
          "text": [
            "    179/200      2.31G     0.2553      0.173      0.868          4        640: 100%|██████████| 75/75 [00:32<00:00,  2.29it/s]\n",
            "                 Class     Images  Instances      Box(P          R      mAP50  mAP50-95): 100%|██████████| 4/4 [00:01<00:00,  2.96it/s]\n"
          ]
        },
        {
          "output_type": "stream",
          "name": "stdout",
          "text": [
            "                   all        114        121      0.997      0.934      0.963      0.959\n",
            "\n",
            "      Epoch    GPU_mem   box_loss   cls_loss   dfl_loss  Instances       Size\n"
          ]
        },
        {
          "output_type": "stream",
          "name": "stderr",
          "text": [
            "    180/200       2.3G     0.2605     0.1772     0.8685          1        640: 100%|██████████| 75/75 [00:25<00:00,  2.99it/s]\n",
            "                 Class     Images  Instances      Box(P          R      mAP50  mAP50-95): 100%|██████████| 4/4 [00:01<00:00,  2.28it/s]"
          ]
        },
        {
          "output_type": "stream",
          "name": "stdout",
          "text": [
            "                   all        114        121      0.996      0.934      0.958      0.954\n"
          ]
        },
        {
          "output_type": "stream",
          "name": "stderr",
          "text": [
            "\n"
          ]
        },
        {
          "output_type": "stream",
          "name": "stdout",
          "text": [
            "\n",
            "      Epoch    GPU_mem   box_loss   cls_loss   dfl_loss  Instances       Size\n"
          ]
        },
        {
          "output_type": "stream",
          "name": "stderr",
          "text": [
            "    181/200      2.31G     0.2499     0.1696     0.8602          2        640: 100%|██████████| 75/75 [00:28<00:00,  2.63it/s]\n",
            "                 Class     Images  Instances      Box(P          R      mAP50  mAP50-95): 100%|██████████| 4/4 [00:01<00:00,  3.35it/s]"
          ]
        },
        {
          "output_type": "stream",
          "name": "stdout",
          "text": [
            "                   all        114        121      0.996      0.934      0.961      0.956\n"
          ]
        },
        {
          "output_type": "stream",
          "name": "stderr",
          "text": [
            "\n"
          ]
        },
        {
          "output_type": "stream",
          "name": "stdout",
          "text": [
            "\n",
            "      Epoch    GPU_mem   box_loss   cls_loss   dfl_loss  Instances       Size\n"
          ]
        },
        {
          "output_type": "stream",
          "name": "stderr",
          "text": [
            "    182/200      2.31G     0.2489     0.1681     0.8658          1        640: 100%|██████████| 75/75 [00:24<00:00,  3.05it/s]\n",
            "                 Class     Images  Instances      Box(P          R      mAP50  mAP50-95): 100%|██████████| 4/4 [00:02<00:00,  1.82it/s]"
          ]
        },
        {
          "output_type": "stream",
          "name": "stdout",
          "text": [
            "                   all        114        121      0.997      0.935      0.967      0.961\n"
          ]
        },
        {
          "output_type": "stream",
          "name": "stderr",
          "text": [
            "\n"
          ]
        },
        {
          "output_type": "stream",
          "name": "stdout",
          "text": [
            "\n",
            "      Epoch    GPU_mem   box_loss   cls_loss   dfl_loss  Instances       Size\n"
          ]
        },
        {
          "output_type": "stream",
          "name": "stderr",
          "text": [
            "    183/200      2.31G     0.2415     0.1611     0.8566          4        640: 100%|██████████| 75/75 [00:26<00:00,  2.88it/s]\n",
            "                 Class     Images  Instances      Box(P          R      mAP50  mAP50-95): 100%|██████████| 4/4 [00:01<00:00,  2.87it/s]"
          ]
        },
        {
          "output_type": "stream",
          "name": "stdout",
          "text": [
            "                   all        114        121      0.997      0.935      0.967      0.962\n"
          ]
        },
        {
          "output_type": "stream",
          "name": "stderr",
          "text": [
            "\n"
          ]
        },
        {
          "output_type": "stream",
          "name": "stdout",
          "text": [
            "\n",
            "      Epoch    GPU_mem   box_loss   cls_loss   dfl_loss  Instances       Size\n"
          ]
        },
        {
          "output_type": "stream",
          "name": "stderr",
          "text": [
            "    184/200       2.3G     0.2533     0.1681     0.8666          4        640: 100%|██████████| 75/75 [00:24<00:00,  3.04it/s]\n",
            "                 Class     Images  Instances      Box(P          R      mAP50  mAP50-95): 100%|██████████| 4/4 [00:02<00:00,  1.77it/s]"
          ]
        },
        {
          "output_type": "stream",
          "name": "stdout",
          "text": [
            "                   all        114        121      0.998      0.935      0.968      0.962\n"
          ]
        },
        {
          "output_type": "stream",
          "name": "stderr",
          "text": [
            "\n"
          ]
        },
        {
          "output_type": "stream",
          "name": "stdout",
          "text": [
            "\n",
            "      Epoch    GPU_mem   box_loss   cls_loss   dfl_loss  Instances       Size\n"
          ]
        },
        {
          "output_type": "stream",
          "name": "stderr",
          "text": [
            "    185/200      2.31G      0.255     0.1697     0.8782          2        640: 100%|██████████| 75/75 [00:26<00:00,  2.81it/s]\n",
            "                 Class     Images  Instances      Box(P          R      mAP50  mAP50-95): 100%|██████████| 4/4 [00:01<00:00,  2.91it/s]"
          ]
        },
        {
          "output_type": "stream",
          "name": "stdout",
          "text": [
            "                   all        114        121      0.998      0.935      0.968      0.962\n"
          ]
        },
        {
          "output_type": "stream",
          "name": "stderr",
          "text": [
            "\n"
          ]
        },
        {
          "output_type": "stream",
          "name": "stdout",
          "text": [
            "\n",
            "      Epoch    GPU_mem   box_loss   cls_loss   dfl_loss  Instances       Size\n"
          ]
        },
        {
          "output_type": "stream",
          "name": "stderr",
          "text": [
            "    186/200      2.31G     0.2448     0.1664     0.8715          1        640: 100%|██████████| 75/75 [00:25<00:00,  2.98it/s]\n",
            "                 Class     Images  Instances      Box(P          R      mAP50  mAP50-95): 100%|██████████| 4/4 [00:02<00:00,  1.80it/s]"
          ]
        },
        {
          "output_type": "stream",
          "name": "stdout",
          "text": [
            "                   all        114        121      0.998      0.935      0.967      0.961\n"
          ]
        },
        {
          "output_type": "stream",
          "name": "stderr",
          "text": [
            "\n"
          ]
        },
        {
          "output_type": "stream",
          "name": "stdout",
          "text": [
            "\n",
            "      Epoch    GPU_mem   box_loss   cls_loss   dfl_loss  Instances       Size\n"
          ]
        },
        {
          "output_type": "stream",
          "name": "stderr",
          "text": [
            "    187/200      2.31G      0.245     0.2573      0.849          0        640: 100%|██████████| 75/75 [00:26<00:00,  2.81it/s]\n",
            "                 Class     Images  Instances      Box(P          R      mAP50  mAP50-95): 100%|██████████| 4/4 [00:01<00:00,  2.91it/s]\n"
          ]
        },
        {
          "output_type": "stream",
          "name": "stdout",
          "text": [
            "                   all        114        121      0.997      0.934      0.965      0.961\n",
            "\n",
            "      Epoch    GPU_mem   box_loss   cls_loss   dfl_loss  Instances       Size\n"
          ]
        },
        {
          "output_type": "stream",
          "name": "stderr",
          "text": [
            "    188/200       2.3G     0.2485      0.171     0.8681          3        640: 100%|██████████| 75/75 [00:25<00:00,  2.95it/s]\n",
            "                 Class     Images  Instances      Box(P          R      mAP50  mAP50-95): 100%|██████████| 4/4 [00:02<00:00,  1.71it/s]"
          ]
        },
        {
          "output_type": "stream",
          "name": "stdout",
          "text": [
            "                   all        114        121      0.997      0.934      0.966      0.961\n"
          ]
        },
        {
          "output_type": "stream",
          "name": "stderr",
          "text": [
            "\n"
          ]
        },
        {
          "output_type": "stream",
          "name": "stdout",
          "text": [
            "\n",
            "      Epoch    GPU_mem   box_loss   cls_loss   dfl_loss  Instances       Size\n"
          ]
        },
        {
          "output_type": "stream",
          "name": "stderr",
          "text": [
            "    189/200      2.31G     0.2479     0.1656      0.862          1        640: 100%|██████████| 75/75 [00:26<00:00,  2.87it/s]\n",
            "                 Class     Images  Instances      Box(P          R      mAP50  mAP50-95): 100%|██████████| 4/4 [00:01<00:00,  3.16it/s]"
          ]
        },
        {
          "output_type": "stream",
          "name": "stdout",
          "text": [
            "                   all        114        121      0.997      0.934      0.966      0.961\n"
          ]
        },
        {
          "output_type": "stream",
          "name": "stderr",
          "text": [
            "\n"
          ]
        },
        {
          "output_type": "stream",
          "name": "stdout",
          "text": [
            "\n",
            "      Epoch    GPU_mem   box_loss   cls_loss   dfl_loss  Instances       Size\n"
          ]
        },
        {
          "output_type": "stream",
          "name": "stderr",
          "text": [
            "    190/200      2.31G     0.2498      0.168     0.8627          2        640: 100%|██████████| 75/75 [00:30<00:00,  2.49it/s]\n",
            "                 Class     Images  Instances      Box(P          R      mAP50  mAP50-95): 100%|██████████| 4/4 [00:02<00:00,  1.55it/s]"
          ]
        },
        {
          "output_type": "stream",
          "name": "stdout",
          "text": [
            "                   all        114        121      0.997      0.934      0.966      0.962\n"
          ]
        },
        {
          "output_type": "stream",
          "name": "stderr",
          "text": [
            "\n"
          ]
        },
        {
          "output_type": "stream",
          "name": "stdout",
          "text": [
            "Closing dataloader mosaic\n",
            "\u001b[34m\u001b[1malbumentations: \u001b[0mBlur(p=0.01, blur_limit=(3, 7)), MedianBlur(p=0.01, blur_limit=(3, 7)), ToGray(p=0.01), CLAHE(p=0.01, clip_limit=(1, 4.0), tile_grid_size=(8, 8))\n"
          ]
        },
        {
          "output_type": "stream",
          "name": "stderr",
          "text": [
            "/usr/lib/python3.10/multiprocessing/popen_fork.py:66: RuntimeWarning: os.fork() was called. os.fork() is incompatible with multithreaded code, and JAX is multithreaded, so this will likely lead to a deadlock.\n",
            "  self.pid = os.fork()\n"
          ]
        },
        {
          "output_type": "stream",
          "name": "stdout",
          "text": [
            "\n",
            "      Epoch    GPU_mem   box_loss   cls_loss   dfl_loss  Instances       Size\n"
          ]
        },
        {
          "output_type": "stream",
          "name": "stderr",
          "text": [
            "    191/200      2.31G     0.2177     0.1322     0.8389          1        640: 100%|██████████| 75/75 [00:26<00:00,  2.88it/s]\n",
            "                 Class     Images  Instances      Box(P          R      mAP50  mAP50-95): 100%|██████████| 4/4 [00:01<00:00,  3.29it/s]"
          ]
        },
        {
          "output_type": "stream",
          "name": "stdout",
          "text": [
            "                   all        114        121      0.996      0.934      0.966       0.96\n"
          ]
        },
        {
          "output_type": "stream",
          "name": "stderr",
          "text": [
            "\n"
          ]
        },
        {
          "output_type": "stream",
          "name": "stdout",
          "text": [
            "\n",
            "      Epoch    GPU_mem   box_loss   cls_loss   dfl_loss  Instances       Size\n"
          ]
        },
        {
          "output_type": "stream",
          "name": "stderr",
          "text": [
            "    192/200       2.3G     0.2138      0.131     0.8316          1        640: 100%|██████████| 75/75 [00:26<00:00,  2.83it/s]\n",
            "                 Class     Images  Instances      Box(P          R      mAP50  mAP50-95): 100%|██████████| 4/4 [00:02<00:00,  1.80it/s]"
          ]
        },
        {
          "output_type": "stream",
          "name": "stdout",
          "text": [
            "                   all        114        121      0.997      0.935      0.967      0.962\n"
          ]
        },
        {
          "output_type": "stream",
          "name": "stderr",
          "text": [
            "\n"
          ]
        },
        {
          "output_type": "stream",
          "name": "stdout",
          "text": [
            "\n",
            "      Epoch    GPU_mem   box_loss   cls_loss   dfl_loss  Instances       Size\n"
          ]
        },
        {
          "output_type": "stream",
          "name": "stderr",
          "text": [
            "    193/200      2.31G     0.2128     0.1387     0.8393          1        640: 100%|██████████| 75/75 [00:24<00:00,  3.10it/s]\n",
            "                 Class     Images  Instances      Box(P          R      mAP50  mAP50-95): 100%|██████████| 4/4 [00:01<00:00,  3.25it/s]"
          ]
        },
        {
          "output_type": "stream",
          "name": "stdout",
          "text": [
            "                   all        114        121      0.997      0.935      0.967      0.961\n"
          ]
        },
        {
          "output_type": "stream",
          "name": "stderr",
          "text": [
            "\n"
          ]
        },
        {
          "output_type": "stream",
          "name": "stdout",
          "text": [
            "\n",
            "      Epoch    GPU_mem   box_loss   cls_loss   dfl_loss  Instances       Size\n"
          ]
        },
        {
          "output_type": "stream",
          "name": "stderr",
          "text": [
            "    194/200      2.31G     0.2129     0.1289     0.8329          1        640: 100%|██████████| 75/75 [00:24<00:00,  3.06it/s]\n",
            "                 Class     Images  Instances      Box(P          R      mAP50  mAP50-95): 100%|██████████| 4/4 [00:02<00:00,  1.70it/s]"
          ]
        },
        {
          "output_type": "stream",
          "name": "stdout",
          "text": [
            "                   all        114        121      0.997      0.935      0.967      0.961\n"
          ]
        },
        {
          "output_type": "stream",
          "name": "stderr",
          "text": [
            "\n"
          ]
        },
        {
          "output_type": "stream",
          "name": "stdout",
          "text": [
            "\n",
            "      Epoch    GPU_mem   box_loss   cls_loss   dfl_loss  Instances       Size\n"
          ]
        },
        {
          "output_type": "stream",
          "name": "stderr",
          "text": [
            "    195/200      2.31G     0.2081     0.1255     0.8245          1        640: 100%|██████████| 75/75 [00:24<00:00,  3.02it/s]\n",
            "                 Class     Images  Instances      Box(P          R      mAP50  mAP50-95): 100%|██████████| 4/4 [00:01<00:00,  3.10it/s]\n"
          ]
        },
        {
          "output_type": "stream",
          "name": "stdout",
          "text": [
            "                   all        114        121      0.997      0.935      0.966      0.961\n",
            "\n",
            "      Epoch    GPU_mem   box_loss   cls_loss   dfl_loss  Instances       Size\n"
          ]
        },
        {
          "output_type": "stream",
          "name": "stderr",
          "text": [
            "    196/200       2.3G      0.209     0.1257     0.8355          1        640: 100%|██████████| 75/75 [00:23<00:00,  3.25it/s]\n",
            "                 Class     Images  Instances      Box(P          R      mAP50  mAP50-95): 100%|██████████| 4/4 [00:01<00:00,  2.08it/s]"
          ]
        },
        {
          "output_type": "stream",
          "name": "stdout",
          "text": [
            "                   all        114        121      0.997      0.935      0.967      0.962\n"
          ]
        },
        {
          "output_type": "stream",
          "name": "stderr",
          "text": [
            "\n"
          ]
        },
        {
          "output_type": "stream",
          "name": "stdout",
          "text": [
            "\n",
            "      Epoch    GPU_mem   box_loss   cls_loss   dfl_loss  Instances       Size\n"
          ]
        },
        {
          "output_type": "stream",
          "name": "stderr",
          "text": [
            "    197/200      2.31G     0.2086     0.1277     0.8363          1        640: 100%|██████████| 75/75 [00:24<00:00,  3.04it/s]\n",
            "                 Class     Images  Instances      Box(P          R      mAP50  mAP50-95): 100%|██████████| 4/4 [00:01<00:00,  3.17it/s]"
          ]
        },
        {
          "output_type": "stream",
          "name": "stdout",
          "text": [
            "                   all        114        121      0.997      0.935      0.966       0.96\n"
          ]
        },
        {
          "output_type": "stream",
          "name": "stderr",
          "text": [
            "\n"
          ]
        },
        {
          "output_type": "stream",
          "name": "stdout",
          "text": [
            "\n",
            "      Epoch    GPU_mem   box_loss   cls_loss   dfl_loss  Instances       Size\n"
          ]
        },
        {
          "output_type": "stream",
          "name": "stderr",
          "text": [
            "    198/200      2.31G     0.2029     0.1274     0.8357          1        640: 100%|██████████| 75/75 [00:23<00:00,  3.24it/s]\n",
            "                 Class     Images  Instances      Box(P          R      mAP50  mAP50-95): 100%|██████████| 4/4 [00:01<00:00,  2.04it/s]"
          ]
        },
        {
          "output_type": "stream",
          "name": "stdout",
          "text": [
            "                   all        114        121      0.996      0.935      0.966      0.961\n"
          ]
        },
        {
          "output_type": "stream",
          "name": "stderr",
          "text": [
            "\n"
          ]
        },
        {
          "output_type": "stream",
          "name": "stdout",
          "text": [
            "\n",
            "      Epoch    GPU_mem   box_loss   cls_loss   dfl_loss  Instances       Size\n"
          ]
        },
        {
          "output_type": "stream",
          "name": "stderr",
          "text": [
            "    199/200      2.31G     0.2079     0.1247     0.8311          1        640: 100%|██████████| 75/75 [00:26<00:00,  2.79it/s]\n",
            "                 Class     Images  Instances      Box(P          R      mAP50  mAP50-95): 100%|██████████| 4/4 [00:01<00:00,  2.97it/s]"
          ]
        },
        {
          "output_type": "stream",
          "name": "stdout",
          "text": [
            "                   all        114        121      0.997      0.935      0.966      0.961\n"
          ]
        },
        {
          "output_type": "stream",
          "name": "stderr",
          "text": [
            "\n"
          ]
        },
        {
          "output_type": "stream",
          "name": "stdout",
          "text": [
            "\n",
            "      Epoch    GPU_mem   box_loss   cls_loss   dfl_loss  Instances       Size\n"
          ]
        },
        {
          "output_type": "stream",
          "name": "stderr",
          "text": [
            "    200/200       2.3G     0.2039     0.1267      0.824          1        640: 100%|██████████| 75/75 [00:23<00:00,  3.17it/s]\n",
            "                 Class     Images  Instances      Box(P          R      mAP50  mAP50-95): 100%|██████████| 4/4 [00:01<00:00,  3.01it/s]\n"
          ]
        },
        {
          "output_type": "stream",
          "name": "stdout",
          "text": [
            "                   all        114        121      0.996      0.935      0.966      0.961\n",
            "\n",
            "200 epochs completed in 1.583 hours.\n",
            "Optimizer stripped from runs/detect/train/weights/last.pt, 6.3MB\n",
            "Optimizer stripped from runs/detect/train/weights/best.pt, 6.3MB\n",
            "\n",
            "Validating runs/detect/train/weights/best.pt...\n",
            "Ultralytics YOLOv8.2.28 🚀 Python-3.10.12 torch-2.3.0+cu121 CUDA:0 (Tesla T4, 15102MiB)\n",
            "Model summary (fused): 168 layers, 3007598 parameters, 0 gradients, 8.1 GFLOPs\n"
          ]
        },
        {
          "output_type": "stream",
          "name": "stderr",
          "text": [
            "                 Class     Images  Instances      Box(P          R      mAP50  mAP50-95): 100%|██████████| 4/4 [00:03<00:00,  1.20it/s]\n"
          ]
        },
        {
          "output_type": "stream",
          "name": "stdout",
          "text": [
            "                   all        114        121      0.997      0.935      0.967      0.963\n",
            "           ALKASELTZER         13         15          1      0.733      0.867      0.859\n",
            "          ASPIRINA_100         11         11      0.995          1      0.995      0.983\n",
            "             BUSCAPINA         10         10      0.994          1      0.995      0.995\n",
            "           DOLEX_GRIPA         13         13          1      0.846      0.923      0.923\n",
            "              GAVISCON         13         13          1       0.85      0.959      0.949\n",
            "       IBUFLASH_MIGRAN         12         12      0.995          1      0.995      0.995\n",
            "     IBUPROFENO_GENFAR         13         13          1          1      0.995      0.987\n",
            "        LEVONORGESTREL         11         11      0.992          1      0.995      0.995\n",
            "     NORAVER_GRIPA_DIA         11         11          1          1      0.995      0.995\n",
            "              VITAC_MK         12         12      0.996      0.917      0.955      0.949\n",
            "Speed: 0.4ms preprocess, 3.3ms inference, 0.0ms loss, 4.7ms postprocess per image\n",
            "Results saved to \u001b[1mruns/detect/train\u001b[0m\n"
          ]
        }
      ],
      "source": [
        "from ultralytics import YOLO\n",
        "\n",
        "# Load a model\n",
        "model = YOLO('yolov8n.pt')  # load a pretrained model (recommended for training)\n",
        "\n",
        "# Train the model with 2 GPUs\n",
        "results = model.train(data='/content/dataset/data.yaml', epochs=200, imgsz=640, device=0)"
      ]
    },
    {
      "cell_type": "code",
      "execution_count": 5,
      "id": "d5bf496c-65c0-4bc8-b076-e626ad5d87cf",
      "metadata": {
        "id": "d5bf496c-65c0-4bc8-b076-e626ad5d87cf",
        "colab": {
          "base_uri": "https://localhost:8080/"
        },
        "outputId": "0b869061-16e4-4a92-a73e-f749ee1cbd66"
      },
      "outputs": [
        {
          "output_type": "stream",
          "name": "stdout",
          "text": [
            "Ultralytics YOLOv8.2.28 🚀 Python-3.10.12 torch-2.3.0+cu121 CUDA:0 (Tesla T4, 15102MiB)\n",
            "Model summary (fused): 168 layers, 3007598 parameters, 0 gradients, 8.1 GFLOPs\n"
          ]
        },
        {
          "output_type": "stream",
          "name": "stderr",
          "text": [
            "\u001b[34m\u001b[1mval: \u001b[0mScanning /content/dataset/valid/labels.cache... 114 images, 0 backgrounds, 0 corrupt: 100%|██████████| 114/114 [00:00<?, ?it/s]\n",
            "/usr/lib/python3.10/multiprocessing/popen_fork.py:66: RuntimeWarning: os.fork() was called. os.fork() is incompatible with multithreaded code, and JAX is multithreaded, so this will likely lead to a deadlock.\n",
            "  self.pid = os.fork()\n",
            "                 Class     Images  Instances      Box(P          R      mAP50  mAP50-95): 100%|██████████| 8/8 [00:04<00:00,  1.87it/s]\n"
          ]
        },
        {
          "output_type": "stream",
          "name": "stdout",
          "text": [
            "                   all        114        121      0.997      0.935      0.967      0.962\n",
            "           ALKASELTZER         13         15          1      0.733      0.867       0.85\n",
            "          ASPIRINA_100         11         11      0.995          1      0.995      0.986\n",
            "             BUSCAPINA         10         10      0.994          1      0.995      0.995\n",
            "           DOLEX_GRIPA         13         13          1      0.846      0.923      0.923\n",
            "              GAVISCON         13         13          1       0.85      0.959      0.949\n",
            "       IBUFLASH_MIGRAN         12         12      0.995          1      0.995      0.995\n",
            "     IBUPROFENO_GENFAR         13         13          1          1      0.995      0.986\n",
            "        LEVONORGESTREL         11         11      0.992          1      0.995      0.995\n",
            "     NORAVER_GRIPA_DIA         11         11          1          1      0.995      0.995\n",
            "              VITAC_MK         12         12      0.996      0.917      0.955      0.949\n",
            "Speed: 0.7ms preprocess, 9.4ms inference, 0.1ms loss, 6.5ms postprocess per image\n",
            "Results saved to \u001b[1mruns/detect/val\u001b[0m\n"
          ]
        },
        {
          "output_type": "execute_result",
          "data": {
            "text/plain": [
              "array([    0.84974,      0.9858,       0.995,       0.923,     0.94908,       0.995,     0.98605,       0.995,       0.995,     0.94862])"
            ]
          },
          "metadata": {},
          "execution_count": 5
        }
      ],
      "source": [
        "# Validate model\n",
        "\n",
        "from ultralytics import YOLO\n",
        "\n",
        "# Load a model\n",
        "model = YOLO('runs/detect/train/weights/best.pt')  # load a custom model\n",
        "\n",
        "# Validate the model\n",
        "metrics = model.val()  # no arguments needed, dataset and settings remembered\n",
        "metrics.box.map    # map50-95\n",
        "metrics.box.map50  # map50\n",
        "metrics.box.map75  # map75\n",
        "metrics.box.maps   # a list contains map50-95 of each category"
      ]
    },
    {
      "cell_type": "code",
      "execution_count": 6,
      "id": "28af2e54-9d78-4da5-8fa7-137344fcfd3f",
      "metadata": {
        "id": "28af2e54-9d78-4da5-8fa7-137344fcfd3f",
        "colab": {
          "base_uri": "https://localhost:8080/"
        },
        "outputId": "8f3b4b76-4e06-4c58-93f8-6c09d3fce663"
      },
      "outputs": [
        {
          "output_type": "stream",
          "name": "stdout",
          "text": [
            "\n",
            "image 1/57 /content/dataset/test/images/008BE35A-ED85-43FA-BFD5-8344139510A8_jpeg.rf.36908adaf34f6631423c41b6f5fff7db.jpg: 640x640 1 BUSCAPINA, 7.3ms\n",
            "image 2/57 /content/dataset/test/images/00BBDD2C-C2A1-463B-8D00-992EB02D6EC2_jpeg.rf.e0c4df7d27de86254dedac365ff1c7d4.jpg: 640x640 1 IBUPROFENO_GENFAR, 7.4ms\n",
            "image 3/57 /content/dataset/test/images/01D0AD14-E522-4737-85C9-551BF4FF9D96_jpeg.rf.bff626e61ed25516b6b2de262afd7a19.jpg: 640x640 1 IBUFLASH_MIGRAN, 7.3ms\n",
            "image 4/57 /content/dataset/test/images/067ACD18-F150-4040-AC28-5E64B7FA4799_jpeg.rf.77ba8b2ed0c9ccd79398fb07e45d2ca9.jpg: 640x640 1 ASPIRINA_100, 7.3ms\n",
            "image 5/57 /content/dataset/test/images/0C7149D2-80E6-4D03-96D5-066D8308CA15_jpeg.rf.2f0eac5c8877981a5f5cf1c1d87511fb.jpg: 640x640 1 ALKASELTZER, 7.3ms\n",
            "image 6/57 /content/dataset/test/images/0E7C212C-F026-4668-8C36-E59BDCD8A677_jpeg.rf.e3e551560066c23e43c91c2c80dc6884.jpg: 640x640 1 IBUFLASH_MIGRAN, 7.3ms\n",
            "image 7/57 /content/dataset/test/images/127E44CB-1D40-4740-B907-90DB3F827E7E_jpeg.rf.ecd7903c05f26226bef07bfc40915856.jpg: 640x640 1 NORAVER_GRIPA_DIA, 7.3ms\n",
            "image 8/57 /content/dataset/test/images/13DF653A-4DD7-4A56-9B0D-2FB44C139513_jpeg.rf.a339c5cd2feb8dfb65665bd9217d7504.jpg: 640x640 1 BUSCAPINA, 7.4ms\n",
            "image 9/57 /content/dataset/test/images/18A8618E-7840-40E0-903B-70EE6256D339_jpeg.rf.d0e63616981b93baad666cff374f974e.jpg: 640x640 1 VITAC_MK, 7.3ms\n",
            "image 10/57 /content/dataset/test/images/31212482-43E8-45FB-AAE7-4202F0ABB767_jpeg.rf.b3f7d746902d2adac5bac0b87b220c2d.jpg: 640x640 1 ASPIRINA_100, 7.3ms\n",
            "image 11/57 /content/dataset/test/images/35C887FE-ABF1-4EFB-8CD2-1D27B18365A4_jpeg.rf.6ffbb34964c5d37ecc8124a39b19e7f3.jpg: 640x640 1 BUSCAPINA, 7.4ms\n",
            "image 12/57 /content/dataset/test/images/35E12B98-3639-4B86-A013-76031C6E5599_jpeg.rf.b596249175bdca3e7afd6ac125b1a81c.jpg: 640x640 1 DOLEX_GRIPA, 7.9ms\n",
            "image 13/57 /content/dataset/test/images/3B2711E6-0E64-4F5E-8250-BA5558DCCA75_jpeg.rf.b572efbfbe68f9c8748a4a694f7970d1.jpg: 640x640 1 VITAC_MK, 7.3ms\n",
            "image 14/57 /content/dataset/test/images/3E0DD733-3A3B-4CE9-86FB-009840C8D8F7_jpeg.rf.70bc2214a39e979f4d941d14fae568dc.jpg: 640x640 1 LEVONORGESTREL, 7.3ms\n",
            "image 15/57 /content/dataset/test/images/43778302-F2EA-4158-BBC3-E08BE63E49B9_jpeg.rf.7a5ce6360483d02913be0fc28a349405.jpg: 640x640 1 BUSCAPINA, 7.3ms\n",
            "image 16/57 /content/dataset/test/images/448C196E-BC9D-495D-8D59-3BDC1F7B5D57_jpeg.rf.83e0050b9abf6cd1b5f76322f9e4ca5e.jpg: 640x640 1 DOLEX_GRIPA, 7.3ms\n",
            "image 17/57 /content/dataset/test/images/457ACA4B-BC2C-4957-ADED-5B98F569081D_jpeg.rf.a4ba5aa5e6a792385c336ed8f354c255.jpg: 640x640 1 LEVONORGESTREL, 7.3ms\n",
            "image 18/57 /content/dataset/test/images/4687AA17-CD84-425D-BC33-D4E8FBD77AC1_jpeg.rf.cedaaeddba8828c8ebc5edd0112ca51b.jpg: 640x640 1 DOLEX_GRIPA, 7.3ms\n",
            "image 19/57 /content/dataset/test/images/5A079C2F-609F-4746-9D39-29D0E1E1968D_jpeg.rf.8de0fe31061b73cfa242b35f01adb432.jpg: 640x640 1 GAVISCON, 7.4ms\n",
            "image 20/57 /content/dataset/test/images/5EC540EC-AD58-4189-A852-16F686474B49_jpeg.rf.99f3078cb78e2bbd7817aae53703c632.jpg: 640x640 1 NORAVER_GRIPA_DIA, 7.3ms\n",
            "image 21/57 /content/dataset/test/images/602A34D0-1B0E-4F38-BCF3-785C604592CE_jpeg.rf.aeab212b91f4f3b0e0f3c478276a70f8.jpg: 640x640 1 ASPIRINA_100, 7.4ms\n",
            "image 22/57 /content/dataset/test/images/6738A1B5-C8EA-452B-9080-E6D16D1217E5_jpeg.rf.2722a723ec3e37c0ef51af2ca729adc4.jpg: 640x640 1 NORAVER_GRIPA_DIA, 7.3ms\n",
            "image 23/57 /content/dataset/test/images/6EEB8D24-C7A9-407E-8A4A-0078E1604490_jpeg.rf.66f12cf0e4d91cca991be827e57c1884.jpg: 640x640 1 DOLEX_GRIPA, 7.4ms\n",
            "image 24/57 /content/dataset/test/images/732D3317-B72B-4236-8FDF-BB245229E0B3_jpeg.rf.fd92c3b1d19253e88b0fccafe2f80cce.jpg: 640x640 1 IBUPROFENO_GENFAR, 7.3ms\n",
            "image 25/57 /content/dataset/test/images/75627534-44C7-464B-B978-E81D793A8DB0_jpeg.rf.c05e8742b9fa200182e7dae4389d6436.jpg: 640x640 1 NORAVER_GRIPA_DIA, 7.3ms\n",
            "image 26/57 /content/dataset/test/images/835E1086-D083-45FD-B2DE-B950059D469A_jpeg.rf.0a8da0d654a7ec643eb672e5d2b4c5e7.jpg: 640x640 1 IBUFLASH_MIGRAN, 7.3ms\n",
            "image 27/57 /content/dataset/test/images/85B46A91-12C1-4510-8444-78BA271D63E3_jpeg.rf.1c9d1869b8d07d629821debf5df4db0f.jpg: 640x640 1 IBUFLASH_MIGRAN, 7.4ms\n",
            "image 28/57 /content/dataset/test/images/87E05FF9-FF80-4055-B53F-EEA39C992273_jpeg.rf.48f227246da85dcef0405a08474958be.jpg: 640x640 1 IBUPROFENO_GENFAR, 7.4ms\n",
            "image 29/57 /content/dataset/test/images/8828E56D-ECF9-4C41-B579-0F97A7102D59_jpeg.rf.7001db0cf1f04505681bec61c03a7b4d.jpg: 640x640 1 BUSCAPINA, 8.9ms\n",
            "image 30/57 /content/dataset/test/images/882A01C8-0283-49CB-9E61-62C197572086_jpeg.rf.d42dd13511256e9c889ad1aada9ee73f.jpg: 640x640 1 LEVONORGESTREL, 7.4ms\n",
            "image 31/57 /content/dataset/test/images/8D16C079-383C-4DE4-B127-4CDB44D54C9B_jpeg.rf.139106fc919910ee29a2b8ff6588e368.jpg: 640x640 1 ALKASELTZER, 7.4ms\n",
            "image 32/57 /content/dataset/test/images/908098B0-655C-4620-93F1-18803A67E320_jpeg.rf.f24a9576d374811ae5ebfd92fbd221f4.jpg: 640x640 1 BUSCAPINA, 12.5ms\n",
            "image 33/57 /content/dataset/test/images/94B71B07-9E38-45D8-A598-AD7E16EB2A93_jpeg.rf.8ba7377a6bfd1b3eca27f59373cd87f2.jpg: 640x640 1 VITAC_MK, 7.4ms\n",
            "image 34/57 /content/dataset/test/images/974551B1-D525-4D46-ACB9-76F4910C19E2_jpeg.rf.1c5d7104da4496439efdb9883d9635e2.jpg: 640x640 1 ASPIRINA_100, 10.1ms\n",
            "image 35/57 /content/dataset/test/images/992D0732-CEB4-48B4-B917-8496D153DC67_jpeg.rf.52f9559448483be903a90240c22cb91d.jpg: 640x640 1 NORAVER_GRIPA_DIA, 7.3ms\n",
            "image 36/57 /content/dataset/test/images/9A306E53-0CE5-4F49-BEC6-203A859781FB_jpeg.rf.5a89893de2919abc6ec6429d7add464e.jpg: 640x640 1 GAVISCON, 7.3ms\n",
            "image 37/57 /content/dataset/test/images/9CCEE114-F43C-48CC-A384-F8F7523D6693_jpeg.rf.e0d0b0bec19d7d99e0e8cd73ebb51ac6.jpg: 640x640 1 DOLEX_GRIPA, 7.4ms\n",
            "image 38/57 /content/dataset/test/images/AC40C9CE-34B4-4A41-BA23-553E7B860984_jpeg.rf.330913e136432542cc55c5d205ddd0b9.jpg: 640x640 1 VITAC_MK, 7.3ms\n",
            "image 39/57 /content/dataset/test/images/AD76C67E-5B88-463C-B2D9-8C5912290E66_jpeg.rf.c90ec291e67fbb30252bac99ab71b7fb.jpg: 640x640 1 GAVISCON, 7.3ms\n",
            "image 40/57 /content/dataset/test/images/B55E46DD-67B5-4A86-96E5-28C322975E82_jpeg.rf.a0798b803408775ddbe691a24654d16b.jpg: 640x640 1 DOLEX_GRIPA, 7.9ms\n",
            "image 41/57 /content/dataset/test/images/B5B09234-F8F3-4260-8719-D59B2D6DC0E7_jpeg.rf.2d0a1e9903fa73719ec720eba218ecdf.jpg: 640x640 1 IBUPROFENO_GENFAR, 7.3ms\n",
            "image 42/57 /content/dataset/test/images/B9E404E7-12FF-4816-8085-5F8560943A36_jpeg.rf.dccfa7dd0605bef0caba2ccb0f06effd.jpg: 640x640 1 ALKASELTZER, 7.3ms\n",
            "image 43/57 /content/dataset/test/images/C047A195-826E-4171-B074-BA47CC6C5DD5_jpeg.rf.105dddd112a304128fec3e08457e031e.jpg: 640x640 1 LEVONORGESTREL, 7.3ms\n",
            "image 44/57 /content/dataset/test/images/C1245D6E-C683-4FE1-8AAB-32E67C0BFC4D_jpeg.rf.45ffcd575fa28b9e0ad657868b47b4d8.jpg: 640x640 1 IBUFLASH_MIGRAN, 7.3ms\n",
            "image 45/57 /content/dataset/test/images/C4F18DA9-E1B3-4A94-AE2D-88DAEF8F1741_jpeg.rf.c650fbc1b4af0a15a0bed4d9a682048d.jpg: 640x640 1 NORAVER_GRIPA_DIA, 7.3ms\n",
            "image 46/57 /content/dataset/test/images/CDE1A274-3DEA-4B81-ACC8-712C6F3D52D7_jpeg.rf.13f8889fdbdedc645fd02c443f31a2fa.jpg: 640x640 1 IBUFLASH_MIGRAN, 7.4ms\n",
            "image 47/57 /content/dataset/test/images/CF01125B-D604-45E9-904B-15D7641F16D2_jpeg.rf.4258258c89d53cc879f2671daa0cab70.jpg: 640x640 1 ASPIRINA_100, 7.4ms\n",
            "image 48/57 /content/dataset/test/images/D0190303-0B6B-4BF1-BCFC-35DD0306EEFE_jpeg.rf.627d67cc1e5100daa6c1200dd5fd4d29.jpg: 640x640 1 ASPIRINA_100, 7.4ms\n",
            "image 49/57 /content/dataset/test/images/DA48C051-FE16-4123-ADFC-EB7EE2AE25E1_jpeg.rf.3f0af8854b38d54b5640174ad4d37def.jpg: 640x640 1 GAVISCON, 7.4ms\n",
            "image 50/57 /content/dataset/test/images/DAA96DC2-8149-42B9-8B3C-FF3BF5FC9053_jpeg.rf.d5e424d2061f140a77a857c434285966.jpg: 640x640 1 LEVONORGESTREL, 7.4ms\n",
            "image 51/57 /content/dataset/test/images/DEC50E3B-A846-46D2-A9E7-98E4463C0D2A_jpeg.rf.fadde46153a391bc6c6271e6e3570405.jpg: 640x640 1 LEVONORGESTREL, 7.4ms\n",
            "image 52/57 /content/dataset/test/images/E2C41AB8-87B8-4E57-93AD-C7C84216000D_jpeg.rf.810b4cda6a76b916e25ee0bad76a4f2a.jpg: 640x640 1 GAVISCON, 7.4ms\n",
            "image 53/57 /content/dataset/test/images/F6340F98-E64A-43C7-8E5A-FAFC96D68B7B_jpeg.rf.1f86d372ea2d09e42e8a01faf684d76f.jpg: 640x640 1 VITAC_MK, 7.4ms\n",
            "image 54/57 /content/dataset/test/images/F7617134-A97D-449F-A381-FAB77A4A0C72_jpeg.rf.1ceac065fc103a8119bb1a7a83974f80.jpg: 640x640 1 IBUPROFENO_GENFAR, 7.3ms\n",
            "image 55/57 /content/dataset/test/images/FB61DAF2-7435-469C-87F4-090631382EA9_jpeg.rf.a23fc244f8e318a668c9f38eaadaf7e7.jpg: 640x640 1 BUSCAPINA, 7.4ms\n",
            "image 56/57 /content/dataset/test/images/FCC405E6-BF5D-48C7-BCC4-5CFD9A5F8FC2_jpeg.rf.125b15b2b3bfc5b9778522b8ab0d1733.jpg: 640x640 1 ALKASELTZER, 7.4ms\n",
            "image 57/57 /content/dataset/test/images/FECB6EF9-E9CC-4F1B-BFB6-176E55426E14_jpeg.rf.47ee908d073a769453e041eac55bab38.jpg: 640x640 1 ALKASELTZER, 7.4ms\n",
            "Speed: 1.7ms preprocess, 7.5ms inference, 1.2ms postprocess per image at shape (1, 3, 640, 640)\n",
            "Results saved to \u001b[1mruns/detect/predict\u001b[0m\n",
            "\n",
            "image 1/57 /content/dataset/test/images/008BE35A-ED85-43FA-BFD5-8344139510A8_jpeg.rf.36908adaf34f6631423c41b6f5fff7db.jpg: 640x640 1 BUSCAPINA, 7.3ms\n",
            "image 2/57 /content/dataset/test/images/00BBDD2C-C2A1-463B-8D00-992EB02D6EC2_jpeg.rf.e0c4df7d27de86254dedac365ff1c7d4.jpg: 640x640 1 IBUPROFENO_GENFAR, 7.4ms\n",
            "image 3/57 /content/dataset/test/images/01D0AD14-E522-4737-85C9-551BF4FF9D96_jpeg.rf.bff626e61ed25516b6b2de262afd7a19.jpg: 640x640 1 IBUFLASH_MIGRAN, 7.4ms\n",
            "image 4/57 /content/dataset/test/images/067ACD18-F150-4040-AC28-5E64B7FA4799_jpeg.rf.77ba8b2ed0c9ccd79398fb07e45d2ca9.jpg: 640x640 1 ASPIRINA_100, 7.3ms\n",
            "image 5/57 /content/dataset/test/images/0C7149D2-80E6-4D03-96D5-066D8308CA15_jpeg.rf.2f0eac5c8877981a5f5cf1c1d87511fb.jpg: 640x640 1 ALKASELTZER, 7.3ms\n",
            "image 6/57 /content/dataset/test/images/0E7C212C-F026-4668-8C36-E59BDCD8A677_jpeg.rf.e3e551560066c23e43c91c2c80dc6884.jpg: 640x640 1 IBUFLASH_MIGRAN, 7.4ms\n",
            "image 7/57 /content/dataset/test/images/127E44CB-1D40-4740-B907-90DB3F827E7E_jpeg.rf.ecd7903c05f26226bef07bfc40915856.jpg: 640x640 1 NORAVER_GRIPA_DIA, 7.4ms\n",
            "image 8/57 /content/dataset/test/images/13DF653A-4DD7-4A56-9B0D-2FB44C139513_jpeg.rf.a339c5cd2feb8dfb65665bd9217d7504.jpg: 640x640 1 BUSCAPINA, 7.3ms\n",
            "image 9/57 /content/dataset/test/images/18A8618E-7840-40E0-903B-70EE6256D339_jpeg.rf.d0e63616981b93baad666cff374f974e.jpg: 640x640 1 VITAC_MK, 12.8ms\n",
            "image 10/57 /content/dataset/test/images/31212482-43E8-45FB-AAE7-4202F0ABB767_jpeg.rf.b3f7d746902d2adac5bac0b87b220c2d.jpg: 640x640 1 ASPIRINA_100, 7.4ms\n",
            "image 11/57 /content/dataset/test/images/35C887FE-ABF1-4EFB-8CD2-1D27B18365A4_jpeg.rf.6ffbb34964c5d37ecc8124a39b19e7f3.jpg: 640x640 1 BUSCAPINA, 7.3ms\n",
            "image 12/57 /content/dataset/test/images/35E12B98-3639-4B86-A013-76031C6E5599_jpeg.rf.b596249175bdca3e7afd6ac125b1a81c.jpg: 640x640 1 DOLEX_GRIPA, 7.3ms\n",
            "image 13/57 /content/dataset/test/images/3B2711E6-0E64-4F5E-8250-BA5558DCCA75_jpeg.rf.b572efbfbe68f9c8748a4a694f7970d1.jpg: 640x640 1 VITAC_MK, 7.3ms\n",
            "image 14/57 /content/dataset/test/images/3E0DD733-3A3B-4CE9-86FB-009840C8D8F7_jpeg.rf.70bc2214a39e979f4d941d14fae568dc.jpg: 640x640 1 LEVONORGESTREL, 7.3ms\n",
            "image 15/57 /content/dataset/test/images/43778302-F2EA-4158-BBC3-E08BE63E49B9_jpeg.rf.7a5ce6360483d02913be0fc28a349405.jpg: 640x640 1 BUSCAPINA, 7.3ms\n",
            "image 16/57 /content/dataset/test/images/448C196E-BC9D-495D-8D59-3BDC1F7B5D57_jpeg.rf.83e0050b9abf6cd1b5f76322f9e4ca5e.jpg: 640x640 1 DOLEX_GRIPA, 7.3ms\n",
            "image 17/57 /content/dataset/test/images/457ACA4B-BC2C-4957-ADED-5B98F569081D_jpeg.rf.a4ba5aa5e6a792385c336ed8f354c255.jpg: 640x640 1 LEVONORGESTREL, 7.3ms\n",
            "image 18/57 /content/dataset/test/images/4687AA17-CD84-425D-BC33-D4E8FBD77AC1_jpeg.rf.cedaaeddba8828c8ebc5edd0112ca51b.jpg: 640x640 1 DOLEX_GRIPA, 7.3ms\n",
            "image 19/57 /content/dataset/test/images/5A079C2F-609F-4746-9D39-29D0E1E1968D_jpeg.rf.8de0fe31061b73cfa242b35f01adb432.jpg: 640x640 1 GAVISCON, 7.4ms\n",
            "image 20/57 /content/dataset/test/images/5EC540EC-AD58-4189-A852-16F686474B49_jpeg.rf.99f3078cb78e2bbd7817aae53703c632.jpg: 640x640 1 NORAVER_GRIPA_DIA, 7.6ms\n",
            "image 21/57 /content/dataset/test/images/602A34D0-1B0E-4F38-BCF3-785C604592CE_jpeg.rf.aeab212b91f4f3b0e0f3c478276a70f8.jpg: 640x640 1 ASPIRINA_100, 7.4ms\n",
            "image 22/57 /content/dataset/test/images/6738A1B5-C8EA-452B-9080-E6D16D1217E5_jpeg.rf.2722a723ec3e37c0ef51af2ca729adc4.jpg: 640x640 1 NORAVER_GRIPA_DIA, 11.2ms\n",
            "image 23/57 /content/dataset/test/images/6EEB8D24-C7A9-407E-8A4A-0078E1604490_jpeg.rf.66f12cf0e4d91cca991be827e57c1884.jpg: 640x640 1 DOLEX_GRIPA, 9.7ms\n",
            "image 24/57 /content/dataset/test/images/732D3317-B72B-4236-8FDF-BB245229E0B3_jpeg.rf.fd92c3b1d19253e88b0fccafe2f80cce.jpg: 640x640 1 IBUPROFENO_GENFAR, 7.4ms\n",
            "image 25/57 /content/dataset/test/images/75627534-44C7-464B-B978-E81D793A8DB0_jpeg.rf.c05e8742b9fa200182e7dae4389d6436.jpg: 640x640 1 NORAVER_GRIPA_DIA, 7.3ms\n",
            "image 26/57 /content/dataset/test/images/835E1086-D083-45FD-B2DE-B950059D469A_jpeg.rf.0a8da0d654a7ec643eb672e5d2b4c5e7.jpg: 640x640 1 IBUFLASH_MIGRAN, 7.4ms\n",
            "image 27/57 /content/dataset/test/images/85B46A91-12C1-4510-8444-78BA271D63E3_jpeg.rf.1c9d1869b8d07d629821debf5df4db0f.jpg: 640x640 1 IBUFLASH_MIGRAN, 7.4ms\n",
            "image 28/57 /content/dataset/test/images/87E05FF9-FF80-4055-B53F-EEA39C992273_jpeg.rf.48f227246da85dcef0405a08474958be.jpg: 640x640 1 IBUPROFENO_GENFAR, 7.4ms\n",
            "image 29/57 /content/dataset/test/images/8828E56D-ECF9-4C41-B579-0F97A7102D59_jpeg.rf.7001db0cf1f04505681bec61c03a7b4d.jpg: 640x640 1 BUSCAPINA, 7.3ms\n",
            "image 30/57 /content/dataset/test/images/882A01C8-0283-49CB-9E61-62C197572086_jpeg.rf.d42dd13511256e9c889ad1aada9ee73f.jpg: 640x640 1 LEVONORGESTREL, 7.3ms\n",
            "image 31/57 /content/dataset/test/images/8D16C079-383C-4DE4-B127-4CDB44D54C9B_jpeg.rf.139106fc919910ee29a2b8ff6588e368.jpg: 640x640 1 ALKASELTZER, 12.0ms\n",
            "image 32/57 /content/dataset/test/images/908098B0-655C-4620-93F1-18803A67E320_jpeg.rf.f24a9576d374811ae5ebfd92fbd221f4.jpg: 640x640 1 BUSCAPINA, 7.3ms\n",
            "image 33/57 /content/dataset/test/images/94B71B07-9E38-45D8-A598-AD7E16EB2A93_jpeg.rf.8ba7377a6bfd1b3eca27f59373cd87f2.jpg: 640x640 1 VITAC_MK, 7.3ms\n",
            "image 34/57 /content/dataset/test/images/974551B1-D525-4D46-ACB9-76F4910C19E2_jpeg.rf.1c5d7104da4496439efdb9883d9635e2.jpg: 640x640 1 ASPIRINA_100, 7.4ms\n",
            "image 35/57 /content/dataset/test/images/992D0732-CEB4-48B4-B917-8496D153DC67_jpeg.rf.52f9559448483be903a90240c22cb91d.jpg: 640x640 1 NORAVER_GRIPA_DIA, 7.3ms\n",
            "image 36/57 /content/dataset/test/images/9A306E53-0CE5-4F49-BEC6-203A859781FB_jpeg.rf.5a89893de2919abc6ec6429d7add464e.jpg: 640x640 1 GAVISCON, 7.3ms\n",
            "image 37/57 /content/dataset/test/images/9CCEE114-F43C-48CC-A384-F8F7523D6693_jpeg.rf.e0d0b0bec19d7d99e0e8cd73ebb51ac6.jpg: 640x640 1 DOLEX_GRIPA, 7.4ms\n",
            "image 38/57 /content/dataset/test/images/AC40C9CE-34B4-4A41-BA23-553E7B860984_jpeg.rf.330913e136432542cc55c5d205ddd0b9.jpg: 640x640 1 VITAC_MK, 7.3ms\n",
            "image 39/57 /content/dataset/test/images/AD76C67E-5B88-463C-B2D9-8C5912290E66_jpeg.rf.c90ec291e67fbb30252bac99ab71b7fb.jpg: 640x640 1 GAVISCON, 7.3ms\n",
            "image 40/57 /content/dataset/test/images/B55E46DD-67B5-4A86-96E5-28C322975E82_jpeg.rf.a0798b803408775ddbe691a24654d16b.jpg: 640x640 1 DOLEX_GRIPA, 7.4ms\n",
            "image 41/57 /content/dataset/test/images/B5B09234-F8F3-4260-8719-D59B2D6DC0E7_jpeg.rf.2d0a1e9903fa73719ec720eba218ecdf.jpg: 640x640 1 IBUPROFENO_GENFAR, 7.4ms\n",
            "image 42/57 /content/dataset/test/images/B9E404E7-12FF-4816-8085-5F8560943A36_jpeg.rf.dccfa7dd0605bef0caba2ccb0f06effd.jpg: 640x640 1 ALKASELTZER, 7.4ms\n",
            "image 43/57 /content/dataset/test/images/C047A195-826E-4171-B074-BA47CC6C5DD5_jpeg.rf.105dddd112a304128fec3e08457e031e.jpg: 640x640 1 LEVONORGESTREL, 7.4ms\n",
            "image 44/57 /content/dataset/test/images/C1245D6E-C683-4FE1-8AAB-32E67C0BFC4D_jpeg.rf.45ffcd575fa28b9e0ad657868b47b4d8.jpg: 640x640 1 IBUFLASH_MIGRAN, 7.4ms\n",
            "image 45/57 /content/dataset/test/images/C4F18DA9-E1B3-4A94-AE2D-88DAEF8F1741_jpeg.rf.c650fbc1b4af0a15a0bed4d9a682048d.jpg: 640x640 1 NORAVER_GRIPA_DIA, 7.4ms\n",
            "image 46/57 /content/dataset/test/images/CDE1A274-3DEA-4B81-ACC8-712C6F3D52D7_jpeg.rf.13f8889fdbdedc645fd02c443f31a2fa.jpg: 640x640 1 IBUFLASH_MIGRAN, 7.3ms\n",
            "image 47/57 /content/dataset/test/images/CF01125B-D604-45E9-904B-15D7641F16D2_jpeg.rf.4258258c89d53cc879f2671daa0cab70.jpg: 640x640 1 ASPIRINA_100, 7.4ms\n",
            "image 48/57 /content/dataset/test/images/D0190303-0B6B-4BF1-BCFC-35DD0306EEFE_jpeg.rf.627d67cc1e5100daa6c1200dd5fd4d29.jpg: 640x640 1 ASPIRINA_100, 7.3ms\n",
            "image 49/57 /content/dataset/test/images/DA48C051-FE16-4123-ADFC-EB7EE2AE25E1_jpeg.rf.3f0af8854b38d54b5640174ad4d37def.jpg: 640x640 1 GAVISCON, 10.2ms\n",
            "image 50/57 /content/dataset/test/images/DAA96DC2-8149-42B9-8B3C-FF3BF5FC9053_jpeg.rf.d5e424d2061f140a77a857c434285966.jpg: 640x640 1 LEVONORGESTREL, 7.3ms\n",
            "image 51/57 /content/dataset/test/images/DEC50E3B-A846-46D2-A9E7-98E4463C0D2A_jpeg.rf.fadde46153a391bc6c6271e6e3570405.jpg: 640x640 1 LEVONORGESTREL, 7.3ms\n",
            "image 52/57 /content/dataset/test/images/E2C41AB8-87B8-4E57-93AD-C7C84216000D_jpeg.rf.810b4cda6a76b916e25ee0bad76a4f2a.jpg: 640x640 1 GAVISCON, 7.3ms\n",
            "image 53/57 /content/dataset/test/images/F6340F98-E64A-43C7-8E5A-FAFC96D68B7B_jpeg.rf.1f86d372ea2d09e42e8a01faf684d76f.jpg: 640x640 1 VITAC_MK, 7.3ms\n",
            "image 54/57 /content/dataset/test/images/F7617134-A97D-449F-A381-FAB77A4A0C72_jpeg.rf.1ceac065fc103a8119bb1a7a83974f80.jpg: 640x640 1 IBUPROFENO_GENFAR, 7.4ms\n",
            "image 55/57 /content/dataset/test/images/FB61DAF2-7435-469C-87F4-090631382EA9_jpeg.rf.a23fc244f8e318a668c9f38eaadaf7e7.jpg: 640x640 1 BUSCAPINA, 7.3ms\n",
            "image 56/57 /content/dataset/test/images/FCC405E6-BF5D-48C7-BCC4-5CFD9A5F8FC2_jpeg.rf.125b15b2b3bfc5b9778522b8ab0d1733.jpg: 640x640 1 ALKASELTZER, 7.6ms\n",
            "image 57/57 /content/dataset/test/images/FECB6EF9-E9CC-4F1B-BFB6-176E55426E14_jpeg.rf.47ee908d073a769453e041eac55bab38.jpg: 640x640 1 ALKASELTZER, 7.4ms\n",
            "Speed: 1.9ms preprocess, 7.7ms inference, 1.3ms postprocess per image at shape (1, 3, 640, 640)\n",
            "Results saved to \u001b[1mruns/detect/predict2\u001b[0m\n"
          ]
        },
        {
          "output_type": "execute_result",
          "data": {
            "text/plain": [
              "[ultralytics.engine.results.Results object with attributes:\n",
              " \n",
              " boxes: ultralytics.engine.results.Boxes object\n",
              " keypoints: None\n",
              " masks: None\n",
              " names: {0: 'ALKASELTZER', 1: 'ASPIRINA_100', 2: 'BUSCAPINA', 3: 'DOLEX_GRIPA', 4: 'GAVISCON', 5: 'IBUFLASH_MIGRAN', 6: 'IBUPROFENO_GENFAR', 7: 'LEVONORGESTREL', 8: 'NORAVER_GRIPA_DIA', 9: 'VITAC_MK'}\n",
              " obb: None\n",
              " orig_img: array([[[ 97, 163,   4],\n",
              "         [ 97, 163,   4],\n",
              "         [ 97, 163,   4],\n",
              "         ...,\n",
              "         [103, 163,   3],\n",
              "         [103, 163,   3],\n",
              "         [103, 163,   3]],\n",
              " \n",
              "        [[ 97, 163,   4],\n",
              "         [ 97, 163,   4],\n",
              "         [ 97, 163,   4],\n",
              "         ...,\n",
              "         [103, 163,   3],\n",
              "         [103, 163,   3],\n",
              "         [103, 163,   3]],\n",
              " \n",
              "        [[ 97, 163,   4],\n",
              "         [ 97, 163,   4],\n",
              "         [ 97, 163,   4],\n",
              "         ...,\n",
              "         [103, 163,   3],\n",
              "         [103, 163,   3],\n",
              "         [103, 163,   3]],\n",
              " \n",
              "        ...,\n",
              " \n",
              "        [[ 13,  44,   5],\n",
              "         [ 13,  44,   5],\n",
              "         [ 13,  44,   5],\n",
              "         ...,\n",
              "         [  6,   7,   3],\n",
              "         [  6,   7,   3],\n",
              "         [  6,   7,   3]],\n",
              " \n",
              "        [[ 13,  44,   5],\n",
              "         [ 13,  44,   5],\n",
              "         [ 13,  44,   5],\n",
              "         ...,\n",
              "         [  6,   7,   3],\n",
              "         [  6,   7,   3],\n",
              "         [  6,   7,   3]],\n",
              " \n",
              "        [[ 13,  44,   5],\n",
              "         [ 13,  44,   5],\n",
              "         [ 13,  44,   5],\n",
              "         ...,\n",
              "         [  6,   7,   3],\n",
              "         [  6,   7,   3],\n",
              "         [  6,   7,   3]]], dtype=uint8)\n",
              " orig_shape: (640, 640)\n",
              " path: '/content/dataset/test/images/008BE35A-ED85-43FA-BFD5-8344139510A8_jpeg.rf.36908adaf34f6631423c41b6f5fff7db.jpg'\n",
              " probs: None\n",
              " save_dir: 'runs/detect/predict2'\n",
              " speed: {'preprocess': 1.44195556640625, 'inference': 7.333040237426758, 'postprocess': 1.4119148254394531},\n",
              " ultralytics.engine.results.Results object with attributes:\n",
              " \n",
              " boxes: ultralytics.engine.results.Boxes object\n",
              " keypoints: None\n",
              " masks: None\n",
              " names: {0: 'ALKASELTZER', 1: 'ASPIRINA_100', 2: 'BUSCAPINA', 3: 'DOLEX_GRIPA', 4: 'GAVISCON', 5: 'IBUFLASH_MIGRAN', 6: 'IBUPROFENO_GENFAR', 7: 'LEVONORGESTREL', 8: 'NORAVER_GRIPA_DIA', 9: 'VITAC_MK'}\n",
              " obb: None\n",
              " orig_img: array([[[118, 113, 110],\n",
              "         [118, 113, 110],\n",
              "         [118, 113, 110],\n",
              "         ...,\n",
              "         [128, 119, 115],\n",
              "         [128, 119, 115],\n",
              "         [128, 119, 115]],\n",
              " \n",
              "        [[118, 113, 110],\n",
              "         [118, 113, 110],\n",
              "         [118, 113, 110],\n",
              "         ...,\n",
              "         [128, 119, 115],\n",
              "         [128, 119, 115],\n",
              "         [128, 119, 115]],\n",
              " \n",
              "        [[118, 113, 110],\n",
              "         [118, 113, 110],\n",
              "         [118, 113, 110],\n",
              "         ...,\n",
              "         [128, 119, 115],\n",
              "         [128, 119, 115],\n",
              "         [128, 119, 115]],\n",
              " \n",
              "        ...,\n",
              " \n",
              "        [[ 18,  20,  21],\n",
              "         [ 18,  20,  21],\n",
              "         [ 18,  20,  21],\n",
              "         ...,\n",
              "         [ 20,  19,  21],\n",
              "         [ 20,  19,  21],\n",
              "         [ 20,  19,  21]],\n",
              " \n",
              "        [[ 18,  20,  21],\n",
              "         [ 18,  20,  21],\n",
              "         [ 18,  20,  21],\n",
              "         ...,\n",
              "         [ 20,  19,  21],\n",
              "         [ 20,  19,  21],\n",
              "         [ 20,  19,  21]],\n",
              " \n",
              "        [[ 18,  20,  21],\n",
              "         [ 18,  20,  21],\n",
              "         [ 18,  20,  21],\n",
              "         ...,\n",
              "         [ 20,  19,  21],\n",
              "         [ 20,  19,  21],\n",
              "         [ 20,  19,  21]]], dtype=uint8)\n",
              " orig_shape: (640, 640)\n",
              " path: '/content/dataset/test/images/00BBDD2C-C2A1-463B-8D00-992EB02D6EC2_jpeg.rf.e0c4df7d27de86254dedac365ff1c7d4.jpg'\n",
              " probs: None\n",
              " save_dir: 'runs/detect/predict2'\n",
              " speed: {'preprocess': 1.4214515686035156, 'inference': 7.381916046142578, 'postprocess': 1.1916160583496094},\n",
              " ultralytics.engine.results.Results object with attributes:\n",
              " \n",
              " boxes: ultralytics.engine.results.Boxes object\n",
              " keypoints: None\n",
              " masks: None\n",
              " names: {0: 'ALKASELTZER', 1: 'ASPIRINA_100', 2: 'BUSCAPINA', 3: 'DOLEX_GRIPA', 4: 'GAVISCON', 5: 'IBUFLASH_MIGRAN', 6: 'IBUPROFENO_GENFAR', 7: 'LEVONORGESTREL', 8: 'NORAVER_GRIPA_DIA', 9: 'VITAC_MK'}\n",
              " obb: None\n",
              " orig_img: array([[[193, 170, 238],\n",
              "         [193, 170, 238],\n",
              "         [193, 170, 238],\n",
              "         ...,\n",
              "         [199, 180, 243],\n",
              "         [197, 178, 241],\n",
              "         [196, 177, 240]],\n",
              " \n",
              "        [[191, 168, 236],\n",
              "         [191, 168, 236],\n",
              "         [191, 168, 236],\n",
              "         ...,\n",
              "         [199, 180, 243],\n",
              "         [198, 179, 242],\n",
              "         [197, 178, 241]],\n",
              " \n",
              "        [[188, 165, 233],\n",
              "         [189, 166, 234],\n",
              "         [189, 166, 234],\n",
              "         ...,\n",
              "         [199, 180, 243],\n",
              "         [198, 179, 242],\n",
              "         [197, 178, 241]],\n",
              " \n",
              "        ...,\n",
              " \n",
              "        [[ 10,  36, 232],\n",
              "         [ 10,  38, 233],\n",
              "         [ 11,  37, 235],\n",
              "         ...,\n",
              "         [138,  99, 251],\n",
              "         [138,  99, 251],\n",
              "         [138,  99, 251]],\n",
              " \n",
              "        [[  9,  40, 227],\n",
              "         [  7,  40, 227],\n",
              "         [ 10,  41, 228],\n",
              "         ...,\n",
              "         [136,  97, 249],\n",
              "         [136,  97, 249],\n",
              "         [135,  96, 248]],\n",
              " \n",
              "        [[  7,  41, 224],\n",
              "         [  7,  41, 224],\n",
              "         [  7,  41, 224],\n",
              "         ...,\n",
              "         [142, 103, 255],\n",
              "         [141, 102, 254],\n",
              "         [141, 102, 254]]], dtype=uint8)\n",
              " orig_shape: (640, 640)\n",
              " path: '/content/dataset/test/images/01D0AD14-E522-4737-85C9-551BF4FF9D96_jpeg.rf.bff626e61ed25516b6b2de262afd7a19.jpg'\n",
              " probs: None\n",
              " save_dir: 'runs/detect/predict2'\n",
              " speed: {'preprocess': 1.4069080352783203, 'inference': 7.377147674560547, 'postprocess': 1.1949539184570312},\n",
              " ultralytics.engine.results.Results object with attributes:\n",
              " \n",
              " boxes: ultralytics.engine.results.Boxes object\n",
              " keypoints: None\n",
              " masks: None\n",
              " names: {0: 'ALKASELTZER', 1: 'ASPIRINA_100', 2: 'BUSCAPINA', 3: 'DOLEX_GRIPA', 4: 'GAVISCON', 5: 'IBUFLASH_MIGRAN', 6: 'IBUPROFENO_GENFAR', 7: 'LEVONORGESTREL', 8: 'NORAVER_GRIPA_DIA', 9: 'VITAC_MK'}\n",
              " obb: None\n",
              " orig_img: array([[[ 25, 180,  29],\n",
              "         [ 25, 180,  29],\n",
              "         [ 25, 180,  29],\n",
              "         ...,\n",
              "         [ 34, 193,  35],\n",
              "         [ 34, 193,  35],\n",
              "         [ 34, 193,  35]],\n",
              " \n",
              "        [[ 25, 180,  29],\n",
              "         [ 25, 180,  29],\n",
              "         [ 25, 180,  29],\n",
              "         ...,\n",
              "         [ 35, 194,  36],\n",
              "         [ 35, 194,  36],\n",
              "         [ 35, 194,  36]],\n",
              " \n",
              "        [[ 25, 180,  29],\n",
              "         [ 25, 180,  29],\n",
              "         [ 25, 180,  29],\n",
              "         ...,\n",
              "         [ 35, 194,  36],\n",
              "         [ 35, 194,  36],\n",
              "         [ 35, 194,  36]],\n",
              " \n",
              "        ...,\n",
              " \n",
              "        [[  5,  21,   4],\n",
              "         [  5,  21,   4],\n",
              "         [  5,  21,   4],\n",
              "         ...,\n",
              "         [  8,  59,   9],\n",
              "         [  8,  59,   9],\n",
              "         [  7,  58,   8]],\n",
              " \n",
              "        [[  5,  21,   4],\n",
              "         [  5,  21,   4],\n",
              "         [  5,  21,   4],\n",
              "         ...,\n",
              "         [  8,  59,   9],\n",
              "         [  8,  59,   9],\n",
              "         [  7,  58,   8]],\n",
              " \n",
              "        [[  5,  21,   4],\n",
              "         [  5,  21,   4],\n",
              "         [  5,  21,   4],\n",
              "         ...,\n",
              "         [  8,  59,   9],\n",
              "         [  8,  59,   9],\n",
              "         [  7,  58,   8]]], dtype=uint8)\n",
              " orig_shape: (640, 640)\n",
              " path: '/content/dataset/test/images/067ACD18-F150-4040-AC28-5E64B7FA4799_jpeg.rf.77ba8b2ed0c9ccd79398fb07e45d2ca9.jpg'\n",
              " probs: None\n",
              " save_dir: 'runs/detect/predict2'\n",
              " speed: {'preprocess': 1.4488697052001953, 'inference': 7.349729537963867, 'postprocess': 1.184225082397461},\n",
              " ultralytics.engine.results.Results object with attributes:\n",
              " \n",
              " boxes: ultralytics.engine.results.Boxes object\n",
              " keypoints: None\n",
              " masks: None\n",
              " names: {0: 'ALKASELTZER', 1: 'ASPIRINA_100', 2: 'BUSCAPINA', 3: 'DOLEX_GRIPA', 4: 'GAVISCON', 5: 'IBUFLASH_MIGRAN', 6: 'IBUPROFENO_GENFAR', 7: 'LEVONORGESTREL', 8: 'NORAVER_GRIPA_DIA', 9: 'VITAC_MK'}\n",
              " obb: None\n",
              " orig_img: array([[[144, 143, 147],\n",
              "         [144, 143, 147],\n",
              "         [144, 143, 147],\n",
              "         ...,\n",
              "         [142, 138, 143],\n",
              "         [142, 138, 143],\n",
              "         [142, 138, 143]],\n",
              " \n",
              "        [[144, 143, 147],\n",
              "         [144, 143, 147],\n",
              "         [144, 143, 147],\n",
              "         ...,\n",
              "         [142, 138, 143],\n",
              "         [142, 138, 143],\n",
              "         [142, 138, 143]],\n",
              " \n",
              "        [[144, 143, 147],\n",
              "         [144, 143, 147],\n",
              "         [144, 143, 147],\n",
              "         ...,\n",
              "         [142, 138, 143],\n",
              "         [142, 138, 143],\n",
              "         [142, 138, 143]],\n",
              " \n",
              "        ...,\n",
              " \n",
              "        [[ 36,  31,  32],\n",
              "         [ 36,  31,  32],\n",
              "         [ 37,  32,  33],\n",
              "         ...,\n",
              "         [ 15,  10,  11],\n",
              "         [ 15,  10,  11],\n",
              "         [ 15,  10,  11]],\n",
              " \n",
              "        [[ 36,  31,  32],\n",
              "         [ 36,  31,  32],\n",
              "         [ 36,  31,  32],\n",
              "         ...,\n",
              "         [ 15,  10,  11],\n",
              "         [ 15,  10,  11],\n",
              "         [ 15,  10,  11]],\n",
              " \n",
              "        [[ 21,  16,  17],\n",
              "         [ 21,  16,  17],\n",
              "         [ 22,  17,  18],\n",
              "         ...,\n",
              "         [ 15,  10,  11],\n",
              "         [ 15,  10,  11],\n",
              "         [ 15,  10,  11]]], dtype=uint8)\n",
              " orig_shape: (640, 640)\n",
              " path: '/content/dataset/test/images/0C7149D2-80E6-4D03-96D5-066D8308CA15_jpeg.rf.2f0eac5c8877981a5f5cf1c1d87511fb.jpg'\n",
              " probs: None\n",
              " save_dir: 'runs/detect/predict2'\n",
              " speed: {'preprocess': 1.4357566833496094, 'inference': 7.345676422119141, 'postprocess': 1.18255615234375},\n",
              " ultralytics.engine.results.Results object with attributes:\n",
              " \n",
              " boxes: ultralytics.engine.results.Boxes object\n",
              " keypoints: None\n",
              " masks: None\n",
              " names: {0: 'ALKASELTZER', 1: 'ASPIRINA_100', 2: 'BUSCAPINA', 3: 'DOLEX_GRIPA', 4: 'GAVISCON', 5: 'IBUFLASH_MIGRAN', 6: 'IBUPROFENO_GENFAR', 7: 'LEVONORGESTREL', 8: 'NORAVER_GRIPA_DIA', 9: 'VITAC_MK'}\n",
              " obb: None\n",
              " orig_img: array([[[178, 174, 180],\n",
              "         [178, 174, 180],\n",
              "         [178, 174, 180],\n",
              "         ...,\n",
              "         [195, 189, 194],\n",
              "         [195, 189, 194],\n",
              "         [195, 189, 194]],\n",
              " \n",
              "        [[178, 174, 180],\n",
              "         [178, 174, 180],\n",
              "         [178, 174, 180],\n",
              "         ...,\n",
              "         [195, 189, 194],\n",
              "         [195, 189, 194],\n",
              "         [195, 189, 194]],\n",
              " \n",
              "        [[178, 174, 180],\n",
              "         [178, 174, 180],\n",
              "         [178, 174, 180],\n",
              "         ...,\n",
              "         [195, 189, 194],\n",
              "         [195, 189, 194],\n",
              "         [195, 189, 194]],\n",
              " \n",
              "        ...,\n",
              " \n",
              "        [[ 39,  41, 179],\n",
              "         [ 39,  41, 179],\n",
              "         [ 39,  41, 179],\n",
              "         ...,\n",
              "         [229, 224, 226],\n",
              "         [229, 224, 226],\n",
              "         [229, 224, 226]],\n",
              " \n",
              "        [[ 38,  43, 175],\n",
              "         [ 38,  43, 175],\n",
              "         [ 38,  44, 173],\n",
              "         ...,\n",
              "         [229, 224, 226],\n",
              "         [229, 224, 226],\n",
              "         [229, 224, 226]],\n",
              " \n",
              "        [[ 36,  45, 172],\n",
              "         [ 36,  45, 172],\n",
              "         [ 36,  46, 170],\n",
              "         ...,\n",
              "         [229, 224, 226],\n",
              "         [229, 224, 226],\n",
              "         [229, 224, 226]]], dtype=uint8)\n",
              " orig_shape: (640, 640)\n",
              " path: '/content/dataset/test/images/0E7C212C-F026-4668-8C36-E59BDCD8A677_jpeg.rf.e3e551560066c23e43c91c2c80dc6884.jpg'\n",
              " probs: None\n",
              " save_dir: 'runs/detect/predict2'\n",
              " speed: {'preprocess': 1.4693737030029297, 'inference': 7.384538650512695, 'postprocess': 1.264333724975586},\n",
              " ultralytics.engine.results.Results object with attributes:\n",
              " \n",
              " boxes: ultralytics.engine.results.Boxes object\n",
              " keypoints: None\n",
              " masks: None\n",
              " names: {0: 'ALKASELTZER', 1: 'ASPIRINA_100', 2: 'BUSCAPINA', 3: 'DOLEX_GRIPA', 4: 'GAVISCON', 5: 'IBUFLASH_MIGRAN', 6: 'IBUPROFENO_GENFAR', 7: 'LEVONORGESTREL', 8: 'NORAVER_GRIPA_DIA', 9: 'VITAC_MK'}\n",
              " obb: None\n",
              " orig_img: array([[[252,  36,   1],\n",
              "         [252,  36,   1],\n",
              "         [252,  36,   1],\n",
              "         ...,\n",
              "         [254,  53,   2],\n",
              "         [254,  53,   2],\n",
              "         [254,  53,   2]],\n",
              " \n",
              "        [[252,  36,   1],\n",
              "         [252,  36,   1],\n",
              "         [252,  36,   1],\n",
              "         ...,\n",
              "         [254,  53,   2],\n",
              "         [254,  53,   2],\n",
              "         [254,  53,   2]],\n",
              " \n",
              "        [[252,  36,   1],\n",
              "         [252,  36,   1],\n",
              "         [252,  36,   1],\n",
              "         ...,\n",
              "         [254,  53,   2],\n",
              "         [254,  53,   2],\n",
              "         [254,  53,   2]],\n",
              " \n",
              "        ...,\n",
              " \n",
              "        [[254,  46,   4],\n",
              "         [254,  46,   4],\n",
              "         [254,  46,   4],\n",
              "         ...,\n",
              "         [255,  67,   4],\n",
              "         [255,  67,   4],\n",
              "         [255,  67,   4]],\n",
              " \n",
              "        [[254,  46,   4],\n",
              "         [254,  46,   4],\n",
              "         [254,  46,   4],\n",
              "         ...,\n",
              "         [255,  67,   4],\n",
              "         [255,  67,   4],\n",
              "         [255,  67,   4]],\n",
              " \n",
              "        [[254,  46,   4],\n",
              "         [254,  46,   4],\n",
              "         [254,  46,   4],\n",
              "         ...,\n",
              "         [255,  67,   4],\n",
              "         [255,  67,   4],\n",
              "         [255,  67,   4]]], dtype=uint8)\n",
              " orig_shape: (640, 640)\n",
              " path: '/content/dataset/test/images/127E44CB-1D40-4740-B907-90DB3F827E7E_jpeg.rf.ecd7903c05f26226bef07bfc40915856.jpg'\n",
              " probs: None\n",
              " save_dir: 'runs/detect/predict2'\n",
              " speed: {'preprocess': 1.4679431915283203, 'inference': 7.368564605712891, 'postprocess': 1.2307167053222656},\n",
              " ultralytics.engine.results.Results object with attributes:\n",
              " \n",
              " boxes: ultralytics.engine.results.Boxes object\n",
              " keypoints: None\n",
              " masks: None\n",
              " names: {0: 'ALKASELTZER', 1: 'ASPIRINA_100', 2: 'BUSCAPINA', 3: 'DOLEX_GRIPA', 4: 'GAVISCON', 5: 'IBUFLASH_MIGRAN', 6: 'IBUPROFENO_GENFAR', 7: 'LEVONORGESTREL', 8: 'NORAVER_GRIPA_DIA', 9: 'VITAC_MK'}\n",
              " obb: None\n",
              " orig_img: array([[[244,  54,   1],\n",
              "         [243,  53,   0],\n",
              "         [243,  53,   0],\n",
              "         ...,\n",
              "         [245,  53,   0],\n",
              "         [245,  53,   0],\n",
              "         [245,  53,   0]],\n",
              " \n",
              "        [[244,  54,   1],\n",
              "         [243,  53,   0],\n",
              "         [243,  53,   0],\n",
              "         ...,\n",
              "         [245,  53,   0],\n",
              "         [245,  53,   0],\n",
              "         [245,  53,   0]],\n",
              " \n",
              "        [[244,  54,   1],\n",
              "         [243,  53,   0],\n",
              "         [243,  53,   0],\n",
              "         ...,\n",
              "         [245,  53,   0],\n",
              "         [245,  53,   0],\n",
              "         [245,  53,   0]],\n",
              " \n",
              "        ...,\n",
              " \n",
              "        [[167,   4,   1],\n",
              "         [167,   4,   1],\n",
              "         [167,   4,   1],\n",
              "         ...,\n",
              "         [ 82,   3,   0],\n",
              "         [ 82,   3,   0],\n",
              "         [ 82,   3,   0]],\n",
              " \n",
              "        [[167,   4,   1],\n",
              "         [167,   4,   1],\n",
              "         [167,   4,   1],\n",
              "         ...,\n",
              "         [ 82,   3,   0],\n",
              "         [ 82,   3,   0],\n",
              "         [ 82,   3,   0]],\n",
              " \n",
              "        [[167,   4,   1],\n",
              "         [167,   4,   1],\n",
              "         [167,   4,   1],\n",
              "         ...,\n",
              "         [ 82,   3,   0],\n",
              "         [ 82,   3,   0],\n",
              "         [ 82,   3,   0]]], dtype=uint8)\n",
              " orig_shape: (640, 640)\n",
              " path: '/content/dataset/test/images/13DF653A-4DD7-4A56-9B0D-2FB44C139513_jpeg.rf.a339c5cd2feb8dfb65665bd9217d7504.jpg'\n",
              " probs: None\n",
              " save_dir: 'runs/detect/predict2'\n",
              " speed: {'preprocess': 1.4116764068603516, 'inference': 7.339715957641602, 'postprocess': 1.1832714080810547},\n",
              " ultralytics.engine.results.Results object with attributes:\n",
              " \n",
              " boxes: ultralytics.engine.results.Boxes object\n",
              " keypoints: None\n",
              " masks: None\n",
              " names: {0: 'ALKASELTZER', 1: 'ASPIRINA_100', 2: 'BUSCAPINA', 3: 'DOLEX_GRIPA', 4: 'GAVISCON', 5: 'IBUFLASH_MIGRAN', 6: 'IBUPROFENO_GENFAR', 7: 'LEVONORGESTREL', 8: 'NORAVER_GRIPA_DIA', 9: 'VITAC_MK'}\n",
              " obb: None\n",
              " orig_img: array([[[ 98, 233,  33],\n",
              "         [ 98, 233,  33],\n",
              "         [ 98, 233,  33],\n",
              "         ...,\n",
              "         [ 63, 185,  13],\n",
              "         [ 63, 185,  13],\n",
              "         [ 63, 185,  13]],\n",
              " \n",
              "        [[ 98, 233,  33],\n",
              "         [ 98, 233,  33],\n",
              "         [ 98, 233,  33],\n",
              "         ...,\n",
              "         [ 63, 185,  13],\n",
              "         [ 63, 185,  13],\n",
              "         [ 63, 185,  13]],\n",
              " \n",
              "        [[ 98, 233,  33],\n",
              "         [ 98, 233,  33],\n",
              "         [ 98, 233,  33],\n",
              "         ...,\n",
              "         [ 63, 185,  13],\n",
              "         [ 63, 185,  13],\n",
              "         [ 63, 185,  13]],\n",
              " \n",
              "        ...,\n",
              " \n",
              "        [[ 50, 179,  12],\n",
              "         [ 67, 196,  27],\n",
              "         [ 85, 213,  42],\n",
              "         ...,\n",
              "         [ 72, 202,  17],\n",
              "         [ 72, 202,  17],\n",
              "         [ 72, 202,  17]],\n",
              " \n",
              "        [[ 71, 216,  17],\n",
              "         [ 74, 218,  22],\n",
              "         [ 78, 217,  29],\n",
              "         ...,\n",
              "         [ 72, 202,  17],\n",
              "         [ 72, 202,  17],\n",
              "         [ 72, 202,  17]],\n",
              " \n",
              "        [[ 69, 224,   9],\n",
              "         [ 72, 225,  16],\n",
              "         [ 76, 221,  23],\n",
              "         ...,\n",
              "         [ 72, 202,  17],\n",
              "         [ 72, 202,  17],\n",
              "         [ 72, 202,  17]]], dtype=uint8)\n",
              " orig_shape: (640, 640)\n",
              " path: '/content/dataset/test/images/18A8618E-7840-40E0-903B-70EE6256D339_jpeg.rf.d0e63616981b93baad666cff374f974e.jpg'\n",
              " probs: None\n",
              " save_dir: 'runs/detect/predict2'\n",
              " speed: {'preprocess': 1.5840530395507812, 'inference': 12.80975341796875, 'postprocess': 1.9638538360595703},\n",
              " ultralytics.engine.results.Results object with attributes:\n",
              " \n",
              " boxes: ultralytics.engine.results.Boxes object\n",
              " keypoints: None\n",
              " masks: None\n",
              " names: {0: 'ALKASELTZER', 1: 'ASPIRINA_100', 2: 'BUSCAPINA', 3: 'DOLEX_GRIPA', 4: 'GAVISCON', 5: 'IBUFLASH_MIGRAN', 6: 'IBUPROFENO_GENFAR', 7: 'LEVONORGESTREL', 8: 'NORAVER_GRIPA_DIA', 9: 'VITAC_MK'}\n",
              " obb: None\n",
              " orig_img: array([[[ 27, 189,  30],\n",
              "         [ 27, 189,  30],\n",
              "         [ 27, 189,  30],\n",
              "         ...,\n",
              "         [ 33, 199,  32],\n",
              "         [ 36, 202,  35],\n",
              "         [ 40, 206,  39]],\n",
              " \n",
              "        [[ 27, 189,  30],\n",
              "         [ 27, 189,  30],\n",
              "         [ 27, 189,  30],\n",
              "         ...,\n",
              "         [ 35, 201,  34],\n",
              "         [ 37, 203,  36],\n",
              "         [ 39, 205,  38]],\n",
              " \n",
              "        [[ 27, 189,  30],\n",
              "         [ 27, 189,  30],\n",
              "         [ 27, 189,  30],\n",
              "         ...,\n",
              "         [ 37, 203,  36],\n",
              "         [ 37, 203,  36],\n",
              "         [ 38, 204,  37]],\n",
              " \n",
              "        ...,\n",
              " \n",
              "        [[  4,  14,   2],\n",
              "         [  4,  14,   2],\n",
              "         [  4,  14,   2],\n",
              "         ...,\n",
              "         [  6,  57,   7],\n",
              "         [  6,  57,   7],\n",
              "         [  6,  57,   7]],\n",
              " \n",
              "        [[  4,  14,   2],\n",
              "         [  4,  14,   2],\n",
              "         [  4,  14,   2],\n",
              "         ...,\n",
              "         [  6,  57,   7],\n",
              "         [  6,  57,   7],\n",
              "         [  6,  57,   7]],\n",
              " \n",
              "        [[  4,  14,   2],\n",
              "         [  4,  14,   2],\n",
              "         [  4,  14,   2],\n",
              "         ...,\n",
              "         [  6,  57,   7],\n",
              "         [  6,  57,   7],\n",
              "         [  6,  57,   7]]], dtype=uint8)\n",
              " orig_shape: (640, 640)\n",
              " path: '/content/dataset/test/images/31212482-43E8-45FB-AAE7-4202F0ABB767_jpeg.rf.b3f7d746902d2adac5bac0b87b220c2d.jpg'\n",
              " probs: None\n",
              " save_dir: 'runs/detect/predict2'\n",
              " speed: {'preprocess': 1.5361309051513672, 'inference': 7.38525390625, 'postprocess': 1.4386177062988281},\n",
              " ultralytics.engine.results.Results object with attributes:\n",
              " \n",
              " boxes: ultralytics.engine.results.Boxes object\n",
              " keypoints: None\n",
              " masks: None\n",
              " names: {0: 'ALKASELTZER', 1: 'ASPIRINA_100', 2: 'BUSCAPINA', 3: 'DOLEX_GRIPA', 4: 'GAVISCON', 5: 'IBUFLASH_MIGRAN', 6: 'IBUPROFENO_GENFAR', 7: 'LEVONORGESTREL', 8: 'NORAVER_GRIPA_DIA', 9: 'VITAC_MK'}\n",
              " obb: None\n",
              " orig_img: array([[[130, 118, 118],\n",
              "         [130, 118, 118],\n",
              "         [130, 118, 118],\n",
              "         ...,\n",
              "         [132, 120, 118],\n",
              "         [132, 120, 118],\n",
              "         [132, 120, 118]],\n",
              " \n",
              "        [[130, 118, 118],\n",
              "         [130, 118, 118],\n",
              "         [130, 118, 118],\n",
              "         ...,\n",
              "         [132, 120, 118],\n",
              "         [132, 120, 118],\n",
              "         [132, 120, 118]],\n",
              " \n",
              "        [[130, 118, 118],\n",
              "         [130, 118, 118],\n",
              "         [130, 118, 118],\n",
              "         ...,\n",
              "         [132, 120, 118],\n",
              "         [132, 120, 118],\n",
              "         [132, 120, 118]],\n",
              " \n",
              "        ...,\n",
              " \n",
              "        [[ 18,  17,  21],\n",
              "         [ 18,  17,  21],\n",
              "         [ 18,  17,  21],\n",
              "         ...,\n",
              "         [ 19,  15,  20],\n",
              "         [ 19,  15,  20],\n",
              "         [ 19,  15,  20]],\n",
              " \n",
              "        [[ 18,  17,  21],\n",
              "         [ 18,  17,  21],\n",
              "         [ 18,  17,  21],\n",
              "         ...,\n",
              "         [ 19,  15,  20],\n",
              "         [ 19,  15,  20],\n",
              "         [ 19,  15,  20]],\n",
              " \n",
              "        [[ 18,  17,  21],\n",
              "         [ 18,  17,  21],\n",
              "         [ 18,  17,  21],\n",
              "         ...,\n",
              "         [ 19,  15,  20],\n",
              "         [ 19,  15,  20],\n",
              "         [ 19,  15,  20]]], dtype=uint8)\n",
              " orig_shape: (640, 640)\n",
              " path: '/content/dataset/test/images/35C887FE-ABF1-4EFB-8CD2-1D27B18365A4_jpeg.rf.6ffbb34964c5d37ecc8124a39b19e7f3.jpg'\n",
              " probs: None\n",
              " save_dir: 'runs/detect/predict2'\n",
              " speed: {'preprocess': 1.8994808197021484, 'inference': 7.347822189331055, 'postprocess': 1.245260238647461},\n",
              " ultralytics.engine.results.Results object with attributes:\n",
              " \n",
              " boxes: ultralytics.engine.results.Boxes object\n",
              " keypoints: None\n",
              " masks: None\n",
              " names: {0: 'ALKASELTZER', 1: 'ASPIRINA_100', 2: 'BUSCAPINA', 3: 'DOLEX_GRIPA', 4: 'GAVISCON', 5: 'IBUFLASH_MIGRAN', 6: 'IBUPROFENO_GENFAR', 7: 'LEVONORGESTREL', 8: 'NORAVER_GRIPA_DIA', 9: 'VITAC_MK'}\n",
              " obb: None\n",
              " orig_img: array([[[196, 196, 196],\n",
              "         [196, 196, 196],\n",
              "         [196, 196, 196],\n",
              "         ...,\n",
              "         [158, 156, 156],\n",
              "         [158, 156, 156],\n",
              "         [158, 156, 156]],\n",
              " \n",
              "        [[196, 196, 196],\n",
              "         [196, 196, 196],\n",
              "         [196, 196, 196],\n",
              "         ...,\n",
              "         [158, 156, 156],\n",
              "         [158, 156, 156],\n",
              "         [158, 156, 156]],\n",
              " \n",
              "        [[196, 196, 196],\n",
              "         [196, 196, 196],\n",
              "         [196, 196, 196],\n",
              "         ...,\n",
              "         [158, 156, 156],\n",
              "         [158, 156, 156],\n",
              "         [158, 156, 156]],\n",
              " \n",
              "        ...,\n",
              " \n",
              "        [[ 26,  24,  24],\n",
              "         [ 26,  24,  24],\n",
              "         [ 26,  24,  24],\n",
              "         ...,\n",
              "         [165, 163, 162],\n",
              "         [165, 163, 162],\n",
              "         [165, 163, 162]],\n",
              " \n",
              "        [[ 27,  25,  25],\n",
              "         [ 27,  25,  25],\n",
              "         [ 28,  26,  26],\n",
              "         ...,\n",
              "         [165, 163, 162],\n",
              "         [165, 163, 162],\n",
              "         [165, 163, 162]],\n",
              " \n",
              "        [[ 28,  26,  26],\n",
              "         [ 29,  27,  27],\n",
              "         [ 29,  27,  27],\n",
              "         ...,\n",
              "         [165, 163, 162],\n",
              "         [165, 163, 162],\n",
              "         [165, 163, 162]]], dtype=uint8)\n",
              " orig_shape: (640, 640)\n",
              " path: '/content/dataset/test/images/35E12B98-3639-4B86-A013-76031C6E5599_jpeg.rf.b596249175bdca3e7afd6ac125b1a81c.jpg'\n",
              " probs: None\n",
              " save_dir: 'runs/detect/predict2'\n",
              " speed: {'preprocess': 1.920461654663086, 'inference': 7.327079772949219, 'postprocess': 1.1436939239501953},\n",
              " ultralytics.engine.results.Results object with attributes:\n",
              " \n",
              " boxes: ultralytics.engine.results.Boxes object\n",
              " keypoints: None\n",
              " masks: None\n",
              " names: {0: 'ALKASELTZER', 1: 'ASPIRINA_100', 2: 'BUSCAPINA', 3: 'DOLEX_GRIPA', 4: 'GAVISCON', 5: 'IBUFLASH_MIGRAN', 6: 'IBUPROFENO_GENFAR', 7: 'LEVONORGESTREL', 8: 'NORAVER_GRIPA_DIA', 9: 'VITAC_MK'}\n",
              " obb: None\n",
              " orig_img: array([[[179, 181, 192],\n",
              "         [179, 181, 192],\n",
              "         [179, 181, 192],\n",
              "         ...,\n",
              "         [128, 129, 139],\n",
              "         [128, 129, 139],\n",
              "         [128, 129, 139]],\n",
              " \n",
              "        [[179, 181, 192],\n",
              "         [179, 181, 192],\n",
              "         [179, 181, 192],\n",
              "         ...,\n",
              "         [128, 129, 139],\n",
              "         [128, 129, 139],\n",
              "         [128, 129, 139]],\n",
              " \n",
              "        [[179, 181, 192],\n",
              "         [179, 181, 192],\n",
              "         [179, 181, 192],\n",
              "         ...,\n",
              "         [128, 129, 139],\n",
              "         [128, 129, 139],\n",
              "         [128, 129, 139]],\n",
              " \n",
              "        ...,\n",
              " \n",
              "        [[ 16,  11,  13],\n",
              "         [ 16,  11,  13],\n",
              "         [ 16,  11,  13],\n",
              "         ...,\n",
              "         [143, 143, 155],\n",
              "         [142, 142, 154],\n",
              "         [142, 142, 154]],\n",
              " \n",
              "        [[ 16,  11,  13],\n",
              "         [ 16,  11,  13],\n",
              "         [ 16,  11,  13],\n",
              "         ...,\n",
              "         [142, 142, 154],\n",
              "         [141, 141, 153],\n",
              "         [141, 141, 153]],\n",
              " \n",
              "        [[ 16,  11,  13],\n",
              "         [ 16,  11,  13],\n",
              "         [ 16,  11,  13],\n",
              "         ...,\n",
              "         [141, 141, 153],\n",
              "         [141, 141, 153],\n",
              "         [140, 140, 152]]], dtype=uint8)\n",
              " orig_shape: (640, 640)\n",
              " path: '/content/dataset/test/images/3B2711E6-0E64-4F5E-8250-BA5558DCCA75_jpeg.rf.b572efbfbe68f9c8748a4a694f7970d1.jpg'\n",
              " probs: None\n",
              " save_dir: 'runs/detect/predict2'\n",
              " speed: {'preprocess': 1.9364356994628906, 'inference': 7.328987121582031, 'postprocess': 1.224517822265625},\n",
              " ultralytics.engine.results.Results object with attributes:\n",
              " \n",
              " boxes: ultralytics.engine.results.Boxes object\n",
              " keypoints: None\n",
              " masks: None\n",
              " names: {0: 'ALKASELTZER', 1: 'ASPIRINA_100', 2: 'BUSCAPINA', 3: 'DOLEX_GRIPA', 4: 'GAVISCON', 5: 'IBUFLASH_MIGRAN', 6: 'IBUPROFENO_GENFAR', 7: 'LEVONORGESTREL', 8: 'NORAVER_GRIPA_DIA', 9: 'VITAC_MK'}\n",
              " obb: None\n",
              " orig_img: array([[[178, 158, 230],\n",
              "         [178, 158, 230],\n",
              "         [178, 158, 230],\n",
              "         ...,\n",
              "         [185, 166, 235],\n",
              "         [185, 166, 235],\n",
              "         [185, 166, 235]],\n",
              " \n",
              "        [[178, 158, 230],\n",
              "         [178, 158, 230],\n",
              "         [178, 158, 230],\n",
              "         ...,\n",
              "         [185, 166, 235],\n",
              "         [185, 166, 235],\n",
              "         [185, 166, 235]],\n",
              " \n",
              "        [[178, 158, 230],\n",
              "         [178, 158, 230],\n",
              "         [178, 158, 230],\n",
              "         ...,\n",
              "         [185, 166, 235],\n",
              "         [185, 166, 235],\n",
              "         [185, 166, 235]],\n",
              " \n",
              "        ...,\n",
              " \n",
              "        [[  8,   6,  28],\n",
              "         [  8,   6,  28],\n",
              "         [  8,   6,  28],\n",
              "         ...,\n",
              "         [ 38,  23,  81],\n",
              "         [ 38,  23,  81],\n",
              "         [ 38,  23,  81]],\n",
              " \n",
              "        [[  9,   6,  31],\n",
              "         [  9,   6,  31],\n",
              "         [  9,   6,  31],\n",
              "         ...,\n",
              "         [ 38,  23,  81],\n",
              "         [ 38,  23,  81],\n",
              "         [ 38,  23,  81]],\n",
              " \n",
              "        [[  9,   6,  31],\n",
              "         [  9,   6,  31],\n",
              "         [  9,   6,  31],\n",
              "         ...,\n",
              "         [ 38,  23,  81],\n",
              "         [ 38,  23,  81],\n",
              "         [ 38,  23,  81]]], dtype=uint8)\n",
              " orig_shape: (640, 640)\n",
              " path: '/content/dataset/test/images/3E0DD733-3A3B-4CE9-86FB-009840C8D8F7_jpeg.rf.70bc2214a39e979f4d941d14fae568dc.jpg'\n",
              " probs: None\n",
              " save_dir: 'runs/detect/predict2'\n",
              " speed: {'preprocess': 1.9795894622802734, 'inference': 7.3337554931640625, 'postprocess': 1.1136531829833984},\n",
              " ultralytics.engine.results.Results object with attributes:\n",
              " \n",
              " boxes: ultralytics.engine.results.Boxes object\n",
              " keypoints: None\n",
              " masks: None\n",
              " names: {0: 'ALKASELTZER', 1: 'ASPIRINA_100', 2: 'BUSCAPINA', 3: 'DOLEX_GRIPA', 4: 'GAVISCON', 5: 'IBUFLASH_MIGRAN', 6: 'IBUPROFENO_GENFAR', 7: 'LEVONORGESTREL', 8: 'NORAVER_GRIPA_DIA', 9: 'VITAC_MK'}\n",
              " obb: None\n",
              " orig_img: array([[[241,  44,   0],\n",
              "         [241,  44,   0],\n",
              "         [241,  44,   0],\n",
              "         ...,\n",
              "         [241,  44,   0],\n",
              "         [241,  44,   0],\n",
              "         [241,  44,   0]],\n",
              " \n",
              "        [[241,  44,   0],\n",
              "         [241,  44,   0],\n",
              "         [241,  44,   0],\n",
              "         ...,\n",
              "         [241,  44,   0],\n",
              "         [241,  44,   0],\n",
              "         [241,  44,   0]],\n",
              " \n",
              "        [[241,  44,   0],\n",
              "         [241,  44,   0],\n",
              "         [241,  44,   0],\n",
              "         ...,\n",
              "         [241,  44,   0],\n",
              "         [241,  44,   0],\n",
              "         [241,  44,   0]],\n",
              " \n",
              "        ...,\n",
              " \n",
              "        [[135,   4,   1],\n",
              "         [135,   4,   1],\n",
              "         [135,   4,   1],\n",
              "         ...,\n",
              "         [129,   4,   0],\n",
              "         [129,   4,   0],\n",
              "         [129,   4,   0]],\n",
              " \n",
              "        [[135,   4,   1],\n",
              "         [135,   4,   1],\n",
              "         [135,   4,   1],\n",
              "         ...,\n",
              "         [130,   4,   0],\n",
              "         [130,   4,   0],\n",
              "         [130,   4,   0]],\n",
              " \n",
              "        [[135,   4,   1],\n",
              "         [135,   4,   1],\n",
              "         [135,   4,   1],\n",
              "         ...,\n",
              "         [130,   4,   0],\n",
              "         [130,   4,   0],\n",
              "         [130,   4,   0]]], dtype=uint8)\n",
              " orig_shape: (640, 640)\n",
              " path: '/content/dataset/test/images/43778302-F2EA-4158-BBC3-E08BE63E49B9_jpeg.rf.7a5ce6360483d02913be0fc28a349405.jpg'\n",
              " probs: None\n",
              " save_dir: 'runs/detect/predict2'\n",
              " speed: {'preprocess': 1.9004344940185547, 'inference': 7.335662841796875, 'postprocess': 1.1126995086669922},\n",
              " ultralytics.engine.results.Results object with attributes:\n",
              " \n",
              " boxes: ultralytics.engine.results.Boxes object\n",
              " keypoints: None\n",
              " masks: None\n",
              " names: {0: 'ALKASELTZER', 1: 'ASPIRINA_100', 2: 'BUSCAPINA', 3: 'DOLEX_GRIPA', 4: 'GAVISCON', 5: 'IBUFLASH_MIGRAN', 6: 'IBUPROFENO_GENFAR', 7: 'LEVONORGESTREL', 8: 'NORAVER_GRIPA_DIA', 9: 'VITAC_MK'}\n",
              " obb: None\n",
              " orig_img: array([[[176, 230,  17],\n",
              "         [176, 230,  17],\n",
              "         [176, 230,  17],\n",
              "         ...,\n",
              "         [131, 198,   7],\n",
              "         [131, 198,   7],\n",
              "         [131, 198,   7]],\n",
              " \n",
              "        [[176, 230,  17],\n",
              "         [176, 230,  17],\n",
              "         [176, 230,  17],\n",
              "         ...,\n",
              "         [131, 198,   7],\n",
              "         [131, 198,   7],\n",
              "         [131, 198,   7]],\n",
              " \n",
              "        [[176, 230,  17],\n",
              "         [176, 230,  17],\n",
              "         [176, 230,  17],\n",
              "         ...,\n",
              "         [131, 198,   7],\n",
              "         [131, 198,   7],\n",
              "         [131, 198,   7]],\n",
              " \n",
              "        ...,\n",
              " \n",
              "        [[ 28,  50,   8],\n",
              "         [ 28,  50,   8],\n",
              "         [ 29,  51,   9],\n",
              "         ...,\n",
              "         [141, 204,  10],\n",
              "         [141, 204,  10],\n",
              "         [141, 204,  10]],\n",
              " \n",
              "        [[ 28,  51,   7],\n",
              "         [ 29,  52,   8],\n",
              "         [ 29,  52,   8],\n",
              "         ...,\n",
              "         [141, 204,  10],\n",
              "         [141, 204,  10],\n",
              "         [141, 204,  10]],\n",
              " \n",
              "        [[ 28,  51,   7],\n",
              "         [ 29,  52,   8],\n",
              "         [ 29,  52,   8],\n",
              "         ...,\n",
              "         [141, 204,  10],\n",
              "         [141, 204,  10],\n",
              "         [141, 204,  10]]], dtype=uint8)\n",
              " orig_shape: (640, 640)\n",
              " path: '/content/dataset/test/images/448C196E-BC9D-495D-8D59-3BDC1F7B5D57_jpeg.rf.83e0050b9abf6cd1b5f76322f9e4ca5e.jpg'\n",
              " probs: None\n",
              " save_dir: 'runs/detect/predict2'\n",
              " speed: {'preprocess': 1.9528865814208984, 'inference': 7.333278656005859, 'postprocess': 1.4231204986572266},\n",
              " ultralytics.engine.results.Results object with attributes:\n",
              " \n",
              " boxes: ultralytics.engine.results.Boxes object\n",
              " keypoints: None\n",
              " masks: None\n",
              " names: {0: 'ALKASELTZER', 1: 'ASPIRINA_100', 2: 'BUSCAPINA', 3: 'DOLEX_GRIPA', 4: 'GAVISCON', 5: 'IBUFLASH_MIGRAN', 6: 'IBUPROFENO_GENFAR', 7: 'LEVONORGESTREL', 8: 'NORAVER_GRIPA_DIA', 9: 'VITAC_MK'}\n",
              " obb: None\n",
              " orig_img: array([[[248,  31,   0],\n",
              "         [248,  31,   0],\n",
              "         [248,  31,   0],\n",
              "         ...,\n",
              "         [248,  34,   0],\n",
              "         [248,  34,   0],\n",
              "         [248,  34,   0]],\n",
              " \n",
              "        [[248,  31,   0],\n",
              "         [248,  31,   0],\n",
              "         [248,  31,   0],\n",
              "         ...,\n",
              "         [248,  34,   0],\n",
              "         [248,  34,   0],\n",
              "         [248,  34,   0]],\n",
              " \n",
              "        [[248,  31,   0],\n",
              "         [248,  31,   0],\n",
              "         [248,  31,   0],\n",
              "         ...,\n",
              "         [248,  34,   0],\n",
              "         [248,  34,   0],\n",
              "         [248,  34,   0]],\n",
              " \n",
              "        ...,\n",
              " \n",
              "        [[169,   3,  10],\n",
              "         [168,   4,   9],\n",
              "         [169,   3,  10],\n",
              "         ...,\n",
              "         [250,  76,   0],\n",
              "         [250,  76,   0],\n",
              "         [250,  76,   0]],\n",
              " \n",
              "        [[171,   3,   9],\n",
              "         [169,   4,   7],\n",
              "         [171,   3,   9],\n",
              "         ...,\n",
              "         [250,  76,   0],\n",
              "         [250,  76,   0],\n",
              "         [250,  76,   0]],\n",
              " \n",
              "        [[171,   4,   7],\n",
              "         [171,   4,   7],\n",
              "         [171,   4,   7],\n",
              "         ...,\n",
              "         [250,  76,   0],\n",
              "         [250,  76,   0],\n",
              "         [250,  76,   0]]], dtype=uint8)\n",
              " orig_shape: (640, 640)\n",
              " path: '/content/dataset/test/images/457ACA4B-BC2C-4957-ADED-5B98F569081D_jpeg.rf.a4ba5aa5e6a792385c336ed8f354c255.jpg'\n",
              " probs: None\n",
              " save_dir: 'runs/detect/predict2'\n",
              " speed: {'preprocess': 2.0666122436523438, 'inference': 7.3490142822265625, 'postprocess': 1.4803409576416016},\n",
              " ultralytics.engine.results.Results object with attributes:\n",
              " \n",
              " boxes: ultralytics.engine.results.Boxes object\n",
              " keypoints: None\n",
              " masks: None\n",
              " names: {0: 'ALKASELTZER', 1: 'ASPIRINA_100', 2: 'BUSCAPINA', 3: 'DOLEX_GRIPA', 4: 'GAVISCON', 5: 'IBUFLASH_MIGRAN', 6: 'IBUPROFENO_GENFAR', 7: 'LEVONORGESTREL', 8: 'NORAVER_GRIPA_DIA', 9: 'VITAC_MK'}\n",
              " obb: None\n",
              " orig_img: array([[[210, 206, 211],\n",
              "         [210, 206, 211],\n",
              "         [210, 206, 211],\n",
              "         ...,\n",
              "         [172, 165, 172],\n",
              "         [172, 165, 172],\n",
              "         [172, 165, 172]],\n",
              " \n",
              "        [[210, 206, 211],\n",
              "         [210, 206, 211],\n",
              "         [210, 206, 211],\n",
              "         ...,\n",
              "         [172, 165, 172],\n",
              "         [172, 165, 172],\n",
              "         [172, 165, 172]],\n",
              " \n",
              "        [[210, 206, 211],\n",
              "         [210, 206, 211],\n",
              "         [210, 206, 211],\n",
              "         ...,\n",
              "         [172, 165, 172],\n",
              "         [172, 165, 172],\n",
              "         [172, 165, 172]],\n",
              " \n",
              "        ...,\n",
              " \n",
              "        [[ 35,  28,  33],\n",
              "         [ 36,  29,  34],\n",
              "         [ 37,  30,  35],\n",
              "         ...,\n",
              "         [180, 174, 179],\n",
              "         [180, 174, 179],\n",
              "         [180, 174, 179]],\n",
              " \n",
              "        [[ 36,  28,  35],\n",
              "         [ 37,  29,  36],\n",
              "         [ 38,  30,  37],\n",
              "         ...,\n",
              "         [180, 174, 179],\n",
              "         [180, 174, 179],\n",
              "         [180, 174, 179]],\n",
              " \n",
              "        [[ 37,  29,  36],\n",
              "         [ 38,  30,  37],\n",
              "         [ 40,  32,  39],\n",
              "         ...,\n",
              "         [180, 174, 179],\n",
              "         [180, 174, 179],\n",
              "         [180, 174, 179]]], dtype=uint8)\n",
              " orig_shape: (640, 640)\n",
              " path: '/content/dataset/test/images/4687AA17-CD84-425D-BC33-D4E8FBD77AC1_jpeg.rf.cedaaeddba8828c8ebc5edd0112ca51b.jpg'\n",
              " probs: None\n",
              " save_dir: 'runs/detect/predict2'\n",
              " speed: {'preprocess': 1.8925666809082031, 'inference': 7.342100143432617, 'postprocess': 1.2569427490234375},\n",
              " ultralytics.engine.results.Results object with attributes:\n",
              " \n",
              " boxes: ultralytics.engine.results.Boxes object\n",
              " keypoints: None\n",
              " masks: None\n",
              " names: {0: 'ALKASELTZER', 1: 'ASPIRINA_100', 2: 'BUSCAPINA', 3: 'DOLEX_GRIPA', 4: 'GAVISCON', 5: 'IBUFLASH_MIGRAN', 6: 'IBUPROFENO_GENFAR', 7: 'LEVONORGESTREL', 8: 'NORAVER_GRIPA_DIA', 9: 'VITAC_MK'}\n",
              " obb: None\n",
              " orig_img: array([[[183, 183, 183],\n",
              "         [183, 183, 183],\n",
              "         [183, 183, 183],\n",
              "         ...,\n",
              "         [197, 195, 195],\n",
              "         [197, 195, 195],\n",
              "         [197, 195, 195]],\n",
              " \n",
              "        [[183, 183, 183],\n",
              "         [183, 183, 183],\n",
              "         [183, 183, 183],\n",
              "         ...,\n",
              "         [197, 195, 195],\n",
              "         [197, 195, 195],\n",
              "         [197, 195, 195]],\n",
              " \n",
              "        [[183, 183, 183],\n",
              "         [183, 183, 183],\n",
              "         [183, 183, 183],\n",
              "         ...,\n",
              "         [197, 195, 195],\n",
              "         [197, 195, 195],\n",
              "         [197, 195, 195]],\n",
              " \n",
              "        ...,\n",
              " \n",
              "        [[ 45,  43, 162],\n",
              "         [ 44,  44, 162],\n",
              "         [ 44,  43, 163],\n",
              "         ...,\n",
              "         [210, 212, 222],\n",
              "         [210, 212, 222],\n",
              "         [210, 212, 222]],\n",
              " \n",
              "        [[ 47,  45, 158],\n",
              "         [ 47,  45, 158],\n",
              "         [ 45,  45, 159],\n",
              "         ...,\n",
              "         [210, 212, 222],\n",
              "         [210, 212, 222],\n",
              "         [210, 212, 222]],\n",
              " \n",
              "        [[ 49,  46, 156],\n",
              "         [ 47,  46, 156],\n",
              "         [ 47,  45, 158],\n",
              "         ...,\n",
              "         [210, 212, 222],\n",
              "         [210, 212, 222],\n",
              "         [210, 212, 222]]], dtype=uint8)\n",
              " orig_shape: (640, 640)\n",
              " path: '/content/dataset/test/images/5A079C2F-609F-4746-9D39-29D0E1E1968D_jpeg.rf.8de0fe31061b73cfa242b35f01adb432.jpg'\n",
              " probs: None\n",
              " save_dir: 'runs/detect/predict2'\n",
              " speed: {'preprocess': 1.9249916076660156, 'inference': 7.354259490966797, 'postprocess': 1.2502670288085938},\n",
              " ultralytics.engine.results.Results object with attributes:\n",
              " \n",
              " boxes: ultralytics.engine.results.Boxes object\n",
              " keypoints: None\n",
              " masks: None\n",
              " names: {0: 'ALKASELTZER', 1: 'ASPIRINA_100', 2: 'BUSCAPINA', 3: 'DOLEX_GRIPA', 4: 'GAVISCON', 5: 'IBUFLASH_MIGRAN', 6: 'IBUPROFENO_GENFAR', 7: 'LEVONORGESTREL', 8: 'NORAVER_GRIPA_DIA', 9: 'VITAC_MK'}\n",
              " obb: None\n",
              " orig_img: array([[[148, 146, 146],\n",
              "         [148, 146, 146],\n",
              "         [148, 146, 146],\n",
              "         ...,\n",
              "         [177, 172, 173],\n",
              "         [177, 172, 173],\n",
              "         [177, 172, 173]],\n",
              " \n",
              "        [[148, 146, 146],\n",
              "         [148, 146, 146],\n",
              "         [148, 146, 146],\n",
              "         ...,\n",
              "         [177, 172, 173],\n",
              "         [177, 172, 173],\n",
              "         [177, 172, 173]],\n",
              " \n",
              "        [[148, 146, 146],\n",
              "         [148, 146, 146],\n",
              "         [148, 146, 146],\n",
              "         ...,\n",
              "         [177, 172, 173],\n",
              "         [177, 172, 173],\n",
              "         [177, 172, 173]],\n",
              " \n",
              "        ...,\n",
              " \n",
              "        [[156, 159, 163],\n",
              "         [156, 159, 163],\n",
              "         [156, 159, 163],\n",
              "         ...,\n",
              "         [191, 192, 196],\n",
              "         [191, 192, 196],\n",
              "         [191, 192, 196]],\n",
              " \n",
              "        [[156, 159, 163],\n",
              "         [156, 159, 163],\n",
              "         [156, 159, 163],\n",
              "         ...,\n",
              "         [191, 192, 196],\n",
              "         [191, 192, 196],\n",
              "         [191, 192, 196]],\n",
              " \n",
              "        [[156, 159, 163],\n",
              "         [156, 159, 163],\n",
              "         [156, 159, 163],\n",
              "         ...,\n",
              "         [191, 192, 196],\n",
              "         [191, 192, 196],\n",
              "         [191, 192, 196]]], dtype=uint8)\n",
              " orig_shape: (640, 640)\n",
              " path: '/content/dataset/test/images/5EC540EC-AD58-4189-A852-16F686474B49_jpeg.rf.99f3078cb78e2bbd7817aae53703c632.jpg'\n",
              " probs: None\n",
              " save_dir: 'runs/detect/predict2'\n",
              " speed: {'preprocess': 2.0782947540283203, 'inference': 7.617712020874023, 'postprocess': 1.2259483337402344},\n",
              " ultralytics.engine.results.Results object with attributes:\n",
              " \n",
              " boxes: ultralytics.engine.results.Boxes object\n",
              " keypoints: None\n",
              " masks: None\n",
              " names: {0: 'ALKASELTZER', 1: 'ASPIRINA_100', 2: 'BUSCAPINA', 3: 'DOLEX_GRIPA', 4: 'GAVISCON', 5: 'IBUFLASH_MIGRAN', 6: 'IBUPROFENO_GENFAR', 7: 'LEVONORGESTREL', 8: 'NORAVER_GRIPA_DIA', 9: 'VITAC_MK'}\n",
              " obb: None\n",
              " orig_img: array([[[254,  48,  12],\n",
              "         [254,  48,  12],\n",
              "         [254,  48,  12],\n",
              "         ...,\n",
              "         [253,  57,  15],\n",
              "         [253,  57,  15],\n",
              "         [253,  57,  15]],\n",
              " \n",
              "        [[254,  48,  12],\n",
              "         [254,  48,  12],\n",
              "         [254,  48,  12],\n",
              "         ...,\n",
              "         [253,  57,  15],\n",
              "         [253,  57,  15],\n",
              "         [253,  57,  15]],\n",
              " \n",
              "        [[254,  48,  12],\n",
              "         [254,  48,  12],\n",
              "         [254,  48,  12],\n",
              "         ...,\n",
              "         [253,  57,  15],\n",
              "         [253,  57,  15],\n",
              "         [253,  57,  15]],\n",
              " \n",
              "        ...,\n",
              " \n",
              "        [[ 67,   6,   4],\n",
              "         [ 67,   6,   4],\n",
              "         [ 69,   5,   4],\n",
              "         ...,\n",
              "         [120,   6,   6],\n",
              "         [120,   6,   6],\n",
              "         [120,   6,   6]],\n",
              " \n",
              "        [[ 69,   5,   4],\n",
              "         [ 69,   5,   4],\n",
              "         [ 69,   5,   4],\n",
              "         ...,\n",
              "         [120,   6,   6],\n",
              "         [120,   6,   6],\n",
              "         [120,   6,   6]],\n",
              " \n",
              "        [[ 69,   5,   4],\n",
              "         [ 69,   5,   4],\n",
              "         [ 69,   5,   4],\n",
              "         ...,\n",
              "         [120,   6,   6],\n",
              "         [120,   6,   6],\n",
              "         [120,   6,   6]]], dtype=uint8)\n",
              " orig_shape: (640, 640)\n",
              " path: '/content/dataset/test/images/602A34D0-1B0E-4F38-BCF3-785C604592CE_jpeg.rf.aeab212b91f4f3b0e0f3c478276a70f8.jpg'\n",
              " probs: None\n",
              " save_dir: 'runs/detect/predict2'\n",
              " speed: {'preprocess': 2.001523971557617, 'inference': 7.372856140136719, 'postprocess': 1.207113265991211},\n",
              " ultralytics.engine.results.Results object with attributes:\n",
              " \n",
              " boxes: ultralytics.engine.results.Boxes object\n",
              " keypoints: None\n",
              " masks: None\n",
              " names: {0: 'ALKASELTZER', 1: 'ASPIRINA_100', 2: 'BUSCAPINA', 3: 'DOLEX_GRIPA', 4: 'GAVISCON', 5: 'IBUFLASH_MIGRAN', 6: 'IBUPROFENO_GENFAR', 7: 'LEVONORGESTREL', 8: 'NORAVER_GRIPA_DIA', 9: 'VITAC_MK'}\n",
              " obb: None\n",
              " orig_img: array([[[153, 156, 160],\n",
              "         [153, 156, 160],\n",
              "         [153, 156, 160],\n",
              "         ...,\n",
              "         [180, 184, 185],\n",
              "         [180, 184, 185],\n",
              "         [180, 184, 185]],\n",
              " \n",
              "        [[153, 156, 160],\n",
              "         [153, 156, 160],\n",
              "         [153, 156, 160],\n",
              "         ...,\n",
              "         [180, 184, 185],\n",
              "         [180, 184, 185],\n",
              "         [180, 184, 185]],\n",
              " \n",
              "        [[153, 156, 160],\n",
              "         [153, 156, 160],\n",
              "         [153, 156, 160],\n",
              "         ...,\n",
              "         [180, 184, 185],\n",
              "         [180, 184, 185],\n",
              "         [180, 184, 185]],\n",
              " \n",
              "        ...,\n",
              " \n",
              "        [[161, 170, 179],\n",
              "         [161, 170, 179],\n",
              "         [161, 170, 179],\n",
              "         ...,\n",
              "         [198, 200, 210],\n",
              "         [198, 200, 210],\n",
              "         [198, 200, 210]],\n",
              " \n",
              "        [[161, 170, 179],\n",
              "         [161, 170, 179],\n",
              "         [161, 170, 179],\n",
              "         ...,\n",
              "         [198, 200, 210],\n",
              "         [198, 200, 210],\n",
              "         [198, 200, 210]],\n",
              " \n",
              "        [[161, 170, 179],\n",
              "         [161, 170, 179],\n",
              "         [161, 170, 179],\n",
              "         ...,\n",
              "         [198, 200, 210],\n",
              "         [198, 200, 210],\n",
              "         [198, 200, 210]]], dtype=uint8)\n",
              " orig_shape: (640, 640)\n",
              " path: '/content/dataset/test/images/6738A1B5-C8EA-452B-9080-E6D16D1217E5_jpeg.rf.2722a723ec3e37c0ef51af2ca729adc4.jpg'\n",
              " probs: None\n",
              " save_dir: 'runs/detect/predict2'\n",
              " speed: {'preprocess': 2.2840499877929688, 'inference': 11.155366897583008, 'postprocess': 1.7995834350585938},\n",
              " ultralytics.engine.results.Results object with attributes:\n",
              " \n",
              " boxes: ultralytics.engine.results.Boxes object\n",
              " keypoints: None\n",
              " masks: None\n",
              " names: {0: 'ALKASELTZER', 1: 'ASPIRINA_100', 2: 'BUSCAPINA', 3: 'DOLEX_GRIPA', 4: 'GAVISCON', 5: 'IBUFLASH_MIGRAN', 6: 'IBUPROFENO_GENFAR', 7: 'LEVONORGESTREL', 8: 'NORAVER_GRIPA_DIA', 9: 'VITAC_MK'}\n",
              " obb: None\n",
              " orig_img: array([[[171, 231,  16],\n",
              "         [171, 231,  16],\n",
              "         [171, 231,  16],\n",
              "         ...,\n",
              "         [131, 201,   6],\n",
              "         [131, 201,   6],\n",
              "         [131, 201,   6]],\n",
              " \n",
              "        [[171, 231,  16],\n",
              "         [171, 231,  16],\n",
              "         [171, 231,  16],\n",
              "         ...,\n",
              "         [131, 201,   6],\n",
              "         [131, 201,   6],\n",
              "         [131, 201,   6]],\n",
              " \n",
              "        [[171, 231,  16],\n",
              "         [171, 231,  16],\n",
              "         [171, 231,  16],\n",
              "         ...,\n",
              "         [131, 201,   6],\n",
              "         [131, 201,   6],\n",
              "         [131, 201,   6]],\n",
              " \n",
              "        ...,\n",
              " \n",
              "        [[ 16,  53,   3],\n",
              "         [ 16,  53,   3],\n",
              "         [ 16,  53,   3],\n",
              "         ...,\n",
              "         [140, 209,  10],\n",
              "         [140, 209,  10],\n",
              "         [140, 209,  10]],\n",
              " \n",
              "        [[ 16,  54,   4],\n",
              "         [ 16,  54,   4],\n",
              "         [ 17,  55,   5],\n",
              "         ...,\n",
              "         [140, 209,  10],\n",
              "         [140, 209,  10],\n",
              "         [140, 209,  10]],\n",
              " \n",
              "        [[ 17,  55,   5],\n",
              "         [ 18,  56,   6],\n",
              "         [ 18,  56,   6],\n",
              "         ...,\n",
              "         [140, 209,  10],\n",
              "         [140, 209,  10],\n",
              "         [140, 209,  10]]], dtype=uint8)\n",
              " orig_shape: (640, 640)\n",
              " path: '/content/dataset/test/images/6EEB8D24-C7A9-407E-8A4A-0078E1604490_jpeg.rf.66f12cf0e4d91cca991be827e57c1884.jpg'\n",
              " probs: None\n",
              " save_dir: 'runs/detect/predict2'\n",
              " speed: {'preprocess': 2.406597137451172, 'inference': 9.699583053588867, 'postprocess': 1.4061927795410156},\n",
              " ultralytics.engine.results.Results object with attributes:\n",
              " \n",
              " boxes: ultralytics.engine.results.Boxes object\n",
              " keypoints: None\n",
              " masks: None\n",
              " names: {0: 'ALKASELTZER', 1: 'ASPIRINA_100', 2: 'BUSCAPINA', 3: 'DOLEX_GRIPA', 4: 'GAVISCON', 5: 'IBUFLASH_MIGRAN', 6: 'IBUPROFENO_GENFAR', 7: 'LEVONORGESTREL', 8: 'NORAVER_GRIPA_DIA', 9: 'VITAC_MK'}\n",
              " obb: None\n",
              " orig_img: array([[[136, 133, 125],\n",
              "         [136, 133, 125],\n",
              "         [136, 133, 125],\n",
              "         ...,\n",
              "         [141, 138, 130],\n",
              "         [141, 138, 130],\n",
              "         [141, 138, 130]],\n",
              " \n",
              "        [[136, 133, 125],\n",
              "         [136, 133, 125],\n",
              "         [136, 133, 125],\n",
              "         ...,\n",
              "         [141, 138, 130],\n",
              "         [141, 138, 130],\n",
              "         [141, 138, 130]],\n",
              " \n",
              "        [[136, 133, 125],\n",
              "         [136, 133, 125],\n",
              "         [136, 133, 125],\n",
              "         ...,\n",
              "         [141, 138, 130],\n",
              "         [141, 138, 130],\n",
              "         [141, 138, 130]],\n",
              " \n",
              "        ...,\n",
              " \n",
              "        [[ 25,  27,  28],\n",
              "         [ 25,  27,  28],\n",
              "         [ 25,  27,  28],\n",
              "         ...,\n",
              "         [ 24,  23,  25],\n",
              "         [ 24,  23,  25],\n",
              "         [ 24,  23,  25]],\n",
              " \n",
              "        [[ 25,  27,  28],\n",
              "         [ 25,  27,  28],\n",
              "         [ 25,  27,  28],\n",
              "         ...,\n",
              "         [ 23,  22,  24],\n",
              "         [ 23,  22,  24],\n",
              "         [ 23,  22,  24]],\n",
              " \n",
              "        [[ 25,  27,  28],\n",
              "         [ 25,  27,  28],\n",
              "         [ 25,  27,  28],\n",
              "         ...,\n",
              "         [ 23,  22,  24],\n",
              "         [ 23,  22,  24],\n",
              "         [ 23,  22,  24]]], dtype=uint8)\n",
              " orig_shape: (640, 640)\n",
              " path: '/content/dataset/test/images/732D3317-B72B-4236-8FDF-BB245229E0B3_jpeg.rf.fd92c3b1d19253e88b0fccafe2f80cce.jpg'\n",
              " probs: None\n",
              " save_dir: 'runs/detect/predict2'\n",
              " speed: {'preprocess': 1.926422119140625, 'inference': 7.35783576965332, 'postprocess': 1.2493133544921875},\n",
              " ultralytics.engine.results.Results object with attributes:\n",
              " \n",
              " boxes: ultralytics.engine.results.Boxes object\n",
              " keypoints: None\n",
              " masks: None\n",
              " names: {0: 'ALKASELTZER', 1: 'ASPIRINA_100', 2: 'BUSCAPINA', 3: 'DOLEX_GRIPA', 4: 'GAVISCON', 5: 'IBUFLASH_MIGRAN', 6: 'IBUPROFENO_GENFAR', 7: 'LEVONORGESTREL', 8: 'NORAVER_GRIPA_DIA', 9: 'VITAC_MK'}\n",
              " obb: None\n",
              " orig_img: array([[[244,  52,   0],\n",
              "         [244,  52,   0],\n",
              "         [244,  52,   0],\n",
              "         ...,\n",
              "         [242,  90,   1],\n",
              "         [242,  90,   1],\n",
              "         [242,  90,   1]],\n",
              " \n",
              "        [[244,  52,   0],\n",
              "         [244,  52,   0],\n",
              "         [244,  52,   0],\n",
              "         ...,\n",
              "         [242,  90,   1],\n",
              "         [242,  90,   1],\n",
              "         [242,  90,   1]],\n",
              " \n",
              "        [[244,  52,   0],\n",
              "         [244,  52,   0],\n",
              "         [244,  52,   0],\n",
              "         ...,\n",
              "         [242,  90,   1],\n",
              "         [242,  90,   1],\n",
              "         [242,  90,   1]],\n",
              " \n",
              "        ...,\n",
              " \n",
              "        [[247,  67,   2],\n",
              "         [247,  67,   2],\n",
              "         [245,  67,   2],\n",
              "         ...,\n",
              "         [242, 124,   0],\n",
              "         [242, 124,   0],\n",
              "         [243, 125,   0]],\n",
              " \n",
              "        [[247,  67,   2],\n",
              "         [247,  67,   2],\n",
              "         [245,  67,   2],\n",
              "         ...,\n",
              "         [242, 124,   0],\n",
              "         [242, 124,   0],\n",
              "         [243, 125,   0]],\n",
              " \n",
              "        [[247,  67,   2],\n",
              "         [247,  67,   2],\n",
              "         [245,  67,   2],\n",
              "         ...,\n",
              "         [242, 124,   0],\n",
              "         [242, 124,   0],\n",
              "         [243, 125,   0]]], dtype=uint8)\n",
              " orig_shape: (640, 640)\n",
              " path: '/content/dataset/test/images/75627534-44C7-464B-B978-E81D793A8DB0_jpeg.rf.c05e8742b9fa200182e7dae4389d6436.jpg'\n",
              " probs: None\n",
              " save_dir: 'runs/detect/predict2'\n",
              " speed: {'preprocess': 2.0101070404052734, 'inference': 7.3337554931640625, 'postprocess': 1.1856555938720703},\n",
              " ultralytics.engine.results.Results object with attributes:\n",
              " \n",
              " boxes: ultralytics.engine.results.Boxes object\n",
              " keypoints: None\n",
              " masks: None\n",
              " names: {0: 'ALKASELTZER', 1: 'ASPIRINA_100', 2: 'BUSCAPINA', 3: 'DOLEX_GRIPA', 4: 'GAVISCON', 5: 'IBUFLASH_MIGRAN', 6: 'IBUPROFENO_GENFAR', 7: 'LEVONORGESTREL', 8: 'NORAVER_GRIPA_DIA', 9: 'VITAC_MK'}\n",
              " obb: None\n",
              " orig_img: array([[[ 25,  31, 238],\n",
              "         [ 25,  31, 238],\n",
              "         [ 25,  31, 238],\n",
              "         ...,\n",
              "         [ 33,  40, 243],\n",
              "         [ 33,  40, 243],\n",
              "         [ 33,  40, 243]],\n",
              " \n",
              "        [[ 25,  31, 238],\n",
              "         [ 25,  31, 238],\n",
              "         [ 25,  31, 238],\n",
              "         ...,\n",
              "         [ 33,  40, 243],\n",
              "         [ 33,  40, 243],\n",
              "         [ 33,  40, 243]],\n",
              " \n",
              "        [[ 25,  31, 238],\n",
              "         [ 25,  31, 238],\n",
              "         [ 25,  31, 238],\n",
              "         ...,\n",
              "         [ 33,  40, 243],\n",
              "         [ 33,  40, 243],\n",
              "         [ 33,  40, 243]],\n",
              " \n",
              "        ...,\n",
              " \n",
              "        [[ 32,  32, 226],\n",
              "         [ 30,  32, 226],\n",
              "         [ 32,  32, 226],\n",
              "         ...,\n",
              "         [ 56,  67, 255],\n",
              "         [ 56,  67, 255],\n",
              "         [ 56,  67, 255]],\n",
              " \n",
              "        [[ 30,  23, 244],\n",
              "         [ 28,  24, 243],\n",
              "         [ 30,  24, 243],\n",
              "         ...,\n",
              "         [ 56,  67, 255],\n",
              "         [ 56,  67, 255],\n",
              "         [ 56,  67, 255]],\n",
              " \n",
              "        [[ 28,  19, 253],\n",
              "         [ 28,  19, 253],\n",
              "         [ 28,  20, 251],\n",
              "         ...,\n",
              "         [ 56,  67, 255],\n",
              "         [ 56,  67, 255],\n",
              "         [ 56,  67, 255]]], dtype=uint8)\n",
              " orig_shape: (640, 640)\n",
              " path: '/content/dataset/test/images/835E1086-D083-45FD-B2DE-B950059D469A_jpeg.rf.0a8da0d654a7ec643eb672e5d2b4c5e7.jpg'\n",
              " probs: None\n",
              " save_dir: 'runs/detect/predict2'\n",
              " speed: {'preprocess': 1.9595623016357422, 'inference': 7.386922836303711, 'postprocess': 1.245737075805664},\n",
              " ultralytics.engine.results.Results object with attributes:\n",
              " \n",
              " boxes: ultralytics.engine.results.Boxes object\n",
              " keypoints: None\n",
              " masks: None\n",
              " names: {0: 'ALKASELTZER', 1: 'ASPIRINA_100', 2: 'BUSCAPINA', 3: 'DOLEX_GRIPA', 4: 'GAVISCON', 5: 'IBUFLASH_MIGRAN', 6: 'IBUPROFENO_GENFAR', 7: 'LEVONORGESTREL', 8: 'NORAVER_GRIPA_DIA', 9: 'VITAC_MK'}\n",
              " obb: None\n",
              " orig_img: array([[[171, 172, 182],\n",
              "         [171, 172, 182],\n",
              "         [171, 172, 182],\n",
              "         ...,\n",
              "         [190, 188, 194],\n",
              "         [190, 188, 194],\n",
              "         [190, 188, 194]],\n",
              " \n",
              "        [[171, 172, 182],\n",
              "         [171, 172, 182],\n",
              "         [171, 172, 182],\n",
              "         ...,\n",
              "         [190, 188, 194],\n",
              "         [190, 188, 194],\n",
              "         [190, 188, 194]],\n",
              " \n",
              "        [[171, 172, 182],\n",
              "         [171, 172, 182],\n",
              "         [171, 172, 182],\n",
              "         ...,\n",
              "         [190, 188, 194],\n",
              "         [190, 188, 194],\n",
              "         [190, 188, 194]],\n",
              " \n",
              "        ...,\n",
              " \n",
              "        [[ 37,  41, 176],\n",
              "         [ 37,  41, 176],\n",
              "         [ 37,  41, 176],\n",
              "         ...,\n",
              "         [226, 222, 227],\n",
              "         [226, 222, 227],\n",
              "         [226, 222, 227]],\n",
              " \n",
              "        [[ 33,  44, 172],\n",
              "         [ 33,  44, 172],\n",
              "         [ 35,  44, 171],\n",
              "         ...,\n",
              "         [226, 222, 227],\n",
              "         [226, 222, 227],\n",
              "         [226, 222, 227]],\n",
              " \n",
              "        [[ 31,  46, 169],\n",
              "         [ 31,  46, 169],\n",
              "         [ 33,  46, 168],\n",
              "         ...,\n",
              "         [226, 222, 227],\n",
              "         [226, 222, 227],\n",
              "         [226, 222, 227]]], dtype=uint8)\n",
              " orig_shape: (640, 640)\n",
              " path: '/content/dataset/test/images/85B46A91-12C1-4510-8444-78BA271D63E3_jpeg.rf.1c9d1869b8d07d629821debf5df4db0f.jpg'\n",
              " probs: None\n",
              " save_dir: 'runs/detect/predict2'\n",
              " speed: {'preprocess': 2.1076202392578125, 'inference': 7.399082183837891, 'postprocess': 1.27410888671875},\n",
              " ultralytics.engine.results.Results object with attributes:\n",
              " \n",
              " boxes: ultralytics.engine.results.Boxes object\n",
              " keypoints: None\n",
              " masks: None\n",
              " names: {0: 'ALKASELTZER', 1: 'ASPIRINA_100', 2: 'BUSCAPINA', 3: 'DOLEX_GRIPA', 4: 'GAVISCON', 5: 'IBUFLASH_MIGRAN', 6: 'IBUPROFENO_GENFAR', 7: 'LEVONORGESTREL', 8: 'NORAVER_GRIPA_DIA', 9: 'VITAC_MK'}\n",
              " obb: None\n",
              " orig_img: array([[[ 20,  13, 194],\n",
              "         [ 20,  13, 194],\n",
              "         [ 20,  13, 194],\n",
              "         ...,\n",
              "         [ 25,  16, 197],\n",
              "         [ 25,  16, 197],\n",
              "         [ 25,  16, 197]],\n",
              " \n",
              "        [[ 20,  13, 194],\n",
              "         [ 20,  13, 194],\n",
              "         [ 20,  13, 194],\n",
              "         ...,\n",
              "         [ 25,  16, 197],\n",
              "         [ 25,  16, 197],\n",
              "         [ 25,  16, 197]],\n",
              " \n",
              "        [[ 20,  13, 194],\n",
              "         [ 20,  13, 194],\n",
              "         [ 20,  13, 194],\n",
              "         ...,\n",
              "         [ 25,  16, 197],\n",
              "         [ 25,  16, 197],\n",
              "         [ 25,  16, 197]],\n",
              " \n",
              "        ...,\n",
              " \n",
              "        [[  7,   4,  73],\n",
              "         [  7,   4,  73],\n",
              "         [  7,   4,  73],\n",
              "         ...,\n",
              "         [  7,   5,  64],\n",
              "         [  7,   5,  64],\n",
              "         [  7,   5,  64]],\n",
              " \n",
              "        [[  7,   4,  73],\n",
              "         [  7,   4,  73],\n",
              "         [  7,   4,  73],\n",
              "         ...,\n",
              "         [  6,   6,  60],\n",
              "         [  6,   6,  60],\n",
              "         [  6,   6,  60]],\n",
              " \n",
              "        [[  7,   4,  73],\n",
              "         [  7,   4,  73],\n",
              "         [  7,   4,  73],\n",
              "         ...,\n",
              "         [  5,   6,  57],\n",
              "         [  5,   6,  57],\n",
              "         [  5,   6,  57]]], dtype=uint8)\n",
              " orig_shape: (640, 640)\n",
              " path: '/content/dataset/test/images/87E05FF9-FF80-4055-B53F-EEA39C992273_jpeg.rf.48f227246da85dcef0405a08474958be.jpg'\n",
              " probs: None\n",
              " save_dir: 'runs/detect/predict2'\n",
              " speed: {'preprocess': 2.003192901611328, 'inference': 7.374286651611328, 'postprocess': 1.6086101531982422},\n",
              " ultralytics.engine.results.Results object with attributes:\n",
              " \n",
              " boxes: ultralytics.engine.results.Boxes object\n",
              " keypoints: None\n",
              " masks: None\n",
              " names: {0: 'ALKASELTZER', 1: 'ASPIRINA_100', 2: 'BUSCAPINA', 3: 'DOLEX_GRIPA', 4: 'GAVISCON', 5: 'IBUFLASH_MIGRAN', 6: 'IBUPROFENO_GENFAR', 7: 'LEVONORGESTREL', 8: 'NORAVER_GRIPA_DIA', 9: 'VITAC_MK'}\n",
              " obb: None\n",
              " orig_img: array([[[ 61, 164,  53],\n",
              "         [ 63, 166,  55],\n",
              "         [ 60, 163,  52],\n",
              "         ...,\n",
              "         [ 66, 170,  47],\n",
              "         [ 72, 176,  53],\n",
              "         [ 86, 190,  67]],\n",
              " \n",
              "        [[ 64, 167,  56],\n",
              "         [ 65, 168,  57],\n",
              "         [ 61, 164,  53],\n",
              "         ...,\n",
              "         [ 65, 169,  46],\n",
              "         [ 70, 174,  51],\n",
              "         [ 82, 186,  63]],\n",
              " \n",
              "        [[ 67, 170,  59],\n",
              "         [ 66, 169,  58],\n",
              "         [ 62, 165,  54],\n",
              "         ...,\n",
              "         [ 68, 172,  49],\n",
              "         [ 69, 173,  50],\n",
              "         [ 77, 181,  58]],\n",
              " \n",
              "        ...,\n",
              " \n",
              "        [[  8,  32,   8],\n",
              "         [  7,  31,   7],\n",
              "         [  5,  29,   5],\n",
              "         ...,\n",
              "         [  1,  25,  91],\n",
              "         [  0,  24,  90],\n",
              "         [  1,  25,  91]],\n",
              " \n",
              "        [[  8,  32,   8],\n",
              "         [  7,  31,   7],\n",
              "         [  5,  29,   5],\n",
              "         ...,\n",
              "         [  1,  20,  81],\n",
              "         [  0,  17,  78],\n",
              "         [  0,  16,  77]],\n",
              " \n",
              "        [[ 12,  36,  12],\n",
              "         [ 10,  34,  10],\n",
              "         [  7,  31,   7],\n",
              "         ...,\n",
              "         [  0,   9,  68],\n",
              "         [  0,   6,  65],\n",
              "         [  0,   5,  64]]], dtype=uint8)\n",
              " orig_shape: (640, 640)\n",
              " path: '/content/dataset/test/images/8828E56D-ECF9-4C41-B579-0F97A7102D59_jpeg.rf.7001db0cf1f04505681bec61c03a7b4d.jpg'\n",
              " probs: None\n",
              " save_dir: 'runs/detect/predict2'\n",
              " speed: {'preprocess': 2.0029544830322266, 'inference': 7.341861724853516, 'postprocess': 1.2478828430175781},\n",
              " ultralytics.engine.results.Results object with attributes:\n",
              " \n",
              " boxes: ultralytics.engine.results.Boxes object\n",
              " keypoints: None\n",
              " masks: None\n",
              " names: {0: 'ALKASELTZER', 1: 'ASPIRINA_100', 2: 'BUSCAPINA', 3: 'DOLEX_GRIPA', 4: 'GAVISCON', 5: 'IBUFLASH_MIGRAN', 6: 'IBUPROFENO_GENFAR', 7: 'LEVONORGESTREL', 8: 'NORAVER_GRIPA_DIA', 9: 'VITAC_MK'}\n",
              " obb: None\n",
              " orig_img: array([[[ 18,  25, 226],\n",
              "         [ 18,  25, 226],\n",
              "         [ 18,  25, 226],\n",
              "         ...,\n",
              "         [ 19,  26, 227],\n",
              "         [ 19,  26, 227],\n",
              "         [ 19,  26, 227]],\n",
              " \n",
              "        [[ 18,  25, 226],\n",
              "         [ 18,  25, 226],\n",
              "         [ 18,  25, 226],\n",
              "         ...,\n",
              "         [ 19,  26, 227],\n",
              "         [ 19,  26, 227],\n",
              "         [ 19,  26, 227]],\n",
              " \n",
              "        [[ 18,  25, 226],\n",
              "         [ 18,  25, 226],\n",
              "         [ 18,  25, 226],\n",
              "         ...,\n",
              "         [ 19,  26, 227],\n",
              "         [ 19,  26, 227],\n",
              "         [ 19,  26, 227]],\n",
              " \n",
              "        ...,\n",
              " \n",
              "        [[ 28,  32, 241],\n",
              "         [ 28,  32, 241],\n",
              "         [ 29,  33, 242],\n",
              "         ...,\n",
              "         [ 45,  58, 255],\n",
              "         [ 45,  58, 255],\n",
              "         [ 45,  58, 255]],\n",
              " \n",
              "        [[ 26,  30, 239],\n",
              "         [ 26,  30, 239],\n",
              "         [ 27,  31, 240],\n",
              "         ...,\n",
              "         [ 45,  58, 255],\n",
              "         [ 45,  58, 255],\n",
              "         [ 45,  58, 255]],\n",
              " \n",
              "        [[ 25,  29, 238],\n",
              "         [ 25,  29, 238],\n",
              "         [ 26,  30, 239],\n",
              "         ...,\n",
              "         [ 45,  58, 255],\n",
              "         [ 45,  58, 255],\n",
              "         [ 45,  58, 255]]], dtype=uint8)\n",
              " orig_shape: (640, 640)\n",
              " path: '/content/dataset/test/images/882A01C8-0283-49CB-9E61-62C197572086_jpeg.rf.d42dd13511256e9c889ad1aada9ee73f.jpg'\n",
              " probs: None\n",
              " save_dir: 'runs/detect/predict2'\n",
              " speed: {'preprocess': 2.0334720611572266, 'inference': 7.344961166381836, 'postprocess': 1.1434555053710938},\n",
              " ultralytics.engine.results.Results object with attributes:\n",
              " \n",
              " boxes: ultralytics.engine.results.Boxes object\n",
              " keypoints: None\n",
              " masks: None\n",
              " names: {0: 'ALKASELTZER', 1: 'ASPIRINA_100', 2: 'BUSCAPINA', 3: 'DOLEX_GRIPA', 4: 'GAVISCON', 5: 'IBUFLASH_MIGRAN', 6: 'IBUPROFENO_GENFAR', 7: 'LEVONORGESTREL', 8: 'NORAVER_GRIPA_DIA', 9: 'VITAC_MK'}\n",
              " obb: None\n",
              " orig_img: array([[[142, 141, 143],\n",
              "         [142, 141, 143],\n",
              "         [142, 141, 143],\n",
              "         ...,\n",
              "         [141, 139, 139],\n",
              "         [141, 139, 139],\n",
              "         [141, 139, 139]],\n",
              " \n",
              "        [[142, 141, 143],\n",
              "         [142, 141, 143],\n",
              "         [142, 141, 143],\n",
              "         ...,\n",
              "         [141, 139, 139],\n",
              "         [141, 139, 139],\n",
              "         [141, 139, 139]],\n",
              " \n",
              "        [[142, 141, 143],\n",
              "         [142, 141, 143],\n",
              "         [142, 141, 143],\n",
              "         ...,\n",
              "         [141, 139, 139],\n",
              "         [141, 139, 139],\n",
              "         [141, 139, 139]],\n",
              " \n",
              "        ...,\n",
              " \n",
              "        [[ 24,  22,  22],\n",
              "         [ 24,  22,  22],\n",
              "         [ 26,  24,  24],\n",
              "         ...,\n",
              "         [ 29,  25,  24],\n",
              "         [ 30,  26,  25],\n",
              "         [ 31,  27,  26]],\n",
              " \n",
              "        [[ 16,  14,  14],\n",
              "         [ 16,  14,  14],\n",
              "         [ 16,  14,  14],\n",
              "         ...,\n",
              "         [ 21,  17,  16],\n",
              "         [ 23,  19,  18],\n",
              "         [ 24,  20,  19]],\n",
              " \n",
              "        [[  8,   6,   6],\n",
              "         [  7,   5,   5],\n",
              "         [  7,   5,   5],\n",
              "         ...,\n",
              "         [ 14,  10,   9],\n",
              "         [ 16,  12,  11],\n",
              "         [ 17,  13,  12]]], dtype=uint8)\n",
              " orig_shape: (640, 640)\n",
              " path: '/content/dataset/test/images/8D16C079-383C-4DE4-B127-4CDB44D54C9B_jpeg.rf.139106fc919910ee29a2b8ff6588e368.jpg'\n",
              " probs: None\n",
              " save_dir: 'runs/detect/predict2'\n",
              " speed: {'preprocess': 2.411365509033203, 'inference': 11.977672576904297, 'postprocess': 1.893758773803711},\n",
              " ultralytics.engine.results.Results object with attributes:\n",
              " \n",
              " boxes: ultralytics.engine.results.Boxes object\n",
              " keypoints: None\n",
              " masks: None\n",
              " names: {0: 'ALKASELTZER', 1: 'ASPIRINA_100', 2: 'BUSCAPINA', 3: 'DOLEX_GRIPA', 4: 'GAVISCON', 5: 'IBUFLASH_MIGRAN', 6: 'IBUPROFENO_GENFAR', 7: 'LEVONORGESTREL', 8: 'NORAVER_GRIPA_DIA', 9: 'VITAC_MK'}\n",
              " obb: None\n",
              " orig_img: array([[[ 25,  29, 184],\n",
              "         [ 25,  29, 184],\n",
              "         [ 25,  29, 184],\n",
              "         ...,\n",
              "         [ 30,  29, 185],\n",
              "         [ 32,  29, 185],\n",
              "         [ 32,  29, 185]],\n",
              " \n",
              "        [[ 25,  28, 186],\n",
              "         [ 25,  29, 184],\n",
              "         [ 26,  29, 187],\n",
              "         ...,\n",
              "         [ 30,  29, 185],\n",
              "         [ 32,  29, 185],\n",
              "         [ 32,  29, 185]],\n",
              " \n",
              "        [[ 24,  28, 187],\n",
              "         [ 24,  29, 186],\n",
              "         [ 25,  29, 188],\n",
              "         ...,\n",
              "         [ 30,  29, 185],\n",
              "         [ 32,  29, 185],\n",
              "         [ 32,  29, 185]],\n",
              " \n",
              "        ...,\n",
              " \n",
              "        [[ 11,  10,  66],\n",
              "         [ 11,  10,  66],\n",
              "         [ 11,  10,  66],\n",
              "         ...,\n",
              "         [  3,   3,  15],\n",
              "         [  3,   3,  15],\n",
              "         [  3,   3,  15]],\n",
              " \n",
              "        [[ 11,  10,  66],\n",
              "         [ 11,  10,  66],\n",
              "         [ 11,  10,  66],\n",
              "         ...,\n",
              "         [  3,   3,  15],\n",
              "         [  3,   3,  15],\n",
              "         [  3,   3,  15]],\n",
              " \n",
              "        [[ 11,  10,  66],\n",
              "         [ 11,  10,  66],\n",
              "         [ 11,  10,  66],\n",
              "         ...,\n",
              "         [  3,   3,  15],\n",
              "         [  3,   3,  15],\n",
              "         [  3,   3,  15]]], dtype=uint8)\n",
              " orig_shape: (640, 640)\n",
              " path: '/content/dataset/test/images/908098B0-655C-4620-93F1-18803A67E320_jpeg.rf.f24a9576d374811ae5ebfd92fbd221f4.jpg'\n",
              " probs: None\n",
              " save_dir: 'runs/detect/predict2'\n",
              " speed: {'preprocess': 2.0139217376708984, 'inference': 7.318735122680664, 'postprocess': 1.1734962463378906},\n",
              " ultralytics.engine.results.Results object with attributes:\n",
              " \n",
              " boxes: ultralytics.engine.results.Boxes object\n",
              " keypoints: None\n",
              " masks: None\n",
              " names: {0: 'ALKASELTZER', 1: 'ASPIRINA_100', 2: 'BUSCAPINA', 3: 'DOLEX_GRIPA', 4: 'GAVISCON', 5: 'IBUFLASH_MIGRAN', 6: 'IBUPROFENO_GENFAR', 7: 'LEVONORGESTREL', 8: 'NORAVER_GRIPA_DIA', 9: 'VITAC_MK'}\n",
              " obb: None\n",
              " orig_img: array([[[181, 183, 184],\n",
              "         [181, 183, 184],\n",
              "         [181, 183, 184],\n",
              "         ...,\n",
              "         [129, 129, 129],\n",
              "         [129, 129, 129],\n",
              "         [129, 129, 129]],\n",
              " \n",
              "        [[181, 183, 184],\n",
              "         [181, 183, 184],\n",
              "         [181, 183, 184],\n",
              "         ...,\n",
              "         [129, 129, 129],\n",
              "         [129, 129, 129],\n",
              "         [129, 129, 129]],\n",
              " \n",
              "        [[181, 183, 184],\n",
              "         [181, 183, 184],\n",
              "         [181, 183, 184],\n",
              "         ...,\n",
              "         [129, 129, 129],\n",
              "         [129, 129, 129],\n",
              "         [129, 129, 129]],\n",
              " \n",
              "        ...,\n",
              " \n",
              "        [[108, 110, 111],\n",
              "         [147, 149, 150],\n",
              "         [173, 175, 176],\n",
              "         ...,\n",
              "         [143, 145, 146],\n",
              "         [143, 145, 146],\n",
              "         [143, 145, 146]],\n",
              " \n",
              "        [[157, 159, 160],\n",
              "         [154, 156, 157],\n",
              "         [161, 163, 164],\n",
              "         ...,\n",
              "         [143, 145, 146],\n",
              "         [143, 145, 146],\n",
              "         [143, 145, 146]],\n",
              " \n",
              "        [[161, 163, 164],\n",
              "         [164, 166, 167],\n",
              "         [164, 166, 167],\n",
              "         ...,\n",
              "         [143, 145, 146],\n",
              "         [143, 145, 146],\n",
              "         [143, 145, 146]]], dtype=uint8)\n",
              " orig_shape: (640, 640)\n",
              " path: '/content/dataset/test/images/94B71B07-9E38-45D8-A598-AD7E16EB2A93_jpeg.rf.8ba7377a6bfd1b3eca27f59373cd87f2.jpg'\n",
              " probs: None\n",
              " save_dir: 'runs/detect/predict2'\n",
              " speed: {'preprocess': 1.9650459289550781, 'inference': 7.330656051635742, 'postprocess': 1.0809898376464844},\n",
              " ultralytics.engine.results.Results object with attributes:\n",
              " \n",
              " boxes: ultralytics.engine.results.Boxes object\n",
              " keypoints: None\n",
              " masks: None\n",
              " names: {0: 'ALKASELTZER', 1: 'ASPIRINA_100', 2: 'BUSCAPINA', 3: 'DOLEX_GRIPA', 4: 'GAVISCON', 5: 'IBUFLASH_MIGRAN', 6: 'IBUPROFENO_GENFAR', 7: 'LEVONORGESTREL', 8: 'NORAVER_GRIPA_DIA', 9: 'VITAC_MK'}\n",
              " obb: None\n",
              " orig_img: array([[[150, 153, 158],\n",
              "         [150, 153, 158],\n",
              "         [150, 153, 158],\n",
              "         ...,\n",
              "         [166, 166, 172],\n",
              "         [166, 166, 172],\n",
              "         [166, 166, 172]],\n",
              " \n",
              "        [[150, 153, 158],\n",
              "         [150, 153, 158],\n",
              "         [150, 153, 158],\n",
              "         ...,\n",
              "         [166, 166, 172],\n",
              "         [166, 166, 172],\n",
              "         [166, 166, 172]],\n",
              " \n",
              "        [[150, 153, 158],\n",
              "         [150, 153, 158],\n",
              "         [150, 153, 158],\n",
              "         ...,\n",
              "         [166, 166, 172],\n",
              "         [166, 166, 172],\n",
              "         [166, 166, 172]],\n",
              " \n",
              "        ...,\n",
              " \n",
              "        [[ 10,   5,   6],\n",
              "         [ 10,   5,   6],\n",
              "         [ 10,   5,   6],\n",
              "         ...,\n",
              "         [ 28,  26,  26],\n",
              "         [ 28,  26,  26],\n",
              "         [ 28,  26,  26]],\n",
              " \n",
              "        [[ 10,   5,   6],\n",
              "         [ 10,   5,   6],\n",
              "         [ 10,   5,   6],\n",
              "         ...,\n",
              "         [ 28,  26,  26],\n",
              "         [ 28,  26,  26],\n",
              "         [ 28,  26,  26]],\n",
              " \n",
              "        [[ 10,   5,   6],\n",
              "         [ 10,   5,   6],\n",
              "         [ 10,   5,   6],\n",
              "         ...,\n",
              "         [ 28,  26,  26],\n",
              "         [ 28,  26,  26],\n",
              "         [ 28,  26,  26]]], dtype=uint8)\n",
              " orig_shape: (640, 640)\n",
              " path: '/content/dataset/test/images/974551B1-D525-4D46-ACB9-76F4910C19E2_jpeg.rf.1c5d7104da4496439efdb9883d9635e2.jpg'\n",
              " probs: None\n",
              " save_dir: 'runs/detect/predict2'\n",
              " speed: {'preprocess': 1.9116401672363281, 'inference': 7.393598556518555, 'postprocess': 2.423524856567383},\n",
              " ultralytics.engine.results.Results object with attributes:\n",
              " \n",
              " boxes: ultralytics.engine.results.Boxes object\n",
              " keypoints: None\n",
              " masks: None\n",
              " names: {0: 'ALKASELTZER', 1: 'ASPIRINA_100', 2: 'BUSCAPINA', 3: 'DOLEX_GRIPA', 4: 'GAVISCON', 5: 'IBUFLASH_MIGRAN', 6: 'IBUPROFENO_GENFAR', 7: 'LEVONORGESTREL', 8: 'NORAVER_GRIPA_DIA', 9: 'VITAC_MK'}\n",
              " obb: None\n",
              " orig_img: array([[[154, 161, 164],\n",
              "         [154, 161, 164],\n",
              "         [154, 161, 164],\n",
              "         ...,\n",
              "         [183, 188, 191],\n",
              "         [183, 188, 191],\n",
              "         [183, 188, 191]],\n",
              " \n",
              "        [[154, 161, 164],\n",
              "         [154, 161, 164],\n",
              "         [154, 161, 164],\n",
              "         ...,\n",
              "         [183, 188, 191],\n",
              "         [183, 188, 191],\n",
              "         [183, 188, 191]],\n",
              " \n",
              "        [[154, 161, 164],\n",
              "         [154, 161, 164],\n",
              "         [154, 161, 164],\n",
              "         ...,\n",
              "         [183, 188, 191],\n",
              "         [183, 188, 191],\n",
              "         [183, 188, 191]],\n",
              " \n",
              "        ...,\n",
              " \n",
              "        [[163, 175, 185],\n",
              "         [163, 175, 185],\n",
              "         [163, 175, 185],\n",
              "         ...,\n",
              "         [199, 204, 213],\n",
              "         [199, 204, 213],\n",
              "         [199, 204, 213]],\n",
              " \n",
              "        [[163, 175, 185],\n",
              "         [163, 175, 185],\n",
              "         [163, 175, 185],\n",
              "         ...,\n",
              "         [199, 204, 213],\n",
              "         [199, 204, 213],\n",
              "         [199, 204, 213]],\n",
              " \n",
              "        [[163, 175, 185],\n",
              "         [163, 175, 185],\n",
              "         [163, 175, 185],\n",
              "         ...,\n",
              "         [199, 204, 213],\n",
              "         [199, 204, 213],\n",
              "         [199, 204, 213]]], dtype=uint8)\n",
              " orig_shape: (640, 640)\n",
              " path: '/content/dataset/test/images/992D0732-CEB4-48B4-B917-8496D153DC67_jpeg.rf.52f9559448483be903a90240c22cb91d.jpg'\n",
              " probs: None\n",
              " save_dir: 'runs/detect/predict2'\n",
              " speed: {'preprocess': 1.8939971923828125, 'inference': 7.332324981689453, 'postprocess': 1.0986328125},\n",
              " ultralytics.engine.results.Results object with attributes:\n",
              " \n",
              " boxes: ultralytics.engine.results.Boxes object\n",
              " keypoints: None\n",
              " masks: None\n",
              " names: {0: 'ALKASELTZER', 1: 'ASPIRINA_100', 2: 'BUSCAPINA', 3: 'DOLEX_GRIPA', 4: 'GAVISCON', 5: 'IBUFLASH_MIGRAN', 6: 'IBUPROFENO_GENFAR', 7: 'LEVONORGESTREL', 8: 'NORAVER_GRIPA_DIA', 9: 'VITAC_MK'}\n",
              " obb: None\n",
              " orig_img: array([[[145, 145, 151],\n",
              "         [145, 145, 151],\n",
              "         [145, 145, 151],\n",
              "         ...,\n",
              "         [159, 157, 163],\n",
              "         [159, 157, 163],\n",
              "         [159, 157, 163]],\n",
              " \n",
              "        [[145, 145, 151],\n",
              "         [145, 145, 151],\n",
              "         [145, 145, 151],\n",
              "         ...,\n",
              "         [159, 157, 163],\n",
              "         [159, 157, 163],\n",
              "         [159, 157, 163]],\n",
              " \n",
              "        [[145, 145, 151],\n",
              "         [145, 145, 151],\n",
              "         [145, 145, 151],\n",
              "         ...,\n",
              "         [159, 157, 163],\n",
              "         [159, 157, 163],\n",
              "         [159, 157, 163]],\n",
              " \n",
              "        ...,\n",
              " \n",
              "        [[ 23,  21, 127],\n",
              "         [ 24,  22, 128],\n",
              "         [ 25,  23, 129],\n",
              "         ...,\n",
              "         [202, 198, 203],\n",
              "         [202, 198, 203],\n",
              "         [202, 198, 203]],\n",
              " \n",
              "        [[ 27,  25, 125],\n",
              "         [ 28,  26, 126],\n",
              "         [ 28,  26, 126],\n",
              "         ...,\n",
              "         [202, 198, 203],\n",
              "         [202, 198, 203],\n",
              "         [202, 198, 203]],\n",
              " \n",
              "        [[ 30,  29, 125],\n",
              "         [ 30,  29, 125],\n",
              "         [ 30,  29, 127],\n",
              "         ...,\n",
              "         [202, 198, 203],\n",
              "         [202, 198, 203],\n",
              "         [202, 198, 203]]], dtype=uint8)\n",
              " orig_shape: (640, 640)\n",
              " path: '/content/dataset/test/images/9A306E53-0CE5-4F49-BEC6-203A859781FB_jpeg.rf.5a89893de2919abc6ec6429d7add464e.jpg'\n",
              " probs: None\n",
              " save_dir: 'runs/detect/predict2'\n",
              " speed: {'preprocess': 1.9233226776123047, 'inference': 7.343530654907227, 'postprocess': 1.16729736328125},\n",
              " ultralytics.engine.results.Results object with attributes:\n",
              " \n",
              " boxes: ultralytics.engine.results.Boxes object\n",
              " keypoints: None\n",
              " masks: None\n",
              " names: {0: 'ALKASELTZER', 1: 'ASPIRINA_100', 2: 'BUSCAPINA', 3: 'DOLEX_GRIPA', 4: 'GAVISCON', 5: 'IBUFLASH_MIGRAN', 6: 'IBUPROFENO_GENFAR', 7: 'LEVONORGESTREL', 8: 'NORAVER_GRIPA_DIA', 9: 'VITAC_MK'}\n",
              " obb: None\n",
              " orig_img: array([[[209, 202, 209],\n",
              "         [209, 202, 209],\n",
              "         [209, 202, 209],\n",
              "         ...,\n",
              "         [169, 161, 168],\n",
              "         [169, 161, 168],\n",
              "         [169, 161, 168]],\n",
              " \n",
              "        [[209, 202, 209],\n",
              "         [209, 202, 209],\n",
              "         [209, 202, 209],\n",
              "         ...,\n",
              "         [169, 161, 168],\n",
              "         [169, 161, 168],\n",
              "         [169, 161, 168]],\n",
              " \n",
              "        [[209, 202, 209],\n",
              "         [209, 202, 209],\n",
              "         [209, 202, 209],\n",
              "         ...,\n",
              "         [169, 161, 168],\n",
              "         [169, 161, 168],\n",
              "         [169, 161, 168]],\n",
              " \n",
              "        ...,\n",
              " \n",
              "        [[ 31,  24,  27],\n",
              "         [ 31,  24,  27],\n",
              "         [ 31,  24,  27],\n",
              "         ...,\n",
              "         [176, 170, 175],\n",
              "         [176, 170, 175],\n",
              "         [176, 170, 175]],\n",
              " \n",
              "        [[ 32,  25,  28],\n",
              "         [ 32,  25,  28],\n",
              "         [ 33,  26,  29],\n",
              "         ...,\n",
              "         [176, 170, 175],\n",
              "         [176, 170, 175],\n",
              "         [176, 170, 175]],\n",
              " \n",
              "        [[ 33,  26,  29],\n",
              "         [ 34,  27,  30],\n",
              "         [ 34,  27,  30],\n",
              "         ...,\n",
              "         [176, 170, 175],\n",
              "         [176, 170, 175],\n",
              "         [176, 170, 175]]], dtype=uint8)\n",
              " orig_shape: (640, 640)\n",
              " path: '/content/dataset/test/images/9CCEE114-F43C-48CC-A384-F8F7523D6693_jpeg.rf.e0d0b0bec19d7d99e0e8cd73ebb51ac6.jpg'\n",
              " probs: None\n",
              " save_dir: 'runs/detect/predict2'\n",
              " speed: {'preprocess': 1.9404888153076172, 'inference': 7.384300231933594, 'postprocess': 1.1398792266845703},\n",
              " ultralytics.engine.results.Results object with attributes:\n",
              " \n",
              " boxes: ultralytics.engine.results.Boxes object\n",
              " keypoints: None\n",
              " masks: None\n",
              " names: {0: 'ALKASELTZER', 1: 'ASPIRINA_100', 2: 'BUSCAPINA', 3: 'DOLEX_GRIPA', 4: 'GAVISCON', 5: 'IBUFLASH_MIGRAN', 6: 'IBUPROFENO_GENFAR', 7: 'LEVONORGESTREL', 8: 'NORAVER_GRIPA_DIA', 9: 'VITAC_MK'}\n",
              " obb: None\n",
              " orig_img: array([[[ 42,  32, 246],\n",
              "         [ 42,  32, 246],\n",
              "         [ 42,  32, 246],\n",
              "         ...,\n",
              "         [ 17,  10, 201],\n",
              "         [ 17,  10, 201],\n",
              "         [ 17,  10, 201]],\n",
              " \n",
              "        [[ 42,  32, 246],\n",
              "         [ 42,  32, 246],\n",
              "         [ 42,  32, 246],\n",
              "         ...,\n",
              "         [ 17,  10, 201],\n",
              "         [ 17,  10, 201],\n",
              "         [ 17,  10, 201]],\n",
              " \n",
              "        [[ 42,  32, 246],\n",
              "         [ 42,  32, 246],\n",
              "         [ 42,  32, 246],\n",
              "         ...,\n",
              "         [ 17,  10, 201],\n",
              "         [ 17,  10, 201],\n",
              "         [ 17,  10, 201]],\n",
              " \n",
              "        ...,\n",
              " \n",
              "        [[ 19,  16, 185],\n",
              "         [ 31,  25, 202],\n",
              "         [ 42,  34, 225],\n",
              "         ...,\n",
              "         [ 24,  15, 219],\n",
              "         [ 24,  15, 219],\n",
              "         [ 24,  15, 219]],\n",
              " \n",
              "        [[ 34,  13, 242],\n",
              "         [ 37,  19, 242],\n",
              "         [ 40,  28, 242],\n",
              "         ...,\n",
              "         [ 24,  15, 219],\n",
              "         [ 24,  15, 219],\n",
              "         [ 24,  15, 219]],\n",
              " \n",
              "        [[ 40,  10, 255],\n",
              "         [ 36,  12, 255],\n",
              "         [ 33,  17, 242],\n",
              "         ...,\n",
              "         [ 24,  15, 219],\n",
              "         [ 24,  15, 219],\n",
              "         [ 24,  15, 219]]], dtype=uint8)\n",
              " orig_shape: (640, 640)\n",
              " path: '/content/dataset/test/images/AC40C9CE-34B4-4A41-BA23-553E7B860984_jpeg.rf.330913e136432542cc55c5d205ddd0b9.jpg'\n",
              " probs: None\n",
              " save_dir: 'runs/detect/predict2'\n",
              " speed: {'preprocess': 1.9931793212890625, 'inference': 7.342338562011719, 'postprocess': 1.4693737030029297},\n",
              " ultralytics.engine.results.Results object with attributes:\n",
              " \n",
              " boxes: ultralytics.engine.results.Boxes object\n",
              " keypoints: None\n",
              " masks: None\n",
              " names: {0: 'ALKASELTZER', 1: 'ASPIRINA_100', 2: 'BUSCAPINA', 3: 'DOLEX_GRIPA', 4: 'GAVISCON', 5: 'IBUFLASH_MIGRAN', 6: 'IBUPROFENO_GENFAR', 7: 'LEVONORGESTREL', 8: 'NORAVER_GRIPA_DIA', 9: 'VITAC_MK'}\n",
              " obb: None\n",
              " orig_img: array([[[249, 251, 252],\n",
              "         [249, 251, 252],\n",
              "         [249, 251, 252],\n",
              "         ...,\n",
              "         [253, 250, 252],\n",
              "         [253, 250, 252],\n",
              "         [253, 250, 252]],\n",
              " \n",
              "        [[249, 251, 252],\n",
              "         [249, 251, 252],\n",
              "         [249, 251, 252],\n",
              "         ...,\n",
              "         [253, 250, 252],\n",
              "         [253, 250, 252],\n",
              "         [253, 250, 252]],\n",
              " \n",
              "        [[249, 251, 252],\n",
              "         [249, 251, 252],\n",
              "         [249, 251, 252],\n",
              "         ...,\n",
              "         [253, 250, 252],\n",
              "         [253, 250, 252],\n",
              "         [253, 250, 252]],\n",
              " \n",
              "        ...,\n",
              " \n",
              "        [[138,  95, 255],\n",
              "         [138,  95, 255],\n",
              "         [137,  94, 255],\n",
              "         ...,\n",
              "         [253, 250, 252],\n",
              "         [253, 250, 252],\n",
              "         [253, 250, 252]],\n",
              " \n",
              "        [[138,  97, 255],\n",
              "         [137,  96, 255],\n",
              "         [137,  96, 255],\n",
              "         ...,\n",
              "         [253, 250, 252],\n",
              "         [253, 250, 252],\n",
              "         [253, 250, 252]],\n",
              " \n",
              "        [[135,  95, 250],\n",
              "         [134,  94, 249],\n",
              "         [134,  94, 249],\n",
              "         ...,\n",
              "         [253, 250, 252],\n",
              "         [253, 250, 252],\n",
              "         [253, 250, 252]]], dtype=uint8)\n",
              " orig_shape: (640, 640)\n",
              " path: '/content/dataset/test/images/AD76C67E-5B88-463C-B2D9-8C5912290E66_jpeg.rf.c90ec291e67fbb30252bac99ab71b7fb.jpg'\n",
              " probs: None\n",
              " save_dir: 'runs/detect/predict2'\n",
              " speed: {'preprocess': 1.8951892852783203, 'inference': 7.337808609008789, 'postprocess': 1.1398792266845703},\n",
              " ultralytics.engine.results.Results object with attributes:\n",
              " \n",
              " boxes: ultralytics.engine.results.Boxes object\n",
              " keypoints: None\n",
              " masks: None\n",
              " names: {0: 'ALKASELTZER', 1: 'ASPIRINA_100', 2: 'BUSCAPINA', 3: 'DOLEX_GRIPA', 4: 'GAVISCON', 5: 'IBUFLASH_MIGRAN', 6: 'IBUPROFENO_GENFAR', 7: 'LEVONORGESTREL', 8: 'NORAVER_GRIPA_DIA', 9: 'VITAC_MK'}\n",
              " obb: None\n",
              " orig_img: array([[[ 57,  76, 251],\n",
              "         [ 57,  76, 251],\n",
              "         [ 57,  76, 251],\n",
              "         ...,\n",
              "         [ 43,  46, 221],\n",
              "         [ 43,  46, 221],\n",
              "         [ 43,  46, 221]],\n",
              " \n",
              "        [[ 57,  76, 251],\n",
              "         [ 57,  76, 251],\n",
              "         [ 57,  76, 251],\n",
              "         ...,\n",
              "         [ 43,  46, 221],\n",
              "         [ 43,  46, 221],\n",
              "         [ 43,  46, 221]],\n",
              " \n",
              "        [[ 57,  76, 251],\n",
              "         [ 57,  76, 251],\n",
              "         [ 57,  76, 251],\n",
              "         ...,\n",
              "         [ 43,  46, 221],\n",
              "         [ 43,  46, 221],\n",
              "         [ 43,  46, 221]],\n",
              " \n",
              "        ...,\n",
              " \n",
              "        [[ 16,  10,  75],\n",
              "         [ 16,  10,  75],\n",
              "         [ 16,  10,  75],\n",
              "         ...,\n",
              "         [ 48,  50, 228],\n",
              "         [ 48,  50, 228],\n",
              "         [ 48,  50, 228]],\n",
              " \n",
              "        [[ 16,  10,  75],\n",
              "         [ 16,  10,  75],\n",
              "         [ 16,  10,  75],\n",
              "         ...,\n",
              "         [ 48,  50, 228],\n",
              "         [ 48,  50, 228],\n",
              "         [ 48,  50, 228]],\n",
              " \n",
              "        [[ 16,  10,  75],\n",
              "         [ 16,  10,  75],\n",
              "         [ 16,  10,  75],\n",
              "         ...,\n",
              "         [ 48,  50, 228],\n",
              "         [ 48,  50, 228],\n",
              "         [ 48,  50, 228]]], dtype=uint8)\n",
              " orig_shape: (640, 640)\n",
              " path: '/content/dataset/test/images/B55E46DD-67B5-4A86-96E5-28C322975E82_jpeg.rf.a0798b803408775ddbe691a24654d16b.jpg'\n",
              " probs: None\n",
              " save_dir: 'runs/detect/predict2'\n",
              " speed: {'preprocess': 1.9640922546386719, 'inference': 7.353782653808594, 'postprocess': 1.1742115020751953},\n",
              " ultralytics.engine.results.Results object with attributes:\n",
              " \n",
              " boxes: ultralytics.engine.results.Boxes object\n",
              " keypoints: None\n",
              " masks: None\n",
              " names: {0: 'ALKASELTZER', 1: 'ASPIRINA_100', 2: 'BUSCAPINA', 3: 'DOLEX_GRIPA', 4: 'GAVISCON', 5: 'IBUFLASH_MIGRAN', 6: 'IBUPROFENO_GENFAR', 7: 'LEVONORGESTREL', 8: 'NORAVER_GRIPA_DIA', 9: 'VITAC_MK'}\n",
              " obb: None\n",
              " orig_img: array([[[128, 123, 122],\n",
              "         [128, 123, 122],\n",
              "         [128, 123, 122],\n",
              "         ...,\n",
              "         [134, 129, 128],\n",
              "         [134, 129, 128],\n",
              "         [134, 129, 128]],\n",
              " \n",
              "        [[128, 123, 122],\n",
              "         [128, 123, 122],\n",
              "         [128, 123, 122],\n",
              "         ...,\n",
              "         [134, 129, 128],\n",
              "         [134, 129, 128],\n",
              "         [134, 129, 128]],\n",
              " \n",
              "        [[128, 123, 122],\n",
              "         [128, 123, 122],\n",
              "         [128, 123, 122],\n",
              "         ...,\n",
              "         [134, 129, 128],\n",
              "         [134, 129, 128],\n",
              "         [134, 129, 128]],\n",
              " \n",
              "        ...,\n",
              " \n",
              "        [[ 27,  27,  33],\n",
              "         [ 27,  27,  33],\n",
              "         [ 27,  27,  33],\n",
              "         ...,\n",
              "         [ 23,  24,  28],\n",
              "         [ 23,  24,  28],\n",
              "         [ 23,  24,  28]],\n",
              " \n",
              "        [[ 27,  27,  33],\n",
              "         [ 27,  27,  33],\n",
              "         [ 27,  27,  33],\n",
              "         ...,\n",
              "         [ 23,  24,  28],\n",
              "         [ 23,  24,  28],\n",
              "         [ 23,  24,  28]],\n",
              " \n",
              "        [[ 27,  27,  33],\n",
              "         [ 27,  27,  33],\n",
              "         [ 27,  27,  33],\n",
              "         ...,\n",
              "         [ 23,  24,  28],\n",
              "         [ 23,  24,  28],\n",
              "         [ 23,  24,  28]]], dtype=uint8)\n",
              " orig_shape: (640, 640)\n",
              " path: '/content/dataset/test/images/B5B09234-F8F3-4260-8719-D59B2D6DC0E7_jpeg.rf.2d0a1e9903fa73719ec720eba218ecdf.jpg'\n",
              " probs: None\n",
              " save_dir: 'runs/detect/predict2'\n",
              " speed: {'preprocess': 2.0384788513183594, 'inference': 7.359027862548828, 'postprocess': 1.1203289031982422},\n",
              " ultralytics.engine.results.Results object with attributes:\n",
              " \n",
              " boxes: ultralytics.engine.results.Boxes object\n",
              " keypoints: None\n",
              " masks: None\n",
              " names: {0: 'ALKASELTZER', 1: 'ASPIRINA_100', 2: 'BUSCAPINA', 3: 'DOLEX_GRIPA', 4: 'GAVISCON', 5: 'IBUFLASH_MIGRAN', 6: 'IBUPROFENO_GENFAR', 7: 'LEVONORGESTREL', 8: 'NORAVER_GRIPA_DIA', 9: 'VITAC_MK'}\n",
              " obb: None\n",
              " orig_img: array([[[112, 186,   8],\n",
              "         [112, 186,   8],\n",
              "         [112, 186,   8],\n",
              "         ...,\n",
              "         [111, 184,   8],\n",
              "         [111, 184,   8],\n",
              "         [111, 184,   8]],\n",
              " \n",
              "        [[112, 186,   8],\n",
              "         [112, 186,   8],\n",
              "         [112, 186,   8],\n",
              "         ...,\n",
              "         [111, 184,   8],\n",
              "         [111, 184,   8],\n",
              "         [111, 184,   8]],\n",
              " \n",
              "        [[112, 186,   8],\n",
              "         [112, 186,   8],\n",
              "         [112, 186,   8],\n",
              "         ...,\n",
              "         [111, 184,   8],\n",
              "         [111, 184,   8],\n",
              "         [111, 184,   8]],\n",
              " \n",
              "        ...,\n",
              " \n",
              "        [[ 21,  40,  15],\n",
              "         [ 21,  40,  15],\n",
              "         [ 22,  41,  16],\n",
              "         ...,\n",
              "         [ 18,  50,   9],\n",
              "         [ 20,  52,  11],\n",
              "         [ 20,  52,  11]],\n",
              " \n",
              "        [[  7,  23,   5],\n",
              "         [  7,  23,   5],\n",
              "         [  7,  23,   5],\n",
              "         ...,\n",
              "         [ 11,  39,   3],\n",
              "         [ 13,  42,   3],\n",
              "         [ 13,  42,   3]],\n",
              " \n",
              "        [[  6,  22,   5],\n",
              "         [  5,  21,   4],\n",
              "         [  4,  20,   3],\n",
              "         ...,\n",
              "         [  7,  32,   0],\n",
              "         [  5,  33,   0],\n",
              "         [  6,  34,   0]]], dtype=uint8)\n",
              " orig_shape: (640, 640)\n",
              " path: '/content/dataset/test/images/B9E404E7-12FF-4816-8085-5F8560943A36_jpeg.rf.dccfa7dd0605bef0caba2ccb0f06effd.jpg'\n",
              " probs: None\n",
              " save_dir: 'runs/detect/predict2'\n",
              " speed: {'preprocess': 1.9104480743408203, 'inference': 7.359027862548828, 'postprocess': 1.168966293334961},\n",
              " ultralytics.engine.results.Results object with attributes:\n",
              " \n",
              " boxes: ultralytics.engine.results.Boxes object\n",
              " keypoints: None\n",
              " masks: None\n",
              " names: {0: 'ALKASELTZER', 1: 'ASPIRINA_100', 2: 'BUSCAPINA', 3: 'DOLEX_GRIPA', 4: 'GAVISCON', 5: 'IBUFLASH_MIGRAN', 6: 'IBUPROFENO_GENFAR', 7: 'LEVONORGESTREL', 8: 'NORAVER_GRIPA_DIA', 9: 'VITAC_MK'}\n",
              " obb: None\n",
              " orig_img: array([[[167, 173, 178],\n",
              "         [170, 176, 181],\n",
              "         [169, 175, 180],\n",
              "         ...,\n",
              "         [183, 186, 190],\n",
              "         [183, 186, 190],\n",
              "         [183, 186, 190]],\n",
              " \n",
              "        [[168, 174, 179],\n",
              "         [170, 176, 181],\n",
              "         [169, 175, 180],\n",
              "         ...,\n",
              "         [182, 185, 189],\n",
              "         [182, 185, 189],\n",
              "         [182, 185, 189]],\n",
              " \n",
              "        [[169, 175, 180],\n",
              "         [171, 177, 182],\n",
              "         [169, 175, 180],\n",
              "         ...,\n",
              "         [181, 184, 188],\n",
              "         [181, 184, 188],\n",
              "         [181, 184, 188]],\n",
              " \n",
              "        ...,\n",
              " \n",
              "        [[ 51,  64, 186],\n",
              "         [ 48,  63, 185],\n",
              "         [ 46,  61, 184],\n",
              "         ...,\n",
              "         [195, 204, 217],\n",
              "         [195, 204, 217],\n",
              "         [195, 204, 217]],\n",
              " \n",
              "        [[ 56,  69, 185],\n",
              "         [ 52,  66, 184],\n",
              "         [ 50,  64, 184],\n",
              "         ...,\n",
              "         [195, 204, 217],\n",
              "         [195, 204, 217],\n",
              "         [195, 204, 217]],\n",
              " \n",
              "        [[ 57,  71, 184],\n",
              "         [ 55,  69, 182],\n",
              "         [ 50,  64, 182],\n",
              "         ...,\n",
              "         [195, 204, 217],\n",
              "         [195, 204, 217],\n",
              "         [195, 204, 217]]], dtype=uint8)\n",
              " orig_shape: (640, 640)\n",
              " path: '/content/dataset/test/images/C047A195-826E-4171-B074-BA47CC6C5DD5_jpeg.rf.105dddd112a304128fec3e08457e031e.jpg'\n",
              " probs: None\n",
              " save_dir: 'runs/detect/predict2'\n",
              " speed: {'preprocess': 2.068758010864258, 'inference': 7.374286651611328, 'postprocess': 1.238107681274414},\n",
              " ultralytics.engine.results.Results object with attributes:\n",
              " \n",
              " boxes: ultralytics.engine.results.Boxes object\n",
              " keypoints: None\n",
              " masks: None\n",
              " names: {0: 'ALKASELTZER', 1: 'ASPIRINA_100', 2: 'BUSCAPINA', 3: 'DOLEX_GRIPA', 4: 'GAVISCON', 5: 'IBUFLASH_MIGRAN', 6: 'IBUPROFENO_GENFAR', 7: 'LEVONORGESTREL', 8: 'NORAVER_GRIPA_DIA', 9: 'VITAC_MK'}\n",
              " obb: None\n",
              " orig_img: array([[[178, 177, 179],\n",
              "         [178, 177, 179],\n",
              "         [178, 177, 179],\n",
              "         ...,\n",
              "         [193, 193, 193],\n",
              "         [193, 193, 193],\n",
              "         [193, 193, 193]],\n",
              " \n",
              "        [[178, 177, 179],\n",
              "         [178, 177, 179],\n",
              "         [178, 177, 179],\n",
              "         ...,\n",
              "         [193, 193, 193],\n",
              "         [193, 193, 193],\n",
              "         [193, 193, 193]],\n",
              " \n",
              "        [[178, 177, 179],\n",
              "         [178, 177, 179],\n",
              "         [178, 177, 179],\n",
              "         ...,\n",
              "         [193, 193, 193],\n",
              "         [193, 193, 193],\n",
              "         [193, 193, 193]],\n",
              " \n",
              "        ...,\n",
              " \n",
              "        [[ 46,  38, 163],\n",
              "         [ 44,  38, 163],\n",
              "         [ 47,  39, 164],\n",
              "         ...,\n",
              "         [226, 224, 223],\n",
              "         [226, 224, 223],\n",
              "         [226, 224, 223]],\n",
              " \n",
              "        [[ 46,  43, 159],\n",
              "         [ 44,  43, 159],\n",
              "         [ 47,  44, 160],\n",
              "         ...,\n",
              "         [226, 224, 223],\n",
              "         [226, 224, 223],\n",
              "         [226, 224, 223]],\n",
              " \n",
              "        [[ 45,  46, 158],\n",
              "         [ 45,  46, 158],\n",
              "         [ 46,  47, 159],\n",
              "         ...,\n",
              "         [226, 224, 223],\n",
              "         [226, 224, 223],\n",
              "         [226, 224, 223]]], dtype=uint8)\n",
              " orig_shape: (640, 640)\n",
              " path: '/content/dataset/test/images/C1245D6E-C683-4FE1-8AAB-32E67C0BFC4D_jpeg.rf.45ffcd575fa28b9e0ad657868b47b4d8.jpg'\n",
              " probs: None\n",
              " save_dir: 'runs/detect/predict2'\n",
              " speed: {'preprocess': 1.9459724426269531, 'inference': 7.366180419921875, 'postprocess': 1.262664794921875},\n",
              " ultralytics.engine.results.Results object with attributes:\n",
              " \n",
              " boxes: ultralytics.engine.results.Boxes object\n",
              " keypoints: None\n",
              " masks: None\n",
              " names: {0: 'ALKASELTZER', 1: 'ASPIRINA_100', 2: 'BUSCAPINA', 3: 'DOLEX_GRIPA', 4: 'GAVISCON', 5: 'IBUFLASH_MIGRAN', 6: 'IBUPROFENO_GENFAR', 7: 'LEVONORGESTREL', 8: 'NORAVER_GRIPA_DIA', 9: 'VITAC_MK'}\n",
              " obb: None\n",
              " orig_img: array([[[157, 158, 156],\n",
              "         [157, 158, 156],\n",
              "         [157, 158, 156],\n",
              "         ...,\n",
              "         [185, 183, 182],\n",
              "         [185, 183, 182],\n",
              "         [185, 183, 182]],\n",
              " \n",
              "        [[157, 158, 156],\n",
              "         [157, 158, 156],\n",
              "         [157, 158, 156],\n",
              "         ...,\n",
              "         [185, 183, 182],\n",
              "         [185, 183, 182],\n",
              "         [185, 183, 182]],\n",
              " \n",
              "        [[157, 158, 156],\n",
              "         [157, 158, 156],\n",
              "         [157, 158, 156],\n",
              "         ...,\n",
              "         [185, 183, 182],\n",
              "         [185, 183, 182],\n",
              "         [185, 183, 182]],\n",
              " \n",
              "        ...,\n",
              " \n",
              "        [[166, 171, 172],\n",
              "         [166, 171, 172],\n",
              "         [166, 171, 172],\n",
              "         ...,\n",
              "         [195, 199, 200],\n",
              "         [195, 199, 200],\n",
              "         [195, 199, 200]],\n",
              " \n",
              "        [[166, 171, 172],\n",
              "         [166, 171, 172],\n",
              "         [166, 171, 172],\n",
              "         ...,\n",
              "         [195, 199, 200],\n",
              "         [195, 199, 200],\n",
              "         [195, 199, 200]],\n",
              " \n",
              "        [[166, 171, 172],\n",
              "         [166, 171, 172],\n",
              "         [166, 171, 172],\n",
              "         ...,\n",
              "         [195, 199, 200],\n",
              "         [195, 199, 200],\n",
              "         [195, 199, 200]]], dtype=uint8)\n",
              " orig_shape: (640, 640)\n",
              " path: '/content/dataset/test/images/C4F18DA9-E1B3-4A94-AE2D-88DAEF8F1741_jpeg.rf.c650fbc1b4af0a15a0bed4d9a682048d.jpg'\n",
              " probs: None\n",
              " save_dir: 'runs/detect/predict2'\n",
              " speed: {'preprocess': 2.006053924560547, 'inference': 7.369279861450195, 'postprocess': 1.1866092681884766},\n",
              " ultralytics.engine.results.Results object with attributes:\n",
              " \n",
              " boxes: ultralytics.engine.results.Boxes object\n",
              " keypoints: None\n",
              " masks: None\n",
              " names: {0: 'ALKASELTZER', 1: 'ASPIRINA_100', 2: 'BUSCAPINA', 3: 'DOLEX_GRIPA', 4: 'GAVISCON', 5: 'IBUFLASH_MIGRAN', 6: 'IBUPROFENO_GENFAR', 7: 'LEVONORGESTREL', 8: 'NORAVER_GRIPA_DIA', 9: 'VITAC_MK'}\n",
              " obb: None\n",
              " orig_img: array([[[253,  56,   0],\n",
              "         [253,  56,   0],\n",
              "         [253,  56,   0],\n",
              "         ...,\n",
              "         [254,  65,   2],\n",
              "         [254,  65,   2],\n",
              "         [254,  65,   2]],\n",
              " \n",
              "        [[253,  56,   0],\n",
              "         [253,  56,   0],\n",
              "         [253,  56,   0],\n",
              "         ...,\n",
              "         [254,  65,   2],\n",
              "         [254,  65,   2],\n",
              "         [254,  65,   2]],\n",
              " \n",
              "        [[253,  56,   0],\n",
              "         [253,  56,   0],\n",
              "         [253,  56,   0],\n",
              "         ...,\n",
              "         [254,  65,   2],\n",
              "         [254,  65,   2],\n",
              "         [254,  65,   2]],\n",
              " \n",
              "        ...,\n",
              " \n",
              "        [[155,   7,  19],\n",
              "         [155,   7,  19],\n",
              "         [155,   7,  19],\n",
              "         ...,\n",
              "         [249, 126,  10],\n",
              "         [251, 128,  12],\n",
              "         [253, 130,  14]],\n",
              " \n",
              "        [[158,   7,  17],\n",
              "         [158,   7,  17],\n",
              "         [158,   7,  17],\n",
              "         ...,\n",
              "         [249, 126,  10],\n",
              "         [251, 128,  12],\n",
              "         [253, 130,  14]],\n",
              " \n",
              "        [[160,   7,  16],\n",
              "         [160,   7,  16],\n",
              "         [160,   6,  17],\n",
              "         ...,\n",
              "         [249, 126,  10],\n",
              "         [251, 128,  12],\n",
              "         [253, 130,  14]]], dtype=uint8)\n",
              " orig_shape: (640, 640)\n",
              " path: '/content/dataset/test/images/CDE1A274-3DEA-4B81-ACC8-712C6F3D52D7_jpeg.rf.13f8889fdbdedc645fd02c443f31a2fa.jpg'\n",
              " probs: None\n",
              " save_dir: 'runs/detect/predict2'\n",
              " speed: {'preprocess': 1.9886493682861328, 'inference': 7.345914840698242, 'postprocess': 1.2235641479492188},\n",
              " ultralytics.engine.results.Results object with attributes:\n",
              " \n",
              " boxes: ultralytics.engine.results.Boxes object\n",
              " keypoints: None\n",
              " masks: None\n",
              " names: {0: 'ALKASELTZER', 1: 'ASPIRINA_100', 2: 'BUSCAPINA', 3: 'DOLEX_GRIPA', 4: 'GAVISCON', 5: 'IBUFLASH_MIGRAN', 6: 'IBUPROFENO_GENFAR', 7: 'LEVONORGESTREL', 8: 'NORAVER_GRIPA_DIA', 9: 'VITAC_MK'}\n",
              " obb: None\n",
              " orig_img: array([[[153, 151, 151],\n",
              "         [153, 151, 151],\n",
              "         [153, 151, 151],\n",
              "         ...,\n",
              "         [166, 164, 163],\n",
              "         [166, 164, 163],\n",
              "         [166, 164, 163]],\n",
              " \n",
              "        [[153, 151, 151],\n",
              "         [153, 151, 151],\n",
              "         [153, 151, 151],\n",
              "         ...,\n",
              "         [166, 164, 163],\n",
              "         [166, 164, 163],\n",
              "         [166, 164, 163]],\n",
              " \n",
              "        [[153, 151, 151],\n",
              "         [153, 151, 151],\n",
              "         [153, 151, 151],\n",
              "         ...,\n",
              "         [166, 164, 163],\n",
              "         [166, 164, 163],\n",
              "         [166, 164, 163]],\n",
              " \n",
              "        ...,\n",
              " \n",
              "        [[  7,   5,   5],\n",
              "         [  7,   5,   5],\n",
              "         [  7,   5,   5],\n",
              "         ...,\n",
              "         [ 30,  26,  25],\n",
              "         [ 29,  25,  24],\n",
              "         [ 28,  24,  23]],\n",
              " \n",
              "        [[  7,   5,   5],\n",
              "         [  7,   5,   5],\n",
              "         [  7,   5,   5],\n",
              "         ...,\n",
              "         [ 30,  26,  25],\n",
              "         [ 29,  25,  24],\n",
              "         [ 28,  24,  23]],\n",
              " \n",
              "        [[  7,   5,   5],\n",
              "         [  7,   5,   5],\n",
              "         [  7,   5,   5],\n",
              "         ...,\n",
              "         [ 30,  26,  25],\n",
              "         [ 29,  25,  24],\n",
              "         [ 28,  24,  23]]], dtype=uint8)\n",
              " orig_shape: (640, 640)\n",
              " path: '/content/dataset/test/images/CF01125B-D604-45E9-904B-15D7641F16D2_jpeg.rf.4258258c89d53cc879f2671daa0cab70.jpg'\n",
              " probs: None\n",
              " save_dir: 'runs/detect/predict2'\n",
              " speed: {'preprocess': 1.9824504852294922, 'inference': 7.355213165283203, 'postprocess': 1.2111663818359375},\n",
              " ultralytics.engine.results.Results object with attributes:\n",
              " \n",
              " boxes: ultralytics.engine.results.Boxes object\n",
              " keypoints: None\n",
              " masks: None\n",
              " names: {0: 'ALKASELTZER', 1: 'ASPIRINA_100', 2: 'BUSCAPINA', 3: 'DOLEX_GRIPA', 4: 'GAVISCON', 5: 'IBUFLASH_MIGRAN', 6: 'IBUPROFENO_GENFAR', 7: 'LEVONORGESTREL', 8: 'NORAVER_GRIPA_DIA', 9: 'VITAC_MK'}\n",
              " obb: None\n",
              " orig_img: array([[[161, 164, 162],\n",
              "         [161, 164, 162],\n",
              "         [161, 164, 162],\n",
              "         ...,\n",
              "         [177, 178, 176],\n",
              "         [177, 178, 176],\n",
              "         [177, 178, 176]],\n",
              " \n",
              "        [[161, 164, 162],\n",
              "         [161, 164, 162],\n",
              "         [161, 164, 162],\n",
              "         ...,\n",
              "         [177, 178, 176],\n",
              "         [177, 178, 176],\n",
              "         [177, 178, 176]],\n",
              " \n",
              "        [[161, 164, 162],\n",
              "         [161, 164, 162],\n",
              "         [161, 164, 162],\n",
              "         ...,\n",
              "         [177, 178, 176],\n",
              "         [177, 178, 176],\n",
              "         [177, 178, 176]],\n",
              " \n",
              "        ...,\n",
              " \n",
              "        [[  8,   6,   6],\n",
              "         [  8,   6,   6],\n",
              "         [  8,   6,   6],\n",
              "         ...,\n",
              "         [ 37,  36,  32],\n",
              "         [ 37,  36,  32],\n",
              "         [ 37,  36,  32]],\n",
              " \n",
              "        [[  8,   6,   6],\n",
              "         [  8,   6,   6],\n",
              "         [  8,   6,   6],\n",
              "         ...,\n",
              "         [ 37,  36,  32],\n",
              "         [ 37,  36,  32],\n",
              "         [ 37,  36,  32]],\n",
              " \n",
              "        [[  8,   6,   6],\n",
              "         [  8,   6,   6],\n",
              "         [  8,   6,   6],\n",
              "         ...,\n",
              "         [ 37,  36,  32],\n",
              "         [ 37,  36,  32],\n",
              "         [ 37,  36,  32]]], dtype=uint8)\n",
              " orig_shape: (640, 640)\n",
              " path: '/content/dataset/test/images/D0190303-0B6B-4BF1-BCFC-35DD0306EEFE_jpeg.rf.627d67cc1e5100daa6c1200dd5fd4d29.jpg'\n",
              " probs: None\n",
              " save_dir: 'runs/detect/predict2'\n",
              " speed: {'preprocess': 1.974344253540039, 'inference': 7.334470748901367, 'postprocess': 1.1470317840576172},\n",
              " ultralytics.engine.results.Results object with attributes:\n",
              " \n",
              " boxes: ultralytics.engine.results.Boxes object\n",
              " keypoints: None\n",
              " masks: None\n",
              " names: {0: 'ALKASELTZER', 1: 'ASPIRINA_100', 2: 'BUSCAPINA', 3: 'DOLEX_GRIPA', 4: 'GAVISCON', 5: 'IBUFLASH_MIGRAN', 6: 'IBUPROFENO_GENFAR', 7: 'LEVONORGESTREL', 8: 'NORAVER_GRIPA_DIA', 9: 'VITAC_MK'}\n",
              " obb: None\n",
              " orig_img: array([[[161, 161, 161],\n",
              "         [161, 161, 161],\n",
              "         [161, 161, 161],\n",
              "         ...,\n",
              "         [177, 175, 174],\n",
              "         [177, 175, 174],\n",
              "         [177, 175, 174]],\n",
              " \n",
              "        [[161, 161, 161],\n",
              "         [161, 161, 161],\n",
              "         [161, 161, 161],\n",
              "         ...,\n",
              "         [177, 175, 174],\n",
              "         [177, 175, 174],\n",
              "         [177, 175, 174]],\n",
              " \n",
              "        [[161, 161, 161],\n",
              "         [161, 161, 161],\n",
              "         [161, 161, 161],\n",
              "         ...,\n",
              "         [177, 175, 174],\n",
              "         [177, 175, 174],\n",
              "         [177, 175, 174]],\n",
              " \n",
              "        ...,\n",
              " \n",
              "        [[ 42,  35, 126],\n",
              "         [ 40,  35, 126],\n",
              "         [ 40,  35, 127],\n",
              "         ...,\n",
              "         [210, 208, 207],\n",
              "         [210, 208, 207],\n",
              "         [210, 208, 207]],\n",
              " \n",
              "        [[ 45,  39, 121],\n",
              "         [ 43,  39, 121],\n",
              "         [ 43,  38, 123],\n",
              "         ...,\n",
              "         [210, 208, 207],\n",
              "         [210, 208, 207],\n",
              "         [210, 208, 207]],\n",
              " \n",
              "        [[ 45,  40, 119],\n",
              "         [ 45,  40, 119],\n",
              "         [ 44,  40, 122],\n",
              "         ...,\n",
              "         [210, 208, 207],\n",
              "         [210, 208, 207],\n",
              "         [210, 208, 207]]], dtype=uint8)\n",
              " orig_shape: (640, 640)\n",
              " path: '/content/dataset/test/images/DA48C051-FE16-4123-ADFC-EB7EE2AE25E1_jpeg.rf.3f0af8854b38d54b5640174ad4d37def.jpg'\n",
              " probs: None\n",
              " save_dir: 'runs/detect/predict2'\n",
              " speed: {'preprocess': 1.9612312316894531, 'inference': 10.233640670776367, 'postprocess': 1.7464160919189453},\n",
              " ultralytics.engine.results.Results object with attributes:\n",
              " \n",
              " boxes: ultralytics.engine.results.Boxes object\n",
              " keypoints: None\n",
              " masks: None\n",
              " names: {0: 'ALKASELTZER', 1: 'ASPIRINA_100', 2: 'BUSCAPINA', 3: 'DOLEX_GRIPA', 4: 'GAVISCON', 5: 'IBUFLASH_MIGRAN', 6: 'IBUPROFENO_GENFAR', 7: 'LEVONORGESTREL', 8: 'NORAVER_GRIPA_DIA', 9: 'VITAC_MK'}\n",
              " obb: None\n",
              " orig_img: array([[[246,  27,   1],\n",
              "         [246,  27,   1],\n",
              "         [246,  27,   1],\n",
              "         ...,\n",
              "         [245,  30,   0],\n",
              "         [245,  30,   0],\n",
              "         [245,  30,   0]],\n",
              " \n",
              "        [[246,  27,   1],\n",
              "         [246,  27,   1],\n",
              "         [246,  27,   1],\n",
              "         ...,\n",
              "         [245,  30,   0],\n",
              "         [245,  30,   0],\n",
              "         [245,  30,   0]],\n",
              " \n",
              "        [[246,  27,   1],\n",
              "         [246,  27,   1],\n",
              "         [246,  27,   1],\n",
              "         ...,\n",
              "         [245,  30,   0],\n",
              "         [245,  30,   0],\n",
              "         [245,  30,   0]],\n",
              " \n",
              "        ...,\n",
              " \n",
              "        [[181,   0,   4],\n",
              "         [181,   1,   2],\n",
              "         [181,   0,   4],\n",
              "         ...,\n",
              "         [242,  78,   1],\n",
              "         [242,  78,   1],\n",
              "         [242,  78,   1]],\n",
              " \n",
              "        [[183,   1,   2],\n",
              "         [183,   1,   1],\n",
              "         [183,   1,   2],\n",
              "         ...,\n",
              "         [242,  78,   1],\n",
              "         [242,  78,   1],\n",
              "         [242,  78,   1]],\n",
              " \n",
              "        [[185,   1,   1],\n",
              "         [185,   1,   1],\n",
              "         [185,   1,   1],\n",
              "         ...,\n",
              "         [242,  78,   1],\n",
              "         [242,  78,   1],\n",
              "         [242,  78,   1]]], dtype=uint8)\n",
              " orig_shape: (640, 640)\n",
              " path: '/content/dataset/test/images/DAA96DC2-8149-42B9-8B3C-FF3BF5FC9053_jpeg.rf.d5e424d2061f140a77a857c434285966.jpg'\n",
              " probs: None\n",
              " save_dir: 'runs/detect/predict2'\n",
              " speed: {'preprocess': 1.9152164459228516, 'inference': 7.345438003540039, 'postprocess': 1.2030601501464844},\n",
              " ultralytics.engine.results.Results object with attributes:\n",
              " \n",
              " boxes: ultralytics.engine.results.Boxes object\n",
              " keypoints: None\n",
              " masks: None\n",
              " names: {0: 'ALKASELTZER', 1: 'ASPIRINA_100', 2: 'BUSCAPINA', 3: 'DOLEX_GRIPA', 4: 'GAVISCON', 5: 'IBUFLASH_MIGRAN', 6: 'IBUPROFENO_GENFAR', 7: 'LEVONORGESTREL', 8: 'NORAVER_GRIPA_DIA', 9: 'VITAC_MK'}\n",
              " obb: None\n",
              " orig_img: array([[[ 23,  23, 223],\n",
              "         [ 23,  23, 223],\n",
              "         [ 23,  23, 223],\n",
              "         ...,\n",
              "         [ 23,  23, 223],\n",
              "         [ 23,  23, 223],\n",
              "         [ 23,  23, 223]],\n",
              " \n",
              "        [[ 23,  23, 223],\n",
              "         [ 23,  23, 223],\n",
              "         [ 23,  23, 223],\n",
              "         ...,\n",
              "         [ 23,  23, 223],\n",
              "         [ 23,  23, 223],\n",
              "         [ 23,  23, 223]],\n",
              " \n",
              "        [[ 23,  23, 223],\n",
              "         [ 23,  23, 223],\n",
              "         [ 23,  23, 223],\n",
              "         ...,\n",
              "         [ 23,  23, 223],\n",
              "         [ 23,  23, 223],\n",
              "         [ 23,  23, 223]],\n",
              " \n",
              "        ...,\n",
              " \n",
              "        [[ 33,  28, 243],\n",
              "         [ 34,  29, 244],\n",
              "         [ 34,  30, 243],\n",
              "         ...,\n",
              "         [ 44,  54, 255],\n",
              "         [ 44,  54, 255],\n",
              "         [ 44,  54, 255]],\n",
              " \n",
              "        [[ 31,  27, 240],\n",
              "         [ 31,  27, 240],\n",
              "         [ 32,  28, 241],\n",
              "         ...,\n",
              "         [ 44,  54, 255],\n",
              "         [ 44,  54, 255],\n",
              "         [ 44,  54, 255]],\n",
              " \n",
              "        [[ 29,  25, 238],\n",
              "         [ 30,  26, 239],\n",
              "         [ 30,  26, 239],\n",
              "         ...,\n",
              "         [ 44,  54, 255],\n",
              "         [ 44,  54, 255],\n",
              "         [ 44,  54, 255]]], dtype=uint8)\n",
              " orig_shape: (640, 640)\n",
              " path: '/content/dataset/test/images/DEC50E3B-A846-46D2-A9E7-98E4463C0D2A_jpeg.rf.fadde46153a391bc6c6271e6e3570405.jpg'\n",
              " probs: None\n",
              " save_dir: 'runs/detect/predict2'\n",
              " speed: {'preprocess': 2.012968063354492, 'inference': 7.3261260986328125, 'postprocess': 1.1572837829589844},\n",
              " ultralytics.engine.results.Results object with attributes:\n",
              " \n",
              " boxes: ultralytics.engine.results.Boxes object\n",
              " keypoints: None\n",
              " masks: None\n",
              " names: {0: 'ALKASELTZER', 1: 'ASPIRINA_100', 2: 'BUSCAPINA', 3: 'DOLEX_GRIPA', 4: 'GAVISCON', 5: 'IBUFLASH_MIGRAN', 6: 'IBUPROFENO_GENFAR', 7: 'LEVONORGESTREL', 8: 'NORAVER_GRIPA_DIA', 9: 'VITAC_MK'}\n",
              " obb: None\n",
              " orig_img: array([[[155, 151, 157],\n",
              "         [155, 151, 157],\n",
              "         [155, 151, 157],\n",
              "         ...,\n",
              "         [169, 165, 171],\n",
              "         [169, 165, 171],\n",
              "         [169, 165, 171]],\n",
              " \n",
              "        [[155, 151, 157],\n",
              "         [155, 151, 157],\n",
              "         [155, 151, 157],\n",
              "         ...,\n",
              "         [169, 165, 171],\n",
              "         [169, 165, 171],\n",
              "         [169, 165, 171]],\n",
              " \n",
              "        [[155, 151, 157],\n",
              "         [155, 151, 157],\n",
              "         [155, 151, 157],\n",
              "         ...,\n",
              "         [169, 165, 171],\n",
              "         [169, 165, 171],\n",
              "         [169, 165, 171]],\n",
              " \n",
              "        ...,\n",
              " \n",
              "        [[ 29,  27, 140],\n",
              "         [ 29,  27, 140],\n",
              "         [ 30,  28, 141],\n",
              "         ...,\n",
              "         [211, 205, 210],\n",
              "         [211, 205, 210],\n",
              "         [211, 205, 210]],\n",
              " \n",
              "        [[ 30,  28, 134],\n",
              "         [ 31,  29, 135],\n",
              "         [ 31,  29, 135],\n",
              "         ...,\n",
              "         [211, 205, 210],\n",
              "         [211, 205, 210],\n",
              "         [211, 205, 210]],\n",
              " \n",
              "        [[ 30,  29, 133],\n",
              "         [ 30,  29, 133],\n",
              "         [ 31,  30, 134],\n",
              "         ...,\n",
              "         [211, 205, 210],\n",
              "         [211, 205, 210],\n",
              "         [211, 205, 210]]], dtype=uint8)\n",
              " orig_shape: (640, 640)\n",
              " path: '/content/dataset/test/images/E2C41AB8-87B8-4E57-93AD-C7C84216000D_jpeg.rf.810b4cda6a76b916e25ee0bad76a4f2a.jpg'\n",
              " probs: None\n",
              " save_dir: 'runs/detect/predict2'\n",
              " speed: {'preprocess': 1.9807815551757812, 'inference': 7.326841354370117, 'postprocess': 1.2156963348388672},\n",
              " ultralytics.engine.results.Results object with attributes:\n",
              " \n",
              " boxes: ultralytics.engine.results.Boxes object\n",
              " keypoints: None\n",
              " masks: None\n",
              " names: {0: 'ALKASELTZER', 1: 'ASPIRINA_100', 2: 'BUSCAPINA', 3: 'DOLEX_GRIPA', 4: 'GAVISCON', 5: 'IBUFLASH_MIGRAN', 6: 'IBUPROFENO_GENFAR', 7: 'LEVONORGESTREL', 8: 'NORAVER_GRIPA_DIA', 9: 'VITAC_MK'}\n",
              " obb: None\n",
              " orig_img: array([[[189, 188, 190],\n",
              "         [189, 188, 190],\n",
              "         [189, 188, 190],\n",
              "         ...,\n",
              "         [139, 137, 137],\n",
              "         [139, 137, 137],\n",
              "         [139, 137, 137]],\n",
              " \n",
              "        [[189, 188, 190],\n",
              "         [189, 188, 190],\n",
              "         [189, 188, 190],\n",
              "         ...,\n",
              "         [139, 137, 137],\n",
              "         [139, 137, 137],\n",
              "         [139, 137, 137]],\n",
              " \n",
              "        [[189, 188, 190],\n",
              "         [189, 188, 190],\n",
              "         [189, 188, 190],\n",
              "         ...,\n",
              "         [139, 137, 137],\n",
              "         [139, 137, 137],\n",
              "         [139, 137, 137]],\n",
              " \n",
              "        ...,\n",
              " \n",
              "        [[126, 125, 127],\n",
              "         [151, 150, 152],\n",
              "         [175, 174, 176],\n",
              "         ...,\n",
              "         [153, 152, 154],\n",
              "         [153, 152, 154],\n",
              "         [153, 152, 154]],\n",
              " \n",
              "        [[163, 162, 164],\n",
              "         [170, 169, 171],\n",
              "         [174, 173, 175],\n",
              "         ...,\n",
              "         [153, 152, 154],\n",
              "         [153, 152, 154],\n",
              "         [153, 152, 154]],\n",
              " \n",
              "        [[166, 165, 167],\n",
              "         [171, 170, 172],\n",
              "         [173, 172, 174],\n",
              "         ...,\n",
              "         [153, 152, 154],\n",
              "         [153, 152, 154],\n",
              "         [153, 152, 154]]], dtype=uint8)\n",
              " orig_shape: (640, 640)\n",
              " path: '/content/dataset/test/images/F6340F98-E64A-43C7-8E5A-FAFC96D68B7B_jpeg.rf.1f86d372ea2d09e42e8a01faf684d76f.jpg'\n",
              " probs: None\n",
              " save_dir: 'runs/detect/predict2'\n",
              " speed: {'preprocess': 1.9707679748535156, 'inference': 7.331609725952148, 'postprocess': 1.1324882507324219},\n",
              " ultralytics.engine.results.Results object with attributes:\n",
              " \n",
              " boxes: ultralytics.engine.results.Boxes object\n",
              " keypoints: None\n",
              " masks: None\n",
              " names: {0: 'ALKASELTZER', 1: 'ASPIRINA_100', 2: 'BUSCAPINA', 3: 'DOLEX_GRIPA', 4: 'GAVISCON', 5: 'IBUFLASH_MIGRAN', 6: 'IBUPROFENO_GENFAR', 7: 'LEVONORGESTREL', 8: 'NORAVER_GRIPA_DIA', 9: 'VITAC_MK'}\n",
              " obb: None\n",
              " orig_img: array([[[131, 128, 124],\n",
              "         [132, 129, 125],\n",
              "         [133, 130, 126],\n",
              "         ...,\n",
              "         [138, 135, 131],\n",
              "         [138, 135, 131],\n",
              "         [138, 135, 131]],\n",
              " \n",
              "        [[131, 128, 124],\n",
              "         [132, 129, 125],\n",
              "         [133, 130, 126],\n",
              "         ...,\n",
              "         [138, 135, 131],\n",
              "         [138, 135, 131],\n",
              "         [138, 135, 131]],\n",
              " \n",
              "        [[131, 128, 124],\n",
              "         [132, 129, 125],\n",
              "         [133, 130, 126],\n",
              "         ...,\n",
              "         [138, 135, 131],\n",
              "         [138, 135, 131],\n",
              "         [138, 135, 131]],\n",
              " \n",
              "        ...,\n",
              " \n",
              "        [[ 22,  23,  27],\n",
              "         [ 23,  24,  28],\n",
              "         [ 23,  24,  28],\n",
              "         ...,\n",
              "         [ 23,  22,  26],\n",
              "         [ 23,  22,  26],\n",
              "         [ 23,  22,  26]],\n",
              " \n",
              "        [[ 22,  23,  27],\n",
              "         [ 23,  24,  28],\n",
              "         [ 23,  24,  28],\n",
              "         ...,\n",
              "         [ 23,  22,  26],\n",
              "         [ 23,  22,  26],\n",
              "         [ 23,  22,  26]],\n",
              " \n",
              "        [[ 22,  23,  27],\n",
              "         [ 23,  24,  28],\n",
              "         [ 23,  24,  28],\n",
              "         ...,\n",
              "         [ 23,  22,  26],\n",
              "         [ 23,  22,  26],\n",
              "         [ 23,  22,  26]]], dtype=uint8)\n",
              " orig_shape: (640, 640)\n",
              " path: '/content/dataset/test/images/F7617134-A97D-449F-A381-FAB77A4A0C72_jpeg.rf.1ceac065fc103a8119bb1a7a83974f80.jpg'\n",
              " probs: None\n",
              " save_dir: 'runs/detect/predict2'\n",
              " speed: {'preprocess': 1.9075870513916016, 'inference': 7.357597351074219, 'postprocess': 1.1336803436279297},\n",
              " ultralytics.engine.results.Results object with attributes:\n",
              " \n",
              " boxes: ultralytics.engine.results.Boxes object\n",
              " keypoints: None\n",
              " masks: None\n",
              " names: {0: 'ALKASELTZER', 1: 'ASPIRINA_100', 2: 'BUSCAPINA', 3: 'DOLEX_GRIPA', 4: 'GAVISCON', 5: 'IBUFLASH_MIGRAN', 6: 'IBUPROFENO_GENFAR', 7: 'LEVONORGESTREL', 8: 'NORAVER_GRIPA_DIA', 9: 'VITAC_MK'}\n",
              " obb: None\n",
              " orig_img: array([[[ 26,  30, 185],\n",
              "         [ 26,  30, 185],\n",
              "         [ 26,  30, 185],\n",
              "         ...,\n",
              "         [ 33,  29, 185],\n",
              "         [ 33,  29, 185],\n",
              "         [ 33,  29, 185]],\n",
              " \n",
              "        [[ 27,  30, 188],\n",
              "         [ 28,  32, 187],\n",
              "         [ 28,  31, 189],\n",
              "         ...,\n",
              "         [ 33,  29, 185],\n",
              "         [ 33,  29, 185],\n",
              "         [ 33,  29, 185]],\n",
              " \n",
              "        [[ 26,  30, 189],\n",
              "         [ 26,  31, 188],\n",
              "         [ 27,  31, 190],\n",
              "         ...,\n",
              "         [ 33,  29, 185],\n",
              "         [ 33,  29, 185],\n",
              "         [ 33,  29, 185]],\n",
              " \n",
              "        ...,\n",
              " \n",
              "        [[ 11,  10,  66],\n",
              "         [ 11,  10,  66],\n",
              "         [ 11,  10,  66],\n",
              "         ...,\n",
              "         [  3,   3,  15],\n",
              "         [  3,   3,  15],\n",
              "         [  3,   3,  15]],\n",
              " \n",
              "        [[ 11,  10,  66],\n",
              "         [ 11,  10,  66],\n",
              "         [ 11,  10,  66],\n",
              "         ...,\n",
              "         [  3,   3,  15],\n",
              "         [  3,   3,  15],\n",
              "         [  3,   3,  15]],\n",
              " \n",
              "        [[ 11,  10,  66],\n",
              "         [ 11,  10,  66],\n",
              "         [ 11,  10,  66],\n",
              "         ...,\n",
              "         [  3,   3,  15],\n",
              "         [  3,   3,  15],\n",
              "         [  3,   3,  15]]], dtype=uint8)\n",
              " orig_shape: (640, 640)\n",
              " path: '/content/dataset/test/images/FB61DAF2-7435-469C-87F4-090631382EA9_jpeg.rf.a23fc244f8e318a668c9f38eaadaf7e7.jpg'\n",
              " probs: None\n",
              " save_dir: 'runs/detect/predict2'\n",
              " speed: {'preprocess': 1.9104480743408203, 'inference': 7.33494758605957, 'postprocess': 1.1146068572998047},\n",
              " ultralytics.engine.results.Results object with attributes:\n",
              " \n",
              " boxes: ultralytics.engine.results.Boxes object\n",
              " keypoints: None\n",
              " masks: None\n",
              " names: {0: 'ALKASELTZER', 1: 'ASPIRINA_100', 2: 'BUSCAPINA', 3: 'DOLEX_GRIPA', 4: 'GAVISCON', 5: 'IBUFLASH_MIGRAN', 6: 'IBUPROFENO_GENFAR', 7: 'LEVONORGESTREL', 8: 'NORAVER_GRIPA_DIA', 9: 'VITAC_MK'}\n",
              " obb: None\n",
              " orig_img: array([[[146, 151, 154],\n",
              "         [146, 151, 154],\n",
              "         [146, 151, 154],\n",
              "         ...,\n",
              "         [145, 148, 152],\n",
              "         [145, 148, 152],\n",
              "         [145, 148, 152]],\n",
              " \n",
              "        [[146, 151, 154],\n",
              "         [146, 151, 154],\n",
              "         [146, 151, 154],\n",
              "         ...,\n",
              "         [145, 148, 152],\n",
              "         [145, 148, 152],\n",
              "         [145, 148, 152]],\n",
              " \n",
              "        [[146, 151, 154],\n",
              "         [146, 151, 154],\n",
              "         [146, 151, 154],\n",
              "         ...,\n",
              "         [145, 148, 152],\n",
              "         [145, 148, 152],\n",
              "         [145, 148, 152]],\n",
              " \n",
              "        ...,\n",
              " \n",
              "        [[ 39,  37,  37],\n",
              "         [ 40,  38,  38],\n",
              "         [ 41,  39,  39],\n",
              "         ...,\n",
              "         [ 16,  11,  12],\n",
              "         [ 16,  11,  12],\n",
              "         [ 16,  11,  12]],\n",
              " \n",
              "        [[ 36,  34,  34],\n",
              "         [ 37,  35,  35],\n",
              "         [ 37,  35,  35],\n",
              "         ...,\n",
              "         [ 16,  11,  12],\n",
              "         [ 16,  11,  12],\n",
              "         [ 16,  11,  12]],\n",
              " \n",
              "        [[ 18,  16,  16],\n",
              "         [ 19,  17,  17],\n",
              "         [ 21,  19,  19],\n",
              "         ...,\n",
              "         [ 16,  11,  12],\n",
              "         [ 16,  11,  12],\n",
              "         [ 16,  11,  12]]], dtype=uint8)\n",
              " orig_shape: (640, 640)\n",
              " path: '/content/dataset/test/images/FCC405E6-BF5D-48C7-BCC4-5CFD9A5F8FC2_jpeg.rf.125b15b2b3bfc5b9778522b8ab0d1733.jpg'\n",
              " probs: None\n",
              " save_dir: 'runs/detect/predict2'\n",
              " speed: {'preprocess': 1.9390583038330078, 'inference': 7.595062255859375, 'postprocess': 1.3022422790527344},\n",
              " ultralytics.engine.results.Results object with attributes:\n",
              " \n",
              " boxes: ultralytics.engine.results.Boxes object\n",
              " keypoints: None\n",
              " masks: None\n",
              " names: {0: 'ALKASELTZER', 1: 'ASPIRINA_100', 2: 'BUSCAPINA', 3: 'DOLEX_GRIPA', 4: 'GAVISCON', 5: 'IBUFLASH_MIGRAN', 6: 'IBUPROFENO_GENFAR', 7: 'LEVONORGESTREL', 8: 'NORAVER_GRIPA_DIA', 9: 'VITAC_MK'}\n",
              " obb: None\n",
              " orig_img: array([[[ 15,  24, 217],\n",
              "         [ 15,  24, 217],\n",
              "         [ 15,  24, 217],\n",
              "         ...,\n",
              "         [ 14,  23, 211],\n",
              "         [ 14,  23, 211],\n",
              "         [ 14,  23, 211]],\n",
              " \n",
              "        [[ 15,  24, 217],\n",
              "         [ 15,  24, 217],\n",
              "         [ 15,  24, 217],\n",
              "         ...,\n",
              "         [ 14,  23, 211],\n",
              "         [ 14,  23, 211],\n",
              "         [ 14,  23, 211]],\n",
              " \n",
              "        [[ 15,  24, 217],\n",
              "         [ 15,  24, 217],\n",
              "         [ 15,  24, 217],\n",
              "         ...,\n",
              "         [ 14,  23, 211],\n",
              "         [ 14,  23, 211],\n",
              "         [ 14,  23, 211]],\n",
              " \n",
              "        ...,\n",
              " \n",
              "        [[ 11,  13,  53],\n",
              "         [ 11,  13,  53],\n",
              "         [ 10,  12,  52],\n",
              "         ...,\n",
              "         [  8,   9,  65],\n",
              "         [  8,   9,  67],\n",
              "         [  9,  10,  68]],\n",
              " \n",
              "        [[  2,   8,  43],\n",
              "         [  1,   7,  42],\n",
              "         [  1,   7,  42],\n",
              "         ...,\n",
              "         [  5,   8,  53],\n",
              "         [  6,   8,  56],\n",
              "         [  6,   8,  56]],\n",
              " \n",
              "        [[  0,   1,  34],\n",
              "         [  0,   1,  34],\n",
              "         [  0,   1,  34],\n",
              "         ...,\n",
              "         [  0,   4,  45],\n",
              "         [  2,   5,  49],\n",
              "         [  2,   5,  49]]], dtype=uint8)\n",
              " orig_shape: (640, 640)\n",
              " path: '/content/dataset/test/images/FECB6EF9-E9CC-4F1B-BFB6-176E55426E14_jpeg.rf.47ee908d073a769453e041eac55bab38.jpg'\n",
              " probs: None\n",
              " save_dir: 'runs/detect/predict2'\n",
              " speed: {'preprocess': 1.9230842590332031, 'inference': 7.351398468017578, 'postprocess': 1.1589527130126953}]"
            ]
          },
          "metadata": {},
          "execution_count": 6
        }
      ],
      "source": [
        "#  Prediction using trained model\n",
        "import os\n",
        "from ultralytics import YOLO\n",
        "\n",
        "image_dir = '/content/dataset/test/images'\n",
        "\n",
        "# Check if the directory exists\n",
        "if os.path.exists(image_dir):\n",
        "    # Run inference if the directory exists\n",
        "    model.predict(image_dir, save=True, imgsz=640, conf=0.2)\n",
        "else:\n",
        "    print(f\"Error: The specified path '{image_dir}' does not exist.\")\n",
        "\n",
        "# Load a pretrained YOLOv8n model\n",
        "model = YOLO('runs/detect/train/weights/best.pt')\n",
        "\n",
        "# Run inference\n",
        "model.predict('/content/dataset/test/images', save=True, imgsz=640, conf=0.2)"
      ]
    },
    {
      "cell_type": "code",
      "execution_count": 7,
      "id": "2f3d815e-d7ad-4f2d-b540-b3039f1230e1",
      "metadata": {
        "id": "2f3d815e-d7ad-4f2d-b540-b3039f1230e1",
        "colab": {
          "base_uri": "https://localhost:8080/",
          "height": 1000
        },
        "outputId": "8a4531bd-9d67-4e67-97ae-78703e23aea1"
      },
      "outputs": [
        {
          "output_type": "stream",
          "name": "stdout",
          "text": [
            "Ultralytics YOLOv8.2.28 🚀 Python-3.10.12 torch-2.3.0+cu121 CPU (Intel Xeon 2.20GHz)\n",
            "Model summary (fused): 168 layers, 3007598 parameters, 0 gradients, 8.1 GFLOPs\n",
            "\n",
            "\u001b[34m\u001b[1mPyTorch:\u001b[0m starting from 'runs/detect/train/weights/best.pt' with input shape (1, 3, 640, 640) BCHW and output shape(s) (1, 14, 8400) (6.0 MB)\n",
            "\u001b[31m\u001b[1mrequirements:\u001b[0m Ultralytics requirements ['onnx>=1.12.0', 'onnx2tf>1.17.5,<=1.22.3', 'sng4onnx>=1.0.1', 'onnxslim==0.1.28', 'onnx_graphsurgeon>=0.3.26', 'tflite_support', 'onnxruntime-gpu'] not found, attempting AutoUpdate...\n",
            "Looking in indexes: https://pypi.org/simple, https://pypi.ngc.nvidia.com\n",
            "Collecting onnx>=1.12.0\n",
            "  Downloading onnx-1.16.1-cp310-cp310-manylinux_2_17_x86_64.manylinux2014_x86_64.whl (15.9 MB)\n",
            "     ━━━━━━━━━━━━━━━━━━━━━━━━━━━━━━━━━━━━━━━━ 15.9/15.9 MB 90.2 MB/s eta 0:00:00\n",
            "Collecting onnx2tf<=1.22.3,>1.17.5\n",
            "  Downloading onnx2tf-1.22.3-py3-none-any.whl (435 kB)\n",
            "     ━━━━━━━━━━━━━━━━━━━━━━━━━━━━━━━━━━━━━━━━ 435.0/435.0 kB 150.2 MB/s eta 0:00:00\n",
            "Collecting sng4onnx>=1.0.1\n",
            "  Downloading sng4onnx-1.0.4-py3-none-any.whl (5.9 kB)\n",
            "Collecting onnxslim==0.1.28\n",
            "  Downloading onnxslim-0.1.28-py3-none-any.whl (118 kB)\n",
            "     ━━━━━━━━━━━━━━━━━━━━━━━━━━━━━━━━━━━━━━━━ 118.3/118.3 kB 297.6 MB/s eta 0:00:00\n",
            "Collecting onnx_graphsurgeon>=0.3.26\n",
            "  Downloading onnx_graphsurgeon-0.5.2-py2.py3-none-any.whl (56 kB)\n",
            "     ━━━━━━━━━━━━━━━━━━━━━━━━━━━━━━━━━━━━━━━━ 56.4/56.4 kB 263.2 MB/s eta 0:00:00\n",
            "Collecting tflite_support\n",
            "  Downloading tflite_support-0.4.4-cp310-cp310-manylinux2014_x86_64.whl (60.8 MB)\n",
            "     ━━━━━━━━━━━━━━━━━━━━━━━━━━━━━━━━━━━━━━━━ 60.8/60.8 MB 69.1 MB/s eta 0:00:00\n",
            "Collecting onnxruntime-gpu\n",
            "  Downloading onnxruntime_gpu-1.18.0-cp310-cp310-manylinux_2_28_x86_64.whl (199.8 MB)\n",
            "     ━━━━━━━━━━━━━━━━━━━━━━━━━━━━━━━━━━━━━━━━ 199.8/199.8 MB 33.6 MB/s eta 0:00:00\n",
            "Requirement already satisfied: sympy in /usr/local/lib/python3.10/dist-packages (from onnxslim==0.1.28) (1.12.1)\n",
            "Requirement already satisfied: packaging in /usr/local/lib/python3.10/dist-packages (from onnxslim==0.1.28) (24.0)\n",
            "Requirement already satisfied: numpy>=1.20 in /usr/local/lib/python3.10/dist-packages (from onnx>=1.12.0) (1.25.2)\n",
            "Requirement already satisfied: protobuf>=3.20.2 in /usr/local/lib/python3.10/dist-packages (from onnx>=1.12.0) (3.20.3)\n",
            "Requirement already satisfied: absl-py>=0.7.0 in /usr/local/lib/python3.10/dist-packages (from tflite_support) (1.4.0)\n",
            "Requirement already satisfied: flatbuffers>=2.0 in /usr/local/lib/python3.10/dist-packages (from tflite_support) (24.3.25)\n",
            "Collecting sounddevice>=0.4.4 (from tflite_support)\n",
            "  Downloading sounddevice-0.4.7-py3-none-any.whl (32 kB)\n",
            "Collecting pybind11>=2.6.0 (from tflite_support)\n",
            "  Downloading pybind11-2.12.0-py3-none-any.whl (234 kB)\n",
            "     ━━━━━━━━━━━━━━━━━━━━━━━━━━━━━━━━━━━━━━━━ 235.0/235.0 kB 210.8 MB/s eta 0:00:00\n",
            "Collecting coloredlogs (from onnxruntime-gpu)\n",
            "  Downloading coloredlogs-15.0.1-py2.py3-none-any.whl (46 kB)\n",
            "     ━━━━━━━━━━━━━━━━━━━━━━━━━━━━━━━━━━━━━━━━ 46.0/46.0 kB 176.9 MB/s eta 0:00:00\n",
            "Requirement already satisfied: CFFI>=1.0 in /usr/local/lib/python3.10/dist-packages (from sounddevice>=0.4.4->tflite_support) (1.16.0)\n",
            "Collecting humanfriendly>=9.1 (from coloredlogs->onnxruntime-gpu)\n",
            "  Downloading humanfriendly-10.0-py2.py3-none-any.whl (86 kB)\n",
            "     ━━━━━━━━━━━━━━━━━━━━━━━━━━━━━━━━━━━━━━━━ 86.8/86.8 kB 185.6 MB/s eta 0:00:00\n",
            "Requirement already satisfied: mpmath<1.4.0,>=1.1.0 in /usr/local/lib/python3.10/dist-packages (from sympy->onnxslim==0.1.28) (1.3.0)\n",
            "Requirement already satisfied: pycparser in /usr/local/lib/python3.10/dist-packages (from CFFI>=1.0->sounddevice>=0.4.4->tflite_support) (2.22)\n",
            "Installing collected packages: sng4onnx, pybind11, onnx2tf, onnx, humanfriendly, sounddevice, onnxslim, onnx_graphsurgeon, coloredlogs, tflite_support, onnxruntime-gpu\n",
            "Successfully installed coloredlogs-15.0.1 humanfriendly-10.0 onnx-1.16.1 onnx2tf-1.22.3 onnx_graphsurgeon-0.5.2 onnxruntime-gpu-1.18.0 onnxslim-0.1.28 pybind11-2.12.0 sng4onnx-1.0.4 sounddevice-0.4.7 tflite_support-0.4.4\n",
            "\n",
            "\u001b[31m\u001b[1mrequirements:\u001b[0m AutoUpdate success ✅ 33.5s, installed 7 packages: ['onnx>=1.12.0', 'onnx2tf>1.17.5,<=1.22.3', 'sng4onnx>=1.0.1', 'onnxslim==0.1.28', 'onnx_graphsurgeon>=0.3.26', 'tflite_support', 'onnxruntime-gpu']\n",
            "\u001b[31m\u001b[1mrequirements:\u001b[0m ⚠️ \u001b[1mRestart runtime or rerun command for updates to take effect\u001b[0m\n",
            "\n",
            "\n",
            "\u001b[34m\u001b[1mTensorFlow SavedModel:\u001b[0m starting export with tensorflow 2.15.0...\n",
            "Downloading https://github.com/ultralytics/assets/releases/download/v8.2.0/calibration_image_sample_data_20x128x128x3_float32.npy.zip to 'calibration_image_sample_data_20x128x128x3_float32.npy.zip'...\n"
          ]
        },
        {
          "output_type": "stream",
          "name": "stderr",
          "text": [
            "100%|██████████| 1.11M/1.11M [00:00<00:00, 5.69MB/s]\n",
            "Unzipping calibration_image_sample_data_20x128x128x3_float32.npy.zip to /content/calibration_image_sample_data_20x128x128x3_float32.npy...: 100%|██████████| 1/1 [00:00<00:00, 43.55file/s]"
          ]
        },
        {
          "output_type": "stream",
          "name": "stdout",
          "text": [
            "\n",
            "\u001b[34m\u001b[1mONNX:\u001b[0m starting export with onnx 1.16.1 opset 17...\n"
          ]
        },
        {
          "output_type": "stream",
          "name": "stderr",
          "text": [
            "\n"
          ]
        },
        {
          "output_type": "stream",
          "name": "stdout",
          "text": [
            "\u001b[34m\u001b[1mONNX:\u001b[0m slimming with onnxslim 0.1.28...\n",
            "\u001b[34m\u001b[1mONNX:\u001b[0m export success ✅ 1.4s, saved as 'runs/detect/train/weights/best.onnx' (11.8 MB)\n",
            "\u001b[34m\u001b[1mTensorFlow SavedModel:\u001b[0m starting TFLite export with onnx2tf 1.22.3...\n",
            "\u001b[34m\u001b[1mTensorFlow SavedModel:\u001b[0m export success ✅ 70.6s, saved as 'runs/detect/train/weights/best_saved_model' (29.5 MB)\n",
            "\n",
            "\u001b[34m\u001b[1mTensorFlow Lite:\u001b[0m starting export with tensorflow 2.15.0...\n",
            "\u001b[34m\u001b[1mTensorFlow Lite:\u001b[0m export success ✅ 0.0s, saved as 'runs/detect/train/weights/best_saved_model/best_float32.tflite' (11.7 MB)\n",
            "\n",
            "Export complete (72.8s)\n",
            "Results saved to \u001b[1m/content/runs/detect/train/weights\u001b[0m\n",
            "Predict:         yolo predict task=detect model=runs/detect/train/weights/best_saved_model/best_float32.tflite imgsz=640  \n",
            "Validate:        yolo val task=detect model=runs/detect/train/weights/best_saved_model/best_float32.tflite imgsz=640 data=/content/dataset/data.yaml  \n",
            "Visualize:       https://netron.app\n"
          ]
        },
        {
          "output_type": "execute_result",
          "data": {
            "text/plain": [
              "'runs/detect/train/weights/best_saved_model/best_float32.tflite'"
            ],
            "application/vnd.google.colaboratory.intrinsic+json": {
              "type": "string"
            }
          },
          "metadata": {},
          "execution_count": 7
        }
      ],
      "source": [
        "#  Export model to tflite\n",
        "\n",
        "\n",
        "from ultralytics import YOLO\n",
        "\n",
        "# Load a model\n",
        "model = YOLO('runs/detect/train/weights/best.pt')  # load a custom trained model\n",
        "\n",
        "# Export the model\n",
        "model.export(format='tflite')"
      ]
    },
    {
      "cell_type": "code",
      "source": [
        "from google.colab import drive\n",
        "drive.mount('/content/drive')"
      ],
      "metadata": {
        "colab": {
          "base_uri": "https://localhost:8080/"
        },
        "id": "MjnVvQCe08T9",
        "outputId": "3b9a2c6f-01aa-4be6-b9af-1f091770ec15"
      },
      "id": "MjnVvQCe08T9",
      "execution_count": 8,
      "outputs": [
        {
          "output_type": "stream",
          "name": "stdout",
          "text": [
            "Mounted at /content/drive\n"
          ]
        }
      ]
    },
    {
      "cell_type": "code",
      "execution_count": null,
      "id": "b3aae33b-b14a-43f6-861f-3e0f2d21407f",
      "metadata": {
        "id": "b3aae33b-b14a-43f6-861f-3e0f2d21407f"
      },
      "outputs": [],
      "source": [
        "# Prediction using custom tflite model\n",
        "\n",
        "#  Prediction using trained model\n",
        "\n",
        "from ultralytics import YOLO\n",
        "\n",
        "# Load a pretrained YOLOv8n model\n",
        "model = YOLO('runs\\\\detect\\\\train3\\\\weights\\\\best_saved_model\\\\best_float32.tflite')\n",
        "\n",
        "# Run inference\n",
        "model.predict('test_images', save=True, imgsz=640, conf=0.2)"
      ]
    },
    {
      "cell_type": "code",
      "execution_count": 1,
      "id": "6340d01d-6c54-4989-9f04-91206888e37a",
      "metadata": {
        "id": "6340d01d-6c54-4989-9f04-91206888e37a",
        "colab": {
          "base_uri": "https://localhost:8080/"
        },
        "outputId": "b597654c-b7cc-474f-a11d-96615405a63e"
      },
      "outputs": [
        {
          "output_type": "stream",
          "name": "stdout",
          "text": [
            "Python 3.10.12\n"
          ]
        }
      ],
      "source": [
        "!python --version"
      ]
    }
  ],
  "metadata": {
    "kernelspec": {
      "display_name": "Python 3",
      "name": "python3"
    },
    "language_info": {
      "codemirror_mode": {
        "name": "ipython",
        "version": 3
      },
      "file_extension": ".py",
      "mimetype": "text/x-python",
      "name": "python",
      "nbconvert_exporter": "python",
      "pygments_lexer": "ipython3",
      "version": "3.10.9"
    },
    "colab": {
      "provenance": [],
      "gpuType": "T4"
    },
    "accelerator": "GPU"
  },
  "nbformat": 4,
  "nbformat_minor": 5
}