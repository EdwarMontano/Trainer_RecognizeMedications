{
  "cells": [
    {
      "cell_type": "code",
      "execution_count": null,
      "id": "2G8sgVB6fkQG",
      "metadata": {
        "id": "2G8sgVB6fkQG"
      },
      "outputs": [],
      "source": [
        "import optuna\n",
        "from ultralytics import YOLO\n",
        "\n",
        "\n",
        "def objective(trial):\n",
        "    # Hiperparámetros que queremos ajustar\n",
        "    lr = trial.suggest_loguniform(\"lr\", 1e-5, 1e-3)\n",
        "    batch_size = trial.suggest_categorical(\"batch_size\", [8, 16, 32])\n",
        "    img_size = trial.suggest_categorical(\"img_size\", [640, 1024])\n",
        "\n",
        "    # Carga el modelo\n",
        "    model = YOLO(\n",
        "        \"yolov8n.pt\", device=0\n",
        "    )  # Asegúrate de especificar el dispositivo adecuadamente\n",
        "\n",
        "    # Resultados del entrenamiento\n",
        "    results = model.train(\n",
        "        data=\"/content/dataset/data.yaml\",\n",
        "        epochs=50,  # Reducir para pruebas rápidas\n",
        "        batch_size=batch_size,\n",
        "        imgsz=img_size,\n",
        "        lr=lr,\n",
        "        device=0,\n",
        "    )\n",
        "\n",
        "    # Obtenemos el mejor resultado de precisión de validación\n",
        "    best_result = results[\n",
        "        \"val/box_loss\"\n",
        "    ].min()  # Asumiendo que queremos minimizar box_loss\n",
        "    return best_result\n",
        "\n",
        "\n",
        "study = optuna.create_study(direction=\"minimize\")\n",
        "study.optimize(objective, n_trials=20)  # Ejecuta 20 pruebas\n",
        "\n",
        "print(\"Best hyperparameters: {}\".format(study.best_params))"
      ]
    },
    {
      "cell_type": "code",
      "execution_count": null,
      "id": "f22774ca",
      "metadata": {},
      "outputs": [],
      "source": [
        "import torch\n",
        "\n",
        "if torch.cuda.is_available():\n",
        "    print(\"CUDA is available. GPU is ready to be used.\")\n",
        "    print(\"CUDA version:\", torch.version.cuda)\n",
        "    print(\"Number of GPUs available:\", torch.cuda.device_count())\n",
        "    print(\"Current GPU:\", torch.cuda.get_device_name(torch.cuda.current_device()))\n",
        "else:\n",
        "    print(\"CUDA is not available. Running on CPU.\")\n"
      ]
    },
    {
      "cell_type": "code",
      "execution_count": null,
      "id": "ba225ff7",
      "metadata": {},
      "outputs": [],
      "source": [
        "from ultralytics import YOLO\n",
        "\n",
        "# Cargar el modelo\n",
        "model = YOLO(\"yolov8n.pt\")\n",
        "\n",
        "# Verificar el dispositivo en el que se está ejecutando el modelo\n",
        "device = next(model.parameters()).device\n",
        "print(f\"Model is running on {device}\")\n",
        "\n",
        "# Para asegurarse de que se usa la GPU, forzar el modelo a usarla\n",
        "model.to(\"cuda\")\n",
        "\n",
        "# Verificar nuevamente\n",
        "device = next(model.parameters()).device\n",
        "print(f\"After moving to CUDA, model is running on {device}\")\n"
      ]
    },
    {
      "cell_type": "code",
      "execution_count": 2,
      "id": "798e17c1",
      "metadata": {},
      "outputs": [
        {
          "name": "stdout",
          "output_type": "stream",
          "text": [
            "PyTorch version: 2.0.1+cu118\n",
            "torchvision version: 0.15.2+cu118\n",
            "CUDA available: True\n"
          ]
        }
      ],
      "source": [
        "# boxes = boxes.cpu()\n",
        "# scores = scores.cpu()\n",
        "# indices = torchvision.ops.nms(boxes, scores, iou_threshold).to(device)\n",
        "import torch\n",
        "import torchvision\n",
        "\n",
        "print(\"PyTorch version:\", torch.__version__)\n",
        "print(\"torchvision version:\", torchvision.__version__)\n",
        "print(\"CUDA available:\", torch.cuda.is_available())"
      ]
    },
    {
      "cell_type": "code",
      "execution_count": 4,
      "id": "5e27dd71-2b43-48bf-9f05-eba66c1afe50",
      "metadata": {
        "colab": {
          "base_uri": "https://localhost:8080/"
        },
        "id": "5e27dd71-2b43-48bf-9f05-eba66c1afe50",
        "outputId": "8c578736-fc06-4e05-9930-a9e1430b9691"
      },
      "outputs": [
        {
          "ename": "AttributeError",
          "evalue": "module 'matplotlib' has no attribute 'get_data_path'",
          "output_type": "error",
          "traceback": [
            "\u001b[1;31m---------------------------------------------------------------------------\u001b[0m",
            "\u001b[1;31mAttributeError\u001b[0m                            Traceback (most recent call last)",
            "Cell \u001b[1;32mIn[4], line 1\u001b[0m\n\u001b[1;32m----> 1\u001b[0m \u001b[38;5;28;01mfrom\u001b[39;00m \u001b[38;5;21;01multralytics\u001b[39;00m \u001b[38;5;28;01mimport\u001b[39;00m YOLO\n\u001b[0;32m      3\u001b[0m model \u001b[38;5;241m=\u001b[39m YOLO(\u001b[38;5;124m\"\u001b[39m\u001b[38;5;124myolov8n.pt\u001b[39m\u001b[38;5;124m\"\u001b[39m)\n\u001b[0;32m      5\u001b[0m \u001b[38;5;66;03m# Verificar el dispositivo\u001b[39;00m\n",
            "File \u001b[1;32mc:\\Users\\usuario\\AppData\\Local\\pypoetry\\Cache\\virtualenvs\\trainer-recognizemedications-1qL5VGYQ-py3.10\\lib\\site-packages\\ultralytics\\__init__.py:10\u001b[0m\n\u001b[0;32m      7\u001b[0m \u001b[38;5;66;03m# Set ENV Variables (place before imports)\u001b[39;00m\n\u001b[0;32m      8\u001b[0m os\u001b[38;5;241m.\u001b[39menviron[\u001b[38;5;124m\"\u001b[39m\u001b[38;5;124mOMP_NUM_THREADS\u001b[39m\u001b[38;5;124m\"\u001b[39m] \u001b[38;5;241m=\u001b[39m \u001b[38;5;124m\"\u001b[39m\u001b[38;5;124m1\u001b[39m\u001b[38;5;124m\"\u001b[39m  \u001b[38;5;66;03m# reduce CPU utilization during training\u001b[39;00m\n\u001b[1;32m---> 10\u001b[0m \u001b[38;5;28;01mfrom\u001b[39;00m \u001b[38;5;21;01multralytics\u001b[39;00m\u001b[38;5;21;01m.\u001b[39;00m\u001b[38;5;21;01mdata\u001b[39;00m\u001b[38;5;21;01m.\u001b[39;00m\u001b[38;5;21;01mexplorer\u001b[39;00m\u001b[38;5;21;01m.\u001b[39;00m\u001b[38;5;21;01mexplorer\u001b[39;00m \u001b[38;5;28;01mimport\u001b[39;00m Explorer\n\u001b[0;32m     11\u001b[0m \u001b[38;5;28;01mfrom\u001b[39;00m \u001b[38;5;21;01multralytics\u001b[39;00m\u001b[38;5;21;01m.\u001b[39;00m\u001b[38;5;21;01mmodels\u001b[39;00m \u001b[38;5;28;01mimport\u001b[39;00m NAS, RTDETR, SAM, YOLO, FastSAM, YOLOWorld\n\u001b[0;32m     12\u001b[0m \u001b[38;5;28;01mfrom\u001b[39;00m \u001b[38;5;21;01multralytics\u001b[39;00m\u001b[38;5;21;01m.\u001b[39;00m\u001b[38;5;21;01mutils\u001b[39;00m \u001b[38;5;28;01mimport\u001b[39;00m ASSETS, SETTINGS\n",
            "File \u001b[1;32mc:\\Users\\usuario\\AppData\\Local\\pypoetry\\Cache\\virtualenvs\\trainer-recognizemedications-1qL5VGYQ-py3.10\\lib\\site-packages\\ultralytics\\data\\__init__.py:3\u001b[0m\n\u001b[0;32m      1\u001b[0m \u001b[38;5;66;03m# Ultralytics YOLO 🚀, AGPL-3.0 license\u001b[39;00m\n\u001b[1;32m----> 3\u001b[0m \u001b[38;5;28;01mfrom\u001b[39;00m \u001b[38;5;21;01m.\u001b[39;00m\u001b[38;5;21;01mbase\u001b[39;00m \u001b[38;5;28;01mimport\u001b[39;00m BaseDataset\n\u001b[0;32m      4\u001b[0m \u001b[38;5;28;01mfrom\u001b[39;00m \u001b[38;5;21;01m.\u001b[39;00m\u001b[38;5;21;01mbuild\u001b[39;00m \u001b[38;5;28;01mimport\u001b[39;00m build_dataloader, build_grounding, build_yolo_dataset, load_inference_source\n\u001b[0;32m      5\u001b[0m \u001b[38;5;28;01mfrom\u001b[39;00m \u001b[38;5;21;01m.\u001b[39;00m\u001b[38;5;21;01mdataset\u001b[39;00m \u001b[38;5;28;01mimport\u001b[39;00m (\n\u001b[0;32m      6\u001b[0m     ClassificationDataset,\n\u001b[0;32m      7\u001b[0m     GroundingDataset,\n\u001b[1;32m   (...)\u001b[0m\n\u001b[0;32m     11\u001b[0m     YOLOMultiModalDataset,\n\u001b[0;32m     12\u001b[0m )\n",
            "File \u001b[1;32mc:\\Users\\usuario\\AppData\\Local\\pypoetry\\Cache\\virtualenvs\\trainer-recognizemedications-1qL5VGYQ-py3.10\\lib\\site-packages\\ultralytics\\data\\base.py:17\u001b[0m\n\u001b[0;32m     14\u001b[0m \u001b[38;5;28;01mimport\u001b[39;00m \u001b[38;5;21;01mpsutil\u001b[39;00m\n\u001b[0;32m     15\u001b[0m \u001b[38;5;28;01mfrom\u001b[39;00m \u001b[38;5;21;01mtorch\u001b[39;00m\u001b[38;5;21;01m.\u001b[39;00m\u001b[38;5;21;01mutils\u001b[39;00m\u001b[38;5;21;01m.\u001b[39;00m\u001b[38;5;21;01mdata\u001b[39;00m \u001b[38;5;28;01mimport\u001b[39;00m Dataset\n\u001b[1;32m---> 17\u001b[0m \u001b[38;5;28;01mfrom\u001b[39;00m \u001b[38;5;21;01multralytics\u001b[39;00m\u001b[38;5;21;01m.\u001b[39;00m\u001b[38;5;21;01mdata\u001b[39;00m\u001b[38;5;21;01m.\u001b[39;00m\u001b[38;5;21;01mutils\u001b[39;00m \u001b[38;5;28;01mimport\u001b[39;00m FORMATS_HELP_MSG, HELP_URL, IMG_FORMATS\n\u001b[0;32m     18\u001b[0m \u001b[38;5;28;01mfrom\u001b[39;00m \u001b[38;5;21;01multralytics\u001b[39;00m\u001b[38;5;21;01m.\u001b[39;00m\u001b[38;5;21;01mutils\u001b[39;00m \u001b[38;5;28;01mimport\u001b[39;00m DEFAULT_CFG, LOCAL_RANK, LOGGER, NUM_THREADS, TQDM\n\u001b[0;32m     21\u001b[0m \u001b[38;5;28;01mclass\u001b[39;00m \u001b[38;5;21;01mBaseDataset\u001b[39;00m(Dataset):\n",
            "File \u001b[1;32mc:\\Users\\usuario\\AppData\\Local\\pypoetry\\Cache\\virtualenvs\\trainer-recognizemedications-1qL5VGYQ-py3.10\\lib\\site-packages\\ultralytics\\data\\utils.py:19\u001b[0m\n\u001b[0;32m     16\u001b[0m \u001b[38;5;28;01mimport\u001b[39;00m \u001b[38;5;21;01mnumpy\u001b[39;00m \u001b[38;5;28;01mas\u001b[39;00m \u001b[38;5;21;01mnp\u001b[39;00m\n\u001b[0;32m     17\u001b[0m \u001b[38;5;28;01mfrom\u001b[39;00m \u001b[38;5;21;01mPIL\u001b[39;00m \u001b[38;5;28;01mimport\u001b[39;00m Image, ImageOps\n\u001b[1;32m---> 19\u001b[0m \u001b[38;5;28;01mfrom\u001b[39;00m \u001b[38;5;21;01multralytics\u001b[39;00m\u001b[38;5;21;01m.\u001b[39;00m\u001b[38;5;21;01mnn\u001b[39;00m\u001b[38;5;21;01m.\u001b[39;00m\u001b[38;5;21;01mautobackend\u001b[39;00m \u001b[38;5;28;01mimport\u001b[39;00m check_class_names\n\u001b[0;32m     20\u001b[0m \u001b[38;5;28;01mfrom\u001b[39;00m \u001b[38;5;21;01multralytics\u001b[39;00m\u001b[38;5;21;01m.\u001b[39;00m\u001b[38;5;21;01mutils\u001b[39;00m \u001b[38;5;28;01mimport\u001b[39;00m (\n\u001b[0;32m     21\u001b[0m     DATASETS_DIR,\n\u001b[0;32m     22\u001b[0m     LOGGER,\n\u001b[1;32m   (...)\u001b[0m\n\u001b[0;32m     32\u001b[0m     yaml_save,\n\u001b[0;32m     33\u001b[0m )\n\u001b[0;32m     34\u001b[0m \u001b[38;5;28;01mfrom\u001b[39;00m \u001b[38;5;21;01multralytics\u001b[39;00m\u001b[38;5;21;01m.\u001b[39;00m\u001b[38;5;21;01mutils\u001b[39;00m\u001b[38;5;21;01m.\u001b[39;00m\u001b[38;5;21;01mchecks\u001b[39;00m \u001b[38;5;28;01mimport\u001b[39;00m check_file, check_font, is_ascii\n",
            "File \u001b[1;32mc:\\Users\\usuario\\AppData\\Local\\pypoetry\\Cache\\virtualenvs\\trainer-recognizemedications-1qL5VGYQ-py3.10\\lib\\site-packages\\ultralytics\\nn\\__init__.py:3\u001b[0m\n\u001b[0;32m      1\u001b[0m \u001b[38;5;66;03m# Ultralytics YOLO 🚀, AGPL-3.0 license\u001b[39;00m\n\u001b[1;32m----> 3\u001b[0m \u001b[38;5;28;01mfrom\u001b[39;00m \u001b[38;5;21;01m.\u001b[39;00m\u001b[38;5;21;01mtasks\u001b[39;00m \u001b[38;5;28;01mimport\u001b[39;00m (\n\u001b[0;32m      4\u001b[0m     BaseModel,\n\u001b[0;32m      5\u001b[0m     ClassificationModel,\n\u001b[0;32m      6\u001b[0m     DetectionModel,\n\u001b[0;32m      7\u001b[0m     SegmentationModel,\n\u001b[0;32m      8\u001b[0m     attempt_load_one_weight,\n\u001b[0;32m      9\u001b[0m     attempt_load_weights,\n\u001b[0;32m     10\u001b[0m     guess_model_scale,\n\u001b[0;32m     11\u001b[0m     guess_model_task,\n\u001b[0;32m     12\u001b[0m     parse_model,\n\u001b[0;32m     13\u001b[0m     torch_safe_load,\n\u001b[0;32m     14\u001b[0m     yaml_model_load,\n\u001b[0;32m     15\u001b[0m )\n\u001b[0;32m     17\u001b[0m __all__ \u001b[38;5;241m=\u001b[39m (\n\u001b[0;32m     18\u001b[0m     \u001b[38;5;124m\"\u001b[39m\u001b[38;5;124mattempt_load_one_weight\u001b[39m\u001b[38;5;124m\"\u001b[39m,\n\u001b[0;32m     19\u001b[0m     \u001b[38;5;124m\"\u001b[39m\u001b[38;5;124mattempt_load_weights\u001b[39m\u001b[38;5;124m\"\u001b[39m,\n\u001b[1;32m   (...)\u001b[0m\n\u001b[0;32m     28\u001b[0m     \u001b[38;5;124m\"\u001b[39m\u001b[38;5;124mBaseModel\u001b[39m\u001b[38;5;124m\"\u001b[39m,\n\u001b[0;32m     29\u001b[0m )\n",
            "File \u001b[1;32mc:\\Users\\usuario\\AppData\\Local\\pypoetry\\Cache\\virtualenvs\\trainer-recognizemedications-1qL5VGYQ-py3.10\\lib\\site-packages\\ultralytics\\nn\\tasks.py:10\u001b[0m\n\u001b[0;32m      7\u001b[0m \u001b[38;5;28;01mimport\u001b[39;00m \u001b[38;5;21;01mtorch\u001b[39;00m\n\u001b[0;32m      8\u001b[0m \u001b[38;5;28;01mimport\u001b[39;00m \u001b[38;5;21;01mtorch\u001b[39;00m\u001b[38;5;21;01m.\u001b[39;00m\u001b[38;5;21;01mnn\u001b[39;00m \u001b[38;5;28;01mas\u001b[39;00m \u001b[38;5;21;01mnn\u001b[39;00m\n\u001b[1;32m---> 10\u001b[0m \u001b[38;5;28;01mfrom\u001b[39;00m \u001b[38;5;21;01multralytics\u001b[39;00m\u001b[38;5;21;01m.\u001b[39;00m\u001b[38;5;21;01mnn\u001b[39;00m\u001b[38;5;21;01m.\u001b[39;00m\u001b[38;5;21;01mmodules\u001b[39;00m \u001b[38;5;28;01mimport\u001b[39;00m (\n\u001b[0;32m     11\u001b[0m     AIFI,\n\u001b[0;32m     12\u001b[0m     C1,\n\u001b[0;32m     13\u001b[0m     C2,\n\u001b[0;32m     14\u001b[0m     C3,\n\u001b[0;32m     15\u001b[0m     C3TR,\n\u001b[0;32m     16\u001b[0m     ELAN1,\n\u001b[0;32m     17\u001b[0m     OBB,\n\u001b[0;32m     18\u001b[0m     PSA,\n\u001b[0;32m     19\u001b[0m     SPP,\n\u001b[0;32m     20\u001b[0m     SPPELAN,\n\u001b[0;32m     21\u001b[0m     SPPF,\n\u001b[0;32m     22\u001b[0m     AConv,\n\u001b[0;32m     23\u001b[0m     ADown,\n\u001b[0;32m     24\u001b[0m     Bottleneck,\n\u001b[0;32m     25\u001b[0m     BottleneckCSP,\n\u001b[0;32m     26\u001b[0m     C2f,\n\u001b[0;32m     27\u001b[0m     C2fAttn,\n\u001b[0;32m     28\u001b[0m     C2fCIB,\n\u001b[0;32m     29\u001b[0m     C3Ghost,\n\u001b[0;32m     30\u001b[0m     C3x,\n\u001b[0;32m     31\u001b[0m     CBFuse,\n\u001b[0;32m     32\u001b[0m     CBLinear,\n\u001b[0;32m     33\u001b[0m     Classify,\n\u001b[0;32m     34\u001b[0m     Concat,\n\u001b[0;32m     35\u001b[0m     Conv,\n\u001b[0;32m     36\u001b[0m     Conv2,\n\u001b[0;32m     37\u001b[0m     ConvTranspose,\n\u001b[0;32m     38\u001b[0m     Detect,\n\u001b[0;32m     39\u001b[0m     DWConv,\n\u001b[0;32m     40\u001b[0m     DWConvTranspose2d,\n\u001b[0;32m     41\u001b[0m     Focus,\n\u001b[0;32m     42\u001b[0m     GhostBottleneck,\n\u001b[0;32m     43\u001b[0m     GhostConv,\n\u001b[0;32m     44\u001b[0m     HGBlock,\n\u001b[0;32m     45\u001b[0m     HGStem,\n\u001b[0;32m     46\u001b[0m     ImagePoolingAttn,\n\u001b[0;32m     47\u001b[0m     Pose,\n\u001b[0;32m     48\u001b[0m     RepC3,\n\u001b[0;32m     49\u001b[0m     RepConv,\n\u001b[0;32m     50\u001b[0m     RepNCSPELAN4,\n\u001b[0;32m     51\u001b[0m     RepVGGDW,\n\u001b[0;32m     52\u001b[0m     ResNetLayer,\n\u001b[0;32m     53\u001b[0m     RTDETRDecoder,\n\u001b[0;32m     54\u001b[0m     SCDown,\n\u001b[0;32m     55\u001b[0m     Segment,\n\u001b[0;32m     56\u001b[0m     WorldDetect,\n\u001b[0;32m     57\u001b[0m     v10Detect,\n\u001b[0;32m     58\u001b[0m )\n\u001b[0;32m     59\u001b[0m \u001b[38;5;28;01mfrom\u001b[39;00m \u001b[38;5;21;01multralytics\u001b[39;00m\u001b[38;5;21;01m.\u001b[39;00m\u001b[38;5;21;01mutils\u001b[39;00m \u001b[38;5;28;01mimport\u001b[39;00m DEFAULT_CFG_DICT, DEFAULT_CFG_KEYS, LOGGER, colorstr, emojis, yaml_load\n\u001b[0;32m     60\u001b[0m \u001b[38;5;28;01mfrom\u001b[39;00m \u001b[38;5;21;01multralytics\u001b[39;00m\u001b[38;5;21;01m.\u001b[39;00m\u001b[38;5;21;01mutils\u001b[39;00m\u001b[38;5;21;01m.\u001b[39;00m\u001b[38;5;21;01mchecks\u001b[39;00m \u001b[38;5;28;01mimport\u001b[39;00m check_requirements, check_suffix, check_yaml\n",
            "File \u001b[1;32mc:\\Users\\usuario\\AppData\\Local\\pypoetry\\Cache\\virtualenvs\\trainer-recognizemedications-1qL5VGYQ-py3.10\\lib\\site-packages\\ultralytics\\nn\\modules\\__init__.py:20\u001b[0m\n\u001b[0;32m      1\u001b[0m \u001b[38;5;66;03m# Ultralytics YOLO 🚀, AGPL-3.0 license\u001b[39;00m\n\u001b[0;32m      2\u001b[0m \u001b[38;5;124;03m\"\"\"\u001b[39;00m\n\u001b[0;32m      3\u001b[0m \u001b[38;5;124;03mUltralytics modules.\u001b[39;00m\n\u001b[0;32m      4\u001b[0m \n\u001b[1;32m   (...)\u001b[0m\n\u001b[0;32m     17\u001b[0m \u001b[38;5;124;03m    ```\u001b[39;00m\n\u001b[0;32m     18\u001b[0m \u001b[38;5;124;03m\"\"\"\u001b[39;00m\n\u001b[1;32m---> 20\u001b[0m \u001b[38;5;28;01mfrom\u001b[39;00m \u001b[38;5;21;01m.\u001b[39;00m\u001b[38;5;21;01mblock\u001b[39;00m \u001b[38;5;28;01mimport\u001b[39;00m (\n\u001b[0;32m     21\u001b[0m     C1,\n\u001b[0;32m     22\u001b[0m     C2,\n\u001b[0;32m     23\u001b[0m     C3,\n\u001b[0;32m     24\u001b[0m     C3TR,\n\u001b[0;32m     25\u001b[0m     CIB,\n\u001b[0;32m     26\u001b[0m     DFL,\n\u001b[0;32m     27\u001b[0m     ELAN1,\n\u001b[0;32m     28\u001b[0m     PSA,\n\u001b[0;32m     29\u001b[0m     SPP,\n\u001b[0;32m     30\u001b[0m     SPPELAN,\n\u001b[0;32m     31\u001b[0m     SPPF,\n\u001b[0;32m     32\u001b[0m     AConv,\n\u001b[0;32m     33\u001b[0m     ADown,\n\u001b[0;32m     34\u001b[0m     Attention,\n\u001b[0;32m     35\u001b[0m     BNContrastiveHead,\n\u001b[0;32m     36\u001b[0m     Bottleneck,\n\u001b[0;32m     37\u001b[0m     BottleneckCSP,\n\u001b[0;32m     38\u001b[0m     C2f,\n\u001b[0;32m     39\u001b[0m     C2fAttn,\n\u001b[0;32m     40\u001b[0m     C2fCIB,\n\u001b[0;32m     41\u001b[0m     C3Ghost,\n\u001b[0;32m     42\u001b[0m     C3x,\n\u001b[0;32m     43\u001b[0m     CBFuse,\n\u001b[0;32m     44\u001b[0m     CBLinear,\n\u001b[0;32m     45\u001b[0m     ContrastiveHead,\n\u001b[0;32m     46\u001b[0m     GhostBottleneck,\n\u001b[0;32m     47\u001b[0m     HGBlock,\n\u001b[0;32m     48\u001b[0m     HGStem,\n\u001b[0;32m     49\u001b[0m     ImagePoolingAttn,\n\u001b[0;32m     50\u001b[0m     Proto,\n\u001b[0;32m     51\u001b[0m     RepC3,\n\u001b[0;32m     52\u001b[0m     RepNCSPELAN4,\n\u001b[0;32m     53\u001b[0m     RepVGGDW,\n\u001b[0;32m     54\u001b[0m     ResNetLayer,\n\u001b[0;32m     55\u001b[0m     SCDown,\n\u001b[0;32m     56\u001b[0m )\n\u001b[0;32m     57\u001b[0m \u001b[38;5;28;01mfrom\u001b[39;00m \u001b[38;5;21;01m.\u001b[39;00m\u001b[38;5;21;01mconv\u001b[39;00m \u001b[38;5;28;01mimport\u001b[39;00m (\n\u001b[0;32m     58\u001b[0m     CBAM,\n\u001b[0;32m     59\u001b[0m     ChannelAttention,\n\u001b[1;32m   (...)\u001b[0m\n\u001b[0;32m     70\u001b[0m     SpatialAttention,\n\u001b[0;32m     71\u001b[0m )\n\u001b[0;32m     72\u001b[0m \u001b[38;5;28;01mfrom\u001b[39;00m \u001b[38;5;21;01m.\u001b[39;00m\u001b[38;5;21;01mhead\u001b[39;00m \u001b[38;5;28;01mimport\u001b[39;00m OBB, Classify, Detect, Pose, RTDETRDecoder, Segment, WorldDetect, v10Detect\n",
            "File \u001b[1;32mc:\\Users\\usuario\\AppData\\Local\\pypoetry\\Cache\\virtualenvs\\trainer-recognizemedications-1qL5VGYQ-py3.10\\lib\\site-packages\\ultralytics\\nn\\modules\\block.py:8\u001b[0m\n\u001b[0;32m      5\u001b[0m \u001b[38;5;28;01mimport\u001b[39;00m \u001b[38;5;21;01mtorch\u001b[39;00m\u001b[38;5;21;01m.\u001b[39;00m\u001b[38;5;21;01mnn\u001b[39;00m \u001b[38;5;28;01mas\u001b[39;00m \u001b[38;5;21;01mnn\u001b[39;00m\n\u001b[0;32m      6\u001b[0m \u001b[38;5;28;01mimport\u001b[39;00m \u001b[38;5;21;01mtorch\u001b[39;00m\u001b[38;5;21;01m.\u001b[39;00m\u001b[38;5;21;01mnn\u001b[39;00m\u001b[38;5;21;01m.\u001b[39;00m\u001b[38;5;21;01mfunctional\u001b[39;00m \u001b[38;5;28;01mas\u001b[39;00m \u001b[38;5;21;01mF\u001b[39;00m\n\u001b[1;32m----> 8\u001b[0m \u001b[38;5;28;01mfrom\u001b[39;00m \u001b[38;5;21;01multralytics\u001b[39;00m\u001b[38;5;21;01m.\u001b[39;00m\u001b[38;5;21;01mutils\u001b[39;00m\u001b[38;5;21;01m.\u001b[39;00m\u001b[38;5;21;01mtorch_utils\u001b[39;00m \u001b[38;5;28;01mimport\u001b[39;00m fuse_conv_and_bn\n\u001b[0;32m     10\u001b[0m \u001b[38;5;28;01mfrom\u001b[39;00m \u001b[38;5;21;01m.\u001b[39;00m\u001b[38;5;21;01mconv\u001b[39;00m \u001b[38;5;28;01mimport\u001b[39;00m Conv, DWConv, GhostConv, LightConv, RepConv, autopad\n\u001b[0;32m     11\u001b[0m \u001b[38;5;28;01mfrom\u001b[39;00m \u001b[38;5;21;01m.\u001b[39;00m\u001b[38;5;21;01mtransformer\u001b[39;00m \u001b[38;5;28;01mimport\u001b[39;00m TransformerBlock\n",
            "File \u001b[1;32mc:\\Users\\usuario\\AppData\\Local\\pypoetry\\Cache\\virtualenvs\\trainer-recognizemedications-1qL5VGYQ-py3.10\\lib\\site-packages\\ultralytics\\utils\\__init__.py:21\u001b[0m\n\u001b[0;32m     18\u001b[0m \u001b[38;5;28;01mfrom\u001b[39;00m \u001b[38;5;21;01mtyping\u001b[39;00m \u001b[38;5;28;01mimport\u001b[39;00m Union\n\u001b[0;32m     20\u001b[0m \u001b[38;5;28;01mimport\u001b[39;00m \u001b[38;5;21;01mcv2\u001b[39;00m\n\u001b[1;32m---> 21\u001b[0m \u001b[38;5;28;01mimport\u001b[39;00m \u001b[38;5;21;01mmatplotlib\u001b[39;00m\u001b[38;5;21;01m.\u001b[39;00m\u001b[38;5;21;01mpyplot\u001b[39;00m \u001b[38;5;28;01mas\u001b[39;00m \u001b[38;5;21;01mplt\u001b[39;00m\n\u001b[0;32m     22\u001b[0m \u001b[38;5;28;01mimport\u001b[39;00m \u001b[38;5;21;01mnumpy\u001b[39;00m \u001b[38;5;28;01mas\u001b[39;00m \u001b[38;5;21;01mnp\u001b[39;00m\n\u001b[0;32m     23\u001b[0m \u001b[38;5;28;01mimport\u001b[39;00m \u001b[38;5;21;01mtorch\u001b[39;00m\n",
            "File \u001b[1;32mc:\\Users\\usuario\\AppData\\Local\\pypoetry\\Cache\\virtualenvs\\trainer-recognizemedications-1qL5VGYQ-py3.10\\lib\\site-packages\\matplotlib\\__init__.py:981\u001b[0m\n\u001b[0;32m    974\u001b[0m     \u001b[38;5;28;01mreturn\u001b[39;00m config\n\u001b[0;32m    977\u001b[0m \u001b[38;5;66;03m# When constructing the global instances, we need to perform certain updates\u001b[39;00m\n\u001b[0;32m    978\u001b[0m \u001b[38;5;66;03m# by explicitly calling the superclass (dict.update, dict.items) to avoid\u001b[39;00m\n\u001b[0;32m    979\u001b[0m \u001b[38;5;66;03m# triggering resolution of _auto_backend_sentinel.\u001b[39;00m\n\u001b[0;32m    980\u001b[0m rcParamsDefault \u001b[38;5;241m=\u001b[39m _rc_params_in_file(\n\u001b[1;32m--> 981\u001b[0m     \u001b[43mcbook\u001b[49m\u001b[38;5;241;43m.\u001b[39;49m\u001b[43m_get_data_path\u001b[49m\u001b[43m(\u001b[49m\u001b[38;5;124;43m\"\u001b[39;49m\u001b[38;5;124;43mmatplotlibrc\u001b[39;49m\u001b[38;5;124;43m\"\u001b[39;49m\u001b[43m)\u001b[49m,\n\u001b[0;32m    982\u001b[0m     \u001b[38;5;66;03m# Strip leading comment.\u001b[39;00m\n\u001b[0;32m    983\u001b[0m     transform\u001b[38;5;241m=\u001b[39m\u001b[38;5;28;01mlambda\u001b[39;00m line: line[\u001b[38;5;241m1\u001b[39m:] \u001b[38;5;28;01mif\u001b[39;00m line\u001b[38;5;241m.\u001b[39mstartswith(\u001b[38;5;124m\"\u001b[39m\u001b[38;5;124m#\u001b[39m\u001b[38;5;124m\"\u001b[39m) \u001b[38;5;28;01melse\u001b[39;00m line,\n\u001b[0;32m    984\u001b[0m     fail_on_error\u001b[38;5;241m=\u001b[39m\u001b[38;5;28;01mTrue\u001b[39;00m)\n\u001b[0;32m    985\u001b[0m \u001b[38;5;28mdict\u001b[39m\u001b[38;5;241m.\u001b[39mupdate(rcParamsDefault, rcsetup\u001b[38;5;241m.\u001b[39m_hardcoded_defaults)\n\u001b[0;32m    986\u001b[0m \u001b[38;5;66;03m# Normally, the default matplotlibrc file contains *no* entry for backend (the\u001b[39;00m\n\u001b[0;32m    987\u001b[0m \u001b[38;5;66;03m# corresponding line starts with ##, not #; we fill on _auto_backend_sentinel\u001b[39;00m\n\u001b[0;32m    988\u001b[0m \u001b[38;5;66;03m# in that case.  However, packagers can set a different default backend\u001b[39;00m\n\u001b[0;32m    989\u001b[0m \u001b[38;5;66;03m# (resulting in a normal `#backend: foo` line) in which case we should *not*\u001b[39;00m\n\u001b[0;32m    990\u001b[0m \u001b[38;5;66;03m# fill in _auto_backend_sentinel.\u001b[39;00m\n",
            "File \u001b[1;32mc:\\Users\\usuario\\AppData\\Local\\pypoetry\\Cache\\virtualenvs\\trainer-recognizemedications-1qL5VGYQ-py3.10\\lib\\site-packages\\matplotlib\\cbook.py:545\u001b[0m, in \u001b[0;36m_get_data_path\u001b[1;34m(*args)\u001b[0m\n\u001b[0;32m    539\u001b[0m \u001b[38;5;28;01mdef\u001b[39;00m \u001b[38;5;21m_get_data_path\u001b[39m(\u001b[38;5;241m*\u001b[39margs):\n\u001b[0;32m    540\u001b[0m \u001b[38;5;250m    \u001b[39m\u001b[38;5;124;03m\"\"\"\u001b[39;00m\n\u001b[0;32m    541\u001b[0m \u001b[38;5;124;03m    Return the `pathlib.Path` to a resource file provided by Matplotlib.\u001b[39;00m\n\u001b[0;32m    542\u001b[0m \n\u001b[0;32m    543\u001b[0m \u001b[38;5;124;03m    ``*args`` specify a path relative to the base data path.\u001b[39;00m\n\u001b[0;32m    544\u001b[0m \u001b[38;5;124;03m    \"\"\"\u001b[39;00m\n\u001b[1;32m--> 545\u001b[0m     \u001b[38;5;28;01mreturn\u001b[39;00m Path(\u001b[43mmatplotlib\u001b[49m\u001b[38;5;241;43m.\u001b[39;49m\u001b[43mget_data_path\u001b[49m(), \u001b[38;5;241m*\u001b[39margs)\n",
            "\u001b[1;31mAttributeError\u001b[0m: module 'matplotlib' has no attribute 'get_data_path'"
          ]
        }
      ],
      "source": [
        "from ultralytics import YOLO\n",
        "\n",
        "model = YOLO(\"yolov8n.pt\")\n",
        "\n",
        "# Verificar el dispositivo\n",
        "device = next(model.parameters()).device\n",
        "print(f\"Model is running on {device}\")\n",
        "\n",
        "# Forzar el uso de la GPU\n",
        "model.to(\"cuda\")\n",
        "\n",
        "results = model.train(\n",
        "    data=\"C:\\\\Users\\\\usuario\\\\Pictures\\\\CODELAB\\\\Trainer_RecognizeMedications\\\\dataset\\\\data.yaml\",\n",
        "    epochs=20,\n",
        "    imgsz=640,\n",
        "    device=0,\n",
        ")\n"
      ]
    },
    {
      "cell_type": "code",
      "execution_count": 1,
      "id": "990508f4",
      "metadata": {},
      "outputs": [
        {
          "name": "stdout",
          "output_type": "stream",
          "text": [
            "Model is running on cpu\n",
            "Ultralytics YOLOv8.2.45  Python-3.10.11 torch-2.0.1+cu118 CUDA:0 (NVIDIA GeForce RTX 3060, 12288MiB)\n",
            "\u001b[34m\u001b[1mengine\\trainer: \u001b[0mtask=detect, mode=train, model=yolov8n.pt, data=C:\\Users\\usuario\\Pictures\\CODELAB\\Trainer_RecognizeMedications\\dataset\\data.yaml, epochs=20, time=None, patience=100, batch=16, imgsz=640, save=True, save_period=-1, cache=False, device=0, workers=8, project=None, name=train12, exist_ok=False, pretrained=True, optimizer=auto, verbose=True, seed=0, deterministic=True, single_cls=False, rect=False, cos_lr=False, close_mosaic=10, resume=False, amp=True, fraction=1.0, profile=False, freeze=None, multi_scale=False, overlap_mask=True, mask_ratio=4, dropout=0.0, val=True, split=val, save_json=False, save_hybrid=False, conf=None, iou=0.7, max_det=300, half=False, dnn=False, plots=True, source=None, vid_stride=1, stream_buffer=False, visualize=False, augment=False, agnostic_nms=False, classes=None, retina_masks=False, embed=None, show=False, save_frames=False, save_txt=False, save_conf=False, save_crop=False, show_labels=True, show_conf=True, show_boxes=True, line_width=None, format=torchscript, keras=False, optimize=False, int8=False, dynamic=False, simplify=False, opset=None, workspace=4, nms=False, lr0=0.01, lrf=0.01, momentum=0.937, weight_decay=0.0005, warmup_epochs=3.0, warmup_momentum=0.8, warmup_bias_lr=0.1, box=7.5, cls=0.5, dfl=1.5, pose=12.0, kobj=1.0, label_smoothing=0.0, nbs=64, hsv_h=0.015, hsv_s=0.7, hsv_v=0.4, degrees=0.0, translate=0.1, scale=0.5, shear=0.0, perspective=0.0, flipud=0.0, fliplr=0.5, bgr=0.0, mosaic=1.0, mixup=0.0, copy_paste=0.0, auto_augment=randaugment, erasing=0.4, crop_fraction=1.0, cfg=None, tracker=botsort.yaml, save_dir=runs\\detect\\train12\n",
            "Overriding model.yaml nc=80 with nc=10\n",
            "\n",
            "                   from  n    params  module                                       arguments                     \n",
            "  0                  -1  1       464  ultralytics.nn.modules.conv.Conv             [3, 16, 3, 2]                 \n",
            "  1                  -1  1      4672  ultralytics.nn.modules.conv.Conv             [16, 32, 3, 2]                \n",
            "  2                  -1  1      7360  ultralytics.nn.modules.block.C2f             [32, 32, 1, True]             \n",
            "  3                  -1  1     18560  ultralytics.nn.modules.conv.Conv             [32, 64, 3, 2]                \n",
            "  4                  -1  2     49664  ultralytics.nn.modules.block.C2f             [64, 64, 2, True]             \n",
            "  5                  -1  1     73984  ultralytics.nn.modules.conv.Conv             [64, 128, 3, 2]               \n",
            "  6                  -1  2    197632  ultralytics.nn.modules.block.C2f             [128, 128, 2, True]           \n",
            "  7                  -1  1    295424  ultralytics.nn.modules.conv.Conv             [128, 256, 3, 2]              \n",
            "  8                  -1  1    460288  ultralytics.nn.modules.block.C2f             [256, 256, 1, True]           \n",
            "  9                  -1  1    164608  ultralytics.nn.modules.block.SPPF            [256, 256, 5]                 \n",
            " 10                  -1  1         0  torch.nn.modules.upsampling.Upsample         [None, 2, 'nearest']          \n",
            " 11             [-1, 6]  1         0  ultralytics.nn.modules.conv.Concat           [1]                           \n",
            " 12                  -1  1    148224  ultralytics.nn.modules.block.C2f             [384, 128, 1]                 \n",
            " 13                  -1  1         0  torch.nn.modules.upsampling.Upsample         [None, 2, 'nearest']          \n",
            " 14             [-1, 4]  1         0  ultralytics.nn.modules.conv.Concat           [1]                           \n",
            " 15                  -1  1     37248  ultralytics.nn.modules.block.C2f             [192, 64, 1]                  \n",
            " 16                  -1  1     36992  ultralytics.nn.modules.conv.Conv             [64, 64, 3, 2]                \n",
            " 17            [-1, 12]  1         0  ultralytics.nn.modules.conv.Concat           [1]                           \n",
            " 18                  -1  1    123648  ultralytics.nn.modules.block.C2f             [192, 128, 1]                 \n",
            " 19                  -1  1    147712  ultralytics.nn.modules.conv.Conv             [128, 128, 3, 2]              \n",
            " 20             [-1, 9]  1         0  ultralytics.nn.modules.conv.Concat           [1]                           \n",
            " 21                  -1  1    493056  ultralytics.nn.modules.block.C2f             [384, 256, 1]                 \n",
            " 22        [15, 18, 21]  1    753262  ultralytics.nn.modules.head.Detect           [10, [64, 128, 256]]          \n",
            "Model summary: 225 layers, 3012798 parameters, 3012782 gradients, 8.2 GFLOPs\n",
            "\n",
            "Transferred 319/355 items from pretrained weights\n",
            "Freezing layer 'model.22.dfl.conv.weight'\n",
            "\u001b[34m\u001b[1mAMP: \u001b[0mrunning Automatic Mixed Precision (AMP) checks with YOLOv8n...\n",
            "\u001b[34m\u001b[1mAMP: \u001b[0mchecks passed \n"
          ]
        },
        {
          "name": "stderr",
          "output_type": "stream",
          "text": [
            "\u001b[34m\u001b[1mtrain: \u001b[0mScanning C:\\Users\\usuario\\Pictures\\CODELAB\\Trainer_RecognizeMedications\\dataset\\train\\labels... 1185 images, 0 backgrounds, 0 corrupt: 100%|██████████| 1185/1185 [00:00<00:00, 1396.39it/s]\n"
          ]
        },
        {
          "name": "stdout",
          "output_type": "stream",
          "text": [
            "\u001b[34m\u001b[1mtrain: \u001b[0mNew cache created: C:\\Users\\usuario\\Pictures\\CODELAB\\Trainer_RecognizeMedications\\dataset\\train\\labels.cache\n"
          ]
        },
        {
          "name": "stderr",
          "output_type": "stream",
          "text": [
            "\u001b[34m\u001b[1mval: \u001b[0mScanning C:\\Users\\usuario\\Pictures\\CODELAB\\Trainer_RecognizeMedications\\dataset\\valid\\labels... 114 images, 0 backgrounds, 0 corrupt: 100%|██████████| 114/114 [00:00<00:00, 930.40it/s]"
          ]
        },
        {
          "name": "stdout",
          "output_type": "stream",
          "text": [
            "\u001b[34m\u001b[1mval: \u001b[0mNew cache created: C:\\Users\\usuario\\Pictures\\CODELAB\\Trainer_RecognizeMedications\\dataset\\valid\\labels.cache\n"
          ]
        },
        {
          "name": "stderr",
          "output_type": "stream",
          "text": [
            "\n"
          ]
        },
        {
          "name": "stdout",
          "output_type": "stream",
          "text": [
            "Plotting labels to runs\\detect\\train12\\labels.jpg... \n",
            "\u001b[34m\u001b[1moptimizer:\u001b[0m 'optimizer=auto' found, ignoring 'lr0=0.01' and 'momentum=0.937' and determining best 'optimizer', 'lr0' and 'momentum' automatically... \n",
            "\u001b[34m\u001b[1moptimizer:\u001b[0m AdamW(lr=0.000714, momentum=0.9) with parameter groups 57 weight(decay=0.0), 64 weight(decay=0.0005), 63 bias(decay=0.0)\n",
            "Image sizes 640 train, 640 val\n",
            "Using 8 dataloader workers\n",
            "Logging results to \u001b[1mruns\\detect\\train12\u001b[0m\n",
            "Starting training for 20 epochs...\n",
            "\n",
            "      Epoch    GPU_mem   box_loss   cls_loss   dfl_loss  Instances       Size\n"
          ]
        },
        {
          "name": "stderr",
          "output_type": "stream",
          "text": [
            "       1/20      2.26G     0.6931       3.36      1.094          1        640: 100%|██████████| 75/75 [00:09<00:00,  8.32it/s]\n",
            "                 Class     Images  Instances      Box(P          R      mAP50  mAP50-95): 100%|██████████| 4/4 [00:00<00:00,  6.32it/s]"
          ]
        },
        {
          "name": "stdout",
          "output_type": "stream",
          "text": [
            "                   all        114        121      0.737      0.458      0.742      0.689\n"
          ]
        },
        {
          "name": "stderr",
          "output_type": "stream",
          "text": [
            "\n"
          ]
        },
        {
          "name": "stdout",
          "output_type": "stream",
          "text": [
            "\n",
            "      Epoch    GPU_mem   box_loss   cls_loss   dfl_loss  Instances       Size\n"
          ]
        },
        {
          "name": "stderr",
          "output_type": "stream",
          "text": [
            "       2/20      2.41G     0.5867       1.72       1.01          2        640: 100%|██████████| 75/75 [00:07<00:00,  9.49it/s]\n",
            "                 Class     Images  Instances      Box(P          R      mAP50  mAP50-95): 100%|██████████| 4/4 [00:00<00:00,  7.98it/s]"
          ]
        },
        {
          "name": "stdout",
          "output_type": "stream",
          "text": [
            "                   all        114        121      0.839      0.799      0.885      0.796\n"
          ]
        },
        {
          "name": "stderr",
          "output_type": "stream",
          "text": [
            "\n"
          ]
        },
        {
          "name": "stdout",
          "output_type": "stream",
          "text": [
            "\n",
            "      Epoch    GPU_mem   box_loss   cls_loss   dfl_loss  Instances       Size\n"
          ]
        },
        {
          "name": "stderr",
          "output_type": "stream",
          "text": [
            "       3/20      2.41G     0.5635      1.349          1          2        640: 100%|██████████| 75/75 [00:07<00:00,  9.60it/s]\n",
            "                 Class     Images  Instances      Box(P          R      mAP50  mAP50-95): 100%|██████████| 4/4 [00:00<00:00,  8.71it/s]"
          ]
        },
        {
          "name": "stdout",
          "output_type": "stream",
          "text": [
            "                   all        114        121      0.929      0.911       0.93      0.869\n"
          ]
        },
        {
          "name": "stderr",
          "output_type": "stream",
          "text": [
            "\n"
          ]
        },
        {
          "name": "stdout",
          "output_type": "stream",
          "text": [
            "\n",
            "      Epoch    GPU_mem   box_loss   cls_loss   dfl_loss  Instances       Size\n"
          ]
        },
        {
          "name": "stderr",
          "output_type": "stream",
          "text": [
            "       4/20       2.4G     0.5456      1.116     0.9751          3        640: 100%|██████████| 75/75 [00:07<00:00,  9.61it/s]\n",
            "                 Class     Images  Instances      Box(P          R      mAP50  mAP50-95): 100%|██████████| 4/4 [00:00<00:00,  8.46it/s]"
          ]
        },
        {
          "name": "stdout",
          "output_type": "stream",
          "text": [
            "                   all        114        121      0.949      0.915      0.931      0.865\n"
          ]
        },
        {
          "name": "stderr",
          "output_type": "stream",
          "text": [
            "\n"
          ]
        },
        {
          "name": "stdout",
          "output_type": "stream",
          "text": [
            "\n",
            "      Epoch    GPU_mem   box_loss   cls_loss   dfl_loss  Instances       Size\n"
          ]
        },
        {
          "name": "stderr",
          "output_type": "stream",
          "text": [
            "       5/20      2.41G     0.5185     0.9913     0.9635          4        640: 100%|██████████| 75/75 [00:07<00:00,  9.61it/s]\n",
            "                 Class     Images  Instances      Box(P          R      mAP50  mAP50-95): 100%|██████████| 4/4 [00:00<00:00,  8.77it/s]"
          ]
        },
        {
          "name": "stdout",
          "output_type": "stream",
          "text": [
            "                   all        114        121      0.985      0.931      0.931      0.873\n"
          ]
        },
        {
          "name": "stderr",
          "output_type": "stream",
          "text": [
            "\n"
          ]
        },
        {
          "name": "stdout",
          "output_type": "stream",
          "text": [
            "\n",
            "      Epoch    GPU_mem   box_loss   cls_loss   dfl_loss  Instances       Size\n"
          ]
        },
        {
          "name": "stderr",
          "output_type": "stream",
          "text": [
            "       6/20      2.28G     0.5048     0.8608     0.9524          3        640: 100%|██████████| 75/75 [00:07<00:00,  9.64it/s]\n",
            "                 Class     Images  Instances      Box(P          R      mAP50  mAP50-95): 100%|██████████| 4/4 [00:00<00:00,  8.95it/s]"
          ]
        },
        {
          "name": "stdout",
          "output_type": "stream",
          "text": [
            "                   all        114        121      0.966      0.934      0.931      0.884\n"
          ]
        },
        {
          "name": "stderr",
          "output_type": "stream",
          "text": [
            "\n"
          ]
        },
        {
          "name": "stdout",
          "output_type": "stream",
          "text": [
            "\n",
            "      Epoch    GPU_mem   box_loss   cls_loss   dfl_loss  Instances       Size\n"
          ]
        },
        {
          "name": "stderr",
          "output_type": "stream",
          "text": [
            "       7/20      2.41G     0.4811     0.7907     0.9466          1        640: 100%|██████████| 75/75 [00:07<00:00,  9.63it/s]\n",
            "                 Class     Images  Instances      Box(P          R      mAP50  mAP50-95): 100%|██████████| 4/4 [00:00<00:00,  9.09it/s]"
          ]
        },
        {
          "name": "stdout",
          "output_type": "stream",
          "text": [
            "                   all        114        121      0.982      0.931      0.933      0.897\n"
          ]
        },
        {
          "name": "stderr",
          "output_type": "stream",
          "text": [
            "\n"
          ]
        },
        {
          "name": "stdout",
          "output_type": "stream",
          "text": [
            "\n",
            "      Epoch    GPU_mem   box_loss   cls_loss   dfl_loss  Instances       Size\n"
          ]
        },
        {
          "name": "stderr",
          "output_type": "stream",
          "text": [
            "       8/20       2.4G     0.4737     0.7263     0.9393          4        640: 100%|██████████| 75/75 [00:07<00:00,  9.63it/s]\n",
            "                 Class     Images  Instances      Box(P          R      mAP50  mAP50-95): 100%|██████████| 4/4 [00:00<00:00,  9.13it/s]"
          ]
        },
        {
          "name": "stdout",
          "output_type": "stream",
          "text": [
            "                   all        114        121      0.977      0.934      0.931       0.89\n"
          ]
        },
        {
          "name": "stderr",
          "output_type": "stream",
          "text": [
            "\n"
          ]
        },
        {
          "name": "stdout",
          "output_type": "stream",
          "text": [
            "\n",
            "      Epoch    GPU_mem   box_loss   cls_loss   dfl_loss  Instances       Size\n"
          ]
        },
        {
          "name": "stderr",
          "output_type": "stream",
          "text": [
            "       9/20      2.41G     0.4563     0.6527     0.9379          3        640: 100%|██████████| 75/75 [00:07<00:00,  9.61it/s]\n",
            "                 Class     Images  Instances      Box(P          R      mAP50  mAP50-95): 100%|██████████| 4/4 [00:00<00:00,  9.24it/s]"
          ]
        },
        {
          "name": "stdout",
          "output_type": "stream",
          "text": [
            "                   all        114        121      0.989      0.932      0.935      0.884\n"
          ]
        },
        {
          "name": "stderr",
          "output_type": "stream",
          "text": [
            "\n"
          ]
        },
        {
          "name": "stdout",
          "output_type": "stream",
          "text": [
            "\n",
            "      Epoch    GPU_mem   box_loss   cls_loss   dfl_loss  Instances       Size\n"
          ]
        },
        {
          "name": "stderr",
          "output_type": "stream",
          "text": [
            "      10/20      2.41G      0.446     0.6392     0.9293          2        640: 100%|██████████| 75/75 [00:07<00:00,  9.58it/s]\n",
            "                 Class     Images  Instances      Box(P          R      mAP50  mAP50-95): 100%|██████████| 4/4 [00:00<00:00,  9.17it/s]"
          ]
        },
        {
          "name": "stdout",
          "output_type": "stream",
          "text": [
            "                   all        114        121      0.993      0.934      0.933      0.903\n"
          ]
        },
        {
          "name": "stderr",
          "output_type": "stream",
          "text": [
            "\n"
          ]
        },
        {
          "name": "stdout",
          "output_type": "stream",
          "text": [
            "Closing dataloader mosaic\n",
            "\n",
            "      Epoch    GPU_mem   box_loss   cls_loss   dfl_loss  Instances       Size\n"
          ]
        },
        {
          "name": "stderr",
          "output_type": "stream",
          "text": [
            "      11/20      2.41G     0.3828     0.6787     0.9115          1        640: 100%|██████████| 75/75 [00:08<00:00,  9.05it/s]\n",
            "                 Class     Images  Instances      Box(P          R      mAP50  mAP50-95): 100%|██████████| 4/4 [00:00<00:00,  9.07it/s]"
          ]
        },
        {
          "name": "stdout",
          "output_type": "stream",
          "text": [
            "                   all        114        121      0.988      0.934      0.938      0.907\n"
          ]
        },
        {
          "name": "stderr",
          "output_type": "stream",
          "text": [
            "\n"
          ]
        },
        {
          "name": "stdout",
          "output_type": "stream",
          "text": [
            "\n",
            "      Epoch    GPU_mem   box_loss   cls_loss   dfl_loss  Instances       Size\n"
          ]
        },
        {
          "name": "stderr",
          "output_type": "stream",
          "text": [
            "      12/20       2.4G     0.3717     0.6015     0.9034          1        640: 100%|██████████| 75/75 [00:07<00:00,  9.59it/s]\n",
            "                 Class     Images  Instances      Box(P          R      mAP50  mAP50-95): 100%|██████████| 4/4 [00:00<00:00,  9.22it/s]"
          ]
        },
        {
          "name": "stdout",
          "output_type": "stream",
          "text": [
            "                   all        114        121      0.994      0.934      0.932      0.904\n"
          ]
        },
        {
          "name": "stderr",
          "output_type": "stream",
          "text": [
            "\n"
          ]
        },
        {
          "name": "stdout",
          "output_type": "stream",
          "text": [
            "\n",
            "      Epoch    GPU_mem   box_loss   cls_loss   dfl_loss  Instances       Size\n"
          ]
        },
        {
          "name": "stderr",
          "output_type": "stream",
          "text": [
            "      13/20      2.41G     0.3753     0.5414     0.9095          1        640: 100%|██████████| 75/75 [00:07<00:00,  9.60it/s]\n",
            "                 Class     Images  Instances      Box(P          R      mAP50  mAP50-95): 100%|██████████| 4/4 [00:00<00:00,  9.21it/s]"
          ]
        },
        {
          "name": "stdout",
          "output_type": "stream",
          "text": [
            "                   all        114        121      0.992      0.934      0.932      0.904\n"
          ]
        },
        {
          "name": "stderr",
          "output_type": "stream",
          "text": [
            "\n"
          ]
        },
        {
          "name": "stdout",
          "output_type": "stream",
          "text": [
            "\n",
            "      Epoch    GPU_mem   box_loss   cls_loss   dfl_loss  Instances       Size\n"
          ]
        },
        {
          "name": "stderr",
          "output_type": "stream",
          "text": [
            "      14/20      2.41G     0.3571     0.5215     0.8899          1        640: 100%|██████████| 75/75 [00:07<00:00,  9.57it/s]\n",
            "                 Class     Images  Instances      Box(P          R      mAP50  mAP50-95): 100%|██████████| 4/4 [00:00<00:00,  9.11it/s]"
          ]
        },
        {
          "name": "stdout",
          "output_type": "stream",
          "text": [
            "                   all        114        121      0.991      0.934      0.932      0.914\n"
          ]
        },
        {
          "name": "stderr",
          "output_type": "stream",
          "text": [
            "\n"
          ]
        },
        {
          "name": "stdout",
          "output_type": "stream",
          "text": [
            "\n",
            "      Epoch    GPU_mem   box_loss   cls_loss   dfl_loss  Instances       Size\n"
          ]
        },
        {
          "name": "stderr",
          "output_type": "stream",
          "text": [
            "      15/20      2.41G     0.3395     0.4717     0.8972          1        640: 100%|██████████| 75/75 [00:07<00:00,  9.56it/s]\n",
            "                 Class     Images  Instances      Box(P          R      mAP50  mAP50-95): 100%|██████████| 4/4 [00:00<00:00,  9.21it/s]"
          ]
        },
        {
          "name": "stdout",
          "output_type": "stream",
          "text": [
            "                   all        114        121      0.994      0.934      0.933      0.913\n"
          ]
        },
        {
          "name": "stderr",
          "output_type": "stream",
          "text": [
            "\n"
          ]
        },
        {
          "name": "stdout",
          "output_type": "stream",
          "text": [
            "\n",
            "      Epoch    GPU_mem   box_loss   cls_loss   dfl_loss  Instances       Size\n"
          ]
        },
        {
          "name": "stderr",
          "output_type": "stream",
          "text": [
            "      16/20      2.39G     0.3338     0.4539     0.8874          1        640: 100%|██████████| 75/75 [00:07<00:00,  9.59it/s]\n",
            "                 Class     Images  Instances      Box(P          R      mAP50  mAP50-95): 100%|██████████| 4/4 [00:00<00:00,  9.39it/s]"
          ]
        },
        {
          "name": "stdout",
          "output_type": "stream",
          "text": [
            "                   all        114        121      0.994      0.934      0.934      0.922\n"
          ]
        },
        {
          "name": "stderr",
          "output_type": "stream",
          "text": [
            "\n"
          ]
        },
        {
          "name": "stdout",
          "output_type": "stream",
          "text": [
            "\n",
            "      Epoch    GPU_mem   box_loss   cls_loss   dfl_loss  Instances       Size\n"
          ]
        },
        {
          "name": "stderr",
          "output_type": "stream",
          "text": [
            "      17/20      2.41G     0.3169     0.4264     0.8797          1        640: 100%|██████████| 75/75 [00:07<00:00,  9.62it/s]\n",
            "                 Class     Images  Instances      Box(P          R      mAP50  mAP50-95): 100%|██████████| 4/4 [00:00<00:00,  9.43it/s]"
          ]
        },
        {
          "name": "stdout",
          "output_type": "stream",
          "text": [
            "                   all        114        121      0.994      0.934      0.936      0.921\n"
          ]
        },
        {
          "name": "stderr",
          "output_type": "stream",
          "text": [
            "\n"
          ]
        },
        {
          "name": "stdout",
          "output_type": "stream",
          "text": [
            "\n",
            "      Epoch    GPU_mem   box_loss   cls_loss   dfl_loss  Instances       Size\n"
          ]
        },
        {
          "name": "stderr",
          "output_type": "stream",
          "text": [
            "      18/20      2.27G      0.302     0.4088     0.8685          1        640: 100%|██████████| 75/75 [00:07<00:00,  9.65it/s]\n",
            "                 Class     Images  Instances      Box(P          R      mAP50  mAP50-95): 100%|██████████| 4/4 [00:00<00:00,  9.43it/s]"
          ]
        },
        {
          "name": "stdout",
          "output_type": "stream",
          "text": [
            "                   all        114        121      0.994      0.934      0.937      0.927\n"
          ]
        },
        {
          "name": "stderr",
          "output_type": "stream",
          "text": [
            "\n"
          ]
        },
        {
          "name": "stdout",
          "output_type": "stream",
          "text": [
            "\n",
            "      Epoch    GPU_mem   box_loss   cls_loss   dfl_loss  Instances       Size\n"
          ]
        },
        {
          "name": "stderr",
          "output_type": "stream",
          "text": [
            "      19/20      2.41G     0.2942     0.3897      0.858          1        640: 100%|██████████| 75/75 [00:07<00:00,  9.62it/s]\n",
            "                 Class     Images  Instances      Box(P          R      mAP50  mAP50-95): 100%|██████████| 4/4 [00:00<00:00,  9.39it/s]"
          ]
        },
        {
          "name": "stdout",
          "output_type": "stream",
          "text": [
            "                   all        114        121      0.994      0.934      0.936      0.922\n"
          ]
        },
        {
          "name": "stderr",
          "output_type": "stream",
          "text": [
            "\n"
          ]
        },
        {
          "name": "stdout",
          "output_type": "stream",
          "text": [
            "\n",
            "      Epoch    GPU_mem   box_loss   cls_loss   dfl_loss  Instances       Size\n"
          ]
        },
        {
          "name": "stderr",
          "output_type": "stream",
          "text": [
            "      20/20      2.39G      0.283     0.3712     0.8565          1        640: 100%|██████████| 75/75 [00:07<00:00,  9.61it/s]\n",
            "                 Class     Images  Instances      Box(P          R      mAP50  mAP50-95): 100%|██████████| 4/4 [00:00<00:00,  9.43it/s]"
          ]
        },
        {
          "name": "stdout",
          "output_type": "stream",
          "text": [
            "                   all        114        121      0.994      0.934      0.937      0.929\n"
          ]
        },
        {
          "name": "stderr",
          "output_type": "stream",
          "text": [
            "\n"
          ]
        },
        {
          "name": "stdout",
          "output_type": "stream",
          "text": [
            "\n",
            "20 epochs completed in 0.052 hours.\n",
            "Optimizer stripped from runs\\detect\\train12\\weights\\last.pt, 6.2MB\n",
            "Optimizer stripped from runs\\detect\\train12\\weights\\best.pt, 6.2MB\n",
            "\n",
            "Validating runs\\detect\\train12\\weights\\best.pt...\n",
            "Ultralytics YOLOv8.2.45  Python-3.10.11 torch-2.0.1+cu118 CUDA:0 (NVIDIA GeForce RTX 3060, 12288MiB)\n",
            "Model summary (fused): 168 layers, 3007598 parameters, 0 gradients, 8.1 GFLOPs\n"
          ]
        },
        {
          "name": "stderr",
          "output_type": "stream",
          "text": [
            "                 Class     Images  Instances      Box(P          R      mAP50  mAP50-95): 100%|██████████| 4/4 [00:00<00:00,  5.74it/s]\n"
          ]
        },
        {
          "name": "stdout",
          "output_type": "stream",
          "text": [
            "                   all        114        121      0.994      0.934      0.937      0.927\n",
            "           ALKASELTZER         13         15      0.994      0.733      0.768      0.742\n",
            "          ASPIRINA_100         11         11      0.992          1      0.995      0.964\n",
            "             BUSCAPINA         10         10      0.993          1      0.995      0.995\n",
            "           DOLEX_GRIPA         13         13      0.994      0.846      0.853      0.853\n",
            "              GAVISCON         13         13      0.995      0.846      0.855      0.843\n",
            "       IBUFLASH_MIGRAN         12         12      0.996          1      0.995      0.984\n",
            "     IBUPROFENO_GENFAR         13         13      0.995          1      0.995      0.984\n",
            "        LEVONORGESTREL         11         11      0.994          1      0.995      0.995\n",
            "     NORAVER_GRIPA_DIA         11         11      0.996          1      0.995      0.995\n",
            "              VITAC_MK         12         12      0.995      0.917       0.92       0.92\n",
            "Speed: 0.7ms preprocess, 1.6ms inference, 0.0ms loss, 0.5ms postprocess per image\n",
            "Results saved to \u001b[1mruns\\detect\\train12\u001b[0m\n"
          ]
        }
      ],
      "source": [
        "from ultralytics import YOLO\n",
        "\n",
        "model = YOLO(\"yolov8n.pt\")\n",
        "\n",
        "# Verificar el dispositivo\n",
        "device = next(model.parameters()).device\n",
        "print(f\"Model is running on {device}\")\n",
        "\n",
        "# Forzar el uso de la GPU\n",
        "model.to(\"cuda\")\n",
        "\n",
        "results = model.train(\n",
        "    data=\"C:\\\\Users\\\\usuario\\\\Pictures\\\\CODELAB\\\\Trainer_RecognizeMedications\\\\dataset\\\\data.yaml\",\n",
        "    epochs=20,\n",
        "    imgsz=640,\n",
        "    device=0,\n",
        ")\n"
      ]
    },
    {
      "cell_type": "code",
      "execution_count": null,
      "id": "0566844e",
      "metadata": {},
      "outputs": [],
      "source": [
        "import torch\n",
        "\n",
        "torch.cuda.is_available()\n"
      ]
    },
    {
      "cell_type": "markdown",
      "id": "dff25c61",
      "metadata": {},
      "source": [
        "Version GPU: RTX3060\n",
        "`pip3 install torch torchvision torchaudio --index-url https://download.pytorch.org/whl/cu118`"
      ]
    },
    {
      "cell_type": "code",
      "execution_count": null,
      "id": "d5bf496c-65c0-4bc8-b076-e626ad5d87cf",
      "metadata": {
        "colab": {
          "base_uri": "https://localhost:8080/"
        },
        "id": "d5bf496c-65c0-4bc8-b076-e626ad5d87cf",
        "outputId": "0b869061-16e4-4a92-a73e-f749ee1cbd66"
      },
      "outputs": [],
      "source": [
        "# Validate model\n",
        "\n",
        "from ultralytics import YOLO\n",
        "\n",
        "# Load a model\n",
        "model = YOLO(\"runs/detect/train/weights/best.pt\")  # load a custom model\n",
        "\n",
        "# Validate the model\n",
        "metrics = model.val()  # no arguments needed, dataset and settings remembered\n",
        "metrics.box.map  # map50-95\n",
        "metrics.box.map50  # map50\n",
        "metrics.box.map75  # map75\n",
        "metrics.box.maps  # a list contains map50-95 of each category"
      ]
    },
    {
      "cell_type": "code",
      "execution_count": null,
      "id": "28af2e54-9d78-4da5-8fa7-137344fcfd3f",
      "metadata": {
        "colab": {
          "base_uri": "https://localhost:8080/"
        },
        "id": "28af2e54-9d78-4da5-8fa7-137344fcfd3f",
        "outputId": "8f3b4b76-4e06-4c58-93f8-6c09d3fce663"
      },
      "outputs": [],
      "source": [
        "#  Prediction using trained model\n",
        "import os\n",
        "from ultralytics import YOLO\n",
        "\n",
        "image_dir = \"/content/dataset/test/images\"\n",
        "\n",
        "# Check if the directory exists\n",
        "if os.path.exists(image_dir):\n",
        "    # Run inference if the directory exists\n",
        "    model.predict(image_dir, save=True, imgsz=640, conf=0.2)\n",
        "else:\n",
        "    print(f\"Error: The specified path '{image_dir}' does not exist.\")\n",
        "\n",
        "# Load a pretrained YOLOv8n model\n",
        "model = YOLO(\"runs/detect/train/weights/best.pt\")\n",
        "\n",
        "# Run inference\n",
        "model.predict(\"/content/dataset/test/images\", save=True, imgsz=640, conf=0.2)"
      ]
    },
    {
      "cell_type": "code",
      "execution_count": null,
      "id": "2f3d815e-d7ad-4f2d-b540-b3039f1230e1",
      "metadata": {
        "colab": {
          "base_uri": "https://localhost:8080/",
          "height": 1000
        },
        "id": "2f3d815e-d7ad-4f2d-b540-b3039f1230e1",
        "outputId": "8a4531bd-9d67-4e67-97ae-78703e23aea1"
      },
      "outputs": [],
      "source": [
        "#  Export model to tflite\n",
        "\n",
        "\n",
        "from ultralytics import YOLO\n",
        "\n",
        "# Load a model\n",
        "model = YOLO(\"runs/detect/train/weights/best.pt\")  # load a custom trained model\n",
        "\n",
        "# Export the model\n",
        "model.export(format=\"tflite\")"
      ]
    },
    {
      "cell_type": "code",
      "execution_count": null,
      "id": "MjnVvQCe08T9",
      "metadata": {
        "colab": {
          "base_uri": "https://localhost:8080/"
        },
        "id": "MjnVvQCe08T9",
        "outputId": "3b9a2c6f-01aa-4be6-b9af-1f091770ec15"
      },
      "outputs": [],
      "source": [
        "from google.colab import drive\n",
        "\n",
        "drive.mount(\"/content/drive\")"
      ]
    },
    {
      "cell_type": "code",
      "execution_count": null,
      "id": "b3aae33b-b14a-43f6-861f-3e0f2d21407f",
      "metadata": {
        "id": "b3aae33b-b14a-43f6-861f-3e0f2d21407f"
      },
      "outputs": [],
      "source": [
        "# Prediction using custom tflite model\n",
        "\n",
        "#  Prediction using trained model\n",
        "\n",
        "from ultralytics import YOLO\n",
        "\n",
        "# Load a pretrained YOLOv8n model\n",
        "model = YOLO(\"runs\\\\detect\\\\train3\\\\weights\\\\best_saved_model\\\\best_float32.tflite\")\n",
        "\n",
        "# Run inference\n",
        "model.predict(\"test_images\", save=True, imgsz=640, conf=0.2)"
      ]
    },
    {
      "cell_type": "code",
      "execution_count": null,
      "id": "6340d01d-6c54-4989-9f04-91206888e37a",
      "metadata": {
        "colab": {
          "base_uri": "https://localhost:8080/"
        },
        "id": "6340d01d-6c54-4989-9f04-91206888e37a",
        "outputId": "b597654c-b7cc-474f-a11d-96615405a63e"
      },
      "outputs": [],
      "source": [
        "!python --version"
      ]
    }
  ],
  "metadata": {
    "accelerator": "GPU",
    "colab": {
      "gpuType": "T4",
      "provenance": []
    },
    "kernelspec": {
      "display_name": "Python 3",
      "name": "python3"
    },
    "language_info": {
      "codemirror_mode": {
        "name": "ipython",
        "version": 3
      },
      "file_extension": ".py",
      "mimetype": "text/x-python",
      "name": "python",
      "nbconvert_exporter": "python",
      "pygments_lexer": "ipython3",
      "version": "3.10.11"
    }
  },
  "nbformat": 4,
  "nbformat_minor": 5
}
