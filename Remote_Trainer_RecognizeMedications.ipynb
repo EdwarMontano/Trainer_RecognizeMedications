{
  "cells": [
    {
      "cell_type": "markdown",
      "metadata": {
        "id": "view-in-github",
        "colab_type": "text"
      },
      "source": [
        "<a href=\"https://colab.research.google.com/github/EdwarMontano/Trainer_RecognizeMedications/blob/main/Remote_Trainer_RecognizeMedications.ipynb\" target=\"_parent\"><img src=\"https://colab.research.google.com/assets/colab-badge.svg\" alt=\"Open In Colab\"/></a>"
      ]
    },
    {
      "cell_type": "markdown",
      "id": "AjwTYSDZJtw8",
      "metadata": {
        "id": "AjwTYSDZJtw8"
      },
      "source": [
        "<table>\n",
        "<tbody>\n",
        "<tr>\n",
        "<td><img width=\"100px\" src=\"https://upload.wikimedia.org/wikipedia/commons/e/eb/Univalle.svg\" alt=\"Univalle\"> </td>\n",
        "<td><img width=\"220px\" src=\"https://i.ibb.co/6vdWxb4/PSI-LOGO.png\" alt=\"PSI\"></td>\n",
        "</tr>\n",
        "</tbody>\n",
        "</table>\n",
        "\n",
        "# Como Entrenar un modelo con de reconocimiento de medicamentos con  YOLOv8 con etiquetaas cuadro delimintadores orientados\n",
        "\n",
        "---\n",
        "[![GitHub](https://badges.aleen42.com/src/github.svg)](https://github.com/EdwarMontano/Trainer_RecognizeMedications)\n",
        "\n",
        "## Consejo: Utiliza la aceleración por GPU\n",
        "\n",
        "Si está ejecutando este cuaderno en Google Colab, vaya a `Editar` -> `Configuraciones de Notebook ` -> `Aceleración por Hardware `, configurarlo en `GPU`, y luego hacer clic en `Guardar`. Esto garantizará que tu cuaderno utilice una GPU, lo que acelerará significativamente los tiempos de entrenamiento del modelo.\n",
        "\n",
        "## Pasos de este tutorial\n",
        "\n",
        "En este tutorial, vamos a cubrir:\n",
        "\n",
        "- Verificar que nuestro entorno de Colab tenga una GPU\n",
        "- Instalar YOLOv8\n",
        "- Preparar un conjunto de datos\n",
        "- Entrenar un modelo YOLOv8 OBB\n",
        "- Ejecutar la inferencia en nuestro modelo\n",
        "\n",
        "¡Sin más preámbulos, comencemos!"
      ]
    },
    {
      "cell_type": "markdown",
      "id": "zac82RmgNFWh",
      "metadata": {
        "id": "zac82RmgNFWh"
      },
      "source": [
        "## Antes de empezar\n",
        "\n",
        "Asegurémonos de que tenemos acceso a la GPU. Para ello podemos usar el comando `nvidia-smi`. En caso de cualquier problema navegue a `Edit` -> `Notebook settings` -> `Hardware accelerator`, póngalo en `GPU`, y pulse `Save`."
      ]
    },
    {
      "cell_type": "code",
      "execution_count": null,
      "id": "K8Vs7h5INXkg",
      "metadata": {
        "id": "K8Vs7h5INXkg"
      },
      "outputs": [],
      "source": [
        "!nvidia-smi"
      ]
    },
    {
      "cell_type": "code",
      "execution_count": null,
      "id": "p6n1oRxYN3up",
      "metadata": {
        "id": "p6n1oRxYN3up"
      },
      "outputs": [],
      "source": [
        "import os\n",
        "HOME = os.getcwd()\n",
        "print(HOME)"
      ]
    },
    {
      "cell_type": "markdown",
      "id": "VBnePt35OPLV",
      "metadata": {
        "id": "VBnePt35OPLV"
      },
      "source": [
        "## Install YOLOv8\n",
        "\n",
        "To install YOL0v8, run the following command:"
      ]
    },
    {
      "cell_type": "code",
      "execution_count": null,
      "id": "g_jXt_DXp0tG",
      "metadata": {
        "id": "g_jXt_DXp0tG"
      },
      "outputs": [],
      "source": [
        "!pip install ultralytics -q\n",
        "!pip install optuna -q\n",
        "!pip install roboflow --quiet"
      ]
    },
    {
      "cell_type": "code",
      "execution_count": null,
      "id": "8kOEDtsniq06",
      "metadata": {
        "id": "8kOEDtsniq06"
      },
      "outputs": [],
      "source": [
        "# Load the TensorBoard notebook extension\n",
        "%load_ext tensorboard"
      ]
    },
    {
      "cell_type": "code",
      "execution_count": null,
      "id": "fDiwZRMjOJsK",
      "metadata": {
        "id": "fDiwZRMjOJsK"
      },
      "outputs": [],
      "source": [
        "import ultralytics\n",
        "ultralytics.checks()"
      ]
    },
    {
      "cell_type": "markdown",
      "id": "KhPUsYFlQPSY",
      "metadata": {
        "id": "KhPUsYFlQPSY"
      },
      "source": [
        "## Preparar un conjunto de datos personalizado\n",
        "\n",
        "Construir un conjunto de datos personalizado puede ser un proceso tedioso. Puede tomar docenas o incluso cientos de horas recolectar imágenes, etiquetarlas y exportarlas en el formato adecuado. Afortunadamente, Roboflow hace que este proceso sea lo más sencillo y rápido posible. ¡Déjanos mostrarte cómo!"
      ]
    },
    {
      "cell_type": "markdown",
      "id": "7KO-yXapPx7T",
      "metadata": {
        "id": "7KO-yXapPx7T"
      },
      "source": [
        "\n",
        "### Paso 1: Crear un proyecto\n",
        "\n",
        "Antes de comenzar, necesitas crear una [cuenta](https://app.roboflow.com/login) en Roboflow. Una vez que lo hagas, puedes crear un nuevo proyecto en el [panel de control](https://app.roboflow.com/) de Roboflow. Elige \"Detección de Objetos\" como el tipo de proyecto.\n",
        "\n",
        "<img src=\"https://github.com/EdwarMontano/Trainer_RecognizeMedications/assets/52388306/3afa0b1b-5629-491f-b145-9f7ba9a77325\" alt=\"Detección de objetos seleccionada en el cuadro de diálogo Crear Proyecto de Roboflow\" height=\"300\" />\n",
        "\n",
        "### Paso 2: Subir imágenes\n",
        "\n",
        "A continuación, añade los datos a tu proyecto recién creado. Puedes hacerlo a través de la API o mediante nuestra [interfaz web](https://docs.roboflow.com/adding-data/object-detection).\n",
        "\n",
        "Si arrastras y sueltas un directorio con un conjunto de datos en un formato compatible, el panel de control de Roboflow leerá automáticamente las imágenes y anotaciones juntos.\n",
        "\n",
        "<img src=\"https://github.com/EdwarMontano/Trainer_RecognizeMedications/assets/52388306/40dd4aec-8756-4852-bcb9-cfc316bb1e3a\" alt=\"Subiendo imágenes a Roboflow\" height=\"300\" />\n",
        "\n",
        "### Paso 3: Etiquetar datos\n",
        "\n",
        "Si solo tienes imágenes, puedes etiquetarlas con cuadros delimitadores orientados en [Roboflow Annotate](https://docs.roboflow.com/annotate).\n",
        "\n",
        "**Para etiquetar un cuadro delimitador orientado, usa nuestra herramienta de anotación de polígonos.**\n",
        "\n",
        "También puedes tomar un conjunto de datos de segmentación existente de tu espacio de trabajo o de Roboflow Universe y exportarlo como OBB.\n",
        "\n",
        "<img src=\"https://github.com/EdwarMontano/Trainer_RecognizeMedications/assets/52388306/9b0e7c1e-b71f-4d71-ac3a-6d4b0261d8d3\" alt=\"Anotar una imagen\" height=\"300\" />\n",
        "\n",
        "### Paso 4: Generar una nueva versión del conjunto de datos\n",
        "\n",
        "Ahora que tenemos nuestras imágenes y anotaciones añadidas, podemos generar una versión del conjunto de datos. Al generar una versión, puedes optar por añadir preprocesamiento y aumentos. Este paso es completamente opcional, sin embargo, puede permitirte mejorar significativamente la robustez de tu modelo.\n",
        "\n",
        "<img src=\"https://github.com/EdwarMontano/Trainer_RecognizeMedications/assets/52388306/9a88edc9-6e0f-48c6-9f53-5683d846bb55\" alt=\"Generar una versión del conjunto de datos\" height=\"300\" />\n",
        "\n",
        "### Paso 5: Exportar conjunto de datos\n",
        "\n",
        "Una vez que se genera la versión del conjunto de datos, podemos descargarla para usarla en el entrenamiento de un modelo.\n",
        "\n",
        "![Generar una versión del conjunto de datos](https://media.roboflow.com/keypoint/export.png)"
      ]
    },
    {
      "cell_type": "markdown",
      "id": "g5i86zGhUg4P",
      "metadata": {
        "id": "g5i86zGhUg4P"
      },
      "source": [
        "## Cargar Dataset"
      ]
    },
    {
      "cell_type": "code",
      "execution_count": null,
      "id": "yC8Z1wamU8Ct",
      "metadata": {
        "id": "yC8Z1wamU8Ct"
      },
      "outputs": [],
      "source": [
        "!mkdir {HOME}/datasets\n",
        "%cd {HOME}/datasets\n",
        "\n",
        "\n",
        "import roboflow\n",
        "\n",
        "roboflow.login()\n",
        "\n",
        "rf = roboflow.Roboflow()\n",
        "\n",
        "project = rf.workspace(\"uv-ipsi6\").project(\"recognice-medications-boxes\")\n",
        "dataset = project.version(5).download(\"yolov8-obb\")\n",
        "\n",
        "import yaml\n",
        "\n",
        "with open(f'{dataset.location}/data.yaml', 'r') as file:\n",
        "    data = yaml.safe_load(file)\n",
        "\n",
        "data['path'] = dataset.location\n",
        "\n",
        "with open(f'{dataset.location}/data.yaml', 'w') as file:\n",
        "    yaml.dump(data, file, sort_keys=False)"
      ]
    },
    {
      "cell_type": "code",
      "execution_count": null,
      "id": "2G8sgVB6fkQG",
      "metadata": {
        "id": "2G8sgVB6fkQG"
      },
      "outputs": [],
      "source": [
        "model = YOLO(\"yolov8n.pt\")\n",
        "\n",
        "# Tune hyperparameters on COCO8 for 30 epochs\n",
        "model.tune(data=\"coco8.yaml\", epochs=2, iterations=10, optimizer=\"AdamW\", plots=False, save=False, val=False)\n"
      ]
    },
    {
      "cell_type": "code",
      "execution_count": null,
      "id": "5e27dd71-2b43-48bf-9f05-eba66c1afe50",
      "metadata": {
        "id": "5e27dd71-2b43-48bf-9f05-eba66c1afe50"
      },
      "outputs": [],
      "source": [
        "from ultralytics import YOLO\n",
        "\n",
        "# Load a model\n",
        "model = YOLO('yolov8n.pt')  # load a pretrained model (recommended for training)\n",
        "\n",
        "# Train the model with 2 GPUs\n",
        "results = model.train(data='/content/dataset/data.yaml', epochs=200, imgsz=640, device=0)"
      ]
    },
    {
      "cell_type": "code",
      "execution_count": null,
      "id": "YyTyiIrIjUmL",
      "metadata": {
        "id": "YyTyiIrIjUmL"
      },
      "outputs": [],
      "source": [
        "%tensorboard --logdir logs"
      ]
    },
    {
      "cell_type": "code",
      "execution_count": null,
      "id": "d5bf496c-65c0-4bc8-b076-e626ad5d87cf",
      "metadata": {
        "id": "d5bf496c-65c0-4bc8-b076-e626ad5d87cf"
      },
      "outputs": [],
      "source": [
        "# Validate model\n",
        "\n",
        "from ultralytics import YOLO\n",
        "\n",
        "# Load a model\n",
        "model = YOLO('runs/detect/train/weights/best.pt')  # load a custom model\n",
        "\n",
        "# Validate the model\n",
        "metrics = model.val()  # no arguments needed, dataset and settings remembered\n",
        "metrics.box.map    # map50-95\n",
        "metrics.box.map50  # map50\n",
        "metrics.box.map75  # map75\n",
        "metrics.box.maps   # a list contains map50-95 of each category"
      ]
    },
    {
      "cell_type": "code",
      "execution_count": null,
      "id": "28af2e54-9d78-4da5-8fa7-137344fcfd3f",
      "metadata": {
        "id": "28af2e54-9d78-4da5-8fa7-137344fcfd3f"
      },
      "outputs": [],
      "source": [
        "#  Prediction using trained model\n",
        "import os\n",
        "from ultralytics import YOLO\n",
        "\n",
        "image_dir = '/content/dataset/test/images'\n",
        "\n",
        "# Check if the directory exists\n",
        "if os.path.exists(image_dir):\n",
        "    # Run inference if the directory exists\n",
        "    model.predict(image_dir, save=True, imgsz=640, conf=0.2)\n",
        "else:\n",
        "    print(f\"Error: The specified path '{image_dir}' does not exist.\")\n",
        "\n",
        "# Load a pretrained YOLOv8n model\n",
        "model = YOLO('runs/detect/train/weights/best.pt')\n",
        "\n",
        "# Run inference\n",
        "model.predict('/content/dataset/test/images', save=True, imgsz=640, conf=0.2)"
      ]
    },
    {
      "cell_type": "code",
      "execution_count": null,
      "id": "2f3d815e-d7ad-4f2d-b540-b3039f1230e1",
      "metadata": {
        "id": "2f3d815e-d7ad-4f2d-b540-b3039f1230e1"
      },
      "outputs": [],
      "source": [
        "#  Export model to tflite\n",
        "\n",
        "\n",
        "from ultralytics import YOLO\n",
        "\n",
        "# Load a model\n",
        "model = YOLO('runs/detect/train/weights/best.pt')  # load a custom trained model\n",
        "\n",
        "# Export the model\n",
        "model.export(format='tflite')"
      ]
    },
    {
      "cell_type": "code",
      "execution_count": null,
      "id": "MjnVvQCe08T9",
      "metadata": {
        "id": "MjnVvQCe08T9"
      },
      "outputs": [],
      "source": [
        "from google.colab import drive\n",
        "drive.mount('/content/drive')"
      ]
    },
    {
      "cell_type": "code",
      "execution_count": null,
      "id": "b3aae33b-b14a-43f6-861f-3e0f2d21407f",
      "metadata": {
        "id": "b3aae33b-b14a-43f6-861f-3e0f2d21407f"
      },
      "outputs": [],
      "source": [
        "# Prediction using custom tflite model\n",
        "\n",
        "#  Prediction using trained model\n",
        "\n",
        "from ultralytics import YOLO\n",
        "\n",
        "# Load a pretrained YOLOv8n model\n",
        "model = YOLO('runs\\\\detect\\\\train3\\\\weights\\\\best_saved_model\\\\best_float32.tflite')\n",
        "\n",
        "# Run inference\n",
        "model.predict('test_images', save=True, imgsz=640, conf=0.2)"
      ]
    },
    {
      "cell_type": "code",
      "execution_count": null,
      "id": "6340d01d-6c54-4989-9f04-91206888e37a",
      "metadata": {
        "id": "6340d01d-6c54-4989-9f04-91206888e37a"
      },
      "outputs": [],
      "source": [
        "!python --version"
      ]
    }
  ],
  "metadata": {
    "accelerator": "GPU",
    "colab": {
      "gpuType": "T4",
      "provenance": [],
      "include_colab_link": true
    },
    "kernelspec": {
      "display_name": "Python 3",
      "name": "python3"
    },
    "language_info": {
      "codemirror_mode": {
        "name": "ipython",
        "version": 3
      },
      "file_extension": ".py",
      "mimetype": "text/x-python",
      "name": "python",
      "nbconvert_exporter": "python",
      "pygments_lexer": "ipython3",
      "version": "3.10.9"
    }
  },
  "nbformat": 4,
  "nbformat_minor": 5
}